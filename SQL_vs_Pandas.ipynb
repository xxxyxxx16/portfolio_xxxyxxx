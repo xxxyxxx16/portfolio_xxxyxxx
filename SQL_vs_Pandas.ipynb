{
 "cells": [
  {
   "cell_type": "markdown",
   "metadata": {},
   "source": [
    "# 1. Эксперимент #"
   ]
  },
  {
   "cell_type": "markdown",
   "metadata": {},
   "source": [
    "Цель работы - освоение алгоритмов классификации на наборе данных, полученных методом Монте Карло. Набор данных представляет собой 3 класса. Каждый класс имеет два признака - время замедления нейтрона и число столкновений."
   ]
  },
  {
   "cell_type": "markdown",
   "metadata": {},
   "source": [
    "## Блок нейтронной физики ##"
   ]
  },
  {
   "cell_type": "code",
   "execution_count": 1,
   "metadata": {},
   "outputs": [],
   "source": [
    "import pandas as pd\n",
    "import random as rd\n",
    "import math as math\n",
    "import scipy.constants as const # Модуль физико-математических констант\n",
    "\n",
    "# отключим предупреждения Anaconda\n",
    "import warnings\n",
    "warnings.simplefilter('ignore')\n",
    "\n",
    "N_A = const.Avogadro"
   ]
  },
  {
   "cell_type": "markdown",
   "metadata": {},
   "source": [
    "### Функция жизни нейтрона: ###"
   ]
  },
  {
   "cell_type": "code",
   "execution_count": 2,
   "metadata": {},
   "outputs": [],
   "source": [
    "# Для одинаковой генерации данных\n",
    "rd.seed(42)\n",
    "\n",
    "def life_of_neutron(Ein, Eout, dens, A1, A2, Mol_m, Sigma, alpha_1, alpha_2, sigma_1, sigma_2, x1, x2):\n",
    "    \n",
    "    Energy = Ein\n",
    "    colision = 0 # Число столкновений\n",
    "    time = 0 # Время полета\n",
    "    a = 0 # Угол полета\n",
    "    b = 0 # Изменение угла полета\n",
    "    l = 0 # Длина пролета\n",
    "    V = 0 # Скорость\n",
    "    elder = 0 #Возраст\n",
    "    while Energy > Eout: #Пока энергия нейтрона лежит в области > ... ЭВ\n",
    "        l = -1*math.log(rd.random())/Sigma/100 # В метрах\n",
    "        V = (2*Energy*1.6*(10**(-19))/(1.6749*10**(-27)))**0.5 # В м/с\n",
    "        time += l/V\n",
    "        colision += 1\n",
    "        \n",
    "        #Разыгрывание на каком ядре произошло рассеяние\n",
    "        x = rd.random()\n",
    "        if x < (x1*sigma_1/(x1*sigma_1 + x2*sigma_2)):# Рассеяние на первом ядре\n",
    "            E1 = Energy\n",
    "            E2 = Energy*alpha_1\n",
    "            Energy = rd.uniform(E1, E2)\n",
    "            b = math.acos\n",
    "\n",
    "            \n",
    "        else:# Рассеяние на втором ядре\n",
    "            E1 = Energy\n",
    "            E2 = Energy*alpha_2\n",
    "            Energy = rd.uniform(E1, E2)\n",
    "\n",
    "    return colision, time"
   ]
  },
  {
   "cell_type": "markdown",
   "metadata": {},
   "source": [
    "### Входные данные по материалам: ###"
   ]
  },
  {
   "cell_type": "code",
   "execution_count": 3,
   "metadata": {},
   "outputs": [
    {
     "data": {
      "text/html": [
       "<div>\n",
       "<style scoped>\n",
       "    .dataframe tbody tr th:only-of-type {\n",
       "        vertical-align: middle;\n",
       "    }\n",
       "\n",
       "    .dataframe tbody tr th {\n",
       "        vertical-align: top;\n",
       "    }\n",
       "\n",
       "    .dataframe thead th {\n",
       "        text-align: right;\n",
       "    }\n",
       "</style>\n",
       "<table border=\"1\" class=\"dataframe\">\n",
       "  <thead>\n",
       "    <tr style=\"text-align: right;\">\n",
       "      <th></th>\n",
       "      <th>Material</th>\n",
       "      <th>Density g/cm^3</th>\n",
       "      <th>A_1</th>\n",
       "      <th>A_2</th>\n",
       "      <th>Molar mass g/mol</th>\n",
       "      <th>Chemical formula</th>\n",
       "      <th>sigma_1 b</th>\n",
       "      <th>sigma_2 b</th>\n",
       "      <th>x1</th>\n",
       "      <th>x2</th>\n",
       "    </tr>\n",
       "  </thead>\n",
       "  <tbody>\n",
       "    <tr>\n",
       "      <th>0</th>\n",
       "      <td>Water</td>\n",
       "      <td>1.0</td>\n",
       "      <td>1</td>\n",
       "      <td>16</td>\n",
       "      <td>18</td>\n",
       "      <td>H2O</td>\n",
       "      <td>30.0</td>\n",
       "      <td>4.0</td>\n",
       "      <td>2</td>\n",
       "      <td>1</td>\n",
       "    </tr>\n",
       "    <tr>\n",
       "      <th>1</th>\n",
       "      <td>Heavy Plexiglass</td>\n",
       "      <td>1.6</td>\n",
       "      <td>12</td>\n",
       "      <td>2</td>\n",
       "      <td>28</td>\n",
       "      <td>C2D2</td>\n",
       "      <td>4.9</td>\n",
       "      <td>3.5</td>\n",
       "      <td>2</td>\n",
       "      <td>2</td>\n",
       "    </tr>\n",
       "    <tr>\n",
       "      <th>2</th>\n",
       "      <td>Heavy Water</td>\n",
       "      <td>1.1</td>\n",
       "      <td>2</td>\n",
       "      <td>16</td>\n",
       "      <td>20</td>\n",
       "      <td>D2O</td>\n",
       "      <td>3.5</td>\n",
       "      <td>4.0</td>\n",
       "      <td>2</td>\n",
       "      <td>1</td>\n",
       "    </tr>\n",
       "  </tbody>\n",
       "</table>\n",
       "</div>"
      ],
      "text/plain": [
       "           Material  Density g/cm^3  A_1  A_2  Molar mass g/mol  \\\n",
       "0             Water             1.0    1   16                18   \n",
       "1  Heavy Plexiglass             1.6   12    2                28   \n",
       "2       Heavy Water             1.1    2   16                20   \n",
       "\n",
       "  Chemical formula  sigma_1 b  sigma_2 b  x1  x2  \n",
       "0              H2O       30.0        4.0   2   1  \n",
       "1             C2D2        4.9        3.5   2   2  \n",
       "2              D2O        3.5        4.0   2   1  "
      ]
     },
     "execution_count": 3,
     "metadata": {},
     "output_type": "execute_result"
    }
   ],
   "source": [
    "df = pd.DataFrame({'Material': ['Water', 'Heavy Plexiglass', 'Heavy Water'],\n",
    "                   'Density g/cm^3': [1.0, 1.6, 1.1],\n",
    "                    'A_1' : [1, 12, 2],\n",
    "                    'A_2' : [16, 2, 16],\n",
    "                    'Molar mass g/mol' : [18, 28, 20],\n",
    "                    'Chemical formula' : ['H2O', 'C2D2', 'D2O'],\n",
    "                    'sigma_1 b' : [30.0, 4.9, 3.5],\n",
    "                    'sigma_2 b' : [4.0, 3.5, 4.0],\n",
    "                    'x1' : [2, 2, 2],\n",
    "                    'x2' : [1, 2, 1],\n",
    "                    \n",
    "              })\n",
    "\n",
    "df"
   ]
  },
  {
   "cell_type": "markdown",
   "metadata": {},
   "source": [
    "### Расчет макросечения: ###"
   ]
  },
  {
   "cell_type": "code",
   "execution_count": 4,
   "metadata": {},
   "outputs": [
    {
     "data": {
      "text/html": [
       "<div>\n",
       "<style scoped>\n",
       "    .dataframe tbody tr th:only-of-type {\n",
       "        vertical-align: middle;\n",
       "    }\n",
       "\n",
       "    .dataframe tbody tr th {\n",
       "        vertical-align: top;\n",
       "    }\n",
       "\n",
       "    .dataframe thead th {\n",
       "        text-align: right;\n",
       "    }\n",
       "</style>\n",
       "<table border=\"1\" class=\"dataframe\">\n",
       "  <thead>\n",
       "    <tr style=\"text-align: right;\">\n",
       "      <th></th>\n",
       "      <th>Material</th>\n",
       "      <th>Density g/cm^3</th>\n",
       "      <th>A_1</th>\n",
       "      <th>A_2</th>\n",
       "      <th>Molar mass g/mol</th>\n",
       "      <th>Chemical formula</th>\n",
       "      <th>sigma_1 b</th>\n",
       "      <th>sigma_2 b</th>\n",
       "      <th>x1</th>\n",
       "      <th>x2</th>\n",
       "      <th>Σ, 1/cm</th>\n",
       "    </tr>\n",
       "  </thead>\n",
       "  <tbody>\n",
       "    <tr>\n",
       "      <th>0</th>\n",
       "      <td>Water</td>\n",
       "      <td>1.0</td>\n",
       "      <td>1</td>\n",
       "      <td>16</td>\n",
       "      <td>18</td>\n",
       "      <td>H2O</td>\n",
       "      <td>30.0</td>\n",
       "      <td>4.0</td>\n",
       "      <td>2</td>\n",
       "      <td>1</td>\n",
       "      <td>2.141206</td>\n",
       "    </tr>\n",
       "    <tr>\n",
       "      <th>1</th>\n",
       "      <td>Heavy Plexiglass</td>\n",
       "      <td>1.6</td>\n",
       "      <td>12</td>\n",
       "      <td>2</td>\n",
       "      <td>28</td>\n",
       "      <td>C2D2</td>\n",
       "      <td>4.9</td>\n",
       "      <td>3.5</td>\n",
       "      <td>2</td>\n",
       "      <td>2</td>\n",
       "      <td>0.578126</td>\n",
       "    </tr>\n",
       "    <tr>\n",
       "      <th>2</th>\n",
       "      <td>Heavy Water</td>\n",
       "      <td>1.1</td>\n",
       "      <td>2</td>\n",
       "      <td>16</td>\n",
       "      <td>20</td>\n",
       "      <td>D2O</td>\n",
       "      <td>3.5</td>\n",
       "      <td>4.0</td>\n",
       "      <td>2</td>\n",
       "      <td>1</td>\n",
       "      <td>0.364340</td>\n",
       "    </tr>\n",
       "  </tbody>\n",
       "</table>\n",
       "</div>"
      ],
      "text/plain": [
       "           Material  Density g/cm^3  A_1  A_2  Molar mass g/mol  \\\n",
       "0             Water             1.0    1   16                18   \n",
       "1  Heavy Plexiglass             1.6   12    2                28   \n",
       "2       Heavy Water             1.1    2   16                20   \n",
       "\n",
       "  Chemical formula  sigma_1 b  sigma_2 b  x1  x2   Σ, 1/cm  \n",
       "0              H2O       30.0        4.0   2   1  2.141206  \n",
       "1             C2D2        4.9        3.5   2   2  0.578126  \n",
       "2              D2O        3.5        4.0   2   1  0.364340  "
      ]
     },
     "metadata": {},
     "output_type": "display_data"
    }
   ],
   "source": [
    "df['\\u03A3, 1/cm'] = 0.0\n",
    "for k in df.index:\n",
    "    df['Σ, 1/cm'][k] = (df['x1'][k]*df['sigma_1 b'][k]+df['x2'][k]*df['sigma_2 b'][k]\n",
    "                       )*N_A*df['Density g/cm^3'][k]/df['Molar mass g/mol'][k]/10**(24)\n",
    "display(df)"
   ]
  },
  {
   "cell_type": "markdown",
   "metadata": {},
   "source": [
    "### Расчет ступеньки замедления: ###"
   ]
  },
  {
   "cell_type": "code",
   "execution_count": 5,
   "metadata": {},
   "outputs": [
    {
     "data": {
      "text/html": [
       "<div>\n",
       "<style scoped>\n",
       "    .dataframe tbody tr th:only-of-type {\n",
       "        vertical-align: middle;\n",
       "    }\n",
       "\n",
       "    .dataframe tbody tr th {\n",
       "        vertical-align: top;\n",
       "    }\n",
       "\n",
       "    .dataframe thead th {\n",
       "        text-align: right;\n",
       "    }\n",
       "</style>\n",
       "<table border=\"1\" class=\"dataframe\">\n",
       "  <thead>\n",
       "    <tr style=\"text-align: right;\">\n",
       "      <th></th>\n",
       "      <th>Material</th>\n",
       "      <th>Density g/cm^3</th>\n",
       "      <th>A_1</th>\n",
       "      <th>A_2</th>\n",
       "      <th>Molar mass g/mol</th>\n",
       "      <th>Chemical formula</th>\n",
       "      <th>sigma_1 b</th>\n",
       "      <th>sigma_2 b</th>\n",
       "      <th>x1</th>\n",
       "      <th>x2</th>\n",
       "      <th>Σ, 1/cm</th>\n",
       "      <th>ɑ_1</th>\n",
       "      <th>ɑ_2</th>\n",
       "    </tr>\n",
       "  </thead>\n",
       "  <tbody>\n",
       "    <tr>\n",
       "      <th>0</th>\n",
       "      <td>Water</td>\n",
       "      <td>1.0</td>\n",
       "      <td>1</td>\n",
       "      <td>16</td>\n",
       "      <td>18</td>\n",
       "      <td>H2O</td>\n",
       "      <td>30.0</td>\n",
       "      <td>4.0</td>\n",
       "      <td>2</td>\n",
       "      <td>1</td>\n",
       "      <td>2.141206</td>\n",
       "      <td>0.000000</td>\n",
       "      <td>0.778547</td>\n",
       "    </tr>\n",
       "    <tr>\n",
       "      <th>1</th>\n",
       "      <td>Heavy Plexiglass</td>\n",
       "      <td>1.6</td>\n",
       "      <td>12</td>\n",
       "      <td>2</td>\n",
       "      <td>28</td>\n",
       "      <td>C2D2</td>\n",
       "      <td>4.9</td>\n",
       "      <td>3.5</td>\n",
       "      <td>2</td>\n",
       "      <td>2</td>\n",
       "      <td>0.578126</td>\n",
       "      <td>0.715976</td>\n",
       "      <td>0.111111</td>\n",
       "    </tr>\n",
       "    <tr>\n",
       "      <th>2</th>\n",
       "      <td>Heavy Water</td>\n",
       "      <td>1.1</td>\n",
       "      <td>2</td>\n",
       "      <td>16</td>\n",
       "      <td>20</td>\n",
       "      <td>D2O</td>\n",
       "      <td>3.5</td>\n",
       "      <td>4.0</td>\n",
       "      <td>2</td>\n",
       "      <td>1</td>\n",
       "      <td>0.364340</td>\n",
       "      <td>0.111111</td>\n",
       "      <td>0.778547</td>\n",
       "    </tr>\n",
       "  </tbody>\n",
       "</table>\n",
       "</div>"
      ],
      "text/plain": [
       "           Material  Density g/cm^3  A_1  A_2  Molar mass g/mol  \\\n",
       "0             Water             1.0    1   16                18   \n",
       "1  Heavy Plexiglass             1.6   12    2                28   \n",
       "2       Heavy Water             1.1    2   16                20   \n",
       "\n",
       "  Chemical formula  sigma_1 b  sigma_2 b  x1  x2   Σ, 1/cm       ɑ_1       ɑ_2  \n",
       "0              H2O       30.0        4.0   2   1  2.141206  0.000000  0.778547  \n",
       "1             C2D2        4.9        3.5   2   2  0.578126  0.715976  0.111111  \n",
       "2              D2O        3.5        4.0   2   1  0.364340  0.111111  0.778547  "
      ]
     },
     "metadata": {},
     "output_type": "display_data"
    }
   ],
   "source": [
    "df['\\u0251_1'] = 0.0\n",
    "df['\\u0251_2'] = 0.0\n",
    "for k in df.index:\n",
    "    df['\\u0251_1'][k] = ((df['A_1'][k]-1)/(df['A_1'][k]+1))**2\n",
    "    df['\\u0251_2'][k] = ((df['A_2'][k]-1)/(df['A_2'][k]+1))**2\n",
    "display(df)"
   ]
  },
  {
   "cell_type": "markdown",
   "metadata": {},
   "source": [
    "### Создание DataFrame для записи данных ###"
   ]
  },
  {
   "cell_type": "code",
   "execution_count": 6,
   "metadata": {},
   "outputs": [
    {
     "data": {
      "text/html": [
       "<div>\n",
       "<style scoped>\n",
       "    .dataframe tbody tr th:only-of-type {\n",
       "        vertical-align: middle;\n",
       "    }\n",
       "\n",
       "    .dataframe tbody tr th {\n",
       "        vertical-align: top;\n",
       "    }\n",
       "\n",
       "    .dataframe thead th {\n",
       "        text-align: right;\n",
       "    }\n",
       "</style>\n",
       "<table border=\"1\" class=\"dataframe\">\n",
       "  <thead>\n",
       "    <tr style=\"text-align: right;\">\n",
       "      <th></th>\n",
       "      <th>time, 10^(-5) c</th>\n",
       "      <th>colisions</th>\n",
       "      <th>Material</th>\n",
       "      <th>target</th>\n",
       "    </tr>\n",
       "  </thead>\n",
       "  <tbody>\n",
       "  </tbody>\n",
       "</table>\n",
       "</div>"
      ],
      "text/plain": [
       "Empty DataFrame\n",
       "Columns: [time, 10^(-5) c, colisions, Material, target]\n",
       "Index: []"
      ]
     },
     "execution_count": 6,
     "metadata": {},
     "output_type": "execute_result"
    }
   ],
   "source": [
    "df1 = pd.DataFrame({'time, 10^(-5) c': [],\n",
    "                   'colisions': [],\n",
    "                    'Material' : [],\n",
    "                    'target' : [] \n",
    "              })\n",
    "df1"
   ]
  },
  {
   "cell_type": "markdown",
   "metadata": {},
   "source": [
    "### Эксперимент методом Монте-Карло ###"
   ]
  },
  {
   "cell_type": "code",
   "execution_count": 7,
   "metadata": {},
   "outputs": [
    {
     "name": "stdout",
     "output_type": "stream",
     "text": [
      "Water\n",
      "15.643333333333333\n",
      "6.787573276044247e-07\n",
      "Heavy Plexiglass\n",
      "35.90833333333333\n",
      "6.268212392367504e-06\n",
      "Heavy Water\n",
      "28.513333333333335\n",
      "7.811704616661977e-06\n"
     ]
    }
   ],
   "source": [
    "Estart = 1_000_000 #1Мэв\n",
    "Eend = 1 #1 Эв\n",
    "Colision = [0, 0, 0, 0]\n",
    "Time = [0, 0, 0, 0]\n",
    "number_of_event = 300\n",
    "counter = 0 # Счетчик для записи в DataFrame\n",
    "for k in df.index: #Цикл по материалам\n",
    "    for i in range(0, number_of_event*(k+1)): #Колличество событий для каждого материала\n",
    "        colision, time = life_of_neutron(Estart, Eend, df['Density g/cm^3'][k],\n",
    "                                          df['A_1'][k], df['A_2'][k],\n",
    "                                          df['Molar mass g/mol'][k], df['Σ, 1/cm'][k],\n",
    "                                          df['ɑ_1'][k], df['ɑ_2'][k],\n",
    "                                          df['sigma_1 b'][k], df['sigma_2 b'][k],\n",
    "                                          df['x1'][k], df['x2'][k],)\n",
    "        df1.loc[counter] = {'Material': df['Material'][k], 'time, 10^(-5) c': time*100_000, 'colisions': colision, 'target': k}\n",
    "        Colision[k]+=colision\n",
    "        Time[k]+=time\n",
    "        counter+=1\n",
    "\n",
    "\n",
    "for k in df.index:\n",
    "    Colision[k] = Colision[k]/number_of_event/(k+1)\n",
    "    Time[k] = Time[k]/number_of_event/(k+1)\n",
    "    \n",
    "for k in df.index:\n",
    "    print(df['Material'][k])\n",
    "    print(Colision[k])\n",
    "    print(Time[k])"
   ]
  },
  {
   "cell_type": "markdown",
   "metadata": {},
   "source": [
    "# 2. SQL vs Pandas"
   ]
  },
  {
   "cell_type": "markdown",
   "metadata": {},
   "source": [
    "## 2.1 Create a Table"
   ]
  },
  {
   "cell_type": "markdown",
   "metadata": {},
   "source": [
    "Посмотрим, что представляют собой полученные данные"
   ]
  },
  {
   "cell_type": "code",
   "execution_count": 8,
   "metadata": {},
   "outputs": [
    {
     "data": {
      "text/html": [
       "<div>\n",
       "<style scoped>\n",
       "    .dataframe tbody tr th:only-of-type {\n",
       "        vertical-align: middle;\n",
       "    }\n",
       "\n",
       "    .dataframe tbody tr th {\n",
       "        vertical-align: top;\n",
       "    }\n",
       "\n",
       "    .dataframe thead th {\n",
       "        text-align: right;\n",
       "    }\n",
       "</style>\n",
       "<table border=\"1\" class=\"dataframe\">\n",
       "  <thead>\n",
       "    <tr style=\"text-align: right;\">\n",
       "      <th></th>\n",
       "      <th>time, 10^(-5) c</th>\n",
       "      <th>colisions</th>\n",
       "      <th>Material</th>\n",
       "      <th>target</th>\n",
       "    </tr>\n",
       "  </thead>\n",
       "  <tbody>\n",
       "    <tr>\n",
       "      <th>0</th>\n",
       "      <td>0.060134</td>\n",
       "      <td>18.0</td>\n",
       "      <td>Water</td>\n",
       "      <td>0.0</td>\n",
       "    </tr>\n",
       "    <tr>\n",
       "      <th>1</th>\n",
       "      <td>0.015265</td>\n",
       "      <td>11.0</td>\n",
       "      <td>Water</td>\n",
       "      <td>0.0</td>\n",
       "    </tr>\n",
       "    <tr>\n",
       "      <th>2</th>\n",
       "      <td>0.058799</td>\n",
       "      <td>17.0</td>\n",
       "      <td>Water</td>\n",
       "      <td>0.0</td>\n",
       "    </tr>\n",
       "    <tr>\n",
       "      <th>3</th>\n",
       "      <td>0.047027</td>\n",
       "      <td>14.0</td>\n",
       "      <td>Water</td>\n",
       "      <td>0.0</td>\n",
       "    </tr>\n",
       "    <tr>\n",
       "      <th>4</th>\n",
       "      <td>0.018141</td>\n",
       "      <td>10.0</td>\n",
       "      <td>Water</td>\n",
       "      <td>0.0</td>\n",
       "    </tr>\n",
       "  </tbody>\n",
       "</table>\n",
       "</div>"
      ],
      "text/plain": [
       "   time, 10^(-5) c  colisions Material  target\n",
       "0         0.060134       18.0    Water     0.0\n",
       "1         0.015265       11.0    Water     0.0\n",
       "2         0.058799       17.0    Water     0.0\n",
       "3         0.047027       14.0    Water     0.0\n",
       "4         0.018141       10.0    Water     0.0"
      ]
     },
     "execution_count": 8,
     "metadata": {},
     "output_type": "execute_result"
    }
   ],
   "source": [
    "df1.head()"
   ]
  },
  {
   "cell_type": "markdown",
   "metadata": {},
   "source": [
    "Еще раз взглянем на входные данные"
   ]
  },
  {
   "cell_type": "code",
   "execution_count": 9,
   "metadata": {},
   "outputs": [
    {
     "data": {
      "text/html": [
       "<div>\n",
       "<style scoped>\n",
       "    .dataframe tbody tr th:only-of-type {\n",
       "        vertical-align: middle;\n",
       "    }\n",
       "\n",
       "    .dataframe tbody tr th {\n",
       "        vertical-align: top;\n",
       "    }\n",
       "\n",
       "    .dataframe thead th {\n",
       "        text-align: right;\n",
       "    }\n",
       "</style>\n",
       "<table border=\"1\" class=\"dataframe\">\n",
       "  <thead>\n",
       "    <tr style=\"text-align: right;\">\n",
       "      <th></th>\n",
       "      <th>Material</th>\n",
       "      <th>Density g/cm^3</th>\n",
       "      <th>A_1</th>\n",
       "      <th>A_2</th>\n",
       "      <th>Molar mass g/mol</th>\n",
       "      <th>Chemical formula</th>\n",
       "      <th>sigma_1 b</th>\n",
       "      <th>sigma_2 b</th>\n",
       "      <th>x1</th>\n",
       "      <th>x2</th>\n",
       "      <th>Σ, 1/cm</th>\n",
       "      <th>ɑ_1</th>\n",
       "      <th>ɑ_2</th>\n",
       "    </tr>\n",
       "  </thead>\n",
       "  <tbody>\n",
       "    <tr>\n",
       "      <th>0</th>\n",
       "      <td>Water</td>\n",
       "      <td>1.0</td>\n",
       "      <td>1</td>\n",
       "      <td>16</td>\n",
       "      <td>18</td>\n",
       "      <td>H2O</td>\n",
       "      <td>30.0</td>\n",
       "      <td>4.0</td>\n",
       "      <td>2</td>\n",
       "      <td>1</td>\n",
       "      <td>2.141206</td>\n",
       "      <td>0.000000</td>\n",
       "      <td>0.778547</td>\n",
       "    </tr>\n",
       "    <tr>\n",
       "      <th>1</th>\n",
       "      <td>Heavy Plexiglass</td>\n",
       "      <td>1.6</td>\n",
       "      <td>12</td>\n",
       "      <td>2</td>\n",
       "      <td>28</td>\n",
       "      <td>C2D2</td>\n",
       "      <td>4.9</td>\n",
       "      <td>3.5</td>\n",
       "      <td>2</td>\n",
       "      <td>2</td>\n",
       "      <td>0.578126</td>\n",
       "      <td>0.715976</td>\n",
       "      <td>0.111111</td>\n",
       "    </tr>\n",
       "    <tr>\n",
       "      <th>2</th>\n",
       "      <td>Heavy Water</td>\n",
       "      <td>1.1</td>\n",
       "      <td>2</td>\n",
       "      <td>16</td>\n",
       "      <td>20</td>\n",
       "      <td>D2O</td>\n",
       "      <td>3.5</td>\n",
       "      <td>4.0</td>\n",
       "      <td>2</td>\n",
       "      <td>1</td>\n",
       "      <td>0.364340</td>\n",
       "      <td>0.111111</td>\n",
       "      <td>0.778547</td>\n",
       "    </tr>\n",
       "  </tbody>\n",
       "</table>\n",
       "</div>"
      ],
      "text/plain": [
       "           Material  Density g/cm^3  A_1  A_2  Molar mass g/mol  \\\n",
       "0             Water             1.0    1   16                18   \n",
       "1  Heavy Plexiglass             1.6   12    2                28   \n",
       "2       Heavy Water             1.1    2   16                20   \n",
       "\n",
       "  Chemical formula  sigma_1 b  sigma_2 b  x1  x2   Σ, 1/cm       ɑ_1       ɑ_2  \n",
       "0              H2O       30.0        4.0   2   1  2.141206  0.000000  0.778547  \n",
       "1             C2D2        4.9        3.5   2   2  0.578126  0.715976  0.111111  \n",
       "2              D2O        3.5        4.0   2   1  0.364340  0.111111  0.778547  "
      ]
     },
     "execution_count": 9,
     "metadata": {},
     "output_type": "execute_result"
    }
   ],
   "source": [
    "df.head()"
   ]
  },
  {
   "cell_type": "markdown",
   "metadata": {},
   "source": [
    "Создадим базу данных из этих двух data frames"
   ]
  },
  {
   "cell_type": "code",
   "execution_count": 10,
   "metadata": {},
   "outputs": [],
   "source": [
    "import sqlite3"
   ]
  },
  {
   "cell_type": "code",
   "execution_count": 11,
   "metadata": {},
   "outputs": [],
   "source": [
    "conn = sqlite3.connect('data/neutron_moderation.db')\n",
    "c = conn.cursor()"
   ]
  },
  {
   "cell_type": "code",
   "execution_count": 12,
   "metadata": {},
   "outputs": [],
   "source": [
    "df.to_sql('Input_data', conn, if_exists='replace', index = False)"
   ]
  },
  {
   "cell_type": "code",
   "execution_count": 13,
   "metadata": {},
   "outputs": [],
   "source": [
    "df1.to_sql('Output_data', conn, if_exists='replace', index = False)"
   ]
  },
  {
   "cell_type": "markdown",
   "metadata": {},
   "source": [
    "Создадим пустую таблицу для тренировки не из DF и затем её удалим"
   ]
  },
  {
   "cell_type": "code",
   "execution_count": 14,
   "metadata": {},
   "outputs": [],
   "source": [
    "c.execute('CREATE TABLE CARS (Brand text, Price number)')\n",
    "conn.commit()"
   ]
  },
  {
   "cell_type": "code",
   "execution_count": 15,
   "metadata": {},
   "outputs": [],
   "source": [
    "c.execute('DROP TABLE IF EXISTS CARS')\n",
    "conn.commit()"
   ]
  },
  {
   "cell_type": "markdown",
   "metadata": {},
   "source": [
    "Создадим df из полученной базы данных"
   ]
  },
  {
   "cell_type": "code",
   "execution_count": 16,
   "metadata": {},
   "outputs": [
    {
     "data": {
      "text/html": [
       "<div>\n",
       "<style scoped>\n",
       "    .dataframe tbody tr th:only-of-type {\n",
       "        vertical-align: middle;\n",
       "    }\n",
       "\n",
       "    .dataframe tbody tr th {\n",
       "        vertical-align: top;\n",
       "    }\n",
       "\n",
       "    .dataframe thead th {\n",
       "        text-align: right;\n",
       "    }\n",
       "</style>\n",
       "<table border=\"1\" class=\"dataframe\">\n",
       "  <thead>\n",
       "    <tr style=\"text-align: right;\">\n",
       "      <th></th>\n",
       "      <th>time, 10^(-5) c</th>\n",
       "      <th>colisions</th>\n",
       "      <th>Material</th>\n",
       "      <th>target</th>\n",
       "    </tr>\n",
       "  </thead>\n",
       "  <tbody>\n",
       "    <tr>\n",
       "      <th>0</th>\n",
       "      <td>0.060134</td>\n",
       "      <td>18.0</td>\n",
       "      <td>Water</td>\n",
       "      <td>0.0</td>\n",
       "    </tr>\n",
       "    <tr>\n",
       "      <th>1</th>\n",
       "      <td>0.015265</td>\n",
       "      <td>11.0</td>\n",
       "      <td>Water</td>\n",
       "      <td>0.0</td>\n",
       "    </tr>\n",
       "    <tr>\n",
       "      <th>2</th>\n",
       "      <td>0.058799</td>\n",
       "      <td>17.0</td>\n",
       "      <td>Water</td>\n",
       "      <td>0.0</td>\n",
       "    </tr>\n",
       "    <tr>\n",
       "      <th>3</th>\n",
       "      <td>0.047027</td>\n",
       "      <td>14.0</td>\n",
       "      <td>Water</td>\n",
       "      <td>0.0</td>\n",
       "    </tr>\n",
       "    <tr>\n",
       "      <th>4</th>\n",
       "      <td>0.018141</td>\n",
       "      <td>10.0</td>\n",
       "      <td>Water</td>\n",
       "      <td>0.0</td>\n",
       "    </tr>\n",
       "  </tbody>\n",
       "</table>\n",
       "</div>"
      ],
      "text/plain": [
       "   time, 10^(-5) c  colisions Material  target\n",
       "0         0.060134       18.0    Water     0.0\n",
       "1         0.015265       11.0    Water     0.0\n",
       "2         0.058799       17.0    Water     0.0\n",
       "3         0.047027       14.0    Water     0.0\n",
       "4         0.018141       10.0    Water     0.0"
      ]
     },
     "execution_count": 16,
     "metadata": {},
     "output_type": "execute_result"
    }
   ],
   "source": [
    "df1 = pd.read_sql(\"SELECT * from Output_data\", conn)\n",
    "df1.head()"
   ]
  },
  {
   "cell_type": "code",
   "execution_count": 17,
   "metadata": {},
   "outputs": [
    {
     "data": {
      "text/html": [
       "<div>\n",
       "<style scoped>\n",
       "    .dataframe tbody tr th:only-of-type {\n",
       "        vertical-align: middle;\n",
       "    }\n",
       "\n",
       "    .dataframe tbody tr th {\n",
       "        vertical-align: top;\n",
       "    }\n",
       "\n",
       "    .dataframe thead th {\n",
       "        text-align: right;\n",
       "    }\n",
       "</style>\n",
       "<table border=\"1\" class=\"dataframe\">\n",
       "  <thead>\n",
       "    <tr style=\"text-align: right;\">\n",
       "      <th></th>\n",
       "      <th>Material</th>\n",
       "      <th>Density g/cm^3</th>\n",
       "      <th>A_1</th>\n",
       "      <th>A_2</th>\n",
       "      <th>Molar mass g/mol</th>\n",
       "      <th>Chemical formula</th>\n",
       "      <th>sigma_1 b</th>\n",
       "      <th>sigma_2 b</th>\n",
       "      <th>x1</th>\n",
       "      <th>x2</th>\n",
       "      <th>Σ, 1/cm</th>\n",
       "      <th>ɑ_1</th>\n",
       "      <th>ɑ_2</th>\n",
       "    </tr>\n",
       "  </thead>\n",
       "  <tbody>\n",
       "    <tr>\n",
       "      <th>0</th>\n",
       "      <td>Water</td>\n",
       "      <td>1.0</td>\n",
       "      <td>1</td>\n",
       "      <td>16</td>\n",
       "      <td>18</td>\n",
       "      <td>H2O</td>\n",
       "      <td>30.0</td>\n",
       "      <td>4.0</td>\n",
       "      <td>2</td>\n",
       "      <td>1</td>\n",
       "      <td>2.141206</td>\n",
       "      <td>0.000000</td>\n",
       "      <td>0.778547</td>\n",
       "    </tr>\n",
       "    <tr>\n",
       "      <th>1</th>\n",
       "      <td>Heavy Plexiglass</td>\n",
       "      <td>1.6</td>\n",
       "      <td>12</td>\n",
       "      <td>2</td>\n",
       "      <td>28</td>\n",
       "      <td>C2D2</td>\n",
       "      <td>4.9</td>\n",
       "      <td>3.5</td>\n",
       "      <td>2</td>\n",
       "      <td>2</td>\n",
       "      <td>0.578126</td>\n",
       "      <td>0.715976</td>\n",
       "      <td>0.111111</td>\n",
       "    </tr>\n",
       "    <tr>\n",
       "      <th>2</th>\n",
       "      <td>Heavy Water</td>\n",
       "      <td>1.1</td>\n",
       "      <td>2</td>\n",
       "      <td>16</td>\n",
       "      <td>20</td>\n",
       "      <td>D2O</td>\n",
       "      <td>3.5</td>\n",
       "      <td>4.0</td>\n",
       "      <td>2</td>\n",
       "      <td>1</td>\n",
       "      <td>0.364340</td>\n",
       "      <td>0.111111</td>\n",
       "      <td>0.778547</td>\n",
       "    </tr>\n",
       "  </tbody>\n",
       "</table>\n",
       "</div>"
      ],
      "text/plain": [
       "           Material  Density g/cm^3  A_1  A_2  Molar mass g/mol  \\\n",
       "0             Water             1.0    1   16                18   \n",
       "1  Heavy Plexiglass             1.6   12    2                28   \n",
       "2       Heavy Water             1.1    2   16                20   \n",
       "\n",
       "  Chemical formula  sigma_1 b  sigma_2 b  x1  x2   Σ, 1/cm       ɑ_1       ɑ_2  \n",
       "0              H2O       30.0        4.0   2   1  2.141206  0.000000  0.778547  \n",
       "1             C2D2        4.9        3.5   2   2  0.578126  0.715976  0.111111  \n",
       "2              D2O        3.5        4.0   2   1  0.364340  0.111111  0.778547  "
      ]
     },
     "execution_count": 17,
     "metadata": {},
     "output_type": "execute_result"
    }
   ],
   "source": [
    "df = pd.read_sql(\"SELECT * from Input_data\", conn)\n",
    "df.head()"
   ]
  },
  {
   "cell_type": "markdown",
   "metadata": {},
   "source": [
    "## 2.2 INSERT Operation"
   ]
  },
  {
   "cell_type": "markdown",
   "metadata": {},
   "source": [
    "Добавление через pandas"
   ]
  },
  {
   "cell_type": "code",
   "execution_count": 18,
   "metadata": {},
   "outputs": [
    {
     "data": {
      "text/plain": [
       "[{'Material': 'Carbon', 'Chemical formula': 'C'}]"
      ]
     },
     "execution_count": 18,
     "metadata": {},
     "output_type": "execute_result"
    }
   ],
   "source": [
    "data = [{\"Material\": 'Carbon', \"Chemical formula\": 'C'}]\n",
    "data"
   ]
  },
  {
   "cell_type": "code",
   "execution_count": 19,
   "metadata": {},
   "outputs": [
    {
     "data": {
      "text/html": [
       "<div>\n",
       "<style scoped>\n",
       "    .dataframe tbody tr th:only-of-type {\n",
       "        vertical-align: middle;\n",
       "    }\n",
       "\n",
       "    .dataframe tbody tr th {\n",
       "        vertical-align: top;\n",
       "    }\n",
       "\n",
       "    .dataframe thead th {\n",
       "        text-align: right;\n",
       "    }\n",
       "</style>\n",
       "<table border=\"1\" class=\"dataframe\">\n",
       "  <thead>\n",
       "    <tr style=\"text-align: right;\">\n",
       "      <th></th>\n",
       "      <th>Material</th>\n",
       "      <th>Chemical formula</th>\n",
       "    </tr>\n",
       "  </thead>\n",
       "  <tbody>\n",
       "    <tr>\n",
       "      <th>0</th>\n",
       "      <td>Carbon</td>\n",
       "      <td>C</td>\n",
       "    </tr>\n",
       "  </tbody>\n",
       "</table>\n",
       "</div>"
      ],
      "text/plain": [
       "  Material Chemical formula\n",
       "0   Carbon                C"
      ]
     },
     "execution_count": 19,
     "metadata": {},
     "output_type": "execute_result"
    }
   ],
   "source": [
    "data = pd.DataFrame(data)\n",
    "data"
   ]
  },
  {
   "cell_type": "code",
   "execution_count": 20,
   "metadata": {},
   "outputs": [],
   "source": [
    "df = pd.concat([df, data], ignore_index=True)"
   ]
  },
  {
   "cell_type": "code",
   "execution_count": 21,
   "metadata": {
    "scrolled": true
   },
   "outputs": [
    {
     "data": {
      "text/html": [
       "<div>\n",
       "<style scoped>\n",
       "    .dataframe tbody tr th:only-of-type {\n",
       "        vertical-align: middle;\n",
       "    }\n",
       "\n",
       "    .dataframe tbody tr th {\n",
       "        vertical-align: top;\n",
       "    }\n",
       "\n",
       "    .dataframe thead th {\n",
       "        text-align: right;\n",
       "    }\n",
       "</style>\n",
       "<table border=\"1\" class=\"dataframe\">\n",
       "  <thead>\n",
       "    <tr style=\"text-align: right;\">\n",
       "      <th></th>\n",
       "      <th>Material</th>\n",
       "      <th>Density g/cm^3</th>\n",
       "      <th>A_1</th>\n",
       "      <th>A_2</th>\n",
       "      <th>Molar mass g/mol</th>\n",
       "      <th>Chemical formula</th>\n",
       "      <th>sigma_1 b</th>\n",
       "      <th>sigma_2 b</th>\n",
       "      <th>x1</th>\n",
       "      <th>x2</th>\n",
       "      <th>Σ, 1/cm</th>\n",
       "      <th>ɑ_1</th>\n",
       "      <th>ɑ_2</th>\n",
       "    </tr>\n",
       "  </thead>\n",
       "  <tbody>\n",
       "    <tr>\n",
       "      <th>0</th>\n",
       "      <td>Water</td>\n",
       "      <td>1.0</td>\n",
       "      <td>1.0</td>\n",
       "      <td>16.0</td>\n",
       "      <td>18.0</td>\n",
       "      <td>H2O</td>\n",
       "      <td>30.0</td>\n",
       "      <td>4.0</td>\n",
       "      <td>2.0</td>\n",
       "      <td>1.0</td>\n",
       "      <td>2.141206</td>\n",
       "      <td>0.000000</td>\n",
       "      <td>0.778547</td>\n",
       "    </tr>\n",
       "    <tr>\n",
       "      <th>1</th>\n",
       "      <td>Heavy Plexiglass</td>\n",
       "      <td>1.6</td>\n",
       "      <td>12.0</td>\n",
       "      <td>2.0</td>\n",
       "      <td>28.0</td>\n",
       "      <td>C2D2</td>\n",
       "      <td>4.9</td>\n",
       "      <td>3.5</td>\n",
       "      <td>2.0</td>\n",
       "      <td>2.0</td>\n",
       "      <td>0.578126</td>\n",
       "      <td>0.715976</td>\n",
       "      <td>0.111111</td>\n",
       "    </tr>\n",
       "    <tr>\n",
       "      <th>2</th>\n",
       "      <td>Heavy Water</td>\n",
       "      <td>1.1</td>\n",
       "      <td>2.0</td>\n",
       "      <td>16.0</td>\n",
       "      <td>20.0</td>\n",
       "      <td>D2O</td>\n",
       "      <td>3.5</td>\n",
       "      <td>4.0</td>\n",
       "      <td>2.0</td>\n",
       "      <td>1.0</td>\n",
       "      <td>0.364340</td>\n",
       "      <td>0.111111</td>\n",
       "      <td>0.778547</td>\n",
       "    </tr>\n",
       "    <tr>\n",
       "      <th>3</th>\n",
       "      <td>Carbon</td>\n",
       "      <td>NaN</td>\n",
       "      <td>NaN</td>\n",
       "      <td>NaN</td>\n",
       "      <td>NaN</td>\n",
       "      <td>C</td>\n",
       "      <td>NaN</td>\n",
       "      <td>NaN</td>\n",
       "      <td>NaN</td>\n",
       "      <td>NaN</td>\n",
       "      <td>NaN</td>\n",
       "      <td>NaN</td>\n",
       "      <td>NaN</td>\n",
       "    </tr>\n",
       "  </tbody>\n",
       "</table>\n",
       "</div>"
      ],
      "text/plain": [
       "           Material  Density g/cm^3   A_1   A_2  Molar mass g/mol  \\\n",
       "0             Water             1.0   1.0  16.0              18.0   \n",
       "1  Heavy Plexiglass             1.6  12.0   2.0              28.0   \n",
       "2       Heavy Water             1.1   2.0  16.0              20.0   \n",
       "3            Carbon             NaN   NaN   NaN               NaN   \n",
       "\n",
       "  Chemical formula  sigma_1 b  sigma_2 b   x1   x2   Σ, 1/cm       ɑ_1  \\\n",
       "0              H2O       30.0        4.0  2.0  1.0  2.141206  0.000000   \n",
       "1             C2D2        4.9        3.5  2.0  2.0  0.578126  0.715976   \n",
       "2              D2O        3.5        4.0  2.0  1.0  0.364340  0.111111   \n",
       "3                C        NaN        NaN  NaN  NaN       NaN       NaN   \n",
       "\n",
       "        ɑ_2  \n",
       "0  0.778547  \n",
       "1  0.111111  \n",
       "2  0.778547  \n",
       "3       NaN  "
      ]
     },
     "execution_count": 21,
     "metadata": {},
     "output_type": "execute_result"
    }
   ],
   "source": [
    "df"
   ]
  },
  {
   "cell_type": "markdown",
   "metadata": {},
   "source": [
    "## 2.3 DELETE Operatioin"
   ]
  },
  {
   "cell_type": "markdown",
   "metadata": {},
   "source": [
    "Удаление через pandas"
   ]
  },
  {
   "cell_type": "code",
   "execution_count": 22,
   "metadata": {},
   "outputs": [
    {
     "name": "stdout",
     "output_type": "stream",
     "text": [
      "<class 'pandas.core.frame.DataFrame'>\n",
      "RangeIndex: 4 entries, 0 to 3\n",
      "Data columns (total 13 columns):\n",
      " #   Column            Non-Null Count  Dtype  \n",
      "---  ------            --------------  -----  \n",
      " 0   Material          4 non-null      object \n",
      " 1   Density g/cm^3    3 non-null      float64\n",
      " 2   A_1               3 non-null      float64\n",
      " 3   A_2               3 non-null      float64\n",
      " 4   Molar mass g/mol  3 non-null      float64\n",
      " 5   Chemical formula  4 non-null      object \n",
      " 6   sigma_1 b         3 non-null      float64\n",
      " 7   sigma_2 b         3 non-null      float64\n",
      " 8   x1                3 non-null      float64\n",
      " 9   x2                3 non-null      float64\n",
      " 10  Σ, 1/cm           3 non-null      float64\n",
      " 11  ɑ_1               3 non-null      float64\n",
      " 12  ɑ_2               3 non-null      float64\n",
      "dtypes: float64(11), object(2)\n",
      "memory usage: 544.0+ bytes\n"
     ]
    }
   ],
   "source": [
    "df.info()"
   ]
  },
  {
   "cell_type": "code",
   "execution_count": 23,
   "metadata": {},
   "outputs": [
    {
     "data": {
      "text/plain": [
       "Material            0\n",
       "Density g/cm^3      1\n",
       "A_1                 1\n",
       "A_2                 1\n",
       "Molar mass g/mol    1\n",
       "Chemical formula    0\n",
       "sigma_1 b           1\n",
       "sigma_2 b           1\n",
       "x1                  1\n",
       "x2                  1\n",
       "Σ, 1/cm             1\n",
       "ɑ_1                 1\n",
       "ɑ_2                 1\n",
       "dtype: int64"
      ]
     },
     "execution_count": 23,
     "metadata": {},
     "output_type": "execute_result"
    }
   ],
   "source": [
    "df.isnull().sum()"
   ]
  },
  {
   "cell_type": "code",
   "execution_count": 24,
   "metadata": {},
   "outputs": [
    {
     "data": {
      "text/html": [
       "<div>\n",
       "<style scoped>\n",
       "    .dataframe tbody tr th:only-of-type {\n",
       "        vertical-align: middle;\n",
       "    }\n",
       "\n",
       "    .dataframe tbody tr th {\n",
       "        vertical-align: top;\n",
       "    }\n",
       "\n",
       "    .dataframe thead th {\n",
       "        text-align: right;\n",
       "    }\n",
       "</style>\n",
       "<table border=\"1\" class=\"dataframe\">\n",
       "  <thead>\n",
       "    <tr style=\"text-align: right;\">\n",
       "      <th></th>\n",
       "      <th>Material</th>\n",
       "      <th>Density g/cm^3</th>\n",
       "      <th>A_1</th>\n",
       "      <th>A_2</th>\n",
       "      <th>Molar mass g/mol</th>\n",
       "      <th>Chemical formula</th>\n",
       "      <th>sigma_1 b</th>\n",
       "      <th>sigma_2 b</th>\n",
       "      <th>x1</th>\n",
       "      <th>x2</th>\n",
       "      <th>Σ, 1/cm</th>\n",
       "      <th>ɑ_1</th>\n",
       "      <th>ɑ_2</th>\n",
       "    </tr>\n",
       "  </thead>\n",
       "  <tbody>\n",
       "    <tr>\n",
       "      <th>0</th>\n",
       "      <td>Water</td>\n",
       "      <td>1.0</td>\n",
       "      <td>1.0</td>\n",
       "      <td>16.0</td>\n",
       "      <td>18.0</td>\n",
       "      <td>H2O</td>\n",
       "      <td>30.0</td>\n",
       "      <td>4.0</td>\n",
       "      <td>2.0</td>\n",
       "      <td>1.0</td>\n",
       "      <td>2.141206</td>\n",
       "      <td>0.000000</td>\n",
       "      <td>0.778547</td>\n",
       "    </tr>\n",
       "    <tr>\n",
       "      <th>1</th>\n",
       "      <td>Heavy Plexiglass</td>\n",
       "      <td>1.6</td>\n",
       "      <td>12.0</td>\n",
       "      <td>2.0</td>\n",
       "      <td>28.0</td>\n",
       "      <td>C2D2</td>\n",
       "      <td>4.9</td>\n",
       "      <td>3.5</td>\n",
       "      <td>2.0</td>\n",
       "      <td>2.0</td>\n",
       "      <td>0.578126</td>\n",
       "      <td>0.715976</td>\n",
       "      <td>0.111111</td>\n",
       "    </tr>\n",
       "    <tr>\n",
       "      <th>2</th>\n",
       "      <td>Heavy Water</td>\n",
       "      <td>1.1</td>\n",
       "      <td>2.0</td>\n",
       "      <td>16.0</td>\n",
       "      <td>20.0</td>\n",
       "      <td>D2O</td>\n",
       "      <td>3.5</td>\n",
       "      <td>4.0</td>\n",
       "      <td>2.0</td>\n",
       "      <td>1.0</td>\n",
       "      <td>0.364340</td>\n",
       "      <td>0.111111</td>\n",
       "      <td>0.778547</td>\n",
       "    </tr>\n",
       "  </tbody>\n",
       "</table>\n",
       "</div>"
      ],
      "text/plain": [
       "           Material  Density g/cm^3   A_1   A_2  Molar mass g/mol  \\\n",
       "0             Water             1.0   1.0  16.0              18.0   \n",
       "1  Heavy Plexiglass             1.6  12.0   2.0              28.0   \n",
       "2       Heavy Water             1.1   2.0  16.0              20.0   \n",
       "\n",
       "  Chemical formula  sigma_1 b  sigma_2 b   x1   x2   Σ, 1/cm       ɑ_1  \\\n",
       "0              H2O       30.0        4.0  2.0  1.0  2.141206  0.000000   \n",
       "1             C2D2        4.9        3.5  2.0  2.0  0.578126  0.715976   \n",
       "2              D2O        3.5        4.0  2.0  1.0  0.364340  0.111111   \n",
       "\n",
       "        ɑ_2  \n",
       "0  0.778547  \n",
       "1  0.111111  \n",
       "2  0.778547  "
      ]
     },
     "execution_count": 24,
     "metadata": {},
     "output_type": "execute_result"
    }
   ],
   "source": [
    "df = df.dropna()\n",
    "df"
   ]
  },
  {
   "cell_type": "markdown",
   "metadata": {},
   "source": [
    "Добавление данных через SQL"
   ]
  },
  {
   "cell_type": "code",
   "execution_count": 25,
   "metadata": {},
   "outputs": [],
   "source": [
    "conn = sqlite3.connect('data/neutron_moderation.db')\n",
    "c = conn.cursor()"
   ]
  },
  {
   "cell_type": "code",
   "execution_count": 26,
   "metadata": {},
   "outputs": [],
   "source": [
    "def sql_insert(conn, entities):\n",
    "\n",
    "    cursorObj = conn.cursor()\n",
    "\n",
    "    cursorObj.execute('INSERT INTO Input_data (Material, x1) VALUES(?, ?)', entities)\n",
    "\n",
    "    conn.commit()"
   ]
  },
  {
   "cell_type": "code",
   "execution_count": 27,
   "metadata": {},
   "outputs": [],
   "source": [
    "entities = ('Carbon', 1)\n",
    "sql_insert(conn, entities)"
   ]
  },
  {
   "cell_type": "markdown",
   "metadata": {},
   "source": [
    "Удаление данных через SQL, где конкретный столбец равен нулю"
   ]
  },
  {
   "cell_type": "code",
   "execution_count": 28,
   "metadata": {},
   "outputs": [],
   "source": [
    "c.execute('DELETE FROM Input_data WHERE (x2 IS NULL)')\n",
    "conn.commit()"
   ]
  },
  {
   "cell_type": "markdown",
   "metadata": {},
   "source": [
    "## 2.4 SELECT Operation, WHERE, DISTINCT, LIMIT"
   ]
  },
  {
   "cell_type": "markdown",
   "metadata": {},
   "source": [
    "Получим список столбцов через Pandas"
   ]
  },
  {
   "cell_type": "code",
   "execution_count": 29,
   "metadata": {
    "scrolled": true
   },
   "outputs": [
    {
     "data": {
      "text/plain": [
       "['Material',\n",
       " 'Density g/cm^3',\n",
       " 'A_1',\n",
       " 'A_2',\n",
       " 'Molar mass g/mol',\n",
       " 'Chemical formula',\n",
       " 'sigma_1 b',\n",
       " 'sigma_2 b',\n",
       " 'x1',\n",
       " 'x2',\n",
       " 'Σ, 1/cm',\n",
       " 'ɑ_1',\n",
       " 'ɑ_2']"
      ]
     },
     "execution_count": 29,
     "metadata": {},
     "output_type": "execute_result"
    }
   ],
   "source": [
    "c = list(df)\n",
    "c"
   ]
  },
  {
   "cell_type": "markdown",
   "metadata": {},
   "source": [
    "Получим список столбцов через SQL"
   ]
  },
  {
   "cell_type": "code",
   "execution_count": 30,
   "metadata": {
    "scrolled": false
   },
   "outputs": [
    {
     "name": "stdout",
     "output_type": "stream",
     "text": [
      "['Material', 'Density g/cm^3', 'A_1', 'A_2', 'Molar mass g/mol', 'Chemical formula', 'sigma_1 b', 'sigma_2 b', 'x1', 'x2', 'Σ, 1/cm', 'ɑ_1', 'ɑ_2']\n"
     ]
    }
   ],
   "source": [
    "row_names = []\n",
    "\n",
    "def sql_fetch(conn):\n",
    "\n",
    "    cursorObj = conn.cursor()\n",
    "\n",
    "    cursorObj.execute('select * from Input_data')\n",
    "    \n",
    "    colnames = cursorObj.description\n",
    "    for row in colnames:\n",
    "        row_names.append(row[0])\n",
    "\n",
    "sql_fetch(conn)\n",
    "\n",
    "print(row_names)"
   ]
  },
  {
   "cell_type": "markdown",
   "metadata": {},
   "source": [
    "Вывод конкретных столбцов через Pandas"
   ]
  },
  {
   "cell_type": "code",
   "execution_count": 31,
   "metadata": {},
   "outputs": [
    {
     "data": {
      "text/html": [
       "<div>\n",
       "<style scoped>\n",
       "    .dataframe tbody tr th:only-of-type {\n",
       "        vertical-align: middle;\n",
       "    }\n",
       "\n",
       "    .dataframe tbody tr th {\n",
       "        vertical-align: top;\n",
       "    }\n",
       "\n",
       "    .dataframe thead th {\n",
       "        text-align: right;\n",
       "    }\n",
       "</style>\n",
       "<table border=\"1\" class=\"dataframe\">\n",
       "  <thead>\n",
       "    <tr style=\"text-align: right;\">\n",
       "      <th></th>\n",
       "      <th>Material</th>\n",
       "      <th>A_1</th>\n",
       "      <th>A_2</th>\n",
       "    </tr>\n",
       "  </thead>\n",
       "  <tbody>\n",
       "    <tr>\n",
       "      <th>0</th>\n",
       "      <td>Water</td>\n",
       "      <td>1.0</td>\n",
       "      <td>16.0</td>\n",
       "    </tr>\n",
       "    <tr>\n",
       "      <th>1</th>\n",
       "      <td>Heavy Plexiglass</td>\n",
       "      <td>12.0</td>\n",
       "      <td>2.0</td>\n",
       "    </tr>\n",
       "    <tr>\n",
       "      <th>2</th>\n",
       "      <td>Heavy Water</td>\n",
       "      <td>2.0</td>\n",
       "      <td>16.0</td>\n",
       "    </tr>\n",
       "  </tbody>\n",
       "</table>\n",
       "</div>"
      ],
      "text/plain": [
       "           Material   A_1   A_2\n",
       "0             Water   1.0  16.0\n",
       "1  Heavy Plexiglass  12.0   2.0\n",
       "2       Heavy Water   2.0  16.0"
      ]
     },
     "execution_count": 31,
     "metadata": {},
     "output_type": "execute_result"
    }
   ],
   "source": [
    "names = [\"Material\", \"A_1\", \"A_2\"]\n",
    "df[names]"
   ]
  },
  {
   "cell_type": "markdown",
   "metadata": {},
   "source": [
    "Вывод конкретных столбцов через SQL"
   ]
  },
  {
   "cell_type": "code",
   "execution_count": 46,
   "metadata": {},
   "outputs": [
    {
     "name": "stdout",
     "output_type": "stream",
     "text": [
      "Material =  Water\n",
      "A_1 =  1\n",
      "A_2 =  16 \n",
      "\n",
      "Material =  Heavy Plexiglass\n",
      "A_1 =  12\n",
      "A_2 =  2 \n",
      "\n",
      "Material =  Heavy Water\n",
      "A_1 =  2\n",
      "A_2 =  16 \n",
      "\n"
     ]
    }
   ],
   "source": [
    "conn = sqlite3.connect('data/neutron_moderation.db')\n",
    "\n",
    "cursor = conn.execute(\"SELECT Material, A_1, A_2 from Input_data\")\n",
    "for row in cursor:\n",
    "    print(\"Material = \", row[0])\n",
    "    print(\"A_1 = \", row[1])\n",
    "    print(\"A_2 = \", row[2], \"\\n\")\n",
    "\n",
    "conn.close()"
   ]
  },
  {
   "cell_type": "markdown",
   "metadata": {},
   "source": [
    "Вывод ограниченного числа строк через Pandas"
   ]
  },
  {
   "cell_type": "code",
   "execution_count": 43,
   "metadata": {},
   "outputs": [
    {
     "data": {
      "text/html": [
       "<div>\n",
       "<style scoped>\n",
       "    .dataframe tbody tr th:only-of-type {\n",
       "        vertical-align: middle;\n",
       "    }\n",
       "\n",
       "    .dataframe tbody tr th {\n",
       "        vertical-align: top;\n",
       "    }\n",
       "\n",
       "    .dataframe thead th {\n",
       "        text-align: right;\n",
       "    }\n",
       "</style>\n",
       "<table border=\"1\" class=\"dataframe\">\n",
       "  <thead>\n",
       "    <tr style=\"text-align: right;\">\n",
       "      <th></th>\n",
       "      <th>time, 10^(-5) c</th>\n",
       "      <th>colisions</th>\n",
       "      <th>Material</th>\n",
       "      <th>target</th>\n",
       "    </tr>\n",
       "  </thead>\n",
       "  <tbody>\n",
       "    <tr>\n",
       "      <th>0</th>\n",
       "      <td>0.060134</td>\n",
       "      <td>18.0</td>\n",
       "      <td>Water</td>\n",
       "      <td>0.0</td>\n",
       "    </tr>\n",
       "    <tr>\n",
       "      <th>1</th>\n",
       "      <td>0.015265</td>\n",
       "      <td>11.0</td>\n",
       "      <td>Water</td>\n",
       "      <td>0.0</td>\n",
       "    </tr>\n",
       "    <tr>\n",
       "      <th>2</th>\n",
       "      <td>0.058799</td>\n",
       "      <td>17.0</td>\n",
       "      <td>Water</td>\n",
       "      <td>0.0</td>\n",
       "    </tr>\n",
       "  </tbody>\n",
       "</table>\n",
       "</div>"
      ],
      "text/plain": [
       "   time, 10^(-5) c  colisions Material  target\n",
       "0         0.060134       18.0    Water     0.0\n",
       "1         0.015265       11.0    Water     0.0\n",
       "2         0.058799       17.0    Water     0.0"
      ]
     },
     "execution_count": 43,
     "metadata": {},
     "output_type": "execute_result"
    }
   ],
   "source": [
    "df1.head(3)"
   ]
  },
  {
   "cell_type": "markdown",
   "metadata": {},
   "source": [
    "Вывод ограниченного числа строк через SQL"
   ]
  },
  {
   "cell_type": "code",
   "execution_count": 51,
   "metadata": {},
   "outputs": [
    {
     "name": "stdout",
     "output_type": "stream",
     "text": [
      "('Water', 1.0, 1, 16, 18, 'H2O', 30.0, 4.0, 2, 1, 2.1412056035555556, 0.0, 0.7785467128027681)\n",
      "\n",
      "('Heavy Plexiglass', 1.6, 12, 2, 28, 'C2D2', 4.9, 3.5, 2, 2, 0.57812551296, 0.7159763313609467, 0.1111111111111111)\n",
      "\n"
     ]
    }
   ],
   "source": [
    "conn = sqlite3.connect('data/neutron_moderation.db')\n",
    "\n",
    "cursor = conn.execute(\"SELECT * FROM Input_data limit 2\")\n",
    "\n",
    "for row in cursor:\n",
    "    print(row)\n",
    "    print()\n",
    "\n",
    "conn.close()"
   ]
  },
  {
   "cell_type": "markdown",
   "metadata": {},
   "source": [
    "Select c сножественными условиями Pandas"
   ]
  },
  {
   "cell_type": "code",
   "execution_count": 57,
   "metadata": {},
   "outputs": [
    {
     "data": {
      "text/html": [
       "<div>\n",
       "<style scoped>\n",
       "    .dataframe tbody tr th:only-of-type {\n",
       "        vertical-align: middle;\n",
       "    }\n",
       "\n",
       "    .dataframe tbody tr th {\n",
       "        vertical-align: top;\n",
       "    }\n",
       "\n",
       "    .dataframe thead th {\n",
       "        text-align: right;\n",
       "    }\n",
       "</style>\n",
       "<table border=\"1\" class=\"dataframe\">\n",
       "  <thead>\n",
       "    <tr style=\"text-align: right;\">\n",
       "      <th></th>\n",
       "      <th>Material</th>\n",
       "      <th>Density g/cm^3</th>\n",
       "      <th>A_1</th>\n",
       "      <th>A_2</th>\n",
       "      <th>Molar mass g/mol</th>\n",
       "      <th>Chemical formula</th>\n",
       "      <th>sigma_1 b</th>\n",
       "      <th>sigma_2 b</th>\n",
       "      <th>x1</th>\n",
       "      <th>x2</th>\n",
       "      <th>Σ, 1/cm</th>\n",
       "      <th>ɑ_1</th>\n",
       "      <th>ɑ_2</th>\n",
       "    </tr>\n",
       "  </thead>\n",
       "  <tbody>\n",
       "    <tr>\n",
       "      <th>2</th>\n",
       "      <td>Heavy Water</td>\n",
       "      <td>1.1</td>\n",
       "      <td>2.0</td>\n",
       "      <td>16.0</td>\n",
       "      <td>20.0</td>\n",
       "      <td>D2O</td>\n",
       "      <td>3.5</td>\n",
       "      <td>4.0</td>\n",
       "      <td>2.0</td>\n",
       "      <td>1.0</td>\n",
       "      <td>0.36434</td>\n",
       "      <td>0.111111</td>\n",
       "      <td>0.778547</td>\n",
       "    </tr>\n",
       "  </tbody>\n",
       "</table>\n",
       "</div>"
      ],
      "text/plain": [
       "      Material  Density g/cm^3  A_1   A_2  Molar mass g/mol Chemical formula  \\\n",
       "2  Heavy Water             1.1  2.0  16.0              20.0              D2O   \n",
       "\n",
       "   sigma_1 b  sigma_2 b   x1   x2  Σ, 1/cm       ɑ_1       ɑ_2  \n",
       "2        3.5        4.0  2.0  1.0  0.36434  0.111111  0.778547  "
      ]
     },
     "execution_count": 57,
     "metadata": {},
     "output_type": "execute_result"
    }
   ],
   "source": [
    "df[(df.Material != 'Water') & (df.A_1 == 2)]"
   ]
  },
  {
   "cell_type": "markdown",
   "metadata": {},
   "source": [
    "Select с множественными условиями SQL"
   ]
  },
  {
   "cell_type": "code",
   "execution_count": 59,
   "metadata": {},
   "outputs": [
    {
     "name": "stdout",
     "output_type": "stream",
     "text": [
      "('Heavy Water', 1.1, 2, 16, 20, 'D2O', 3.5, 4.0, 2, 1, 0.36433951598000003, 0.1111111111111111, 0.7785467128027681)\n",
      "\n"
     ]
    }
   ],
   "source": [
    "conn = sqlite3.connect('data/neutron_moderation.db')\n",
    "\n",
    "cursor = conn.execute(\"SELECT * FROM Input_data where Material = 'Heavy Water' and  A_1 = 2.0\")\n",
    "\n",
    "for row in cursor:\n",
    "    print(row)\n",
    "    print()\n",
    "\n",
    "conn.close()"
   ]
  },
  {
   "cell_type": "markdown",
   "metadata": {},
   "source": [
    "Вывод уникальных значений Pandas"
   ]
  },
  {
   "cell_type": "code",
   "execution_count": 64,
   "metadata": {},
   "outputs": [
    {
     "data": {
      "text/plain": [
       "Heavy Water         0.500000\n",
       "Heavy Plexiglass    0.333333\n",
       "Water               0.166667\n",
       "Name: Material, dtype: float64"
      ]
     },
     "execution_count": 64,
     "metadata": {},
     "output_type": "execute_result"
    }
   ],
   "source": [
    "df1['Material'].value_counts(normalize=True)"
   ]
  },
  {
   "cell_type": "markdown",
   "metadata": {},
   "source": [
    "Вывод уникальных значений SQL"
   ]
  },
  {
   "cell_type": "code",
   "execution_count": 61,
   "metadata": {},
   "outputs": [
    {
     "name": "stdout",
     "output_type": "stream",
     "text": [
      "('Water',)\n",
      "\n",
      "('Heavy Plexiglass',)\n",
      "\n",
      "('Heavy Water',)\n",
      "\n"
     ]
    }
   ],
   "source": [
    "conn = sqlite3.connect('data/neutron_moderation.db')\n",
    "\n",
    "cursor = conn.execute(\"SELECT DISTINCT Material FROM Output_data\")\n",
    "\n",
    "for row in cursor:\n",
    "    print(row)\n",
    "    print()\n",
    "\n",
    "conn.close()"
   ]
  },
  {
   "cell_type": "markdown",
   "metadata": {},
   "source": [
    "## 2.5 UPDATE Operation"
   ]
  },
  {
   "cell_type": "markdown",
   "metadata": {},
   "source": [
    "Изменение данных через Pandas"
   ]
  },
  {
   "cell_type": "code",
   "execution_count": 33,
   "metadata": {
    "scrolled": true
   },
   "outputs": [
    {
     "data": {
      "text/html": [
       "<div>\n",
       "<style scoped>\n",
       "    .dataframe tbody tr th:only-of-type {\n",
       "        vertical-align: middle;\n",
       "    }\n",
       "\n",
       "    .dataframe tbody tr th {\n",
       "        vertical-align: top;\n",
       "    }\n",
       "\n",
       "    .dataframe thead th {\n",
       "        text-align: right;\n",
       "    }\n",
       "</style>\n",
       "<table border=\"1\" class=\"dataframe\">\n",
       "  <thead>\n",
       "    <tr style=\"text-align: right;\">\n",
       "      <th></th>\n",
       "      <th>Material</th>\n",
       "      <th>Density g/cm^3</th>\n",
       "      <th>A_1</th>\n",
       "      <th>A_2</th>\n",
       "      <th>Molar mass g/mol</th>\n",
       "      <th>Chemical formula</th>\n",
       "      <th>sigma_1 b</th>\n",
       "      <th>sigma_2 b</th>\n",
       "      <th>x1</th>\n",
       "      <th>x2</th>\n",
       "      <th>Σ, 1/cm</th>\n",
       "      <th>ɑ_1</th>\n",
       "      <th>ɑ_2</th>\n",
       "    </tr>\n",
       "  </thead>\n",
       "  <tbody>\n",
       "    <tr>\n",
       "      <th>0</th>\n",
       "      <td>Water</td>\n",
       "      <td>1.0</td>\n",
       "      <td>1.0</td>\n",
       "      <td>16.0</td>\n",
       "      <td>18.0</td>\n",
       "      <td>H2O</td>\n",
       "      <td>30.0</td>\n",
       "      <td>4.0</td>\n",
       "      <td>2.0</td>\n",
       "      <td>1.0</td>\n",
       "      <td>2.141206</td>\n",
       "      <td>0.000000</td>\n",
       "      <td>0.778547</td>\n",
       "    </tr>\n",
       "    <tr>\n",
       "      <th>1</th>\n",
       "      <td>Heavy Plexiglass</td>\n",
       "      <td>1.6</td>\n",
       "      <td>12.0</td>\n",
       "      <td>2.0</td>\n",
       "      <td>28.0</td>\n",
       "      <td>C2D2</td>\n",
       "      <td>4.9</td>\n",
       "      <td>3.5</td>\n",
       "      <td>2.0</td>\n",
       "      <td>2.0</td>\n",
       "      <td>0.578126</td>\n",
       "      <td>0.715976</td>\n",
       "      <td>0.111111</td>\n",
       "    </tr>\n",
       "    <tr>\n",
       "      <th>2</th>\n",
       "      <td>Heavy Water</td>\n",
       "      <td>1.1</td>\n",
       "      <td>2.0</td>\n",
       "      <td>16.0</td>\n",
       "      <td>20.0</td>\n",
       "      <td>D2O</td>\n",
       "      <td>3.5</td>\n",
       "      <td>4.0</td>\n",
       "      <td>2.0</td>\n",
       "      <td>1.0</td>\n",
       "      <td>0.364340</td>\n",
       "      <td>0.111111</td>\n",
       "      <td>0.778547</td>\n",
       "    </tr>\n",
       "  </tbody>\n",
       "</table>\n",
       "</div>"
      ],
      "text/plain": [
       "           Material  Density g/cm^3   A_1   A_2  Molar mass g/mol  \\\n",
       "0             Water             1.0   1.0  16.0              18.0   \n",
       "1  Heavy Plexiglass             1.6  12.0   2.0              28.0   \n",
       "2       Heavy Water             1.1   2.0  16.0              20.0   \n",
       "\n",
       "  Chemical formula  sigma_1 b  sigma_2 b   x1   x2   Σ, 1/cm       ɑ_1  \\\n",
       "0              H2O       30.0        4.0  2.0  1.0  2.141206  0.000000   \n",
       "1             C2D2        4.9        3.5  2.0  2.0  0.578126  0.715976   \n",
       "2              D2O        3.5        4.0  2.0  1.0  0.364340  0.111111   \n",
       "\n",
       "        ɑ_2  \n",
       "0  0.778547  \n",
       "1  0.111111  \n",
       "2  0.778547  "
      ]
     },
     "execution_count": 33,
     "metadata": {},
     "output_type": "execute_result"
    }
   ],
   "source": [
    "df"
   ]
  },
  {
   "cell_type": "code",
   "execution_count": 34,
   "metadata": {},
   "outputs": [
    {
     "data": {
      "text/html": [
       "<div>\n",
       "<style scoped>\n",
       "    .dataframe tbody tr th:only-of-type {\n",
       "        vertical-align: middle;\n",
       "    }\n",
       "\n",
       "    .dataframe tbody tr th {\n",
       "        vertical-align: top;\n",
       "    }\n",
       "\n",
       "    .dataframe thead th {\n",
       "        text-align: right;\n",
       "    }\n",
       "</style>\n",
       "<table border=\"1\" class=\"dataframe\">\n",
       "  <thead>\n",
       "    <tr style=\"text-align: right;\">\n",
       "      <th></th>\n",
       "      <th>Material</th>\n",
       "      <th>Density g/cm^3</th>\n",
       "      <th>A_1</th>\n",
       "      <th>A_2</th>\n",
       "      <th>Molar mass g/mol</th>\n",
       "      <th>Chemical formula</th>\n",
       "      <th>sigma_1 b</th>\n",
       "      <th>sigma_2 b</th>\n",
       "      <th>x1</th>\n",
       "      <th>x2</th>\n",
       "      <th>Σ, 1/cm</th>\n",
       "      <th>ɑ_1</th>\n",
       "      <th>ɑ_2</th>\n",
       "    </tr>\n",
       "  </thead>\n",
       "  <tbody>\n",
       "    <tr>\n",
       "      <th>0</th>\n",
       "      <td>Water</td>\n",
       "      <td>1.0</td>\n",
       "      <td>1.0</td>\n",
       "      <td>16.0</td>\n",
       "      <td>18.0</td>\n",
       "      <td>H2O</td>\n",
       "      <td>30.0</td>\n",
       "      <td>4.0</td>\n",
       "      <td>2.0</td>\n",
       "      <td>1.0</td>\n",
       "      <td>2.141206</td>\n",
       "      <td>0.000000</td>\n",
       "      <td>0.778547</td>\n",
       "    </tr>\n",
       "    <tr>\n",
       "      <th>1</th>\n",
       "      <td>Unknow</td>\n",
       "      <td>1.6</td>\n",
       "      <td>12.0</td>\n",
       "      <td>2.0</td>\n",
       "      <td>28.0</td>\n",
       "      <td>C2D2</td>\n",
       "      <td>4.9</td>\n",
       "      <td>3.5</td>\n",
       "      <td>2.0</td>\n",
       "      <td>2.0</td>\n",
       "      <td>0.578126</td>\n",
       "      <td>0.715976</td>\n",
       "      <td>0.111111</td>\n",
       "    </tr>\n",
       "    <tr>\n",
       "      <th>2</th>\n",
       "      <td>Heavy Water</td>\n",
       "      <td>1.1</td>\n",
       "      <td>2.0</td>\n",
       "      <td>16.0</td>\n",
       "      <td>20.0</td>\n",
       "      <td>D2O</td>\n",
       "      <td>3.5</td>\n",
       "      <td>4.0</td>\n",
       "      <td>2.0</td>\n",
       "      <td>1.0</td>\n",
       "      <td>0.364340</td>\n",
       "      <td>0.111111</td>\n",
       "      <td>0.778547</td>\n",
       "    </tr>\n",
       "  </tbody>\n",
       "</table>\n",
       "</div>"
      ],
      "text/plain": [
       "      Material  Density g/cm^3   A_1   A_2  Molar mass g/mol Chemical formula  \\\n",
       "0        Water             1.0   1.0  16.0              18.0              H2O   \n",
       "1       Unknow             1.6  12.0   2.0              28.0             C2D2   \n",
       "2  Heavy Water             1.1   2.0  16.0              20.0              D2O   \n",
       "\n",
       "   sigma_1 b  sigma_2 b   x1   x2   Σ, 1/cm       ɑ_1       ɑ_2  \n",
       "0       30.0        4.0  2.0  1.0  2.141206  0.000000  0.778547  \n",
       "1        4.9        3.5  2.0  2.0  0.578126  0.715976  0.111111  \n",
       "2        3.5        4.0  2.0  1.0  0.364340  0.111111  0.778547  "
      ]
     },
     "execution_count": 34,
     "metadata": {},
     "output_type": "execute_result"
    }
   ],
   "source": [
    "df.loc[df['Chemical formula'] == 'C2D2', 'Material'] = 'Unknow'\n",
    "df"
   ]
  },
  {
   "cell_type": "code",
   "execution_count": 35,
   "metadata": {},
   "outputs": [
    {
     "data": {
      "text/html": [
       "<div>\n",
       "<style scoped>\n",
       "    .dataframe tbody tr th:only-of-type {\n",
       "        vertical-align: middle;\n",
       "    }\n",
       "\n",
       "    .dataframe tbody tr th {\n",
       "        vertical-align: top;\n",
       "    }\n",
       "\n",
       "    .dataframe thead th {\n",
       "        text-align: right;\n",
       "    }\n",
       "</style>\n",
       "<table border=\"1\" class=\"dataframe\">\n",
       "  <thead>\n",
       "    <tr style=\"text-align: right;\">\n",
       "      <th></th>\n",
       "      <th>Material</th>\n",
       "      <th>Density g/cm^3</th>\n",
       "      <th>A_1</th>\n",
       "      <th>A_2</th>\n",
       "      <th>Molar mass g/mol</th>\n",
       "      <th>Chemical formula</th>\n",
       "      <th>sigma_1 b</th>\n",
       "      <th>sigma_2 b</th>\n",
       "      <th>x1</th>\n",
       "      <th>x2</th>\n",
       "      <th>Σ, 1/cm</th>\n",
       "      <th>ɑ_1</th>\n",
       "      <th>ɑ_2</th>\n",
       "    </tr>\n",
       "  </thead>\n",
       "  <tbody>\n",
       "    <tr>\n",
       "      <th>0</th>\n",
       "      <td>Water</td>\n",
       "      <td>1.0</td>\n",
       "      <td>1.0</td>\n",
       "      <td>16.0</td>\n",
       "      <td>18.0</td>\n",
       "      <td>H2O</td>\n",
       "      <td>30.0</td>\n",
       "      <td>4.0</td>\n",
       "      <td>2.0</td>\n",
       "      <td>1.0</td>\n",
       "      <td>2.141206</td>\n",
       "      <td>0.000000</td>\n",
       "      <td>0.778547</td>\n",
       "    </tr>\n",
       "    <tr>\n",
       "      <th>1</th>\n",
       "      <td>Heavy Plexiglass</td>\n",
       "      <td>1.6</td>\n",
       "      <td>12.0</td>\n",
       "      <td>2.0</td>\n",
       "      <td>28.0</td>\n",
       "      <td>C2D2</td>\n",
       "      <td>4.9</td>\n",
       "      <td>3.5</td>\n",
       "      <td>2.0</td>\n",
       "      <td>2.0</td>\n",
       "      <td>0.578126</td>\n",
       "      <td>0.715976</td>\n",
       "      <td>0.111111</td>\n",
       "    </tr>\n",
       "    <tr>\n",
       "      <th>2</th>\n",
       "      <td>Heavy Water</td>\n",
       "      <td>1.1</td>\n",
       "      <td>2.0</td>\n",
       "      <td>16.0</td>\n",
       "      <td>20.0</td>\n",
       "      <td>D2O</td>\n",
       "      <td>3.5</td>\n",
       "      <td>4.0</td>\n",
       "      <td>2.0</td>\n",
       "      <td>1.0</td>\n",
       "      <td>0.364340</td>\n",
       "      <td>0.111111</td>\n",
       "      <td>0.778547</td>\n",
       "    </tr>\n",
       "  </tbody>\n",
       "</table>\n",
       "</div>"
      ],
      "text/plain": [
       "           Material  Density g/cm^3   A_1   A_2  Molar mass g/mol  \\\n",
       "0             Water             1.0   1.0  16.0              18.0   \n",
       "1  Heavy Plexiglass             1.6  12.0   2.0              28.0   \n",
       "2       Heavy Water             1.1   2.0  16.0              20.0   \n",
       "\n",
       "  Chemical formula  sigma_1 b  sigma_2 b   x1   x2   Σ, 1/cm       ɑ_1  \\\n",
       "0              H2O       30.0        4.0  2.0  1.0  2.141206  0.000000   \n",
       "1             C2D2        4.9        3.5  2.0  2.0  0.578126  0.715976   \n",
       "2              D2O        3.5        4.0  2.0  1.0  0.364340  0.111111   \n",
       "\n",
       "        ɑ_2  \n",
       "0  0.778547  \n",
       "1  0.111111  \n",
       "2  0.778547  "
      ]
     },
     "execution_count": 35,
     "metadata": {},
     "output_type": "execute_result"
    }
   ],
   "source": [
    "df.loc[df['Chemical formula'] == 'C2D2', 'Material'] = 'Heavy Plexiglass'\n",
    "df"
   ]
  },
  {
   "cell_type": "markdown",
   "metadata": {},
   "source": [
    "Изменение данных через SQL"
   ]
  },
  {
   "cell_type": "code",
   "execution_count": 39,
   "metadata": {},
   "outputs": [
    {
     "name": "stdout",
     "output_type": "stream",
     "text": [
      "('Unknow', 1.0, 1, 16, 18, 'H2O', 30.0, 4.0, 2, 1, 2.1412056035555556, 0.0, 0.7785467128027681)\n",
      "\n",
      "('Heavy Plexiglass', 1.6, 12, 2, 28, 'C2D2', 4.9, 3.5, 2, 2, 0.57812551296, 0.7159763313609467, 0.1111111111111111)\n",
      "\n",
      "('Heavy Water', 1.1, 2, 16, 20, 'D2O', 3.5, 4.0, 2, 1, 0.36433951598000003, 0.1111111111111111, 0.7785467128027681)\n",
      "\n"
     ]
    }
   ],
   "source": [
    "conn = sqlite3.connect('data/neutron_moderation.db')\n",
    "\n",
    "cursor = conn.execute(\"UPDATE Input_data set Material = 'Unknow' where Material = 'Water'\")\n",
    "conn.commit()\n",
    "\n",
    "for row in cursor.execute('SELECT * FROM Input_data'):\n",
    "    print(row)\n",
    "    print()\n",
    "\n",
    "conn.close()"
   ]
  },
  {
   "cell_type": "code",
   "execution_count": 42,
   "metadata": {},
   "outputs": [
    {
     "name": "stdout",
     "output_type": "stream",
     "text": [
      "('Water', 1.0, 1, 16, 18, 'H2O', 30.0, 4.0, 2, 1, 2.1412056035555556, 0.0, 0.7785467128027681)\n",
      "\n",
      "('Heavy Plexiglass', 1.6, 12, 2, 28, 'C2D2', 4.9, 3.5, 2, 2, 0.57812551296, 0.7159763313609467, 0.1111111111111111)\n",
      "\n",
      "('Heavy Water', 1.1, 2, 16, 20, 'D2O', 3.5, 4.0, 2, 1, 0.36433951598000003, 0.1111111111111111, 0.7785467128027681)\n",
      "\n"
     ]
    }
   ],
   "source": [
    "conn = sqlite3.connect('data/neutron_moderation.db')\n",
    "\n",
    "cursor = conn.execute(\"UPDATE Input_data set Material = 'Water' where Material = 'Unknow'\")\n",
    "conn.commit()\n",
    "\n",
    "for row in cursor.execute('SELECT * FROM Input_data'):\n",
    "    print(row)\n",
    "    print()\n",
    "\n",
    "conn.close()"
   ]
  },
  {
   "cell_type": "markdown",
   "metadata": {},
   "source": [
    "## 2.6 ORDER BY"
   ]
  },
  {
   "cell_type": "markdown",
   "metadata": {},
   "source": [
    "Сортировка в Pandas по возрастанию с условием"
   ]
  },
  {
   "cell_type": "code",
   "execution_count": 67,
   "metadata": {},
   "outputs": [
    {
     "data": {
      "text/html": [
       "<div>\n",
       "<style scoped>\n",
       "    .dataframe tbody tr th:only-of-type {\n",
       "        vertical-align: middle;\n",
       "    }\n",
       "\n",
       "    .dataframe tbody tr th {\n",
       "        vertical-align: top;\n",
       "    }\n",
       "\n",
       "    .dataframe thead th {\n",
       "        text-align: right;\n",
       "    }\n",
       "</style>\n",
       "<table border=\"1\" class=\"dataframe\">\n",
       "  <thead>\n",
       "    <tr style=\"text-align: right;\">\n",
       "      <th></th>\n",
       "      <th>time, 10^(-5) c</th>\n",
       "      <th>colisions</th>\n",
       "      <th>Material</th>\n",
       "      <th>target</th>\n",
       "    </tr>\n",
       "  </thead>\n",
       "  <tbody>\n",
       "    <tr>\n",
       "      <th>129</th>\n",
       "      <td>0.039810</td>\n",
       "      <td>6.0</td>\n",
       "      <td>Water</td>\n",
       "      <td>0.0</td>\n",
       "    </tr>\n",
       "    <tr>\n",
       "      <th>280</th>\n",
       "      <td>0.013819</td>\n",
       "      <td>6.0</td>\n",
       "      <td>Water</td>\n",
       "      <td>0.0</td>\n",
       "    </tr>\n",
       "    <tr>\n",
       "      <th>61</th>\n",
       "      <td>0.017364</td>\n",
       "      <td>7.0</td>\n",
       "      <td>Water</td>\n",
       "      <td>0.0</td>\n",
       "    </tr>\n",
       "    <tr>\n",
       "      <th>44</th>\n",
       "      <td>0.017380</td>\n",
       "      <td>7.0</td>\n",
       "      <td>Water</td>\n",
       "      <td>0.0</td>\n",
       "    </tr>\n",
       "    <tr>\n",
       "      <th>38</th>\n",
       "      <td>0.008106</td>\n",
       "      <td>7.0</td>\n",
       "      <td>Water</td>\n",
       "      <td>0.0</td>\n",
       "    </tr>\n",
       "    <tr>\n",
       "      <th>...</th>\n",
       "      <td>...</td>\n",
       "      <td>...</td>\n",
       "      <td>...</td>\n",
       "      <td>...</td>\n",
       "    </tr>\n",
       "    <tr>\n",
       "      <th>90</th>\n",
       "      <td>0.248149</td>\n",
       "      <td>26.0</td>\n",
       "      <td>Water</td>\n",
       "      <td>0.0</td>\n",
       "    </tr>\n",
       "    <tr>\n",
       "      <th>60</th>\n",
       "      <td>0.041406</td>\n",
       "      <td>26.0</td>\n",
       "      <td>Water</td>\n",
       "      <td>0.0</td>\n",
       "    </tr>\n",
       "    <tr>\n",
       "      <th>130</th>\n",
       "      <td>0.113050</td>\n",
       "      <td>26.0</td>\n",
       "      <td>Water</td>\n",
       "      <td>0.0</td>\n",
       "    </tr>\n",
       "    <tr>\n",
       "      <th>71</th>\n",
       "      <td>0.135314</td>\n",
       "      <td>27.0</td>\n",
       "      <td>Water</td>\n",
       "      <td>0.0</td>\n",
       "    </tr>\n",
       "    <tr>\n",
       "      <th>202</th>\n",
       "      <td>0.096467</td>\n",
       "      <td>27.0</td>\n",
       "      <td>Water</td>\n",
       "      <td>0.0</td>\n",
       "    </tr>\n",
       "  </tbody>\n",
       "</table>\n",
       "<p>300 rows × 4 columns</p>\n",
       "</div>"
      ],
      "text/plain": [
       "     time, 10^(-5) c  colisions Material  target\n",
       "129         0.039810        6.0    Water     0.0\n",
       "280         0.013819        6.0    Water     0.0\n",
       "61          0.017364        7.0    Water     0.0\n",
       "44          0.017380        7.0    Water     0.0\n",
       "38          0.008106        7.0    Water     0.0\n",
       "..               ...        ...      ...     ...\n",
       "90          0.248149       26.0    Water     0.0\n",
       "60          0.041406       26.0    Water     0.0\n",
       "130         0.113050       26.0    Water     0.0\n",
       "71          0.135314       27.0    Water     0.0\n",
       "202         0.096467       27.0    Water     0.0\n",
       "\n",
       "[300 rows x 4 columns]"
      ]
     },
     "execution_count": 67,
     "metadata": {},
     "output_type": "execute_result"
    }
   ],
   "source": [
    "df1[df1.Material == 'Water'].sort_values('colisions')"
   ]
  },
  {
   "cell_type": "markdown",
   "metadata": {},
   "source": [
    "Сортировка в Pandas по убыванию с условием"
   ]
  },
  {
   "cell_type": "code",
   "execution_count": 69,
   "metadata": {},
   "outputs": [
    {
     "data": {
      "text/html": [
       "<div>\n",
       "<style scoped>\n",
       "    .dataframe tbody tr th:only-of-type {\n",
       "        vertical-align: middle;\n",
       "    }\n",
       "\n",
       "    .dataframe tbody tr th {\n",
       "        vertical-align: top;\n",
       "    }\n",
       "\n",
       "    .dataframe thead th {\n",
       "        text-align: right;\n",
       "    }\n",
       "</style>\n",
       "<table border=\"1\" class=\"dataframe\">\n",
       "  <thead>\n",
       "    <tr style=\"text-align: right;\">\n",
       "      <th></th>\n",
       "      <th>time, 10^(-5) c</th>\n",
       "      <th>colisions</th>\n",
       "      <th>Material</th>\n",
       "      <th>target</th>\n",
       "    </tr>\n",
       "  </thead>\n",
       "  <tbody>\n",
       "    <tr>\n",
       "      <th>71</th>\n",
       "      <td>0.135314</td>\n",
       "      <td>27.0</td>\n",
       "      <td>Water</td>\n",
       "      <td>0.0</td>\n",
       "    </tr>\n",
       "    <tr>\n",
       "      <th>202</th>\n",
       "      <td>0.096467</td>\n",
       "      <td>27.0</td>\n",
       "      <td>Water</td>\n",
       "      <td>0.0</td>\n",
       "    </tr>\n",
       "    <tr>\n",
       "      <th>90</th>\n",
       "      <td>0.248149</td>\n",
       "      <td>26.0</td>\n",
       "      <td>Water</td>\n",
       "      <td>0.0</td>\n",
       "    </tr>\n",
       "    <tr>\n",
       "      <th>23</th>\n",
       "      <td>0.157339</td>\n",
       "      <td>26.0</td>\n",
       "      <td>Water</td>\n",
       "      <td>0.0</td>\n",
       "    </tr>\n",
       "    <tr>\n",
       "      <th>60</th>\n",
       "      <td>0.041406</td>\n",
       "      <td>26.0</td>\n",
       "      <td>Water</td>\n",
       "      <td>0.0</td>\n",
       "    </tr>\n",
       "    <tr>\n",
       "      <th>...</th>\n",
       "      <td>...</td>\n",
       "      <td>...</td>\n",
       "      <td>...</td>\n",
       "      <td>...</td>\n",
       "    </tr>\n",
       "    <tr>\n",
       "      <th>61</th>\n",
       "      <td>0.017364</td>\n",
       "      <td>7.0</td>\n",
       "      <td>Water</td>\n",
       "      <td>0.0</td>\n",
       "    </tr>\n",
       "    <tr>\n",
       "      <th>178</th>\n",
       "      <td>0.019329</td>\n",
       "      <td>7.0</td>\n",
       "      <td>Water</td>\n",
       "      <td>0.0</td>\n",
       "    </tr>\n",
       "    <tr>\n",
       "      <th>38</th>\n",
       "      <td>0.008106</td>\n",
       "      <td>7.0</td>\n",
       "      <td>Water</td>\n",
       "      <td>0.0</td>\n",
       "    </tr>\n",
       "    <tr>\n",
       "      <th>280</th>\n",
       "      <td>0.013819</td>\n",
       "      <td>6.0</td>\n",
       "      <td>Water</td>\n",
       "      <td>0.0</td>\n",
       "    </tr>\n",
       "    <tr>\n",
       "      <th>129</th>\n",
       "      <td>0.039810</td>\n",
       "      <td>6.0</td>\n",
       "      <td>Water</td>\n",
       "      <td>0.0</td>\n",
       "    </tr>\n",
       "  </tbody>\n",
       "</table>\n",
       "<p>300 rows × 4 columns</p>\n",
       "</div>"
      ],
      "text/plain": [
       "     time, 10^(-5) c  colisions Material  target\n",
       "71          0.135314       27.0    Water     0.0\n",
       "202         0.096467       27.0    Water     0.0\n",
       "90          0.248149       26.0    Water     0.0\n",
       "23          0.157339       26.0    Water     0.0\n",
       "60          0.041406       26.0    Water     0.0\n",
       "..               ...        ...      ...     ...\n",
       "61          0.017364        7.0    Water     0.0\n",
       "178         0.019329        7.0    Water     0.0\n",
       "38          0.008106        7.0    Water     0.0\n",
       "280         0.013819        6.0    Water     0.0\n",
       "129         0.039810        6.0    Water     0.0\n",
       "\n",
       "[300 rows x 4 columns]"
      ]
     },
     "execution_count": 69,
     "metadata": {},
     "output_type": "execute_result"
    }
   ],
   "source": [
    "df1[df1.Material == 'Water'].sort_values('colisions', ascending = False)"
   ]
  },
  {
   "cell_type": "markdown",
   "metadata": {},
   "source": [
    "Сортировка SQL по возрастанию с условием"
   ]
  },
  {
   "cell_type": "code",
   "execution_count": 75,
   "metadata": {},
   "outputs": [
    {
     "name": "stdout",
     "output_type": "stream",
     "text": [
      "(0.03981004270665086, 6.0, 'Water', 0.0)\n",
      "\n",
      "(0.013818766639619376, 6.0, 'Water', 0.0)\n",
      "\n",
      "(0.008105794157350812, 7.0, 'Water', 0.0)\n",
      "\n",
      "(0.017379645765128005, 7.0, 'Water', 0.0)\n",
      "\n",
      "(0.01736400741192504, 7.0, 'Water', 0.0)\n",
      "\n",
      "(0.01932861098308254, 7.0, 'Water', 0.0)\n",
      "\n",
      "(0.023179459144930373, 8.0, 'Water', 0.0)\n",
      "\n",
      "(0.07682616463959462, 8.0, 'Water', 0.0)\n",
      "\n",
      "(0.0631499341506568, 8.0, 'Water', 0.0)\n",
      "\n",
      "(0.037781693103645486, 8.0, 'Water', 0.0)\n",
      "\n"
     ]
    }
   ],
   "source": [
    "conn = sqlite3.connect('data/neutron_moderation.db')\n",
    "\n",
    "cursor = conn.execute(\n",
    "    \"SELECT * FROM Output_data where Material = 'Water' order by colisions limit 10\")\n",
    "\n",
    "for row in cursor:\n",
    "    print(row)\n",
    "    print()\n",
    "\n",
    "conn.close()"
   ]
  },
  {
   "cell_type": "code",
   "execution_count": 77,
   "metadata": {},
   "outputs": [
    {
     "name": "stdout",
     "output_type": "stream",
     "text": [
      "(0.13531443463957188, 27.0, 'Water', 0.0)\n",
      "\n",
      "(0.09646672385022056, 27.0, 'Water', 0.0)\n",
      "\n",
      "(0.15733943266182615, 26.0, 'Water', 0.0)\n",
      "\n",
      "(0.04140597805212526, 26.0, 'Water', 0.0)\n",
      "\n",
      "(0.24814923845952933, 26.0, 'Water', 0.0)\n",
      "\n"
     ]
    }
   ],
   "source": [
    "conn = sqlite3.connect('data/neutron_moderation.db')\n",
    "\n",
    "cursor = conn.execute(\n",
    "    \"SELECT * FROM Output_data where Material = 'Water' order by colisions desc limit 5\")\n",
    "\n",
    "for row in cursor:\n",
    "    print(row)\n",
    "    print()\n",
    "\n",
    "conn.close()"
   ]
  },
  {
   "cell_type": "markdown",
   "metadata": {},
   "source": [
    "## 2.7 IN и NOT IN"
   ]
  }
 ],
 "metadata": {
  "kernelspec": {
   "display_name": "Python 3",
   "language": "python",
   "name": "python3"
  },
  "language_info": {
   "codemirror_mode": {
    "name": "ipython",
    "version": 3
   },
   "file_extension": ".py",
   "mimetype": "text/x-python",
   "name": "python",
   "nbconvert_exporter": "python",
   "pygments_lexer": "ipython3",
   "version": "3.7.6"
  }
 },
 "nbformat": 4,
 "nbformat_minor": 4
}
