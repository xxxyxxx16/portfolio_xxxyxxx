{
 "cells": [
  {
   "cell_type": "code",
   "execution_count": 1,
   "id": "interim-brunswick",
   "metadata": {},
   "outputs": [],
   "source": [
    "import pandas as pd"
   ]
  },
  {
   "cell_type": "code",
   "execution_count": 2,
   "id": "early-forty",
   "metadata": {},
   "outputs": [
    {
     "data": {
      "text/html": [
       "<div>\n",
       "<style scoped>\n",
       "    .dataframe tbody tr th:only-of-type {\n",
       "        vertical-align: middle;\n",
       "    }\n",
       "\n",
       "    .dataframe tbody tr th {\n",
       "        vertical-align: top;\n",
       "    }\n",
       "\n",
       "    .dataframe thead th {\n",
       "        text-align: right;\n",
       "    }\n",
       "</style>\n",
       "<table border=\"1\" class=\"dataframe\">\n",
       "  <thead>\n",
       "    <tr style=\"text-align: right;\">\n",
       "      <th></th>\n",
       "      <th>\\rho(g/cm^3)</th>\n",
       "      <th>T_c(K)</th>\n",
       "      <th>T_f(K)</th>\n",
       "      <th>c_b(ppm)</th>\n",
       "      <th>3S_{tr1}(1)</th>\n",
       "      <th>3S_{tr2}(2)</th>\n",
       "      <th>\\Sigma_{a1}(3)</th>\n",
       "      <th>\\Sigma_{a2}(4)</th>\n",
       "      <th>nuS_{f1}(5)</th>\n",
       "      <th>nuS_{f2}(6)</th>\n",
       "      <th>\\Sigma_{f1}(7)</th>\n",
       "      <th>\\Sigma_{f2}(8)</th>\n",
       "      <th>\\Sigma_{1-&gt;2}(9)</th>\n",
       "      <th>k_{inf}(10)</th>\n",
       "      <th>\\sigma_{a2}^{Xe}</th>\n",
       "      <th>\\sigma_{a2}^{Sm}</th>\n",
       "    </tr>\n",
       "  </thead>\n",
       "  <tbody>\n",
       "    <tr>\n",
       "      <th>0</th>\n",
       "      <td>0.7235</td>\n",
       "      <td>575.0</td>\n",
       "      <td>1027.0</td>\n",
       "      <td>600.0</td>\n",
       "      <td>0.661853</td>\n",
       "      <td>2.568298</td>\n",
       "      <td>0.009376</td>\n",
       "      <td>0.085584</td>\n",
       "      <td>0.006677</td>\n",
       "      <td>0.133250</td>\n",
       "      <td>0.002620</td>\n",
       "      <td>0.054750</td>\n",
       "      <td>0.017392</td>\n",
       "      <td>1.261041</td>\n",
       "      <td>1072970.0</td>\n",
       "      <td>35421.398</td>\n",
       "    </tr>\n",
       "    <tr>\n",
       "      <th>1</th>\n",
       "      <td>0.7750</td>\n",
       "      <td>448.0</td>\n",
       "      <td>1043.0</td>\n",
       "      <td>1500.0</td>\n",
       "      <td>0.679602</td>\n",
       "      <td>2.874687</td>\n",
       "      <td>0.009581</td>\n",
       "      <td>0.098339</td>\n",
       "      <td>0.006723</td>\n",
       "      <td>0.139256</td>\n",
       "      <td>0.002636</td>\n",
       "      <td>0.057218</td>\n",
       "      <td>0.018726</td>\n",
       "      <td>1.174265</td>\n",
       "      <td>1141000.0</td>\n",
       "      <td>36147.801</td>\n",
       "    </tr>\n",
       "    <tr>\n",
       "      <th>2</th>\n",
       "      <td>0.9125</td>\n",
       "      <td>370.5</td>\n",
       "      <td>1418.0</td>\n",
       "      <td>750.0</td>\n",
       "      <td>0.727336</td>\n",
       "      <td>3.668742</td>\n",
       "      <td>0.009908</td>\n",
       "      <td>0.102815</td>\n",
       "      <td>0.006844</td>\n",
       "      <td>0.153823</td>\n",
       "      <td>0.002681</td>\n",
       "      <td>0.063203</td>\n",
       "      <td>0.022463</td>\n",
       "      <td>1.249619</td>\n",
       "      <td>1308480.0</td>\n",
       "      <td>39214.000</td>\n",
       "    </tr>\n",
       "  </tbody>\n",
       "</table>\n",
       "</div>"
      ],
      "text/plain": [
       "   \\rho(g/cm^3)  T_c(K)  T_f(K)  c_b(ppm)  3S_{tr1}(1)  3S_{tr2}(2)  \\\n",
       "0        0.7235   575.0  1027.0     600.0     0.661853     2.568298   \n",
       "1        0.7750   448.0  1043.0    1500.0     0.679602     2.874687   \n",
       "2        0.9125   370.5  1418.0     750.0     0.727336     3.668742   \n",
       "\n",
       "   \\Sigma_{a1}(3)  \\Sigma_{a2}(4)  nuS_{f1}(5)  nuS_{f2}(6)  \\Sigma_{f1}(7)  \\\n",
       "0        0.009376        0.085584     0.006677     0.133250        0.002620   \n",
       "1        0.009581        0.098339     0.006723     0.139256        0.002636   \n",
       "2        0.009908        0.102815     0.006844     0.153823        0.002681   \n",
       "\n",
       "   \\Sigma_{f2}(8)  \\Sigma_{1->2}(9)  k_{inf}(10)  \\sigma_{a2}^{Xe}  \\\n",
       "0        0.054750          0.017392     1.261041         1072970.0   \n",
       "1        0.057218          0.018726     1.174265         1141000.0   \n",
       "2        0.063203          0.022463     1.249619         1308480.0   \n",
       "\n",
       "   \\sigma_{a2}^{Sm}  \n",
       "0         35421.398  \n",
       "1         36147.801  \n",
       "2         39214.000  "
      ]
     },
     "execution_count": 2,
     "metadata": {},
     "output_type": "execute_result"
    }
   ],
   "source": [
    "df = pd.read_excel('Input/Data.xlsx')\n",
    "df.head(3)"
   ]
  },
  {
   "cell_type": "code",
   "execution_count": 3,
   "id": "featured-change",
   "metadata": {},
   "outputs": [],
   "source": [
    "features = ['\\\\rho(g/cm^3)',\n",
    "            'T_f(K)',\n",
    "            'T_c(K)',\n",
    "           'c_b(ppm)']"
   ]
  },
  {
   "cell_type": "code",
   "execution_count": 4,
   "id": "collaborative-indonesian",
   "metadata": {},
   "outputs": [
    {
     "data": {
      "text/html": [
       "<div>\n",
       "<style scoped>\n",
       "    .dataframe tbody tr th:only-of-type {\n",
       "        vertical-align: middle;\n",
       "    }\n",
       "\n",
       "    .dataframe tbody tr th {\n",
       "        vertical-align: top;\n",
       "    }\n",
       "\n",
       "    .dataframe thead th {\n",
       "        text-align: right;\n",
       "    }\n",
       "</style>\n",
       "<table border=\"1\" class=\"dataframe\">\n",
       "  <thead>\n",
       "    <tr style=\"text-align: right;\">\n",
       "      <th></th>\n",
       "      <th>\\rho(g/cm^3)</th>\n",
       "      <th>T_f(K)</th>\n",
       "      <th>T_c(K)</th>\n",
       "      <th>c_b(ppm)</th>\n",
       "    </tr>\n",
       "  </thead>\n",
       "  <tbody>\n",
       "    <tr>\n",
       "      <th>0</th>\n",
       "      <td>0.723500</td>\n",
       "      <td>1027.00000</td>\n",
       "      <td>575.00000</td>\n",
       "      <td>600.00000</td>\n",
       "    </tr>\n",
       "    <tr>\n",
       "      <th>1</th>\n",
       "      <td>0.775000</td>\n",
       "      <td>1043.00000</td>\n",
       "      <td>448.00000</td>\n",
       "      <td>1500.00000</td>\n",
       "    </tr>\n",
       "    <tr>\n",
       "      <th>2</th>\n",
       "      <td>0.912500</td>\n",
       "      <td>1418.00000</td>\n",
       "      <td>370.50000</td>\n",
       "      <td>750.00000</td>\n",
       "    </tr>\n",
       "    <tr>\n",
       "      <th>3</th>\n",
       "      <td>0.637500</td>\n",
       "      <td>668.00000</td>\n",
       "      <td>525.50000</td>\n",
       "      <td>2250.00000</td>\n",
       "    </tr>\n",
       "    <tr>\n",
       "      <th>4</th>\n",
       "      <td>0.706250</td>\n",
       "      <td>1230.50000</td>\n",
       "      <td>409.25000</td>\n",
       "      <td>375.00000</td>\n",
       "    </tr>\n",
       "    <tr>\n",
       "      <th>...</th>\n",
       "      <td>...</td>\n",
       "      <td>...</td>\n",
       "      <td>...</td>\n",
       "      <td>...</td>\n",
       "    </tr>\n",
       "    <tr>\n",
       "      <th>252</th>\n",
       "      <td>0.639648</td>\n",
       "      <td>380.89059</td>\n",
       "      <td>369.28909</td>\n",
       "      <td>972.65619</td>\n",
       "    </tr>\n",
       "    <tr>\n",
       "      <th>253</th>\n",
       "      <td>0.914648</td>\n",
       "      <td>1130.89100</td>\n",
       "      <td>524.28912</td>\n",
       "      <td>2472.65600</td>\n",
       "    </tr>\n",
       "    <tr>\n",
       "      <th>254</th>\n",
       "      <td>0.777148</td>\n",
       "      <td>1505.89100</td>\n",
       "      <td>446.78909</td>\n",
       "      <td>222.65620</td>\n",
       "    </tr>\n",
       "    <tr>\n",
       "      <th>255</th>\n",
       "      <td>0.502148</td>\n",
       "      <td>755.89062</td>\n",
       "      <td>601.78912</td>\n",
       "      <td>1722.65600</td>\n",
       "    </tr>\n",
       "    <tr>\n",
       "      <th>256</th>\n",
       "      <td>0.503223</td>\n",
       "      <td>1274.44500</td>\n",
       "      <td>447.39450</td>\n",
       "      <td>849.60938</td>\n",
       "    </tr>\n",
       "  </tbody>\n",
       "</table>\n",
       "<p>257 rows × 4 columns</p>\n",
       "</div>"
      ],
      "text/plain": [
       "     \\rho(g/cm^3)      T_f(K)     T_c(K)    c_b(ppm)\n",
       "0        0.723500  1027.00000  575.00000   600.00000\n",
       "1        0.775000  1043.00000  448.00000  1500.00000\n",
       "2        0.912500  1418.00000  370.50000   750.00000\n",
       "3        0.637500   668.00000  525.50000  2250.00000\n",
       "4        0.706250  1230.50000  409.25000   375.00000\n",
       "..            ...         ...        ...         ...\n",
       "252      0.639648   380.89059  369.28909   972.65619\n",
       "253      0.914648  1130.89100  524.28912  2472.65600\n",
       "254      0.777148  1505.89100  446.78909   222.65620\n",
       "255      0.502148   755.89062  601.78912  1722.65600\n",
       "256      0.503223  1274.44500  447.39450   849.60938\n",
       "\n",
       "[257 rows x 4 columns]"
      ]
     },
     "execution_count": 4,
     "metadata": {},
     "output_type": "execute_result"
    }
   ],
   "source": [
    "df[features]"
   ]
  },
  {
   "cell_type": "code",
   "execution_count": 5,
   "id": "confirmed-privilege",
   "metadata": {},
   "outputs": [],
   "source": [
    "from sklearn.preprocessing import StandardScaler\n",
    "\n",
    "pca = StandardScaler()\n",
    "pca.fit(df[features])\n",
    "# Выход pca - numpy матрица, положим ее в новую переменную со всеми фичами\n",
    "X = pca.transform(df[features])"
   ]
  },
  {
   "cell_type": "code",
   "execution_count": 6,
   "id": "several-stack",
   "metadata": {},
   "outputs": [],
   "source": [
    "from sklearn.neighbors import KNeighborsRegressor\n",
    "from sklearn.metrics import r2_score, mean_squared_error"
   ]
  },
  {
   "cell_type": "code",
   "execution_count": 7,
   "id": "floating-building",
   "metadata": {},
   "outputs": [],
   "source": [
    "from sklearn.metrics import r2_score, mean_squared_error, make_scorer\n",
    "from sklearn.model_selection import cross_validate\n",
    "from sklearn.model_selection import GridSearchCV"
   ]
  },
  {
   "cell_type": "code",
   "execution_count": 8,
   "id": "advisory-cookie",
   "metadata": {},
   "outputs": [],
   "source": [
    "from sklearn.model_selection import train_test_split\n",
    "X_train, X_test, y_train, y_test = train_test_split(X, df['\\sigma_{a2}^{Xe}'], test_size=0.3)"
   ]
  },
  {
   "cell_type": "code",
   "execution_count": 9,
   "id": "critical-identifier",
   "metadata": {},
   "outputs": [],
   "source": [
    "import numpy as np\n",
    "\n",
    "param_grid = {\n",
    "    'n_neighbors': np.arange(1, 15),\n",
    "    'weights': ['uniform', 'distance']\n",
    "}"
   ]
  },
  {
   "cell_type": "code",
   "execution_count": 10,
   "id": "liable-accident",
   "metadata": {},
   "outputs": [],
   "source": [
    "clf = KNeighborsRegressor()"
   ]
  },
  {
   "cell_type": "code",
   "execution_count": 11,
   "id": "exotic-bundle",
   "metadata": {},
   "outputs": [
    {
     "name": "stdout",
     "output_type": "stream",
     "text": [
      "{'n_neighbors': 7, 'weights': 'distance'}\n"
     ]
    }
   ],
   "source": [
    "# создадим объект GridSearchCV\n",
    "search = GridSearchCV(clf, param_grid, n_jobs=-1, cv=2, refit=True)\n",
    "\n",
    "# запустим поиск\n",
    "search.fit(X_train, y_train)\n",
    "\n",
    "# выведем наилучшие параметры\n",
    "print(search.best_params_)"
   ]
  },
  {
   "cell_type": "code",
   "execution_count": 14,
   "id": "chinese-argentina",
   "metadata": {},
   "outputs": [
    {
     "data": {
      "text/plain": [
       "{'fit_time': array([0.00100112, 0.00099754]),\n",
       " 'score_time': array([0.00096512, 0.00099802]),\n",
       " 'test_mean_squared_error': array([1.18249968e+09, 1.12562119e+09])}"
      ]
     },
     "execution_count": 14,
     "metadata": {},
     "output_type": "execute_result"
    }
   ],
   "source": [
    "cross_validate(KNeighborsRegressor(n_neighbors = 7, weights = 'distance'), X, df['\\sigma_{a2}^{Xe}'], cv=2,\n",
    "               scoring={'mean_squared_error': make_scorer(mean_squared_error)})"
   ]
  },
  {
   "cell_type": "code",
   "execution_count": 13,
   "id": "sorted-testament",
   "metadata": {},
   "outputs": [
    {
     "ename": "NameError",
     "evalue": "name 'stop' is not defined",
     "output_type": "error",
     "traceback": [
      "\u001b[1;31m---------------------------------------------------------------------------\u001b[0m",
      "\u001b[1;31mNameError\u001b[0m                                 Traceback (most recent call last)",
      "\u001b[1;32m<ipython-input-13-4f76a9dad686>\u001b[0m in \u001b[0;36m<module>\u001b[1;34m\u001b[0m\n\u001b[1;32m----> 1\u001b[1;33m \u001b[0mstop\u001b[0m\u001b[1;33m\u001b[0m\u001b[1;33m\u001b[0m\u001b[0m\n\u001b[0m",
      "\u001b[1;31mNameError\u001b[0m: name 'stop' is not defined"
     ]
    }
   ],
   "source": [
    "stop"
   ]
  },
  {
   "cell_type": "code",
   "execution_count": 15,
   "id": "southeast-wheat",
   "metadata": {},
   "outputs": [
    {
     "data": {
      "text/plain": [
       "KNeighborsRegressor(n_neighbors=7, weights='distance')"
      ]
     },
     "execution_count": 15,
     "metadata": {},
     "output_type": "execute_result"
    }
   ],
   "source": [
    "clf = KNeighborsRegressor(n_neighbors = 7, weights = 'distance')\n",
    "clf.fit(X_train, y_train)"
   ]
  },
  {
   "cell_type": "code",
   "execution_count": 16,
   "id": "green-seller",
   "metadata": {},
   "outputs": [
    {
     "data": {
      "text/plain": [
       "array([1239660., 1073000., 1232250., 1003400., 1160600., 1191710.,\n",
       "       1143220., 1085640., 1427190., 1282330., 1259600.,  958672.,\n",
       "       1314260., 1045870., 1061740., 1043120., 1031650., 1086830.,\n",
       "       1063510., 1010660., 1178050., 1020380., 1158590., 1139700.,\n",
       "        937458., 1102190., 1274620.,  981139., 1076210., 1084550.,\n",
       "       1238040., 1324890., 1204800., 1248930.,  928231., 1265360.,\n",
       "       1131830., 1266650.,  975454., 1092530., 1160230., 1368790.,\n",
       "       1116290., 1255860., 1412270., 1090570., 1239670., 1192940.,\n",
       "       1330260., 1237260., 1083000., 1142210., 1189500., 1172620.,\n",
       "       1177500., 1187960., 1089360., 1083460., 1109300., 1027040.,\n",
       "       1232090., 1015050., 1019360.,  977224., 1078010.,  991860.,\n",
       "       1143140., 1176690., 1231150., 1030710., 1266940., 1224120.,\n",
       "       1254120., 1196740., 1288470., 1174590., 1191910., 1189360.])"
      ]
     },
     "execution_count": 16,
     "metadata": {},
     "output_type": "execute_result"
    }
   ],
   "source": [
    "y_test.values"
   ]
  },
  {
   "cell_type": "code",
   "execution_count": 17,
   "id": "twenty-softball",
   "metadata": {},
   "outputs": [],
   "source": [
    "ypred = pd.Series(clf.predict(X_test))"
   ]
  },
  {
   "cell_type": "code",
   "execution_count": 18,
   "id": "republican-bookmark",
   "metadata": {},
   "outputs": [
    {
     "data": {
      "text/plain": [
       "array([1227896.60700761, 1058483.85228969, 1222494.25326809,\n",
       "        988491.90857309, 1157865.17033678, 1184955.61518032,\n",
       "       1109527.89274027, 1074608.55556993, 1359784.74055019,\n",
       "       1232260.48308295, 1221984.98772444,  990409.16409631,\n",
       "       1306306.93584647, 1027558.32705697, 1092627.7808673 ,\n",
       "       1061436.72408663, 1029189.31680673, 1072965.88155855,\n",
       "       1043010.48694921, 1026566.48932659, 1178463.19886561,\n",
       "       1050079.42081114, 1151650.08474294, 1135279.92196081,\n",
       "        958210.74328352, 1072956.50434123, 1217735.66437778,\n",
       "       1045065.04618454, 1101085.01676653, 1080018.14027304,\n",
       "       1183101.15309386, 1290949.25233293, 1187824.09275893,\n",
       "       1251356.25242262,  996651.70675877, 1251213.71004265,\n",
       "       1115004.91874938, 1268952.58121595, 1006149.18518449,\n",
       "       1101471.69109257, 1171568.94041721, 1327437.67125614,\n",
       "       1116509.06289028, 1214170.42488673, 1324748.41953694,\n",
       "       1112420.01906505, 1203804.61523169, 1154351.65535466,\n",
       "       1297472.72599344, 1216872.80333872, 1094264.83859098,\n",
       "       1144186.94190656, 1171795.73784072, 1147941.97507988,\n",
       "       1153479.90857808, 1181073.29644083, 1110727.46101924,\n",
       "       1084407.96643866, 1089865.63156613, 1015827.35425463,\n",
       "       1190196.15404726, 1016155.33337254, 1027952.67092094,\n",
       "        985003.18972776, 1105916.13397333,  984236.98680089,\n",
       "       1145645.92770269, 1177305.78832634, 1222632.77276918,\n",
       "       1043620.49144829, 1240056.5049692 , 1183065.62225718,\n",
       "       1217984.67362801, 1192730.24480152, 1282000.21449754,\n",
       "       1169454.16194358, 1161590.92174747, 1188693.86264958])"
      ]
     },
     "execution_count": 18,
     "metadata": {},
     "output_type": "execute_result"
    }
   ],
   "source": [
    "ypred.values"
   ]
  },
  {
   "cell_type": "code",
   "execution_count": 19,
   "id": "wireless-former",
   "metadata": {},
   "outputs": [],
   "source": [
    "import statsmodels as statsmodels\n",
    "import statsmodels.api as sm"
   ]
  },
  {
   "cell_type": "code",
   "execution_count": 20,
   "id": "pregnant-guitar",
   "metadata": {},
   "outputs": [
    {
     "data": {
      "text/plain": [
       "0.23921013219380777"
      ]
     },
     "execution_count": 20,
     "metadata": {},
     "output_type": "execute_result"
    }
   ],
   "source": [
    "RMSPE = statsmodels.tools.eval_measures.rmspe(y_test.values, ypred.values)\n",
    "RMSPE"
   ]
  }
 ],
 "metadata": {
  "kernelspec": {
   "display_name": "Python 3",
   "language": "python",
   "name": "python3"
  },
  "language_info": {
   "codemirror_mode": {
    "name": "ipython",
    "version": 3
   },
   "file_extension": ".py",
   "mimetype": "text/x-python",
   "name": "python",
   "nbconvert_exporter": "python",
   "pygments_lexer": "ipython3",
   "version": "3.8.5"
  }
 },
 "nbformat": 4,
 "nbformat_minor": 5
}
