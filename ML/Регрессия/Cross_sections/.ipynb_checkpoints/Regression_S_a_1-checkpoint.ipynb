{
 "cells": [
  {
   "cell_type": "markdown",
   "metadata": {},
   "source": [
    "# \\Sigma_{a1} в зависимости от плотности теплоносителя, температуры теплоносителя, температуры топлива и концентрации борной кислоты"
   ]
  },
  {
   "cell_type": "code",
   "execution_count": 1,
   "metadata": {},
   "outputs": [],
   "source": [
    "import pandas as pd"
   ]
  },
  {
   "cell_type": "markdown",
   "metadata": {},
   "source": [
    "Загрузка данных"
   ]
  },
  {
   "cell_type": "code",
   "execution_count": 2,
   "metadata": {},
   "outputs": [
    {
     "data": {
      "text/html": [
       "<div>\n",
       "<style scoped>\n",
       "    .dataframe tbody tr th:only-of-type {\n",
       "        vertical-align: middle;\n",
       "    }\n",
       "\n",
       "    .dataframe tbody tr th {\n",
       "        vertical-align: top;\n",
       "    }\n",
       "\n",
       "    .dataframe thead th {\n",
       "        text-align: right;\n",
       "    }\n",
       "</style>\n",
       "<table border=\"1\" class=\"dataframe\">\n",
       "  <thead>\n",
       "    <tr style=\"text-align: right;\">\n",
       "      <th></th>\n",
       "      <th>\\rho(g/cm^3)</th>\n",
       "      <th>T_c(K)</th>\n",
       "      <th>T_f(K)</th>\n",
       "      <th>c_b(ppm)</th>\n",
       "      <th>3S_{tr1}(1)</th>\n",
       "      <th>3S_{tr2}(2)</th>\n",
       "      <th>\\Sigma_{a1}(3)</th>\n",
       "      <th>\\Sigma_{a2}(4)</th>\n",
       "      <th>nuS_{f1}(5)</th>\n",
       "      <th>nuS_{f2}(6)</th>\n",
       "      <th>\\Sigma_{f1}(7)</th>\n",
       "      <th>\\Sigma_{f2}(8)</th>\n",
       "      <th>\\Sigma_{1-&gt;2}(9)</th>\n",
       "      <th>k_{inf}(10)</th>\n",
       "      <th>\\sigma_{a2}^{Xe}</th>\n",
       "      <th>\\sigma_{a2}^{Sm}</th>\n",
       "    </tr>\n",
       "  </thead>\n",
       "  <tbody>\n",
       "    <tr>\n",
       "      <th>0</th>\n",
       "      <td>0.7235</td>\n",
       "      <td>575.0</td>\n",
       "      <td>1027.0</td>\n",
       "      <td>600.0</td>\n",
       "      <td>0.661853</td>\n",
       "      <td>2.568298</td>\n",
       "      <td>0.009376</td>\n",
       "      <td>0.085584</td>\n",
       "      <td>0.006677</td>\n",
       "      <td>0.133250</td>\n",
       "      <td>0.002620</td>\n",
       "      <td>0.054750</td>\n",
       "      <td>0.017392</td>\n",
       "      <td>1.261041</td>\n",
       "      <td>1072970.0</td>\n",
       "      <td>35421.398</td>\n",
       "    </tr>\n",
       "    <tr>\n",
       "      <th>1</th>\n",
       "      <td>0.7750</td>\n",
       "      <td>448.0</td>\n",
       "      <td>1043.0</td>\n",
       "      <td>1500.0</td>\n",
       "      <td>0.679602</td>\n",
       "      <td>2.874687</td>\n",
       "      <td>0.009581</td>\n",
       "      <td>0.098339</td>\n",
       "      <td>0.006723</td>\n",
       "      <td>0.139256</td>\n",
       "      <td>0.002636</td>\n",
       "      <td>0.057218</td>\n",
       "      <td>0.018726</td>\n",
       "      <td>1.174265</td>\n",
       "      <td>1141000.0</td>\n",
       "      <td>36147.801</td>\n",
       "    </tr>\n",
       "    <tr>\n",
       "      <th>2</th>\n",
       "      <td>0.9125</td>\n",
       "      <td>370.5</td>\n",
       "      <td>1418.0</td>\n",
       "      <td>750.0</td>\n",
       "      <td>0.727336</td>\n",
       "      <td>3.668742</td>\n",
       "      <td>0.009908</td>\n",
       "      <td>0.102815</td>\n",
       "      <td>0.006844</td>\n",
       "      <td>0.153823</td>\n",
       "      <td>0.002681</td>\n",
       "      <td>0.063203</td>\n",
       "      <td>0.022463</td>\n",
       "      <td>1.249619</td>\n",
       "      <td>1308480.0</td>\n",
       "      <td>39214.000</td>\n",
       "    </tr>\n",
       "  </tbody>\n",
       "</table>\n",
       "</div>"
      ],
      "text/plain": [
       "   \\rho(g/cm^3)  T_c(K)  T_f(K)  c_b(ppm)  3S_{tr1}(1)  3S_{tr2}(2)  \\\n",
       "0        0.7235   575.0  1027.0     600.0     0.661853     2.568298   \n",
       "1        0.7750   448.0  1043.0    1500.0     0.679602     2.874687   \n",
       "2        0.9125   370.5  1418.0     750.0     0.727336     3.668742   \n",
       "\n",
       "   \\Sigma_{a1}(3)  \\Sigma_{a2}(4)  nuS_{f1}(5)  nuS_{f2}(6)  \\Sigma_{f1}(7)  \\\n",
       "0        0.009376        0.085584     0.006677     0.133250        0.002620   \n",
       "1        0.009581        0.098339     0.006723     0.139256        0.002636   \n",
       "2        0.009908        0.102815     0.006844     0.153823        0.002681   \n",
       "\n",
       "   \\Sigma_{f2}(8)  \\Sigma_{1->2}(9)  k_{inf}(10)  \\sigma_{a2}^{Xe}  \\\n",
       "0        0.054750          0.017392     1.261041         1072970.0   \n",
       "1        0.057218          0.018726     1.174265         1141000.0   \n",
       "2        0.063203          0.022463     1.249619         1308480.0   \n",
       "\n",
       "   \\sigma_{a2}^{Sm}  \n",
       "0         35421.398  \n",
       "1         36147.801  \n",
       "2         39214.000  "
      ]
     },
     "execution_count": 2,
     "metadata": {},
     "output_type": "execute_result"
    }
   ],
   "source": [
    "df = pd.read_excel('Input/Data.xlsx')\n",
    "df.head(3)"
   ]
  },
  {
   "cell_type": "code",
   "execution_count": 3,
   "metadata": {},
   "outputs": [],
   "source": [
    "names = ['\\\\rho(g/cm^3)',\n",
    " 'T_c(K)',\n",
    " 'T_f(K)',\n",
    " 'c_b(ppm)',\n",
    " '\\\\Sigma_{a1}(3)']"
   ]
  },
  {
   "cell_type": "code",
   "execution_count": 4,
   "metadata": {},
   "outputs": [],
   "source": [
    "train_dataset = df[names].sample(frac=0.8,random_state=0)\n",
    "test_dataset = df[names].drop(train_dataset.index)"
   ]
  },
  {
   "cell_type": "code",
   "execution_count": 5,
   "metadata": {},
   "outputs": [
    {
     "data": {
      "text/html": [
       "<div>\n",
       "<style scoped>\n",
       "    .dataframe tbody tr th:only-of-type {\n",
       "        vertical-align: middle;\n",
       "    }\n",
       "\n",
       "    .dataframe tbody tr th {\n",
       "        vertical-align: top;\n",
       "    }\n",
       "\n",
       "    .dataframe thead th {\n",
       "        text-align: right;\n",
       "    }\n",
       "</style>\n",
       "<table border=\"1\" class=\"dataframe\">\n",
       "  <thead>\n",
       "    <tr style=\"text-align: right;\">\n",
       "      <th></th>\n",
       "      <th>\\rho(g/cm^3)</th>\n",
       "      <th>T_c(K)</th>\n",
       "      <th>T_f(K)</th>\n",
       "      <th>c_b(ppm)</th>\n",
       "      <th>\\Sigma_{a1}(3)</th>\n",
       "    </tr>\n",
       "  </thead>\n",
       "  <tbody>\n",
       "    <tr>\n",
       "      <th>158</th>\n",
       "      <td>0.798633</td>\n",
       "      <td>405.61719</td>\n",
       "      <td>486.35941</td>\n",
       "      <td>855.46881</td>\n",
       "      <td>0.009191</td>\n",
       "    </tr>\n",
       "    <tr>\n",
       "      <th>83</th>\n",
       "      <td>0.701953</td>\n",
       "      <td>561.82812</td>\n",
       "      <td>1664.09400</td>\n",
       "      <td>1195.31200</td>\n",
       "      <td>0.009682</td>\n",
       "    </tr>\n",
       "    <tr>\n",
       "      <th>170</th>\n",
       "      <td>1.047852</td>\n",
       "      <td>294.21091</td>\n",
       "      <td>1447.29700</td>\n",
       "      <td>1746.09400</td>\n",
       "      <td>0.010267</td>\n",
       "    </tr>\n",
       "  </tbody>\n",
       "</table>\n",
       "</div>"
      ],
      "text/plain": [
       "     \\rho(g/cm^3)     T_c(K)      T_f(K)    c_b(ppm)  \\Sigma_{a1}(3)\n",
       "158      0.798633  405.61719   486.35941   855.46881        0.009191\n",
       "83       0.701953  561.82812  1664.09400  1195.31200        0.009682\n",
       "170      1.047852  294.21091  1447.29700  1746.09400        0.010267"
      ]
     },
     "execution_count": 5,
     "metadata": {},
     "output_type": "execute_result"
    }
   ],
   "source": [
    "train_dataset.head(3)"
   ]
  },
  {
   "cell_type": "code",
   "execution_count": 6,
   "metadata": {},
   "outputs": [
    {
     "data": {
      "text/html": [
       "<div>\n",
       "<style scoped>\n",
       "    .dataframe tbody tr th:only-of-type {\n",
       "        vertical-align: middle;\n",
       "    }\n",
       "\n",
       "    .dataframe tbody tr th {\n",
       "        vertical-align: top;\n",
       "    }\n",
       "\n",
       "    .dataframe thead th {\n",
       "        text-align: right;\n",
       "    }\n",
       "</style>\n",
       "<table border=\"1\" class=\"dataframe\">\n",
       "  <thead>\n",
       "    <tr style=\"text-align: right;\">\n",
       "      <th></th>\n",
       "      <th>\\rho(g/cm^3)</th>\n",
       "      <th>T_c(K)</th>\n",
       "      <th>T_f(K)</th>\n",
       "      <th>c_b(ppm)</th>\n",
       "      <th>\\Sigma_{a1}(3)</th>\n",
       "    </tr>\n",
       "  </thead>\n",
       "  <tbody>\n",
       "    <tr>\n",
       "      <th>9</th>\n",
       "      <td>0.878125</td>\n",
       "      <td>544.8750</td>\n",
       "      <td>1511.750</td>\n",
       "      <td>562.50</td>\n",
       "      <td>0.009870</td>\n",
       "    </tr>\n",
       "    <tr>\n",
       "      <th>21</th>\n",
       "      <td>1.032812</td>\n",
       "      <td>477.0625</td>\n",
       "      <td>1746.125</td>\n",
       "      <td>2343.75</td>\n",
       "      <td>0.010476</td>\n",
       "    </tr>\n",
       "    <tr>\n",
       "      <th>25</th>\n",
       "      <td>0.860937</td>\n",
       "      <td>496.4375</td>\n",
       "      <td>339.875</td>\n",
       "      <td>1031.25</td>\n",
       "      <td>0.009183</td>\n",
       "    </tr>\n",
       "  </tbody>\n",
       "</table>\n",
       "</div>"
      ],
      "text/plain": [
       "    \\rho(g/cm^3)    T_c(K)    T_f(K)  c_b(ppm)  \\Sigma_{a1}(3)\n",
       "9       0.878125  544.8750  1511.750    562.50        0.009870\n",
       "21      1.032812  477.0625  1746.125   2343.75        0.010476\n",
       "25      0.860937  496.4375   339.875   1031.25        0.009183"
      ]
     },
     "execution_count": 6,
     "metadata": {},
     "output_type": "execute_result"
    }
   ],
   "source": [
    "test_dataset.head(3)"
   ]
  },
  {
   "cell_type": "code",
   "execution_count": 7,
   "metadata": {},
   "outputs": [
    {
     "data": {
      "text/plain": [
       "<AxesSubplot:>"
      ]
     },
     "execution_count": 7,
     "metadata": {},
     "output_type": "execute_result"
    },
    {
     "data": {
      "image/png": "[encoded data removed]",
      "text/plain": [
       "<Figure size 360x360 with 2 Axes>"
      ]
     },
     "metadata": {
      "needs_background": "light"
     },
     "output_type": "display_data"
    }
   ],
   "source": [
    "import matplotlib.pyplot as plt\n",
    "import seaborn as sns\n",
    "\n",
    "fig, ax = plt.subplots(figsize=(5,5)) # Sample figsize in inches\n",
    "sns.heatmap(train_dataset[names].corr(), annot = True, fmt='.2g')"
   ]
  },
  {
   "cell_type": "markdown",
   "metadata": {},
   "source": [
    "## Линейная регрессия"
   ]
  },
  {
   "cell_type": "code",
   "execution_count": 8,
   "metadata": {},
   "outputs": [
    {
     "data": {
      "text/html": [
       "<div>\n",
       "<style scoped>\n",
       "    .dataframe tbody tr th:only-of-type {\n",
       "        vertical-align: middle;\n",
       "    }\n",
       "\n",
       "    .dataframe tbody tr th {\n",
       "        vertical-align: top;\n",
       "    }\n",
       "\n",
       "    .dataframe thead th {\n",
       "        text-align: right;\n",
       "    }\n",
       "</style>\n",
       "<table border=\"1\" class=\"dataframe\">\n",
       "  <thead>\n",
       "    <tr style=\"text-align: right;\">\n",
       "      <th></th>\n",
       "      <th>const</th>\n",
       "      <th>\\rho(g/cm^3)</th>\n",
       "      <th>T_c(K)</th>\n",
       "      <th>T_f(K)</th>\n",
       "      <th>c_b(ppm)</th>\n",
       "    </tr>\n",
       "  </thead>\n",
       "  <tbody>\n",
       "    <tr>\n",
       "      <th>158</th>\n",
       "      <td>1.0</td>\n",
       "      <td>0.798633</td>\n",
       "      <td>405.61719</td>\n",
       "      <td>486.35941</td>\n",
       "      <td>855.46881</td>\n",
       "    </tr>\n",
       "    <tr>\n",
       "      <th>83</th>\n",
       "      <td>1.0</td>\n",
       "      <td>0.701953</td>\n",
       "      <td>561.82812</td>\n",
       "      <td>1664.09400</td>\n",
       "      <td>1195.31200</td>\n",
       "    </tr>\n",
       "    <tr>\n",
       "      <th>170</th>\n",
       "      <td>1.0</td>\n",
       "      <td>1.047852</td>\n",
       "      <td>294.21091</td>\n",
       "      <td>1447.29700</td>\n",
       "      <td>1746.09400</td>\n",
       "    </tr>\n",
       "  </tbody>\n",
       "</table>\n",
       "</div>"
      ],
      "text/plain": [
       "     const  \\rho(g/cm^3)     T_c(K)      T_f(K)    c_b(ppm)\n",
       "158    1.0      0.798633  405.61719   486.35941   855.46881\n",
       "83     1.0      0.701953  561.82812  1664.09400  1195.31200\n",
       "170    1.0      1.047852  294.21091  1447.29700  1746.09400"
      ]
     },
     "metadata": {},
     "output_type": "display_data"
    },
    {
     "data": {
      "text/html": [
       "<div>\n",
       "<style scoped>\n",
       "    .dataframe tbody tr th:only-of-type {\n",
       "        vertical-align: middle;\n",
       "    }\n",
       "\n",
       "    .dataframe tbody tr th {\n",
       "        vertical-align: top;\n",
       "    }\n",
       "\n",
       "    .dataframe thead th {\n",
       "        text-align: right;\n",
       "    }\n",
       "</style>\n",
       "<table border=\"1\" class=\"dataframe\">\n",
       "  <thead>\n",
       "    <tr style=\"text-align: right;\">\n",
       "      <th></th>\n",
       "      <th>const</th>\n",
       "      <th>\\rho(g/cm^3)</th>\n",
       "      <th>T_c(K)</th>\n",
       "      <th>T_f(K)</th>\n",
       "      <th>c_b(ppm)</th>\n",
       "    </tr>\n",
       "  </thead>\n",
       "  <tbody>\n",
       "    <tr>\n",
       "      <th>9</th>\n",
       "      <td>1.0</td>\n",
       "      <td>0.878125</td>\n",
       "      <td>544.8750</td>\n",
       "      <td>1511.750</td>\n",
       "      <td>562.50</td>\n",
       "    </tr>\n",
       "    <tr>\n",
       "      <th>21</th>\n",
       "      <td>1.0</td>\n",
       "      <td>1.032812</td>\n",
       "      <td>477.0625</td>\n",
       "      <td>1746.125</td>\n",
       "      <td>2343.75</td>\n",
       "    </tr>\n",
       "    <tr>\n",
       "      <th>25</th>\n",
       "      <td>1.0</td>\n",
       "      <td>0.860937</td>\n",
       "      <td>496.4375</td>\n",
       "      <td>339.875</td>\n",
       "      <td>1031.25</td>\n",
       "    </tr>\n",
       "  </tbody>\n",
       "</table>\n",
       "</div>"
      ],
      "text/plain": [
       "    const  \\rho(g/cm^3)    T_c(K)    T_f(K)  c_b(ppm)\n",
       "9     1.0      0.878125  544.8750  1511.750    562.50\n",
       "21    1.0      1.032812  477.0625  1746.125   2343.75\n",
       "25    1.0      0.860937  496.4375   339.875   1031.25"
      ]
     },
     "metadata": {},
     "output_type": "display_data"
    }
   ],
   "source": [
    "import statsmodels.api as sm\n",
    "import statsmodels as statsmodels\n",
    "\n",
    "train_data = train_dataset[names[:-1]]\n",
    "train_data = sm.add_constant(train_data)\n",
    "\n",
    "test_data = test_dataset[names[:-1]]\n",
    "test_data = sm.add_constant(test_data)\n",
    "\n",
    "display(train_data.head(3))\n",
    "display(test_data.head(3))"
   ]
  },
  {
   "cell_type": "code",
   "execution_count": 9,
   "metadata": {},
   "outputs": [
    {
     "data": {
      "text/plain": [
       "158    0.009191\n",
       "83     0.009682\n",
       "170    0.010267\n",
       "Name: \\Sigma_{a1}(3), dtype: float64"
      ]
     },
     "metadata": {},
     "output_type": "display_data"
    },
    {
     "data": {
      "text/plain": [
       "9     0.009870\n",
       "21    0.010476\n",
       "25    0.009183\n",
       "Name: \\Sigma_{a1}(3), dtype: float64"
      ]
     },
     "metadata": {},
     "output_type": "display_data"
    }
   ],
   "source": [
    "train_labels = train_dataset['\\\\Sigma_{a1}(3)']\n",
    "display(train_labels.head(3))\n",
    "\n",
    "test_labels = test_dataset['\\\\Sigma_{a1}(3)']\n",
    "display(test_labels.head(3))"
   ]
  },
  {
   "cell_type": "code",
   "execution_count": 10,
   "metadata": {
    "scrolled": false
   },
   "outputs": [
    {
     "data": {
      "text/html": [
       "<table class=\"simpletable\">\n",
       "<caption>OLS Regression Results</caption>\n",
       "<tr>\n",
       "  <th>Dep. Variable:</th>     <td>\\Sigma_{a1}(3)</td>  <th>  R-squared:         </th> <td>   0.982</td> \n",
       "</tr>\n",
       "<tr>\n",
       "  <th>Model:</th>                   <td>OLS</td>       <th>  Adj. R-squared:    </th> <td>   0.981</td> \n",
       "</tr>\n",
       "<tr>\n",
       "  <th>Method:</th>             <td>Least Squares</td>  <th>  F-statistic:       </th> <td>   2684.</td> \n",
       "</tr>\n",
       "<tr>\n",
       "  <th>Date:</th>             <td>Sat, 13 Feb 2021</td> <th>  Prob (F-statistic):</th> <td>3.57e-173</td>\n",
       "</tr>\n",
       "<tr>\n",
       "  <th>Time:</th>                 <td>17:52:27</td>     <th>  Log-Likelihood:    </th> <td>  1729.5</td> \n",
       "</tr>\n",
       "<tr>\n",
       "  <th>No. Observations:</th>      <td>   206</td>      <th>  AIC:               </th> <td>  -3449.</td> \n",
       "</tr>\n",
       "<tr>\n",
       "  <th>Df Residuals:</th>          <td>   201</td>      <th>  BIC:               </th> <td>  -3432.</td> \n",
       "</tr>\n",
       "<tr>\n",
       "  <th>Df Model:</th>              <td>     4</td>      <th>                     </th>     <td> </td>    \n",
       "</tr>\n",
       "<tr>\n",
       "  <th>Covariance Type:</th>      <td>nonrobust</td>    <th>                     </th>     <td> </td>    \n",
       "</tr>\n",
       "</table>\n",
       "<table class=\"simpletable\">\n",
       "<tr>\n",
       "        <td></td>          <th>coef</th>     <th>std err</th>      <th>t</th>      <th>P>|t|</th>  <th>[0.025</th>    <th>0.975]</th>  \n",
       "</tr>\n",
       "<tr>\n",
       "  <th>const</th>        <td>    0.0073</td> <td> 3.03e-05</td> <td>  240.115</td> <td> 0.000</td> <td>    0.007</td> <td>    0.007</td>\n",
       "</tr>\n",
       "<tr>\n",
       "  <th>\\rho(g/cm^3)</th> <td>    0.0019</td> <td> 2.45e-05</td> <td>   79.231</td> <td> 0.000</td> <td>    0.002</td> <td>    0.002</td>\n",
       "</tr>\n",
       "<tr>\n",
       "  <th>T_c(K)</th>       <td>-1.713e-08</td> <td> 4.27e-08</td> <td>   -0.401</td> <td> 0.689</td> <td>-1.01e-07</td> <td>  6.7e-08</td>\n",
       "</tr>\n",
       "<tr>\n",
       "  <th>T_f(K)</th>       <td> 5.525e-07</td> <td> 9.11e-09</td> <td>   60.648</td> <td> 0.000</td> <td> 5.35e-07</td> <td>  5.7e-07</td>\n",
       "</tr>\n",
       "<tr>\n",
       "  <th>c_b(ppm)</th>     <td> 1.164e-07</td> <td> 4.46e-09</td> <td>   26.112</td> <td> 0.000</td> <td> 1.08e-07</td> <td> 1.25e-07</td>\n",
       "</tr>\n",
       "</table>\n",
       "<table class=\"simpletable\">\n",
       "<tr>\n",
       "  <th>Omnibus:</th>       <td>35.901</td> <th>  Durbin-Watson:     </th> <td>   2.254</td>\n",
       "</tr>\n",
       "<tr>\n",
       "  <th>Prob(Omnibus):</th> <td> 0.000</td> <th>  Jarque-Bera (JB):  </th> <td>  50.291</td>\n",
       "</tr>\n",
       "<tr>\n",
       "  <th>Skew:</th>          <td>-1.047</td> <th>  Prob(JB):          </th> <td>1.20e-11</td>\n",
       "</tr>\n",
       "<tr>\n",
       "  <th>Kurtosis:</th>      <td> 4.213</td> <th>  Cond. No.          </th> <td>1.85e+04</td>\n",
       "</tr>\n",
       "</table><br/><br/>Notes:<br/>[1] Standard Errors assume that the covariance matrix of the errors is correctly specified.<br/>[2] The condition number is large, 1.85e+04. This might indicate that there are<br/>strong multicollinearity or other numerical problems."
      ],
      "text/plain": [
       "<class 'statsmodels.iolib.summary.Summary'>\n",
       "\"\"\"\n",
       "                            OLS Regression Results                            \n",
       "==============================================================================\n",
       "Dep. Variable:         \\Sigma_{a1}(3)   R-squared:                       0.982\n",
       "Model:                            OLS   Adj. R-squared:                  0.981\n",
       "Method:                 Least Squares   F-statistic:                     2684.\n",
       "Date:                Sat, 13 Feb 2021   Prob (F-statistic):          3.57e-173\n",
       "Time:                        17:52:27   Log-Likelihood:                 1729.5\n",
       "No. Observations:                 206   AIC:                            -3449.\n",
       "Df Residuals:                     201   BIC:                            -3432.\n",
       "Df Model:                           4                                         \n",
       "Covariance Type:            nonrobust                                         \n",
       "================================================================================\n",
       "                   coef    std err          t      P>|t|      [0.025      0.975]\n",
       "--------------------------------------------------------------------------------\n",
       "const            0.0073   3.03e-05    240.115      0.000       0.007       0.007\n",
       "\\rho(g/cm^3)     0.0019   2.45e-05     79.231      0.000       0.002       0.002\n",
       "T_c(K)       -1.713e-08   4.27e-08     -0.401      0.689   -1.01e-07     6.7e-08\n",
       "T_f(K)        5.525e-07   9.11e-09     60.648      0.000    5.35e-07     5.7e-07\n",
       "c_b(ppm)      1.164e-07   4.46e-09     26.112      0.000    1.08e-07    1.25e-07\n",
       "==============================================================================\n",
       "Omnibus:                       35.901   Durbin-Watson:                   2.254\n",
       "Prob(Omnibus):                  0.000   Jarque-Bera (JB):               50.291\n",
       "Skew:                          -1.047   Prob(JB):                     1.20e-11\n",
       "Kurtosis:                       4.213   Cond. No.                     1.85e+04\n",
       "==============================================================================\n",
       "\n",
       "Notes:\n",
       "[1] Standard Errors assume that the covariance matrix of the errors is correctly specified.\n",
       "[2] The condition number is large, 1.85e+04. This might indicate that there are\n",
       "strong multicollinearity or other numerical problems.\n",
       "\"\"\""
      ]
     },
     "execution_count": 10,
     "metadata": {},
     "output_type": "execute_result"
    }
   ],
   "source": [
    "model = sm.OLS(train_labels, train_data)\n",
    "\n",
    "fit = model.fit()\n",
    "g = fit.summary()\n",
    "g"
   ]
  },
  {
   "cell_type": "code",
   "execution_count": 11,
   "metadata": {
    "scrolled": true
   },
   "outputs": [
    {
     "data": {
      "text/plain": [
       "const           4.032260e-249\n",
       "\\rho(g/cm^3)    1.492454e-153\n",
       "T_c(K)           6.886047e-01\n",
       "T_f(K)          3.662547e-131\n",
       "c_b(ppm)         1.640938e-66\n",
       "dtype: float64"
      ]
     },
     "execution_count": 11,
     "metadata": {},
     "output_type": "execute_result"
    }
   ],
   "source": [
    "g = fit.pvalues\n",
    "g"
   ]
  },
  {
   "cell_type": "markdown",
   "metadata": {},
   "source": [
    "T_c(K) - не значим на 10-ом % урвоне значимости"
   ]
  },
  {
   "cell_type": "code",
   "execution_count": 12,
   "metadata": {},
   "outputs": [],
   "source": [
    "features = ['\\\\rho(g/cm^3)', 'T_f(K)', 'c_b(ppm)']"
   ]
  },
  {
   "cell_type": "code",
   "execution_count": 13,
   "metadata": {},
   "outputs": [
    {
     "data": {
      "text/html": [
       "<div>\n",
       "<style scoped>\n",
       "    .dataframe tbody tr th:only-of-type {\n",
       "        vertical-align: middle;\n",
       "    }\n",
       "\n",
       "    .dataframe tbody tr th {\n",
       "        vertical-align: top;\n",
       "    }\n",
       "\n",
       "    .dataframe thead th {\n",
       "        text-align: right;\n",
       "    }\n",
       "</style>\n",
       "<table border=\"1\" class=\"dataframe\">\n",
       "  <thead>\n",
       "    <tr style=\"text-align: right;\">\n",
       "      <th></th>\n",
       "      <th>const</th>\n",
       "      <th>\\rho(g/cm^3)</th>\n",
       "      <th>T_f(K)</th>\n",
       "      <th>c_b(ppm)</th>\n",
       "    </tr>\n",
       "  </thead>\n",
       "  <tbody>\n",
       "    <tr>\n",
       "      <th>158</th>\n",
       "      <td>1.0</td>\n",
       "      <td>0.798633</td>\n",
       "      <td>486.35941</td>\n",
       "      <td>855.46881</td>\n",
       "    </tr>\n",
       "    <tr>\n",
       "      <th>83</th>\n",
       "      <td>1.0</td>\n",
       "      <td>0.701953</td>\n",
       "      <td>1664.09400</td>\n",
       "      <td>1195.31200</td>\n",
       "    </tr>\n",
       "    <tr>\n",
       "      <th>170</th>\n",
       "      <td>1.0</td>\n",
       "      <td>1.047852</td>\n",
       "      <td>1447.29700</td>\n",
       "      <td>1746.09400</td>\n",
       "    </tr>\n",
       "  </tbody>\n",
       "</table>\n",
       "</div>"
      ],
      "text/plain": [
       "     const  \\rho(g/cm^3)      T_f(K)    c_b(ppm)\n",
       "158    1.0      0.798633   486.35941   855.46881\n",
       "83     1.0      0.701953  1664.09400  1195.31200\n",
       "170    1.0      1.047852  1447.29700  1746.09400"
      ]
     },
     "execution_count": 13,
     "metadata": {},
     "output_type": "execute_result"
    }
   ],
   "source": [
    "train_data = train_dataset[features]\n",
    "train_data = sm.add_constant(train_data)\n",
    "\n",
    "train_data.head(3)"
   ]
  },
  {
   "cell_type": "code",
   "execution_count": 14,
   "metadata": {
    "scrolled": false
   },
   "outputs": [
    {
     "data": {
      "text/html": [
       "<table class=\"simpletable\">\n",
       "<caption>OLS Regression Results</caption>\n",
       "<tr>\n",
       "  <th>Dep. Variable:</th>     <td>\\Sigma_{a1}(3)</td>  <th>  R-squared:         </th> <td>   0.982</td> \n",
       "</tr>\n",
       "<tr>\n",
       "  <th>Model:</th>                   <td>OLS</td>       <th>  Adj. R-squared:    </th> <td>   0.981</td> \n",
       "</tr>\n",
       "<tr>\n",
       "  <th>Method:</th>             <td>Least Squares</td>  <th>  F-statistic:       </th> <td>   3594.</td> \n",
       "</tr>\n",
       "<tr>\n",
       "  <th>Date:</th>             <td>Sat, 13 Feb 2021</td> <th>  Prob (F-statistic):</th> <td>5.94e-175</td>\n",
       "</tr>\n",
       "<tr>\n",
       "  <th>Time:</th>                 <td>17:52:27</td>     <th>  Log-Likelihood:    </th> <td>  1729.4</td> \n",
       "</tr>\n",
       "<tr>\n",
       "  <th>No. Observations:</th>      <td>   206</td>      <th>  AIC:               </th> <td>  -3451.</td> \n",
       "</tr>\n",
       "<tr>\n",
       "  <th>Df Residuals:</th>          <td>   202</td>      <th>  BIC:               </th> <td>  -3438.</td> \n",
       "</tr>\n",
       "<tr>\n",
       "  <th>Df Model:</th>              <td>     3</td>      <th>                     </th>     <td> </td>    \n",
       "</tr>\n",
       "<tr>\n",
       "  <th>Covariance Type:</th>      <td>nonrobust</td>    <th>                     </th>     <td> </td>    \n",
       "</tr>\n",
       "</table>\n",
       "<table class=\"simpletable\">\n",
       "<tr>\n",
       "        <td></td>          <th>coef</th>     <th>std err</th>      <th>t</th>      <th>P>|t|</th>  <th>[0.025</th>    <th>0.975]</th>  \n",
       "</tr>\n",
       "<tr>\n",
       "  <th>const</th>        <td>    0.0073</td> <td> 2.26e-05</td> <td>  321.523</td> <td> 0.000</td> <td>    0.007</td> <td>    0.007</td>\n",
       "</tr>\n",
       "<tr>\n",
       "  <th>\\rho(g/cm^3)</th> <td>    0.0019</td> <td> 2.44e-05</td> <td>   79.557</td> <td> 0.000</td> <td>    0.002</td> <td>    0.002</td>\n",
       "</tr>\n",
       "<tr>\n",
       "  <th>T_f(K)</th>       <td> 5.524e-07</td> <td> 9.09e-09</td> <td>   60.776</td> <td> 0.000</td> <td> 5.35e-07</td> <td>  5.7e-07</td>\n",
       "</tr>\n",
       "<tr>\n",
       "  <th>c_b(ppm)</th>     <td> 1.165e-07</td> <td> 4.45e-09</td> <td>   26.182</td> <td> 0.000</td> <td> 1.08e-07</td> <td> 1.25e-07</td>\n",
       "</tr>\n",
       "</table>\n",
       "<table class=\"simpletable\">\n",
       "<tr>\n",
       "  <th>Omnibus:</th>       <td>36.341</td> <th>  Durbin-Watson:     </th> <td>   2.255</td>\n",
       "</tr>\n",
       "<tr>\n",
       "  <th>Prob(Omnibus):</th> <td> 0.000</td> <th>  Jarque-Bera (JB):  </th> <td>  51.170</td>\n",
       "</tr>\n",
       "<tr>\n",
       "  <th>Skew:</th>          <td>-1.056</td> <th>  Prob(JB):          </th> <td>7.74e-12</td>\n",
       "</tr>\n",
       "<tr>\n",
       "  <th>Kurtosis:</th>      <td> 4.227</td> <th>  Cond. No.          </th> <td>1.62e+04</td>\n",
       "</tr>\n",
       "</table><br/><br/>Notes:<br/>[1] Standard Errors assume that the covariance matrix of the errors is correctly specified.<br/>[2] The condition number is large, 1.62e+04. This might indicate that there are<br/>strong multicollinearity or other numerical problems."
      ],
      "text/plain": [
       "<class 'statsmodels.iolib.summary.Summary'>\n",
       "\"\"\"\n",
       "                            OLS Regression Results                            \n",
       "==============================================================================\n",
       "Dep. Variable:         \\Sigma_{a1}(3)   R-squared:                       0.982\n",
       "Model:                            OLS   Adj. R-squared:                  0.981\n",
       "Method:                 Least Squares   F-statistic:                     3594.\n",
       "Date:                Sat, 13 Feb 2021   Prob (F-statistic):          5.94e-175\n",
       "Time:                        17:52:27   Log-Likelihood:                 1729.4\n",
       "No. Observations:                 206   AIC:                            -3451.\n",
       "Df Residuals:                     202   BIC:                            -3438.\n",
       "Df Model:                           3                                         \n",
       "Covariance Type:            nonrobust                                         \n",
       "================================================================================\n",
       "                   coef    std err          t      P>|t|      [0.025      0.975]\n",
       "--------------------------------------------------------------------------------\n",
       "const            0.0073   2.26e-05    321.523      0.000       0.007       0.007\n",
       "\\rho(g/cm^3)     0.0019   2.44e-05     79.557      0.000       0.002       0.002\n",
       "T_f(K)        5.524e-07   9.09e-09     60.776      0.000    5.35e-07     5.7e-07\n",
       "c_b(ppm)      1.165e-07   4.45e-09     26.182      0.000    1.08e-07    1.25e-07\n",
       "==============================================================================\n",
       "Omnibus:                       36.341   Durbin-Watson:                   2.255\n",
       "Prob(Omnibus):                  0.000   Jarque-Bera (JB):               51.170\n",
       "Skew:                          -1.056   Prob(JB):                     7.74e-12\n",
       "Kurtosis:                       4.227   Cond. No.                     1.62e+04\n",
       "==============================================================================\n",
       "\n",
       "Notes:\n",
       "[1] Standard Errors assume that the covariance matrix of the errors is correctly specified.\n",
       "[2] The condition number is large, 1.62e+04. This might indicate that there are\n",
       "strong multicollinearity or other numerical problems.\n",
       "\"\"\""
      ]
     },
     "execution_count": 14,
     "metadata": {},
     "output_type": "execute_result"
    }
   ],
   "source": [
    "model = sm.OLS(train_labels, train_data)\n",
    "\n",
    "fit = model.fit()\n",
    "g = fit.summary()\n",
    "g"
   ]
  },
  {
   "cell_type": "code",
   "execution_count": 15,
   "metadata": {},
   "outputs": [
    {
     "data": {
      "text/plain": [
       "const           1.114568e-275\n",
       "\\rho(g/cm^3)    1.909580e-154\n",
       "T_f(K)          8.934611e-132\n",
       "c_b(ppm)         7.582079e-67\n",
       "dtype: float64"
      ]
     },
     "execution_count": 15,
     "metadata": {},
     "output_type": "execute_result"
    }
   ],
   "source": [
    "p = fit.pvalues\n",
    "p"
   ]
  },
  {
   "cell_type": "markdown",
   "metadata": {},
   "source": [
    "Все регрессоры значимы на 1-ом уровне значимости %."
   ]
  },
  {
   "cell_type": "code",
   "execution_count": 16,
   "metadata": {},
   "outputs": [
    {
     "data": {
      "text/plain": [
       "158    0.009180\n",
       "83     0.009682\n",
       "170    0.010299\n",
       "101    0.010378\n",
       "150    0.009880\n",
       "         ...   \n",
       "151    0.009585\n",
       "202    0.009838\n",
       "31     0.008840\n",
       "209    0.010077\n",
       "127    0.008969\n",
       "Length: 206, dtype: float64"
      ]
     },
     "execution_count": 16,
     "metadata": {},
     "output_type": "execute_result"
    }
   ],
   "source": [
    "ypred = fit.predict(train_data)\n",
    "ypred"
   ]
  },
  {
   "cell_type": "code",
   "execution_count": 17,
   "metadata": {
    "scrolled": false
   },
   "outputs": [
    {
     "data": {
      "text/plain": [
       "158    0.009191\n",
       "83     0.009682\n",
       "170    0.010267\n",
       "101    0.010408\n",
       "150    0.009951\n",
       "         ...   \n",
       "151    0.009539\n",
       "202    0.009804\n",
       "31     0.008841\n",
       "209    0.010099\n",
       "127    0.008912\n",
       "Name: \\Sigma_{a1}(3), Length: 206, dtype: float64"
      ]
     },
     "execution_count": 17,
     "metadata": {},
     "output_type": "execute_result"
    }
   ],
   "source": [
    "train_labels"
   ]
  },
  {
   "cell_type": "markdown",
   "metadata": {},
   "source": [
    "Mean squared error"
   ]
  },
  {
   "cell_type": "markdown",
   "metadata": {},
   "source": [
    "\\begin{align*}\n",
    "\\text{MSE} = \\frac{1}{N} \\text{RSS} = \\frac{1}{N} \\sum (f_i -y_i)^2\n",
    "\\end{align*}"
   ]
  },
  {
   "cell_type": "code",
   "execution_count": 18,
   "metadata": {},
   "outputs": [
    {
     "data": {
      "text/plain": [
       "2.98882828566469e-09"
      ]
     },
     "execution_count": 18,
     "metadata": {},
     "output_type": "execute_result"
    }
   ],
   "source": [
    "MSE = statsmodels.tools.eval_measures.mse(train_labels, ypred)\n",
    "MSE"
   ]
  },
  {
   "cell_type": "markdown",
   "metadata": {},
   "source": [
    "Root mean squared error"
   ]
  },
  {
   "cell_type": "markdown",
   "metadata": {},
   "source": [
    "\\begin{align*}\n",
    "\\sigma = \\sqrt{MSE}\n",
    "\\end{align*}"
   ]
  },
  {
   "cell_type": "code",
   "execution_count": 19,
   "metadata": {},
   "outputs": [
    {
     "data": {
      "text/plain": [
       "5.467017729681046e-05"
      ]
     },
     "execution_count": 19,
     "metadata": {},
     "output_type": "execute_result"
    }
   ],
   "source": [
    "RMSE = statsmodels.tools.eval_measures.rmse(train_labels, ypred)\n",
    "RMSE"
   ]
  },
  {
   "cell_type": "markdown",
   "metadata": {},
   "source": [
    "Root Mean Squared Percentage Error"
   ]
  },
  {
   "cell_type": "code",
   "execution_count": 20,
   "metadata": {},
   "outputs": [
    {
     "data": {
      "text/plain": [
       "0.05826416442586517"
      ]
     },
     "execution_count": 20,
     "metadata": {},
     "output_type": "execute_result"
    }
   ],
   "source": [
    "RMSPE = statsmodels.tools.eval_measures.rmspe(train_labels, ypred)\n",
    "RMSPE"
   ]
  },
  {
   "cell_type": "markdown",
   "metadata": {},
   "source": [
    "Root Mean Squared Percentage Error for test data"
   ]
  },
  {
   "cell_type": "code",
   "execution_count": 21,
   "metadata": {},
   "outputs": [
    {
     "data": {
      "text/plain": [
       "0.05662183123415307"
      ]
     },
     "execution_count": 21,
     "metadata": {},
     "output_type": "execute_result"
    }
   ],
   "source": [
    "test_data = test_dataset[features]\n",
    "test_data = sm.add_constant(test_data)\n",
    "ypred = fit.predict(test_data)\n",
    "\n",
    "RMSPE = statsmodels.tools.eval_measures.rmspe(test_labels, ypred)\n",
    "RMSPE"
   ]
  },
  {
   "cell_type": "markdown",
   "metadata": {},
   "source": [
    "## Deep learning"
   ]
  },
  {
   "cell_type": "markdown",
   "metadata": {},
   "source": [
    "### Нормализация признаков"
   ]
  },
  {
   "cell_type": "code",
   "execution_count": 22,
   "metadata": {},
   "outputs": [],
   "source": [
    "features = ['\\\\rho(g/cm^3)',\n",
    " 'T_c(K)',\n",
    " 'T_f(K)',\n",
    " 'c_b(ppm)']"
   ]
  },
  {
   "cell_type": "code",
   "execution_count": 23,
   "metadata": {},
   "outputs": [
    {
     "data": {
      "text/html": [
       "<div>\n",
       "<style scoped>\n",
       "    .dataframe tbody tr th:only-of-type {\n",
       "        vertical-align: middle;\n",
       "    }\n",
       "\n",
       "    .dataframe tbody tr th {\n",
       "        vertical-align: top;\n",
       "    }\n",
       "\n",
       "    .dataframe thead th {\n",
       "        text-align: right;\n",
       "    }\n",
       "</style>\n",
       "<table border=\"1\" class=\"dataframe\">\n",
       "  <thead>\n",
       "    <tr style=\"text-align: right;\">\n",
       "      <th></th>\n",
       "      <th>\\rho(g/cm^3)</th>\n",
       "      <th>T_c(K)</th>\n",
       "      <th>T_f(K)</th>\n",
       "      <th>c_b(ppm)</th>\n",
       "    </tr>\n",
       "  </thead>\n",
       "  <tbody>\n",
       "    <tr>\n",
       "      <th>count</th>\n",
       "      <td>257.000000</td>\n",
       "      <td>257.000000</td>\n",
       "      <td>257.000000</td>\n",
       "      <td>257.000000</td>\n",
       "    </tr>\n",
       "    <tr>\n",
       "      <th>mean</th>\n",
       "      <td>0.773742</td>\n",
       "      <td>448.491808</td>\n",
       "      <td>1043.838306</td>\n",
       "      <td>1493.967349</td>\n",
       "    </tr>\n",
       "    <tr>\n",
       "      <th>std</th>\n",
       "      <td>0.158780</td>\n",
       "      <td>89.316810</td>\n",
       "      <td>430.718000</td>\n",
       "      <td>863.720860</td>\n",
       "    </tr>\n",
       "    <tr>\n",
       "      <th>min</th>\n",
       "      <td>0.502148</td>\n",
       "      <td>294.210910</td>\n",
       "      <td>298.859410</td>\n",
       "      <td>11.718750</td>\n",
       "    </tr>\n",
       "    <tr>\n",
       "      <th>25%</th>\n",
       "      <td>0.637500</td>\n",
       "      <td>371.710910</td>\n",
       "      <td>673.859380</td>\n",
       "      <td>750.000000</td>\n",
       "    </tr>\n",
       "    <tr>\n",
       "      <th>50%</th>\n",
       "      <td>0.772852</td>\n",
       "      <td>448.000000</td>\n",
       "      <td>1043.000000</td>\n",
       "      <td>1488.281000</td>\n",
       "    </tr>\n",
       "    <tr>\n",
       "      <th>75%</th>\n",
       "      <td>0.910352</td>\n",
       "      <td>525.500000</td>\n",
       "      <td>1412.141000</td>\n",
       "      <td>2238.281000</td>\n",
       "    </tr>\n",
       "    <tr>\n",
       "      <th>max</th>\n",
       "      <td>1.047852</td>\n",
       "      <td>601.789120</td>\n",
       "      <td>1787.141000</td>\n",
       "      <td>2988.281000</td>\n",
       "    </tr>\n",
       "  </tbody>\n",
       "</table>\n",
       "</div>"
      ],
      "text/plain": [
       "       \\rho(g/cm^3)      T_c(K)       T_f(K)     c_b(ppm)\n",
       "count    257.000000  257.000000   257.000000   257.000000\n",
       "mean       0.773742  448.491808  1043.838306  1493.967349\n",
       "std        0.158780   89.316810   430.718000   863.720860\n",
       "min        0.502148  294.210910   298.859410    11.718750\n",
       "25%        0.637500  371.710910   673.859380   750.000000\n",
       "50%        0.772852  448.000000  1043.000000  1488.281000\n",
       "75%        0.910352  525.500000  1412.141000  2238.281000\n",
       "max        1.047852  601.789120  1787.141000  2988.281000"
      ]
     },
     "execution_count": 23,
     "metadata": {},
     "output_type": "execute_result"
    }
   ],
   "source": [
    "df[features].describe()"
   ]
  },
  {
   "cell_type": "code",
   "execution_count": 24,
   "metadata": {},
   "outputs": [],
   "source": [
    "df_features_norm = df.copy()\n",
    "\n",
    "for i in range(len(features)):\n",
    "    df_features_norm[features[i]] = (df[features[i]]-df[features[i]].mean())/df[features[i]].std()"
   ]
  },
  {
   "cell_type": "code",
   "execution_count": 25,
   "metadata": {},
   "outputs": [
    {
     "data": {
      "text/html": [
       "<div>\n",
       "<style scoped>\n",
       "    .dataframe tbody tr th:only-of-type {\n",
       "        vertical-align: middle;\n",
       "    }\n",
       "\n",
       "    .dataframe tbody tr th {\n",
       "        vertical-align: top;\n",
       "    }\n",
       "\n",
       "    .dataframe thead th {\n",
       "        text-align: right;\n",
       "    }\n",
       "</style>\n",
       "<table border=\"1\" class=\"dataframe\">\n",
       "  <thead>\n",
       "    <tr style=\"text-align: right;\">\n",
       "      <th></th>\n",
       "      <th>\\rho(g/cm^3)</th>\n",
       "      <th>T_c(K)</th>\n",
       "      <th>T_f(K)</th>\n",
       "      <th>c_b(ppm)</th>\n",
       "    </tr>\n",
       "  </thead>\n",
       "  <tbody>\n",
       "    <tr>\n",
       "      <th>count</th>\n",
       "      <td>2.570000e+02</td>\n",
       "      <td>2.570000e+02</td>\n",
       "      <td>2.570000e+02</td>\n",
       "      <td>2.570000e+02</td>\n",
       "    </tr>\n",
       "    <tr>\n",
       "      <th>mean</th>\n",
       "      <td>-3.697863e-16</td>\n",
       "      <td>6.013348e-16</td>\n",
       "      <td>7.257489e-17</td>\n",
       "      <td>-3.512106e-16</td>\n",
       "    </tr>\n",
       "    <tr>\n",
       "      <th>std</th>\n",
       "      <td>1.000000e+00</td>\n",
       "      <td>1.000000e+00</td>\n",
       "      <td>1.000000e+00</td>\n",
       "      <td>1.000000e+00</td>\n",
       "    </tr>\n",
       "    <tr>\n",
       "      <th>min</th>\n",
       "      <td>-1.710507e+00</td>\n",
       "      <td>-1.727344e+00</td>\n",
       "      <td>-1.729621e+00</td>\n",
       "      <td>-1.716120e+00</td>\n",
       "    </tr>\n",
       "    <tr>\n",
       "      <th>25%</th>\n",
       "      <td>-8.580575e-01</td>\n",
       "      <td>-8.596467e-01</td>\n",
       "      <td>-8.589818e-01</td>\n",
       "      <td>-8.613516e-01</td>\n",
       "    </tr>\n",
       "    <tr>\n",
       "      <th>50%</th>\n",
       "      <td>-5.608782e-03</td>\n",
       "      <td>-5.506328e-03</td>\n",
       "      <td>-1.946298e-03</td>\n",
       "      <td>-6.583549e-03</td>\n",
       "    </tr>\n",
       "    <tr>\n",
       "      <th>75%</th>\n",
       "      <td>8.603710e-01</td>\n",
       "      <td>8.621915e-01</td>\n",
       "      <td>8.550901e-01</td>\n",
       "      <td>8.617525e-01</td>\n",
       "    </tr>\n",
       "    <tr>\n",
       "      <th>max</th>\n",
       "      <td>1.726354e+00</td>\n",
       "      <td>1.716332e+00</td>\n",
       "      <td>1.725729e+00</td>\n",
       "      <td>1.730089e+00</td>\n",
       "    </tr>\n",
       "  </tbody>\n",
       "</table>\n",
       "</div>"
      ],
      "text/plain": [
       "       \\rho(g/cm^3)        T_c(K)        T_f(K)      c_b(ppm)\n",
       "count  2.570000e+02  2.570000e+02  2.570000e+02  2.570000e+02\n",
       "mean  -3.697863e-16  6.013348e-16  7.257489e-17 -3.512106e-16\n",
       "std    1.000000e+00  1.000000e+00  1.000000e+00  1.000000e+00\n",
       "min   -1.710507e+00 -1.727344e+00 -1.729621e+00 -1.716120e+00\n",
       "25%   -8.580575e-01 -8.596467e-01 -8.589818e-01 -8.613516e-01\n",
       "50%   -5.608782e-03 -5.506328e-03 -1.946298e-03 -6.583549e-03\n",
       "75%    8.603710e-01  8.621915e-01  8.550901e-01  8.617525e-01\n",
       "max    1.726354e+00  1.716332e+00  1.725729e+00  1.730089e+00"
      ]
     },
     "execution_count": 25,
     "metadata": {},
     "output_type": "execute_result"
    }
   ],
   "source": [
    "df_features_norm[features].describe()"
   ]
  },
  {
   "cell_type": "markdown",
   "metadata": {},
   "source": [
    "## Нейронная сеть"
   ]
  },
  {
   "cell_type": "code",
   "execution_count": 26,
   "metadata": {},
   "outputs": [
    {
     "data": {
      "text/plain": [
       "['\\\\rho(g/cm^3)', 'T_c(K)', 'T_f(K)', 'c_b(ppm)', '\\\\Sigma_{a1}(3)']"
      ]
     },
     "execution_count": 26,
     "metadata": {},
     "output_type": "execute_result"
    }
   ],
   "source": [
    "names"
   ]
  },
  {
   "cell_type": "code",
   "execution_count": 27,
   "metadata": {},
   "outputs": [
    {
     "data": {
      "text/html": [
       "<div>\n",
       "<style scoped>\n",
       "    .dataframe tbody tr th:only-of-type {\n",
       "        vertical-align: middle;\n",
       "    }\n",
       "\n",
       "    .dataframe tbody tr th {\n",
       "        vertical-align: top;\n",
       "    }\n",
       "\n",
       "    .dataframe thead th {\n",
       "        text-align: right;\n",
       "    }\n",
       "</style>\n",
       "<table border=\"1\" class=\"dataframe\">\n",
       "  <thead>\n",
       "    <tr style=\"text-align: right;\">\n",
       "      <th></th>\n",
       "      <th>\\rho(g/cm^3)</th>\n",
       "      <th>T_c(K)</th>\n",
       "      <th>T_f(K)</th>\n",
       "      <th>c_b(ppm)</th>\n",
       "      <th>\\Sigma_{a1}(3)</th>\n",
       "    </tr>\n",
       "  </thead>\n",
       "  <tbody>\n",
       "    <tr>\n",
       "      <th>0</th>\n",
       "      <td>-0.316426</td>\n",
       "      <td>1.416398</td>\n",
       "      <td>-0.039094</td>\n",
       "      <td>-1.035019</td>\n",
       "      <td>0.009376</td>\n",
       "    </tr>\n",
       "    <tr>\n",
       "      <th>1</th>\n",
       "      <td>0.007922</td>\n",
       "      <td>-0.005506</td>\n",
       "      <td>-0.001946</td>\n",
       "      <td>0.006984</td>\n",
       "      <td>0.009581</td>\n",
       "    </tr>\n",
       "    <tr>\n",
       "      <th>2</th>\n",
       "      <td>0.873902</td>\n",
       "      <td>-0.873204</td>\n",
       "      <td>0.868693</td>\n",
       "      <td>-0.861352</td>\n",
       "      <td>0.009908</td>\n",
       "    </tr>\n",
       "  </tbody>\n",
       "</table>\n",
       "</div>"
      ],
      "text/plain": [
       "   \\rho(g/cm^3)    T_c(K)    T_f(K)  c_b(ppm)  \\Sigma_{a1}(3)\n",
       "0     -0.316426  1.416398 -0.039094 -1.035019        0.009376\n",
       "1      0.007922 -0.005506 -0.001946  0.006984        0.009581\n",
       "2      0.873902 -0.873204  0.868693 -0.861352        0.009908"
      ]
     },
     "execution_count": 27,
     "metadata": {},
     "output_type": "execute_result"
    }
   ],
   "source": [
    "df_features_norm = df_features_norm[names]\n",
    "df_features_norm.head(3)"
   ]
  },
  {
   "cell_type": "code",
   "execution_count": 28,
   "metadata": {},
   "outputs": [
    {
     "data": {
      "text/html": [
       "<div>\n",
       "<style scoped>\n",
       "    .dataframe tbody tr th:only-of-type {\n",
       "        vertical-align: middle;\n",
       "    }\n",
       "\n",
       "    .dataframe tbody tr th {\n",
       "        vertical-align: top;\n",
       "    }\n",
       "\n",
       "    .dataframe thead th {\n",
       "        text-align: right;\n",
       "    }\n",
       "</style>\n",
       "<table border=\"1\" class=\"dataframe\">\n",
       "  <thead>\n",
       "    <tr style=\"text-align: right;\">\n",
       "      <th></th>\n",
       "      <th>\\rho(g/cm^3)</th>\n",
       "      <th>T_c(K)</th>\n",
       "      <th>T_f(K)</th>\n",
       "      <th>c_b(ppm)</th>\n",
       "      <th>\\Sigma_{a1}(3)</th>\n",
       "    </tr>\n",
       "  </thead>\n",
       "  <tbody>\n",
       "    <tr>\n",
       "      <th>count</th>\n",
       "      <td>2.570000e+02</td>\n",
       "      <td>2.570000e+02</td>\n",
       "      <td>2.570000e+02</td>\n",
       "      <td>2.570000e+02</td>\n",
       "      <td>257.000000</td>\n",
       "    </tr>\n",
       "    <tr>\n",
       "      <th>mean</th>\n",
       "      <td>-3.697863e-16</td>\n",
       "      <td>6.013348e-16</td>\n",
       "      <td>7.257489e-17</td>\n",
       "      <td>-3.512106e-16</td>\n",
       "      <td>0.009514</td>\n",
       "    </tr>\n",
       "    <tr>\n",
       "      <th>std</th>\n",
       "      <td>1.000000e+00</td>\n",
       "      <td>1.000000e+00</td>\n",
       "      <td>1.000000e+00</td>\n",
       "      <td>1.000000e+00</td>\n",
       "      <td>0.000402</td>\n",
       "    </tr>\n",
       "    <tr>\n",
       "      <th>min</th>\n",
       "      <td>-1.710507e+00</td>\n",
       "      <td>-1.727344e+00</td>\n",
       "      <td>-1.729621e+00</td>\n",
       "      <td>-1.716120e+00</td>\n",
       "      <td>0.008622</td>\n",
       "    </tr>\n",
       "    <tr>\n",
       "      <th>25%</th>\n",
       "      <td>-8.580575e-01</td>\n",
       "      <td>-8.596467e-01</td>\n",
       "      <td>-8.589818e-01</td>\n",
       "      <td>-8.613516e-01</td>\n",
       "      <td>0.009225</td>\n",
       "    </tr>\n",
       "    <tr>\n",
       "      <th>50%</th>\n",
       "      <td>-5.608782e-03</td>\n",
       "      <td>-5.506328e-03</td>\n",
       "      <td>-1.946298e-03</td>\n",
       "      <td>-6.583549e-03</td>\n",
       "      <td>0.009518</td>\n",
       "    </tr>\n",
       "    <tr>\n",
       "      <th>75%</th>\n",
       "      <td>8.603710e-01</td>\n",
       "      <td>8.621915e-01</td>\n",
       "      <td>8.550901e-01</td>\n",
       "      <td>8.617525e-01</td>\n",
       "      <td>0.009804</td>\n",
       "    </tr>\n",
       "    <tr>\n",
       "      <th>max</th>\n",
       "      <td>1.726354e+00</td>\n",
       "      <td>1.716332e+00</td>\n",
       "      <td>1.725729e+00</td>\n",
       "      <td>1.730089e+00</td>\n",
       "      <td>0.010476</td>\n",
       "    </tr>\n",
       "  </tbody>\n",
       "</table>\n",
       "</div>"
      ],
      "text/plain": [
       "       \\rho(g/cm^3)        T_c(K)        T_f(K)      c_b(ppm)  \\Sigma_{a1}(3)\n",
       "count  2.570000e+02  2.570000e+02  2.570000e+02  2.570000e+02      257.000000\n",
       "mean  -3.697863e-16  6.013348e-16  7.257489e-17 -3.512106e-16        0.009514\n",
       "std    1.000000e+00  1.000000e+00  1.000000e+00  1.000000e+00        0.000402\n",
       "min   -1.710507e+00 -1.727344e+00 -1.729621e+00 -1.716120e+00        0.008622\n",
       "25%   -8.580575e-01 -8.596467e-01 -8.589818e-01 -8.613516e-01        0.009225\n",
       "50%   -5.608782e-03 -5.506328e-03 -1.946298e-03 -6.583549e-03        0.009518\n",
       "75%    8.603710e-01  8.621915e-01  8.550901e-01  8.617525e-01        0.009804\n",
       "max    1.726354e+00  1.716332e+00  1.725729e+00  1.730089e+00        0.010476"
      ]
     },
     "execution_count": 28,
     "metadata": {},
     "output_type": "execute_result"
    }
   ],
   "source": [
    "df_features_norm.describe()"
   ]
  },
  {
   "cell_type": "code",
   "execution_count": 29,
   "metadata": {},
   "outputs": [
    {
     "data": {
      "text/plain": [
       "['\\\\rho(g/cm^3)', 'T_c(K)', 'T_f(K)', 'c_b(ppm)']"
      ]
     },
     "execution_count": 29,
     "metadata": {},
     "output_type": "execute_result"
    }
   ],
   "source": [
    "features"
   ]
  },
  {
   "cell_type": "code",
   "execution_count": 30,
   "metadata": {
    "scrolled": false
   },
   "outputs": [
    {
     "data": {
      "text/html": [
       "<div>\n",
       "<style scoped>\n",
       "    .dataframe tbody tr th:only-of-type {\n",
       "        vertical-align: middle;\n",
       "    }\n",
       "\n",
       "    .dataframe tbody tr th {\n",
       "        vertical-align: top;\n",
       "    }\n",
       "\n",
       "    .dataframe thead th {\n",
       "        text-align: right;\n",
       "    }\n",
       "</style>\n",
       "<table border=\"1\" class=\"dataframe\">\n",
       "  <thead>\n",
       "    <tr style=\"text-align: right;\">\n",
       "      <th></th>\n",
       "      <th>\\rho(g/cm^3)</th>\n",
       "      <th>T_c(K)</th>\n",
       "      <th>T_f(K)</th>\n",
       "      <th>c_b(ppm)</th>\n",
       "    </tr>\n",
       "  </thead>\n",
       "  <tbody>\n",
       "    <tr>\n",
       "      <th>0</th>\n",
       "      <td>-0.316426</td>\n",
       "      <td>1.416398</td>\n",
       "      <td>-0.039094</td>\n",
       "      <td>-1.035019</td>\n",
       "    </tr>\n",
       "    <tr>\n",
       "      <th>1</th>\n",
       "      <td>0.007922</td>\n",
       "      <td>-0.005506</td>\n",
       "      <td>-0.001946</td>\n",
       "      <td>0.006984</td>\n",
       "    </tr>\n",
       "    <tr>\n",
       "      <th>2</th>\n",
       "      <td>0.873902</td>\n",
       "      <td>-0.873204</td>\n",
       "      <td>0.868693</td>\n",
       "      <td>-0.861352</td>\n",
       "    </tr>\n",
       "  </tbody>\n",
       "</table>\n",
       "</div>"
      ],
      "text/plain": [
       "   \\rho(g/cm^3)    T_c(K)    T_f(K)  c_b(ppm)\n",
       "0     -0.316426  1.416398 -0.039094 -1.035019\n",
       "1      0.007922 -0.005506 -0.001946  0.006984\n",
       "2      0.873902 -0.873204  0.868693 -0.861352"
      ]
     },
     "execution_count": 30,
     "metadata": {},
     "output_type": "execute_result"
    }
   ],
   "source": [
    "df_features_norm[features].head(3)"
   ]
  },
  {
   "cell_type": "markdown",
   "metadata": {},
   "source": [
    "Разделим данные на обучающую и тестовую выборки"
   ]
  },
  {
   "cell_type": "code",
   "execution_count": 31,
   "metadata": {},
   "outputs": [],
   "source": [
    "train_dataset = df_features_norm.sample(frac=0.8,random_state=0)\n",
    "test_dataset = df_features_norm.drop(train_dataset.index)"
   ]
  },
  {
   "cell_type": "code",
   "execution_count": 32,
   "metadata": {},
   "outputs": [
    {
     "data": {
      "text/html": [
       "<div>\n",
       "<style scoped>\n",
       "    .dataframe tbody tr th:only-of-type {\n",
       "        vertical-align: middle;\n",
       "    }\n",
       "\n",
       "    .dataframe tbody tr th {\n",
       "        vertical-align: top;\n",
       "    }\n",
       "\n",
       "    .dataframe thead th {\n",
       "        text-align: right;\n",
       "    }\n",
       "</style>\n",
       "<table border=\"1\" class=\"dataframe\">\n",
       "  <thead>\n",
       "    <tr style=\"text-align: right;\">\n",
       "      <th></th>\n",
       "      <th>\\rho(g/cm^3)</th>\n",
       "      <th>T_c(K)</th>\n",
       "      <th>T_f(K)</th>\n",
       "      <th>c_b(ppm)</th>\n",
       "      <th>\\Sigma_{a1}(3)</th>\n",
       "    </tr>\n",
       "  </thead>\n",
       "  <tbody>\n",
       "    <tr>\n",
       "      <th>158</th>\n",
       "      <td>0.156763</td>\n",
       "      <td>-0.480029</td>\n",
       "      <td>-1.294301</td>\n",
       "      <td>-0.739242</td>\n",
       "      <td>0.009191</td>\n",
       "    </tr>\n",
       "    <tr>\n",
       "      <th>83</th>\n",
       "      <td>-0.452130</td>\n",
       "      <td>1.268925</td>\n",
       "      <td>1.440051</td>\n",
       "      <td>-0.345778</td>\n",
       "      <td>0.009682</td>\n",
       "    </tr>\n",
       "    <tr>\n",
       "      <th>170</th>\n",
       "      <td>1.726354</td>\n",
       "      <td>-1.727344</td>\n",
       "      <td>0.936712</td>\n",
       "      <td>0.291908</td>\n",
       "      <td>0.010267</td>\n",
       "    </tr>\n",
       "  </tbody>\n",
       "</table>\n",
       "</div>"
      ],
      "text/plain": [
       "     \\rho(g/cm^3)    T_c(K)    T_f(K)  c_b(ppm)  \\Sigma_{a1}(3)\n",
       "158      0.156763 -0.480029 -1.294301 -0.739242        0.009191\n",
       "83      -0.452130  1.268925  1.440051 -0.345778        0.009682\n",
       "170      1.726354 -1.727344  0.936712  0.291908        0.010267"
      ]
     },
     "execution_count": 32,
     "metadata": {},
     "output_type": "execute_result"
    }
   ],
   "source": [
    "train_dataset.head(3)"
   ]
  },
  {
   "cell_type": "code",
   "execution_count": 33,
   "metadata": {
    "scrolled": true
   },
   "outputs": [
    {
     "data": {
      "text/html": [
       "<div>\n",
       "<style scoped>\n",
       "    .dataframe tbody tr th:only-of-type {\n",
       "        vertical-align: middle;\n",
       "    }\n",
       "\n",
       "    .dataframe tbody tr th {\n",
       "        vertical-align: top;\n",
       "    }\n",
       "\n",
       "    .dataframe thead th {\n",
       "        text-align: right;\n",
       "    }\n",
       "</style>\n",
       "<table border=\"1\" class=\"dataframe\">\n",
       "  <thead>\n",
       "    <tr style=\"text-align: right;\">\n",
       "      <th></th>\n",
       "      <th>\\rho(g/cm^3)</th>\n",
       "      <th>T_c(K)</th>\n",
       "      <th>T_f(K)</th>\n",
       "      <th>c_b(ppm)</th>\n",
       "      <th>\\Sigma_{a1}(3)</th>\n",
       "    </tr>\n",
       "  </thead>\n",
       "  <tbody>\n",
       "    <tr>\n",
       "      <th>9</th>\n",
       "      <td>0.657407</td>\n",
       "      <td>1.079116</td>\n",
       "      <td>1.086353</td>\n",
       "      <td>-1.078436</td>\n",
       "      <td>0.009870</td>\n",
       "    </tr>\n",
       "    <tr>\n",
       "      <th>21</th>\n",
       "      <td>1.631631</td>\n",
       "      <td>0.319880</td>\n",
       "      <td>1.630502</td>\n",
       "      <td>0.983863</td>\n",
       "      <td>0.010476</td>\n",
       "    </tr>\n",
       "    <tr>\n",
       "      <th>25</th>\n",
       "      <td>0.549160</td>\n",
       "      <td>0.536805</td>\n",
       "      <td>-1.634395</td>\n",
       "      <td>-0.535726</td>\n",
       "      <td>0.009183</td>\n",
       "    </tr>\n",
       "  </tbody>\n",
       "</table>\n",
       "</div>"
      ],
      "text/plain": [
       "    \\rho(g/cm^3)    T_c(K)    T_f(K)  c_b(ppm)  \\Sigma_{a1}(3)\n",
       "9       0.657407  1.079116  1.086353 -1.078436        0.009870\n",
       "21      1.631631  0.319880  1.630502  0.983863        0.010476\n",
       "25      0.549160  0.536805 -1.634395 -0.535726        0.009183"
      ]
     },
     "execution_count": 33,
     "metadata": {},
     "output_type": "execute_result"
    }
   ],
   "source": [
    "test_dataset.head(3)"
   ]
  },
  {
   "cell_type": "markdown",
   "metadata": {},
   "source": [
    "Отделим признаки от меток"
   ]
  },
  {
   "cell_type": "code",
   "execution_count": 34,
   "metadata": {},
   "outputs": [],
   "source": [
    "train_labels = train_dataset.pop('\\Sigma_{a1}(3)')\n",
    "test_labels = test_dataset.pop('\\Sigma_{a1}(3)')"
   ]
  },
  {
   "cell_type": "code",
   "execution_count": 35,
   "metadata": {},
   "outputs": [
    {
     "data": {
      "text/html": [
       "<div>\n",
       "<style scoped>\n",
       "    .dataframe tbody tr th:only-of-type {\n",
       "        vertical-align: middle;\n",
       "    }\n",
       "\n",
       "    .dataframe tbody tr th {\n",
       "        vertical-align: top;\n",
       "    }\n",
       "\n",
       "    .dataframe thead th {\n",
       "        text-align: right;\n",
       "    }\n",
       "</style>\n",
       "<table border=\"1\" class=\"dataframe\">\n",
       "  <thead>\n",
       "    <tr style=\"text-align: right;\">\n",
       "      <th></th>\n",
       "      <th>\\rho(g/cm^3)</th>\n",
       "      <th>T_c(K)</th>\n",
       "      <th>T_f(K)</th>\n",
       "      <th>c_b(ppm)</th>\n",
       "    </tr>\n",
       "  </thead>\n",
       "  <tbody>\n",
       "    <tr>\n",
       "      <th>158</th>\n",
       "      <td>0.156763</td>\n",
       "      <td>-0.480029</td>\n",
       "      <td>-1.294301</td>\n",
       "      <td>-0.739242</td>\n",
       "    </tr>\n",
       "    <tr>\n",
       "      <th>83</th>\n",
       "      <td>-0.452130</td>\n",
       "      <td>1.268925</td>\n",
       "      <td>1.440051</td>\n",
       "      <td>-0.345778</td>\n",
       "    </tr>\n",
       "  </tbody>\n",
       "</table>\n",
       "</div>"
      ],
      "text/plain": [
       "     \\rho(g/cm^3)    T_c(K)    T_f(K)  c_b(ppm)\n",
       "158      0.156763 -0.480029 -1.294301 -0.739242\n",
       "83      -0.452130  1.268925  1.440051 -0.345778"
      ]
     },
     "execution_count": 35,
     "metadata": {},
     "output_type": "execute_result"
    }
   ],
   "source": [
    "train_dataset.head(2)"
   ]
  },
  {
   "cell_type": "code",
   "execution_count": 36,
   "metadata": {},
   "outputs": [
    {
     "data": {
      "text/plain": [
       "158    0.009191\n",
       "83     0.009682\n",
       "Name: \\Sigma_{a1}(3), dtype: float64"
      ]
     },
     "execution_count": 36,
     "metadata": {},
     "output_type": "execute_result"
    }
   ],
   "source": [
    "train_labels.head(2)"
   ]
  },
  {
   "cell_type": "markdown",
   "metadata": {},
   "source": [
    "Модель"
   ]
  },
  {
   "cell_type": "code",
   "execution_count": 37,
   "metadata": {},
   "outputs": [],
   "source": [
    "import tensorflow as tf\n",
    "\n",
    "from tensorflow import keras\n",
    "from tensorflow.keras import layers\n",
    "\n",
    "def build_model(learning_rate, rho, activation):\n",
    "    model = keras.Sequential([\n",
    "        layers.Dense(4, activation=activation, input_shape=[len(train_dataset.keys())]),\n",
    "        layers.Dense(2, activation=activation),\n",
    "        layers.Dense(1)\n",
    "    ])\n",
    "    \n",
    "    optimizer = tf.keras.optimizers.RMSprop(learning_rate = learning_rate, rho = rho)\n",
    "    model.compile(loss='mse',\n",
    "                  optimizer=optimizer,\n",
    "                  metrics=['mae', 'mse'])\n",
    "    return model"
   ]
  },
  {
   "cell_type": "code",
   "execution_count": 38,
   "metadata": {},
   "outputs": [],
   "source": [
    "# Выведем прогресс обучения в виде точек после каждой завершенной эпохи\n",
    "class PrintDot(keras.callbacks.Callback):\n",
    "    def on_epoch_end(self, epoch, logs):\n",
    "        if epoch % 100 == 0:\n",
    "            print('')\n",
    "        print('.', end='')"
   ]
  },
  {
   "cell_type": "code",
   "execution_count": 39,
   "metadata": {},
   "outputs": [
    {
     "name": "stdout",
     "output_type": "stream",
     "text": [
      "Model: \"sequential\"\n",
      "_________________________________________________________________\n",
      "Layer (type)                 Output Shape              Param #   \n",
      "=================================================================\n",
      "dense (Dense)                (None, 4)                 20        \n",
      "_________________________________________________________________\n",
      "dense_1 (Dense)              (None, 2)                 10        \n",
      "_________________________________________________________________\n",
      "dense_2 (Dense)              (None, 1)                 3         \n",
      "=================================================================\n",
      "Total params: 33\n",
      "Trainable params: 33\n",
      "Non-trainable params: 0\n",
      "_________________________________________________________________\n"
     ]
    }
   ],
   "source": [
    "learning_rate = 0.001\n",
    "rho = 0.99\n",
    "activation = 'tanh'\n",
    "model = build_model(learning_rate, rho, activation)\n",
    "\n",
    "model.summary()"
   ]
  },
  {
   "cell_type": "code",
   "execution_count": 40,
   "metadata": {},
   "outputs": [],
   "source": [
    "normed_train_data = train_dataset"
   ]
  },
  {
   "cell_type": "code",
   "execution_count": 41,
   "metadata": {},
   "outputs": [
    {
     "data": {
      "text/html": [
       "<div>\n",
       "<style scoped>\n",
       "    .dataframe tbody tr th:only-of-type {\n",
       "        vertical-align: middle;\n",
       "    }\n",
       "\n",
       "    .dataframe tbody tr th {\n",
       "        vertical-align: top;\n",
       "    }\n",
       "\n",
       "    .dataframe thead th {\n",
       "        text-align: right;\n",
       "    }\n",
       "</style>\n",
       "<table border=\"1\" class=\"dataframe\">\n",
       "  <thead>\n",
       "    <tr style=\"text-align: right;\">\n",
       "      <th></th>\n",
       "      <th>\\rho(g/cm^3)</th>\n",
       "      <th>T_c(K)</th>\n",
       "      <th>T_f(K)</th>\n",
       "      <th>c_b(ppm)</th>\n",
       "    </tr>\n",
       "  </thead>\n",
       "  <tbody>\n",
       "    <tr>\n",
       "      <th>158</th>\n",
       "      <td>0.156763</td>\n",
       "      <td>-0.480029</td>\n",
       "      <td>-1.294301</td>\n",
       "      <td>-0.739242</td>\n",
       "    </tr>\n",
       "    <tr>\n",
       "      <th>83</th>\n",
       "      <td>-0.452130</td>\n",
       "      <td>1.268925</td>\n",
       "      <td>1.440051</td>\n",
       "      <td>-0.345778</td>\n",
       "    </tr>\n",
       "    <tr>\n",
       "      <th>170</th>\n",
       "      <td>1.726354</td>\n",
       "      <td>-1.727344</td>\n",
       "      <td>0.936712</td>\n",
       "      <td>0.291908</td>\n",
       "    </tr>\n",
       "  </tbody>\n",
       "</table>\n",
       "</div>"
      ],
      "text/plain": [
       "     \\rho(g/cm^3)    T_c(K)    T_f(K)  c_b(ppm)\n",
       "158      0.156763 -0.480029 -1.294301 -0.739242\n",
       "83      -0.452130  1.268925  1.440051 -0.345778\n",
       "170      1.726354 -1.727344  0.936712  0.291908"
      ]
     },
     "execution_count": 41,
     "metadata": {},
     "output_type": "execute_result"
    }
   ],
   "source": [
    "normed_train_data.head(3)"
   ]
  },
  {
   "cell_type": "code",
   "execution_count": 42,
   "metadata": {},
   "outputs": [
    {
     "data": {
      "text/plain": [
       "array([[-0.02849795],\n",
       "       [-0.05331185],\n",
       "       [-0.04411845],\n",
       "       [ 0.01695367],\n",
       "       [ 0.01258969],\n",
       "       [ 0.04714947],\n",
       "       [-0.04415943],\n",
       "       [ 0.01752403],\n",
       "       [-0.04279563],\n",
       "       [ 0.05062038]], dtype=float32)"
      ]
     },
     "execution_count": 42,
     "metadata": {},
     "output_type": "execute_result"
    }
   ],
   "source": [
    "example_batch = normed_train_data[:10]\n",
    "example_result = model.predict(example_batch)\n",
    "example_result"
   ]
  },
  {
   "cell_type": "markdown",
   "metadata": {},
   "source": [
    "Обучение модели"
   ]
  },
  {
   "cell_type": "code",
   "execution_count": 43,
   "metadata": {
    "scrolled": false
   },
   "outputs": [
    {
     "name": "stdout",
     "output_type": "stream",
     "text": [
      "\n",
      "...................................................................................................."
     ]
    }
   ],
   "source": [
    "EPOCHS = 100\n",
    "\n",
    "history = model.fit(\n",
    "  normed_train_data, train_labels,\n",
    "  epochs=EPOCHS, validation_split = 0.2, verbose=0,\n",
    "  callbacks=[PrintDot()])"
   ]
  },
  {
   "cell_type": "markdown",
   "metadata": {},
   "source": [
    "Визуализируем процесс обучения модели используя статистику содержащуюся в объекте history"
   ]
  },
  {
   "cell_type": "code",
   "execution_count": 44,
   "metadata": {},
   "outputs": [
    {
     "data": {
      "text/html": [
       "<div>\n",
       "<style scoped>\n",
       "    .dataframe tbody tr th:only-of-type {\n",
       "        vertical-align: middle;\n",
       "    }\n",
       "\n",
       "    .dataframe tbody tr th {\n",
       "        vertical-align: top;\n",
       "    }\n",
       "\n",
       "    .dataframe thead th {\n",
       "        text-align: right;\n",
       "    }\n",
       "</style>\n",
       "<table border=\"1\" class=\"dataframe\">\n",
       "  <thead>\n",
       "    <tr style=\"text-align: right;\">\n",
       "      <th></th>\n",
       "      <th>loss</th>\n",
       "      <th>mae</th>\n",
       "      <th>mse</th>\n",
       "      <th>val_loss</th>\n",
       "      <th>val_mae</th>\n",
       "      <th>val_mse</th>\n",
       "      <th>epoch</th>\n",
       "    </tr>\n",
       "  </thead>\n",
       "  <tbody>\n",
       "    <tr>\n",
       "      <th>95</th>\n",
       "      <td>0.000007</td>\n",
       "      <td>0.002307</td>\n",
       "      <td>0.000007</td>\n",
       "      <td>0.000008</td>\n",
       "      <td>0.002307</td>\n",
       "      <td>0.000008</td>\n",
       "      <td>95</td>\n",
       "    </tr>\n",
       "    <tr>\n",
       "      <th>96</th>\n",
       "      <td>0.000003</td>\n",
       "      <td>0.001282</td>\n",
       "      <td>0.000003</td>\n",
       "      <td>0.000001</td>\n",
       "      <td>0.000798</td>\n",
       "      <td>0.000001</td>\n",
       "      <td>96</td>\n",
       "    </tr>\n",
       "    <tr>\n",
       "      <th>97</th>\n",
       "      <td>0.000002</td>\n",
       "      <td>0.000964</td>\n",
       "      <td>0.000002</td>\n",
       "      <td>0.000004</td>\n",
       "      <td>0.001677</td>\n",
       "      <td>0.000004</td>\n",
       "      <td>97</td>\n",
       "    </tr>\n",
       "    <tr>\n",
       "      <th>98</th>\n",
       "      <td>0.000004</td>\n",
       "      <td>0.001601</td>\n",
       "      <td>0.000004</td>\n",
       "      <td>0.000006</td>\n",
       "      <td>0.002150</td>\n",
       "      <td>0.000006</td>\n",
       "      <td>98</td>\n",
       "    </tr>\n",
       "    <tr>\n",
       "      <th>99</th>\n",
       "      <td>0.000003</td>\n",
       "      <td>0.001350</td>\n",
       "      <td>0.000003</td>\n",
       "      <td>0.000006</td>\n",
       "      <td>0.001981</td>\n",
       "      <td>0.000006</td>\n",
       "      <td>99</td>\n",
       "    </tr>\n",
       "  </tbody>\n",
       "</table>\n",
       "</div>"
      ],
      "text/plain": [
       "        loss       mae       mse  val_loss   val_mae   val_mse  epoch\n",
       "95  0.000007  0.002307  0.000007  0.000008  0.002307  0.000008     95\n",
       "96  0.000003  0.001282  0.000003  0.000001  0.000798  0.000001     96\n",
       "97  0.000002  0.000964  0.000002  0.000004  0.001677  0.000004     97\n",
       "98  0.000004  0.001601  0.000004  0.000006  0.002150  0.000006     98\n",
       "99  0.000003  0.001350  0.000003  0.000006  0.001981  0.000006     99"
      ]
     },
     "execution_count": 44,
     "metadata": {},
     "output_type": "execute_result"
    }
   ],
   "source": [
    "hist = pd.DataFrame(history.history)\n",
    "hist['epoch'] = history.epoch\n",
    "hist.tail()"
   ]
  },
  {
   "cell_type": "code",
   "execution_count": 45,
   "metadata": {
    "scrolled": false
   },
   "outputs": [
    {
     "data": {
      "image/png": "[encoded data removed]",
      "text/plain": [
       "<Figure size 432x288 with 1 Axes>"
      ]
     },
     "metadata": {
      "needs_background": "light"
     },
     "output_type": "display_data"
    }
   ],
   "source": [
    "def plot_history(history, ymax):\n",
    "    hist = pd.DataFrame(history.history)\n",
    "    hist['epoch'] = history.epoch\n",
    "    plt.figure()\n",
    "    plt.xlabel('Epoch')\n",
    "    plt.ylabel('Mean Square Error')\n",
    "    plt.plot(hist['epoch'],\n",
    "             hist['mse'],\n",
    "             label='Train Error')\n",
    "    plt.plot(hist['epoch'],\n",
    "             hist['val_mse'],\n",
    "             label = 'Val Error')\n",
    "    plt.ylim([0,ymax])\n",
    "    plt.legend()\n",
    "    plt.show()\n",
    "\n",
    "plot_history(history, 0.003)"
   ]
  },
  {
   "cell_type": "code",
   "execution_count": 46,
   "metadata": {},
   "outputs": [
    {
     "data": {
      "text/plain": [
       "158    0.009191\n",
       "83     0.009682\n",
       "170    0.010267\n",
       "101    0.010408\n",
       "150    0.009951\n",
       "200    0.009514\n",
       "118    0.009555\n",
       "236    0.009563\n",
       "63     0.009234\n",
       "135    0.008740\n",
       "Name: \\Sigma_{a1}(3), dtype: float64"
      ]
     },
     "execution_count": 46,
     "metadata": {},
     "output_type": "execute_result"
    }
   ],
   "source": [
    "train_labels.head(10)"
   ]
  },
  {
   "cell_type": "code",
   "execution_count": 47,
   "metadata": {},
   "outputs": [
    {
     "data": {
      "text/plain": [
       "array([[0.00987275],\n",
       "       [0.00685001],\n",
       "       [0.01406858],\n",
       "       [0.00893213],\n",
       "       [0.0117677 ],\n",
       "       [0.01271681],\n",
       "       [0.01003995],\n",
       "       [0.01227261],\n",
       "       [0.00872282],\n",
       "       [0.00756447]], dtype=float32)"
      ]
     },
     "execution_count": 47,
     "metadata": {},
     "output_type": "execute_result"
    }
   ],
   "source": [
    "model.predict(normed_train_data)[0:10]"
   ]
  },
  {
   "cell_type": "markdown",
   "metadata": {},
   "source": [
    "### Модель 1"
   ]
  },
  {
   "cell_type": "code",
   "execution_count": 48,
   "metadata": {},
   "outputs": [
    {
     "name": "stdout",
     "output_type": "stream",
     "text": [
      "Model: \"sequential_1\"\n",
      "_________________________________________________________________\n",
      "Layer (type)                 Output Shape              Param #   \n",
      "=================================================================\n",
      "dense_3 (Dense)              (None, 4)                 20        \n",
      "_________________________________________________________________\n",
      "dense_4 (Dense)              (None, 2)                 10        \n",
      "_________________________________________________________________\n",
      "dense_5 (Dense)              (None, 1)                 3         \n",
      "=================================================================\n",
      "Total params: 33\n",
      "Trainable params: 33\n",
      "Non-trainable params: 0\n",
      "_________________________________________________________________\n"
     ]
    }
   ],
   "source": [
    "# построение модели\n",
    "\n",
    "learning_rate = 0.001\n",
    "rho = 0.9\n",
    "activation = 'tanh'\n",
    "model = build_model(learning_rate, rho, activation)\n",
    "\n",
    "model.summary()"
   ]
  },
  {
   "cell_type": "code",
   "execution_count": 49,
   "metadata": {
    "scrolled": false
   },
   "outputs": [
    {
     "name": "stdout",
     "output_type": "stream",
     "text": [
      "\n",
      "....................................................................................................\n",
      "....................................................................................................\n",
      "...................................................................................................."
     ]
    }
   ],
   "source": [
    "# Обучение модели\n",
    "\n",
    "EPOCHS = 300\n",
    "\n",
    "history = model.fit(\n",
    "  normed_train_data, train_labels,\n",
    "  epochs=EPOCHS, validation_split = 0.2, verbose=0,\n",
    "  callbacks=[PrintDot()])"
   ]
  },
  {
   "cell_type": "code",
   "execution_count": 50,
   "metadata": {},
   "outputs": [
    {
     "data": {
      "text/html": [
       "<div>\n",
       "<style scoped>\n",
       "    .dataframe tbody tr th:only-of-type {\n",
       "        vertical-align: middle;\n",
       "    }\n",
       "\n",
       "    .dataframe tbody tr th {\n",
       "        vertical-align: top;\n",
       "    }\n",
       "\n",
       "    .dataframe thead th {\n",
       "        text-align: right;\n",
       "    }\n",
       "</style>\n",
       "<table border=\"1\" class=\"dataframe\">\n",
       "  <thead>\n",
       "    <tr style=\"text-align: right;\">\n",
       "      <th></th>\n",
       "      <th>loss</th>\n",
       "      <th>mae</th>\n",
       "      <th>mse</th>\n",
       "      <th>val_loss</th>\n",
       "      <th>val_mae</th>\n",
       "      <th>val_mse</th>\n",
       "      <th>epoch</th>\n",
       "    </tr>\n",
       "  </thead>\n",
       "  <tbody>\n",
       "    <tr>\n",
       "      <th>295</th>\n",
       "      <td>2.857861e-08</td>\n",
       "      <td>0.000135</td>\n",
       "      <td>2.857861e-08</td>\n",
       "      <td>1.262255e-07</td>\n",
       "      <td>0.000274</td>\n",
       "      <td>1.262255e-07</td>\n",
       "      <td>295</td>\n",
       "    </tr>\n",
       "    <tr>\n",
       "      <th>296</th>\n",
       "      <td>6.212479e-07</td>\n",
       "      <td>0.000710</td>\n",
       "      <td>6.212479e-07</td>\n",
       "      <td>2.234848e-07</td>\n",
       "      <td>0.000375</td>\n",
       "      <td>2.234848e-07</td>\n",
       "      <td>296</td>\n",
       "    </tr>\n",
       "    <tr>\n",
       "      <th>297</th>\n",
       "      <td>1.181370e-07</td>\n",
       "      <td>0.000288</td>\n",
       "      <td>1.181370e-07</td>\n",
       "      <td>7.200175e-08</td>\n",
       "      <td>0.000246</td>\n",
       "      <td>7.200175e-08</td>\n",
       "      <td>297</td>\n",
       "    </tr>\n",
       "    <tr>\n",
       "      <th>298</th>\n",
       "      <td>1.384406e-07</td>\n",
       "      <td>0.000332</td>\n",
       "      <td>1.384406e-07</td>\n",
       "      <td>7.211832e-07</td>\n",
       "      <td>0.000755</td>\n",
       "      <td>7.211832e-07</td>\n",
       "      <td>298</td>\n",
       "    </tr>\n",
       "    <tr>\n",
       "      <th>299</th>\n",
       "      <td>6.324181e-07</td>\n",
       "      <td>0.000730</td>\n",
       "      <td>6.324181e-07</td>\n",
       "      <td>2.232141e-07</td>\n",
       "      <td>0.000397</td>\n",
       "      <td>2.232141e-07</td>\n",
       "      <td>299</td>\n",
       "    </tr>\n",
       "  </tbody>\n",
       "</table>\n",
       "</div>"
      ],
      "text/plain": [
       "             loss       mae           mse      val_loss   val_mae  \\\n",
       "295  2.857861e-08  0.000135  2.857861e-08  1.262255e-07  0.000274   \n",
       "296  6.212479e-07  0.000710  6.212479e-07  2.234848e-07  0.000375   \n",
       "297  1.181370e-07  0.000288  1.181370e-07  7.200175e-08  0.000246   \n",
       "298  1.384406e-07  0.000332  1.384406e-07  7.211832e-07  0.000755   \n",
       "299  6.324181e-07  0.000730  6.324181e-07  2.232141e-07  0.000397   \n",
       "\n",
       "          val_mse  epoch  \n",
       "295  1.262255e-07    295  \n",
       "296  2.234848e-07    296  \n",
       "297  7.200175e-08    297  \n",
       "298  7.211832e-07    298  \n",
       "299  2.232141e-07    299  "
      ]
     },
     "execution_count": 50,
     "metadata": {},
     "output_type": "execute_result"
    }
   ],
   "source": [
    "# История обучения\n",
    "\n",
    "hist = pd.DataFrame(history.history)\n",
    "hist['epoch'] = history.epoch\n",
    "hist.tail()"
   ]
  },
  {
   "cell_type": "code",
   "execution_count": 51,
   "metadata": {
    "scrolled": false
   },
   "outputs": [
    {
     "data": {
      "image/png": "[encoded data removed]",
      "text/plain": [
       "<Figure size 432x288 with 1 Axes>"
      ]
     },
     "metadata": {
      "needs_background": "light"
     },
     "output_type": "display_data"
    }
   ],
   "source": [
    "# Отображение процесса обучения\n",
    "\n",
    "plot_history(history, 0.0003)"
   ]
  },
  {
   "cell_type": "code",
   "execution_count": 52,
   "metadata": {},
   "outputs": [
    {
     "data": {
      "text/plain": [
       "158    0.009191\n",
       "83     0.009682\n",
       "170    0.010267\n",
       "101    0.010408\n",
       "150    0.009951\n",
       "200    0.009514\n",
       "118    0.009555\n",
       "236    0.009563\n",
       "63     0.009234\n",
       "135    0.008740\n",
       "Name: \\Sigma_{a1}(3), dtype: float64"
      ]
     },
     "execution_count": 52,
     "metadata": {},
     "output_type": "execute_result"
    }
   ],
   "source": [
    "# Тренировочные данные\n",
    "\n",
    "train_labels.head(10)"
   ]
  },
  {
   "cell_type": "code",
   "execution_count": 53,
   "metadata": {
    "scrolled": true
   },
   "outputs": [
    {
     "data": {
      "text/plain": [
       "array([[0.00909462],\n",
       "       [0.00925615],\n",
       "       [0.00972407],\n",
       "       [0.00943674],\n",
       "       [0.0095434 ],\n",
       "       [0.00944326],\n",
       "       [0.00919231],\n",
       "       [0.00919836],\n",
       "       [0.00958003],\n",
       "       [0.00876937]], dtype=float32)"
      ]
     },
     "execution_count": 53,
     "metadata": {},
     "output_type": "execute_result"
    }
   ],
   "source": [
    "# Предсказанные данные\n",
    "\n",
    "model.predict(normed_train_data)[0:10]"
   ]
  },
  {
   "cell_type": "markdown",
   "metadata": {},
   "source": [
    "### Модель 2"
   ]
  },
  {
   "cell_type": "code",
   "execution_count": 54,
   "metadata": {},
   "outputs": [],
   "source": [
    "def build_model_1_layer(learning_rate, rho, activation):\n",
    "    model = keras.Sequential([\n",
    "        layers.Dense(4, activation=activation, input_shape=[len(train_dataset.keys())]),\n",
    "        layers.Dense(1)\n",
    "    ])\n",
    "    \n",
    "    optimizer = tf.keras.optimizers.RMSprop(learning_rate = learning_rate, rho = rho)\n",
    "    model.compile(loss='mse',\n",
    "                  optimizer=optimizer,\n",
    "                  metrics=['mae', 'mse'])\n",
    "    return model"
   ]
  },
  {
   "cell_type": "code",
   "execution_count": 55,
   "metadata": {},
   "outputs": [
    {
     "name": "stdout",
     "output_type": "stream",
     "text": [
      "Model: \"sequential_2\"\n",
      "_________________________________________________________________\n",
      "Layer (type)                 Output Shape              Param #   \n",
      "=================================================================\n",
      "dense_6 (Dense)              (None, 4)                 20        \n",
      "_________________________________________________________________\n",
      "dense_7 (Dense)              (None, 1)                 5         \n",
      "=================================================================\n",
      "Total params: 25\n",
      "Trainable params: 25\n",
      "Non-trainable params: 0\n",
      "_________________________________________________________________\n"
     ]
    }
   ],
   "source": [
    "learning_rate = 0.0002\n",
    "rho = 0.95\n",
    "activation = 'tanh'\n",
    "model = build_model_1_layer(learning_rate, rho, activation)\n",
    "\n",
    "model.summary()"
   ]
  },
  {
   "cell_type": "code",
   "execution_count": 56,
   "metadata": {},
   "outputs": [
    {
     "name": "stdout",
     "output_type": "stream",
     "text": [
      "\n",
      "....................................................................................................\n",
      "....................................................................................................\n",
      "....................................................................................................\n",
      "....................................................................................................\n",
      "....................................................................................................\n",
      "....................................................................................................\n",
      "....................................................................................................\n",
      "....................................................................................................\n",
      "....................................................................................................\n",
      "....................................................................................................\n",
      "....................................................................................................\n",
      "...................................................................................................."
     ]
    }
   ],
   "source": [
    "# Обучение модели\n",
    "\n",
    "EPOCHS = 1200\n",
    "\n",
    "history = model.fit(\n",
    "  normed_train_data, train_labels,\n",
    "  epochs=EPOCHS, validation_split = 0.2, verbose=0,\n",
    "  callbacks=[PrintDot()])"
   ]
  },
  {
   "cell_type": "code",
   "execution_count": 57,
   "metadata": {},
   "outputs": [
    {
     "data": {
      "text/html": [
       "<div>\n",
       "<style scoped>\n",
       "    .dataframe tbody tr th:only-of-type {\n",
       "        vertical-align: middle;\n",
       "    }\n",
       "\n",
       "    .dataframe tbody tr th {\n",
       "        vertical-align: top;\n",
       "    }\n",
       "\n",
       "    .dataframe thead th {\n",
       "        text-align: right;\n",
       "    }\n",
       "</style>\n",
       "<table border=\"1\" class=\"dataframe\">\n",
       "  <thead>\n",
       "    <tr style=\"text-align: right;\">\n",
       "      <th></th>\n",
       "      <th>loss</th>\n",
       "      <th>mae</th>\n",
       "      <th>mse</th>\n",
       "      <th>val_loss</th>\n",
       "      <th>val_mae</th>\n",
       "      <th>val_mse</th>\n",
       "      <th>epoch</th>\n",
       "    </tr>\n",
       "  </thead>\n",
       "  <tbody>\n",
       "    <tr>\n",
       "      <th>1195</th>\n",
       "      <td>5.890804e-07</td>\n",
       "      <td>0.000614</td>\n",
       "      <td>5.890804e-07</td>\n",
       "      <td>3.647405e-07</td>\n",
       "      <td>0.000460</td>\n",
       "      <td>3.647405e-07</td>\n",
       "      <td>1195</td>\n",
       "    </tr>\n",
       "    <tr>\n",
       "      <th>1196</th>\n",
       "      <td>2.990321e-07</td>\n",
       "      <td>0.000424</td>\n",
       "      <td>2.990321e-07</td>\n",
       "      <td>2.599585e-07</td>\n",
       "      <td>0.000408</td>\n",
       "      <td>2.599585e-07</td>\n",
       "      <td>1196</td>\n",
       "    </tr>\n",
       "    <tr>\n",
       "      <th>1197</th>\n",
       "      <td>3.140280e-07</td>\n",
       "      <td>0.000431</td>\n",
       "      <td>3.140280e-07</td>\n",
       "      <td>3.459341e-07</td>\n",
       "      <td>0.000475</td>\n",
       "      <td>3.459341e-07</td>\n",
       "      <td>1197</td>\n",
       "    </tr>\n",
       "    <tr>\n",
       "      <th>1198</th>\n",
       "      <td>2.926748e-07</td>\n",
       "      <td>0.000422</td>\n",
       "      <td>2.926748e-07</td>\n",
       "      <td>5.719595e-07</td>\n",
       "      <td>0.000624</td>\n",
       "      <td>5.719595e-07</td>\n",
       "      <td>1198</td>\n",
       "    </tr>\n",
       "    <tr>\n",
       "      <th>1199</th>\n",
       "      <td>3.575226e-07</td>\n",
       "      <td>0.000427</td>\n",
       "      <td>3.575226e-07</td>\n",
       "      <td>5.827077e-07</td>\n",
       "      <td>0.000652</td>\n",
       "      <td>5.827077e-07</td>\n",
       "      <td>1199</td>\n",
       "    </tr>\n",
       "  </tbody>\n",
       "</table>\n",
       "</div>"
      ],
      "text/plain": [
       "              loss       mae           mse      val_loss   val_mae  \\\n",
       "1195  5.890804e-07  0.000614  5.890804e-07  3.647405e-07  0.000460   \n",
       "1196  2.990321e-07  0.000424  2.990321e-07  2.599585e-07  0.000408   \n",
       "1197  3.140280e-07  0.000431  3.140280e-07  3.459341e-07  0.000475   \n",
       "1198  2.926748e-07  0.000422  2.926748e-07  5.719595e-07  0.000624   \n",
       "1199  3.575226e-07  0.000427  3.575226e-07  5.827077e-07  0.000652   \n",
       "\n",
       "           val_mse  epoch  \n",
       "1195  3.647405e-07   1195  \n",
       "1196  2.599585e-07   1196  \n",
       "1197  3.459341e-07   1197  \n",
       "1198  5.719595e-07   1198  \n",
       "1199  5.827077e-07   1199  "
      ]
     },
     "execution_count": 57,
     "metadata": {},
     "output_type": "execute_result"
    }
   ],
   "source": [
    "# История обучения\n",
    "\n",
    "hist = pd.DataFrame(history.history)\n",
    "hist['epoch'] = history.epoch\n",
    "hist.tail()"
   ]
  },
  {
   "cell_type": "code",
   "execution_count": 58,
   "metadata": {},
   "outputs": [
    {
     "data": {
      "image/png": "[encoded data removed]",
      "text/plain": [
       "<Figure size 432x288 with 1 Axes>"
      ]
     },
     "metadata": {
      "needs_background": "light"
     },
     "output_type": "display_data"
    }
   ],
   "source": [
    "# Отображение процесса обучения\n",
    "\n",
    "plot_history(history, 0.00003)"
   ]
  },
  {
   "cell_type": "code",
   "execution_count": 59,
   "metadata": {},
   "outputs": [
    {
     "data": {
      "text/plain": [
       "158    0.009191\n",
       "83     0.009682\n",
       "170    0.010267\n",
       "101    0.010408\n",
       "150    0.009951\n",
       "200    0.009514\n",
       "118    0.009555\n",
       "236    0.009563\n",
       "63     0.009234\n",
       "135    0.008740\n",
       "Name: \\Sigma_{a1}(3), dtype: float64"
      ]
     },
     "execution_count": 59,
     "metadata": {},
     "output_type": "execute_result"
    }
   ],
   "source": [
    "# Тренировочные данные\n",
    "\n",
    "train_labels.head(10)"
   ]
  },
  {
   "cell_type": "code",
   "execution_count": 60,
   "metadata": {},
   "outputs": [
    {
     "data": {
      "text/plain": [
       "array([[0.00811356],\n",
       "       [0.00898384],\n",
       "       [0.00999063],\n",
       "       [0.01057938],\n",
       "       [0.00940704],\n",
       "       [0.00876509],\n",
       "       [0.00938138],\n",
       "       [0.00756147],\n",
       "       [0.00743514],\n",
       "       [0.00780051]], dtype=float32)"
      ]
     },
     "execution_count": 60,
     "metadata": {},
     "output_type": "execute_result"
    }
   ],
   "source": [
    "# Предсказанные данные\n",
    "\n",
    "model.predict(normed_train_data)[0:10]"
   ]
  },
  {
   "cell_type": "markdown",
   "metadata": {},
   "source": [
    "### Модель 3"
   ]
  },
  {
   "cell_type": "code",
   "execution_count": 61,
   "metadata": {},
   "outputs": [],
   "source": [
    "def build_model_0_layer(learning_rate, rho, activation):\n",
    "    model = keras.Sequential([\n",
    "        layers.Dense(1, activation=activation, input_shape=[len(train_dataset.keys())])\n",
    "    ])\n",
    "    \n",
    "    optimizer = tf.keras.optimizers.RMSprop(learning_rate = learning_rate, rho = rho)\n",
    "    model.compile(loss='mse',\n",
    "                  optimizer=optimizer,\n",
    "                  metrics=['mae', 'mse'])\n",
    "    return model"
   ]
  },
  {
   "cell_type": "code",
   "execution_count": 62,
   "metadata": {},
   "outputs": [
    {
     "name": "stdout",
     "output_type": "stream",
     "text": [
      "Model: \"sequential_3\"\n",
      "_________________________________________________________________\n",
      "Layer (type)                 Output Shape              Param #   \n",
      "=================================================================\n",
      "dense_8 (Dense)              (None, 1)                 5         \n",
      "=================================================================\n",
      "Total params: 5\n",
      "Trainable params: 5\n",
      "Non-trainable params: 0\n",
      "_________________________________________________________________\n"
     ]
    }
   ],
   "source": [
    "learning_rate = 0.0002\n",
    "rho = 0.95\n",
    "activation = 'tanh'\n",
    "model = build_model_0_layer(learning_rate, rho, activation)\n",
    "\n",
    "model.summary()"
   ]
  },
  {
   "cell_type": "code",
   "execution_count": 63,
   "metadata": {},
   "outputs": [
    {
     "name": "stdout",
     "output_type": "stream",
     "text": [
      "\n",
      "....................................................................................................\n",
      "....................................................................................................\n",
      "....................................................................................................\n",
      "....................................................................................................\n",
      "....................................................................................................\n",
      "....................................................................................................\n",
      "....................................................................................................\n",
      "....................................................................................................\n",
      "....................................................................................................\n",
      "....................................................................................................\n",
      "....................................................................................................\n",
      "...................................................................................................."
     ]
    }
   ],
   "source": [
    "# Обучение модели\n",
    "\n",
    "EPOCHS = 1200\n",
    "\n",
    "history = model.fit(\n",
    "  normed_train_data, train_labels,\n",
    "  epochs=EPOCHS, validation_split = 0.2, verbose=0,\n",
    "  callbacks=[PrintDot()])"
   ]
  },
  {
   "cell_type": "code",
   "execution_count": 64,
   "metadata": {
    "scrolled": true
   },
   "outputs": [
    {
     "data": {
      "text/html": [
       "<div>\n",
       "<style scoped>\n",
       "    .dataframe tbody tr th:only-of-type {\n",
       "        vertical-align: middle;\n",
       "    }\n",
       "\n",
       "    .dataframe tbody tr th {\n",
       "        vertical-align: top;\n",
       "    }\n",
       "\n",
       "    .dataframe thead th {\n",
       "        text-align: right;\n",
       "    }\n",
       "</style>\n",
       "<table border=\"1\" class=\"dataframe\">\n",
       "  <thead>\n",
       "    <tr style=\"text-align: right;\">\n",
       "      <th></th>\n",
       "      <th>loss</th>\n",
       "      <th>mae</th>\n",
       "      <th>mse</th>\n",
       "      <th>val_loss</th>\n",
       "      <th>val_mae</th>\n",
       "      <th>val_mse</th>\n",
       "      <th>epoch</th>\n",
       "    </tr>\n",
       "  </thead>\n",
       "  <tbody>\n",
       "    <tr>\n",
       "      <th>1190</th>\n",
       "      <td>6.695249e-08</td>\n",
       "      <td>0.000211</td>\n",
       "      <td>6.695249e-08</td>\n",
       "      <td>1.798973e-07</td>\n",
       "      <td>0.000329</td>\n",
       "      <td>1.798973e-07</td>\n",
       "      <td>1190</td>\n",
       "    </tr>\n",
       "    <tr>\n",
       "      <th>1191</th>\n",
       "      <td>1.380506e-07</td>\n",
       "      <td>0.000270</td>\n",
       "      <td>1.380506e-07</td>\n",
       "      <td>8.502515e-08</td>\n",
       "      <td>0.000258</td>\n",
       "      <td>8.502515e-08</td>\n",
       "      <td>1191</td>\n",
       "    </tr>\n",
       "    <tr>\n",
       "      <th>1192</th>\n",
       "      <td>5.374282e-08</td>\n",
       "      <td>0.000178</td>\n",
       "      <td>5.374282e-08</td>\n",
       "      <td>5.271115e-08</td>\n",
       "      <td>0.000188</td>\n",
       "      <td>5.271115e-08</td>\n",
       "      <td>1192</td>\n",
       "    </tr>\n",
       "    <tr>\n",
       "      <th>1193</th>\n",
       "      <td>1.466741e-08</td>\n",
       "      <td>0.000096</td>\n",
       "      <td>1.466741e-08</td>\n",
       "      <td>6.441364e-08</td>\n",
       "      <td>0.000207</td>\n",
       "      <td>6.441364e-08</td>\n",
       "      <td>1193</td>\n",
       "    </tr>\n",
       "    <tr>\n",
       "      <th>1194</th>\n",
       "      <td>8.050805e-08</td>\n",
       "      <td>0.000224</td>\n",
       "      <td>8.050805e-08</td>\n",
       "      <td>7.657928e-08</td>\n",
       "      <td>0.000237</td>\n",
       "      <td>7.657928e-08</td>\n",
       "      <td>1194</td>\n",
       "    </tr>\n",
       "    <tr>\n",
       "      <th>1195</th>\n",
       "      <td>2.592516e-08</td>\n",
       "      <td>0.000113</td>\n",
       "      <td>2.592516e-08</td>\n",
       "      <td>4.888030e-08</td>\n",
       "      <td>0.000186</td>\n",
       "      <td>4.888030e-08</td>\n",
       "      <td>1195</td>\n",
       "    </tr>\n",
       "    <tr>\n",
       "      <th>1196</th>\n",
       "      <td>1.612145e-08</td>\n",
       "      <td>0.000101</td>\n",
       "      <td>1.612145e-08</td>\n",
       "      <td>1.871301e-08</td>\n",
       "      <td>0.000115</td>\n",
       "      <td>1.871301e-08</td>\n",
       "      <td>1196</td>\n",
       "    </tr>\n",
       "    <tr>\n",
       "      <th>1197</th>\n",
       "      <td>8.819593e-08</td>\n",
       "      <td>0.000228</td>\n",
       "      <td>8.819593e-08</td>\n",
       "      <td>1.966371e-07</td>\n",
       "      <td>0.000329</td>\n",
       "      <td>1.966371e-07</td>\n",
       "      <td>1197</td>\n",
       "    </tr>\n",
       "    <tr>\n",
       "      <th>1198</th>\n",
       "      <td>3.739651e-08</td>\n",
       "      <td>0.000134</td>\n",
       "      <td>3.739651e-08</td>\n",
       "      <td>1.066051e-07</td>\n",
       "      <td>0.000272</td>\n",
       "      <td>1.066051e-07</td>\n",
       "      <td>1198</td>\n",
       "    </tr>\n",
       "    <tr>\n",
       "      <th>1199</th>\n",
       "      <td>7.625215e-08</td>\n",
       "      <td>0.000217</td>\n",
       "      <td>7.625215e-08</td>\n",
       "      <td>1.412481e-07</td>\n",
       "      <td>0.000313</td>\n",
       "      <td>1.412481e-07</td>\n",
       "      <td>1199</td>\n",
       "    </tr>\n",
       "  </tbody>\n",
       "</table>\n",
       "</div>"
      ],
      "text/plain": [
       "              loss       mae           mse      val_loss   val_mae  \\\n",
       "1190  6.695249e-08  0.000211  6.695249e-08  1.798973e-07  0.000329   \n",
       "1191  1.380506e-07  0.000270  1.380506e-07  8.502515e-08  0.000258   \n",
       "1192  5.374282e-08  0.000178  5.374282e-08  5.271115e-08  0.000188   \n",
       "1193  1.466741e-08  0.000096  1.466741e-08  6.441364e-08  0.000207   \n",
       "1194  8.050805e-08  0.000224  8.050805e-08  7.657928e-08  0.000237   \n",
       "1195  2.592516e-08  0.000113  2.592516e-08  4.888030e-08  0.000186   \n",
       "1196  1.612145e-08  0.000101  1.612145e-08  1.871301e-08  0.000115   \n",
       "1197  8.819593e-08  0.000228  8.819593e-08  1.966371e-07  0.000329   \n",
       "1198  3.739651e-08  0.000134  3.739651e-08  1.066051e-07  0.000272   \n",
       "1199  7.625215e-08  0.000217  7.625215e-08  1.412481e-07  0.000313   \n",
       "\n",
       "           val_mse  epoch  \n",
       "1190  1.798973e-07   1190  \n",
       "1191  8.502515e-08   1191  \n",
       "1192  5.271115e-08   1192  \n",
       "1193  6.441364e-08   1193  \n",
       "1194  7.657928e-08   1194  \n",
       "1195  4.888030e-08   1195  \n",
       "1196  1.871301e-08   1196  \n",
       "1197  1.966371e-07   1197  \n",
       "1198  1.066051e-07   1198  \n",
       "1199  1.412481e-07   1199  "
      ]
     },
     "execution_count": 64,
     "metadata": {},
     "output_type": "execute_result"
    }
   ],
   "source": [
    "# История обучения\n",
    "\n",
    "hist = pd.DataFrame(history.history)\n",
    "hist['epoch'] = history.epoch\n",
    "hist.tail(10)"
   ]
  },
  {
   "cell_type": "code",
   "execution_count": 65,
   "metadata": {},
   "outputs": [
    {
     "data": {
      "text/plain": [
       "158    0.009191\n",
       "83     0.009682\n",
       "170    0.010267\n",
       "101    0.010408\n",
       "150    0.009951\n",
       "200    0.009514\n",
       "118    0.009555\n",
       "236    0.009563\n",
       "63     0.009234\n",
       "135    0.008740\n",
       "Name: \\Sigma_{a1}(3), dtype: float64"
      ]
     },
     "execution_count": 65,
     "metadata": {},
     "output_type": "execute_result"
    }
   ],
   "source": [
    "# Тренировочные данные\n",
    "\n",
    "train_labels.head(10)"
   ]
  },
  {
   "cell_type": "code",
   "execution_count": 66,
   "metadata": {},
   "outputs": [
    {
     "data": {
      "text/plain": [
       "array([[0.00900595],\n",
       "       [0.00968171],\n",
       "       [0.00937525],\n",
       "       [0.01000891],\n",
       "       [0.00946306],\n",
       "       [0.00953072],\n",
       "       [0.00920036],\n",
       "       [0.0092446 ],\n",
       "       [0.00980134],\n",
       "       [0.00912786]], dtype=float32)"
      ]
     },
     "execution_count": 66,
     "metadata": {},
     "output_type": "execute_result"
    }
   ],
   "source": [
    "# Предсказанные данные\n",
    "\n",
    "model.predict(normed_train_data)[0:10]"
   ]
  },
  {
   "cell_type": "markdown",
   "metadata": {},
   "source": [
    "### Модель 4"
   ]
  },
  {
   "cell_type": "code",
   "execution_count": 67,
   "metadata": {},
   "outputs": [
    {
     "data": {
      "text/html": [
       "<div>\n",
       "<style scoped>\n",
       "    .dataframe tbody tr th:only-of-type {\n",
       "        vertical-align: middle;\n",
       "    }\n",
       "\n",
       "    .dataframe tbody tr th {\n",
       "        vertical-align: top;\n",
       "    }\n",
       "\n",
       "    .dataframe thead th {\n",
       "        text-align: right;\n",
       "    }\n",
       "</style>\n",
       "<table border=\"1\" class=\"dataframe\">\n",
       "  <thead>\n",
       "    <tr style=\"text-align: right;\">\n",
       "      <th></th>\n",
       "      <th>\\rho(g/cm^3)</th>\n",
       "      <th>T_c(K)</th>\n",
       "      <th>T_f(K)</th>\n",
       "      <th>c_b(ppm)</th>\n",
       "    </tr>\n",
       "  </thead>\n",
       "  <tbody>\n",
       "    <tr>\n",
       "      <th>158</th>\n",
       "      <td>0.156763</td>\n",
       "      <td>-0.480029</td>\n",
       "      <td>-1.294301</td>\n",
       "      <td>-0.739242</td>\n",
       "    </tr>\n",
       "    <tr>\n",
       "      <th>83</th>\n",
       "      <td>-0.452130</td>\n",
       "      <td>1.268925</td>\n",
       "      <td>1.440051</td>\n",
       "      <td>-0.345778</td>\n",
       "    </tr>\n",
       "    <tr>\n",
       "      <th>170</th>\n",
       "      <td>1.726354</td>\n",
       "      <td>-1.727344</td>\n",
       "      <td>0.936712</td>\n",
       "      <td>0.291908</td>\n",
       "    </tr>\n",
       "    <tr>\n",
       "      <th>101</th>\n",
       "      <td>1.442199</td>\n",
       "      <td>0.889307</td>\n",
       "      <td>1.059145</td>\n",
       "      <td>1.662251</td>\n",
       "    </tr>\n",
       "    <tr>\n",
       "      <th>150</th>\n",
       "      <td>0.806247</td>\n",
       "      <td>-1.564651</td>\n",
       "      <td>-0.206002</td>\n",
       "      <td>1.648683</td>\n",
       "    </tr>\n",
       "    <tr>\n",
       "      <th>...</th>\n",
       "      <td>...</td>\n",
       "      <td>...</td>\n",
       "      <td>...</td>\n",
       "      <td>...</td>\n",
       "    </tr>\n",
       "    <tr>\n",
       "      <th>151</th>\n",
       "      <td>-0.925712</td>\n",
       "      <td>0.170745</td>\n",
       "      <td>1.535275</td>\n",
       "      <td>-0.087989</td>\n",
       "    </tr>\n",
       "    <tr>\n",
       "      <th>202</th>\n",
       "      <td>1.591040</td>\n",
       "      <td>-1.266380</td>\n",
       "      <td>-1.158264</td>\n",
       "      <td>1.078837</td>\n",
       "    </tr>\n",
       "    <tr>\n",
       "      <th>31</th>\n",
       "      <td>-1.615790</td>\n",
       "      <td>0.102956</td>\n",
       "      <td>-0.328436</td>\n",
       "      <td>-0.969894</td>\n",
       "    </tr>\n",
       "    <tr>\n",
       "      <th>209</th>\n",
       "      <td>0.400320</td>\n",
       "      <td>1.011327</td>\n",
       "      <td>1.344824</td>\n",
       "      <td>1.187379</td>\n",
       "    </tr>\n",
       "    <tr>\n",
       "      <th>127</th>\n",
       "      <td>-1.696975</td>\n",
       "      <td>0.563921</td>\n",
       "      <td>0.079676</td>\n",
       "      <td>-0.400047</td>\n",
       "    </tr>\n",
       "  </tbody>\n",
       "</table>\n",
       "<p>206 rows × 4 columns</p>\n",
       "</div>"
      ],
      "text/plain": [
       "     \\rho(g/cm^3)    T_c(K)    T_f(K)  c_b(ppm)\n",
       "158      0.156763 -0.480029 -1.294301 -0.739242\n",
       "83      -0.452130  1.268925  1.440051 -0.345778\n",
       "170      1.726354 -1.727344  0.936712  0.291908\n",
       "101      1.442199  0.889307  1.059145  1.662251\n",
       "150      0.806247 -1.564651 -0.206002  1.648683\n",
       "..            ...       ...       ...       ...\n",
       "151     -0.925712  0.170745  1.535275 -0.087989\n",
       "202      1.591040 -1.266380 -1.158264  1.078837\n",
       "31      -1.615790  0.102956 -0.328436 -0.969894\n",
       "209      0.400320  1.011327  1.344824  1.187379\n",
       "127     -1.696975  0.563921  0.079676 -0.400047\n",
       "\n",
       "[206 rows x 4 columns]"
      ]
     },
     "execution_count": 67,
     "metadata": {},
     "output_type": "execute_result"
    }
   ],
   "source": [
    "normed_train_data"
   ]
  },
  {
   "cell_type": "code",
   "execution_count": 68,
   "metadata": {},
   "outputs": [
    {
     "data": {
      "text/html": [
       "<div>\n",
       "<style scoped>\n",
       "    .dataframe tbody tr th:only-of-type {\n",
       "        vertical-align: middle;\n",
       "    }\n",
       "\n",
       "    .dataframe tbody tr th {\n",
       "        vertical-align: top;\n",
       "    }\n",
       "\n",
       "    .dataframe thead th {\n",
       "        text-align: right;\n",
       "    }\n",
       "</style>\n",
       "<table border=\"1\" class=\"dataframe\">\n",
       "  <thead>\n",
       "    <tr style=\"text-align: right;\">\n",
       "      <th></th>\n",
       "      <th>\\rho(g/cm^3)</th>\n",
       "      <th>T_f(K)</th>\n",
       "      <th>c_b(ppm)</th>\n",
       "    </tr>\n",
       "  </thead>\n",
       "  <tbody>\n",
       "    <tr>\n",
       "      <th>158</th>\n",
       "      <td>0.156763</td>\n",
       "      <td>-1.294301</td>\n",
       "      <td>-0.739242</td>\n",
       "    </tr>\n",
       "    <tr>\n",
       "      <th>83</th>\n",
       "      <td>-0.452130</td>\n",
       "      <td>1.440051</td>\n",
       "      <td>-0.345778</td>\n",
       "    </tr>\n",
       "    <tr>\n",
       "      <th>170</th>\n",
       "      <td>1.726354</td>\n",
       "      <td>0.936712</td>\n",
       "      <td>0.291908</td>\n",
       "    </tr>\n",
       "    <tr>\n",
       "      <th>101</th>\n",
       "      <td>1.442199</td>\n",
       "      <td>1.059145</td>\n",
       "      <td>1.662251</td>\n",
       "    </tr>\n",
       "    <tr>\n",
       "      <th>150</th>\n",
       "      <td>0.806247</td>\n",
       "      <td>-0.206002</td>\n",
       "      <td>1.648683</td>\n",
       "    </tr>\n",
       "    <tr>\n",
       "      <th>...</th>\n",
       "      <td>...</td>\n",
       "      <td>...</td>\n",
       "      <td>...</td>\n",
       "    </tr>\n",
       "    <tr>\n",
       "      <th>151</th>\n",
       "      <td>-0.925712</td>\n",
       "      <td>1.535275</td>\n",
       "      <td>-0.087989</td>\n",
       "    </tr>\n",
       "    <tr>\n",
       "      <th>202</th>\n",
       "      <td>1.591040</td>\n",
       "      <td>-1.158264</td>\n",
       "      <td>1.078837</td>\n",
       "    </tr>\n",
       "    <tr>\n",
       "      <th>31</th>\n",
       "      <td>-1.615790</td>\n",
       "      <td>-0.328436</td>\n",
       "      <td>-0.969894</td>\n",
       "    </tr>\n",
       "    <tr>\n",
       "      <th>209</th>\n",
       "      <td>0.400320</td>\n",
       "      <td>1.344824</td>\n",
       "      <td>1.187379</td>\n",
       "    </tr>\n",
       "    <tr>\n",
       "      <th>127</th>\n",
       "      <td>-1.696975</td>\n",
       "      <td>0.079676</td>\n",
       "      <td>-0.400047</td>\n",
       "    </tr>\n",
       "  </tbody>\n",
       "</table>\n",
       "<p>206 rows × 3 columns</p>\n",
       "</div>"
      ],
      "text/plain": [
       "     \\rho(g/cm^3)    T_f(K)  c_b(ppm)\n",
       "158      0.156763 -1.294301 -0.739242\n",
       "83      -0.452130  1.440051 -0.345778\n",
       "170      1.726354  0.936712  0.291908\n",
       "101      1.442199  1.059145  1.662251\n",
       "150      0.806247 -0.206002  1.648683\n",
       "..            ...       ...       ...\n",
       "151     -0.925712  1.535275 -0.087989\n",
       "202      1.591040 -1.158264  1.078837\n",
       "31      -1.615790 -0.328436 -0.969894\n",
       "209      0.400320  1.344824  1.187379\n",
       "127     -1.696975  0.079676 -0.400047\n",
       "\n",
       "[206 rows x 3 columns]"
      ]
     },
     "execution_count": 68,
     "metadata": {},
     "output_type": "execute_result"
    }
   ],
   "source": [
    "normed_train_data = normed_train_data.drop(['T_c(K)'], axis=1)\n",
    "normed_train_data"
   ]
  },
  {
   "cell_type": "code",
   "execution_count": 69,
   "metadata": {},
   "outputs": [],
   "source": [
    "def build_model_0_layer(learning_rate, rho, activation):\n",
    "    model = keras.Sequential([\n",
    "        layers.Dense(1, activation=activation, input_shape=[len(normed_train_data.keys())])\n",
    "    ])\n",
    "    \n",
    "    optimizer = tf.keras.optimizers.RMSprop(learning_rate = learning_rate, rho = rho)\n",
    "    model.compile(loss='mse',\n",
    "                  optimizer=optimizer,\n",
    "                  metrics=['mae', 'mse'])\n",
    "    return model"
   ]
  },
  {
   "cell_type": "code",
   "execution_count": 70,
   "metadata": {},
   "outputs": [
    {
     "name": "stdout",
     "output_type": "stream",
     "text": [
      "Model: \"sequential_4\"\n",
      "_________________________________________________________________\n",
      "Layer (type)                 Output Shape              Param #   \n",
      "=================================================================\n",
      "dense_9 (Dense)              (None, 1)                 4         \n",
      "=================================================================\n",
      "Total params: 4\n",
      "Trainable params: 4\n",
      "Non-trainable params: 0\n",
      "_________________________________________________________________\n"
     ]
    }
   ],
   "source": [
    "learning_rate = 0.0002\n",
    "rho = 0.9999\n",
    "activation = 'tanh'\n",
    "model = build_model_0_layer(learning_rate, rho, activation)\n",
    "\n",
    "model.summary()"
   ]
  },
  {
   "cell_type": "code",
   "execution_count": 71,
   "metadata": {},
   "outputs": [
    {
     "name": "stdout",
     "output_type": "stream",
     "text": [
      "\n",
      "....................................................................................................\n",
      "....................................................................................................\n",
      "....................................................................................................\n",
      "....................................................................................................\n",
      "....................................................................................................\n",
      "....................................................................................................\n",
      "....................................................................................................\n",
      "....................................................................................................\n",
      "....................................................................................................\n",
      "....................................................................................................\n",
      "....................................................................................................\n",
      "...................................................................................................."
     ]
    }
   ],
   "source": [
    "# Обучение модели\n",
    "\n",
    "EPOCHS = 1200\n",
    "\n",
    "history = model.fit(\n",
    "  normed_train_data, train_labels,\n",
    "  epochs=EPOCHS, validation_split = 0.2, verbose=0,\n",
    "  callbacks=[PrintDot()])"
   ]
  },
  {
   "cell_type": "code",
   "execution_count": 72,
   "metadata": {},
   "outputs": [
    {
     "data": {
      "text/html": [
       "<div>\n",
       "<style scoped>\n",
       "    .dataframe tbody tr th:only-of-type {\n",
       "        vertical-align: middle;\n",
       "    }\n",
       "\n",
       "    .dataframe tbody tr th {\n",
       "        vertical-align: top;\n",
       "    }\n",
       "\n",
       "    .dataframe thead th {\n",
       "        text-align: right;\n",
       "    }\n",
       "</style>\n",
       "<table border=\"1\" class=\"dataframe\">\n",
       "  <thead>\n",
       "    <tr style=\"text-align: right;\">\n",
       "      <th></th>\n",
       "      <th>loss</th>\n",
       "      <th>mae</th>\n",
       "      <th>mse</th>\n",
       "      <th>val_loss</th>\n",
       "      <th>val_mae</th>\n",
       "      <th>val_mse</th>\n",
       "      <th>epoch</th>\n",
       "    </tr>\n",
       "  </thead>\n",
       "  <tbody>\n",
       "    <tr>\n",
       "      <th>1190</th>\n",
       "      <td>2.946387e-09</td>\n",
       "      <td>0.000044</td>\n",
       "      <td>2.946387e-09</td>\n",
       "      <td>3.168439e-09</td>\n",
       "      <td>0.000039</td>\n",
       "      <td>3.168439e-09</td>\n",
       "      <td>1190</td>\n",
       "    </tr>\n",
       "    <tr>\n",
       "      <th>1191</th>\n",
       "      <td>2.955953e-09</td>\n",
       "      <td>0.000044</td>\n",
       "      <td>2.955953e-09</td>\n",
       "      <td>3.160170e-09</td>\n",
       "      <td>0.000040</td>\n",
       "      <td>3.160170e-09</td>\n",
       "      <td>1191</td>\n",
       "    </tr>\n",
       "    <tr>\n",
       "      <th>1192</th>\n",
       "      <td>2.953030e-09</td>\n",
       "      <td>0.000044</td>\n",
       "      <td>2.953030e-09</td>\n",
       "      <td>3.169067e-09</td>\n",
       "      <td>0.000039</td>\n",
       "      <td>3.169067e-09</td>\n",
       "      <td>1192</td>\n",
       "    </tr>\n",
       "    <tr>\n",
       "      <th>1193</th>\n",
       "      <td>2.952722e-09</td>\n",
       "      <td>0.000044</td>\n",
       "      <td>2.952722e-09</td>\n",
       "      <td>3.172994e-09</td>\n",
       "      <td>0.000039</td>\n",
       "      <td>3.172994e-09</td>\n",
       "      <td>1193</td>\n",
       "    </tr>\n",
       "    <tr>\n",
       "      <th>1194</th>\n",
       "      <td>2.952392e-09</td>\n",
       "      <td>0.000044</td>\n",
       "      <td>2.952392e-09</td>\n",
       "      <td>3.167533e-09</td>\n",
       "      <td>0.000039</td>\n",
       "      <td>3.167533e-09</td>\n",
       "      <td>1194</td>\n",
       "    </tr>\n",
       "    <tr>\n",
       "      <th>1195</th>\n",
       "      <td>2.950408e-09</td>\n",
       "      <td>0.000044</td>\n",
       "      <td>2.950408e-09</td>\n",
       "      <td>3.170732e-09</td>\n",
       "      <td>0.000039</td>\n",
       "      <td>3.170732e-09</td>\n",
       "      <td>1195</td>\n",
       "    </tr>\n",
       "    <tr>\n",
       "      <th>1196</th>\n",
       "      <td>2.952073e-09</td>\n",
       "      <td>0.000044</td>\n",
       "      <td>2.952073e-09</td>\n",
       "      <td>3.178710e-09</td>\n",
       "      <td>0.000039</td>\n",
       "      <td>3.178710e-09</td>\n",
       "      <td>1196</td>\n",
       "    </tr>\n",
       "    <tr>\n",
       "      <th>1197</th>\n",
       "      <td>2.949369e-09</td>\n",
       "      <td>0.000044</td>\n",
       "      <td>2.949369e-09</td>\n",
       "      <td>3.168846e-09</td>\n",
       "      <td>0.000039</td>\n",
       "      <td>3.168846e-09</td>\n",
       "      <td>1197</td>\n",
       "    </tr>\n",
       "    <tr>\n",
       "      <th>1198</th>\n",
       "      <td>2.951274e-09</td>\n",
       "      <td>0.000044</td>\n",
       "      <td>2.951274e-09</td>\n",
       "      <td>3.166270e-09</td>\n",
       "      <td>0.000039</td>\n",
       "      <td>3.166270e-09</td>\n",
       "      <td>1198</td>\n",
       "    </tr>\n",
       "    <tr>\n",
       "      <th>1199</th>\n",
       "      <td>2.952884e-09</td>\n",
       "      <td>0.000044</td>\n",
       "      <td>2.952884e-09</td>\n",
       "      <td>3.170258e-09</td>\n",
       "      <td>0.000039</td>\n",
       "      <td>3.170258e-09</td>\n",
       "      <td>1199</td>\n",
       "    </tr>\n",
       "  </tbody>\n",
       "</table>\n",
       "</div>"
      ],
      "text/plain": [
       "              loss       mae           mse      val_loss   val_mae  \\\n",
       "1190  2.946387e-09  0.000044  2.946387e-09  3.168439e-09  0.000039   \n",
       "1191  2.955953e-09  0.000044  2.955953e-09  3.160170e-09  0.000040   \n",
       "1192  2.953030e-09  0.000044  2.953030e-09  3.169067e-09  0.000039   \n",
       "1193  2.952722e-09  0.000044  2.952722e-09  3.172994e-09  0.000039   \n",
       "1194  2.952392e-09  0.000044  2.952392e-09  3.167533e-09  0.000039   \n",
       "1195  2.950408e-09  0.000044  2.950408e-09  3.170732e-09  0.000039   \n",
       "1196  2.952073e-09  0.000044  2.952073e-09  3.178710e-09  0.000039   \n",
       "1197  2.949369e-09  0.000044  2.949369e-09  3.168846e-09  0.000039   \n",
       "1198  2.951274e-09  0.000044  2.951274e-09  3.166270e-09  0.000039   \n",
       "1199  2.952884e-09  0.000044  2.952884e-09  3.170258e-09  0.000039   \n",
       "\n",
       "           val_mse  epoch  \n",
       "1190  3.168439e-09   1190  \n",
       "1191  3.160170e-09   1191  \n",
       "1192  3.169067e-09   1192  \n",
       "1193  3.172994e-09   1193  \n",
       "1194  3.167533e-09   1194  \n",
       "1195  3.170732e-09   1195  \n",
       "1196  3.178710e-09   1196  \n",
       "1197  3.168846e-09   1197  \n",
       "1198  3.166270e-09   1198  \n",
       "1199  3.170258e-09   1199  "
      ]
     },
     "execution_count": 72,
     "metadata": {},
     "output_type": "execute_result"
    }
   ],
   "source": [
    "# История обучения\n",
    "\n",
    "hist = pd.DataFrame(history.history)\n",
    "hist['epoch'] = history.epoch\n",
    "hist.tail(10)"
   ]
  },
  {
   "cell_type": "code",
   "execution_count": 73,
   "metadata": {},
   "outputs": [
    {
     "data": {
      "image/png": "[encoded data removed]",
      "text/plain": [
       "<Figure size 432x288 with 1 Axes>"
      ]
     },
     "metadata": {
      "needs_background": "light"
     },
     "output_type": "display_data"
    }
   ],
   "source": [
    "# Отображение процесса обучения\n",
    "\n",
    "plot_history(history, 0.00000003)"
   ]
  },
  {
   "cell_type": "code",
   "execution_count": 74,
   "metadata": {},
   "outputs": [
    {
     "data": {
      "text/plain": [
       "158    0.009191\n",
       "83     0.009682\n",
       "170    0.010267\n",
       "101    0.010408\n",
       "150    0.009951\n",
       "200    0.009514\n",
       "118    0.009555\n",
       "236    0.009563\n",
       "63     0.009234\n",
       "135    0.008740\n",
       "Name: \\Sigma_{a1}(3), dtype: float64"
      ]
     },
     "execution_count": 74,
     "metadata": {},
     "output_type": "execute_result"
    }
   ],
   "source": [
    "# Тренировочные данные\n",
    "\n",
    "train_labels.head(10)"
   ]
  },
  {
   "cell_type": "code",
   "execution_count": 75,
   "metadata": {},
   "outputs": [
    {
     "data": {
      "text/plain": [
       "array([[0.00918183],\n",
       "       [0.00968151],\n",
       "       [0.01029824],\n",
       "       [0.01037887],\n",
       "       [0.00988209],\n",
       "       [0.00957033],\n",
       "       [0.00952748],\n",
       "       [0.00954022],\n",
       "       [0.00943503],\n",
       "       [0.0086969 ]], dtype=float32)"
      ]
     },
     "execution_count": 75,
     "metadata": {},
     "output_type": "execute_result"
    }
   ],
   "source": [
    "# Предсказанные данные\n",
    "\n",
    "model.predict(normed_train_data)[0:10]"
   ]
  },
  {
   "cell_type": "markdown",
   "metadata": {},
   "source": [
    "### Модель 5"
   ]
  },
  {
   "cell_type": "code",
   "execution_count": 76,
   "metadata": {},
   "outputs": [],
   "source": [
    "def build_model_1_layer(learning_rate, rho, activation):\n",
    "    model = keras.Sequential([\n",
    "        layers.Dense(2, activation=activation, input_shape=[len(normed_train_data.keys())]),\n",
    "        layers.Dense(1)\n",
    "    ])\n",
    "    \n",
    "    optimizer = tf.keras.optimizers.RMSprop(learning_rate = learning_rate, rho = rho)\n",
    "    model.compile(loss='mse',\n",
    "                  optimizer=optimizer,\n",
    "                  metrics=['mae', 'mse'])\n",
    "    return model"
   ]
  },
  {
   "cell_type": "code",
   "execution_count": 77,
   "metadata": {},
   "outputs": [
    {
     "name": "stdout",
     "output_type": "stream",
     "text": [
      "Model: \"sequential_5\"\n",
      "_________________________________________________________________\n",
      "Layer (type)                 Output Shape              Param #   \n",
      "=================================================================\n",
      "dense_10 (Dense)             (None, 2)                 8         \n",
      "_________________________________________________________________\n",
      "dense_11 (Dense)             (None, 1)                 3         \n",
      "=================================================================\n",
      "Total params: 11\n",
      "Trainable params: 11\n",
      "Non-trainable params: 0\n",
      "_________________________________________________________________\n"
     ]
    }
   ],
   "source": [
    "learning_rate = 0.0005\n",
    "rho = 0.9999\n",
    "activation = 'tanh'\n",
    "model = build_model_1_layer(learning_rate, rho, activation)\n",
    "\n",
    "model.summary()"
   ]
  },
  {
   "cell_type": "code",
   "execution_count": 78,
   "metadata": {},
   "outputs": [
    {
     "name": "stdout",
     "output_type": "stream",
     "text": [
      "\n",
      "....................................................................................................\n",
      "....................................................................................................\n",
      "....................................................................................................\n",
      "....................................................................................................\n",
      "....................................................................................................\n",
      "....................................................................................................\n",
      "....................................................................................................\n",
      "....................................................................................................\n",
      "....................................................................................................\n",
      "....................................................................................................\n",
      "....................................................................................................\n",
      "...................................................................................................."
     ]
    }
   ],
   "source": [
    "# Обучение модели\n",
    "\n",
    "EPOCHS = 1200\n",
    "\n",
    "history = model.fit(\n",
    "  normed_train_data, train_labels,\n",
    "  epochs=EPOCHS, validation_split = 0.2, verbose=0,\n",
    "  callbacks=[PrintDot()])"
   ]
  },
  {
   "cell_type": "code",
   "execution_count": 79,
   "metadata": {},
   "outputs": [
    {
     "data": {
      "text/html": [
       "<div>\n",
       "<style scoped>\n",
       "    .dataframe tbody tr th:only-of-type {\n",
       "        vertical-align: middle;\n",
       "    }\n",
       "\n",
       "    .dataframe tbody tr th {\n",
       "        vertical-align: top;\n",
       "    }\n",
       "\n",
       "    .dataframe thead th {\n",
       "        text-align: right;\n",
       "    }\n",
       "</style>\n",
       "<table border=\"1\" class=\"dataframe\">\n",
       "  <thead>\n",
       "    <tr style=\"text-align: right;\">\n",
       "      <th></th>\n",
       "      <th>loss</th>\n",
       "      <th>mae</th>\n",
       "      <th>mse</th>\n",
       "      <th>val_loss</th>\n",
       "      <th>val_mae</th>\n",
       "      <th>val_mse</th>\n",
       "      <th>epoch</th>\n",
       "    </tr>\n",
       "  </thead>\n",
       "  <tbody>\n",
       "    <tr>\n",
       "      <th>1190</th>\n",
       "      <td>2.171078e-08</td>\n",
       "      <td>0.000109</td>\n",
       "      <td>2.171078e-08</td>\n",
       "      <td>1.956294e-08</td>\n",
       "      <td>0.000105</td>\n",
       "      <td>1.956294e-08</td>\n",
       "      <td>1190</td>\n",
       "    </tr>\n",
       "    <tr>\n",
       "      <th>1191</th>\n",
       "      <td>2.186679e-08</td>\n",
       "      <td>0.000108</td>\n",
       "      <td>2.186679e-08</td>\n",
       "      <td>1.939175e-08</td>\n",
       "      <td>0.000106</td>\n",
       "      <td>1.939175e-08</td>\n",
       "      <td>1191</td>\n",
       "    </tr>\n",
       "    <tr>\n",
       "      <th>1192</th>\n",
       "      <td>2.189482e-08</td>\n",
       "      <td>0.000109</td>\n",
       "      <td>2.189482e-08</td>\n",
       "      <td>1.989280e-08</td>\n",
       "      <td>0.000104</td>\n",
       "      <td>1.989280e-08</td>\n",
       "      <td>1192</td>\n",
       "    </tr>\n",
       "    <tr>\n",
       "      <th>1193</th>\n",
       "      <td>2.209404e-08</td>\n",
       "      <td>0.000108</td>\n",
       "      <td>2.209404e-08</td>\n",
       "      <td>1.983670e-08</td>\n",
       "      <td>0.000105</td>\n",
       "      <td>1.983670e-08</td>\n",
       "      <td>1193</td>\n",
       "    </tr>\n",
       "    <tr>\n",
       "      <th>1194</th>\n",
       "      <td>2.198283e-08</td>\n",
       "      <td>0.000109</td>\n",
       "      <td>2.198283e-08</td>\n",
       "      <td>1.970900e-08</td>\n",
       "      <td>0.000105</td>\n",
       "      <td>1.970900e-08</td>\n",
       "      <td>1194</td>\n",
       "    </tr>\n",
       "    <tr>\n",
       "      <th>1195</th>\n",
       "      <td>2.185328e-08</td>\n",
       "      <td>0.000108</td>\n",
       "      <td>2.185328e-08</td>\n",
       "      <td>1.968928e-08</td>\n",
       "      <td>0.000105</td>\n",
       "      <td>1.968928e-08</td>\n",
       "      <td>1195</td>\n",
       "    </tr>\n",
       "    <tr>\n",
       "      <th>1196</th>\n",
       "      <td>2.178276e-08</td>\n",
       "      <td>0.000109</td>\n",
       "      <td>2.178276e-08</td>\n",
       "      <td>1.947562e-08</td>\n",
       "      <td>0.000105</td>\n",
       "      <td>1.947562e-08</td>\n",
       "      <td>1196</td>\n",
       "    </tr>\n",
       "    <tr>\n",
       "      <th>1197</th>\n",
       "      <td>2.176316e-08</td>\n",
       "      <td>0.000109</td>\n",
       "      <td>2.176316e-08</td>\n",
       "      <td>2.039528e-08</td>\n",
       "      <td>0.000105</td>\n",
       "      <td>2.039528e-08</td>\n",
       "      <td>1197</td>\n",
       "    </tr>\n",
       "    <tr>\n",
       "      <th>1198</th>\n",
       "      <td>2.187798e-08</td>\n",
       "      <td>0.000109</td>\n",
       "      <td>2.187798e-08</td>\n",
       "      <td>1.947463e-08</td>\n",
       "      <td>0.000106</td>\n",
       "      <td>1.947463e-08</td>\n",
       "      <td>1198</td>\n",
       "    </tr>\n",
       "    <tr>\n",
       "      <th>1199</th>\n",
       "      <td>2.181330e-08</td>\n",
       "      <td>0.000109</td>\n",
       "      <td>2.181330e-08</td>\n",
       "      <td>1.914614e-08</td>\n",
       "      <td>0.000106</td>\n",
       "      <td>1.914614e-08</td>\n",
       "      <td>1199</td>\n",
       "    </tr>\n",
       "  </tbody>\n",
       "</table>\n",
       "</div>"
      ],
      "text/plain": [
       "              loss       mae           mse      val_loss   val_mae  \\\n",
       "1190  2.171078e-08  0.000109  2.171078e-08  1.956294e-08  0.000105   \n",
       "1191  2.186679e-08  0.000108  2.186679e-08  1.939175e-08  0.000106   \n",
       "1192  2.189482e-08  0.000109  2.189482e-08  1.989280e-08  0.000104   \n",
       "1193  2.209404e-08  0.000108  2.209404e-08  1.983670e-08  0.000105   \n",
       "1194  2.198283e-08  0.000109  2.198283e-08  1.970900e-08  0.000105   \n",
       "1195  2.185328e-08  0.000108  2.185328e-08  1.968928e-08  0.000105   \n",
       "1196  2.178276e-08  0.000109  2.178276e-08  1.947562e-08  0.000105   \n",
       "1197  2.176316e-08  0.000109  2.176316e-08  2.039528e-08  0.000105   \n",
       "1198  2.187798e-08  0.000109  2.187798e-08  1.947463e-08  0.000106   \n",
       "1199  2.181330e-08  0.000109  2.181330e-08  1.914614e-08  0.000106   \n",
       "\n",
       "           val_mse  epoch  \n",
       "1190  1.956294e-08   1190  \n",
       "1191  1.939175e-08   1191  \n",
       "1192  1.989280e-08   1192  \n",
       "1193  1.983670e-08   1193  \n",
       "1194  1.970900e-08   1194  \n",
       "1195  1.968928e-08   1195  \n",
       "1196  1.947562e-08   1196  \n",
       "1197  2.039528e-08   1197  \n",
       "1198  1.947463e-08   1198  \n",
       "1199  1.914614e-08   1199  "
      ]
     },
     "execution_count": 79,
     "metadata": {},
     "output_type": "execute_result"
    }
   ],
   "source": [
    "# История обучения\n",
    "\n",
    "hist = pd.DataFrame(history.history)\n",
    "hist['epoch'] = history.epoch\n",
    "hist.tail(10)"
   ]
  },
  {
   "cell_type": "code",
   "execution_count": 80,
   "metadata": {},
   "outputs": [
    {
     "data": {
      "image/png": "[encoded data removed]",
      "text/plain": [
       "<Figure size 432x288 with 1 Axes>"
      ]
     },
     "metadata": {
      "needs_background": "light"
     },
     "output_type": "display_data"
    }
   ],
   "source": [
    "# Отображение процесса обучения\n",
    "\n",
    "plot_history(history, 0.00000003)"
   ]
  }
 ],
 "metadata": {
  "kernelspec": {
   "display_name": "Python 3",
   "language": "python",
   "name": "python3"
  },
  "language_info": {
   "codemirror_mode": {
    "name": "ipython",
    "version": 3
   },
   "file_extension": ".py",
   "mimetype": "text/x-python",
   "name": "python",
   "nbconvert_exporter": "python",
   "pygments_lexer": "ipython3",
   "version": "3.8.5"
  }
 },
 "nbformat": 4,
 "nbformat_minor": 4
}
