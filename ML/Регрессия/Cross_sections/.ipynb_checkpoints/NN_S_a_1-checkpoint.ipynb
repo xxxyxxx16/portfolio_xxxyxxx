{
 "cells": [
  {
   "cell_type": "markdown",
   "metadata": {},
   "source": [
    "# \\Sigma_{a1} в зависимости от плотности теплоносителя, температуры теплоносителя, температуры топлива и концентрации борной кислоты"
   ]
  },
  {
   "cell_type": "markdown",
   "metadata": {},
   "source": [
    "## 1. Загрузка данных"
   ]
  },
  {
   "cell_type": "code",
   "execution_count": 1,
   "metadata": {},
   "outputs": [],
   "source": [
    "import pandas as pd"
   ]
  },
  {
   "cell_type": "markdown",
   "metadata": {},
   "source": [
    "Загрузка данных"
   ]
  },
  {
   "cell_type": "code",
   "execution_count": 2,
   "metadata": {},
   "outputs": [
    {
     "data": {
      "text/html": [
       "<div>\n",
       "<style scoped>\n",
       "    .dataframe tbody tr th:only-of-type {\n",
       "        vertical-align: middle;\n",
       "    }\n",
       "\n",
       "    .dataframe tbody tr th {\n",
       "        vertical-align: top;\n",
       "    }\n",
       "\n",
       "    .dataframe thead th {\n",
       "        text-align: right;\n",
       "    }\n",
       "</style>\n",
       "<table border=\"1\" class=\"dataframe\">\n",
       "  <thead>\n",
       "    <tr style=\"text-align: right;\">\n",
       "      <th></th>\n",
       "      <th>\\rho(g/cm^3)</th>\n",
       "      <th>T_c(K)</th>\n",
       "      <th>T_f(K)</th>\n",
       "      <th>c_b(ppm)</th>\n",
       "      <th>3S_{tr1}(1)</th>\n",
       "      <th>3S_{tr2}(2)</th>\n",
       "      <th>\\Sigma_{a1}(3)</th>\n",
       "      <th>\\Sigma_{a2}(4)</th>\n",
       "      <th>nuS_{f1}(5)</th>\n",
       "      <th>nuS_{f2}(6)</th>\n",
       "      <th>\\Sigma_{f1}(7)</th>\n",
       "      <th>\\Sigma_{f2}(8)</th>\n",
       "      <th>\\Sigma_{1-&gt;2}(9)</th>\n",
       "      <th>k_{inf}(10)</th>\n",
       "      <th>\\sigma_{a2}^{Xe}</th>\n",
       "      <th>\\sigma_{a2}^{Sm}</th>\n",
       "    </tr>\n",
       "  </thead>\n",
       "  <tbody>\n",
       "    <tr>\n",
       "      <th>0</th>\n",
       "      <td>0.7235</td>\n",
       "      <td>575.0</td>\n",
       "      <td>1027.0</td>\n",
       "      <td>600.0</td>\n",
       "      <td>0.661853</td>\n",
       "      <td>2.568298</td>\n",
       "      <td>0.009376</td>\n",
       "      <td>0.085584</td>\n",
       "      <td>0.006677</td>\n",
       "      <td>0.133250</td>\n",
       "      <td>0.002620</td>\n",
       "      <td>0.054750</td>\n",
       "      <td>0.017392</td>\n",
       "      <td>1.261041</td>\n",
       "      <td>1072970.0</td>\n",
       "      <td>35421.398</td>\n",
       "    </tr>\n",
       "    <tr>\n",
       "      <th>1</th>\n",
       "      <td>0.7750</td>\n",
       "      <td>448.0</td>\n",
       "      <td>1043.0</td>\n",
       "      <td>1500.0</td>\n",
       "      <td>0.679602</td>\n",
       "      <td>2.874687</td>\n",
       "      <td>0.009581</td>\n",
       "      <td>0.098339</td>\n",
       "      <td>0.006723</td>\n",
       "      <td>0.139256</td>\n",
       "      <td>0.002636</td>\n",
       "      <td>0.057218</td>\n",
       "      <td>0.018726</td>\n",
       "      <td>1.174265</td>\n",
       "      <td>1141000.0</td>\n",
       "      <td>36147.801</td>\n",
       "    </tr>\n",
       "    <tr>\n",
       "      <th>2</th>\n",
       "      <td>0.9125</td>\n",
       "      <td>370.5</td>\n",
       "      <td>1418.0</td>\n",
       "      <td>750.0</td>\n",
       "      <td>0.727336</td>\n",
       "      <td>3.668742</td>\n",
       "      <td>0.009908</td>\n",
       "      <td>0.102815</td>\n",
       "      <td>0.006844</td>\n",
       "      <td>0.153823</td>\n",
       "      <td>0.002681</td>\n",
       "      <td>0.063203</td>\n",
       "      <td>0.022463</td>\n",
       "      <td>1.249619</td>\n",
       "      <td>1308480.0</td>\n",
       "      <td>39214.000</td>\n",
       "    </tr>\n",
       "  </tbody>\n",
       "</table>\n",
       "</div>"
      ],
      "text/plain": [
       "   \\rho(g/cm^3)  T_c(K)  T_f(K)  c_b(ppm)  3S_{tr1}(1)  3S_{tr2}(2)  \\\n",
       "0        0.7235   575.0  1027.0     600.0     0.661853     2.568298   \n",
       "1        0.7750   448.0  1043.0    1500.0     0.679602     2.874687   \n",
       "2        0.9125   370.5  1418.0     750.0     0.727336     3.668742   \n",
       "\n",
       "   \\Sigma_{a1}(3)  \\Sigma_{a2}(4)  nuS_{f1}(5)  nuS_{f2}(6)  \\Sigma_{f1}(7)  \\\n",
       "0        0.009376        0.085584     0.006677     0.133250        0.002620   \n",
       "1        0.009581        0.098339     0.006723     0.139256        0.002636   \n",
       "2        0.009908        0.102815     0.006844     0.153823        0.002681   \n",
       "\n",
       "   \\Sigma_{f2}(8)  \\Sigma_{1->2}(9)  k_{inf}(10)  \\sigma_{a2}^{Xe}  \\\n",
       "0        0.054750          0.017392     1.261041         1072970.0   \n",
       "1        0.057218          0.018726     1.174265         1141000.0   \n",
       "2        0.063203          0.022463     1.249619         1308480.0   \n",
       "\n",
       "   \\sigma_{a2}^{Sm}  \n",
       "0         35421.398  \n",
       "1         36147.801  \n",
       "2         39214.000  "
      ]
     },
     "execution_count": 2,
     "metadata": {},
     "output_type": "execute_result"
    }
   ],
   "source": [
    "df = pd.read_excel('Input/Data.xlsx')\n",
    "df.head(3)"
   ]
  },
  {
   "cell_type": "code",
   "execution_count": 3,
   "metadata": {},
   "outputs": [],
   "source": [
    "names = ['\\\\rho(g/cm^3)',\n",
    " 'T_c(K)',\n",
    " 'T_f(K)',\n",
    " 'c_b(ppm)',\n",
    " '\\\\Sigma_{a1}(3)']"
   ]
  },
  {
   "cell_type": "code",
   "execution_count": 4,
   "metadata": {},
   "outputs": [],
   "source": [
    "train_dataset = df[names].sample(frac=0.8,random_state=0)\n",
    "test_dataset = df[names].drop(train_dataset.index)"
   ]
  },
  {
   "cell_type": "code",
   "execution_count": 5,
   "metadata": {},
   "outputs": [
    {
     "data": {
      "text/html": [
       "<div>\n",
       "<style scoped>\n",
       "    .dataframe tbody tr th:only-of-type {\n",
       "        vertical-align: middle;\n",
       "    }\n",
       "\n",
       "    .dataframe tbody tr th {\n",
       "        vertical-align: top;\n",
       "    }\n",
       "\n",
       "    .dataframe thead th {\n",
       "        text-align: right;\n",
       "    }\n",
       "</style>\n",
       "<table border=\"1\" class=\"dataframe\">\n",
       "  <thead>\n",
       "    <tr style=\"text-align: right;\">\n",
       "      <th></th>\n",
       "      <th>\\rho(g/cm^3)</th>\n",
       "      <th>T_c(K)</th>\n",
       "      <th>T_f(K)</th>\n",
       "      <th>c_b(ppm)</th>\n",
       "      <th>\\Sigma_{a1}(3)</th>\n",
       "    </tr>\n",
       "  </thead>\n",
       "  <tbody>\n",
       "    <tr>\n",
       "      <th>158</th>\n",
       "      <td>0.798633</td>\n",
       "      <td>405.61719</td>\n",
       "      <td>486.35941</td>\n",
       "      <td>855.46881</td>\n",
       "      <td>0.009191</td>\n",
       "    </tr>\n",
       "    <tr>\n",
       "      <th>83</th>\n",
       "      <td>0.701953</td>\n",
       "      <td>561.82812</td>\n",
       "      <td>1664.09400</td>\n",
       "      <td>1195.31200</td>\n",
       "      <td>0.009682</td>\n",
       "    </tr>\n",
       "    <tr>\n",
       "      <th>170</th>\n",
       "      <td>1.047852</td>\n",
       "      <td>294.21091</td>\n",
       "      <td>1447.29700</td>\n",
       "      <td>1746.09400</td>\n",
       "      <td>0.010267</td>\n",
       "    </tr>\n",
       "  </tbody>\n",
       "</table>\n",
       "</div>"
      ],
      "text/plain": [
       "     \\rho(g/cm^3)     T_c(K)      T_f(K)    c_b(ppm)  \\Sigma_{a1}(3)\n",
       "158      0.798633  405.61719   486.35941   855.46881        0.009191\n",
       "83       0.701953  561.82812  1664.09400  1195.31200        0.009682\n",
       "170      1.047852  294.21091  1447.29700  1746.09400        0.010267"
      ]
     },
     "execution_count": 5,
     "metadata": {},
     "output_type": "execute_result"
    }
   ],
   "source": [
    "train_dataset.head(3)"
   ]
  },
  {
   "cell_type": "code",
   "execution_count": 6,
   "metadata": {
    "scrolled": true
   },
   "outputs": [
    {
     "data": {
      "text/html": [
       "<div>\n",
       "<style scoped>\n",
       "    .dataframe tbody tr th:only-of-type {\n",
       "        vertical-align: middle;\n",
       "    }\n",
       "\n",
       "    .dataframe tbody tr th {\n",
       "        vertical-align: top;\n",
       "    }\n",
       "\n",
       "    .dataframe thead th {\n",
       "        text-align: right;\n",
       "    }\n",
       "</style>\n",
       "<table border=\"1\" class=\"dataframe\">\n",
       "  <thead>\n",
       "    <tr style=\"text-align: right;\">\n",
       "      <th></th>\n",
       "      <th>\\rho(g/cm^3)</th>\n",
       "      <th>T_c(K)</th>\n",
       "      <th>T_f(K)</th>\n",
       "      <th>c_b(ppm)</th>\n",
       "      <th>\\Sigma_{a1}(3)</th>\n",
       "    </tr>\n",
       "  </thead>\n",
       "  <tbody>\n",
       "    <tr>\n",
       "      <th>9</th>\n",
       "      <td>0.878125</td>\n",
       "      <td>544.8750</td>\n",
       "      <td>1511.750</td>\n",
       "      <td>562.50</td>\n",
       "      <td>0.009870</td>\n",
       "    </tr>\n",
       "    <tr>\n",
       "      <th>21</th>\n",
       "      <td>1.032812</td>\n",
       "      <td>477.0625</td>\n",
       "      <td>1746.125</td>\n",
       "      <td>2343.75</td>\n",
       "      <td>0.010476</td>\n",
       "    </tr>\n",
       "    <tr>\n",
       "      <th>25</th>\n",
       "      <td>0.860937</td>\n",
       "      <td>496.4375</td>\n",
       "      <td>339.875</td>\n",
       "      <td>1031.25</td>\n",
       "      <td>0.009183</td>\n",
       "    </tr>\n",
       "  </tbody>\n",
       "</table>\n",
       "</div>"
      ],
      "text/plain": [
       "    \\rho(g/cm^3)    T_c(K)    T_f(K)  c_b(ppm)  \\Sigma_{a1}(3)\n",
       "9       0.878125  544.8750  1511.750    562.50        0.009870\n",
       "21      1.032812  477.0625  1746.125   2343.75        0.010476\n",
       "25      0.860937  496.4375   339.875   1031.25        0.009183"
      ]
     },
     "execution_count": 6,
     "metadata": {},
     "output_type": "execute_result"
    }
   ],
   "source": [
    "test_dataset.head(3)"
   ]
  },
  {
   "cell_type": "markdown",
   "metadata": {},
   "source": [
    "## 2. Визуализация данных"
   ]
  },
  {
   "cell_type": "markdown",
   "metadata": {},
   "source": [
    "### 2.1 Корреляционная матрица"
   ]
  },
  {
   "cell_type": "code",
   "execution_count": 7,
   "metadata": {
    "scrolled": false
   },
   "outputs": [
    {
     "data": {
      "text/plain": [
       "<AxesSubplot:>"
      ]
     },
     "execution_count": 7,
     "metadata": {},
     "output_type": "execute_result"
    },
    {
     "data": {
      "image/png": "[encoded data removed]",
      "text/plain": [
       "<Figure size 360x360 with 2 Axes>"
      ]
     },
     "metadata": {
      "needs_background": "light"
     },
     "output_type": "display_data"
    }
   ],
   "source": [
    "import matplotlib.pyplot as plt\n",
    "import seaborn as sns\n",
    "\n",
    "fig, ax = plt.subplots(figsize=(5,5)) # Sample figsize in inches\n",
    "sns.heatmap(train_dataset[names].corr(), annot = True, fmt='.2g')"
   ]
  },
  {
   "cell_type": "markdown",
   "metadata": {},
   "source": [
    "### 2.2 Диаграммы рассеяния"
   ]
  },
  {
   "cell_type": "code",
   "execution_count": 8,
   "metadata": {},
   "outputs": [
    {
     "data": {
      "image/png": "[encoded data removed]",
      "text/plain": [
       "<Figure size 432x288 with 1 Axes>"
      ]
     },
     "metadata": {},
     "output_type": "display_data"
    }
   ],
   "source": [
    "import seaborn as sns\n",
    "sns.set_theme(color_codes=True)\n",
    "\n",
    "ax = sns.regplot(x=df['\\\\rho(g/cm^3)'],\n",
    "                 y=\"\\Sigma_{a1}(3)\",\n",
    "                 data=df,\n",
    "                 scatter_kws={'s':7, \"color\": \"black\", 'alpha':0.5},\n",
    "                 line_kws={\"color\": \"red\"}, order = 2)"
   ]
  },
  {
   "cell_type": "code",
   "execution_count": 9,
   "metadata": {},
   "outputs": [
    {
     "data": {
      "image/png": "[encoded data removed]",
      "text/plain": [
       "<Figure size 432x288 with 1 Axes>"
      ]
     },
     "metadata": {},
     "output_type": "display_data"
    }
   ],
   "source": [
    "import seaborn as sns\n",
    "sns.set_theme(color_codes=True)\n",
    "\n",
    "ax = sns.regplot(x=df['T_c(K)'],\n",
    "                 y=\"\\Sigma_{a1}(3)\",\n",
    "                 data=df,\n",
    "                 scatter_kws={'s':7, \"color\": \"black\", 'alpha':0.5},\n",
    "                 line_kws={\"color\": \"red\"}, order = 1)"
   ]
  },
  {
   "cell_type": "code",
   "execution_count": 10,
   "metadata": {},
   "outputs": [
    {
     "data": {
      "image/png": "[encoded data removed]",
      "text/plain": [
       "<Figure size 432x288 with 1 Axes>"
      ]
     },
     "metadata": {},
     "output_type": "display_data"
    }
   ],
   "source": [
    "import seaborn as sns\n",
    "sns.set_theme(color_codes=True)\n",
    "\n",
    "ax = sns.regplot(x=df['T_f(K)'],\n",
    "                 y=\"\\Sigma_{a1}(3)\",\n",
    "                 data=df,\n",
    "                 scatter_kws={'s':7, \"color\": \"black\", 'alpha':0.5},\n",
    "                 line_kws={\"color\": \"red\"}, order = 1)"
   ]
  },
  {
   "cell_type": "code",
   "execution_count": 11,
   "metadata": {},
   "outputs": [
    {
     "data": {
      "image/png": "[encoded data removed]",
      "text/plain": [
       "<Figure size 432x288 with 1 Axes>"
      ]
     },
     "metadata": {},
     "output_type": "display_data"
    }
   ],
   "source": [
    "import seaborn as sns\n",
    "sns.set_theme(color_codes=True)\n",
    "\n",
    "ax = sns.regplot(x=df['c_b(ppm)'],\n",
    "                 y=\"\\Sigma_{a1}(3)\",\n",
    "                 data=df,\n",
    "                 scatter_kws={'s':7, \"color\": \"black\", 'alpha':0.5},\n",
    "                 line_kws={\"color\": \"red\"}, order = 1)"
   ]
  },
  {
   "cell_type": "markdown",
   "metadata": {},
   "source": [
    "## 3. Линейная регрессия"
   ]
  },
  {
   "cell_type": "code",
   "execution_count": 12,
   "metadata": {},
   "outputs": [
    {
     "data": {
      "text/html": [
       "<div>\n",
       "<style scoped>\n",
       "    .dataframe tbody tr th:only-of-type {\n",
       "        vertical-align: middle;\n",
       "    }\n",
       "\n",
       "    .dataframe tbody tr th {\n",
       "        vertical-align: top;\n",
       "    }\n",
       "\n",
       "    .dataframe thead th {\n",
       "        text-align: right;\n",
       "    }\n",
       "</style>\n",
       "<table border=\"1\" class=\"dataframe\">\n",
       "  <thead>\n",
       "    <tr style=\"text-align: right;\">\n",
       "      <th></th>\n",
       "      <th>const</th>\n",
       "      <th>\\rho(g/cm^3)</th>\n",
       "      <th>T_c(K)</th>\n",
       "      <th>T_f(K)</th>\n",
       "      <th>c_b(ppm)</th>\n",
       "    </tr>\n",
       "  </thead>\n",
       "  <tbody>\n",
       "    <tr>\n",
       "      <th>158</th>\n",
       "      <td>1.0</td>\n",
       "      <td>0.798633</td>\n",
       "      <td>405.61719</td>\n",
       "      <td>486.35941</td>\n",
       "      <td>855.46881</td>\n",
       "    </tr>\n",
       "    <tr>\n",
       "      <th>83</th>\n",
       "      <td>1.0</td>\n",
       "      <td>0.701953</td>\n",
       "      <td>561.82812</td>\n",
       "      <td>1664.09400</td>\n",
       "      <td>1195.31200</td>\n",
       "    </tr>\n",
       "    <tr>\n",
       "      <th>170</th>\n",
       "      <td>1.0</td>\n",
       "      <td>1.047852</td>\n",
       "      <td>294.21091</td>\n",
       "      <td>1447.29700</td>\n",
       "      <td>1746.09400</td>\n",
       "    </tr>\n",
       "  </tbody>\n",
       "</table>\n",
       "</div>"
      ],
      "text/plain": [
       "     const  \\rho(g/cm^3)     T_c(K)      T_f(K)    c_b(ppm)\n",
       "158    1.0      0.798633  405.61719   486.35941   855.46881\n",
       "83     1.0      0.701953  561.82812  1664.09400  1195.31200\n",
       "170    1.0      1.047852  294.21091  1447.29700  1746.09400"
      ]
     },
     "metadata": {},
     "output_type": "display_data"
    },
    {
     "data": {
      "text/html": [
       "<div>\n",
       "<style scoped>\n",
       "    .dataframe tbody tr th:only-of-type {\n",
       "        vertical-align: middle;\n",
       "    }\n",
       "\n",
       "    .dataframe tbody tr th {\n",
       "        vertical-align: top;\n",
       "    }\n",
       "\n",
       "    .dataframe thead th {\n",
       "        text-align: right;\n",
       "    }\n",
       "</style>\n",
       "<table border=\"1\" class=\"dataframe\">\n",
       "  <thead>\n",
       "    <tr style=\"text-align: right;\">\n",
       "      <th></th>\n",
       "      <th>const</th>\n",
       "      <th>\\rho(g/cm^3)</th>\n",
       "      <th>T_c(K)</th>\n",
       "      <th>T_f(K)</th>\n",
       "      <th>c_b(ppm)</th>\n",
       "    </tr>\n",
       "  </thead>\n",
       "  <tbody>\n",
       "    <tr>\n",
       "      <th>9</th>\n",
       "      <td>1.0</td>\n",
       "      <td>0.878125</td>\n",
       "      <td>544.8750</td>\n",
       "      <td>1511.750</td>\n",
       "      <td>562.50</td>\n",
       "    </tr>\n",
       "    <tr>\n",
       "      <th>21</th>\n",
       "      <td>1.0</td>\n",
       "      <td>1.032812</td>\n",
       "      <td>477.0625</td>\n",
       "      <td>1746.125</td>\n",
       "      <td>2343.75</td>\n",
       "    </tr>\n",
       "    <tr>\n",
       "      <th>25</th>\n",
       "      <td>1.0</td>\n",
       "      <td>0.860937</td>\n",
       "      <td>496.4375</td>\n",
       "      <td>339.875</td>\n",
       "      <td>1031.25</td>\n",
       "    </tr>\n",
       "  </tbody>\n",
       "</table>\n",
       "</div>"
      ],
      "text/plain": [
       "    const  \\rho(g/cm^3)    T_c(K)    T_f(K)  c_b(ppm)\n",
       "9     1.0      0.878125  544.8750  1511.750    562.50\n",
       "21    1.0      1.032812  477.0625  1746.125   2343.75\n",
       "25    1.0      0.860937  496.4375   339.875   1031.25"
      ]
     },
     "metadata": {},
     "output_type": "display_data"
    }
   ],
   "source": [
    "import statsmodels.api as sm\n",
    "import statsmodels as statsmodels\n",
    "\n",
    "train_data = train_dataset[names[:-1]]\n",
    "train_data = sm.add_constant(train_data)\n",
    "\n",
    "test_data = test_dataset[names[:-1]]\n",
    "test_data = sm.add_constant(test_data)\n",
    "\n",
    "display(train_data.head(3))\n",
    "display(test_data.head(3))"
   ]
  },
  {
   "cell_type": "code",
   "execution_count": 13,
   "metadata": {},
   "outputs": [
    {
     "data": {
      "text/plain": [
       "158    0.009191\n",
       "83     0.009682\n",
       "170    0.010267\n",
       "Name: \\Sigma_{a1}(3), dtype: float64"
      ]
     },
     "metadata": {},
     "output_type": "display_data"
    },
    {
     "data": {
      "text/plain": [
       "9     0.009870\n",
       "21    0.010476\n",
       "25    0.009183\n",
       "Name: \\Sigma_{a1}(3), dtype: float64"
      ]
     },
     "metadata": {},
     "output_type": "display_data"
    }
   ],
   "source": [
    "train_labels = train_dataset['\\\\Sigma_{a1}(3)']\n",
    "display(train_labels.head(3))\n",
    "\n",
    "test_labels = test_dataset['\\\\Sigma_{a1}(3)']\n",
    "display(test_labels.head(3))"
   ]
  },
  {
   "cell_type": "code",
   "execution_count": 14,
   "metadata": {
    "scrolled": false
   },
   "outputs": [
    {
     "data": {
      "text/html": [
       "<table class=\"simpletable\">\n",
       "<caption>OLS Regression Results</caption>\n",
       "<tr>\n",
       "  <th>Dep. Variable:</th>     <td>\\Sigma_{a1}(3)</td>  <th>  R-squared:         </th> <td>   0.982</td> \n",
       "</tr>\n",
       "<tr>\n",
       "  <th>Model:</th>                   <td>OLS</td>       <th>  Adj. R-squared:    </th> <td>   0.981</td> \n",
       "</tr>\n",
       "<tr>\n",
       "  <th>Method:</th>             <td>Least Squares</td>  <th>  F-statistic:       </th> <td>   2684.</td> \n",
       "</tr>\n",
       "<tr>\n",
       "  <th>Date:</th>             <td>Sun, 14 Feb 2021</td> <th>  Prob (F-statistic):</th> <td>3.57e-173</td>\n",
       "</tr>\n",
       "<tr>\n",
       "  <th>Time:</th>                 <td>20:15:57</td>     <th>  Log-Likelihood:    </th> <td>  1729.5</td> \n",
       "</tr>\n",
       "<tr>\n",
       "  <th>No. Observations:</th>      <td>   206</td>      <th>  AIC:               </th> <td>  -3449.</td> \n",
       "</tr>\n",
       "<tr>\n",
       "  <th>Df Residuals:</th>          <td>   201</td>      <th>  BIC:               </th> <td>  -3432.</td> \n",
       "</tr>\n",
       "<tr>\n",
       "  <th>Df Model:</th>              <td>     4</td>      <th>                     </th>     <td> </td>    \n",
       "</tr>\n",
       "<tr>\n",
       "  <th>Covariance Type:</th>      <td>nonrobust</td>    <th>                     </th>     <td> </td>    \n",
       "</tr>\n",
       "</table>\n",
       "<table class=\"simpletable\">\n",
       "<tr>\n",
       "        <td></td>          <th>coef</th>     <th>std err</th>      <th>t</th>      <th>P>|t|</th>  <th>[0.025</th>    <th>0.975]</th>  \n",
       "</tr>\n",
       "<tr>\n",
       "  <th>const</th>        <td>    0.0073</td> <td> 3.03e-05</td> <td>  240.115</td> <td> 0.000</td> <td>    0.007</td> <td>    0.007</td>\n",
       "</tr>\n",
       "<tr>\n",
       "  <th>\\rho(g/cm^3)</th> <td>    0.0019</td> <td> 2.45e-05</td> <td>   79.231</td> <td> 0.000</td> <td>    0.002</td> <td>    0.002</td>\n",
       "</tr>\n",
       "<tr>\n",
       "  <th>T_c(K)</th>       <td>-1.713e-08</td> <td> 4.27e-08</td> <td>   -0.401</td> <td> 0.689</td> <td>-1.01e-07</td> <td>  6.7e-08</td>\n",
       "</tr>\n",
       "<tr>\n",
       "  <th>T_f(K)</th>       <td> 5.525e-07</td> <td> 9.11e-09</td> <td>   60.648</td> <td> 0.000</td> <td> 5.35e-07</td> <td>  5.7e-07</td>\n",
       "</tr>\n",
       "<tr>\n",
       "  <th>c_b(ppm)</th>     <td> 1.164e-07</td> <td> 4.46e-09</td> <td>   26.112</td> <td> 0.000</td> <td> 1.08e-07</td> <td> 1.25e-07</td>\n",
       "</tr>\n",
       "</table>\n",
       "<table class=\"simpletable\">\n",
       "<tr>\n",
       "  <th>Omnibus:</th>       <td>35.901</td> <th>  Durbin-Watson:     </th> <td>   2.254</td>\n",
       "</tr>\n",
       "<tr>\n",
       "  <th>Prob(Omnibus):</th> <td> 0.000</td> <th>  Jarque-Bera (JB):  </th> <td>  50.291</td>\n",
       "</tr>\n",
       "<tr>\n",
       "  <th>Skew:</th>          <td>-1.047</td> <th>  Prob(JB):          </th> <td>1.20e-11</td>\n",
       "</tr>\n",
       "<tr>\n",
       "  <th>Kurtosis:</th>      <td> 4.213</td> <th>  Cond. No.          </th> <td>1.85e+04</td>\n",
       "</tr>\n",
       "</table><br/><br/>Notes:<br/>[1] Standard Errors assume that the covariance matrix of the errors is correctly specified.<br/>[2] The condition number is large, 1.85e+04. This might indicate that there are<br/>strong multicollinearity or other numerical problems."
      ],
      "text/plain": [
       "<class 'statsmodels.iolib.summary.Summary'>\n",
       "\"\"\"\n",
       "                            OLS Regression Results                            \n",
       "==============================================================================\n",
       "Dep. Variable:         \\Sigma_{a1}(3)   R-squared:                       0.982\n",
       "Model:                            OLS   Adj. R-squared:                  0.981\n",
       "Method:                 Least Squares   F-statistic:                     2684.\n",
       "Date:                Sun, 14 Feb 2021   Prob (F-statistic):          3.57e-173\n",
       "Time:                        20:15:57   Log-Likelihood:                 1729.5\n",
       "No. Observations:                 206   AIC:                            -3449.\n",
       "Df Residuals:                     201   BIC:                            -3432.\n",
       "Df Model:                           4                                         \n",
       "Covariance Type:            nonrobust                                         \n",
       "================================================================================\n",
       "                   coef    std err          t      P>|t|      [0.025      0.975]\n",
       "--------------------------------------------------------------------------------\n",
       "const            0.0073   3.03e-05    240.115      0.000       0.007       0.007\n",
       "\\rho(g/cm^3)     0.0019   2.45e-05     79.231      0.000       0.002       0.002\n",
       "T_c(K)       -1.713e-08   4.27e-08     -0.401      0.689   -1.01e-07     6.7e-08\n",
       "T_f(K)        5.525e-07   9.11e-09     60.648      0.000    5.35e-07     5.7e-07\n",
       "c_b(ppm)      1.164e-07   4.46e-09     26.112      0.000    1.08e-07    1.25e-07\n",
       "==============================================================================\n",
       "Omnibus:                       35.901   Durbin-Watson:                   2.254\n",
       "Prob(Omnibus):                  0.000   Jarque-Bera (JB):               50.291\n",
       "Skew:                          -1.047   Prob(JB):                     1.20e-11\n",
       "Kurtosis:                       4.213   Cond. No.                     1.85e+04\n",
       "==============================================================================\n",
       "\n",
       "Notes:\n",
       "[1] Standard Errors assume that the covariance matrix of the errors is correctly specified.\n",
       "[2] The condition number is large, 1.85e+04. This might indicate that there are\n",
       "strong multicollinearity or other numerical problems.\n",
       "\"\"\""
      ]
     },
     "execution_count": 14,
     "metadata": {},
     "output_type": "execute_result"
    }
   ],
   "source": [
    "model = sm.OLS(train_labels, train_data)\n",
    "\n",
    "fit = model.fit()\n",
    "g = fit.summary()\n",
    "g"
   ]
  },
  {
   "cell_type": "code",
   "execution_count": 15,
   "metadata": {
    "scrolled": true
   },
   "outputs": [
    {
     "data": {
      "text/plain": [
       "const           4.032260e-249\n",
       "\\rho(g/cm^3)    1.492454e-153\n",
       "T_c(K)           6.886047e-01\n",
       "T_f(K)          3.662547e-131\n",
       "c_b(ppm)         1.640938e-66\n",
       "dtype: float64"
      ]
     },
     "execution_count": 15,
     "metadata": {},
     "output_type": "execute_result"
    }
   ],
   "source": [
    "g = fit.pvalues\n",
    "g"
   ]
  },
  {
   "cell_type": "markdown",
   "metadata": {},
   "source": [
    "T_c(K) - не значим на 10-ом % урвоне значимости"
   ]
  },
  {
   "cell_type": "code",
   "execution_count": 16,
   "metadata": {},
   "outputs": [],
   "source": [
    "features = ['\\\\rho(g/cm^3)', 'T_f(K)', 'c_b(ppm)']"
   ]
  },
  {
   "cell_type": "code",
   "execution_count": 17,
   "metadata": {},
   "outputs": [
    {
     "data": {
      "text/html": [
       "<div>\n",
       "<style scoped>\n",
       "    .dataframe tbody tr th:only-of-type {\n",
       "        vertical-align: middle;\n",
       "    }\n",
       "\n",
       "    .dataframe tbody tr th {\n",
       "        vertical-align: top;\n",
       "    }\n",
       "\n",
       "    .dataframe thead th {\n",
       "        text-align: right;\n",
       "    }\n",
       "</style>\n",
       "<table border=\"1\" class=\"dataframe\">\n",
       "  <thead>\n",
       "    <tr style=\"text-align: right;\">\n",
       "      <th></th>\n",
       "      <th>const</th>\n",
       "      <th>\\rho(g/cm^3)</th>\n",
       "      <th>T_f(K)</th>\n",
       "      <th>c_b(ppm)</th>\n",
       "    </tr>\n",
       "  </thead>\n",
       "  <tbody>\n",
       "    <tr>\n",
       "      <th>158</th>\n",
       "      <td>1.0</td>\n",
       "      <td>0.798633</td>\n",
       "      <td>486.35941</td>\n",
       "      <td>855.46881</td>\n",
       "    </tr>\n",
       "    <tr>\n",
       "      <th>83</th>\n",
       "      <td>1.0</td>\n",
       "      <td>0.701953</td>\n",
       "      <td>1664.09400</td>\n",
       "      <td>1195.31200</td>\n",
       "    </tr>\n",
       "    <tr>\n",
       "      <th>170</th>\n",
       "      <td>1.0</td>\n",
       "      <td>1.047852</td>\n",
       "      <td>1447.29700</td>\n",
       "      <td>1746.09400</td>\n",
       "    </tr>\n",
       "  </tbody>\n",
       "</table>\n",
       "</div>"
      ],
      "text/plain": [
       "     const  \\rho(g/cm^3)      T_f(K)    c_b(ppm)\n",
       "158    1.0      0.798633   486.35941   855.46881\n",
       "83     1.0      0.701953  1664.09400  1195.31200\n",
       "170    1.0      1.047852  1447.29700  1746.09400"
      ]
     },
     "execution_count": 17,
     "metadata": {},
     "output_type": "execute_result"
    }
   ],
   "source": [
    "train_data = train_dataset[features]\n",
    "train_data = sm.add_constant(train_data)\n",
    "\n",
    "train_data.head(3)"
   ]
  },
  {
   "cell_type": "code",
   "execution_count": 18,
   "metadata": {
    "scrolled": false
   },
   "outputs": [
    {
     "data": {
      "text/html": [
       "<table class=\"simpletable\">\n",
       "<caption>OLS Regression Results</caption>\n",
       "<tr>\n",
       "  <th>Dep. Variable:</th>     <td>\\Sigma_{a1}(3)</td>  <th>  R-squared:         </th> <td>   0.982</td> \n",
       "</tr>\n",
       "<tr>\n",
       "  <th>Model:</th>                   <td>OLS</td>       <th>  Adj. R-squared:    </th> <td>   0.981</td> \n",
       "</tr>\n",
       "<tr>\n",
       "  <th>Method:</th>             <td>Least Squares</td>  <th>  F-statistic:       </th> <td>   3594.</td> \n",
       "</tr>\n",
       "<tr>\n",
       "  <th>Date:</th>             <td>Sun, 14 Feb 2021</td> <th>  Prob (F-statistic):</th> <td>5.94e-175</td>\n",
       "</tr>\n",
       "<tr>\n",
       "  <th>Time:</th>                 <td>20:15:57</td>     <th>  Log-Likelihood:    </th> <td>  1729.4</td> \n",
       "</tr>\n",
       "<tr>\n",
       "  <th>No. Observations:</th>      <td>   206</td>      <th>  AIC:               </th> <td>  -3451.</td> \n",
       "</tr>\n",
       "<tr>\n",
       "  <th>Df Residuals:</th>          <td>   202</td>      <th>  BIC:               </th> <td>  -3438.</td> \n",
       "</tr>\n",
       "<tr>\n",
       "  <th>Df Model:</th>              <td>     3</td>      <th>                     </th>     <td> </td>    \n",
       "</tr>\n",
       "<tr>\n",
       "  <th>Covariance Type:</th>      <td>nonrobust</td>    <th>                     </th>     <td> </td>    \n",
       "</tr>\n",
       "</table>\n",
       "<table class=\"simpletable\">\n",
       "<tr>\n",
       "        <td></td>          <th>coef</th>     <th>std err</th>      <th>t</th>      <th>P>|t|</th>  <th>[0.025</th>    <th>0.975]</th>  \n",
       "</tr>\n",
       "<tr>\n",
       "  <th>const</th>        <td>    0.0073</td> <td> 2.26e-05</td> <td>  321.523</td> <td> 0.000</td> <td>    0.007</td> <td>    0.007</td>\n",
       "</tr>\n",
       "<tr>\n",
       "  <th>\\rho(g/cm^3)</th> <td>    0.0019</td> <td> 2.44e-05</td> <td>   79.557</td> <td> 0.000</td> <td>    0.002</td> <td>    0.002</td>\n",
       "</tr>\n",
       "<tr>\n",
       "  <th>T_f(K)</th>       <td> 5.524e-07</td> <td> 9.09e-09</td> <td>   60.776</td> <td> 0.000</td> <td> 5.35e-07</td> <td>  5.7e-07</td>\n",
       "</tr>\n",
       "<tr>\n",
       "  <th>c_b(ppm)</th>     <td> 1.165e-07</td> <td> 4.45e-09</td> <td>   26.182</td> <td> 0.000</td> <td> 1.08e-07</td> <td> 1.25e-07</td>\n",
       "</tr>\n",
       "</table>\n",
       "<table class=\"simpletable\">\n",
       "<tr>\n",
       "  <th>Omnibus:</th>       <td>36.341</td> <th>  Durbin-Watson:     </th> <td>   2.255</td>\n",
       "</tr>\n",
       "<tr>\n",
       "  <th>Prob(Omnibus):</th> <td> 0.000</td> <th>  Jarque-Bera (JB):  </th> <td>  51.170</td>\n",
       "</tr>\n",
       "<tr>\n",
       "  <th>Skew:</th>          <td>-1.056</td> <th>  Prob(JB):          </th> <td>7.74e-12</td>\n",
       "</tr>\n",
       "<tr>\n",
       "  <th>Kurtosis:</th>      <td> 4.227</td> <th>  Cond. No.          </th> <td>1.62e+04</td>\n",
       "</tr>\n",
       "</table><br/><br/>Notes:<br/>[1] Standard Errors assume that the covariance matrix of the errors is correctly specified.<br/>[2] The condition number is large, 1.62e+04. This might indicate that there are<br/>strong multicollinearity or other numerical problems."
      ],
      "text/plain": [
       "<class 'statsmodels.iolib.summary.Summary'>\n",
       "\"\"\"\n",
       "                            OLS Regression Results                            \n",
       "==============================================================================\n",
       "Dep. Variable:         \\Sigma_{a1}(3)   R-squared:                       0.982\n",
       "Model:                            OLS   Adj. R-squared:                  0.981\n",
       "Method:                 Least Squares   F-statistic:                     3594.\n",
       "Date:                Sun, 14 Feb 2021   Prob (F-statistic):          5.94e-175\n",
       "Time:                        20:15:57   Log-Likelihood:                 1729.4\n",
       "No. Observations:                 206   AIC:                            -3451.\n",
       "Df Residuals:                     202   BIC:                            -3438.\n",
       "Df Model:                           3                                         \n",
       "Covariance Type:            nonrobust                                         \n",
       "================================================================================\n",
       "                   coef    std err          t      P>|t|      [0.025      0.975]\n",
       "--------------------------------------------------------------------------------\n",
       "const            0.0073   2.26e-05    321.523      0.000       0.007       0.007\n",
       "\\rho(g/cm^3)     0.0019   2.44e-05     79.557      0.000       0.002       0.002\n",
       "T_f(K)        5.524e-07   9.09e-09     60.776      0.000    5.35e-07     5.7e-07\n",
       "c_b(ppm)      1.165e-07   4.45e-09     26.182      0.000    1.08e-07    1.25e-07\n",
       "==============================================================================\n",
       "Omnibus:                       36.341   Durbin-Watson:                   2.255\n",
       "Prob(Omnibus):                  0.000   Jarque-Bera (JB):               51.170\n",
       "Skew:                          -1.056   Prob(JB):                     7.74e-12\n",
       "Kurtosis:                       4.227   Cond. No.                     1.62e+04\n",
       "==============================================================================\n",
       "\n",
       "Notes:\n",
       "[1] Standard Errors assume that the covariance matrix of the errors is correctly specified.\n",
       "[2] The condition number is large, 1.62e+04. This might indicate that there are\n",
       "strong multicollinearity or other numerical problems.\n",
       "\"\"\""
      ]
     },
     "execution_count": 18,
     "metadata": {},
     "output_type": "execute_result"
    }
   ],
   "source": [
    "model = sm.OLS(train_labels, train_data)\n",
    "\n",
    "fit = model.fit()\n",
    "g = fit.summary()\n",
    "g"
   ]
  },
  {
   "cell_type": "code",
   "execution_count": 19,
   "metadata": {},
   "outputs": [
    {
     "data": {
      "text/plain": [
       "const           1.114568e-275\n",
       "\\rho(g/cm^3)    1.909580e-154\n",
       "T_f(K)          8.934611e-132\n",
       "c_b(ppm)         7.582079e-67\n",
       "dtype: float64"
      ]
     },
     "execution_count": 19,
     "metadata": {},
     "output_type": "execute_result"
    }
   ],
   "source": [
    "p = fit.pvalues\n",
    "p"
   ]
  },
  {
   "cell_type": "markdown",
   "metadata": {},
   "source": [
    "Все регрессоры значимы на 1-ом уровне значимости %."
   ]
  },
  {
   "cell_type": "code",
   "execution_count": 20,
   "metadata": {},
   "outputs": [
    {
     "data": {
      "text/plain": [
       "158    0.009180\n",
       "83     0.009682\n",
       "170    0.010299\n",
       "101    0.010378\n",
       "150    0.009880\n",
       "         ...   \n",
       "151    0.009585\n",
       "202    0.009838\n",
       "31     0.008840\n",
       "209    0.010077\n",
       "127    0.008969\n",
       "Length: 206, dtype: float64"
      ]
     },
     "execution_count": 20,
     "metadata": {},
     "output_type": "execute_result"
    }
   ],
   "source": [
    "ypred = fit.predict(train_data)\n",
    "ypred"
   ]
  },
  {
   "cell_type": "code",
   "execution_count": 21,
   "metadata": {
    "scrolled": false
   },
   "outputs": [
    {
     "data": {
      "text/plain": [
       "158    0.009191\n",
       "83     0.009682\n",
       "170    0.010267\n",
       "101    0.010408\n",
       "150    0.009951\n",
       "         ...   \n",
       "151    0.009539\n",
       "202    0.009804\n",
       "31     0.008841\n",
       "209    0.010099\n",
       "127    0.008912\n",
       "Name: \\Sigma_{a1}(3), Length: 206, dtype: float64"
      ]
     },
     "execution_count": 21,
     "metadata": {},
     "output_type": "execute_result"
    }
   ],
   "source": [
    "train_labels"
   ]
  },
  {
   "cell_type": "markdown",
   "metadata": {},
   "source": [
    "Mean squared error"
   ]
  },
  {
   "cell_type": "markdown",
   "metadata": {},
   "source": [
    "\\begin{align*}\n",
    "\\text{MSE} = \\frac{1}{N} \\text{RSS} = \\frac{1}{N} \\sum (f_i -y_i)^2\n",
    "\\end{align*}"
   ]
  },
  {
   "cell_type": "code",
   "execution_count": 22,
   "metadata": {},
   "outputs": [
    {
     "data": {
      "text/plain": [
       "2.98882828566469e-09"
      ]
     },
     "execution_count": 22,
     "metadata": {},
     "output_type": "execute_result"
    }
   ],
   "source": [
    "MSE = statsmodels.tools.eval_measures.mse(train_labels, ypred)\n",
    "MSE"
   ]
  },
  {
   "cell_type": "markdown",
   "metadata": {},
   "source": [
    "Root mean squared error"
   ]
  },
  {
   "cell_type": "markdown",
   "metadata": {},
   "source": [
    "\\begin{align*}\n",
    "\\sigma = \\sqrt{MSE}\n",
    "\\end{align*}"
   ]
  },
  {
   "cell_type": "code",
   "execution_count": 23,
   "metadata": {},
   "outputs": [
    {
     "data": {
      "text/plain": [
       "5.467017729681046e-05"
      ]
     },
     "execution_count": 23,
     "metadata": {},
     "output_type": "execute_result"
    }
   ],
   "source": [
    "RMSE = statsmodels.tools.eval_measures.rmse(train_labels, ypred)\n",
    "RMSE"
   ]
  },
  {
   "cell_type": "markdown",
   "metadata": {},
   "source": [
    "Root Mean Squared Percentage Error"
   ]
  },
  {
   "cell_type": "code",
   "execution_count": 24,
   "metadata": {},
   "outputs": [
    {
     "data": {
      "text/plain": [
       "0.05826416442586517"
      ]
     },
     "execution_count": 24,
     "metadata": {},
     "output_type": "execute_result"
    }
   ],
   "source": [
    "RMSPE = statsmodels.tools.eval_measures.rmspe(train_labels, ypred)\n",
    "RMSPE"
   ]
  },
  {
   "cell_type": "markdown",
   "metadata": {},
   "source": [
    "Root Mean Squared Percentage Error for test data"
   ]
  },
  {
   "cell_type": "code",
   "execution_count": 25,
   "metadata": {},
   "outputs": [
    {
     "data": {
      "text/plain": [
       "0.05662183123415307"
      ]
     },
     "execution_count": 25,
     "metadata": {},
     "output_type": "execute_result"
    }
   ],
   "source": [
    "test_data = test_dataset[features]\n",
    "test_data = sm.add_constant(test_data)\n",
    "ypred = fit.predict(test_data)\n",
    "\n",
    "RMSPE = statsmodels.tools.eval_measures.rmspe(test_labels, ypred)\n",
    "RMSPE"
   ]
  },
  {
   "cell_type": "markdown",
   "metadata": {},
   "source": [
    "## 4. Deep learning"
   ]
  },
  {
   "cell_type": "markdown",
   "metadata": {},
   "source": [
    "### 4.1 Нормализация признаков"
   ]
  },
  {
   "cell_type": "code",
   "execution_count": 26,
   "metadata": {},
   "outputs": [],
   "source": [
    "features = ['\\\\rho(g/cm^3)',\n",
    " 'T_c(K)',\n",
    " 'T_f(K)',\n",
    " 'c_b(ppm)']"
   ]
  },
  {
   "cell_type": "code",
   "execution_count": 27,
   "metadata": {},
   "outputs": [
    {
     "data": {
      "text/html": [
       "<div>\n",
       "<style scoped>\n",
       "    .dataframe tbody tr th:only-of-type {\n",
       "        vertical-align: middle;\n",
       "    }\n",
       "\n",
       "    .dataframe tbody tr th {\n",
       "        vertical-align: top;\n",
       "    }\n",
       "\n",
       "    .dataframe thead th {\n",
       "        text-align: right;\n",
       "    }\n",
       "</style>\n",
       "<table border=\"1\" class=\"dataframe\">\n",
       "  <thead>\n",
       "    <tr style=\"text-align: right;\">\n",
       "      <th></th>\n",
       "      <th>\\rho(g/cm^3)</th>\n",
       "      <th>T_c(K)</th>\n",
       "      <th>T_f(K)</th>\n",
       "      <th>c_b(ppm)</th>\n",
       "    </tr>\n",
       "  </thead>\n",
       "  <tbody>\n",
       "    <tr>\n",
       "      <th>count</th>\n",
       "      <td>257.000000</td>\n",
       "      <td>257.000000</td>\n",
       "      <td>257.000000</td>\n",
       "      <td>257.000000</td>\n",
       "    </tr>\n",
       "    <tr>\n",
       "      <th>mean</th>\n",
       "      <td>0.773742</td>\n",
       "      <td>448.491808</td>\n",
       "      <td>1043.838306</td>\n",
       "      <td>1493.967349</td>\n",
       "    </tr>\n",
       "    <tr>\n",
       "      <th>std</th>\n",
       "      <td>0.158780</td>\n",
       "      <td>89.316810</td>\n",
       "      <td>430.718000</td>\n",
       "      <td>863.720860</td>\n",
       "    </tr>\n",
       "    <tr>\n",
       "      <th>min</th>\n",
       "      <td>0.502148</td>\n",
       "      <td>294.210910</td>\n",
       "      <td>298.859410</td>\n",
       "      <td>11.718750</td>\n",
       "    </tr>\n",
       "    <tr>\n",
       "      <th>25%</th>\n",
       "      <td>0.637500</td>\n",
       "      <td>371.710910</td>\n",
       "      <td>673.859380</td>\n",
       "      <td>750.000000</td>\n",
       "    </tr>\n",
       "    <tr>\n",
       "      <th>50%</th>\n",
       "      <td>0.772852</td>\n",
       "      <td>448.000000</td>\n",
       "      <td>1043.000000</td>\n",
       "      <td>1488.281000</td>\n",
       "    </tr>\n",
       "    <tr>\n",
       "      <th>75%</th>\n",
       "      <td>0.910352</td>\n",
       "      <td>525.500000</td>\n",
       "      <td>1412.141000</td>\n",
       "      <td>2238.281000</td>\n",
       "    </tr>\n",
       "    <tr>\n",
       "      <th>max</th>\n",
       "      <td>1.047852</td>\n",
       "      <td>601.789120</td>\n",
       "      <td>1787.141000</td>\n",
       "      <td>2988.281000</td>\n",
       "    </tr>\n",
       "  </tbody>\n",
       "</table>\n",
       "</div>"
      ],
      "text/plain": [
       "       \\rho(g/cm^3)      T_c(K)       T_f(K)     c_b(ppm)\n",
       "count    257.000000  257.000000   257.000000   257.000000\n",
       "mean       0.773742  448.491808  1043.838306  1493.967349\n",
       "std        0.158780   89.316810   430.718000   863.720860\n",
       "min        0.502148  294.210910   298.859410    11.718750\n",
       "25%        0.637500  371.710910   673.859380   750.000000\n",
       "50%        0.772852  448.000000  1043.000000  1488.281000\n",
       "75%        0.910352  525.500000  1412.141000  2238.281000\n",
       "max        1.047852  601.789120  1787.141000  2988.281000"
      ]
     },
     "execution_count": 27,
     "metadata": {},
     "output_type": "execute_result"
    }
   ],
   "source": [
    "df[features].describe()"
   ]
  },
  {
   "cell_type": "code",
   "execution_count": 28,
   "metadata": {},
   "outputs": [],
   "source": [
    "df_features_norm = df.copy()\n",
    "\n",
    "for i in range(len(features)):\n",
    "    df_features_norm[features[i]] = (df[features[i]]-df[features[i]].mean())/df[features[i]].std()"
   ]
  },
  {
   "cell_type": "code",
   "execution_count": 29,
   "metadata": {},
   "outputs": [
    {
     "data": {
      "text/html": [
       "<div>\n",
       "<style scoped>\n",
       "    .dataframe tbody tr th:only-of-type {\n",
       "        vertical-align: middle;\n",
       "    }\n",
       "\n",
       "    .dataframe tbody tr th {\n",
       "        vertical-align: top;\n",
       "    }\n",
       "\n",
       "    .dataframe thead th {\n",
       "        text-align: right;\n",
       "    }\n",
       "</style>\n",
       "<table border=\"1\" class=\"dataframe\">\n",
       "  <thead>\n",
       "    <tr style=\"text-align: right;\">\n",
       "      <th></th>\n",
       "      <th>\\rho(g/cm^3)</th>\n",
       "      <th>T_c(K)</th>\n",
       "      <th>T_f(K)</th>\n",
       "      <th>c_b(ppm)</th>\n",
       "    </tr>\n",
       "  </thead>\n",
       "  <tbody>\n",
       "    <tr>\n",
       "      <th>count</th>\n",
       "      <td>2.570000e+02</td>\n",
       "      <td>2.570000e+02</td>\n",
       "      <td>2.570000e+02</td>\n",
       "      <td>2.570000e+02</td>\n",
       "    </tr>\n",
       "    <tr>\n",
       "      <th>mean</th>\n",
       "      <td>-3.697863e-16</td>\n",
       "      <td>6.013348e-16</td>\n",
       "      <td>7.257489e-17</td>\n",
       "      <td>-3.512106e-16</td>\n",
       "    </tr>\n",
       "    <tr>\n",
       "      <th>std</th>\n",
       "      <td>1.000000e+00</td>\n",
       "      <td>1.000000e+00</td>\n",
       "      <td>1.000000e+00</td>\n",
       "      <td>1.000000e+00</td>\n",
       "    </tr>\n",
       "    <tr>\n",
       "      <th>min</th>\n",
       "      <td>-1.710507e+00</td>\n",
       "      <td>-1.727344e+00</td>\n",
       "      <td>-1.729621e+00</td>\n",
       "      <td>-1.716120e+00</td>\n",
       "    </tr>\n",
       "    <tr>\n",
       "      <th>25%</th>\n",
       "      <td>-8.580575e-01</td>\n",
       "      <td>-8.596467e-01</td>\n",
       "      <td>-8.589818e-01</td>\n",
       "      <td>-8.613516e-01</td>\n",
       "    </tr>\n",
       "    <tr>\n",
       "      <th>50%</th>\n",
       "      <td>-5.608782e-03</td>\n",
       "      <td>-5.506328e-03</td>\n",
       "      <td>-1.946298e-03</td>\n",
       "      <td>-6.583549e-03</td>\n",
       "    </tr>\n",
       "    <tr>\n",
       "      <th>75%</th>\n",
       "      <td>8.603710e-01</td>\n",
       "      <td>8.621915e-01</td>\n",
       "      <td>8.550901e-01</td>\n",
       "      <td>8.617525e-01</td>\n",
       "    </tr>\n",
       "    <tr>\n",
       "      <th>max</th>\n",
       "      <td>1.726354e+00</td>\n",
       "      <td>1.716332e+00</td>\n",
       "      <td>1.725729e+00</td>\n",
       "      <td>1.730089e+00</td>\n",
       "    </tr>\n",
       "  </tbody>\n",
       "</table>\n",
       "</div>"
      ],
      "text/plain": [
       "       \\rho(g/cm^3)        T_c(K)        T_f(K)      c_b(ppm)\n",
       "count  2.570000e+02  2.570000e+02  2.570000e+02  2.570000e+02\n",
       "mean  -3.697863e-16  6.013348e-16  7.257489e-17 -3.512106e-16\n",
       "std    1.000000e+00  1.000000e+00  1.000000e+00  1.000000e+00\n",
       "min   -1.710507e+00 -1.727344e+00 -1.729621e+00 -1.716120e+00\n",
       "25%   -8.580575e-01 -8.596467e-01 -8.589818e-01 -8.613516e-01\n",
       "50%   -5.608782e-03 -5.506328e-03 -1.946298e-03 -6.583549e-03\n",
       "75%    8.603710e-01  8.621915e-01  8.550901e-01  8.617525e-01\n",
       "max    1.726354e+00  1.716332e+00  1.725729e+00  1.730089e+00"
      ]
     },
     "execution_count": 29,
     "metadata": {},
     "output_type": "execute_result"
    }
   ],
   "source": [
    "df_features_norm[features].describe()"
   ]
  },
  {
   "cell_type": "markdown",
   "metadata": {},
   "source": [
    "### 4.2 Нейросетевые модели"
   ]
  },
  {
   "cell_type": "markdown",
   "metadata": {},
   "source": [
    "### 4.2.1 Подготовка к моделированию"
   ]
  },
  {
   "cell_type": "code",
   "execution_count": 30,
   "metadata": {},
   "outputs": [
    {
     "data": {
      "text/plain": [
       "['\\\\rho(g/cm^3)', 'T_c(K)', 'T_f(K)', 'c_b(ppm)', '\\\\Sigma_{a1}(3)']"
      ]
     },
     "execution_count": 30,
     "metadata": {},
     "output_type": "execute_result"
    }
   ],
   "source": [
    "names"
   ]
  },
  {
   "cell_type": "code",
   "execution_count": 31,
   "metadata": {},
   "outputs": [
    {
     "data": {
      "text/html": [
       "<div>\n",
       "<style scoped>\n",
       "    .dataframe tbody tr th:only-of-type {\n",
       "        vertical-align: middle;\n",
       "    }\n",
       "\n",
       "    .dataframe tbody tr th {\n",
       "        vertical-align: top;\n",
       "    }\n",
       "\n",
       "    .dataframe thead th {\n",
       "        text-align: right;\n",
       "    }\n",
       "</style>\n",
       "<table border=\"1\" class=\"dataframe\">\n",
       "  <thead>\n",
       "    <tr style=\"text-align: right;\">\n",
       "      <th></th>\n",
       "      <th>\\rho(g/cm^3)</th>\n",
       "      <th>T_c(K)</th>\n",
       "      <th>T_f(K)</th>\n",
       "      <th>c_b(ppm)</th>\n",
       "      <th>\\Sigma_{a1}(3)</th>\n",
       "    </tr>\n",
       "  </thead>\n",
       "  <tbody>\n",
       "    <tr>\n",
       "      <th>0</th>\n",
       "      <td>-0.316426</td>\n",
       "      <td>1.416398</td>\n",
       "      <td>-0.039094</td>\n",
       "      <td>-1.035019</td>\n",
       "      <td>0.009376</td>\n",
       "    </tr>\n",
       "    <tr>\n",
       "      <th>1</th>\n",
       "      <td>0.007922</td>\n",
       "      <td>-0.005506</td>\n",
       "      <td>-0.001946</td>\n",
       "      <td>0.006984</td>\n",
       "      <td>0.009581</td>\n",
       "    </tr>\n",
       "    <tr>\n",
       "      <th>2</th>\n",
       "      <td>0.873902</td>\n",
       "      <td>-0.873204</td>\n",
       "      <td>0.868693</td>\n",
       "      <td>-0.861352</td>\n",
       "      <td>0.009908</td>\n",
       "    </tr>\n",
       "  </tbody>\n",
       "</table>\n",
       "</div>"
      ],
      "text/plain": [
       "   \\rho(g/cm^3)    T_c(K)    T_f(K)  c_b(ppm)  \\Sigma_{a1}(3)\n",
       "0     -0.316426  1.416398 -0.039094 -1.035019        0.009376\n",
       "1      0.007922 -0.005506 -0.001946  0.006984        0.009581\n",
       "2      0.873902 -0.873204  0.868693 -0.861352        0.009908"
      ]
     },
     "execution_count": 31,
     "metadata": {},
     "output_type": "execute_result"
    }
   ],
   "source": [
    "df_features_norm = df_features_norm[names]\n",
    "df_features_norm.head(3)"
   ]
  },
  {
   "cell_type": "code",
   "execution_count": 32,
   "metadata": {},
   "outputs": [
    {
     "data": {
      "text/html": [
       "<div>\n",
       "<style scoped>\n",
       "    .dataframe tbody tr th:only-of-type {\n",
       "        vertical-align: middle;\n",
       "    }\n",
       "\n",
       "    .dataframe tbody tr th {\n",
       "        vertical-align: top;\n",
       "    }\n",
       "\n",
       "    .dataframe thead th {\n",
       "        text-align: right;\n",
       "    }\n",
       "</style>\n",
       "<table border=\"1\" class=\"dataframe\">\n",
       "  <thead>\n",
       "    <tr style=\"text-align: right;\">\n",
       "      <th></th>\n",
       "      <th>\\rho(g/cm^3)</th>\n",
       "      <th>T_c(K)</th>\n",
       "      <th>T_f(K)</th>\n",
       "      <th>c_b(ppm)</th>\n",
       "      <th>\\Sigma_{a1}(3)</th>\n",
       "    </tr>\n",
       "  </thead>\n",
       "  <tbody>\n",
       "    <tr>\n",
       "      <th>count</th>\n",
       "      <td>2.570000e+02</td>\n",
       "      <td>2.570000e+02</td>\n",
       "      <td>2.570000e+02</td>\n",
       "      <td>2.570000e+02</td>\n",
       "      <td>257.000000</td>\n",
       "    </tr>\n",
       "    <tr>\n",
       "      <th>mean</th>\n",
       "      <td>-3.697863e-16</td>\n",
       "      <td>6.013348e-16</td>\n",
       "      <td>7.257489e-17</td>\n",
       "      <td>-3.512106e-16</td>\n",
       "      <td>0.009514</td>\n",
       "    </tr>\n",
       "    <tr>\n",
       "      <th>std</th>\n",
       "      <td>1.000000e+00</td>\n",
       "      <td>1.000000e+00</td>\n",
       "      <td>1.000000e+00</td>\n",
       "      <td>1.000000e+00</td>\n",
       "      <td>0.000402</td>\n",
       "    </tr>\n",
       "    <tr>\n",
       "      <th>min</th>\n",
       "      <td>-1.710507e+00</td>\n",
       "      <td>-1.727344e+00</td>\n",
       "      <td>-1.729621e+00</td>\n",
       "      <td>-1.716120e+00</td>\n",
       "      <td>0.008622</td>\n",
       "    </tr>\n",
       "    <tr>\n",
       "      <th>25%</th>\n",
       "      <td>-8.580575e-01</td>\n",
       "      <td>-8.596467e-01</td>\n",
       "      <td>-8.589818e-01</td>\n",
       "      <td>-8.613516e-01</td>\n",
       "      <td>0.009225</td>\n",
       "    </tr>\n",
       "    <tr>\n",
       "      <th>50%</th>\n",
       "      <td>-5.608782e-03</td>\n",
       "      <td>-5.506328e-03</td>\n",
       "      <td>-1.946298e-03</td>\n",
       "      <td>-6.583549e-03</td>\n",
       "      <td>0.009518</td>\n",
       "    </tr>\n",
       "    <tr>\n",
       "      <th>75%</th>\n",
       "      <td>8.603710e-01</td>\n",
       "      <td>8.621915e-01</td>\n",
       "      <td>8.550901e-01</td>\n",
       "      <td>8.617525e-01</td>\n",
       "      <td>0.009804</td>\n",
       "    </tr>\n",
       "    <tr>\n",
       "      <th>max</th>\n",
       "      <td>1.726354e+00</td>\n",
       "      <td>1.716332e+00</td>\n",
       "      <td>1.725729e+00</td>\n",
       "      <td>1.730089e+00</td>\n",
       "      <td>0.010476</td>\n",
       "    </tr>\n",
       "  </tbody>\n",
       "</table>\n",
       "</div>"
      ],
      "text/plain": [
       "       \\rho(g/cm^3)        T_c(K)        T_f(K)      c_b(ppm)  \\Sigma_{a1}(3)\n",
       "count  2.570000e+02  2.570000e+02  2.570000e+02  2.570000e+02      257.000000\n",
       "mean  -3.697863e-16  6.013348e-16  7.257489e-17 -3.512106e-16        0.009514\n",
       "std    1.000000e+00  1.000000e+00  1.000000e+00  1.000000e+00        0.000402\n",
       "min   -1.710507e+00 -1.727344e+00 -1.729621e+00 -1.716120e+00        0.008622\n",
       "25%   -8.580575e-01 -8.596467e-01 -8.589818e-01 -8.613516e-01        0.009225\n",
       "50%   -5.608782e-03 -5.506328e-03 -1.946298e-03 -6.583549e-03        0.009518\n",
       "75%    8.603710e-01  8.621915e-01  8.550901e-01  8.617525e-01        0.009804\n",
       "max    1.726354e+00  1.716332e+00  1.725729e+00  1.730089e+00        0.010476"
      ]
     },
     "execution_count": 32,
     "metadata": {},
     "output_type": "execute_result"
    }
   ],
   "source": [
    "df_features_norm.describe()"
   ]
  },
  {
   "cell_type": "code",
   "execution_count": 33,
   "metadata": {},
   "outputs": [
    {
     "data": {
      "text/plain": [
       "['\\\\rho(g/cm^3)', 'T_c(K)', 'T_f(K)', 'c_b(ppm)']"
      ]
     },
     "execution_count": 33,
     "metadata": {},
     "output_type": "execute_result"
    }
   ],
   "source": [
    "features"
   ]
  },
  {
   "cell_type": "code",
   "execution_count": 34,
   "metadata": {
    "scrolled": false
   },
   "outputs": [
    {
     "data": {
      "text/html": [
       "<div>\n",
       "<style scoped>\n",
       "    .dataframe tbody tr th:only-of-type {\n",
       "        vertical-align: middle;\n",
       "    }\n",
       "\n",
       "    .dataframe tbody tr th {\n",
       "        vertical-align: top;\n",
       "    }\n",
       "\n",
       "    .dataframe thead th {\n",
       "        text-align: right;\n",
       "    }\n",
       "</style>\n",
       "<table border=\"1\" class=\"dataframe\">\n",
       "  <thead>\n",
       "    <tr style=\"text-align: right;\">\n",
       "      <th></th>\n",
       "      <th>\\rho(g/cm^3)</th>\n",
       "      <th>T_c(K)</th>\n",
       "      <th>T_f(K)</th>\n",
       "      <th>c_b(ppm)</th>\n",
       "    </tr>\n",
       "  </thead>\n",
       "  <tbody>\n",
       "    <tr>\n",
       "      <th>0</th>\n",
       "      <td>-0.316426</td>\n",
       "      <td>1.416398</td>\n",
       "      <td>-0.039094</td>\n",
       "      <td>-1.035019</td>\n",
       "    </tr>\n",
       "    <tr>\n",
       "      <th>1</th>\n",
       "      <td>0.007922</td>\n",
       "      <td>-0.005506</td>\n",
       "      <td>-0.001946</td>\n",
       "      <td>0.006984</td>\n",
       "    </tr>\n",
       "    <tr>\n",
       "      <th>2</th>\n",
       "      <td>0.873902</td>\n",
       "      <td>-0.873204</td>\n",
       "      <td>0.868693</td>\n",
       "      <td>-0.861352</td>\n",
       "    </tr>\n",
       "  </tbody>\n",
       "</table>\n",
       "</div>"
      ],
      "text/plain": [
       "   \\rho(g/cm^3)    T_c(K)    T_f(K)  c_b(ppm)\n",
       "0     -0.316426  1.416398 -0.039094 -1.035019\n",
       "1      0.007922 -0.005506 -0.001946  0.006984\n",
       "2      0.873902 -0.873204  0.868693 -0.861352"
      ]
     },
     "execution_count": 34,
     "metadata": {},
     "output_type": "execute_result"
    }
   ],
   "source": [
    "df_features_norm[features].head(3)"
   ]
  },
  {
   "cell_type": "markdown",
   "metadata": {},
   "source": [
    "Разделим данные на обучающую и тестовую выборки"
   ]
  },
  {
   "cell_type": "code",
   "execution_count": 35,
   "metadata": {},
   "outputs": [],
   "source": [
    "train_dataset = df_features_norm.sample(frac=0.8,random_state=0)\n",
    "test_dataset = df_features_norm.drop(train_dataset.index)"
   ]
  },
  {
   "cell_type": "code",
   "execution_count": 36,
   "metadata": {},
   "outputs": [
    {
     "data": {
      "text/html": [
       "<div>\n",
       "<style scoped>\n",
       "    .dataframe tbody tr th:only-of-type {\n",
       "        vertical-align: middle;\n",
       "    }\n",
       "\n",
       "    .dataframe tbody tr th {\n",
       "        vertical-align: top;\n",
       "    }\n",
       "\n",
       "    .dataframe thead th {\n",
       "        text-align: right;\n",
       "    }\n",
       "</style>\n",
       "<table border=\"1\" class=\"dataframe\">\n",
       "  <thead>\n",
       "    <tr style=\"text-align: right;\">\n",
       "      <th></th>\n",
       "      <th>\\rho(g/cm^3)</th>\n",
       "      <th>T_c(K)</th>\n",
       "      <th>T_f(K)</th>\n",
       "      <th>c_b(ppm)</th>\n",
       "      <th>\\Sigma_{a1}(3)</th>\n",
       "    </tr>\n",
       "  </thead>\n",
       "  <tbody>\n",
       "    <tr>\n",
       "      <th>158</th>\n",
       "      <td>0.156763</td>\n",
       "      <td>-0.480029</td>\n",
       "      <td>-1.294301</td>\n",
       "      <td>-0.739242</td>\n",
       "      <td>0.009191</td>\n",
       "    </tr>\n",
       "    <tr>\n",
       "      <th>83</th>\n",
       "      <td>-0.452130</td>\n",
       "      <td>1.268925</td>\n",
       "      <td>1.440051</td>\n",
       "      <td>-0.345778</td>\n",
       "      <td>0.009682</td>\n",
       "    </tr>\n",
       "    <tr>\n",
       "      <th>170</th>\n",
       "      <td>1.726354</td>\n",
       "      <td>-1.727344</td>\n",
       "      <td>0.936712</td>\n",
       "      <td>0.291908</td>\n",
       "      <td>0.010267</td>\n",
       "    </tr>\n",
       "  </tbody>\n",
       "</table>\n",
       "</div>"
      ],
      "text/plain": [
       "     \\rho(g/cm^3)    T_c(K)    T_f(K)  c_b(ppm)  \\Sigma_{a1}(3)\n",
       "158      0.156763 -0.480029 -1.294301 -0.739242        0.009191\n",
       "83      -0.452130  1.268925  1.440051 -0.345778        0.009682\n",
       "170      1.726354 -1.727344  0.936712  0.291908        0.010267"
      ]
     },
     "execution_count": 36,
     "metadata": {},
     "output_type": "execute_result"
    }
   ],
   "source": [
    "train_dataset.head(3)"
   ]
  },
  {
   "cell_type": "code",
   "execution_count": 37,
   "metadata": {
    "scrolled": true
   },
   "outputs": [
    {
     "data": {
      "text/html": [
       "<div>\n",
       "<style scoped>\n",
       "    .dataframe tbody tr th:only-of-type {\n",
       "        vertical-align: middle;\n",
       "    }\n",
       "\n",
       "    .dataframe tbody tr th {\n",
       "        vertical-align: top;\n",
       "    }\n",
       "\n",
       "    .dataframe thead th {\n",
       "        text-align: right;\n",
       "    }\n",
       "</style>\n",
       "<table border=\"1\" class=\"dataframe\">\n",
       "  <thead>\n",
       "    <tr style=\"text-align: right;\">\n",
       "      <th></th>\n",
       "      <th>\\rho(g/cm^3)</th>\n",
       "      <th>T_c(K)</th>\n",
       "      <th>T_f(K)</th>\n",
       "      <th>c_b(ppm)</th>\n",
       "      <th>\\Sigma_{a1}(3)</th>\n",
       "    </tr>\n",
       "  </thead>\n",
       "  <tbody>\n",
       "    <tr>\n",
       "      <th>9</th>\n",
       "      <td>0.657407</td>\n",
       "      <td>1.079116</td>\n",
       "      <td>1.086353</td>\n",
       "      <td>-1.078436</td>\n",
       "      <td>0.009870</td>\n",
       "    </tr>\n",
       "    <tr>\n",
       "      <th>21</th>\n",
       "      <td>1.631631</td>\n",
       "      <td>0.319880</td>\n",
       "      <td>1.630502</td>\n",
       "      <td>0.983863</td>\n",
       "      <td>0.010476</td>\n",
       "    </tr>\n",
       "    <tr>\n",
       "      <th>25</th>\n",
       "      <td>0.549160</td>\n",
       "      <td>0.536805</td>\n",
       "      <td>-1.634395</td>\n",
       "      <td>-0.535726</td>\n",
       "      <td>0.009183</td>\n",
       "    </tr>\n",
       "  </tbody>\n",
       "</table>\n",
       "</div>"
      ],
      "text/plain": [
       "    \\rho(g/cm^3)    T_c(K)    T_f(K)  c_b(ppm)  \\Sigma_{a1}(3)\n",
       "9       0.657407  1.079116  1.086353 -1.078436        0.009870\n",
       "21      1.631631  0.319880  1.630502  0.983863        0.010476\n",
       "25      0.549160  0.536805 -1.634395 -0.535726        0.009183"
      ]
     },
     "execution_count": 37,
     "metadata": {},
     "output_type": "execute_result"
    }
   ],
   "source": [
    "test_dataset.head(3)"
   ]
  },
  {
   "cell_type": "markdown",
   "metadata": {},
   "source": [
    "Отделим признаки от меток"
   ]
  },
  {
   "cell_type": "code",
   "execution_count": 38,
   "metadata": {},
   "outputs": [],
   "source": [
    "train_labels = train_dataset.pop('\\Sigma_{a1}(3)')\n",
    "test_labels = test_dataset.pop('\\Sigma_{a1}(3)')"
   ]
  },
  {
   "cell_type": "code",
   "execution_count": 39,
   "metadata": {},
   "outputs": [
    {
     "data": {
      "text/html": [
       "<div>\n",
       "<style scoped>\n",
       "    .dataframe tbody tr th:only-of-type {\n",
       "        vertical-align: middle;\n",
       "    }\n",
       "\n",
       "    .dataframe tbody tr th {\n",
       "        vertical-align: top;\n",
       "    }\n",
       "\n",
       "    .dataframe thead th {\n",
       "        text-align: right;\n",
       "    }\n",
       "</style>\n",
       "<table border=\"1\" class=\"dataframe\">\n",
       "  <thead>\n",
       "    <tr style=\"text-align: right;\">\n",
       "      <th></th>\n",
       "      <th>\\rho(g/cm^3)</th>\n",
       "      <th>T_c(K)</th>\n",
       "      <th>T_f(K)</th>\n",
       "      <th>c_b(ppm)</th>\n",
       "    </tr>\n",
       "  </thead>\n",
       "  <tbody>\n",
       "    <tr>\n",
       "      <th>158</th>\n",
       "      <td>0.156763</td>\n",
       "      <td>-0.480029</td>\n",
       "      <td>-1.294301</td>\n",
       "      <td>-0.739242</td>\n",
       "    </tr>\n",
       "    <tr>\n",
       "      <th>83</th>\n",
       "      <td>-0.452130</td>\n",
       "      <td>1.268925</td>\n",
       "      <td>1.440051</td>\n",
       "      <td>-0.345778</td>\n",
       "    </tr>\n",
       "  </tbody>\n",
       "</table>\n",
       "</div>"
      ],
      "text/plain": [
       "     \\rho(g/cm^3)    T_c(K)    T_f(K)  c_b(ppm)\n",
       "158      0.156763 -0.480029 -1.294301 -0.739242\n",
       "83      -0.452130  1.268925  1.440051 -0.345778"
      ]
     },
     "execution_count": 39,
     "metadata": {},
     "output_type": "execute_result"
    }
   ],
   "source": [
    "train_dataset.head(2)"
   ]
  },
  {
   "cell_type": "code",
   "execution_count": 40,
   "metadata": {},
   "outputs": [
    {
     "data": {
      "text/plain": [
       "158    0.009191\n",
       "83     0.009682\n",
       "Name: \\Sigma_{a1}(3), dtype: float64"
      ]
     },
     "execution_count": 40,
     "metadata": {},
     "output_type": "execute_result"
    }
   ],
   "source": [
    "train_labels.head(2)"
   ]
  },
  {
   "cell_type": "markdown",
   "metadata": {},
   "source": [
    "Модель"
   ]
  },
  {
   "cell_type": "code",
   "execution_count": 41,
   "metadata": {},
   "outputs": [],
   "source": [
    "import tensorflow as tf\n",
    "\n",
    "from tensorflow import keras\n",
    "from tensorflow.keras import layers\n",
    "\n",
    "def build_model(learning_rate, rho, activation):\n",
    "    model = keras.Sequential([\n",
    "        layers.Dense(4, activation=activation, input_shape=[len(train_dataset.keys())]),\n",
    "        layers.Dense(2, activation=activation),\n",
    "        layers.Dense(1)\n",
    "    ])\n",
    "    \n",
    "    optimizer = tf.keras.optimizers.RMSprop(learning_rate = learning_rate, rho = rho)\n",
    "    model.compile(loss='mse',\n",
    "                  optimizer=optimizer,\n",
    "                  metrics=['mae', 'mse'])\n",
    "    return model"
   ]
  },
  {
   "cell_type": "code",
   "execution_count": 42,
   "metadata": {},
   "outputs": [],
   "source": [
    "# Выведем прогресс обучения в виде точек после каждой завершенной эпохи\n",
    "class PrintDot(keras.callbacks.Callback):\n",
    "    def on_epoch_end(self, epoch, logs):\n",
    "        if epoch % 100 == 0:\n",
    "            print('')\n",
    "        print('.', end='')"
   ]
  },
  {
   "cell_type": "code",
   "execution_count": 43,
   "metadata": {},
   "outputs": [
    {
     "name": "stdout",
     "output_type": "stream",
     "text": [
      "Model: \"sequential\"\n",
      "_________________________________________________________________\n",
      "Layer (type)                 Output Shape              Param #   \n",
      "=================================================================\n",
      "dense (Dense)                (None, 4)                 20        \n",
      "_________________________________________________________________\n",
      "dense_1 (Dense)              (None, 2)                 10        \n",
      "_________________________________________________________________\n",
      "dense_2 (Dense)              (None, 1)                 3         \n",
      "=================================================================\n",
      "Total params: 33\n",
      "Trainable params: 33\n",
      "Non-trainable params: 0\n",
      "_________________________________________________________________\n"
     ]
    }
   ],
   "source": [
    "learning_rate = 0.001\n",
    "rho = 0.99\n",
    "activation = 'tanh'\n",
    "model = build_model(learning_rate, rho, activation)\n",
    "\n",
    "model.summary()"
   ]
  },
  {
   "cell_type": "code",
   "execution_count": 44,
   "metadata": {},
   "outputs": [],
   "source": [
    "normed_train_data = train_dataset"
   ]
  },
  {
   "cell_type": "code",
   "execution_count": 45,
   "metadata": {},
   "outputs": [
    {
     "data": {
      "text/html": [
       "<div>\n",
       "<style scoped>\n",
       "    .dataframe tbody tr th:only-of-type {\n",
       "        vertical-align: middle;\n",
       "    }\n",
       "\n",
       "    .dataframe tbody tr th {\n",
       "        vertical-align: top;\n",
       "    }\n",
       "\n",
       "    .dataframe thead th {\n",
       "        text-align: right;\n",
       "    }\n",
       "</style>\n",
       "<table border=\"1\" class=\"dataframe\">\n",
       "  <thead>\n",
       "    <tr style=\"text-align: right;\">\n",
       "      <th></th>\n",
       "      <th>\\rho(g/cm^3)</th>\n",
       "      <th>T_c(K)</th>\n",
       "      <th>T_f(K)</th>\n",
       "      <th>c_b(ppm)</th>\n",
       "    </tr>\n",
       "  </thead>\n",
       "  <tbody>\n",
       "    <tr>\n",
       "      <th>158</th>\n",
       "      <td>0.156763</td>\n",
       "      <td>-0.480029</td>\n",
       "      <td>-1.294301</td>\n",
       "      <td>-0.739242</td>\n",
       "    </tr>\n",
       "    <tr>\n",
       "      <th>83</th>\n",
       "      <td>-0.452130</td>\n",
       "      <td>1.268925</td>\n",
       "      <td>1.440051</td>\n",
       "      <td>-0.345778</td>\n",
       "    </tr>\n",
       "    <tr>\n",
       "      <th>170</th>\n",
       "      <td>1.726354</td>\n",
       "      <td>-1.727344</td>\n",
       "      <td>0.936712</td>\n",
       "      <td>0.291908</td>\n",
       "    </tr>\n",
       "  </tbody>\n",
       "</table>\n",
       "</div>"
      ],
      "text/plain": [
       "     \\rho(g/cm^3)    T_c(K)    T_f(K)  c_b(ppm)\n",
       "158      0.156763 -0.480029 -1.294301 -0.739242\n",
       "83      -0.452130  1.268925  1.440051 -0.345778\n",
       "170      1.726354 -1.727344  0.936712  0.291908"
      ]
     },
     "execution_count": 45,
     "metadata": {},
     "output_type": "execute_result"
    }
   ],
   "source": [
    "normed_train_data.head(3)"
   ]
  },
  {
   "cell_type": "code",
   "execution_count": 46,
   "metadata": {},
   "outputs": [
    {
     "data": {
      "text/plain": [
       "array([[ 0.06416512],\n",
       "       [-0.14328593],\n",
       "       [ 0.21738763],\n",
       "       [ 0.06177217],\n",
       "       [ 0.33681363],\n",
       "       [-0.11598781],\n",
       "       [ 0.12252593],\n",
       "       [-0.1139695 ],\n",
       "       [-0.19445452],\n",
       "       [-0.19677237]], dtype=float32)"
      ]
     },
     "execution_count": 46,
     "metadata": {},
     "output_type": "execute_result"
    }
   ],
   "source": [
    "example_batch = normed_train_data[:10]\n",
    "example_result = model.predict(example_batch)\n",
    "example_result"
   ]
  },
  {
   "cell_type": "markdown",
   "metadata": {},
   "source": [
    "Обучение модели"
   ]
  },
  {
   "cell_type": "code",
   "execution_count": 47,
   "metadata": {
    "scrolled": false
   },
   "outputs": [
    {
     "name": "stdout",
     "output_type": "stream",
     "text": [
      "\n",
      "...................................................................................................."
     ]
    }
   ],
   "source": [
    "EPOCHS = 100\n",
    "\n",
    "history = model.fit(\n",
    "  normed_train_data, train_labels,\n",
    "  epochs=EPOCHS, validation_split = 0.2, verbose=0,\n",
    "  callbacks=[PrintDot()])"
   ]
  },
  {
   "cell_type": "markdown",
   "metadata": {},
   "source": [
    "Визуализируем процесс обучения модели используя статистику содержащуюся в объекте history"
   ]
  },
  {
   "cell_type": "code",
   "execution_count": 48,
   "metadata": {},
   "outputs": [
    {
     "data": {
      "text/html": [
       "<div>\n",
       "<style scoped>\n",
       "    .dataframe tbody tr th:only-of-type {\n",
       "        vertical-align: middle;\n",
       "    }\n",
       "\n",
       "    .dataframe tbody tr th {\n",
       "        vertical-align: top;\n",
       "    }\n",
       "\n",
       "    .dataframe thead th {\n",
       "        text-align: right;\n",
       "    }\n",
       "</style>\n",
       "<table border=\"1\" class=\"dataframe\">\n",
       "  <thead>\n",
       "    <tr style=\"text-align: right;\">\n",
       "      <th></th>\n",
       "      <th>loss</th>\n",
       "      <th>mae</th>\n",
       "      <th>mse</th>\n",
       "      <th>val_loss</th>\n",
       "      <th>val_mae</th>\n",
       "      <th>val_mse</th>\n",
       "      <th>epoch</th>\n",
       "    </tr>\n",
       "  </thead>\n",
       "  <tbody>\n",
       "    <tr>\n",
       "      <th>95</th>\n",
       "      <td>0.000025</td>\n",
       "      <td>0.004215</td>\n",
       "      <td>0.000025</td>\n",
       "      <td>0.000029</td>\n",
       "      <td>0.004750</td>\n",
       "      <td>0.000029</td>\n",
       "      <td>95</td>\n",
       "    </tr>\n",
       "    <tr>\n",
       "      <th>96</th>\n",
       "      <td>0.000021</td>\n",
       "      <td>0.003920</td>\n",
       "      <td>0.000021</td>\n",
       "      <td>0.000033</td>\n",
       "      <td>0.005149</td>\n",
       "      <td>0.000033</td>\n",
       "      <td>96</td>\n",
       "    </tr>\n",
       "    <tr>\n",
       "      <th>97</th>\n",
       "      <td>0.000021</td>\n",
       "      <td>0.003946</td>\n",
       "      <td>0.000021</td>\n",
       "      <td>0.000034</td>\n",
       "      <td>0.004795</td>\n",
       "      <td>0.000034</td>\n",
       "      <td>97</td>\n",
       "    </tr>\n",
       "    <tr>\n",
       "      <th>98</th>\n",
       "      <td>0.000022</td>\n",
       "      <td>0.003881</td>\n",
       "      <td>0.000022</td>\n",
       "      <td>0.000028</td>\n",
       "      <td>0.004594</td>\n",
       "      <td>0.000028</td>\n",
       "      <td>98</td>\n",
       "    </tr>\n",
       "    <tr>\n",
       "      <th>99</th>\n",
       "      <td>0.000020</td>\n",
       "      <td>0.003732</td>\n",
       "      <td>0.000020</td>\n",
       "      <td>0.000043</td>\n",
       "      <td>0.005157</td>\n",
       "      <td>0.000043</td>\n",
       "      <td>99</td>\n",
       "    </tr>\n",
       "  </tbody>\n",
       "</table>\n",
       "</div>"
      ],
      "text/plain": [
       "        loss       mae       mse  val_loss   val_mae   val_mse  epoch\n",
       "95  0.000025  0.004215  0.000025  0.000029  0.004750  0.000029     95\n",
       "96  0.000021  0.003920  0.000021  0.000033  0.005149  0.000033     96\n",
       "97  0.000021  0.003946  0.000021  0.000034  0.004795  0.000034     97\n",
       "98  0.000022  0.003881  0.000022  0.000028  0.004594  0.000028     98\n",
       "99  0.000020  0.003732  0.000020  0.000043  0.005157  0.000043     99"
      ]
     },
     "execution_count": 48,
     "metadata": {},
     "output_type": "execute_result"
    }
   ],
   "source": [
    "hist = pd.DataFrame(history.history)\n",
    "hist['epoch'] = history.epoch\n",
    "hist.tail()"
   ]
  },
  {
   "cell_type": "code",
   "execution_count": 49,
   "metadata": {
    "scrolled": false
   },
   "outputs": [
    {
     "data": {
      "image/png": "[encoded data removed]",
      "text/plain": [
       "<Figure size 432x288 with 1 Axes>"
      ]
     },
     "metadata": {},
     "output_type": "display_data"
    }
   ],
   "source": [
    "def plot_history(history, ymax):\n",
    "    hist = pd.DataFrame(history.history)\n",
    "    hist['epoch'] = history.epoch\n",
    "    plt.figure()\n",
    "    plt.xlabel('Epoch')\n",
    "    plt.ylabel('Mean Square Error')\n",
    "    plt.plot(hist['epoch'],\n",
    "             hist['mse'],\n",
    "             label='Train Error')\n",
    "    plt.plot(hist['epoch'],\n",
    "             hist['val_mse'],\n",
    "             label = 'Val Error')\n",
    "    plt.ylim([0,ymax])\n",
    "    plt.legend()\n",
    "    plt.show()\n",
    "\n",
    "plot_history(history, 0.003)"
   ]
  },
  {
   "cell_type": "code",
   "execution_count": 50,
   "metadata": {},
   "outputs": [
    {
     "data": {
      "text/plain": [
       "158    0.009191\n",
       "83     0.009682\n",
       "170    0.010267\n",
       "101    0.010408\n",
       "150    0.009951\n",
       "200    0.009514\n",
       "118    0.009555\n",
       "236    0.009563\n",
       "63     0.009234\n",
       "135    0.008740\n",
       "Name: \\Sigma_{a1}(3), dtype: float64"
      ]
     },
     "execution_count": 50,
     "metadata": {},
     "output_type": "execute_result"
    }
   ],
   "source": [
    "train_labels.head(10)"
   ]
  },
  {
   "cell_type": "code",
   "execution_count": 51,
   "metadata": {},
   "outputs": [
    {
     "data": {
      "text/plain": [
       "array([[0.01014991],\n",
       "       [0.00630054],\n",
       "       [0.01239587],\n",
       "       [0.00968209],\n",
       "       [0.00670443],\n",
       "       [0.00077316],\n",
       "       [0.01960533],\n",
       "       [0.00424243],\n",
       "       [0.00981539],\n",
       "       [0.0069936 ]], dtype=float32)"
      ]
     },
     "execution_count": 51,
     "metadata": {},
     "output_type": "execute_result"
    }
   ],
   "source": [
    "model.predict(normed_train_data)[0:10]"
   ]
  },
  {
   "cell_type": "markdown",
   "metadata": {},
   "source": [
    "### 4.2.2 Модель 1"
   ]
  },
  {
   "cell_type": "code",
   "execution_count": 52,
   "metadata": {},
   "outputs": [
    {
     "name": "stdout",
     "output_type": "stream",
     "text": [
      "Model: \"sequential_1\"\n",
      "_________________________________________________________________\n",
      "Layer (type)                 Output Shape              Param #   \n",
      "=================================================================\n",
      "dense_3 (Dense)              (None, 4)                 20        \n",
      "_________________________________________________________________\n",
      "dense_4 (Dense)              (None, 2)                 10        \n",
      "_________________________________________________________________\n",
      "dense_5 (Dense)              (None, 1)                 3         \n",
      "=================================================================\n",
      "Total params: 33\n",
      "Trainable params: 33\n",
      "Non-trainable params: 0\n",
      "_________________________________________________________________\n"
     ]
    }
   ],
   "source": [
    "# построение модели\n",
    "\n",
    "learning_rate = 0.001\n",
    "rho = 0.9\n",
    "activation = 'tanh'\n",
    "model = build_model(learning_rate, rho, activation)\n",
    "\n",
    "model.summary()"
   ]
  },
  {
   "cell_type": "code",
   "execution_count": 53,
   "metadata": {
    "scrolled": false
   },
   "outputs": [
    {
     "name": "stdout",
     "output_type": "stream",
     "text": [
      "\n",
      "....................................................................................................\n",
      "....................................................................................................\n",
      "...................................................................................................."
     ]
    }
   ],
   "source": [
    "# Обучение модели\n",
    "\n",
    "EPOCHS = 300\n",
    "\n",
    "history = model.fit(\n",
    "  normed_train_data, train_labels,\n",
    "  epochs=EPOCHS, validation_split = 0.2, verbose=0,\n",
    "  callbacks=[PrintDot()])"
   ]
  },
  {
   "cell_type": "code",
   "execution_count": 54,
   "metadata": {},
   "outputs": [
    {
     "data": {
      "text/html": [
       "<div>\n",
       "<style scoped>\n",
       "    .dataframe tbody tr th:only-of-type {\n",
       "        vertical-align: middle;\n",
       "    }\n",
       "\n",
       "    .dataframe tbody tr th {\n",
       "        vertical-align: top;\n",
       "    }\n",
       "\n",
       "    .dataframe thead th {\n",
       "        text-align: right;\n",
       "    }\n",
       "</style>\n",
       "<table border=\"1\" class=\"dataframe\">\n",
       "  <thead>\n",
       "    <tr style=\"text-align: right;\">\n",
       "      <th></th>\n",
       "      <th>loss</th>\n",
       "      <th>mae</th>\n",
       "      <th>mse</th>\n",
       "      <th>val_loss</th>\n",
       "      <th>val_mae</th>\n",
       "      <th>val_mse</th>\n",
       "      <th>epoch</th>\n",
       "    </tr>\n",
       "  </thead>\n",
       "  <tbody>\n",
       "    <tr>\n",
       "      <th>295</th>\n",
       "      <td>0.000002</td>\n",
       "      <td>0.000873</td>\n",
       "      <td>0.000002</td>\n",
       "      <td>0.000003</td>\n",
       "      <td>0.001396</td>\n",
       "      <td>0.000003</td>\n",
       "      <td>295</td>\n",
       "    </tr>\n",
       "    <tr>\n",
       "      <th>296</th>\n",
       "      <td>0.000004</td>\n",
       "      <td>0.001771</td>\n",
       "      <td>0.000004</td>\n",
       "      <td>0.000004</td>\n",
       "      <td>0.001619</td>\n",
       "      <td>0.000004</td>\n",
       "      <td>296</td>\n",
       "    </tr>\n",
       "    <tr>\n",
       "      <th>297</th>\n",
       "      <td>0.000002</td>\n",
       "      <td>0.001326</td>\n",
       "      <td>0.000002</td>\n",
       "      <td>0.000002</td>\n",
       "      <td>0.001227</td>\n",
       "      <td>0.000002</td>\n",
       "      <td>297</td>\n",
       "    </tr>\n",
       "    <tr>\n",
       "      <th>298</th>\n",
       "      <td>0.000002</td>\n",
       "      <td>0.001183</td>\n",
       "      <td>0.000002</td>\n",
       "      <td>0.000006</td>\n",
       "      <td>0.001900</td>\n",
       "      <td>0.000006</td>\n",
       "      <td>298</td>\n",
       "    </tr>\n",
       "    <tr>\n",
       "      <th>299</th>\n",
       "      <td>0.000004</td>\n",
       "      <td>0.001633</td>\n",
       "      <td>0.000004</td>\n",
       "      <td>0.000007</td>\n",
       "      <td>0.002177</td>\n",
       "      <td>0.000007</td>\n",
       "      <td>299</td>\n",
       "    </tr>\n",
       "  </tbody>\n",
       "</table>\n",
       "</div>"
      ],
      "text/plain": [
       "         loss       mae       mse  val_loss   val_mae   val_mse  epoch\n",
       "295  0.000002  0.000873  0.000002  0.000003  0.001396  0.000003    295\n",
       "296  0.000004  0.001771  0.000004  0.000004  0.001619  0.000004    296\n",
       "297  0.000002  0.001326  0.000002  0.000002  0.001227  0.000002    297\n",
       "298  0.000002  0.001183  0.000002  0.000006  0.001900  0.000006    298\n",
       "299  0.000004  0.001633  0.000004  0.000007  0.002177  0.000007    299"
      ]
     },
     "execution_count": 54,
     "metadata": {},
     "output_type": "execute_result"
    }
   ],
   "source": [
    "# История обучения\n",
    "\n",
    "hist = pd.DataFrame(history.history)\n",
    "hist['epoch'] = history.epoch\n",
    "hist.tail()"
   ]
  },
  {
   "cell_type": "code",
   "execution_count": 55,
   "metadata": {
    "scrolled": false
   },
   "outputs": [
    {
     "data": {
      "image/png": "[encoded data removed]",
      "text/plain": [
       "<Figure size 432x288 with 1 Axes>"
      ]
     },
     "metadata": {},
     "output_type": "display_data"
    }
   ],
   "source": [
    "# Отображение процесса обучения\n",
    "\n",
    "plot_history(history, 0.0003)"
   ]
  },
  {
   "cell_type": "code",
   "execution_count": 56,
   "metadata": {},
   "outputs": [
    {
     "data": {
      "text/plain": [
       "158    0.009191\n",
       "83     0.009682\n",
       "170    0.010267\n",
       "101    0.010408\n",
       "150    0.009951\n",
       "200    0.009514\n",
       "118    0.009555\n",
       "236    0.009563\n",
       "63     0.009234\n",
       "135    0.008740\n",
       "Name: \\Sigma_{a1}(3), dtype: float64"
      ]
     },
     "execution_count": 56,
     "metadata": {},
     "output_type": "execute_result"
    }
   ],
   "source": [
    "# Тренировочные данные\n",
    "\n",
    "train_labels.head(10)"
   ]
  },
  {
   "cell_type": "code",
   "execution_count": 57,
   "metadata": {
    "scrolled": true
   },
   "outputs": [
    {
     "data": {
      "text/plain": [
       "array([[0.01025734],\n",
       "       [0.0055739 ],\n",
       "       [0.00934307],\n",
       "       [0.00619464],\n",
       "       [0.00822046],\n",
       "       [0.00534195],\n",
       "       [0.00987348],\n",
       "       [0.00778165],\n",
       "       [0.00452592],\n",
       "       [0.00801005]], dtype=float32)"
      ]
     },
     "execution_count": 57,
     "metadata": {},
     "output_type": "execute_result"
    }
   ],
   "source": [
    "# Предсказанные данные\n",
    "\n",
    "model.predict(normed_train_data)[0:10]"
   ]
  },
  {
   "cell_type": "markdown",
   "metadata": {},
   "source": [
    "### 4.2.3 Модель 2"
   ]
  },
  {
   "cell_type": "code",
   "execution_count": 58,
   "metadata": {},
   "outputs": [],
   "source": [
    "def build_model_1_layer(learning_rate, rho, activation):\n",
    "    model = keras.Sequential([\n",
    "        layers.Dense(4, activation=activation, input_shape=[len(train_dataset.keys())]),\n",
    "        layers.Dense(1)\n",
    "    ])\n",
    "    \n",
    "    optimizer = tf.keras.optimizers.RMSprop(learning_rate = learning_rate, rho = rho)\n",
    "    model.compile(loss='mse',\n",
    "                  optimizer=optimizer,\n",
    "                  metrics=['mae', 'mse'])\n",
    "    return model"
   ]
  },
  {
   "cell_type": "code",
   "execution_count": 59,
   "metadata": {},
   "outputs": [
    {
     "name": "stdout",
     "output_type": "stream",
     "text": [
      "Model: \"sequential_2\"\n",
      "_________________________________________________________________\n",
      "Layer (type)                 Output Shape              Param #   \n",
      "=================================================================\n",
      "dense_6 (Dense)              (None, 4)                 20        \n",
      "_________________________________________________________________\n",
      "dense_7 (Dense)              (None, 1)                 5         \n",
      "=================================================================\n",
      "Total params: 25\n",
      "Trainable params: 25\n",
      "Non-trainable params: 0\n",
      "_________________________________________________________________\n"
     ]
    }
   ],
   "source": [
    "learning_rate = 0.0002\n",
    "rho = 0.95\n",
    "activation = 'tanh'\n",
    "model = build_model_1_layer(learning_rate, rho, activation)\n",
    "\n",
    "model.summary()"
   ]
  },
  {
   "cell_type": "code",
   "execution_count": 60,
   "metadata": {},
   "outputs": [
    {
     "name": "stdout",
     "output_type": "stream",
     "text": [
      "\n",
      "....................................................................................................\n",
      "....................................................................................................\n",
      "....................................................................................................\n",
      "....................................................................................................\n",
      "....................................................................................................\n",
      "....................................................................................................\n",
      "....................................................................................................\n",
      "....................................................................................................\n",
      "....................................................................................................\n",
      "....................................................................................................\n",
      "....................................................................................................\n",
      "...................................................................................................."
     ]
    }
   ],
   "source": [
    "# Обучение модели\n",
    "\n",
    "EPOCHS = 1200\n",
    "\n",
    "history = model.fit(\n",
    "  normed_train_data, train_labels,\n",
    "  epochs=EPOCHS, validation_split = 0.2, verbose=0,\n",
    "  callbacks=[PrintDot()])"
   ]
  },
  {
   "cell_type": "code",
   "execution_count": 61,
   "metadata": {},
   "outputs": [
    {
     "data": {
      "text/html": [
       "<div>\n",
       "<style scoped>\n",
       "    .dataframe tbody tr th:only-of-type {\n",
       "        vertical-align: middle;\n",
       "    }\n",
       "\n",
       "    .dataframe tbody tr th {\n",
       "        vertical-align: top;\n",
       "    }\n",
       "\n",
       "    .dataframe thead th {\n",
       "        text-align: right;\n",
       "    }\n",
       "</style>\n",
       "<table border=\"1\" class=\"dataframe\">\n",
       "  <thead>\n",
       "    <tr style=\"text-align: right;\">\n",
       "      <th></th>\n",
       "      <th>loss</th>\n",
       "      <th>mae</th>\n",
       "      <th>mse</th>\n",
       "      <th>val_loss</th>\n",
       "      <th>val_mae</th>\n",
       "      <th>val_mse</th>\n",
       "      <th>epoch</th>\n",
       "    </tr>\n",
       "  </thead>\n",
       "  <tbody>\n",
       "    <tr>\n",
       "      <th>1195</th>\n",
       "      <td>2.320065e-07</td>\n",
       "      <td>0.000405</td>\n",
       "      <td>2.320065e-07</td>\n",
       "      <td>2.293918e-07</td>\n",
       "      <td>0.000385</td>\n",
       "      <td>2.293918e-07</td>\n",
       "      <td>1195</td>\n",
       "    </tr>\n",
       "    <tr>\n",
       "      <th>1196</th>\n",
       "      <td>1.076645e-07</td>\n",
       "      <td>0.000239</td>\n",
       "      <td>1.076645e-07</td>\n",
       "      <td>2.424323e-08</td>\n",
       "      <td>0.000122</td>\n",
       "      <td>2.424323e-08</td>\n",
       "      <td>1196</td>\n",
       "    </tr>\n",
       "    <tr>\n",
       "      <th>1197</th>\n",
       "      <td>2.561968e-08</td>\n",
       "      <td>0.000128</td>\n",
       "      <td>2.561968e-08</td>\n",
       "      <td>8.394520e-08</td>\n",
       "      <td>0.000241</td>\n",
       "      <td>8.394520e-08</td>\n",
       "      <td>1197</td>\n",
       "    </tr>\n",
       "    <tr>\n",
       "      <th>1198</th>\n",
       "      <td>7.772990e-08</td>\n",
       "      <td>0.000218</td>\n",
       "      <td>7.772990e-08</td>\n",
       "      <td>1.037262e-06</td>\n",
       "      <td>0.000771</td>\n",
       "      <td>1.037262e-06</td>\n",
       "      <td>1198</td>\n",
       "    </tr>\n",
       "    <tr>\n",
       "      <th>1199</th>\n",
       "      <td>3.669120e-07</td>\n",
       "      <td>0.000461</td>\n",
       "      <td>3.669120e-07</td>\n",
       "      <td>4.349971e-08</td>\n",
       "      <td>0.000166</td>\n",
       "      <td>4.349971e-08</td>\n",
       "      <td>1199</td>\n",
       "    </tr>\n",
       "  </tbody>\n",
       "</table>\n",
       "</div>"
      ],
      "text/plain": [
       "              loss       mae           mse      val_loss   val_mae  \\\n",
       "1195  2.320065e-07  0.000405  2.320065e-07  2.293918e-07  0.000385   \n",
       "1196  1.076645e-07  0.000239  1.076645e-07  2.424323e-08  0.000122   \n",
       "1197  2.561968e-08  0.000128  2.561968e-08  8.394520e-08  0.000241   \n",
       "1198  7.772990e-08  0.000218  7.772990e-08  1.037262e-06  0.000771   \n",
       "1199  3.669120e-07  0.000461  3.669120e-07  4.349971e-08  0.000166   \n",
       "\n",
       "           val_mse  epoch  \n",
       "1195  2.293918e-07   1195  \n",
       "1196  2.424323e-08   1196  \n",
       "1197  8.394520e-08   1197  \n",
       "1198  1.037262e-06   1198  \n",
       "1199  4.349971e-08   1199  "
      ]
     },
     "execution_count": 61,
     "metadata": {},
     "output_type": "execute_result"
    }
   ],
   "source": [
    "# История обучения\n",
    "\n",
    "hist = pd.DataFrame(history.history)\n",
    "hist['epoch'] = history.epoch\n",
    "hist.tail()"
   ]
  },
  {
   "cell_type": "code",
   "execution_count": 62,
   "metadata": {},
   "outputs": [
    {
     "data": {
      "image/png": "[encoded data removed]",
      "text/plain": [
       "<Figure size 432x288 with 1 Axes>"
      ]
     },
     "metadata": {},
     "output_type": "display_data"
    }
   ],
   "source": [
    "# Отображение процесса обучения\n",
    "\n",
    "plot_history(history, 0.00003)"
   ]
  },
  {
   "cell_type": "code",
   "execution_count": 63,
   "metadata": {},
   "outputs": [
    {
     "data": {
      "text/plain": [
       "158    0.009191\n",
       "83     0.009682\n",
       "170    0.010267\n",
       "101    0.010408\n",
       "150    0.009951\n",
       "200    0.009514\n",
       "118    0.009555\n",
       "236    0.009563\n",
       "63     0.009234\n",
       "135    0.008740\n",
       "Name: \\Sigma_{a1}(3), dtype: float64"
      ]
     },
     "execution_count": 63,
     "metadata": {},
     "output_type": "execute_result"
    }
   ],
   "source": [
    "# Тренировочные данные\n",
    "\n",
    "train_labels.head(10)"
   ]
  },
  {
   "cell_type": "code",
   "execution_count": 64,
   "metadata": {},
   "outputs": [
    {
     "data": {
      "text/plain": [
       "array([[0.00938879],\n",
       "       [0.00960688],\n",
       "       [0.01052649],\n",
       "       [0.01021956],\n",
       "       [0.00988961],\n",
       "       [0.00953452],\n",
       "       [0.00984482],\n",
       "       [0.00935079],\n",
       "       [0.00969176],\n",
       "       [0.00918914]], dtype=float32)"
      ]
     },
     "execution_count": 64,
     "metadata": {},
     "output_type": "execute_result"
    }
   ],
   "source": [
    "# Предсказанные данные\n",
    "\n",
    "model.predict(normed_train_data)[0:10]"
   ]
  },
  {
   "cell_type": "markdown",
   "metadata": {},
   "source": [
    "### 4.2.4 Модель 3"
   ]
  },
  {
   "cell_type": "code",
   "execution_count": 65,
   "metadata": {},
   "outputs": [],
   "source": [
    "def build_model_0_layer(learning_rate, rho, activation):\n",
    "    model = keras.Sequential([\n",
    "        layers.Dense(1, activation=activation, input_shape=[len(train_dataset.keys())])\n",
    "    ])\n",
    "    \n",
    "    optimizer = tf.keras.optimizers.RMSprop(learning_rate = learning_rate, rho = rho)\n",
    "    model.compile(loss='mse',\n",
    "                  optimizer=optimizer,\n",
    "                  metrics=['mae', 'mse'])\n",
    "    return model"
   ]
  },
  {
   "cell_type": "code",
   "execution_count": 66,
   "metadata": {},
   "outputs": [
    {
     "name": "stdout",
     "output_type": "stream",
     "text": [
      "Model: \"sequential_3\"\n",
      "_________________________________________________________________\n",
      "Layer (type)                 Output Shape              Param #   \n",
      "=================================================================\n",
      "dense_8 (Dense)              (None, 1)                 5         \n",
      "=================================================================\n",
      "Total params: 5\n",
      "Trainable params: 5\n",
      "Non-trainable params: 0\n",
      "_________________________________________________________________\n"
     ]
    }
   ],
   "source": [
    "learning_rate = 0.0002\n",
    "rho = 0.95\n",
    "activation = 'tanh'\n",
    "model = build_model_0_layer(learning_rate, rho, activation)\n",
    "\n",
    "model.summary()"
   ]
  },
  {
   "cell_type": "code",
   "execution_count": 67,
   "metadata": {},
   "outputs": [
    {
     "name": "stdout",
     "output_type": "stream",
     "text": [
      "\n",
      "....................................................................................................\n",
      "....................................................................................................\n",
      "....................................................................................................\n",
      "....................................................................................................\n",
      "....................................................................................................\n",
      "....................................................................................................\n",
      "....................................................................................................\n",
      "....................................................................................................\n",
      "....................................................................................................\n",
      "....................................................................................................\n",
      "....................................................................................................\n",
      "...................................................................................................."
     ]
    }
   ],
   "source": [
    "# Обучение модели\n",
    "\n",
    "EPOCHS = 1200\n",
    "\n",
    "history = model.fit(\n",
    "  normed_train_data, train_labels,\n",
    "  epochs=EPOCHS, validation_split = 0.2, verbose=0,\n",
    "  callbacks=[PrintDot()])"
   ]
  },
  {
   "cell_type": "code",
   "execution_count": 68,
   "metadata": {
    "scrolled": true
   },
   "outputs": [
    {
     "data": {
      "text/html": [
       "<div>\n",
       "<style scoped>\n",
       "    .dataframe tbody tr th:only-of-type {\n",
       "        vertical-align: middle;\n",
       "    }\n",
       "\n",
       "    .dataframe tbody tr th {\n",
       "        vertical-align: top;\n",
       "    }\n",
       "\n",
       "    .dataframe thead th {\n",
       "        text-align: right;\n",
       "    }\n",
       "</style>\n",
       "<table border=\"1\" class=\"dataframe\">\n",
       "  <thead>\n",
       "    <tr style=\"text-align: right;\">\n",
       "      <th></th>\n",
       "      <th>loss</th>\n",
       "      <th>mae</th>\n",
       "      <th>mse</th>\n",
       "      <th>val_loss</th>\n",
       "      <th>val_mae</th>\n",
       "      <th>val_mse</th>\n",
       "      <th>epoch</th>\n",
       "    </tr>\n",
       "  </thead>\n",
       "  <tbody>\n",
       "    <tr>\n",
       "      <th>1190</th>\n",
       "      <td>1.177933e-07</td>\n",
       "      <td>0.000271</td>\n",
       "      <td>1.177933e-07</td>\n",
       "      <td>2.640639e-08</td>\n",
       "      <td>0.000139</td>\n",
       "      <td>2.640639e-08</td>\n",
       "      <td>1190</td>\n",
       "    </tr>\n",
       "    <tr>\n",
       "      <th>1191</th>\n",
       "      <td>3.510245e-08</td>\n",
       "      <td>0.000152</td>\n",
       "      <td>3.510245e-08</td>\n",
       "      <td>6.224414e-08</td>\n",
       "      <td>0.000214</td>\n",
       "      <td>6.224414e-08</td>\n",
       "      <td>1191</td>\n",
       "    </tr>\n",
       "    <tr>\n",
       "      <th>1192</th>\n",
       "      <td>2.485690e-08</td>\n",
       "      <td>0.000110</td>\n",
       "      <td>2.485690e-08</td>\n",
       "      <td>1.811259e-07</td>\n",
       "      <td>0.000357</td>\n",
       "      <td>1.811259e-07</td>\n",
       "      <td>1192</td>\n",
       "    </tr>\n",
       "    <tr>\n",
       "      <th>1193</th>\n",
       "      <td>8.275454e-08</td>\n",
       "      <td>0.000231</td>\n",
       "      <td>8.275454e-08</td>\n",
       "      <td>2.917519e-07</td>\n",
       "      <td>0.000460</td>\n",
       "      <td>2.917519e-07</td>\n",
       "      <td>1193</td>\n",
       "    </tr>\n",
       "    <tr>\n",
       "      <th>1194</th>\n",
       "      <td>6.444837e-08</td>\n",
       "      <td>0.000170</td>\n",
       "      <td>6.444837e-08</td>\n",
       "      <td>3.900438e-08</td>\n",
       "      <td>0.000164</td>\n",
       "      <td>3.900438e-08</td>\n",
       "      <td>1194</td>\n",
       "    </tr>\n",
       "    <tr>\n",
       "      <th>1195</th>\n",
       "      <td>3.248210e-08</td>\n",
       "      <td>0.000146</td>\n",
       "      <td>3.248210e-08</td>\n",
       "      <td>1.231760e-07</td>\n",
       "      <td>0.000302</td>\n",
       "      <td>1.231760e-07</td>\n",
       "      <td>1195</td>\n",
       "    </tr>\n",
       "    <tr>\n",
       "      <th>1196</th>\n",
       "      <td>1.088836e-07</td>\n",
       "      <td>0.000266</td>\n",
       "      <td>1.088836e-07</td>\n",
       "      <td>6.011291e-08</td>\n",
       "      <td>0.000196</td>\n",
       "      <td>6.011291e-08</td>\n",
       "      <td>1196</td>\n",
       "    </tr>\n",
       "    <tr>\n",
       "      <th>1197</th>\n",
       "      <td>5.048443e-08</td>\n",
       "      <td>0.000184</td>\n",
       "      <td>5.048443e-08</td>\n",
       "      <td>1.297972e-07</td>\n",
       "      <td>0.000296</td>\n",
       "      <td>1.297972e-07</td>\n",
       "      <td>1197</td>\n",
       "    </tr>\n",
       "    <tr>\n",
       "      <th>1198</th>\n",
       "      <td>4.664126e-08</td>\n",
       "      <td>0.000170</td>\n",
       "      <td>4.664126e-08</td>\n",
       "      <td>1.146375e-07</td>\n",
       "      <td>0.000274</td>\n",
       "      <td>1.146375e-07</td>\n",
       "      <td>1198</td>\n",
       "    </tr>\n",
       "    <tr>\n",
       "      <th>1199</th>\n",
       "      <td>5.112697e-08</td>\n",
       "      <td>0.000176</td>\n",
       "      <td>5.112697e-08</td>\n",
       "      <td>3.918640e-08</td>\n",
       "      <td>0.000158</td>\n",
       "      <td>3.918640e-08</td>\n",
       "      <td>1199</td>\n",
       "    </tr>\n",
       "  </tbody>\n",
       "</table>\n",
       "</div>"
      ],
      "text/plain": [
       "              loss       mae           mse      val_loss   val_mae  \\\n",
       "1190  1.177933e-07  0.000271  1.177933e-07  2.640639e-08  0.000139   \n",
       "1191  3.510245e-08  0.000152  3.510245e-08  6.224414e-08  0.000214   \n",
       "1192  2.485690e-08  0.000110  2.485690e-08  1.811259e-07  0.000357   \n",
       "1193  8.275454e-08  0.000231  8.275454e-08  2.917519e-07  0.000460   \n",
       "1194  6.444837e-08  0.000170  6.444837e-08  3.900438e-08  0.000164   \n",
       "1195  3.248210e-08  0.000146  3.248210e-08  1.231760e-07  0.000302   \n",
       "1196  1.088836e-07  0.000266  1.088836e-07  6.011291e-08  0.000196   \n",
       "1197  5.048443e-08  0.000184  5.048443e-08  1.297972e-07  0.000296   \n",
       "1198  4.664126e-08  0.000170  4.664126e-08  1.146375e-07  0.000274   \n",
       "1199  5.112697e-08  0.000176  5.112697e-08  3.918640e-08  0.000158   \n",
       "\n",
       "           val_mse  epoch  \n",
       "1190  2.640639e-08   1190  \n",
       "1191  6.224414e-08   1191  \n",
       "1192  1.811259e-07   1192  \n",
       "1193  2.917519e-07   1193  \n",
       "1194  3.900438e-08   1194  \n",
       "1195  1.231760e-07   1195  \n",
       "1196  6.011291e-08   1196  \n",
       "1197  1.297972e-07   1197  \n",
       "1198  1.146375e-07   1198  \n",
       "1199  3.918640e-08   1199  "
      ]
     },
     "execution_count": 68,
     "metadata": {},
     "output_type": "execute_result"
    }
   ],
   "source": [
    "# История обучения\n",
    "\n",
    "hist = pd.DataFrame(history.history)\n",
    "hist['epoch'] = history.epoch\n",
    "hist.tail(10)"
   ]
  },
  {
   "cell_type": "code",
   "execution_count": 69,
   "metadata": {},
   "outputs": [
    {
     "data": {
      "text/plain": [
       "158    0.009191\n",
       "83     0.009682\n",
       "170    0.010267\n",
       "101    0.010408\n",
       "150    0.009951\n",
       "200    0.009514\n",
       "118    0.009555\n",
       "236    0.009563\n",
       "63     0.009234\n",
       "135    0.008740\n",
       "Name: \\Sigma_{a1}(3), dtype: float64"
      ]
     },
     "execution_count": 69,
     "metadata": {},
     "output_type": "execute_result"
    }
   ],
   "source": [
    "# Тренировочные данные\n",
    "\n",
    "train_labels.head(10)"
   ]
  },
  {
   "cell_type": "code",
   "execution_count": 70,
   "metadata": {},
   "outputs": [
    {
     "data": {
      "text/plain": [
       "array([[0.00930913],\n",
       "       [0.00972544],\n",
       "       [0.01064002],\n",
       "       [0.01053063],\n",
       "       [0.00994423],\n",
       "       [0.0095078 ],\n",
       "       [0.00973423],\n",
       "       [0.00964482],\n",
       "       [0.0092247 ],\n",
       "       [0.0086544 ]], dtype=float32)"
      ]
     },
     "execution_count": 70,
     "metadata": {},
     "output_type": "execute_result"
    }
   ],
   "source": [
    "# Предсказанные данные\n",
    "\n",
    "model.predict(normed_train_data)[0:10]"
   ]
  },
  {
   "cell_type": "markdown",
   "metadata": {},
   "source": [
    "### 4.2.5 Модель 4"
   ]
  },
  {
   "cell_type": "code",
   "execution_count": 71,
   "metadata": {},
   "outputs": [
    {
     "data": {
      "text/html": [
       "<div>\n",
       "<style scoped>\n",
       "    .dataframe tbody tr th:only-of-type {\n",
       "        vertical-align: middle;\n",
       "    }\n",
       "\n",
       "    .dataframe tbody tr th {\n",
       "        vertical-align: top;\n",
       "    }\n",
       "\n",
       "    .dataframe thead th {\n",
       "        text-align: right;\n",
       "    }\n",
       "</style>\n",
       "<table border=\"1\" class=\"dataframe\">\n",
       "  <thead>\n",
       "    <tr style=\"text-align: right;\">\n",
       "      <th></th>\n",
       "      <th>\\rho(g/cm^3)</th>\n",
       "      <th>T_c(K)</th>\n",
       "      <th>T_f(K)</th>\n",
       "      <th>c_b(ppm)</th>\n",
       "    </tr>\n",
       "  </thead>\n",
       "  <tbody>\n",
       "    <tr>\n",
       "      <th>158</th>\n",
       "      <td>0.156763</td>\n",
       "      <td>-0.480029</td>\n",
       "      <td>-1.294301</td>\n",
       "      <td>-0.739242</td>\n",
       "    </tr>\n",
       "    <tr>\n",
       "      <th>83</th>\n",
       "      <td>-0.452130</td>\n",
       "      <td>1.268925</td>\n",
       "      <td>1.440051</td>\n",
       "      <td>-0.345778</td>\n",
       "    </tr>\n",
       "    <tr>\n",
       "      <th>170</th>\n",
       "      <td>1.726354</td>\n",
       "      <td>-1.727344</td>\n",
       "      <td>0.936712</td>\n",
       "      <td>0.291908</td>\n",
       "    </tr>\n",
       "    <tr>\n",
       "      <th>101</th>\n",
       "      <td>1.442199</td>\n",
       "      <td>0.889307</td>\n",
       "      <td>1.059145</td>\n",
       "      <td>1.662251</td>\n",
       "    </tr>\n",
       "    <tr>\n",
       "      <th>150</th>\n",
       "      <td>0.806247</td>\n",
       "      <td>-1.564651</td>\n",
       "      <td>-0.206002</td>\n",
       "      <td>1.648683</td>\n",
       "    </tr>\n",
       "    <tr>\n",
       "      <th>...</th>\n",
       "      <td>...</td>\n",
       "      <td>...</td>\n",
       "      <td>...</td>\n",
       "      <td>...</td>\n",
       "    </tr>\n",
       "    <tr>\n",
       "      <th>151</th>\n",
       "      <td>-0.925712</td>\n",
       "      <td>0.170745</td>\n",
       "      <td>1.535275</td>\n",
       "      <td>-0.087989</td>\n",
       "    </tr>\n",
       "    <tr>\n",
       "      <th>202</th>\n",
       "      <td>1.591040</td>\n",
       "      <td>-1.266380</td>\n",
       "      <td>-1.158264</td>\n",
       "      <td>1.078837</td>\n",
       "    </tr>\n",
       "    <tr>\n",
       "      <th>31</th>\n",
       "      <td>-1.615790</td>\n",
       "      <td>0.102956</td>\n",
       "      <td>-0.328436</td>\n",
       "      <td>-0.969894</td>\n",
       "    </tr>\n",
       "    <tr>\n",
       "      <th>209</th>\n",
       "      <td>0.400320</td>\n",
       "      <td>1.011327</td>\n",
       "      <td>1.344824</td>\n",
       "      <td>1.187379</td>\n",
       "    </tr>\n",
       "    <tr>\n",
       "      <th>127</th>\n",
       "      <td>-1.696975</td>\n",
       "      <td>0.563921</td>\n",
       "      <td>0.079676</td>\n",
       "      <td>-0.400047</td>\n",
       "    </tr>\n",
       "  </tbody>\n",
       "</table>\n",
       "<p>206 rows × 4 columns</p>\n",
       "</div>"
      ],
      "text/plain": [
       "     \\rho(g/cm^3)    T_c(K)    T_f(K)  c_b(ppm)\n",
       "158      0.156763 -0.480029 -1.294301 -0.739242\n",
       "83      -0.452130  1.268925  1.440051 -0.345778\n",
       "170      1.726354 -1.727344  0.936712  0.291908\n",
       "101      1.442199  0.889307  1.059145  1.662251\n",
       "150      0.806247 -1.564651 -0.206002  1.648683\n",
       "..            ...       ...       ...       ...\n",
       "151     -0.925712  0.170745  1.535275 -0.087989\n",
       "202      1.591040 -1.266380 -1.158264  1.078837\n",
       "31      -1.615790  0.102956 -0.328436 -0.969894\n",
       "209      0.400320  1.011327  1.344824  1.187379\n",
       "127     -1.696975  0.563921  0.079676 -0.400047\n",
       "\n",
       "[206 rows x 4 columns]"
      ]
     },
     "execution_count": 71,
     "metadata": {},
     "output_type": "execute_result"
    }
   ],
   "source": [
    "normed_train_data"
   ]
  },
  {
   "cell_type": "code",
   "execution_count": 72,
   "metadata": {},
   "outputs": [
    {
     "data": {
      "text/html": [
       "<div>\n",
       "<style scoped>\n",
       "    .dataframe tbody tr th:only-of-type {\n",
       "        vertical-align: middle;\n",
       "    }\n",
       "\n",
       "    .dataframe tbody tr th {\n",
       "        vertical-align: top;\n",
       "    }\n",
       "\n",
       "    .dataframe thead th {\n",
       "        text-align: right;\n",
       "    }\n",
       "</style>\n",
       "<table border=\"1\" class=\"dataframe\">\n",
       "  <thead>\n",
       "    <tr style=\"text-align: right;\">\n",
       "      <th></th>\n",
       "      <th>\\rho(g/cm^3)</th>\n",
       "      <th>T_f(K)</th>\n",
       "      <th>c_b(ppm)</th>\n",
       "    </tr>\n",
       "  </thead>\n",
       "  <tbody>\n",
       "    <tr>\n",
       "      <th>158</th>\n",
       "      <td>0.156763</td>\n",
       "      <td>-1.294301</td>\n",
       "      <td>-0.739242</td>\n",
       "    </tr>\n",
       "    <tr>\n",
       "      <th>83</th>\n",
       "      <td>-0.452130</td>\n",
       "      <td>1.440051</td>\n",
       "      <td>-0.345778</td>\n",
       "    </tr>\n",
       "    <tr>\n",
       "      <th>170</th>\n",
       "      <td>1.726354</td>\n",
       "      <td>0.936712</td>\n",
       "      <td>0.291908</td>\n",
       "    </tr>\n",
       "    <tr>\n",
       "      <th>101</th>\n",
       "      <td>1.442199</td>\n",
       "      <td>1.059145</td>\n",
       "      <td>1.662251</td>\n",
       "    </tr>\n",
       "    <tr>\n",
       "      <th>150</th>\n",
       "      <td>0.806247</td>\n",
       "      <td>-0.206002</td>\n",
       "      <td>1.648683</td>\n",
       "    </tr>\n",
       "    <tr>\n",
       "      <th>...</th>\n",
       "      <td>...</td>\n",
       "      <td>...</td>\n",
       "      <td>...</td>\n",
       "    </tr>\n",
       "    <tr>\n",
       "      <th>151</th>\n",
       "      <td>-0.925712</td>\n",
       "      <td>1.535275</td>\n",
       "      <td>-0.087989</td>\n",
       "    </tr>\n",
       "    <tr>\n",
       "      <th>202</th>\n",
       "      <td>1.591040</td>\n",
       "      <td>-1.158264</td>\n",
       "      <td>1.078837</td>\n",
       "    </tr>\n",
       "    <tr>\n",
       "      <th>31</th>\n",
       "      <td>-1.615790</td>\n",
       "      <td>-0.328436</td>\n",
       "      <td>-0.969894</td>\n",
       "    </tr>\n",
       "    <tr>\n",
       "      <th>209</th>\n",
       "      <td>0.400320</td>\n",
       "      <td>1.344824</td>\n",
       "      <td>1.187379</td>\n",
       "    </tr>\n",
       "    <tr>\n",
       "      <th>127</th>\n",
       "      <td>-1.696975</td>\n",
       "      <td>0.079676</td>\n",
       "      <td>-0.400047</td>\n",
       "    </tr>\n",
       "  </tbody>\n",
       "</table>\n",
       "<p>206 rows × 3 columns</p>\n",
       "</div>"
      ],
      "text/plain": [
       "     \\rho(g/cm^3)    T_f(K)  c_b(ppm)\n",
       "158      0.156763 -1.294301 -0.739242\n",
       "83      -0.452130  1.440051 -0.345778\n",
       "170      1.726354  0.936712  0.291908\n",
       "101      1.442199  1.059145  1.662251\n",
       "150      0.806247 -0.206002  1.648683\n",
       "..            ...       ...       ...\n",
       "151     -0.925712  1.535275 -0.087989\n",
       "202      1.591040 -1.158264  1.078837\n",
       "31      -1.615790 -0.328436 -0.969894\n",
       "209      0.400320  1.344824  1.187379\n",
       "127     -1.696975  0.079676 -0.400047\n",
       "\n",
       "[206 rows x 3 columns]"
      ]
     },
     "execution_count": 72,
     "metadata": {},
     "output_type": "execute_result"
    }
   ],
   "source": [
    "normed_train_data = normed_train_data.drop(['T_c(K)'], axis=1)\n",
    "normed_train_data"
   ]
  },
  {
   "cell_type": "code",
   "execution_count": 73,
   "metadata": {},
   "outputs": [],
   "source": [
    "def build_model_0_layer(learning_rate, rho, activation):\n",
    "    model = keras.Sequential([\n",
    "        layers.Dense(1, activation=activation, input_shape=[len(normed_train_data.keys())])\n",
    "    ])\n",
    "    \n",
    "    optimizer = tf.keras.optimizers.RMSprop(learning_rate = learning_rate, rho = rho)\n",
    "    model.compile(loss='mse',\n",
    "                  optimizer=optimizer,\n",
    "                  metrics=['mae', 'mse'])\n",
    "    return model"
   ]
  },
  {
   "cell_type": "code",
   "execution_count": 74,
   "metadata": {},
   "outputs": [
    {
     "name": "stdout",
     "output_type": "stream",
     "text": [
      "Model: \"sequential_4\"\n",
      "_________________________________________________________________\n",
      "Layer (type)                 Output Shape              Param #   \n",
      "=================================================================\n",
      "dense_9 (Dense)              (None, 1)                 4         \n",
      "=================================================================\n",
      "Total params: 4\n",
      "Trainable params: 4\n",
      "Non-trainable params: 0\n",
      "_________________________________________________________________\n"
     ]
    }
   ],
   "source": [
    "learning_rate = 0.0002\n",
    "rho = 0.9999\n",
    "activation = 'tanh'\n",
    "model = build_model_0_layer(learning_rate, rho, activation)\n",
    "\n",
    "model.summary()"
   ]
  },
  {
   "cell_type": "code",
   "execution_count": 75,
   "metadata": {},
   "outputs": [
    {
     "name": "stdout",
     "output_type": "stream",
     "text": [
      "\n",
      "....................................................................................................\n",
      "....................................................................................................\n",
      "....................................................................................................\n",
      "....................................................................................................\n",
      "....................................................................................................\n",
      "....................................................................................................\n",
      "....................................................................................................\n",
      "....................................................................................................\n",
      "....................................................................................................\n",
      "....................................................................................................\n",
      "....................................................................................................\n",
      "...................................................................................................."
     ]
    }
   ],
   "source": [
    "# Обучение модели\n",
    "\n",
    "EPOCHS = 1200\n",
    "\n",
    "history = model.fit(\n",
    "  normed_train_data, train_labels,\n",
    "  epochs=EPOCHS, validation_split = 0.2, verbose=0,\n",
    "  callbacks=[PrintDot()])"
   ]
  },
  {
   "cell_type": "code",
   "execution_count": 76,
   "metadata": {},
   "outputs": [
    {
     "data": {
      "text/html": [
       "<div>\n",
       "<style scoped>\n",
       "    .dataframe tbody tr th:only-of-type {\n",
       "        vertical-align: middle;\n",
       "    }\n",
       "\n",
       "    .dataframe tbody tr th {\n",
       "        vertical-align: top;\n",
       "    }\n",
       "\n",
       "    .dataframe thead th {\n",
       "        text-align: right;\n",
       "    }\n",
       "</style>\n",
       "<table border=\"1\" class=\"dataframe\">\n",
       "  <thead>\n",
       "    <tr style=\"text-align: right;\">\n",
       "      <th></th>\n",
       "      <th>loss</th>\n",
       "      <th>mae</th>\n",
       "      <th>mse</th>\n",
       "      <th>val_loss</th>\n",
       "      <th>val_mae</th>\n",
       "      <th>val_mse</th>\n",
       "      <th>epoch</th>\n",
       "    </tr>\n",
       "  </thead>\n",
       "  <tbody>\n",
       "    <tr>\n",
       "      <th>1190</th>\n",
       "      <td>2.953148e-09</td>\n",
       "      <td>0.000044</td>\n",
       "      <td>2.953148e-09</td>\n",
       "      <td>3.213480e-09</td>\n",
       "      <td>0.000039</td>\n",
       "      <td>3.213480e-09</td>\n",
       "      <td>1190</td>\n",
       "    </tr>\n",
       "    <tr>\n",
       "      <th>1191</th>\n",
       "      <td>2.953814e-09</td>\n",
       "      <td>0.000044</td>\n",
       "      <td>2.953814e-09</td>\n",
       "      <td>3.225918e-09</td>\n",
       "      <td>0.000039</td>\n",
       "      <td>3.225918e-09</td>\n",
       "      <td>1191</td>\n",
       "    </tr>\n",
       "    <tr>\n",
       "      <th>1192</th>\n",
       "      <td>2.966603e-09</td>\n",
       "      <td>0.000044</td>\n",
       "      <td>2.966603e-09</td>\n",
       "      <td>3.227289e-09</td>\n",
       "      <td>0.000039</td>\n",
       "      <td>3.227289e-09</td>\n",
       "      <td>1192</td>\n",
       "    </tr>\n",
       "    <tr>\n",
       "      <th>1193</th>\n",
       "      <td>2.965237e-09</td>\n",
       "      <td>0.000044</td>\n",
       "      <td>2.965237e-09</td>\n",
       "      <td>3.233354e-09</td>\n",
       "      <td>0.000039</td>\n",
       "      <td>3.233354e-09</td>\n",
       "      <td>1193</td>\n",
       "    </tr>\n",
       "    <tr>\n",
       "      <th>1194</th>\n",
       "      <td>2.956636e-09</td>\n",
       "      <td>0.000044</td>\n",
       "      <td>2.956636e-09</td>\n",
       "      <td>3.224591e-09</td>\n",
       "      <td>0.000039</td>\n",
       "      <td>3.224591e-09</td>\n",
       "      <td>1194</td>\n",
       "    </tr>\n",
       "    <tr>\n",
       "      <th>1195</th>\n",
       "      <td>2.970428e-09</td>\n",
       "      <td>0.000044</td>\n",
       "      <td>2.970428e-09</td>\n",
       "      <td>3.223653e-09</td>\n",
       "      <td>0.000039</td>\n",
       "      <td>3.223653e-09</td>\n",
       "      <td>1195</td>\n",
       "    </tr>\n",
       "    <tr>\n",
       "      <th>1196</th>\n",
       "      <td>2.974996e-09</td>\n",
       "      <td>0.000044</td>\n",
       "      <td>2.974996e-09</td>\n",
       "      <td>3.193470e-09</td>\n",
       "      <td>0.000039</td>\n",
       "      <td>3.193470e-09</td>\n",
       "      <td>1196</td>\n",
       "    </tr>\n",
       "    <tr>\n",
       "      <th>1197</th>\n",
       "      <td>2.978189e-09</td>\n",
       "      <td>0.000044</td>\n",
       "      <td>2.978189e-09</td>\n",
       "      <td>3.187176e-09</td>\n",
       "      <td>0.000039</td>\n",
       "      <td>3.187176e-09</td>\n",
       "      <td>1197</td>\n",
       "    </tr>\n",
       "    <tr>\n",
       "      <th>1198</th>\n",
       "      <td>2.975235e-09</td>\n",
       "      <td>0.000044</td>\n",
       "      <td>2.975235e-09</td>\n",
       "      <td>3.181392e-09</td>\n",
       "      <td>0.000039</td>\n",
       "      <td>3.181392e-09</td>\n",
       "      <td>1198</td>\n",
       "    </tr>\n",
       "    <tr>\n",
       "      <th>1199</th>\n",
       "      <td>2.972050e-09</td>\n",
       "      <td>0.000044</td>\n",
       "      <td>2.972050e-09</td>\n",
       "      <td>3.196282e-09</td>\n",
       "      <td>0.000039</td>\n",
       "      <td>3.196282e-09</td>\n",
       "      <td>1199</td>\n",
       "    </tr>\n",
       "  </tbody>\n",
       "</table>\n",
       "</div>"
      ],
      "text/plain": [
       "              loss       mae           mse      val_loss   val_mae  \\\n",
       "1190  2.953148e-09  0.000044  2.953148e-09  3.213480e-09  0.000039   \n",
       "1191  2.953814e-09  0.000044  2.953814e-09  3.225918e-09  0.000039   \n",
       "1192  2.966603e-09  0.000044  2.966603e-09  3.227289e-09  0.000039   \n",
       "1193  2.965237e-09  0.000044  2.965237e-09  3.233354e-09  0.000039   \n",
       "1194  2.956636e-09  0.000044  2.956636e-09  3.224591e-09  0.000039   \n",
       "1195  2.970428e-09  0.000044  2.970428e-09  3.223653e-09  0.000039   \n",
       "1196  2.974996e-09  0.000044  2.974996e-09  3.193470e-09  0.000039   \n",
       "1197  2.978189e-09  0.000044  2.978189e-09  3.187176e-09  0.000039   \n",
       "1198  2.975235e-09  0.000044  2.975235e-09  3.181392e-09  0.000039   \n",
       "1199  2.972050e-09  0.000044  2.972050e-09  3.196282e-09  0.000039   \n",
       "\n",
       "           val_mse  epoch  \n",
       "1190  3.213480e-09   1190  \n",
       "1191  3.225918e-09   1191  \n",
       "1192  3.227289e-09   1192  \n",
       "1193  3.233354e-09   1193  \n",
       "1194  3.224591e-09   1194  \n",
       "1195  3.223653e-09   1195  \n",
       "1196  3.193470e-09   1196  \n",
       "1197  3.187176e-09   1197  \n",
       "1198  3.181392e-09   1198  \n",
       "1199  3.196282e-09   1199  "
      ]
     },
     "execution_count": 76,
     "metadata": {},
     "output_type": "execute_result"
    }
   ],
   "source": [
    "# История обучения\n",
    "\n",
    "hist = pd.DataFrame(history.history)\n",
    "hist['epoch'] = history.epoch\n",
    "hist.tail(10)"
   ]
  },
  {
   "cell_type": "code",
   "execution_count": 77,
   "metadata": {},
   "outputs": [
    {
     "data": {
      "image/png": "[encoded data removed]",
      "text/plain": [
       "<Figure size 432x288 with 1 Axes>"
      ]
     },
     "metadata": {},
     "output_type": "display_data"
    }
   ],
   "source": [
    "# Отображение процесса обучения\n",
    "\n",
    "plot_history(history, 0.00000001)"
   ]
  },
  {
   "cell_type": "code",
   "execution_count": 78,
   "metadata": {},
   "outputs": [
    {
     "data": {
      "text/plain": [
       "158    0.009191\n",
       "83     0.009682\n",
       "170    0.010267\n",
       "101    0.010408\n",
       "150    0.009951\n",
       "200    0.009514\n",
       "118    0.009555\n",
       "236    0.009563\n",
       "63     0.009234\n",
       "135    0.008740\n",
       "Name: \\Sigma_{a1}(3), dtype: float64"
      ]
     },
     "execution_count": 78,
     "metadata": {},
     "output_type": "execute_result"
    }
   ],
   "source": [
    "# Тренировочные данные\n",
    "\n",
    "train_labels.head(10)"
   ]
  },
  {
   "cell_type": "code",
   "execution_count": 79,
   "metadata": {},
   "outputs": [
    {
     "data": {
      "text/plain": [
       "array([[0.00917474],\n",
       "       [0.00968653],\n",
       "       [0.01029729],\n",
       "       [0.01038009],\n",
       "       [0.00987977],\n",
       "       [0.00957701],\n",
       "       [0.00952216],\n",
       "       [0.00954392],\n",
       "       [0.00944388],\n",
       "       [0.00869255]], dtype=float32)"
      ]
     },
     "execution_count": 79,
     "metadata": {},
     "output_type": "execute_result"
    }
   ],
   "source": [
    "# Предсказанные данные\n",
    "\n",
    "model.predict(normed_train_data)[0:10]"
   ]
  }
 ],
 "metadata": {
  "kernelspec": {
   "display_name": "Python 3",
   "language": "python",
   "name": "python3"
  },
  "language_info": {
   "codemirror_mode": {
    "name": "ipython",
    "version": 3
   },
   "file_extension": ".py",
   "mimetype": "text/x-python",
   "name": "python",
   "nbconvert_exporter": "python",
   "pygments_lexer": "ipython3",
   "version": "3.8.5"
  }
 },
 "nbformat": 4,
 "nbformat_minor": 4
}
