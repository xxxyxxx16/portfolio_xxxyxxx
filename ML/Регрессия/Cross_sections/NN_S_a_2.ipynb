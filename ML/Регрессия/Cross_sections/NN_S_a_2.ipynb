{
 "cells": [
  {
   "cell_type": "markdown",
   "metadata": {},
   "source": [
    "# \\Sigma_{a2} в зависимости от плотности теплоносителя, температуры теплоносителя, температуры топлива и концентрации борной кислоты"
   ]
  },
  {
   "cell_type": "markdown",
   "metadata": {},
   "source": [
    "## 1. Загрузка данных"
   ]
  },
  {
   "cell_type": "code",
   "execution_count": 1,
   "metadata": {},
   "outputs": [],
   "source": [
    "import pandas as pd"
   ]
  },
  {
   "cell_type": "markdown",
   "metadata": {},
   "source": [
    "Загрузка данных"
   ]
  },
  {
   "cell_type": "code",
   "execution_count": 2,
   "metadata": {},
   "outputs": [
    {
     "data": {
      "text/html": [
       "<div>\n",
       "<style scoped>\n",
       "    .dataframe tbody tr th:only-of-type {\n",
       "        vertical-align: middle;\n",
       "    }\n",
       "\n",
       "    .dataframe tbody tr th {\n",
       "        vertical-align: top;\n",
       "    }\n",
       "\n",
       "    .dataframe thead th {\n",
       "        text-align: right;\n",
       "    }\n",
       "</style>\n",
       "<table border=\"1\" class=\"dataframe\">\n",
       "  <thead>\n",
       "    <tr style=\"text-align: right;\">\n",
       "      <th></th>\n",
       "      <th>\\rho(g/cm^3)</th>\n",
       "      <th>T_c(K)</th>\n",
       "      <th>T_f(K)</th>\n",
       "      <th>c_b(ppm)</th>\n",
       "      <th>3S_{tr1}(1)</th>\n",
       "      <th>3S_{tr2}(2)</th>\n",
       "      <th>\\Sigma_{a1}(3)</th>\n",
       "      <th>\\Sigma_{a2}(4)</th>\n",
       "      <th>nuS_{f1}(5)</th>\n",
       "      <th>nuS_{f2}(6)</th>\n",
       "      <th>\\Sigma_{f1}(7)</th>\n",
       "      <th>\\Sigma_{f2}(8)</th>\n",
       "      <th>\\Sigma_{1-&gt;2}(9)</th>\n",
       "      <th>k_{inf}(10)</th>\n",
       "      <th>\\sigma_{a2}^{Xe}</th>\n",
       "      <th>\\sigma_{a2}^{Sm}</th>\n",
       "    </tr>\n",
       "  </thead>\n",
       "  <tbody>\n",
       "    <tr>\n",
       "      <th>0</th>\n",
       "      <td>0.7235</td>\n",
       "      <td>575.0</td>\n",
       "      <td>1027.0</td>\n",
       "      <td>600.0</td>\n",
       "      <td>0.661853</td>\n",
       "      <td>2.568298</td>\n",
       "      <td>0.009376</td>\n",
       "      <td>0.085584</td>\n",
       "      <td>0.006677</td>\n",
       "      <td>0.133250</td>\n",
       "      <td>0.002620</td>\n",
       "      <td>0.054750</td>\n",
       "      <td>0.017392</td>\n",
       "      <td>1.261041</td>\n",
       "      <td>1072970.0</td>\n",
       "      <td>35421.398</td>\n",
       "    </tr>\n",
       "    <tr>\n",
       "      <th>1</th>\n",
       "      <td>0.7750</td>\n",
       "      <td>448.0</td>\n",
       "      <td>1043.0</td>\n",
       "      <td>1500.0</td>\n",
       "      <td>0.679602</td>\n",
       "      <td>2.874687</td>\n",
       "      <td>0.009581</td>\n",
       "      <td>0.098339</td>\n",
       "      <td>0.006723</td>\n",
       "      <td>0.139256</td>\n",
       "      <td>0.002636</td>\n",
       "      <td>0.057218</td>\n",
       "      <td>0.018726</td>\n",
       "      <td>1.174265</td>\n",
       "      <td>1141000.0</td>\n",
       "      <td>36147.801</td>\n",
       "    </tr>\n",
       "    <tr>\n",
       "      <th>2</th>\n",
       "      <td>0.9125</td>\n",
       "      <td>370.5</td>\n",
       "      <td>1418.0</td>\n",
       "      <td>750.0</td>\n",
       "      <td>0.727336</td>\n",
       "      <td>3.668742</td>\n",
       "      <td>0.009908</td>\n",
       "      <td>0.102815</td>\n",
       "      <td>0.006844</td>\n",
       "      <td>0.153823</td>\n",
       "      <td>0.002681</td>\n",
       "      <td>0.063203</td>\n",
       "      <td>0.022463</td>\n",
       "      <td>1.249619</td>\n",
       "      <td>1308480.0</td>\n",
       "      <td>39214.000</td>\n",
       "    </tr>\n",
       "  </tbody>\n",
       "</table>\n",
       "</div>"
      ],
      "text/plain": [
       "   \\rho(g/cm^3)  T_c(K)  T_f(K)  c_b(ppm)  3S_{tr1}(1)  3S_{tr2}(2)  \\\n",
       "0        0.7235   575.0  1027.0     600.0     0.661853     2.568298   \n",
       "1        0.7750   448.0  1043.0    1500.0     0.679602     2.874687   \n",
       "2        0.9125   370.5  1418.0     750.0     0.727336     3.668742   \n",
       "\n",
       "   \\Sigma_{a1}(3)  \\Sigma_{a2}(4)  nuS_{f1}(5)  nuS_{f2}(6)  \\Sigma_{f1}(7)  \\\n",
       "0        0.009376        0.085584     0.006677     0.133250        0.002620   \n",
       "1        0.009581        0.098339     0.006723     0.139256        0.002636   \n",
       "2        0.009908        0.102815     0.006844     0.153823        0.002681   \n",
       "\n",
       "   \\Sigma_{f2}(8)  \\Sigma_{1->2}(9)  k_{inf}(10)  \\sigma_{a2}^{Xe}  \\\n",
       "0        0.054750          0.017392     1.261041         1072970.0   \n",
       "1        0.057218          0.018726     1.174265         1141000.0   \n",
       "2        0.063203          0.022463     1.249619         1308480.0   \n",
       "\n",
       "   \\sigma_{a2}^{Sm}  \n",
       "0         35421.398  \n",
       "1         36147.801  \n",
       "2         39214.000  "
      ]
     },
     "execution_count": 2,
     "metadata": {},
     "output_type": "execute_result"
    }
   ],
   "source": [
    "df = pd.read_excel('Input/Data.xlsx')\n",
    "df.head(3)"
   ]
  },
  {
   "cell_type": "code",
   "execution_count": 3,
   "metadata": {},
   "outputs": [],
   "source": [
    "names = ['\\\\rho(g/cm^3)',\n",
    " 'T_c(K)',\n",
    " 'T_f(K)',\n",
    " 'c_b(ppm)',\n",
    " '\\Sigma_{a2}(4)']"
   ]
  },
  {
   "cell_type": "code",
   "execution_count": 4,
   "metadata": {},
   "outputs": [],
   "source": [
    "train_dataset = df[names].sample(frac=0.8,random_state=0)\n",
    "test_dataset = df[names].drop(train_dataset.index)"
   ]
  },
  {
   "cell_type": "code",
   "execution_count": 5,
   "metadata": {},
   "outputs": [
    {
     "data": {
      "text/html": [
       "<div>\n",
       "<style scoped>\n",
       "    .dataframe tbody tr th:only-of-type {\n",
       "        vertical-align: middle;\n",
       "    }\n",
       "\n",
       "    .dataframe tbody tr th {\n",
       "        vertical-align: top;\n",
       "    }\n",
       "\n",
       "    .dataframe thead th {\n",
       "        text-align: right;\n",
       "    }\n",
       "</style>\n",
       "<table border=\"1\" class=\"dataframe\">\n",
       "  <thead>\n",
       "    <tr style=\"text-align: right;\">\n",
       "      <th></th>\n",
       "      <th>\\rho(g/cm^3)</th>\n",
       "      <th>T_c(K)</th>\n",
       "      <th>T_f(K)</th>\n",
       "      <th>c_b(ppm)</th>\n",
       "      <th>\\Sigma_{a2}(4)</th>\n",
       "    </tr>\n",
       "  </thead>\n",
       "  <tbody>\n",
       "    <tr>\n",
       "      <th>158</th>\n",
       "      <td>0.798633</td>\n",
       "      <td>405.61719</td>\n",
       "      <td>486.35941</td>\n",
       "      <td>855.46881</td>\n",
       "      <td>0.097073</td>\n",
       "    </tr>\n",
       "    <tr>\n",
       "      <th>83</th>\n",
       "      <td>0.701953</td>\n",
       "      <td>561.82812</td>\n",
       "      <td>1664.09400</td>\n",
       "      <td>1195.31200</td>\n",
       "      <td>0.088498</td>\n",
       "    </tr>\n",
       "    <tr>\n",
       "      <th>170</th>\n",
       "      <td>1.047852</td>\n",
       "      <td>294.21091</td>\n",
       "      <td>1447.29700</td>\n",
       "      <td>1746.09400</td>\n",
       "      <td>0.123494</td>\n",
       "    </tr>\n",
       "  </tbody>\n",
       "</table>\n",
       "</div>"
      ],
      "text/plain": [
       "     \\rho(g/cm^3)     T_c(K)      T_f(K)    c_b(ppm)  \\Sigma_{a2}(4)\n",
       "158      0.798633  405.61719   486.35941   855.46881        0.097073\n",
       "83       0.701953  561.82812  1664.09400  1195.31200        0.088498\n",
       "170      1.047852  294.21091  1447.29700  1746.09400        0.123494"
      ]
     },
     "execution_count": 5,
     "metadata": {},
     "output_type": "execute_result"
    }
   ],
   "source": [
    "train_dataset.head(3)"
   ]
  },
  {
   "cell_type": "code",
   "execution_count": 6,
   "metadata": {
    "scrolled": true
   },
   "outputs": [
    {
     "data": {
      "text/html": [
       "<div>\n",
       "<style scoped>\n",
       "    .dataframe tbody tr th:only-of-type {\n",
       "        vertical-align: middle;\n",
       "    }\n",
       "\n",
       "    .dataframe tbody tr th {\n",
       "        vertical-align: top;\n",
       "    }\n",
       "\n",
       "    .dataframe thead th {\n",
       "        text-align: right;\n",
       "    }\n",
       "</style>\n",
       "<table border=\"1\" class=\"dataframe\">\n",
       "  <thead>\n",
       "    <tr style=\"text-align: right;\">\n",
       "      <th></th>\n",
       "      <th>\\rho(g/cm^3)</th>\n",
       "      <th>T_c(K)</th>\n",
       "      <th>T_f(K)</th>\n",
       "      <th>c_b(ppm)</th>\n",
       "      <th>\\Sigma_{a2}(4)</th>\n",
       "    </tr>\n",
       "  </thead>\n",
       "  <tbody>\n",
       "    <tr>\n",
       "      <th>9</th>\n",
       "      <td>0.878125</td>\n",
       "      <td>544.8750</td>\n",
       "      <td>1511.750</td>\n",
       "      <td>562.50</td>\n",
       "      <td>0.091930</td>\n",
       "    </tr>\n",
       "    <tr>\n",
       "      <th>21</th>\n",
       "      <td>1.032812</td>\n",
       "      <td>477.0625</td>\n",
       "      <td>1746.125</td>\n",
       "      <td>2343.75</td>\n",
       "      <td>0.117570</td>\n",
       "    </tr>\n",
       "    <tr>\n",
       "      <th>25</th>\n",
       "      <td>0.860937</td>\n",
       "      <td>496.4375</td>\n",
       "      <td>339.875</td>\n",
       "      <td>1031.25</td>\n",
       "      <td>0.097283</td>\n",
       "    </tr>\n",
       "  </tbody>\n",
       "</table>\n",
       "</div>"
      ],
      "text/plain": [
       "    \\rho(g/cm^3)    T_c(K)    T_f(K)  c_b(ppm)  \\Sigma_{a2}(4)\n",
       "9       0.878125  544.8750  1511.750    562.50        0.091930\n",
       "21      1.032812  477.0625  1746.125   2343.75        0.117570\n",
       "25      0.860937  496.4375   339.875   1031.25        0.097283"
      ]
     },
     "execution_count": 6,
     "metadata": {},
     "output_type": "execute_result"
    }
   ],
   "source": [
    "test_dataset.head(3)"
   ]
  },
  {
   "cell_type": "markdown",
   "metadata": {},
   "source": [
    "## 2. Визуализация данных"
   ]
  },
  {
   "cell_type": "markdown",
   "metadata": {},
   "source": [
    "### 2.1 Корреляционная матрица"
   ]
  },
  {
   "cell_type": "code",
   "execution_count": 7,
   "metadata": {
    "scrolled": false
   },
   "outputs": [
    {
     "data": {
      "text/plain": [
       "<AxesSubplot:>"
      ]
     },
     "execution_count": 7,
     "metadata": {},
     "output_type": "execute_result"
    },
    {
     "data": {
      "image/png": "[encoded data removed]",
      "text/plain": [
       "<Figure size 360x360 with 2 Axes>"
      ]
     },
     "metadata": {
      "needs_background": "light"
     },
     "output_type": "display_data"
    }
   ],
   "source": [
    "import matplotlib.pyplot as plt\n",
    "import seaborn as sns\n",
    "\n",
    "fig, ax = plt.subplots(figsize=(5,5)) # Sample figsize in inches\n",
    "sns.heatmap(train_dataset[names].corr(), annot = True, fmt='.2g')"
   ]
  },
  {
   "cell_type": "markdown",
   "metadata": {},
   "source": [
    "### 2.2 Диаграммы рассеяния"
   ]
  },
  {
   "cell_type": "code",
   "execution_count": 8,
   "metadata": {},
   "outputs": [
    {
     "data": {
      "image/png": "[encoded data removed]",
      "text/plain": [
       "<Figure size 432x288 with 1 Axes>"
      ]
     },
     "metadata": {},
     "output_type": "display_data"
    }
   ],
   "source": [
    "import seaborn as sns\n",
    "sns.set_theme(color_codes=True)\n",
    "\n",
    "ax = sns.regplot(x=df['\\\\rho(g/cm^3)'],\n",
    "                 y=\"\\Sigma_{a2}(4)\",\n",
    "                 data=df,\n",
    "                 scatter_kws={'s':7, \"color\": \"black\", 'alpha':0.5},\n",
    "                 line_kws={\"color\": \"red\"}, order = 2)"
   ]
  },
  {
   "cell_type": "code",
   "execution_count": 9,
   "metadata": {},
   "outputs": [
    {
     "data": {
      "image/png": "[encoded data removed]",
      "text/plain": [
       "<Figure size 432x288 with 1 Axes>"
      ]
     },
     "metadata": {},
     "output_type": "display_data"
    }
   ],
   "source": [
    "import seaborn as sns\n",
    "sns.set_theme(color_codes=True)\n",
    "\n",
    "ax = sns.regplot(x=df['T_c(K)'],\n",
    "                 y=\"\\Sigma_{a2}(4)\",\n",
    "                 data=df,\n",
    "                 scatter_kws={'s':7, \"color\": \"black\", 'alpha':0.5},\n",
    "                 line_kws={\"color\": \"red\"}, order = 2)"
   ]
  },
  {
   "cell_type": "code",
   "execution_count": 10,
   "metadata": {},
   "outputs": [
    {
     "data": {
      "image/png": "[encoded data removed]",
      "text/plain": [
       "<Figure size 432x288 with 1 Axes>"
      ]
     },
     "metadata": {},
     "output_type": "display_data"
    }
   ],
   "source": [
    "import seaborn as sns\n",
    "sns.set_theme(color_codes=True)\n",
    "\n",
    "ax = sns.regplot(x=df['T_f(K)'],\n",
    "                 y=\"\\Sigma_{a2}(4)\",\n",
    "                 data=df,\n",
    "                 scatter_kws={'s':7, \"color\": \"black\", 'alpha':0.5},\n",
    "                 line_kws={\"color\": \"red\"}, order = 1)"
   ]
  },
  {
   "cell_type": "code",
   "execution_count": 11,
   "metadata": {},
   "outputs": [
    {
     "data": {
      "image/png": "[encoded data removed]",
      "text/plain": [
       "<Figure size 432x288 with 1 Axes>"
      ]
     },
     "metadata": {},
     "output_type": "display_data"
    }
   ],
   "source": [
    "import seaborn as sns\n",
    "sns.set_theme(color_codes=True)\n",
    "\n",
    "ax = sns.regplot(x=df['c_b(ppm)'],\n",
    "                 y=\"\\Sigma_{a2}(4)\",\n",
    "                 data=df,\n",
    "                 scatter_kws={'s':7, \"color\": \"black\", 'alpha':0.5},\n",
    "                 line_kws={\"color\": \"red\"}, order = 1)"
   ]
  },
  {
   "cell_type": "markdown",
   "metadata": {},
   "source": [
    "## 3. Линейная регрессия"
   ]
  },
  {
   "cell_type": "code",
   "execution_count": 12,
   "metadata": {},
   "outputs": [
    {
     "data": {
      "text/html": [
       "<div>\n",
       "<style scoped>\n",
       "    .dataframe tbody tr th:only-of-type {\n",
       "        vertical-align: middle;\n",
       "    }\n",
       "\n",
       "    .dataframe tbody tr th {\n",
       "        vertical-align: top;\n",
       "    }\n",
       "\n",
       "    .dataframe thead th {\n",
       "        text-align: right;\n",
       "    }\n",
       "</style>\n",
       "<table border=\"1\" class=\"dataframe\">\n",
       "  <thead>\n",
       "    <tr style=\"text-align: right;\">\n",
       "      <th></th>\n",
       "      <th>const</th>\n",
       "      <th>\\rho(g/cm^3)</th>\n",
       "      <th>T_c(K)</th>\n",
       "      <th>T_f(K)</th>\n",
       "      <th>c_b(ppm)</th>\n",
       "    </tr>\n",
       "  </thead>\n",
       "  <tbody>\n",
       "    <tr>\n",
       "      <th>158</th>\n",
       "      <td>1.0</td>\n",
       "      <td>0.798633</td>\n",
       "      <td>405.61719</td>\n",
       "      <td>486.35941</td>\n",
       "      <td>855.46881</td>\n",
       "    </tr>\n",
       "    <tr>\n",
       "      <th>83</th>\n",
       "      <td>1.0</td>\n",
       "      <td>0.701953</td>\n",
       "      <td>561.82812</td>\n",
       "      <td>1664.09400</td>\n",
       "      <td>1195.31200</td>\n",
       "    </tr>\n",
       "    <tr>\n",
       "      <th>170</th>\n",
       "      <td>1.0</td>\n",
       "      <td>1.047852</td>\n",
       "      <td>294.21091</td>\n",
       "      <td>1447.29700</td>\n",
       "      <td>1746.09400</td>\n",
       "    </tr>\n",
       "  </tbody>\n",
       "</table>\n",
       "</div>"
      ],
      "text/plain": [
       "     const  \\rho(g/cm^3)     T_c(K)      T_f(K)    c_b(ppm)\n",
       "158    1.0      0.798633  405.61719   486.35941   855.46881\n",
       "83     1.0      0.701953  561.82812  1664.09400  1195.31200\n",
       "170    1.0      1.047852  294.21091  1447.29700  1746.09400"
      ]
     },
     "metadata": {},
     "output_type": "display_data"
    },
    {
     "data": {
      "text/html": [
       "<div>\n",
       "<style scoped>\n",
       "    .dataframe tbody tr th:only-of-type {\n",
       "        vertical-align: middle;\n",
       "    }\n",
       "\n",
       "    .dataframe tbody tr th {\n",
       "        vertical-align: top;\n",
       "    }\n",
       "\n",
       "    .dataframe thead th {\n",
       "        text-align: right;\n",
       "    }\n",
       "</style>\n",
       "<table border=\"1\" class=\"dataframe\">\n",
       "  <thead>\n",
       "    <tr style=\"text-align: right;\">\n",
       "      <th></th>\n",
       "      <th>const</th>\n",
       "      <th>\\rho(g/cm^3)</th>\n",
       "      <th>T_c(K)</th>\n",
       "      <th>T_f(K)</th>\n",
       "      <th>c_b(ppm)</th>\n",
       "    </tr>\n",
       "  </thead>\n",
       "  <tbody>\n",
       "    <tr>\n",
       "      <th>9</th>\n",
       "      <td>1.0</td>\n",
       "      <td>0.878125</td>\n",
       "      <td>544.8750</td>\n",
       "      <td>1511.750</td>\n",
       "      <td>562.50</td>\n",
       "    </tr>\n",
       "    <tr>\n",
       "      <th>21</th>\n",
       "      <td>1.0</td>\n",
       "      <td>1.032812</td>\n",
       "      <td>477.0625</td>\n",
       "      <td>1746.125</td>\n",
       "      <td>2343.75</td>\n",
       "    </tr>\n",
       "    <tr>\n",
       "      <th>25</th>\n",
       "      <td>1.0</td>\n",
       "      <td>0.860937</td>\n",
       "      <td>496.4375</td>\n",
       "      <td>339.875</td>\n",
       "      <td>1031.25</td>\n",
       "    </tr>\n",
       "  </tbody>\n",
       "</table>\n",
       "</div>"
      ],
      "text/plain": [
       "    const  \\rho(g/cm^3)    T_c(K)    T_f(K)  c_b(ppm)\n",
       "9     1.0      0.878125  544.8750  1511.750    562.50\n",
       "21    1.0      1.032812  477.0625  1746.125   2343.75\n",
       "25    1.0      0.860937  496.4375   339.875   1031.25"
      ]
     },
     "metadata": {},
     "output_type": "display_data"
    }
   ],
   "source": [
    "import statsmodels.api as sm\n",
    "import statsmodels as statsmodels\n",
    "\n",
    "train_data = train_dataset[names[:-1]]\n",
    "train_data = sm.add_constant(train_data)\n",
    "\n",
    "test_data = test_dataset[names[:-1]]\n",
    "test_data = sm.add_constant(test_data)\n",
    "\n",
    "display(train_data.head(3))\n",
    "display(test_data.head(3))"
   ]
  },
  {
   "cell_type": "code",
   "execution_count": 13,
   "metadata": {},
   "outputs": [
    {
     "data": {
      "text/plain": [
       "158    0.097073\n",
       "83     0.088498\n",
       "170    0.123494\n",
       "Name: \\Sigma_{a2}(4), dtype: float64"
      ]
     },
     "metadata": {},
     "output_type": "display_data"
    },
    {
     "data": {
      "text/plain": [
       "9     0.091930\n",
       "21    0.117570\n",
       "25    0.097283\n",
       "Name: \\Sigma_{a2}(4), dtype: float64"
      ]
     },
     "metadata": {},
     "output_type": "display_data"
    }
   ],
   "source": [
    "train_labels = train_dataset['\\\\Sigma_{a2}(4)']\n",
    "display(train_labels.head(3))\n",
    "\n",
    "test_labels = test_dataset['\\\\Sigma_{a2}(4)']\n",
    "display(test_labels.head(3))"
   ]
  },
  {
   "cell_type": "code",
   "execution_count": 14,
   "metadata": {
    "scrolled": false
   },
   "outputs": [
    {
     "data": {
      "text/html": [
       "<table class=\"simpletable\">\n",
       "<caption>OLS Regression Results</caption>\n",
       "<tr>\n",
       "  <th>Dep. Variable:</th>     <td>\\Sigma_{a2}(4)</td>  <th>  R-squared:         </th> <td>   0.971</td> \n",
       "</tr>\n",
       "<tr>\n",
       "  <th>Model:</th>                   <td>OLS</td>       <th>  Adj. R-squared:    </th> <td>   0.970</td> \n",
       "</tr>\n",
       "<tr>\n",
       "  <th>Method:</th>             <td>Least Squares</td>  <th>  F-statistic:       </th> <td>   1679.</td> \n",
       "</tr>\n",
       "<tr>\n",
       "  <th>Date:</th>             <td>Mon, 01 Mar 2021</td> <th>  Prob (F-statistic):</th> <td>3.58e-153</td>\n",
       "</tr>\n",
       "<tr>\n",
       "  <th>Time:</th>                 <td>23:21:39</td>     <th>  Log-Likelihood:    </th> <td>  998.63</td> \n",
       "</tr>\n",
       "<tr>\n",
       "  <th>No. Observations:</th>      <td>   206</td>      <th>  AIC:               </th> <td>  -1987.</td> \n",
       "</tr>\n",
       "<tr>\n",
       "  <th>Df Residuals:</th>          <td>   201</td>      <th>  BIC:               </th> <td>  -1971.</td> \n",
       "</tr>\n",
       "<tr>\n",
       "  <th>Df Model:</th>              <td>     4</td>      <th>                     </th>     <td> </td>    \n",
       "</tr>\n",
       "<tr>\n",
       "  <th>Covariance Type:</th>      <td>nonrobust</td>    <th>                     </th>     <td> </td>    \n",
       "</tr>\n",
       "</table>\n",
       "<table class=\"simpletable\">\n",
       "<tr>\n",
       "        <td></td>          <th>coef</th>     <th>std err</th>      <th>t</th>      <th>P>|t|</th>  <th>[0.025</th>    <th>0.975]</th>  \n",
       "</tr>\n",
       "<tr>\n",
       "  <th>const</th>        <td>    0.0648</td> <td>    0.001</td> <td>   61.666</td> <td> 0.000</td> <td>    0.063</td> <td>    0.067</td>\n",
       "</tr>\n",
       "<tr>\n",
       "  <th>\\rho(g/cm^3)</th> <td>    0.0540</td> <td>    0.001</td> <td>   63.402</td> <td> 0.000</td> <td>    0.052</td> <td>    0.056</td>\n",
       "</tr>\n",
       "<tr>\n",
       "  <th>T_c(K)</th>       <td>-4.163e-05</td> <td> 1.48e-06</td> <td>  -28.071</td> <td> 0.000</td> <td>-4.46e-05</td> <td>-3.87e-05</td>\n",
       "</tr>\n",
       "<tr>\n",
       "  <th>T_f(K)</th>       <td>-1.947e-07</td> <td> 3.16e-07</td> <td>   -0.615</td> <td> 0.539</td> <td>-8.19e-07</td> <td> 4.29e-07</td>\n",
       "</tr>\n",
       "<tr>\n",
       "  <th>c_b(ppm)</th>     <td> 6.735e-06</td> <td> 1.55e-07</td> <td>   43.486</td> <td> 0.000</td> <td> 6.43e-06</td> <td> 7.04e-06</td>\n",
       "</tr>\n",
       "</table>\n",
       "<table class=\"simpletable\">\n",
       "<tr>\n",
       "  <th>Omnibus:</th>       <td>17.557</td> <th>  Durbin-Watson:     </th> <td>   2.048</td>\n",
       "</tr>\n",
       "<tr>\n",
       "  <th>Prob(Omnibus):</th> <td> 0.000</td> <th>  Jarque-Bera (JB):  </th> <td>  22.877</td>\n",
       "</tr>\n",
       "<tr>\n",
       "  <th>Skew:</th>          <td>-0.577</td> <th>  Prob(JB):          </th> <td>1.08e-05</td>\n",
       "</tr>\n",
       "<tr>\n",
       "  <th>Kurtosis:</th>      <td> 4.154</td> <th>  Cond. No.          </th> <td>1.85e+04</td>\n",
       "</tr>\n",
       "</table><br/><br/>Notes:<br/>[1] Standard Errors assume that the covariance matrix of the errors is correctly specified.<br/>[2] The condition number is large, 1.85e+04. This might indicate that there are<br/>strong multicollinearity or other numerical problems."
      ],
      "text/plain": [
       "<class 'statsmodels.iolib.summary.Summary'>\n",
       "\"\"\"\n",
       "                            OLS Regression Results                            \n",
       "==============================================================================\n",
       "Dep. Variable:         \\Sigma_{a2}(4)   R-squared:                       0.971\n",
       "Model:                            OLS   Adj. R-squared:                  0.970\n",
       "Method:                 Least Squares   F-statistic:                     1679.\n",
       "Date:                Mon, 01 Mar 2021   Prob (F-statistic):          3.58e-153\n",
       "Time:                        23:21:39   Log-Likelihood:                 998.63\n",
       "No. Observations:                 206   AIC:                            -1987.\n",
       "Df Residuals:                     201   BIC:                            -1971.\n",
       "Df Model:                           4                                         \n",
       "Covariance Type:            nonrobust                                         \n",
       "================================================================================\n",
       "                   coef    std err          t      P>|t|      [0.025      0.975]\n",
       "--------------------------------------------------------------------------------\n",
       "const            0.0648      0.001     61.666      0.000       0.063       0.067\n",
       "\\rho(g/cm^3)     0.0540      0.001     63.402      0.000       0.052       0.056\n",
       "T_c(K)       -4.163e-05   1.48e-06    -28.071      0.000   -4.46e-05   -3.87e-05\n",
       "T_f(K)       -1.947e-07   3.16e-07     -0.615      0.539   -8.19e-07    4.29e-07\n",
       "c_b(ppm)      6.735e-06   1.55e-07     43.486      0.000    6.43e-06    7.04e-06\n",
       "==============================================================================\n",
       "Omnibus:                       17.557   Durbin-Watson:                   2.048\n",
       "Prob(Omnibus):                  0.000   Jarque-Bera (JB):               22.877\n",
       "Skew:                          -0.577   Prob(JB):                     1.08e-05\n",
       "Kurtosis:                       4.154   Cond. No.                     1.85e+04\n",
       "==============================================================================\n",
       "\n",
       "Notes:\n",
       "[1] Standard Errors assume that the covariance matrix of the errors is correctly specified.\n",
       "[2] The condition number is large, 1.85e+04. This might indicate that there are\n",
       "strong multicollinearity or other numerical problems.\n",
       "\"\"\""
      ]
     },
     "execution_count": 14,
     "metadata": {},
     "output_type": "execute_result"
    }
   ],
   "source": [
    "model = sm.OLS(train_labels, train_data)\n",
    "\n",
    "fit = model.fit()\n",
    "g = fit.summary()\n",
    "g"
   ]
  },
  {
   "cell_type": "code",
   "execution_count": 15,
   "metadata": {
    "scrolled": true
   },
   "outputs": [
    {
     "data": {
      "text/plain": [
       "const           1.531535e-132\n",
       "\\rho(g/cm^3)    7.570263e-135\n",
       "T_c(K)           1.796122e-71\n",
       "T_f(K)           5.392236e-01\n",
       "c_b(ppm)        3.352529e-104\n",
       "dtype: float64"
      ]
     },
     "execution_count": 15,
     "metadata": {},
     "output_type": "execute_result"
    }
   ],
   "source": [
    "g = fit.pvalues\n",
    "g"
   ]
  },
  {
   "cell_type": "markdown",
   "metadata": {},
   "source": [
    "T_f(K) - не значим на 10-ом % урвоне значимости"
   ]
  },
  {
   "cell_type": "code",
   "execution_count": 16,
   "metadata": {},
   "outputs": [],
   "source": [
    "features = ['\\\\rho(g/cm^3)', 'T_c(K)', 'c_b(ppm)']"
   ]
  },
  {
   "cell_type": "code",
   "execution_count": 17,
   "metadata": {},
   "outputs": [
    {
     "data": {
      "text/html": [
       "<div>\n",
       "<style scoped>\n",
       "    .dataframe tbody tr th:only-of-type {\n",
       "        vertical-align: middle;\n",
       "    }\n",
       "\n",
       "    .dataframe tbody tr th {\n",
       "        vertical-align: top;\n",
       "    }\n",
       "\n",
       "    .dataframe thead th {\n",
       "        text-align: right;\n",
       "    }\n",
       "</style>\n",
       "<table border=\"1\" class=\"dataframe\">\n",
       "  <thead>\n",
       "    <tr style=\"text-align: right;\">\n",
       "      <th></th>\n",
       "      <th>const</th>\n",
       "      <th>\\rho(g/cm^3)</th>\n",
       "      <th>T_c(K)</th>\n",
       "      <th>c_b(ppm)</th>\n",
       "    </tr>\n",
       "  </thead>\n",
       "  <tbody>\n",
       "    <tr>\n",
       "      <th>158</th>\n",
       "      <td>1.0</td>\n",
       "      <td>0.798633</td>\n",
       "      <td>405.61719</td>\n",
       "      <td>855.46881</td>\n",
       "    </tr>\n",
       "    <tr>\n",
       "      <th>83</th>\n",
       "      <td>1.0</td>\n",
       "      <td>0.701953</td>\n",
       "      <td>561.82812</td>\n",
       "      <td>1195.31200</td>\n",
       "    </tr>\n",
       "    <tr>\n",
       "      <th>170</th>\n",
       "      <td>1.0</td>\n",
       "      <td>1.047852</td>\n",
       "      <td>294.21091</td>\n",
       "      <td>1746.09400</td>\n",
       "    </tr>\n",
       "  </tbody>\n",
       "</table>\n",
       "</div>"
      ],
      "text/plain": [
       "     const  \\rho(g/cm^3)     T_c(K)    c_b(ppm)\n",
       "158    1.0      0.798633  405.61719   855.46881\n",
       "83     1.0      0.701953  561.82812  1195.31200\n",
       "170    1.0      1.047852  294.21091  1746.09400"
      ]
     },
     "execution_count": 17,
     "metadata": {},
     "output_type": "execute_result"
    }
   ],
   "source": [
    "train_data = train_dataset[features]\n",
    "train_data = sm.add_constant(train_data)\n",
    "\n",
    "train_data.head(3)"
   ]
  },
  {
   "cell_type": "code",
   "execution_count": 18,
   "metadata": {
    "scrolled": false
   },
   "outputs": [
    {
     "data": {
      "text/html": [
       "<table class=\"simpletable\">\n",
       "<caption>OLS Regression Results</caption>\n",
       "<tr>\n",
       "  <th>Dep. Variable:</th>     <td>\\Sigma_{a2}(4)</td>  <th>  R-squared:         </th> <td>   0.971</td> \n",
       "</tr>\n",
       "<tr>\n",
       "  <th>Model:</th>                   <td>OLS</td>       <th>  Adj. R-squared:    </th> <td>   0.970</td> \n",
       "</tr>\n",
       "<tr>\n",
       "  <th>Method:</th>             <td>Least Squares</td>  <th>  F-statistic:       </th> <td>   2245.</td> \n",
       "</tr>\n",
       "<tr>\n",
       "  <th>Date:</th>             <td>Mon, 01 Mar 2021</td> <th>  Prob (F-statistic):</th> <td>8.39e-155</td>\n",
       "</tr>\n",
       "<tr>\n",
       "  <th>Time:</th>                 <td>23:21:39</td>     <th>  Log-Likelihood:    </th> <td>  998.43</td> \n",
       "</tr>\n",
       "<tr>\n",
       "  <th>No. Observations:</th>      <td>   206</td>      <th>  AIC:               </th> <td>  -1989.</td> \n",
       "</tr>\n",
       "<tr>\n",
       "  <th>Df Residuals:</th>          <td>   202</td>      <th>  BIC:               </th> <td>  -1976.</td> \n",
       "</tr>\n",
       "<tr>\n",
       "  <th>Df Model:</th>              <td>     3</td>      <th>                     </th>     <td> </td>    \n",
       "</tr>\n",
       "<tr>\n",
       "  <th>Covariance Type:</th>      <td>nonrobust</td>    <th>                     </th>     <td> </td>    \n",
       "</tr>\n",
       "</table>\n",
       "<table class=\"simpletable\">\n",
       "<tr>\n",
       "        <td></td>          <th>coef</th>     <th>std err</th>      <th>t</th>      <th>P>|t|</th>  <th>[0.025</th>    <th>0.975]</th>  \n",
       "</tr>\n",
       "<tr>\n",
       "  <th>const</th>        <td>    0.0647</td> <td>    0.001</td> <td>   64.310</td> <td> 0.000</td> <td>    0.063</td> <td>    0.067</td>\n",
       "</tr>\n",
       "<tr>\n",
       "  <th>\\rho(g/cm^3)</th> <td>    0.0540</td> <td>    0.001</td> <td>   63.502</td> <td> 0.000</td> <td>    0.052</td> <td>    0.056</td>\n",
       "</tr>\n",
       "<tr>\n",
       "  <th>T_c(K)</th>       <td>-4.164e-05</td> <td> 1.48e-06</td> <td>  -28.128</td> <td> 0.000</td> <td>-4.46e-05</td> <td>-3.87e-05</td>\n",
       "</tr>\n",
       "<tr>\n",
       "  <th>c_b(ppm)</th>     <td> 6.734e-06</td> <td> 1.55e-07</td> <td>   43.549</td> <td> 0.000</td> <td> 6.43e-06</td> <td> 7.04e-06</td>\n",
       "</tr>\n",
       "</table>\n",
       "<table class=\"simpletable\">\n",
       "<tr>\n",
       "  <th>Omnibus:</th>       <td>17.051</td> <th>  Durbin-Watson:     </th> <td>   2.047</td>\n",
       "</tr>\n",
       "<tr>\n",
       "  <th>Prob(Omnibus):</th> <td> 0.000</td> <th>  Jarque-Bera (JB):  </th> <td>  22.267</td>\n",
       "</tr>\n",
       "<tr>\n",
       "  <th>Skew:</th>          <td>-0.562</td> <th>  Prob(JB):          </th> <td>1.46e-05</td>\n",
       "</tr>\n",
       "<tr>\n",
       "  <th>Kurtosis:</th>      <td> 4.154</td> <th>  Cond. No.          </th> <td>1.58e+04</td>\n",
       "</tr>\n",
       "</table><br/><br/>Notes:<br/>[1] Standard Errors assume that the covariance matrix of the errors is correctly specified.<br/>[2] The condition number is large, 1.58e+04. This might indicate that there are<br/>strong multicollinearity or other numerical problems."
      ],
      "text/plain": [
       "<class 'statsmodels.iolib.summary.Summary'>\n",
       "\"\"\"\n",
       "                            OLS Regression Results                            \n",
       "==============================================================================\n",
       "Dep. Variable:         \\Sigma_{a2}(4)   R-squared:                       0.971\n",
       "Model:                            OLS   Adj. R-squared:                  0.970\n",
       "Method:                 Least Squares   F-statistic:                     2245.\n",
       "Date:                Mon, 01 Mar 2021   Prob (F-statistic):          8.39e-155\n",
       "Time:                        23:21:39   Log-Likelihood:                 998.43\n",
       "No. Observations:                 206   AIC:                            -1989.\n",
       "Df Residuals:                     202   BIC:                            -1976.\n",
       "Df Model:                           3                                         \n",
       "Covariance Type:            nonrobust                                         \n",
       "================================================================================\n",
       "                   coef    std err          t      P>|t|      [0.025      0.975]\n",
       "--------------------------------------------------------------------------------\n",
       "const            0.0647      0.001     64.310      0.000       0.063       0.067\n",
       "\\rho(g/cm^3)     0.0540      0.001     63.502      0.000       0.052       0.056\n",
       "T_c(K)       -4.164e-05   1.48e-06    -28.128      0.000   -4.46e-05   -3.87e-05\n",
       "c_b(ppm)      6.734e-06   1.55e-07     43.549      0.000    6.43e-06    7.04e-06\n",
       "==============================================================================\n",
       "Omnibus:                       17.051   Durbin-Watson:                   2.047\n",
       "Prob(Omnibus):                  0.000   Jarque-Bera (JB):               22.267\n",
       "Skew:                          -0.562   Prob(JB):                     1.46e-05\n",
       "Kurtosis:                       4.154   Cond. No.                     1.58e+04\n",
       "==============================================================================\n",
       "\n",
       "Notes:\n",
       "[1] Standard Errors assume that the covariance matrix of the errors is correctly specified.\n",
       "[2] The condition number is large, 1.58e+04. This might indicate that there are\n",
       "strong multicollinearity or other numerical problems.\n",
       "\"\"\""
      ]
     },
     "execution_count": 18,
     "metadata": {},
     "output_type": "execute_result"
    }
   ],
   "source": [
    "model = sm.OLS(train_labels, train_data)\n",
    "\n",
    "fit = model.fit()\n",
    "g = fit.summary()\n",
    "g"
   ]
  },
  {
   "cell_type": "code",
   "execution_count": 19,
   "metadata": {},
   "outputs": [
    {
     "data": {
      "text/plain": [
       "const           1.722241e-136\n",
       "\\rho(g/cm^3)    1.962805e-135\n",
       "T_c(K)           8.678308e-72\n",
       "c_b(ppm)        1.251020e-104\n",
       "dtype: float64"
      ]
     },
     "execution_count": 19,
     "metadata": {},
     "output_type": "execute_result"
    }
   ],
   "source": [
    "p = fit.pvalues\n",
    "p"
   ]
  },
  {
   "cell_type": "markdown",
   "metadata": {},
   "source": [
    "Все регрессоры значимы на 1-ом уровне значимости %."
   ]
  },
  {
   "cell_type": "code",
   "execution_count": 20,
   "metadata": {},
   "outputs": [
    {
     "data": {
      "text/plain": [
       "158    0.096658\n",
       "83     0.087220\n",
       "170    0.120754\n",
       "101    0.116554\n",
       "150    0.120150\n",
       "         ...   \n",
       "151    0.088743\n",
       "202    0.122456\n",
       "31     0.077949\n",
       "209    0.104405\n",
       "127    0.078853\n",
       "Length: 206, dtype: float64"
      ]
     },
     "execution_count": 20,
     "metadata": {},
     "output_type": "execute_result"
    }
   ],
   "source": [
    "ypred = fit.predict(train_data)\n",
    "ypred"
   ]
  },
  {
   "cell_type": "code",
   "execution_count": 21,
   "metadata": {
    "scrolled": false
   },
   "outputs": [
    {
     "data": {
      "text/plain": [
       "158    0.097073\n",
       "83     0.088498\n",
       "170    0.123494\n",
       "101    0.118627\n",
       "150    0.123561\n",
       "         ...   \n",
       "151    0.088855\n",
       "202    0.126619\n",
       "31     0.079524\n",
       "209    0.105022\n",
       "127    0.079581\n",
       "Name: \\Sigma_{a2}(4), Length: 206, dtype: float64"
      ]
     },
     "execution_count": 21,
     "metadata": {},
     "output_type": "execute_result"
    }
   ],
   "source": [
    "train_labels"
   ]
  },
  {
   "cell_type": "markdown",
   "metadata": {},
   "source": [
    "Mean squared error"
   ]
  },
  {
   "cell_type": "markdown",
   "metadata": {},
   "source": [
    "\\begin{align*}\n",
    "\\text{MSE} = \\frac{1}{N} \\text{RSS} = \\frac{1}{N} \\sum (f_i -y_i)^2\n",
    "\\end{align*}"
   ]
  },
  {
   "cell_type": "code",
   "execution_count": 22,
   "metadata": {},
   "outputs": [
    {
     "data": {
      "text/plain": [
       "3.611481567630849e-06"
      ]
     },
     "execution_count": 22,
     "metadata": {},
     "output_type": "execute_result"
    }
   ],
   "source": [
    "MSE = statsmodels.tools.eval_measures.mse(train_labels, ypred)\n",
    "MSE"
   ]
  },
  {
   "cell_type": "markdown",
   "metadata": {},
   "source": [
    "Root mean squared error"
   ]
  },
  {
   "cell_type": "markdown",
   "metadata": {},
   "source": [
    "\\begin{align*}\n",
    "\\sigma = \\sqrt{MSE}\n",
    "\\end{align*}"
   ]
  },
  {
   "cell_type": "code",
   "execution_count": 23,
   "metadata": {},
   "outputs": [
    {
     "data": {
      "text/plain": [
       "0.0019003898462238871"
      ]
     },
     "execution_count": 23,
     "metadata": {},
     "output_type": "execute_result"
    }
   ],
   "source": [
    "RMSE = statsmodels.tools.eval_measures.rmse(train_labels, ypred)\n",
    "RMSE"
   ]
  },
  {
   "cell_type": "markdown",
   "metadata": {},
   "source": [
    "Root Mean Squared Percentage Error"
   ]
  },
  {
   "cell_type": "code",
   "execution_count": 24,
   "metadata": {},
   "outputs": [
    {
     "data": {
      "text/plain": [
       "0.2019302004214711"
      ]
     },
     "execution_count": 24,
     "metadata": {},
     "output_type": "execute_result"
    }
   ],
   "source": [
    "RMSPE = statsmodels.tools.eval_measures.rmspe(train_labels, ypred)\n",
    "RMSPE"
   ]
  },
  {
   "cell_type": "code",
   "execution_count": 25,
   "metadata": {},
   "outputs": [
    {
     "data": {
      "text/plain": [
       "158    0.097073\n",
       "83     0.088498\n",
       "170    0.123494\n",
       "101    0.118627\n",
       "150    0.123561\n",
       "         ...   \n",
       "151    0.088855\n",
       "202    0.126619\n",
       "31     0.079524\n",
       "209    0.105022\n",
       "127    0.079581\n",
       "Name: \\Sigma_{a2}(4), Length: 206, dtype: float64"
      ]
     },
     "execution_count": 25,
     "metadata": {},
     "output_type": "execute_result"
    }
   ],
   "source": [
    "train_labels"
   ]
  },
  {
   "cell_type": "code",
   "execution_count": 26,
   "metadata": {},
   "outputs": [
    {
     "data": {
      "text/plain": [
       "158    0.096658\n",
       "83     0.087220\n",
       "170    0.120754\n",
       "101    0.116554\n",
       "150    0.120150\n",
       "         ...   \n",
       "151    0.088743\n",
       "202    0.122456\n",
       "31     0.077949\n",
       "209    0.104405\n",
       "127    0.078853\n",
       "Length: 206, dtype: float64"
      ]
     },
     "execution_count": 26,
     "metadata": {},
     "output_type": "execute_result"
    }
   ],
   "source": [
    "ypred"
   ]
  },
  {
   "cell_type": "markdown",
   "metadata": {},
   "source": [
    "Root Mean Squared Percentage Error for test data"
   ]
  },
  {
   "cell_type": "code",
   "execution_count": 27,
   "metadata": {},
   "outputs": [
    {
     "data": {
      "text/plain": [
       "0.178229042661628"
      ]
     },
     "execution_count": 27,
     "metadata": {},
     "output_type": "execute_result"
    }
   ],
   "source": [
    "test_data = test_dataset[features]\n",
    "test_data = sm.add_constant(test_data)\n",
    "ypred = fit.predict(test_data)\n",
    "\n",
    "RMSPE = statsmodels.tools.eval_measures.rmspe(test_labels, ypred)\n",
    "RMSPE"
   ]
  },
  {
   "cell_type": "markdown",
   "metadata": {},
   "source": [
    "## 4. Deep learning"
   ]
  },
  {
   "cell_type": "markdown",
   "metadata": {},
   "source": [
    "### 4.1 Нормализация признаков"
   ]
  },
  {
   "cell_type": "code",
   "execution_count": 28,
   "metadata": {},
   "outputs": [],
   "source": [
    "features = ['\\\\rho(g/cm^3)',\n",
    " 'T_c(K)',\n",
    " 'T_f(K)',\n",
    " 'c_b(ppm)']"
   ]
  },
  {
   "cell_type": "code",
   "execution_count": 29,
   "metadata": {},
   "outputs": [
    {
     "data": {
      "text/html": [
       "<div>\n",
       "<style scoped>\n",
       "    .dataframe tbody tr th:only-of-type {\n",
       "        vertical-align: middle;\n",
       "    }\n",
       "\n",
       "    .dataframe tbody tr th {\n",
       "        vertical-align: top;\n",
       "    }\n",
       "\n",
       "    .dataframe thead th {\n",
       "        text-align: right;\n",
       "    }\n",
       "</style>\n",
       "<table border=\"1\" class=\"dataframe\">\n",
       "  <thead>\n",
       "    <tr style=\"text-align: right;\">\n",
       "      <th></th>\n",
       "      <th>\\rho(g/cm^3)</th>\n",
       "      <th>T_c(K)</th>\n",
       "      <th>T_f(K)</th>\n",
       "      <th>c_b(ppm)</th>\n",
       "    </tr>\n",
       "  </thead>\n",
       "  <tbody>\n",
       "    <tr>\n",
       "      <th>count</th>\n",
       "      <td>257.000000</td>\n",
       "      <td>257.000000</td>\n",
       "      <td>257.000000</td>\n",
       "      <td>257.000000</td>\n",
       "    </tr>\n",
       "    <tr>\n",
       "      <th>mean</th>\n",
       "      <td>0.773742</td>\n",
       "      <td>448.491808</td>\n",
       "      <td>1043.838306</td>\n",
       "      <td>1493.967349</td>\n",
       "    </tr>\n",
       "    <tr>\n",
       "      <th>std</th>\n",
       "      <td>0.158780</td>\n",
       "      <td>89.316810</td>\n",
       "      <td>430.718000</td>\n",
       "      <td>863.720860</td>\n",
       "    </tr>\n",
       "    <tr>\n",
       "      <th>min</th>\n",
       "      <td>0.502148</td>\n",
       "      <td>294.210910</td>\n",
       "      <td>298.859410</td>\n",
       "      <td>11.718750</td>\n",
       "    </tr>\n",
       "    <tr>\n",
       "      <th>25%</th>\n",
       "      <td>0.637500</td>\n",
       "      <td>371.710910</td>\n",
       "      <td>673.859380</td>\n",
       "      <td>750.000000</td>\n",
       "    </tr>\n",
       "    <tr>\n",
       "      <th>50%</th>\n",
       "      <td>0.772852</td>\n",
       "      <td>448.000000</td>\n",
       "      <td>1043.000000</td>\n",
       "      <td>1488.281000</td>\n",
       "    </tr>\n",
       "    <tr>\n",
       "      <th>75%</th>\n",
       "      <td>0.910352</td>\n",
       "      <td>525.500000</td>\n",
       "      <td>1412.141000</td>\n",
       "      <td>2238.281000</td>\n",
       "    </tr>\n",
       "    <tr>\n",
       "      <th>max</th>\n",
       "      <td>1.047852</td>\n",
       "      <td>601.789120</td>\n",
       "      <td>1787.141000</td>\n",
       "      <td>2988.281000</td>\n",
       "    </tr>\n",
       "  </tbody>\n",
       "</table>\n",
       "</div>"
      ],
      "text/plain": [
       "       \\rho(g/cm^3)      T_c(K)       T_f(K)     c_b(ppm)\n",
       "count    257.000000  257.000000   257.000000   257.000000\n",
       "mean       0.773742  448.491808  1043.838306  1493.967349\n",
       "std        0.158780   89.316810   430.718000   863.720860\n",
       "min        0.502148  294.210910   298.859410    11.718750\n",
       "25%        0.637500  371.710910   673.859380   750.000000\n",
       "50%        0.772852  448.000000  1043.000000  1488.281000\n",
       "75%        0.910352  525.500000  1412.141000  2238.281000\n",
       "max        1.047852  601.789120  1787.141000  2988.281000"
      ]
     },
     "execution_count": 29,
     "metadata": {},
     "output_type": "execute_result"
    }
   ],
   "source": [
    "df[features].describe()"
   ]
  },
  {
   "cell_type": "code",
   "execution_count": 30,
   "metadata": {},
   "outputs": [],
   "source": [
    "df_features_norm = df.copy()\n",
    "\n",
    "for i in range(len(features)):\n",
    "    df_features_norm[features[i]] = (df[features[i]]-df[features[i]].mean())/df[features[i]].std()"
   ]
  },
  {
   "cell_type": "code",
   "execution_count": 31,
   "metadata": {},
   "outputs": [
    {
     "data": {
      "text/html": [
       "<div>\n",
       "<style scoped>\n",
       "    .dataframe tbody tr th:only-of-type {\n",
       "        vertical-align: middle;\n",
       "    }\n",
       "\n",
       "    .dataframe tbody tr th {\n",
       "        vertical-align: top;\n",
       "    }\n",
       "\n",
       "    .dataframe thead th {\n",
       "        text-align: right;\n",
       "    }\n",
       "</style>\n",
       "<table border=\"1\" class=\"dataframe\">\n",
       "  <thead>\n",
       "    <tr style=\"text-align: right;\">\n",
       "      <th></th>\n",
       "      <th>\\rho(g/cm^3)</th>\n",
       "      <th>T_c(K)</th>\n",
       "      <th>T_f(K)</th>\n",
       "      <th>c_b(ppm)</th>\n",
       "    </tr>\n",
       "  </thead>\n",
       "  <tbody>\n",
       "    <tr>\n",
       "      <th>count</th>\n",
       "      <td>2.570000e+02</td>\n",
       "      <td>2.570000e+02</td>\n",
       "      <td>2.570000e+02</td>\n",
       "      <td>2.570000e+02</td>\n",
       "    </tr>\n",
       "    <tr>\n",
       "      <th>mean</th>\n",
       "      <td>-3.697863e-16</td>\n",
       "      <td>6.013348e-16</td>\n",
       "      <td>7.257489e-17</td>\n",
       "      <td>-3.512106e-16</td>\n",
       "    </tr>\n",
       "    <tr>\n",
       "      <th>std</th>\n",
       "      <td>1.000000e+00</td>\n",
       "      <td>1.000000e+00</td>\n",
       "      <td>1.000000e+00</td>\n",
       "      <td>1.000000e+00</td>\n",
       "    </tr>\n",
       "    <tr>\n",
       "      <th>min</th>\n",
       "      <td>-1.710507e+00</td>\n",
       "      <td>-1.727344e+00</td>\n",
       "      <td>-1.729621e+00</td>\n",
       "      <td>-1.716120e+00</td>\n",
       "    </tr>\n",
       "    <tr>\n",
       "      <th>25%</th>\n",
       "      <td>-8.580575e-01</td>\n",
       "      <td>-8.596467e-01</td>\n",
       "      <td>-8.589818e-01</td>\n",
       "      <td>-8.613516e-01</td>\n",
       "    </tr>\n",
       "    <tr>\n",
       "      <th>50%</th>\n",
       "      <td>-5.608782e-03</td>\n",
       "      <td>-5.506328e-03</td>\n",
       "      <td>-1.946298e-03</td>\n",
       "      <td>-6.583549e-03</td>\n",
       "    </tr>\n",
       "    <tr>\n",
       "      <th>75%</th>\n",
       "      <td>8.603710e-01</td>\n",
       "      <td>8.621915e-01</td>\n",
       "      <td>8.550901e-01</td>\n",
       "      <td>8.617525e-01</td>\n",
       "    </tr>\n",
       "    <tr>\n",
       "      <th>max</th>\n",
       "      <td>1.726354e+00</td>\n",
       "      <td>1.716332e+00</td>\n",
       "      <td>1.725729e+00</td>\n",
       "      <td>1.730089e+00</td>\n",
       "    </tr>\n",
       "  </tbody>\n",
       "</table>\n",
       "</div>"
      ],
      "text/plain": [
       "       \\rho(g/cm^3)        T_c(K)        T_f(K)      c_b(ppm)\n",
       "count  2.570000e+02  2.570000e+02  2.570000e+02  2.570000e+02\n",
       "mean  -3.697863e-16  6.013348e-16  7.257489e-17 -3.512106e-16\n",
       "std    1.000000e+00  1.000000e+00  1.000000e+00  1.000000e+00\n",
       "min   -1.710507e+00 -1.727344e+00 -1.729621e+00 -1.716120e+00\n",
       "25%   -8.580575e-01 -8.596467e-01 -8.589818e-01 -8.613516e-01\n",
       "50%   -5.608782e-03 -5.506328e-03 -1.946298e-03 -6.583549e-03\n",
       "75%    8.603710e-01  8.621915e-01  8.550901e-01  8.617525e-01\n",
       "max    1.726354e+00  1.716332e+00  1.725729e+00  1.730089e+00"
      ]
     },
     "execution_count": 31,
     "metadata": {},
     "output_type": "execute_result"
    }
   ],
   "source": [
    "df_features_norm[features].describe()"
   ]
  },
  {
   "cell_type": "markdown",
   "metadata": {},
   "source": [
    "### 4.2 Нейросетевые модели"
   ]
  },
  {
   "cell_type": "markdown",
   "metadata": {},
   "source": [
    "### 4.2.1 Подготовка к моделированию"
   ]
  },
  {
   "cell_type": "code",
   "execution_count": 32,
   "metadata": {},
   "outputs": [
    {
     "data": {
      "text/plain": [
       "['\\\\rho(g/cm^3)', 'T_c(K)', 'T_f(K)', 'c_b(ppm)', '\\\\Sigma_{a2}(4)']"
      ]
     },
     "execution_count": 32,
     "metadata": {},
     "output_type": "execute_result"
    }
   ],
   "source": [
    "names"
   ]
  },
  {
   "cell_type": "code",
   "execution_count": 33,
   "metadata": {},
   "outputs": [
    {
     "data": {
      "text/html": [
       "<div>\n",
       "<style scoped>\n",
       "    .dataframe tbody tr th:only-of-type {\n",
       "        vertical-align: middle;\n",
       "    }\n",
       "\n",
       "    .dataframe tbody tr th {\n",
       "        vertical-align: top;\n",
       "    }\n",
       "\n",
       "    .dataframe thead th {\n",
       "        text-align: right;\n",
       "    }\n",
       "</style>\n",
       "<table border=\"1\" class=\"dataframe\">\n",
       "  <thead>\n",
       "    <tr style=\"text-align: right;\">\n",
       "      <th></th>\n",
       "      <th>\\rho(g/cm^3)</th>\n",
       "      <th>T_c(K)</th>\n",
       "      <th>T_f(K)</th>\n",
       "      <th>c_b(ppm)</th>\n",
       "      <th>\\Sigma_{a2}(4)</th>\n",
       "    </tr>\n",
       "  </thead>\n",
       "  <tbody>\n",
       "    <tr>\n",
       "      <th>0</th>\n",
       "      <td>-0.316426</td>\n",
       "      <td>1.416398</td>\n",
       "      <td>-0.039094</td>\n",
       "      <td>-1.035019</td>\n",
       "      <td>0.085584</td>\n",
       "    </tr>\n",
       "    <tr>\n",
       "      <th>1</th>\n",
       "      <td>0.007922</td>\n",
       "      <td>-0.005506</td>\n",
       "      <td>-0.001946</td>\n",
       "      <td>0.006984</td>\n",
       "      <td>0.098339</td>\n",
       "    </tr>\n",
       "    <tr>\n",
       "      <th>2</th>\n",
       "      <td>0.873902</td>\n",
       "      <td>-0.873204</td>\n",
       "      <td>0.868693</td>\n",
       "      <td>-0.861352</td>\n",
       "      <td>0.102815</td>\n",
       "    </tr>\n",
       "  </tbody>\n",
       "</table>\n",
       "</div>"
      ],
      "text/plain": [
       "   \\rho(g/cm^3)    T_c(K)    T_f(K)  c_b(ppm)  \\Sigma_{a2}(4)\n",
       "0     -0.316426  1.416398 -0.039094 -1.035019        0.085584\n",
       "1      0.007922 -0.005506 -0.001946  0.006984        0.098339\n",
       "2      0.873902 -0.873204  0.868693 -0.861352        0.102815"
      ]
     },
     "execution_count": 33,
     "metadata": {},
     "output_type": "execute_result"
    }
   ],
   "source": [
    "df_features_norm = df_features_norm[names]\n",
    "df_features_norm.head(3)"
   ]
  },
  {
   "cell_type": "code",
   "execution_count": 34,
   "metadata": {},
   "outputs": [
    {
     "data": {
      "text/html": [
       "<div>\n",
       "<style scoped>\n",
       "    .dataframe tbody tr th:only-of-type {\n",
       "        vertical-align: middle;\n",
       "    }\n",
       "\n",
       "    .dataframe tbody tr th {\n",
       "        vertical-align: top;\n",
       "    }\n",
       "\n",
       "    .dataframe thead th {\n",
       "        text-align: right;\n",
       "    }\n",
       "</style>\n",
       "<table border=\"1\" class=\"dataframe\">\n",
       "  <thead>\n",
       "    <tr style=\"text-align: right;\">\n",
       "      <th></th>\n",
       "      <th>\\rho(g/cm^3)</th>\n",
       "      <th>T_c(K)</th>\n",
       "      <th>T_f(K)</th>\n",
       "      <th>c_b(ppm)</th>\n",
       "      <th>\\Sigma_{a2}(4)</th>\n",
       "    </tr>\n",
       "  </thead>\n",
       "  <tbody>\n",
       "    <tr>\n",
       "      <th>count</th>\n",
       "      <td>2.570000e+02</td>\n",
       "      <td>2.570000e+02</td>\n",
       "      <td>2.570000e+02</td>\n",
       "      <td>2.570000e+02</td>\n",
       "      <td>257.000000</td>\n",
       "    </tr>\n",
       "    <tr>\n",
       "      <th>mean</th>\n",
       "      <td>-3.697863e-16</td>\n",
       "      <td>6.013348e-16</td>\n",
       "      <td>7.257489e-17</td>\n",
       "      <td>-3.512106e-16</td>\n",
       "      <td>0.097856</td>\n",
       "    </tr>\n",
       "    <tr>\n",
       "      <th>std</th>\n",
       "      <td>1.000000e+00</td>\n",
       "      <td>1.000000e+00</td>\n",
       "      <td>1.000000e+00</td>\n",
       "      <td>1.000000e+00</td>\n",
       "      <td>0.011233</td>\n",
       "    </tr>\n",
       "    <tr>\n",
       "      <th>min</th>\n",
       "      <td>-1.710507e+00</td>\n",
       "      <td>-1.727344e+00</td>\n",
       "      <td>-1.729621e+00</td>\n",
       "      <td>-1.716120e+00</td>\n",
       "      <td>0.076091</td>\n",
       "    </tr>\n",
       "    <tr>\n",
       "      <th>25%</th>\n",
       "      <td>-8.580575e-01</td>\n",
       "      <td>-8.596467e-01</td>\n",
       "      <td>-8.589818e-01</td>\n",
       "      <td>-8.613516e-01</td>\n",
       "      <td>0.089572</td>\n",
       "    </tr>\n",
       "    <tr>\n",
       "      <th>50%</th>\n",
       "      <td>-5.608782e-03</td>\n",
       "      <td>-5.506328e-03</td>\n",
       "      <td>-1.946298e-03</td>\n",
       "      <td>-6.583549e-03</td>\n",
       "      <td>0.097073</td>\n",
       "    </tr>\n",
       "    <tr>\n",
       "      <th>75%</th>\n",
       "      <td>8.603710e-01</td>\n",
       "      <td>8.621915e-01</td>\n",
       "      <td>8.550901e-01</td>\n",
       "      <td>8.617525e-01</td>\n",
       "      <td>0.105296</td>\n",
       "    </tr>\n",
       "    <tr>\n",
       "      <th>max</th>\n",
       "      <td>1.726354e+00</td>\n",
       "      <td>1.716332e+00</td>\n",
       "      <td>1.725729e+00</td>\n",
       "      <td>1.730089e+00</td>\n",
       "      <td>0.130769</td>\n",
       "    </tr>\n",
       "  </tbody>\n",
       "</table>\n",
       "</div>"
      ],
      "text/plain": [
       "       \\rho(g/cm^3)        T_c(K)        T_f(K)      c_b(ppm)  \\Sigma_{a2}(4)\n",
       "count  2.570000e+02  2.570000e+02  2.570000e+02  2.570000e+02      257.000000\n",
       "mean  -3.697863e-16  6.013348e-16  7.257489e-17 -3.512106e-16        0.097856\n",
       "std    1.000000e+00  1.000000e+00  1.000000e+00  1.000000e+00        0.011233\n",
       "min   -1.710507e+00 -1.727344e+00 -1.729621e+00 -1.716120e+00        0.076091\n",
       "25%   -8.580575e-01 -8.596467e-01 -8.589818e-01 -8.613516e-01        0.089572\n",
       "50%   -5.608782e-03 -5.506328e-03 -1.946298e-03 -6.583549e-03        0.097073\n",
       "75%    8.603710e-01  8.621915e-01  8.550901e-01  8.617525e-01        0.105296\n",
       "max    1.726354e+00  1.716332e+00  1.725729e+00  1.730089e+00        0.130769"
      ]
     },
     "execution_count": 34,
     "metadata": {},
     "output_type": "execute_result"
    }
   ],
   "source": [
    "df_features_norm.describe()"
   ]
  },
  {
   "cell_type": "code",
   "execution_count": 35,
   "metadata": {},
   "outputs": [
    {
     "data": {
      "text/plain": [
       "['\\\\rho(g/cm^3)', 'T_c(K)', 'T_f(K)', 'c_b(ppm)']"
      ]
     },
     "execution_count": 35,
     "metadata": {},
     "output_type": "execute_result"
    }
   ],
   "source": [
    "features"
   ]
  },
  {
   "cell_type": "code",
   "execution_count": 36,
   "metadata": {
    "scrolled": false
   },
   "outputs": [
    {
     "data": {
      "text/html": [
       "<div>\n",
       "<style scoped>\n",
       "    .dataframe tbody tr th:only-of-type {\n",
       "        vertical-align: middle;\n",
       "    }\n",
       "\n",
       "    .dataframe tbody tr th {\n",
       "        vertical-align: top;\n",
       "    }\n",
       "\n",
       "    .dataframe thead th {\n",
       "        text-align: right;\n",
       "    }\n",
       "</style>\n",
       "<table border=\"1\" class=\"dataframe\">\n",
       "  <thead>\n",
       "    <tr style=\"text-align: right;\">\n",
       "      <th></th>\n",
       "      <th>\\rho(g/cm^3)</th>\n",
       "      <th>T_c(K)</th>\n",
       "      <th>T_f(K)</th>\n",
       "      <th>c_b(ppm)</th>\n",
       "    </tr>\n",
       "  </thead>\n",
       "  <tbody>\n",
       "    <tr>\n",
       "      <th>0</th>\n",
       "      <td>-0.316426</td>\n",
       "      <td>1.416398</td>\n",
       "      <td>-0.039094</td>\n",
       "      <td>-1.035019</td>\n",
       "    </tr>\n",
       "    <tr>\n",
       "      <th>1</th>\n",
       "      <td>0.007922</td>\n",
       "      <td>-0.005506</td>\n",
       "      <td>-0.001946</td>\n",
       "      <td>0.006984</td>\n",
       "    </tr>\n",
       "    <tr>\n",
       "      <th>2</th>\n",
       "      <td>0.873902</td>\n",
       "      <td>-0.873204</td>\n",
       "      <td>0.868693</td>\n",
       "      <td>-0.861352</td>\n",
       "    </tr>\n",
       "  </tbody>\n",
       "</table>\n",
       "</div>"
      ],
      "text/plain": [
       "   \\rho(g/cm^3)    T_c(K)    T_f(K)  c_b(ppm)\n",
       "0     -0.316426  1.416398 -0.039094 -1.035019\n",
       "1      0.007922 -0.005506 -0.001946  0.006984\n",
       "2      0.873902 -0.873204  0.868693 -0.861352"
      ]
     },
     "execution_count": 36,
     "metadata": {},
     "output_type": "execute_result"
    }
   ],
   "source": [
    "df_features_norm[features].head(3)"
   ]
  },
  {
   "cell_type": "markdown",
   "metadata": {},
   "source": [
    "Разделим данные на обучающую и тестовую выборки"
   ]
  },
  {
   "cell_type": "code",
   "execution_count": 37,
   "metadata": {},
   "outputs": [],
   "source": [
    "train_dataset = df_features_norm.sample(frac=0.8,random_state=0)\n",
    "test_dataset = df_features_norm.drop(train_dataset.index)"
   ]
  },
  {
   "cell_type": "code",
   "execution_count": 38,
   "metadata": {},
   "outputs": [
    {
     "data": {
      "text/html": [
       "<div>\n",
       "<style scoped>\n",
       "    .dataframe tbody tr th:only-of-type {\n",
       "        vertical-align: middle;\n",
       "    }\n",
       "\n",
       "    .dataframe tbody tr th {\n",
       "        vertical-align: top;\n",
       "    }\n",
       "\n",
       "    .dataframe thead th {\n",
       "        text-align: right;\n",
       "    }\n",
       "</style>\n",
       "<table border=\"1\" class=\"dataframe\">\n",
       "  <thead>\n",
       "    <tr style=\"text-align: right;\">\n",
       "      <th></th>\n",
       "      <th>\\rho(g/cm^3)</th>\n",
       "      <th>T_c(K)</th>\n",
       "      <th>T_f(K)</th>\n",
       "      <th>c_b(ppm)</th>\n",
       "      <th>\\Sigma_{a2}(4)</th>\n",
       "    </tr>\n",
       "  </thead>\n",
       "  <tbody>\n",
       "    <tr>\n",
       "      <th>158</th>\n",
       "      <td>0.156763</td>\n",
       "      <td>-0.480029</td>\n",
       "      <td>-1.294301</td>\n",
       "      <td>-0.739242</td>\n",
       "      <td>0.097073</td>\n",
       "    </tr>\n",
       "    <tr>\n",
       "      <th>83</th>\n",
       "      <td>-0.452130</td>\n",
       "      <td>1.268925</td>\n",
       "      <td>1.440051</td>\n",
       "      <td>-0.345778</td>\n",
       "      <td>0.088498</td>\n",
       "    </tr>\n",
       "    <tr>\n",
       "      <th>170</th>\n",
       "      <td>1.726354</td>\n",
       "      <td>-1.727344</td>\n",
       "      <td>0.936712</td>\n",
       "      <td>0.291908</td>\n",
       "      <td>0.123494</td>\n",
       "    </tr>\n",
       "  </tbody>\n",
       "</table>\n",
       "</div>"
      ],
      "text/plain": [
       "     \\rho(g/cm^3)    T_c(K)    T_f(K)  c_b(ppm)  \\Sigma_{a2}(4)\n",
       "158      0.156763 -0.480029 -1.294301 -0.739242        0.097073\n",
       "83      -0.452130  1.268925  1.440051 -0.345778        0.088498\n",
       "170      1.726354 -1.727344  0.936712  0.291908        0.123494"
      ]
     },
     "execution_count": 38,
     "metadata": {},
     "output_type": "execute_result"
    }
   ],
   "source": [
    "train_dataset.head(3)"
   ]
  },
  {
   "cell_type": "code",
   "execution_count": 39,
   "metadata": {
    "scrolled": true
   },
   "outputs": [
    {
     "data": {
      "text/html": [
       "<div>\n",
       "<style scoped>\n",
       "    .dataframe tbody tr th:only-of-type {\n",
       "        vertical-align: middle;\n",
       "    }\n",
       "\n",
       "    .dataframe tbody tr th {\n",
       "        vertical-align: top;\n",
       "    }\n",
       "\n",
       "    .dataframe thead th {\n",
       "        text-align: right;\n",
       "    }\n",
       "</style>\n",
       "<table border=\"1\" class=\"dataframe\">\n",
       "  <thead>\n",
       "    <tr style=\"text-align: right;\">\n",
       "      <th></th>\n",
       "      <th>\\rho(g/cm^3)</th>\n",
       "      <th>T_c(K)</th>\n",
       "      <th>T_f(K)</th>\n",
       "      <th>c_b(ppm)</th>\n",
       "      <th>\\Sigma_{a2}(4)</th>\n",
       "    </tr>\n",
       "  </thead>\n",
       "  <tbody>\n",
       "    <tr>\n",
       "      <th>9</th>\n",
       "      <td>0.657407</td>\n",
       "      <td>1.079116</td>\n",
       "      <td>1.086353</td>\n",
       "      <td>-1.078436</td>\n",
       "      <td>0.091930</td>\n",
       "    </tr>\n",
       "    <tr>\n",
       "      <th>21</th>\n",
       "      <td>1.631631</td>\n",
       "      <td>0.319880</td>\n",
       "      <td>1.630502</td>\n",
       "      <td>0.983863</td>\n",
       "      <td>0.117570</td>\n",
       "    </tr>\n",
       "    <tr>\n",
       "      <th>25</th>\n",
       "      <td>0.549160</td>\n",
       "      <td>0.536805</td>\n",
       "      <td>-1.634395</td>\n",
       "      <td>-0.535726</td>\n",
       "      <td>0.097283</td>\n",
       "    </tr>\n",
       "  </tbody>\n",
       "</table>\n",
       "</div>"
      ],
      "text/plain": [
       "    \\rho(g/cm^3)    T_c(K)    T_f(K)  c_b(ppm)  \\Sigma_{a2}(4)\n",
       "9       0.657407  1.079116  1.086353 -1.078436        0.091930\n",
       "21      1.631631  0.319880  1.630502  0.983863        0.117570\n",
       "25      0.549160  0.536805 -1.634395 -0.535726        0.097283"
      ]
     },
     "execution_count": 39,
     "metadata": {},
     "output_type": "execute_result"
    }
   ],
   "source": [
    "test_dataset.head(3)"
   ]
  },
  {
   "cell_type": "markdown",
   "metadata": {},
   "source": [
    "Отделим признаки от меток"
   ]
  },
  {
   "cell_type": "code",
   "execution_count": 40,
   "metadata": {},
   "outputs": [],
   "source": [
    "train_labels = train_dataset.pop('\\Sigma_{a2}(4)')\n",
    "test_labels = test_dataset.pop('\\Sigma_{a2}(4)')"
   ]
  },
  {
   "cell_type": "code",
   "execution_count": 41,
   "metadata": {},
   "outputs": [
    {
     "data": {
      "text/html": [
       "<div>\n",
       "<style scoped>\n",
       "    .dataframe tbody tr th:only-of-type {\n",
       "        vertical-align: middle;\n",
       "    }\n",
       "\n",
       "    .dataframe tbody tr th {\n",
       "        vertical-align: top;\n",
       "    }\n",
       "\n",
       "    .dataframe thead th {\n",
       "        text-align: right;\n",
       "    }\n",
       "</style>\n",
       "<table border=\"1\" class=\"dataframe\">\n",
       "  <thead>\n",
       "    <tr style=\"text-align: right;\">\n",
       "      <th></th>\n",
       "      <th>\\rho(g/cm^3)</th>\n",
       "      <th>T_c(K)</th>\n",
       "      <th>T_f(K)</th>\n",
       "      <th>c_b(ppm)</th>\n",
       "    </tr>\n",
       "  </thead>\n",
       "  <tbody>\n",
       "    <tr>\n",
       "      <th>158</th>\n",
       "      <td>0.156763</td>\n",
       "      <td>-0.480029</td>\n",
       "      <td>-1.294301</td>\n",
       "      <td>-0.739242</td>\n",
       "    </tr>\n",
       "    <tr>\n",
       "      <th>83</th>\n",
       "      <td>-0.452130</td>\n",
       "      <td>1.268925</td>\n",
       "      <td>1.440051</td>\n",
       "      <td>-0.345778</td>\n",
       "    </tr>\n",
       "  </tbody>\n",
       "</table>\n",
       "</div>"
      ],
      "text/plain": [
       "     \\rho(g/cm^3)    T_c(K)    T_f(K)  c_b(ppm)\n",
       "158      0.156763 -0.480029 -1.294301 -0.739242\n",
       "83      -0.452130  1.268925  1.440051 -0.345778"
      ]
     },
     "execution_count": 41,
     "metadata": {},
     "output_type": "execute_result"
    }
   ],
   "source": [
    "train_dataset.head(2)"
   ]
  },
  {
   "cell_type": "code",
   "execution_count": 42,
   "metadata": {},
   "outputs": [
    {
     "data": {
      "text/plain": [
       "158    0.097073\n",
       "83     0.088498\n",
       "Name: \\Sigma_{a2}(4), dtype: float64"
      ]
     },
     "execution_count": 42,
     "metadata": {},
     "output_type": "execute_result"
    }
   ],
   "source": [
    "train_labels.head(2)"
   ]
  },
  {
   "cell_type": "markdown",
   "metadata": {},
   "source": [
    "Модель"
   ]
  },
  {
   "cell_type": "code",
   "execution_count": 43,
   "metadata": {},
   "outputs": [],
   "source": [
    "import tensorflow as tf\n",
    "\n",
    "from tensorflow import keras\n",
    "from tensorflow.keras import layers\n",
    "\n",
    "def build_model(learning_rate, rho, activation):\n",
    "    model = keras.Sequential([\n",
    "        layers.Dense(4, activation=activation, input_shape=[len(train_dataset.keys())]),\n",
    "        layers.Dense(2, activation=activation),\n",
    "        layers.Dense(1)\n",
    "    ])\n",
    "    \n",
    "    optimizer = tf.keras.optimizers.RMSprop(learning_rate = learning_rate, rho = rho)\n",
    "    model.compile(loss='mse',\n",
    "                  optimizer=optimizer,\n",
    "                  metrics=['mae', 'mse'])\n",
    "    return model"
   ]
  },
  {
   "cell_type": "code",
   "execution_count": 44,
   "metadata": {},
   "outputs": [],
   "source": [
    "# Выведем прогресс обучения в виде точек после каждой завершенной эпохи\n",
    "class PrintDot(keras.callbacks.Callback):\n",
    "    def on_epoch_end(self, epoch, logs):\n",
    "        if epoch % 100 == 0:\n",
    "            print('')\n",
    "        print('.', end='')"
   ]
  },
  {
   "cell_type": "code",
   "execution_count": 45,
   "metadata": {},
   "outputs": [
    {
     "name": "stdout",
     "output_type": "stream",
     "text": [
      "Model: \"sequential\"\n",
      "_________________________________________________________________\n",
      "Layer (type)                 Output Shape              Param #   \n",
      "=================================================================\n",
      "dense (Dense)                (None, 4)                 20        \n",
      "_________________________________________________________________\n",
      "dense_1 (Dense)              (None, 2)                 10        \n",
      "_________________________________________________________________\n",
      "dense_2 (Dense)              (None, 1)                 3         \n",
      "=================================================================\n",
      "Total params: 33\n",
      "Trainable params: 33\n",
      "Non-trainable params: 0\n",
      "_________________________________________________________________\n"
     ]
    }
   ],
   "source": [
    "learning_rate = 0.001\n",
    "rho = 0.99\n",
    "activation = 'tanh'\n",
    "model = build_model(learning_rate, rho, activation)\n",
    "\n",
    "model.summary()"
   ]
  },
  {
   "cell_type": "code",
   "execution_count": 46,
   "metadata": {},
   "outputs": [],
   "source": [
    "normed_train_data = train_dataset"
   ]
  },
  {
   "cell_type": "code",
   "execution_count": 47,
   "metadata": {},
   "outputs": [
    {
     "data": {
      "text/html": [
       "<div>\n",
       "<style scoped>\n",
       "    .dataframe tbody tr th:only-of-type {\n",
       "        vertical-align: middle;\n",
       "    }\n",
       "\n",
       "    .dataframe tbody tr th {\n",
       "        vertical-align: top;\n",
       "    }\n",
       "\n",
       "    .dataframe thead th {\n",
       "        text-align: right;\n",
       "    }\n",
       "</style>\n",
       "<table border=\"1\" class=\"dataframe\">\n",
       "  <thead>\n",
       "    <tr style=\"text-align: right;\">\n",
       "      <th></th>\n",
       "      <th>\\rho(g/cm^3)</th>\n",
       "      <th>T_c(K)</th>\n",
       "      <th>T_f(K)</th>\n",
       "      <th>c_b(ppm)</th>\n",
       "    </tr>\n",
       "  </thead>\n",
       "  <tbody>\n",
       "    <tr>\n",
       "      <th>158</th>\n",
       "      <td>0.156763</td>\n",
       "      <td>-0.480029</td>\n",
       "      <td>-1.294301</td>\n",
       "      <td>-0.739242</td>\n",
       "    </tr>\n",
       "    <tr>\n",
       "      <th>83</th>\n",
       "      <td>-0.452130</td>\n",
       "      <td>1.268925</td>\n",
       "      <td>1.440051</td>\n",
       "      <td>-0.345778</td>\n",
       "    </tr>\n",
       "    <tr>\n",
       "      <th>170</th>\n",
       "      <td>1.726354</td>\n",
       "      <td>-1.727344</td>\n",
       "      <td>0.936712</td>\n",
       "      <td>0.291908</td>\n",
       "    </tr>\n",
       "  </tbody>\n",
       "</table>\n",
       "</div>"
      ],
      "text/plain": [
       "     \\rho(g/cm^3)    T_c(K)    T_f(K)  c_b(ppm)\n",
       "158      0.156763 -0.480029 -1.294301 -0.739242\n",
       "83      -0.452130  1.268925  1.440051 -0.345778\n",
       "170      1.726354 -1.727344  0.936712  0.291908"
      ]
     },
     "execution_count": 47,
     "metadata": {},
     "output_type": "execute_result"
    }
   ],
   "source": [
    "normed_train_data.head(3)"
   ]
  },
  {
   "cell_type": "code",
   "execution_count": 48,
   "metadata": {},
   "outputs": [
    {
     "data": {
      "text/plain": [
       "array([[-0.5439329 ],\n",
       "       [ 0.58422184],\n",
       "       [ 1.3466398 ],\n",
       "       [ 0.33631587],\n",
       "       [-0.12609017],\n",
       "       [ 1.3256698 ],\n",
       "       [-0.282296  ],\n",
       "       [ 1.484937  ],\n",
       "       [ 0.34475487],\n",
       "       [-1.4803574 ]], dtype=float32)"
      ]
     },
     "execution_count": 48,
     "metadata": {},
     "output_type": "execute_result"
    }
   ],
   "source": [
    "example_batch = normed_train_data[:10]\n",
    "example_result = model.predict(example_batch)\n",
    "example_result"
   ]
  },
  {
   "cell_type": "markdown",
   "metadata": {},
   "source": [
    "Обучение модели"
   ]
  },
  {
   "cell_type": "code",
   "execution_count": 49,
   "metadata": {
    "scrolled": false
   },
   "outputs": [
    {
     "name": "stdout",
     "output_type": "stream",
     "text": [
      "\n",
      "...................................................................................................."
     ]
    }
   ],
   "source": [
    "EPOCHS = 100\n",
    "\n",
    "history = model.fit(\n",
    "  normed_train_data, train_labels,\n",
    "  epochs=EPOCHS, validation_split = 0.2, verbose=0,\n",
    "  callbacks=[PrintDot()])"
   ]
  },
  {
   "cell_type": "markdown",
   "metadata": {},
   "source": [
    "Визуализируем процесс обучения модели используя статистику содержащуюся в объекте history"
   ]
  },
  {
   "cell_type": "code",
   "execution_count": 50,
   "metadata": {},
   "outputs": [
    {
     "data": {
      "text/html": [
       "<div>\n",
       "<style scoped>\n",
       "    .dataframe tbody tr th:only-of-type {\n",
       "        vertical-align: middle;\n",
       "    }\n",
       "\n",
       "    .dataframe tbody tr th {\n",
       "        vertical-align: top;\n",
       "    }\n",
       "\n",
       "    .dataframe thead th {\n",
       "        text-align: right;\n",
       "    }\n",
       "</style>\n",
       "<table border=\"1\" class=\"dataframe\">\n",
       "  <thead>\n",
       "    <tr style=\"text-align: right;\">\n",
       "      <th></th>\n",
       "      <th>loss</th>\n",
       "      <th>mae</th>\n",
       "      <th>mse</th>\n",
       "      <th>val_loss</th>\n",
       "      <th>val_mae</th>\n",
       "      <th>val_mse</th>\n",
       "      <th>epoch</th>\n",
       "    </tr>\n",
       "  </thead>\n",
       "  <tbody>\n",
       "    <tr>\n",
       "      <th>95</th>\n",
       "      <td>0.003173</td>\n",
       "      <td>0.044318</td>\n",
       "      <td>0.003173</td>\n",
       "      <td>0.003326</td>\n",
       "      <td>0.047081</td>\n",
       "      <td>0.003326</td>\n",
       "      <td>95</td>\n",
       "    </tr>\n",
       "    <tr>\n",
       "      <th>96</th>\n",
       "      <td>0.003105</td>\n",
       "      <td>0.043712</td>\n",
       "      <td>0.003105</td>\n",
       "      <td>0.003262</td>\n",
       "      <td>0.046515</td>\n",
       "      <td>0.003262</td>\n",
       "      <td>96</td>\n",
       "    </tr>\n",
       "    <tr>\n",
       "      <th>97</th>\n",
       "      <td>0.003028</td>\n",
       "      <td>0.043278</td>\n",
       "      <td>0.003028</td>\n",
       "      <td>0.003186</td>\n",
       "      <td>0.045917</td>\n",
       "      <td>0.003186</td>\n",
       "      <td>97</td>\n",
       "    </tr>\n",
       "    <tr>\n",
       "      <th>98</th>\n",
       "      <td>0.002976</td>\n",
       "      <td>0.042813</td>\n",
       "      <td>0.002976</td>\n",
       "      <td>0.003191</td>\n",
       "      <td>0.045794</td>\n",
       "      <td>0.003191</td>\n",
       "      <td>98</td>\n",
       "    </tr>\n",
       "    <tr>\n",
       "      <th>99</th>\n",
       "      <td>0.002968</td>\n",
       "      <td>0.042478</td>\n",
       "      <td>0.002968</td>\n",
       "      <td>0.003056</td>\n",
       "      <td>0.044900</td>\n",
       "      <td>0.003056</td>\n",
       "      <td>99</td>\n",
       "    </tr>\n",
       "  </tbody>\n",
       "</table>\n",
       "</div>"
      ],
      "text/plain": [
       "        loss       mae       mse  val_loss   val_mae   val_mse  epoch\n",
       "95  0.003173  0.044318  0.003173  0.003326  0.047081  0.003326     95\n",
       "96  0.003105  0.043712  0.003105  0.003262  0.046515  0.003262     96\n",
       "97  0.003028  0.043278  0.003028  0.003186  0.045917  0.003186     97\n",
       "98  0.002976  0.042813  0.002976  0.003191  0.045794  0.003191     98\n",
       "99  0.002968  0.042478  0.002968  0.003056  0.044900  0.003056     99"
      ]
     },
     "execution_count": 50,
     "metadata": {},
     "output_type": "execute_result"
    }
   ],
   "source": [
    "hist = pd.DataFrame(history.history)\n",
    "hist['epoch'] = history.epoch\n",
    "hist.tail()"
   ]
  },
  {
   "cell_type": "code",
   "execution_count": 51,
   "metadata": {
    "scrolled": false
   },
   "outputs": [
    {
     "data": {
      "image/png": "[encoded data removed]",
      "text/plain": [
       "<Figure size 432x288 with 1 Axes>"
      ]
     },
     "metadata": {},
     "output_type": "display_data"
    }
   ],
   "source": [
    "def plot_history(history, ymax):\n",
    "    hist = pd.DataFrame(history.history)\n",
    "    hist['epoch'] = history.epoch\n",
    "    plt.figure()\n",
    "    plt.xlabel('Epoch')\n",
    "    plt.ylabel('Mean Square Error')\n",
    "    plt.plot(hist['epoch'],\n",
    "             hist['mse'],\n",
    "             label='Train Error')\n",
    "    plt.plot(hist['epoch'],\n",
    "             hist['val_mse'],\n",
    "             label = 'Val Error')\n",
    "    plt.ylim([0,ymax])\n",
    "    plt.legend()\n",
    "    plt.show()\n",
    "\n",
    "plot_history(history, 0.003)"
   ]
  },
  {
   "cell_type": "code",
   "execution_count": 52,
   "metadata": {},
   "outputs": [
    {
     "data": {
      "text/plain": [
       "158    0.097073\n",
       "83     0.088498\n",
       "170    0.123494\n",
       "101    0.118627\n",
       "150    0.123561\n",
       "200    0.090989\n",
       "118    0.099974\n",
       "236    0.091473\n",
       "63     0.081892\n",
       "135    0.077149\n",
       "Name: \\Sigma_{a2}(4), dtype: float64"
      ]
     },
     "execution_count": 52,
     "metadata": {},
     "output_type": "execute_result"
    }
   ],
   "source": [
    "train_labels.head(10)"
   ]
  },
  {
   "cell_type": "code",
   "execution_count": 53,
   "metadata": {},
   "outputs": [
    {
     "data": {
      "text/plain": [
       "array([[0.12396696],\n",
       "       [0.08028042],\n",
       "       [0.08896825],\n",
       "       [0.15670437],\n",
       "       [0.06747562],\n",
       "       [0.16977525],\n",
       "       [0.08480844],\n",
       "       [0.0504564 ],\n",
       "       [0.12382734],\n",
       "       [0.08033644]], dtype=float32)"
      ]
     },
     "execution_count": 53,
     "metadata": {},
     "output_type": "execute_result"
    }
   ],
   "source": [
    "model.predict(normed_train_data)[0:10]"
   ]
  },
  {
   "cell_type": "markdown",
   "metadata": {},
   "source": [
    "### 4.2.2 Модель 1"
   ]
  },
  {
   "cell_type": "code",
   "execution_count": 54,
   "metadata": {},
   "outputs": [
    {
     "name": "stdout",
     "output_type": "stream",
     "text": [
      "Model: \"sequential_1\"\n",
      "_________________________________________________________________\n",
      "Layer (type)                 Output Shape              Param #   \n",
      "=================================================================\n",
      "dense_3 (Dense)              (None, 4)                 20        \n",
      "_________________________________________________________________\n",
      "dense_4 (Dense)              (None, 2)                 10        \n",
      "_________________________________________________________________\n",
      "dense_5 (Dense)              (None, 1)                 3         \n",
      "=================================================================\n",
      "Total params: 33\n",
      "Trainable params: 33\n",
      "Non-trainable params: 0\n",
      "_________________________________________________________________\n"
     ]
    }
   ],
   "source": [
    "# построение модели\n",
    "\n",
    "learning_rate = 0.001\n",
    "rho = 0.9\n",
    "activation = 'tanh'\n",
    "model = build_model(learning_rate, rho, activation)\n",
    "\n",
    "model.summary()"
   ]
  },
  {
   "cell_type": "code",
   "execution_count": 55,
   "metadata": {
    "scrolled": false
   },
   "outputs": [
    {
     "name": "stdout",
     "output_type": "stream",
     "text": [
      "\n",
      "....................................................................................................\n",
      "....................................................................................................\n",
      "...................................................................................................."
     ]
    }
   ],
   "source": [
    "# Обучение модели\n",
    "\n",
    "EPOCHS = 300\n",
    "\n",
    "history = model.fit(\n",
    "  normed_train_data, train_labels,\n",
    "  epochs=EPOCHS, validation_split = 0.2, verbose=0,\n",
    "  callbacks=[PrintDot()])"
   ]
  },
  {
   "cell_type": "code",
   "execution_count": 56,
   "metadata": {},
   "outputs": [
    {
     "data": {
      "text/html": [
       "<div>\n",
       "<style scoped>\n",
       "    .dataframe tbody tr th:only-of-type {\n",
       "        vertical-align: middle;\n",
       "    }\n",
       "\n",
       "    .dataframe tbody tr th {\n",
       "        vertical-align: top;\n",
       "    }\n",
       "\n",
       "    .dataframe thead th {\n",
       "        text-align: right;\n",
       "    }\n",
       "</style>\n",
       "<table border=\"1\" class=\"dataframe\">\n",
       "  <thead>\n",
       "    <tr style=\"text-align: right;\">\n",
       "      <th></th>\n",
       "      <th>loss</th>\n",
       "      <th>mae</th>\n",
       "      <th>mse</th>\n",
       "      <th>val_loss</th>\n",
       "      <th>val_mae</th>\n",
       "      <th>val_mse</th>\n",
       "      <th>epoch</th>\n",
       "    </tr>\n",
       "  </thead>\n",
       "  <tbody>\n",
       "    <tr>\n",
       "      <th>295</th>\n",
       "      <td>0.000017</td>\n",
       "      <td>0.002754</td>\n",
       "      <td>0.000017</td>\n",
       "      <td>0.000014</td>\n",
       "      <td>0.002681</td>\n",
       "      <td>0.000014</td>\n",
       "      <td>295</td>\n",
       "    </tr>\n",
       "    <tr>\n",
       "      <th>296</th>\n",
       "      <td>0.000006</td>\n",
       "      <td>0.001904</td>\n",
       "      <td>0.000006</td>\n",
       "      <td>0.000011</td>\n",
       "      <td>0.002518</td>\n",
       "      <td>0.000011</td>\n",
       "      <td>296</td>\n",
       "    </tr>\n",
       "    <tr>\n",
       "      <th>297</th>\n",
       "      <td>0.000010</td>\n",
       "      <td>0.002561</td>\n",
       "      <td>0.000010</td>\n",
       "      <td>0.000039</td>\n",
       "      <td>0.005170</td>\n",
       "      <td>0.000039</td>\n",
       "      <td>297</td>\n",
       "    </tr>\n",
       "    <tr>\n",
       "      <th>298</th>\n",
       "      <td>0.000022</td>\n",
       "      <td>0.003289</td>\n",
       "      <td>0.000022</td>\n",
       "      <td>0.000009</td>\n",
       "      <td>0.002312</td>\n",
       "      <td>0.000009</td>\n",
       "      <td>298</td>\n",
       "    </tr>\n",
       "    <tr>\n",
       "      <th>299</th>\n",
       "      <td>0.000004</td>\n",
       "      <td>0.001605</td>\n",
       "      <td>0.000004</td>\n",
       "      <td>0.000012</td>\n",
       "      <td>0.002907</td>\n",
       "      <td>0.000012</td>\n",
       "      <td>299</td>\n",
       "    </tr>\n",
       "  </tbody>\n",
       "</table>\n",
       "</div>"
      ],
      "text/plain": [
       "         loss       mae       mse  val_loss   val_mae   val_mse  epoch\n",
       "295  0.000017  0.002754  0.000017  0.000014  0.002681  0.000014    295\n",
       "296  0.000006  0.001904  0.000006  0.000011  0.002518  0.000011    296\n",
       "297  0.000010  0.002561  0.000010  0.000039  0.005170  0.000039    297\n",
       "298  0.000022  0.003289  0.000022  0.000009  0.002312  0.000009    298\n",
       "299  0.000004  0.001605  0.000004  0.000012  0.002907  0.000012    299"
      ]
     },
     "execution_count": 56,
     "metadata": {},
     "output_type": "execute_result"
    }
   ],
   "source": [
    "# История обучения\n",
    "\n",
    "hist = pd.DataFrame(history.history)\n",
    "hist['epoch'] = history.epoch\n",
    "hist.tail()"
   ]
  },
  {
   "cell_type": "code",
   "execution_count": 57,
   "metadata": {
    "scrolled": false
   },
   "outputs": [
    {
     "data": {
      "image/png": "[encoded data removed]",
      "text/plain": [
       "<Figure size 432x288 with 1 Axes>"
      ]
     },
     "metadata": {},
     "output_type": "display_data"
    }
   ],
   "source": [
    "# Отображение процесса обучения\n",
    "\n",
    "plot_history(history, 0.0003)"
   ]
  },
  {
   "cell_type": "code",
   "execution_count": 58,
   "metadata": {},
   "outputs": [
    {
     "data": {
      "text/plain": [
       "158    0.097073\n",
       "83     0.088498\n",
       "170    0.123494\n",
       "101    0.118627\n",
       "150    0.123561\n",
       "200    0.090989\n",
       "118    0.099974\n",
       "236    0.091473\n",
       "63     0.081892\n",
       "135    0.077149\n",
       "Name: \\Sigma_{a2}(4), dtype: float64"
      ]
     },
     "execution_count": 58,
     "metadata": {},
     "output_type": "execute_result"
    }
   ],
   "source": [
    "# Тренировочные данные\n",
    "\n",
    "train_labels.head(10)"
   ]
  },
  {
   "cell_type": "code",
   "execution_count": 59,
   "metadata": {
    "scrolled": true
   },
   "outputs": [
    {
     "data": {
      "text/plain": [
       "array([[0.09417678],\n",
       "       [0.09181713],\n",
       "       [0.12331807],\n",
       "       [0.11860157],\n",
       "       [0.12265438],\n",
       "       [0.09617434],\n",
       "       [0.10025285],\n",
       "       [0.09237865],\n",
       "       [0.08623238],\n",
       "       [0.07838306]], dtype=float32)"
      ]
     },
     "execution_count": 59,
     "metadata": {},
     "output_type": "execute_result"
    }
   ],
   "source": [
    "# Предсказанные данные\n",
    "\n",
    "model.predict(normed_train_data)[0:10]"
   ]
  },
  {
   "cell_type": "markdown",
   "metadata": {},
   "source": [
    "### 4.2.3 Модель 2"
   ]
  },
  {
   "cell_type": "code",
   "execution_count": 60,
   "metadata": {},
   "outputs": [],
   "source": [
    "def build_model_1_layer(learning_rate, rho, activation):\n",
    "    model = keras.Sequential([\n",
    "        layers.Dense(4, activation=activation, input_shape=[len(train_dataset.keys())]),\n",
    "        layers.Dense(1)\n",
    "    ])\n",
    "    \n",
    "    optimizer = tf.keras.optimizers.RMSprop(learning_rate = learning_rate, rho = rho)\n",
    "    model.compile(loss='mse',\n",
    "                  optimizer=optimizer,\n",
    "                  metrics=['mae', 'mse'])\n",
    "    return model"
   ]
  },
  {
   "cell_type": "code",
   "execution_count": 61,
   "metadata": {},
   "outputs": [
    {
     "name": "stdout",
     "output_type": "stream",
     "text": [
      "Model: \"sequential_2\"\n",
      "_________________________________________________________________\n",
      "Layer (type)                 Output Shape              Param #   \n",
      "=================================================================\n",
      "dense_6 (Dense)              (None, 4)                 20        \n",
      "_________________________________________________________________\n",
      "dense_7 (Dense)              (None, 1)                 5         \n",
      "=================================================================\n",
      "Total params: 25\n",
      "Trainable params: 25\n",
      "Non-trainable params: 0\n",
      "_________________________________________________________________\n"
     ]
    }
   ],
   "source": [
    "learning_rate = 0.0002\n",
    "rho = 0.95\n",
    "activation = 'tanh'\n",
    "model = build_model_1_layer(learning_rate, rho, activation)\n",
    "\n",
    "model.summary()"
   ]
  },
  {
   "cell_type": "code",
   "execution_count": 62,
   "metadata": {},
   "outputs": [
    {
     "name": "stdout",
     "output_type": "stream",
     "text": [
      "\n",
      "....................................................................................................\n",
      "....................................................................................................\n",
      "....................................................................................................\n",
      "....................................................................................................\n",
      "....................................................................................................\n",
      "....................................................................................................\n",
      "....................................................................................................\n",
      "....................................................................................................\n",
      "....................................................................................................\n",
      "....................................................................................................\n",
      "....................................................................................................\n",
      "...................................................................................................."
     ]
    }
   ],
   "source": [
    "# Обучение модели\n",
    "\n",
    "EPOCHS = 1200\n",
    "\n",
    "history = model.fit(\n",
    "  normed_train_data, train_labels,\n",
    "  epochs=EPOCHS, validation_split = 0.2, verbose=0,\n",
    "  callbacks=[PrintDot()])"
   ]
  },
  {
   "cell_type": "code",
   "execution_count": 63,
   "metadata": {},
   "outputs": [
    {
     "data": {
      "text/html": [
       "<div>\n",
       "<style scoped>\n",
       "    .dataframe tbody tr th:only-of-type {\n",
       "        vertical-align: middle;\n",
       "    }\n",
       "\n",
       "    .dataframe tbody tr th {\n",
       "        vertical-align: top;\n",
       "    }\n",
       "\n",
       "    .dataframe thead th {\n",
       "        text-align: right;\n",
       "    }\n",
       "</style>\n",
       "<table border=\"1\" class=\"dataframe\">\n",
       "  <thead>\n",
       "    <tr style=\"text-align: right;\">\n",
       "      <th></th>\n",
       "      <th>loss</th>\n",
       "      <th>mae</th>\n",
       "      <th>mse</th>\n",
       "      <th>val_loss</th>\n",
       "      <th>val_mae</th>\n",
       "      <th>val_mse</th>\n",
       "      <th>epoch</th>\n",
       "    </tr>\n",
       "  </thead>\n",
       "  <tbody>\n",
       "    <tr>\n",
       "      <th>1195</th>\n",
       "      <td>0.000014</td>\n",
       "      <td>0.002886</td>\n",
       "      <td>0.000014</td>\n",
       "      <td>0.000016</td>\n",
       "      <td>0.002637</td>\n",
       "      <td>0.000016</td>\n",
       "      <td>1195</td>\n",
       "    </tr>\n",
       "    <tr>\n",
       "      <th>1196</th>\n",
       "      <td>0.000013</td>\n",
       "      <td>0.002665</td>\n",
       "      <td>0.000013</td>\n",
       "      <td>0.000016</td>\n",
       "      <td>0.002802</td>\n",
       "      <td>0.000016</td>\n",
       "      <td>1196</td>\n",
       "    </tr>\n",
       "    <tr>\n",
       "      <th>1197</th>\n",
       "      <td>0.000013</td>\n",
       "      <td>0.002668</td>\n",
       "      <td>0.000013</td>\n",
       "      <td>0.000018</td>\n",
       "      <td>0.002929</td>\n",
       "      <td>0.000018</td>\n",
       "      <td>1197</td>\n",
       "    </tr>\n",
       "    <tr>\n",
       "      <th>1198</th>\n",
       "      <td>0.000014</td>\n",
       "      <td>0.002874</td>\n",
       "      <td>0.000014</td>\n",
       "      <td>0.000018</td>\n",
       "      <td>0.002839</td>\n",
       "      <td>0.000018</td>\n",
       "      <td>1198</td>\n",
       "    </tr>\n",
       "    <tr>\n",
       "      <th>1199</th>\n",
       "      <td>0.000013</td>\n",
       "      <td>0.002733</td>\n",
       "      <td>0.000013</td>\n",
       "      <td>0.000019</td>\n",
       "      <td>0.003111</td>\n",
       "      <td>0.000019</td>\n",
       "      <td>1199</td>\n",
       "    </tr>\n",
       "  </tbody>\n",
       "</table>\n",
       "</div>"
      ],
      "text/plain": [
       "          loss       mae       mse  val_loss   val_mae   val_mse  epoch\n",
       "1195  0.000014  0.002886  0.000014  0.000016  0.002637  0.000016   1195\n",
       "1196  0.000013  0.002665  0.000013  0.000016  0.002802  0.000016   1196\n",
       "1197  0.000013  0.002668  0.000013  0.000018  0.002929  0.000018   1197\n",
       "1198  0.000014  0.002874  0.000014  0.000018  0.002839  0.000018   1198\n",
       "1199  0.000013  0.002733  0.000013  0.000019  0.003111  0.000019   1199"
      ]
     },
     "execution_count": 63,
     "metadata": {},
     "output_type": "execute_result"
    }
   ],
   "source": [
    "# История обучения\n",
    "\n",
    "hist = pd.DataFrame(history.history)\n",
    "hist['epoch'] = history.epoch\n",
    "hist.tail()"
   ]
  },
  {
   "cell_type": "code",
   "execution_count": 64,
   "metadata": {},
   "outputs": [
    {
     "data": {
      "image/png": "[encoded data removed]",
      "text/plain": [
       "<Figure size 432x288 with 1 Axes>"
      ]
     },
     "metadata": {},
     "output_type": "display_data"
    }
   ],
   "source": [
    "# Отображение процесса обучения\n",
    "\n",
    "plot_history(history, 0.00003)"
   ]
  },
  {
   "cell_type": "code",
   "execution_count": 65,
   "metadata": {},
   "outputs": [
    {
     "data": {
      "text/plain": [
       "158    0.097073\n",
       "83     0.088498\n",
       "170    0.123494\n",
       "101    0.118627\n",
       "150    0.123561\n",
       "200    0.090989\n",
       "118    0.099974\n",
       "236    0.091473\n",
       "63     0.081892\n",
       "135    0.077149\n",
       "Name: \\Sigma_{a2}(4), dtype: float64"
      ]
     },
     "execution_count": 65,
     "metadata": {},
     "output_type": "execute_result"
    }
   ],
   "source": [
    "# Тренировочные данные\n",
    "\n",
    "train_labels.head(10)"
   ]
  },
  {
   "cell_type": "code",
   "execution_count": 66,
   "metadata": {},
   "outputs": [
    {
     "data": {
      "text/plain": [
       "array([[0.09610785],\n",
       "       [0.08385845],\n",
       "       [0.11560649],\n",
       "       [0.11112881],\n",
       "       [0.1171229 ],\n",
       "       [0.09176464],\n",
       "       [0.09949834],\n",
       "       [0.08817894],\n",
       "       [0.09000183],\n",
       "       [0.0844223 ]], dtype=float32)"
      ]
     },
     "execution_count": 66,
     "metadata": {},
     "output_type": "execute_result"
    }
   ],
   "source": [
    "# Предсказанные данные\n",
    "\n",
    "model.predict(normed_train_data)[0:10]"
   ]
  },
  {
   "cell_type": "markdown",
   "metadata": {},
   "source": [
    "### 4.2.4 Модель 3"
   ]
  },
  {
   "cell_type": "code",
   "execution_count": 67,
   "metadata": {},
   "outputs": [],
   "source": [
    "def build_model_0_layer(learning_rate, rho, activation):\n",
    "    model = keras.Sequential([\n",
    "        layers.Dense(1, activation=activation, input_shape=[len(train_dataset.keys())])\n",
    "    ])\n",
    "    \n",
    "    optimizer = tf.keras.optimizers.RMSprop(learning_rate = learning_rate, rho = rho)\n",
    "    model.compile(loss='mse',\n",
    "                  optimizer=optimizer,\n",
    "                  metrics=['mae', 'mse'])\n",
    "    return model"
   ]
  },
  {
   "cell_type": "code",
   "execution_count": 68,
   "metadata": {},
   "outputs": [
    {
     "name": "stdout",
     "output_type": "stream",
     "text": [
      "Model: \"sequential_3\"\n",
      "_________________________________________________________________\n",
      "Layer (type)                 Output Shape              Param #   \n",
      "=================================================================\n",
      "dense_8 (Dense)              (None, 1)                 5         \n",
      "=================================================================\n",
      "Total params: 5\n",
      "Trainable params: 5\n",
      "Non-trainable params: 0\n",
      "_________________________________________________________________\n"
     ]
    }
   ],
   "source": [
    "learning_rate = 0.0002\n",
    "rho = 0.95\n",
    "activation = 'tanh'\n",
    "model = build_model_0_layer(learning_rate, rho, activation)\n",
    "\n",
    "model.summary()"
   ]
  },
  {
   "cell_type": "code",
   "execution_count": 69,
   "metadata": {},
   "outputs": [
    {
     "name": "stdout",
     "output_type": "stream",
     "text": [
      "\n",
      "....................................................................................................\n",
      "....................................................................................................\n",
      "....................................................................................................\n",
      "....................................................................................................\n",
      "....................................................................................................\n",
      "....................................................................................................\n",
      "....................................................................................................\n",
      "....................................................................................................\n",
      "....................................................................................................\n",
      "....................................................................................................\n",
      "....................................................................................................\n",
      "...................................................................................................."
     ]
    }
   ],
   "source": [
    "# Обучение модели\n",
    "\n",
    "EPOCHS = 1200\n",
    "\n",
    "history = model.fit(\n",
    "  normed_train_data, train_labels,\n",
    "  epochs=EPOCHS, validation_split = 0.2, verbose=0,\n",
    "  callbacks=[PrintDot()])"
   ]
  },
  {
   "cell_type": "code",
   "execution_count": 70,
   "metadata": {
    "scrolled": true
   },
   "outputs": [
    {
     "data": {
      "text/html": [
       "<div>\n",
       "<style scoped>\n",
       "    .dataframe tbody tr th:only-of-type {\n",
       "        vertical-align: middle;\n",
       "    }\n",
       "\n",
       "    .dataframe tbody tr th {\n",
       "        vertical-align: top;\n",
       "    }\n",
       "\n",
       "    .dataframe thead th {\n",
       "        text-align: right;\n",
       "    }\n",
       "</style>\n",
       "<table border=\"1\" class=\"dataframe\">\n",
       "  <thead>\n",
       "    <tr style=\"text-align: right;\">\n",
       "      <th></th>\n",
       "      <th>loss</th>\n",
       "      <th>mae</th>\n",
       "      <th>mse</th>\n",
       "      <th>val_loss</th>\n",
       "      <th>val_mae</th>\n",
       "      <th>val_mse</th>\n",
       "      <th>epoch</th>\n",
       "    </tr>\n",
       "  </thead>\n",
       "  <tbody>\n",
       "    <tr>\n",
       "      <th>1190</th>\n",
       "      <td>0.000004</td>\n",
       "      <td>0.001481</td>\n",
       "      <td>0.000004</td>\n",
       "      <td>0.000004</td>\n",
       "      <td>0.001367</td>\n",
       "      <td>0.000004</td>\n",
       "      <td>1190</td>\n",
       "    </tr>\n",
       "    <tr>\n",
       "      <th>1191</th>\n",
       "      <td>0.000004</td>\n",
       "      <td>0.001506</td>\n",
       "      <td>0.000004</td>\n",
       "      <td>0.000003</td>\n",
       "      <td>0.001338</td>\n",
       "      <td>0.000003</td>\n",
       "      <td>1191</td>\n",
       "    </tr>\n",
       "    <tr>\n",
       "      <th>1192</th>\n",
       "      <td>0.000004</td>\n",
       "      <td>0.001517</td>\n",
       "      <td>0.000004</td>\n",
       "      <td>0.000004</td>\n",
       "      <td>0.001424</td>\n",
       "      <td>0.000004</td>\n",
       "      <td>1192</td>\n",
       "    </tr>\n",
       "    <tr>\n",
       "      <th>1193</th>\n",
       "      <td>0.000004</td>\n",
       "      <td>0.001486</td>\n",
       "      <td>0.000004</td>\n",
       "      <td>0.000004</td>\n",
       "      <td>0.001435</td>\n",
       "      <td>0.000004</td>\n",
       "      <td>1193</td>\n",
       "    </tr>\n",
       "    <tr>\n",
       "      <th>1194</th>\n",
       "      <td>0.000004</td>\n",
       "      <td>0.001495</td>\n",
       "      <td>0.000004</td>\n",
       "      <td>0.000004</td>\n",
       "      <td>0.001406</td>\n",
       "      <td>0.000004</td>\n",
       "      <td>1194</td>\n",
       "    </tr>\n",
       "    <tr>\n",
       "      <th>1195</th>\n",
       "      <td>0.000004</td>\n",
       "      <td>0.001536</td>\n",
       "      <td>0.000004</td>\n",
       "      <td>0.000004</td>\n",
       "      <td>0.001425</td>\n",
       "      <td>0.000004</td>\n",
       "      <td>1195</td>\n",
       "    </tr>\n",
       "    <tr>\n",
       "      <th>1196</th>\n",
       "      <td>0.000004</td>\n",
       "      <td>0.001485</td>\n",
       "      <td>0.000004</td>\n",
       "      <td>0.000004</td>\n",
       "      <td>0.001574</td>\n",
       "      <td>0.000004</td>\n",
       "      <td>1196</td>\n",
       "    </tr>\n",
       "    <tr>\n",
       "      <th>1197</th>\n",
       "      <td>0.000004</td>\n",
       "      <td>0.001630</td>\n",
       "      <td>0.000004</td>\n",
       "      <td>0.000003</td>\n",
       "      <td>0.001387</td>\n",
       "      <td>0.000003</td>\n",
       "      <td>1197</td>\n",
       "    </tr>\n",
       "    <tr>\n",
       "      <th>1198</th>\n",
       "      <td>0.000004</td>\n",
       "      <td>0.001492</td>\n",
       "      <td>0.000004</td>\n",
       "      <td>0.000004</td>\n",
       "      <td>0.001466</td>\n",
       "      <td>0.000004</td>\n",
       "      <td>1198</td>\n",
       "    </tr>\n",
       "    <tr>\n",
       "      <th>1199</th>\n",
       "      <td>0.000004</td>\n",
       "      <td>0.001493</td>\n",
       "      <td>0.000004</td>\n",
       "      <td>0.000004</td>\n",
       "      <td>0.001421</td>\n",
       "      <td>0.000004</td>\n",
       "      <td>1199</td>\n",
       "    </tr>\n",
       "  </tbody>\n",
       "</table>\n",
       "</div>"
      ],
      "text/plain": [
       "          loss       mae       mse  val_loss   val_mae   val_mse  epoch\n",
       "1190  0.000004  0.001481  0.000004  0.000004  0.001367  0.000004   1190\n",
       "1191  0.000004  0.001506  0.000004  0.000003  0.001338  0.000003   1191\n",
       "1192  0.000004  0.001517  0.000004  0.000004  0.001424  0.000004   1192\n",
       "1193  0.000004  0.001486  0.000004  0.000004  0.001435  0.000004   1193\n",
       "1194  0.000004  0.001495  0.000004  0.000004  0.001406  0.000004   1194\n",
       "1195  0.000004  0.001536  0.000004  0.000004  0.001425  0.000004   1195\n",
       "1196  0.000004  0.001485  0.000004  0.000004  0.001574  0.000004   1196\n",
       "1197  0.000004  0.001630  0.000004  0.000003  0.001387  0.000003   1197\n",
       "1198  0.000004  0.001492  0.000004  0.000004  0.001466  0.000004   1198\n",
       "1199  0.000004  0.001493  0.000004  0.000004  0.001421  0.000004   1199"
      ]
     },
     "execution_count": 70,
     "metadata": {},
     "output_type": "execute_result"
    }
   ],
   "source": [
    "# История обучения\n",
    "\n",
    "hist = pd.DataFrame(history.history)\n",
    "hist['epoch'] = history.epoch\n",
    "hist.tail(10)"
   ]
  },
  {
   "cell_type": "code",
   "execution_count": 71,
   "metadata": {},
   "outputs": [
    {
     "data": {
      "text/plain": [
       "158    0.097073\n",
       "83     0.088498\n",
       "170    0.123494\n",
       "101    0.118627\n",
       "150    0.123561\n",
       "200    0.090989\n",
       "118    0.099974\n",
       "236    0.091473\n",
       "63     0.081892\n",
       "135    0.077149\n",
       "Name: \\Sigma_{a2}(4), dtype: float64"
      ]
     },
     "execution_count": 71,
     "metadata": {},
     "output_type": "execute_result"
    }
   ],
   "source": [
    "# Тренировочные данные\n",
    "\n",
    "train_labels.head(10)"
   ]
  },
  {
   "cell_type": "code",
   "execution_count": 72,
   "metadata": {},
   "outputs": [
    {
     "data": {
      "text/plain": [
       "array([[0.09669279],\n",
       "       [0.08663753],\n",
       "       [0.12031846],\n",
       "       [0.11677878],\n",
       "       [0.12031513],\n",
       "       [0.09114286],\n",
       "       [0.10039569],\n",
       "       [0.08991548],\n",
       "       [0.08260716],\n",
       "       [0.07236146]], dtype=float32)"
      ]
     },
     "execution_count": 72,
     "metadata": {},
     "output_type": "execute_result"
    }
   ],
   "source": [
    "# Предсказанные данные\n",
    "\n",
    "model.predict(normed_train_data)[0:10]"
   ]
  },
  {
   "cell_type": "markdown",
   "metadata": {},
   "source": [
    "### 4.2.5 Модель 4"
   ]
  },
  {
   "cell_type": "code",
   "execution_count": 73,
   "metadata": {},
   "outputs": [
    {
     "data": {
      "text/html": [
       "<div>\n",
       "<style scoped>\n",
       "    .dataframe tbody tr th:only-of-type {\n",
       "        vertical-align: middle;\n",
       "    }\n",
       "\n",
       "    .dataframe tbody tr th {\n",
       "        vertical-align: top;\n",
       "    }\n",
       "\n",
       "    .dataframe thead th {\n",
       "        text-align: right;\n",
       "    }\n",
       "</style>\n",
       "<table border=\"1\" class=\"dataframe\">\n",
       "  <thead>\n",
       "    <tr style=\"text-align: right;\">\n",
       "      <th></th>\n",
       "      <th>\\rho(g/cm^3)</th>\n",
       "      <th>T_c(K)</th>\n",
       "      <th>T_f(K)</th>\n",
       "      <th>c_b(ppm)</th>\n",
       "    </tr>\n",
       "  </thead>\n",
       "  <tbody>\n",
       "    <tr>\n",
       "      <th>158</th>\n",
       "      <td>0.156763</td>\n",
       "      <td>-0.480029</td>\n",
       "      <td>-1.294301</td>\n",
       "      <td>-0.739242</td>\n",
       "    </tr>\n",
       "    <tr>\n",
       "      <th>83</th>\n",
       "      <td>-0.452130</td>\n",
       "      <td>1.268925</td>\n",
       "      <td>1.440051</td>\n",
       "      <td>-0.345778</td>\n",
       "    </tr>\n",
       "    <tr>\n",
       "      <th>170</th>\n",
       "      <td>1.726354</td>\n",
       "      <td>-1.727344</td>\n",
       "      <td>0.936712</td>\n",
       "      <td>0.291908</td>\n",
       "    </tr>\n",
       "    <tr>\n",
       "      <th>101</th>\n",
       "      <td>1.442199</td>\n",
       "      <td>0.889307</td>\n",
       "      <td>1.059145</td>\n",
       "      <td>1.662251</td>\n",
       "    </tr>\n",
       "    <tr>\n",
       "      <th>150</th>\n",
       "      <td>0.806247</td>\n",
       "      <td>-1.564651</td>\n",
       "      <td>-0.206002</td>\n",
       "      <td>1.648683</td>\n",
       "    </tr>\n",
       "    <tr>\n",
       "      <th>...</th>\n",
       "      <td>...</td>\n",
       "      <td>...</td>\n",
       "      <td>...</td>\n",
       "      <td>...</td>\n",
       "    </tr>\n",
       "    <tr>\n",
       "      <th>151</th>\n",
       "      <td>-0.925712</td>\n",
       "      <td>0.170745</td>\n",
       "      <td>1.535275</td>\n",
       "      <td>-0.087989</td>\n",
       "    </tr>\n",
       "    <tr>\n",
       "      <th>202</th>\n",
       "      <td>1.591040</td>\n",
       "      <td>-1.266380</td>\n",
       "      <td>-1.158264</td>\n",
       "      <td>1.078837</td>\n",
       "    </tr>\n",
       "    <tr>\n",
       "      <th>31</th>\n",
       "      <td>-1.615790</td>\n",
       "      <td>0.102956</td>\n",
       "      <td>-0.328436</td>\n",
       "      <td>-0.969894</td>\n",
       "    </tr>\n",
       "    <tr>\n",
       "      <th>209</th>\n",
       "      <td>0.400320</td>\n",
       "      <td>1.011327</td>\n",
       "      <td>1.344824</td>\n",
       "      <td>1.187379</td>\n",
       "    </tr>\n",
       "    <tr>\n",
       "      <th>127</th>\n",
       "      <td>-1.696975</td>\n",
       "      <td>0.563921</td>\n",
       "      <td>0.079676</td>\n",
       "      <td>-0.400047</td>\n",
       "    </tr>\n",
       "  </tbody>\n",
       "</table>\n",
       "<p>206 rows × 4 columns</p>\n",
       "</div>"
      ],
      "text/plain": [
       "     \\rho(g/cm^3)    T_c(K)    T_f(K)  c_b(ppm)\n",
       "158      0.156763 -0.480029 -1.294301 -0.739242\n",
       "83      -0.452130  1.268925  1.440051 -0.345778\n",
       "170      1.726354 -1.727344  0.936712  0.291908\n",
       "101      1.442199  0.889307  1.059145  1.662251\n",
       "150      0.806247 -1.564651 -0.206002  1.648683\n",
       "..            ...       ...       ...       ...\n",
       "151     -0.925712  0.170745  1.535275 -0.087989\n",
       "202      1.591040 -1.266380 -1.158264  1.078837\n",
       "31      -1.615790  0.102956 -0.328436 -0.969894\n",
       "209      0.400320  1.011327  1.344824  1.187379\n",
       "127     -1.696975  0.563921  0.079676 -0.400047\n",
       "\n",
       "[206 rows x 4 columns]"
      ]
     },
     "execution_count": 73,
     "metadata": {},
     "output_type": "execute_result"
    }
   ],
   "source": [
    "normed_train_data"
   ]
  },
  {
   "cell_type": "code",
   "execution_count": 74,
   "metadata": {},
   "outputs": [
    {
     "data": {
      "text/html": [
       "<div>\n",
       "<style scoped>\n",
       "    .dataframe tbody tr th:only-of-type {\n",
       "        vertical-align: middle;\n",
       "    }\n",
       "\n",
       "    .dataframe tbody tr th {\n",
       "        vertical-align: top;\n",
       "    }\n",
       "\n",
       "    .dataframe thead th {\n",
       "        text-align: right;\n",
       "    }\n",
       "</style>\n",
       "<table border=\"1\" class=\"dataframe\">\n",
       "  <thead>\n",
       "    <tr style=\"text-align: right;\">\n",
       "      <th></th>\n",
       "      <th>\\rho(g/cm^3)</th>\n",
       "      <th>T_c(K)</th>\n",
       "      <th>c_b(ppm)</th>\n",
       "    </tr>\n",
       "  </thead>\n",
       "  <tbody>\n",
       "    <tr>\n",
       "      <th>158</th>\n",
       "      <td>0.156763</td>\n",
       "      <td>-0.480029</td>\n",
       "      <td>-0.739242</td>\n",
       "    </tr>\n",
       "    <tr>\n",
       "      <th>83</th>\n",
       "      <td>-0.452130</td>\n",
       "      <td>1.268925</td>\n",
       "      <td>-0.345778</td>\n",
       "    </tr>\n",
       "    <tr>\n",
       "      <th>170</th>\n",
       "      <td>1.726354</td>\n",
       "      <td>-1.727344</td>\n",
       "      <td>0.291908</td>\n",
       "    </tr>\n",
       "    <tr>\n",
       "      <th>101</th>\n",
       "      <td>1.442199</td>\n",
       "      <td>0.889307</td>\n",
       "      <td>1.662251</td>\n",
       "    </tr>\n",
       "    <tr>\n",
       "      <th>150</th>\n",
       "      <td>0.806247</td>\n",
       "      <td>-1.564651</td>\n",
       "      <td>1.648683</td>\n",
       "    </tr>\n",
       "    <tr>\n",
       "      <th>...</th>\n",
       "      <td>...</td>\n",
       "      <td>...</td>\n",
       "      <td>...</td>\n",
       "    </tr>\n",
       "    <tr>\n",
       "      <th>151</th>\n",
       "      <td>-0.925712</td>\n",
       "      <td>0.170745</td>\n",
       "      <td>-0.087989</td>\n",
       "    </tr>\n",
       "    <tr>\n",
       "      <th>202</th>\n",
       "      <td>1.591040</td>\n",
       "      <td>-1.266380</td>\n",
       "      <td>1.078837</td>\n",
       "    </tr>\n",
       "    <tr>\n",
       "      <th>31</th>\n",
       "      <td>-1.615790</td>\n",
       "      <td>0.102956</td>\n",
       "      <td>-0.969894</td>\n",
       "    </tr>\n",
       "    <tr>\n",
       "      <th>209</th>\n",
       "      <td>0.400320</td>\n",
       "      <td>1.011327</td>\n",
       "      <td>1.187379</td>\n",
       "    </tr>\n",
       "    <tr>\n",
       "      <th>127</th>\n",
       "      <td>-1.696975</td>\n",
       "      <td>0.563921</td>\n",
       "      <td>-0.400047</td>\n",
       "    </tr>\n",
       "  </tbody>\n",
       "</table>\n",
       "<p>206 rows × 3 columns</p>\n",
       "</div>"
      ],
      "text/plain": [
       "     \\rho(g/cm^3)    T_c(K)  c_b(ppm)\n",
       "158      0.156763 -0.480029 -0.739242\n",
       "83      -0.452130  1.268925 -0.345778\n",
       "170      1.726354 -1.727344  0.291908\n",
       "101      1.442199  0.889307  1.662251\n",
       "150      0.806247 -1.564651  1.648683\n",
       "..            ...       ...       ...\n",
       "151     -0.925712  0.170745 -0.087989\n",
       "202      1.591040 -1.266380  1.078837\n",
       "31      -1.615790  0.102956 -0.969894\n",
       "209      0.400320  1.011327  1.187379\n",
       "127     -1.696975  0.563921 -0.400047\n",
       "\n",
       "[206 rows x 3 columns]"
      ]
     },
     "execution_count": 74,
     "metadata": {},
     "output_type": "execute_result"
    }
   ],
   "source": [
    "normed_train_data = normed_train_data.drop(['T_f(K)'], axis=1)\n",
    "normed_train_data"
   ]
  },
  {
   "cell_type": "code",
   "execution_count": 75,
   "metadata": {},
   "outputs": [],
   "source": [
    "def build_model_0_layer(learning_rate, rho, activation):\n",
    "    model = keras.Sequential([\n",
    "        layers.Dense(1, activation=activation, input_shape=[len(normed_train_data.keys())])\n",
    "    ])\n",
    "    \n",
    "    optimizer = tf.keras.optimizers.RMSprop(learning_rate = learning_rate, rho = rho)\n",
    "    model.compile(loss='mse',\n",
    "                  optimizer=optimizer,\n",
    "                  metrics=['mae', 'mse'])\n",
    "    return model"
   ]
  },
  {
   "cell_type": "code",
   "execution_count": 76,
   "metadata": {},
   "outputs": [
    {
     "name": "stdout",
     "output_type": "stream",
     "text": [
      "Model: \"sequential_4\"\n",
      "_________________________________________________________________\n",
      "Layer (type)                 Output Shape              Param #   \n",
      "=================================================================\n",
      "dense_9 (Dense)              (None, 1)                 4         \n",
      "=================================================================\n",
      "Total params: 4\n",
      "Trainable params: 4\n",
      "Non-trainable params: 0\n",
      "_________________________________________________________________\n"
     ]
    }
   ],
   "source": [
    "learning_rate = 0.0002\n",
    "rho = 0.9999\n",
    "activation = 'tanh'\n",
    "model = build_model_0_layer(learning_rate, rho, activation)\n",
    "\n",
    "model.summary()"
   ]
  },
  {
   "cell_type": "code",
   "execution_count": 77,
   "metadata": {},
   "outputs": [
    {
     "name": "stdout",
     "output_type": "stream",
     "text": [
      "\n",
      "....................................................................................................\n",
      "....................................................................................................\n",
      "....................................................................................................\n",
      "....................................................................................................\n",
      "....................................................................................................\n",
      "....................................................................................................\n",
      "....................................................................................................\n",
      "....................................................................................................\n",
      "....................................................................................................\n",
      "....................................................................................................\n",
      "....................................................................................................\n",
      "...................................................................................................."
     ]
    }
   ],
   "source": [
    "# Обучение модели\n",
    "\n",
    "EPOCHS = 1200\n",
    "\n",
    "history = model.fit(\n",
    "  normed_train_data, train_labels,\n",
    "  epochs=EPOCHS, validation_split = 0.2, verbose=0,\n",
    "  callbacks=[PrintDot()])"
   ]
  },
  {
   "cell_type": "code",
   "execution_count": 78,
   "metadata": {},
   "outputs": [
    {
     "data": {
      "text/html": [
       "<div>\n",
       "<style scoped>\n",
       "    .dataframe tbody tr th:only-of-type {\n",
       "        vertical-align: middle;\n",
       "    }\n",
       "\n",
       "    .dataframe tbody tr th {\n",
       "        vertical-align: top;\n",
       "    }\n",
       "\n",
       "    .dataframe thead th {\n",
       "        text-align: right;\n",
       "    }\n",
       "</style>\n",
       "<table border=\"1\" class=\"dataframe\">\n",
       "  <thead>\n",
       "    <tr style=\"text-align: right;\">\n",
       "      <th></th>\n",
       "      <th>loss</th>\n",
       "      <th>mae</th>\n",
       "      <th>mse</th>\n",
       "      <th>val_loss</th>\n",
       "      <th>val_mae</th>\n",
       "      <th>val_mse</th>\n",
       "      <th>epoch</th>\n",
       "    </tr>\n",
       "  </thead>\n",
       "  <tbody>\n",
       "    <tr>\n",
       "      <th>1190</th>\n",
       "      <td>0.000004</td>\n",
       "      <td>0.001446</td>\n",
       "      <td>0.000004</td>\n",
       "      <td>0.000004</td>\n",
       "      <td>0.001338</td>\n",
       "      <td>0.000004</td>\n",
       "      <td>1190</td>\n",
       "    </tr>\n",
       "    <tr>\n",
       "      <th>1191</th>\n",
       "      <td>0.000004</td>\n",
       "      <td>0.001442</td>\n",
       "      <td>0.000004</td>\n",
       "      <td>0.000004</td>\n",
       "      <td>0.001339</td>\n",
       "      <td>0.000004</td>\n",
       "      <td>1191</td>\n",
       "    </tr>\n",
       "    <tr>\n",
       "      <th>1192</th>\n",
       "      <td>0.000004</td>\n",
       "      <td>0.001449</td>\n",
       "      <td>0.000004</td>\n",
       "      <td>0.000004</td>\n",
       "      <td>0.001336</td>\n",
       "      <td>0.000004</td>\n",
       "      <td>1192</td>\n",
       "    </tr>\n",
       "    <tr>\n",
       "      <th>1193</th>\n",
       "      <td>0.000004</td>\n",
       "      <td>0.001445</td>\n",
       "      <td>0.000004</td>\n",
       "      <td>0.000004</td>\n",
       "      <td>0.001337</td>\n",
       "      <td>0.000004</td>\n",
       "      <td>1193</td>\n",
       "    </tr>\n",
       "    <tr>\n",
       "      <th>1194</th>\n",
       "      <td>0.000004</td>\n",
       "      <td>0.001446</td>\n",
       "      <td>0.000004</td>\n",
       "      <td>0.000004</td>\n",
       "      <td>0.001338</td>\n",
       "      <td>0.000004</td>\n",
       "      <td>1194</td>\n",
       "    </tr>\n",
       "    <tr>\n",
       "      <th>1195</th>\n",
       "      <td>0.000004</td>\n",
       "      <td>0.001449</td>\n",
       "      <td>0.000004</td>\n",
       "      <td>0.000004</td>\n",
       "      <td>0.001340</td>\n",
       "      <td>0.000004</td>\n",
       "      <td>1195</td>\n",
       "    </tr>\n",
       "    <tr>\n",
       "      <th>1196</th>\n",
       "      <td>0.000004</td>\n",
       "      <td>0.001450</td>\n",
       "      <td>0.000004</td>\n",
       "      <td>0.000004</td>\n",
       "      <td>0.001340</td>\n",
       "      <td>0.000004</td>\n",
       "      <td>1196</td>\n",
       "    </tr>\n",
       "    <tr>\n",
       "      <th>1197</th>\n",
       "      <td>0.000004</td>\n",
       "      <td>0.001453</td>\n",
       "      <td>0.000004</td>\n",
       "      <td>0.000004</td>\n",
       "      <td>0.001346</td>\n",
       "      <td>0.000004</td>\n",
       "      <td>1197</td>\n",
       "    </tr>\n",
       "    <tr>\n",
       "      <th>1198</th>\n",
       "      <td>0.000004</td>\n",
       "      <td>0.001461</td>\n",
       "      <td>0.000004</td>\n",
       "      <td>0.000004</td>\n",
       "      <td>0.001343</td>\n",
       "      <td>0.000004</td>\n",
       "      <td>1198</td>\n",
       "    </tr>\n",
       "    <tr>\n",
       "      <th>1199</th>\n",
       "      <td>0.000004</td>\n",
       "      <td>0.001454</td>\n",
       "      <td>0.000004</td>\n",
       "      <td>0.000004</td>\n",
       "      <td>0.001346</td>\n",
       "      <td>0.000004</td>\n",
       "      <td>1199</td>\n",
       "    </tr>\n",
       "  </tbody>\n",
       "</table>\n",
       "</div>"
      ],
      "text/plain": [
       "          loss       mae       mse  val_loss   val_mae   val_mse  epoch\n",
       "1190  0.000004  0.001446  0.000004  0.000004  0.001338  0.000004   1190\n",
       "1191  0.000004  0.001442  0.000004  0.000004  0.001339  0.000004   1191\n",
       "1192  0.000004  0.001449  0.000004  0.000004  0.001336  0.000004   1192\n",
       "1193  0.000004  0.001445  0.000004  0.000004  0.001337  0.000004   1193\n",
       "1194  0.000004  0.001446  0.000004  0.000004  0.001338  0.000004   1194\n",
       "1195  0.000004  0.001449  0.000004  0.000004  0.001340  0.000004   1195\n",
       "1196  0.000004  0.001450  0.000004  0.000004  0.001340  0.000004   1196\n",
       "1197  0.000004  0.001453  0.000004  0.000004  0.001346  0.000004   1197\n",
       "1198  0.000004  0.001461  0.000004  0.000004  0.001343  0.000004   1198\n",
       "1199  0.000004  0.001454  0.000004  0.000004  0.001346  0.000004   1199"
      ]
     },
     "execution_count": 78,
     "metadata": {},
     "output_type": "execute_result"
    }
   ],
   "source": [
    "# История обучения\n",
    "\n",
    "hist = pd.DataFrame(history.history)\n",
    "hist['epoch'] = history.epoch\n",
    "hist.tail(10)"
   ]
  },
  {
   "cell_type": "code",
   "execution_count": 79,
   "metadata": {},
   "outputs": [
    {
     "data": {
      "image/png": "[encoded data removed]",
      "text/plain": [
       "<Figure size 432x288 with 1 Axes>"
      ]
     },
     "metadata": {},
     "output_type": "display_data"
    }
   ],
   "source": [
    "# Отображение процесса обучения\n",
    "\n",
    "plot_history(history, 0.00001)"
   ]
  },
  {
   "cell_type": "code",
   "execution_count": 80,
   "metadata": {},
   "outputs": [
    {
     "data": {
      "text/plain": [
       "158    0.097073\n",
       "83     0.088498\n",
       "170    0.123494\n",
       "101    0.118627\n",
       "150    0.123561\n",
       "200    0.090989\n",
       "118    0.099974\n",
       "236    0.091473\n",
       "63     0.081892\n",
       "135    0.077149\n",
       "Name: \\Sigma_{a2}(4), dtype: float64"
      ]
     },
     "execution_count": 80,
     "metadata": {},
     "output_type": "execute_result"
    }
   ],
   "source": [
    "# Тренировочные данные\n",
    "\n",
    "train_labels.head(10)"
   ]
  },
  {
   "cell_type": "code",
   "execution_count": 81,
   "metadata": {},
   "outputs": [
    {
     "data": {
      "text/plain": [
       "array([[0.09664799],\n",
       "       [0.08722921],\n",
       "       [0.12061753],\n",
       "       [0.11645753],\n",
       "       [0.12018514],\n",
       "       [0.0920635 ],\n",
       "       [0.10035715],\n",
       "       [0.09091918],\n",
       "       [0.08340174],\n",
       "       [0.07248101]], dtype=float32)"
      ]
     },
     "execution_count": 81,
     "metadata": {},
     "output_type": "execute_result"
    }
   ],
   "source": [
    "# Предсказанные данные\n",
    "\n",
    "model.predict(normed_train_data)[0:10]"
   ]
  }
 ],
 "metadata": {
  "kernelspec": {
   "display_name": "Python 3",
   "language": "python",
   "name": "python3"
  },
  "language_info": {
   "codemirror_mode": {
    "name": "ipython",
    "version": 3
   },
   "file_extension": ".py",
   "mimetype": "text/x-python",
   "name": "python",
   "nbconvert_exporter": "python",
   "pygments_lexer": "ipython3",
   "version": "3.8.5"
  }
 },
 "nbformat": 4,
 "nbformat_minor": 4
}
