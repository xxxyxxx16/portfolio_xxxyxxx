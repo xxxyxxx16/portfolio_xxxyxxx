{
 "cells": [
  {
   "cell_type": "code",
   "execution_count": 1,
   "id": "interim-brunswick",
   "metadata": {},
   "outputs": [],
   "source": [
    "import pandas as pd"
   ]
  },
  {
   "cell_type": "code",
   "execution_count": 2,
   "id": "early-forty",
   "metadata": {},
   "outputs": [
    {
     "data": {
      "text/html": [
       "<div>\n",
       "<style scoped>\n",
       "    .dataframe tbody tr th:only-of-type {\n",
       "        vertical-align: middle;\n",
       "    }\n",
       "\n",
       "    .dataframe tbody tr th {\n",
       "        vertical-align: top;\n",
       "    }\n",
       "\n",
       "    .dataframe thead th {\n",
       "        text-align: right;\n",
       "    }\n",
       "</style>\n",
       "<table border=\"1\" class=\"dataframe\">\n",
       "  <thead>\n",
       "    <tr style=\"text-align: right;\">\n",
       "      <th></th>\n",
       "      <th>\\rho(g/cm^3)</th>\n",
       "      <th>T_c(K)</th>\n",
       "      <th>T_f(K)</th>\n",
       "      <th>c_b(ppm)</th>\n",
       "      <th>3S_{tr1}(1)</th>\n",
       "      <th>3S_{tr2}(2)</th>\n",
       "      <th>\\Sigma_{a1}(3)</th>\n",
       "      <th>\\Sigma_{a2}(4)</th>\n",
       "      <th>nuS_{f1}(5)</th>\n",
       "      <th>nuS_{f2}(6)</th>\n",
       "      <th>\\Sigma_{f1}(7)</th>\n",
       "      <th>\\Sigma_{f2}(8)</th>\n",
       "      <th>\\Sigma_{1-&gt;2}(9)</th>\n",
       "      <th>k_{inf}(10)</th>\n",
       "      <th>\\sigma_{a2}^{Xe}</th>\n",
       "      <th>\\sigma_{a2}^{Sm}</th>\n",
       "    </tr>\n",
       "  </thead>\n",
       "  <tbody>\n",
       "    <tr>\n",
       "      <th>0</th>\n",
       "      <td>0.7235</td>\n",
       "      <td>575.0</td>\n",
       "      <td>1027.0</td>\n",
       "      <td>600.0</td>\n",
       "      <td>0.661853</td>\n",
       "      <td>2.568298</td>\n",
       "      <td>0.009376</td>\n",
       "      <td>0.085584</td>\n",
       "      <td>0.006677</td>\n",
       "      <td>0.133250</td>\n",
       "      <td>0.002620</td>\n",
       "      <td>0.054750</td>\n",
       "      <td>0.017392</td>\n",
       "      <td>1.261041</td>\n",
       "      <td>1072970.0</td>\n",
       "      <td>35421.398</td>\n",
       "    </tr>\n",
       "    <tr>\n",
       "      <th>1</th>\n",
       "      <td>0.7750</td>\n",
       "      <td>448.0</td>\n",
       "      <td>1043.0</td>\n",
       "      <td>1500.0</td>\n",
       "      <td>0.679602</td>\n",
       "      <td>2.874687</td>\n",
       "      <td>0.009581</td>\n",
       "      <td>0.098339</td>\n",
       "      <td>0.006723</td>\n",
       "      <td>0.139256</td>\n",
       "      <td>0.002636</td>\n",
       "      <td>0.057218</td>\n",
       "      <td>0.018726</td>\n",
       "      <td>1.174265</td>\n",
       "      <td>1141000.0</td>\n",
       "      <td>36147.801</td>\n",
       "    </tr>\n",
       "    <tr>\n",
       "      <th>2</th>\n",
       "      <td>0.9125</td>\n",
       "      <td>370.5</td>\n",
       "      <td>1418.0</td>\n",
       "      <td>750.0</td>\n",
       "      <td>0.727336</td>\n",
       "      <td>3.668742</td>\n",
       "      <td>0.009908</td>\n",
       "      <td>0.102815</td>\n",
       "      <td>0.006844</td>\n",
       "      <td>0.153823</td>\n",
       "      <td>0.002681</td>\n",
       "      <td>0.063203</td>\n",
       "      <td>0.022463</td>\n",
       "      <td>1.249619</td>\n",
       "      <td>1308480.0</td>\n",
       "      <td>39214.000</td>\n",
       "    </tr>\n",
       "  </tbody>\n",
       "</table>\n",
       "</div>"
      ],
      "text/plain": [
       "   \\rho(g/cm^3)  T_c(K)  T_f(K)  c_b(ppm)  3S_{tr1}(1)  3S_{tr2}(2)  \\\n",
       "0        0.7235   575.0  1027.0     600.0     0.661853     2.568298   \n",
       "1        0.7750   448.0  1043.0    1500.0     0.679602     2.874687   \n",
       "2        0.9125   370.5  1418.0     750.0     0.727336     3.668742   \n",
       "\n",
       "   \\Sigma_{a1}(3)  \\Sigma_{a2}(4)  nuS_{f1}(5)  nuS_{f2}(6)  \\Sigma_{f1}(7)  \\\n",
       "0        0.009376        0.085584     0.006677     0.133250        0.002620   \n",
       "1        0.009581        0.098339     0.006723     0.139256        0.002636   \n",
       "2        0.009908        0.102815     0.006844     0.153823        0.002681   \n",
       "\n",
       "   \\Sigma_{f2}(8)  \\Sigma_{1->2}(9)  k_{inf}(10)  \\sigma_{a2}^{Xe}  \\\n",
       "0        0.054750          0.017392     1.261041         1072970.0   \n",
       "1        0.057218          0.018726     1.174265         1141000.0   \n",
       "2        0.063203          0.022463     1.249619         1308480.0   \n",
       "\n",
       "   \\sigma_{a2}^{Sm}  \n",
       "0         35421.398  \n",
       "1         36147.801  \n",
       "2         39214.000  "
      ]
     },
     "execution_count": 2,
     "metadata": {},
     "output_type": "execute_result"
    }
   ],
   "source": [
    "df = pd.read_excel('Input/Data.xlsx')\n",
    "df.head(3)"
   ]
  },
  {
   "cell_type": "code",
   "execution_count": 3,
   "id": "featured-change",
   "metadata": {},
   "outputs": [],
   "source": [
    "features = ['\\\\rho(g/cm^3)',\n",
    "            'T_f(K)',\n",
    "            'T_c(K)',\n",
    "           'c_b(ppm)']"
   ]
  },
  {
   "cell_type": "code",
   "execution_count": 4,
   "id": "collaborative-indonesian",
   "metadata": {},
   "outputs": [
    {
     "data": {
      "text/html": [
       "<div>\n",
       "<style scoped>\n",
       "    .dataframe tbody tr th:only-of-type {\n",
       "        vertical-align: middle;\n",
       "    }\n",
       "\n",
       "    .dataframe tbody tr th {\n",
       "        vertical-align: top;\n",
       "    }\n",
       "\n",
       "    .dataframe thead th {\n",
       "        text-align: right;\n",
       "    }\n",
       "</style>\n",
       "<table border=\"1\" class=\"dataframe\">\n",
       "  <thead>\n",
       "    <tr style=\"text-align: right;\">\n",
       "      <th></th>\n",
       "      <th>\\rho(g/cm^3)</th>\n",
       "      <th>T_f(K)</th>\n",
       "      <th>T_c(K)</th>\n",
       "      <th>c_b(ppm)</th>\n",
       "    </tr>\n",
       "  </thead>\n",
       "  <tbody>\n",
       "    <tr>\n",
       "      <th>0</th>\n",
       "      <td>0.723500</td>\n",
       "      <td>1027.00000</td>\n",
       "      <td>575.00000</td>\n",
       "      <td>600.00000</td>\n",
       "    </tr>\n",
       "    <tr>\n",
       "      <th>1</th>\n",
       "      <td>0.775000</td>\n",
       "      <td>1043.00000</td>\n",
       "      <td>448.00000</td>\n",
       "      <td>1500.00000</td>\n",
       "    </tr>\n",
       "    <tr>\n",
       "      <th>2</th>\n",
       "      <td>0.912500</td>\n",
       "      <td>1418.00000</td>\n",
       "      <td>370.50000</td>\n",
       "      <td>750.00000</td>\n",
       "    </tr>\n",
       "    <tr>\n",
       "      <th>3</th>\n",
       "      <td>0.637500</td>\n",
       "      <td>668.00000</td>\n",
       "      <td>525.50000</td>\n",
       "      <td>2250.00000</td>\n",
       "    </tr>\n",
       "    <tr>\n",
       "      <th>4</th>\n",
       "      <td>0.706250</td>\n",
       "      <td>1230.50000</td>\n",
       "      <td>409.25000</td>\n",
       "      <td>375.00000</td>\n",
       "    </tr>\n",
       "    <tr>\n",
       "      <th>...</th>\n",
       "      <td>...</td>\n",
       "      <td>...</td>\n",
       "      <td>...</td>\n",
       "      <td>...</td>\n",
       "    </tr>\n",
       "    <tr>\n",
       "      <th>252</th>\n",
       "      <td>0.639648</td>\n",
       "      <td>380.89059</td>\n",
       "      <td>369.28909</td>\n",
       "      <td>972.65619</td>\n",
       "    </tr>\n",
       "    <tr>\n",
       "      <th>253</th>\n",
       "      <td>0.914648</td>\n",
       "      <td>1130.89100</td>\n",
       "      <td>524.28912</td>\n",
       "      <td>2472.65600</td>\n",
       "    </tr>\n",
       "    <tr>\n",
       "      <th>254</th>\n",
       "      <td>0.777148</td>\n",
       "      <td>1505.89100</td>\n",
       "      <td>446.78909</td>\n",
       "      <td>222.65620</td>\n",
       "    </tr>\n",
       "    <tr>\n",
       "      <th>255</th>\n",
       "      <td>0.502148</td>\n",
       "      <td>755.89062</td>\n",
       "      <td>601.78912</td>\n",
       "      <td>1722.65600</td>\n",
       "    </tr>\n",
       "    <tr>\n",
       "      <th>256</th>\n",
       "      <td>0.503223</td>\n",
       "      <td>1274.44500</td>\n",
       "      <td>447.39450</td>\n",
       "      <td>849.60938</td>\n",
       "    </tr>\n",
       "  </tbody>\n",
       "</table>\n",
       "<p>257 rows × 4 columns</p>\n",
       "</div>"
      ],
      "text/plain": [
       "     \\rho(g/cm^3)      T_f(K)     T_c(K)    c_b(ppm)\n",
       "0        0.723500  1027.00000  575.00000   600.00000\n",
       "1        0.775000  1043.00000  448.00000  1500.00000\n",
       "2        0.912500  1418.00000  370.50000   750.00000\n",
       "3        0.637500   668.00000  525.50000  2250.00000\n",
       "4        0.706250  1230.50000  409.25000   375.00000\n",
       "..            ...         ...        ...         ...\n",
       "252      0.639648   380.89059  369.28909   972.65619\n",
       "253      0.914648  1130.89100  524.28912  2472.65600\n",
       "254      0.777148  1505.89100  446.78909   222.65620\n",
       "255      0.502148   755.89062  601.78912  1722.65600\n",
       "256      0.503223  1274.44500  447.39450   849.60938\n",
       "\n",
       "[257 rows x 4 columns]"
      ]
     },
     "execution_count": 4,
     "metadata": {},
     "output_type": "execute_result"
    }
   ],
   "source": [
    "df[features]"
   ]
  },
  {
   "cell_type": "code",
   "execution_count": 5,
   "id": "confirmed-privilege",
   "metadata": {},
   "outputs": [],
   "source": [
    "from sklearn.preprocessing import StandardScaler\n",
    "\n",
    "pca = StandardScaler()\n",
    "pca.fit(df[features])\n",
    "# Выход pca - numpy матрица, положим ее в новую переменную со всеми фичами\n",
    "X = pca.transform(df[features])"
   ]
  },
  {
   "cell_type": "code",
   "execution_count": 6,
   "id": "several-stack",
   "metadata": {},
   "outputs": [],
   "source": [
    "from sklearn.neighbors import KNeighborsRegressor\n",
    "from sklearn.metrics import r2_score, mean_squared_error"
   ]
  },
  {
   "cell_type": "code",
   "execution_count": 7,
   "id": "floating-building",
   "metadata": {},
   "outputs": [],
   "source": [
    "from sklearn.metrics import r2_score, mean_squared_error, make_scorer\n",
    "from sklearn.model_selection import cross_validate\n",
    "from sklearn.model_selection import GridSearchCV"
   ]
  },
  {
   "cell_type": "code",
   "execution_count": 8,
   "id": "advisory-cookie",
   "metadata": {},
   "outputs": [],
   "source": [
    "from sklearn.model_selection import train_test_split\n",
    "X_train, X_test, y_train, y_test = train_test_split(X, df['\\Sigma_{f1}(7)'], test_size=0.3)"
   ]
  },
  {
   "cell_type": "code",
   "execution_count": 9,
   "id": "critical-identifier",
   "metadata": {},
   "outputs": [],
   "source": [
    "import numpy as np\n",
    "\n",
    "param_grid = {\n",
    "    'n_neighbors': np.arange(1, 15),\n",
    "    'weights': ['uniform', 'distance']\n",
    "}"
   ]
  },
  {
   "cell_type": "code",
   "execution_count": 10,
   "id": "liable-accident",
   "metadata": {},
   "outputs": [],
   "source": [
    "clf = KNeighborsRegressor()"
   ]
  },
  {
   "cell_type": "code",
   "execution_count": 11,
   "id": "exotic-bundle",
   "metadata": {},
   "outputs": [
    {
     "name": "stdout",
     "output_type": "stream",
     "text": [
      "{'n_neighbors': 3, 'weights': 'distance'}\n"
     ]
    }
   ],
   "source": [
    "# создадим объект GridSearchCV\n",
    "search = GridSearchCV(clf, param_grid, n_jobs=-1, cv=2, refit=True)\n",
    "\n",
    "# запустим поиск\n",
    "search.fit(X_train, y_train)\n",
    "\n",
    "# выведем наилучшие параметры\n",
    "print(search.best_params_)"
   ]
  },
  {
   "cell_type": "code",
   "execution_count": 14,
   "id": "chinese-argentina",
   "metadata": {},
   "outputs": [
    {
     "data": {
      "text/plain": [
       "{'fit_time': array([0.        , 0.00099063]),\n",
       " 'score_time': array([0.00200152, 0.00100398]),\n",
       " 'test_mean_squared_error': array([3.75974079e-10, 3.98800562e-10])}"
      ]
     },
     "execution_count": 14,
     "metadata": {},
     "output_type": "execute_result"
    }
   ],
   "source": [
    "cross_validate(KNeighborsRegressor(n_neighbors = 3, weights = 'distance'), X, df['\\Sigma_{f1}(7)'], cv=2,\n",
    "               scoring={'mean_squared_error': make_scorer(mean_squared_error)})"
   ]
  },
  {
   "cell_type": "code",
   "execution_count": 13,
   "id": "sorted-testament",
   "metadata": {},
   "outputs": [
    {
     "ename": "NameError",
     "evalue": "name 'stop' is not defined",
     "output_type": "error",
     "traceback": [
      "\u001b[1;31m---------------------------------------------------------------------------\u001b[0m",
      "\u001b[1;31mNameError\u001b[0m                                 Traceback (most recent call last)",
      "\u001b[1;32m<ipython-input-13-4f76a9dad686>\u001b[0m in \u001b[0;36m<module>\u001b[1;34m\u001b[0m\n\u001b[1;32m----> 1\u001b[1;33m \u001b[0mstop\u001b[0m\u001b[1;33m\u001b[0m\u001b[1;33m\u001b[0m\u001b[0m\n\u001b[0m",
      "\u001b[1;31mNameError\u001b[0m: name 'stop' is not defined"
     ]
    }
   ],
   "source": [
    "stop"
   ]
  },
  {
   "cell_type": "code",
   "execution_count": 16,
   "id": "southeast-wheat",
   "metadata": {},
   "outputs": [
    {
     "data": {
      "text/plain": [
       "KNeighborsRegressor(n_neighbors=3, weights='distance')"
      ]
     },
     "execution_count": 16,
     "metadata": {},
     "output_type": "execute_result"
    }
   ],
   "source": [
    "clf = KNeighborsRegressor(n_neighbors = 3, weights = 'distance')\n",
    "clf.fit(X_train, y_train)"
   ]
  },
  {
   "cell_type": "code",
   "execution_count": 17,
   "id": "green-seller",
   "metadata": {},
   "outputs": [
    {
     "data": {
      "text/plain": [
       "array([0.00268192, 0.00256545, 0.00269793, 0.00257449, 0.00270688,\n",
       "       0.00269525, 0.00268859, 0.00255552, 0.0025189 , 0.00269051,\n",
       "       0.00256264, 0.00262439, 0.00260224, 0.00260351, 0.00266081,\n",
       "       0.00265865, 0.00268416, 0.00253556, 0.00263137, 0.00268431,\n",
       "       0.00262224, 0.00257014, 0.00255101, 0.00270759, 0.00270218,\n",
       "       0.00265044, 0.0027161 , 0.00268626, 0.00256225, 0.00263884,\n",
       "       0.00265235, 0.00268635, 0.00256163, 0.00260023, 0.00252997,\n",
       "       0.00255758, 0.00262798, 0.00260708, 0.00254483, 0.00266013,\n",
       "       0.00263877, 0.00266525, 0.00252806, 0.00259817, 0.00264268,\n",
       "       0.00264809, 0.00267987, 0.002711  , 0.002693  , 0.00265497,\n",
       "       0.00270014, 0.00251755, 0.00260124, 0.00267935, 0.00259175,\n",
       "       0.00270125, 0.00254343, 0.0026766 , 0.00265174, 0.00259985,\n",
       "       0.00270942, 0.00252231, 0.00251453, 0.00268062, 0.00257121,\n",
       "       0.00264443, 0.00252159, 0.002605  , 0.00256229, 0.00269969,\n",
       "       0.00270377, 0.00259159, 0.00250971, 0.00267665, 0.00264691,\n",
       "       0.00271134, 0.00257858, 0.00259375])"
      ]
     },
     "execution_count": 17,
     "metadata": {},
     "output_type": "execute_result"
    }
   ],
   "source": [
    "y_test.values"
   ]
  },
  {
   "cell_type": "code",
   "execution_count": 18,
   "id": "twenty-softball",
   "metadata": {},
   "outputs": [],
   "source": [
    "ypred = pd.Series(clf.predict(X_test))"
   ]
  },
  {
   "cell_type": "code",
   "execution_count": 19,
   "id": "republican-bookmark",
   "metadata": {},
   "outputs": [
    {
     "data": {
      "text/plain": [
       "array([0.00267722, 0.00257435, 0.00268755, 0.00257487, 0.00268937,\n",
       "       0.00268712, 0.00267915, 0.00256652, 0.00256702, 0.00267871,\n",
       "       0.0025573 , 0.00262242, 0.00258832, 0.00258508, 0.002675  ,\n",
       "       0.00265203, 0.00267102, 0.00255229, 0.00264126, 0.00268794,\n",
       "       0.00262371, 0.0025767 , 0.00255987, 0.00269168, 0.00268305,\n",
       "       0.00265273, 0.00268274, 0.00267967, 0.00256064, 0.00263053,\n",
       "       0.00264558, 0.00267629, 0.00259148, 0.00262105, 0.00255507,\n",
       "       0.00254243, 0.00264444, 0.00262768, 0.00255943, 0.00265533,\n",
       "       0.00261643, 0.00267512, 0.00254609, 0.00258658, 0.00261427,\n",
       "       0.00261868, 0.00267529, 0.002692  , 0.00270034, 0.00264657,\n",
       "       0.00268691, 0.00255763, 0.00258812, 0.00268577, 0.00260112,\n",
       "       0.00269262, 0.00256362, 0.00268401, 0.00266442, 0.00258153,\n",
       "       0.00268704, 0.0025693 , 0.00254681, 0.00266778, 0.00255575,\n",
       "       0.00265242, 0.00253276, 0.00260998, 0.00257894, 0.00268327,\n",
       "       0.002692  , 0.00260105, 0.00253135, 0.00267019, 0.0026502 ,\n",
       "       0.00270128, 0.00256676, 0.0025851 ])"
      ]
     },
     "execution_count": 19,
     "metadata": {},
     "output_type": "execute_result"
    }
   ],
   "source": [
    "ypred.values"
   ]
  },
  {
   "cell_type": "code",
   "execution_count": 20,
   "id": "wireless-former",
   "metadata": {},
   "outputs": [],
   "source": [
    "import statsmodels as statsmodels\n",
    "import statsmodels.api as sm"
   ]
  },
  {
   "cell_type": "code",
   "execution_count": 21,
   "id": "pregnant-guitar",
   "metadata": {},
   "outputs": [
    {
     "data": {
      "text/plain": [
       "0.06515410763960239"
      ]
     },
     "execution_count": 21,
     "metadata": {},
     "output_type": "execute_result"
    }
   ],
   "source": [
    "RMSPE = statsmodels.tools.eval_measures.rmspe(y_test.values, ypred.values)\n",
    "RMSPE"
   ]
  }
 ],
 "metadata": {
  "kernelspec": {
   "display_name": "Python 3",
   "language": "python",
   "name": "python3"
  },
  "language_info": {
   "codemirror_mode": {
    "name": "ipython",
    "version": 3
   },
   "file_extension": ".py",
   "mimetype": "text/x-python",
   "name": "python",
   "nbconvert_exporter": "python",
   "pygments_lexer": "ipython3",
   "version": "3.8.5"
  }
 },
 "nbformat": 4,
 "nbformat_minor": 5
}
