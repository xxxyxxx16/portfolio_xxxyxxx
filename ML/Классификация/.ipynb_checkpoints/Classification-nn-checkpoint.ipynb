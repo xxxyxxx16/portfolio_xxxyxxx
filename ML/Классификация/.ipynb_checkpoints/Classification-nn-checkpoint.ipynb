{
 "cells": [
  {
   "cell_type": "markdown",
   "metadata": {},
   "source": [
    "# 1. Эксперимент #"
   ]
  },
  {
   "cell_type": "code",
   "execution_count": 1,
   "metadata": {},
   "outputs": [],
   "source": [
    "import threading\n",
    "\n",
    "total = []\n",
    " \n",
    "def doubler(number):\n",
    "    \"\"\"\n",
    "    A function that can be used by a thread\n",
    "    \"\"\"\n",
    "    \n",
    "    global total\n",
    "    total.append(i)\n",
    "    \n",
    "    print(threading.currentThread().getName() + '\\n')"
   ]
  },
  {
   "cell_type": "code",
   "execution_count": 2,
   "metadata": {},
   "outputs": [
    {
     "name": "stdout",
     "output_type": "stream",
     "text": [
      "Thread-6\n",
      "\n",
      "Thread-7\n",
      "\n",
      "Thread-8\n",
      "\n",
      "Thread-9\n",
      "\n",
      "Thread-10\n",
      "\n",
      "[0, 1, 2, 3, 4]\n"
     ]
    }
   ],
   "source": [
    "if __name__ == '__main__':\n",
    "    for i in range(5):\n",
    "        my_thread = threading.Thread(target=doubler, args=(i,))\n",
    "        my_thread.start()\n",
    "        \n",
    "    print(total)"
   ]
  },
  {
   "cell_type": "markdown",
   "metadata": {},
   "source": [
    "Цель работы - научиться применять нейронные сети для задачи классификации. Набор данных генерируется методом Монте Карло. Каждый класс содержит два признака - время замедления и колличество столкновений."
   ]
  },
  {
   "cell_type": "markdown",
   "metadata": {},
   "source": [
    "## Блок нейтронной физики ##"
   ]
  },
  {
   "cell_type": "code",
   "execution_count": 3,
   "metadata": {},
   "outputs": [],
   "source": [
    "import pandas as pd\n",
    "import random as rd\n",
    "import math as math\n",
    "import scipy.constants as const # Модуль физико-математических констант\n",
    "\n",
    "# отключим предупреждения Anaconda\n",
    "import warnings\n",
    "warnings.simplefilter('ignore')\n",
    "\n",
    "N_A = const.Avogadro"
   ]
  },
  {
   "cell_type": "markdown",
   "metadata": {},
   "source": [
    "### Функция жизни нейтрона: ###"
   ]
  },
  {
   "cell_type": "code",
   "execution_count": 4,
   "metadata": {},
   "outputs": [],
   "source": [
    "# Для одинаковой генерации данных\n",
    "rd.seed(42)\n",
    "\n",
    "def life_of_neutron(Ein, Eout, dens, A1, A2, Mol_m, Sigma, alpha_1, alpha_2, sigma_1, sigma_2, x1, x2):\n",
    "    \n",
    "    Energy = Ein\n",
    "    colision = 0 # Число столкновений\n",
    "    time = 0 # Время полета\n",
    "    a = 0 # Угол полета\n",
    "    b = 0 # Изменение угла полета\n",
    "    l = 0 # Длина пролета\n",
    "    V = 0 # Скорость\n",
    "    elder = 0 #Возраст\n",
    "    while Energy > Eout: #Пока энергия нейтрона лежит в области > ... ЭВ\n",
    "        l = -1*math.log(rd.random())/Sigma/100 # В метрах\n",
    "        V = (2*Energy*1.6*(10**(-19))/(1.6749*10**(-27)))**0.5 # В м/с\n",
    "        time += l/V\n",
    "        colision += 1\n",
    "        \n",
    "        #Разыгрывание на каком ядре произошло рассеяние\n",
    "        x = rd.random()\n",
    "        if x < (x1*sigma_1/(x1*sigma_1 + x2*sigma_2)):# Рассеяние на первом ядре\n",
    "            E1 = Energy\n",
    "            E2 = Energy*alpha_1\n",
    "            Energy = rd.uniform(E1, E2)\n",
    "            b = math.acos\n",
    "\n",
    "            \n",
    "        else:# Рассеяние на втором ядре\n",
    "            E1 = Energy\n",
    "            E2 = Energy*alpha_2\n",
    "            Energy = rd.uniform(E1, E2)\n",
    "\n",
    "    return colision, time"
   ]
  },
  {
   "cell_type": "markdown",
   "metadata": {},
   "source": [
    "### Входные данные по материалам: ###"
   ]
  },
  {
   "cell_type": "code",
   "execution_count": 5,
   "metadata": {},
   "outputs": [
    {
     "data": {
      "text/html": [
       "<div>\n",
       "<style scoped>\n",
       "    .dataframe tbody tr th:only-of-type {\n",
       "        vertical-align: middle;\n",
       "    }\n",
       "\n",
       "    .dataframe tbody tr th {\n",
       "        vertical-align: top;\n",
       "    }\n",
       "\n",
       "    .dataframe thead th {\n",
       "        text-align: right;\n",
       "    }\n",
       "</style>\n",
       "<table border=\"1\" class=\"dataframe\">\n",
       "  <thead>\n",
       "    <tr style=\"text-align: right;\">\n",
       "      <th></th>\n",
       "      <th>Material</th>\n",
       "      <th>Density g/cm^3</th>\n",
       "      <th>A_1</th>\n",
       "      <th>A_2</th>\n",
       "      <th>Molar mass g/mol</th>\n",
       "      <th>Chemical formula</th>\n",
       "      <th>sigma_1 b</th>\n",
       "      <th>sigma_2 b</th>\n",
       "      <th>x1</th>\n",
       "      <th>x2</th>\n",
       "    </tr>\n",
       "  </thead>\n",
       "  <tbody>\n",
       "    <tr>\n",
       "      <th>0</th>\n",
       "      <td>Water</td>\n",
       "      <td>1.0</td>\n",
       "      <td>1</td>\n",
       "      <td>16</td>\n",
       "      <td>18</td>\n",
       "      <td>H2O</td>\n",
       "      <td>30.0</td>\n",
       "      <td>4.0</td>\n",
       "      <td>2</td>\n",
       "      <td>1</td>\n",
       "    </tr>\n",
       "    <tr>\n",
       "      <th>1</th>\n",
       "      <td>Heavy Plexiglass</td>\n",
       "      <td>1.6</td>\n",
       "      <td>12</td>\n",
       "      <td>2</td>\n",
       "      <td>28</td>\n",
       "      <td>C2D2</td>\n",
       "      <td>4.9</td>\n",
       "      <td>3.5</td>\n",
       "      <td>2</td>\n",
       "      <td>2</td>\n",
       "    </tr>\n",
       "    <tr>\n",
       "      <th>2</th>\n",
       "      <td>Heavy Water</td>\n",
       "      <td>1.1</td>\n",
       "      <td>2</td>\n",
       "      <td>16</td>\n",
       "      <td>20</td>\n",
       "      <td>D2O</td>\n",
       "      <td>3.5</td>\n",
       "      <td>4.0</td>\n",
       "      <td>2</td>\n",
       "      <td>1</td>\n",
       "    </tr>\n",
       "  </tbody>\n",
       "</table>\n",
       "</div>"
      ],
      "text/plain": [
       "           Material  Density g/cm^3  A_1  A_2  Molar mass g/mol  \\\n",
       "0             Water             1.0    1   16                18   \n",
       "1  Heavy Plexiglass             1.6   12    2                28   \n",
       "2       Heavy Water             1.1    2   16                20   \n",
       "\n",
       "  Chemical formula  sigma_1 b  sigma_2 b  x1  x2  \n",
       "0              H2O       30.0        4.0   2   1  \n",
       "1             C2D2        4.9        3.5   2   2  \n",
       "2              D2O        3.5        4.0   2   1  "
      ]
     },
     "execution_count": 5,
     "metadata": {},
     "output_type": "execute_result"
    }
   ],
   "source": [
    "df = pd.DataFrame({'Material': ['Water', 'Heavy Plexiglass', 'Heavy Water'],\n",
    "                   'Density g/cm^3': [1.0, 1.6, 1.1],\n",
    "                    'A_1' : [1, 12, 2],\n",
    "                    'A_2' : [16, 2, 16],\n",
    "                    'Molar mass g/mol' : [18, 28, 20],\n",
    "                    'Chemical formula' : ['H2O', 'C2D2', 'D2O'],\n",
    "                    'sigma_1 b' : [30.0, 4.9, 3.5],\n",
    "                    'sigma_2 b' : [4.0, 3.5, 4.0],\n",
    "                    'x1' : [2, 2, 2],\n",
    "                    'x2' : [1, 2, 1],\n",
    "                    \n",
    "              })\n",
    "\n",
    "df"
   ]
  },
  {
   "cell_type": "markdown",
   "metadata": {},
   "source": [
    "### Расчет макросечения: ###"
   ]
  },
  {
   "cell_type": "code",
   "execution_count": 6,
   "metadata": {},
   "outputs": [
    {
     "data": {
      "text/html": [
       "<div>\n",
       "<style scoped>\n",
       "    .dataframe tbody tr th:only-of-type {\n",
       "        vertical-align: middle;\n",
       "    }\n",
       "\n",
       "    .dataframe tbody tr th {\n",
       "        vertical-align: top;\n",
       "    }\n",
       "\n",
       "    .dataframe thead th {\n",
       "        text-align: right;\n",
       "    }\n",
       "</style>\n",
       "<table border=\"1\" class=\"dataframe\">\n",
       "  <thead>\n",
       "    <tr style=\"text-align: right;\">\n",
       "      <th></th>\n",
       "      <th>Material</th>\n",
       "      <th>Density g/cm^3</th>\n",
       "      <th>A_1</th>\n",
       "      <th>A_2</th>\n",
       "      <th>Molar mass g/mol</th>\n",
       "      <th>Chemical formula</th>\n",
       "      <th>sigma_1 b</th>\n",
       "      <th>sigma_2 b</th>\n",
       "      <th>x1</th>\n",
       "      <th>x2</th>\n",
       "      <th>Σ, 1/cm</th>\n",
       "    </tr>\n",
       "  </thead>\n",
       "  <tbody>\n",
       "    <tr>\n",
       "      <th>0</th>\n",
       "      <td>Water</td>\n",
       "      <td>1.0</td>\n",
       "      <td>1</td>\n",
       "      <td>16</td>\n",
       "      <td>18</td>\n",
       "      <td>H2O</td>\n",
       "      <td>30.0</td>\n",
       "      <td>4.0</td>\n",
       "      <td>2</td>\n",
       "      <td>1</td>\n",
       "      <td>2.141206</td>\n",
       "    </tr>\n",
       "    <tr>\n",
       "      <th>1</th>\n",
       "      <td>Heavy Plexiglass</td>\n",
       "      <td>1.6</td>\n",
       "      <td>12</td>\n",
       "      <td>2</td>\n",
       "      <td>28</td>\n",
       "      <td>C2D2</td>\n",
       "      <td>4.9</td>\n",
       "      <td>3.5</td>\n",
       "      <td>2</td>\n",
       "      <td>2</td>\n",
       "      <td>0.578126</td>\n",
       "    </tr>\n",
       "    <tr>\n",
       "      <th>2</th>\n",
       "      <td>Heavy Water</td>\n",
       "      <td>1.1</td>\n",
       "      <td>2</td>\n",
       "      <td>16</td>\n",
       "      <td>20</td>\n",
       "      <td>D2O</td>\n",
       "      <td>3.5</td>\n",
       "      <td>4.0</td>\n",
       "      <td>2</td>\n",
       "      <td>1</td>\n",
       "      <td>0.364340</td>\n",
       "    </tr>\n",
       "  </tbody>\n",
       "</table>\n",
       "</div>"
      ],
      "text/plain": [
       "           Material  Density g/cm^3  A_1  A_2  Molar mass g/mol  \\\n",
       "0             Water             1.0    1   16                18   \n",
       "1  Heavy Plexiglass             1.6   12    2                28   \n",
       "2       Heavy Water             1.1    2   16                20   \n",
       "\n",
       "  Chemical formula  sigma_1 b  sigma_2 b  x1  x2   Σ, 1/cm  \n",
       "0              H2O       30.0        4.0   2   1  2.141206  \n",
       "1             C2D2        4.9        3.5   2   2  0.578126  \n",
       "2              D2O        3.5        4.0   2   1  0.364340  "
      ]
     },
     "metadata": {},
     "output_type": "display_data"
    }
   ],
   "source": [
    "df['\\u03A3, 1/cm'] = 0.0\n",
    "for k in df.index:\n",
    "    df['Σ, 1/cm'][k] = (df['x1'][k]*df['sigma_1 b'][k]+df['x2'][k]*df['sigma_2 b'][k]\n",
    "                       )*N_A*df['Density g/cm^3'][k]/df['Molar mass g/mol'][k]/10**(24)\n",
    "display(df)"
   ]
  },
  {
   "cell_type": "markdown",
   "metadata": {},
   "source": [
    "### Расчет ступеньки замедления: ###"
   ]
  },
  {
   "cell_type": "code",
   "execution_count": 7,
   "metadata": {},
   "outputs": [
    {
     "data": {
      "text/html": [
       "<div>\n",
       "<style scoped>\n",
       "    .dataframe tbody tr th:only-of-type {\n",
       "        vertical-align: middle;\n",
       "    }\n",
       "\n",
       "    .dataframe tbody tr th {\n",
       "        vertical-align: top;\n",
       "    }\n",
       "\n",
       "    .dataframe thead th {\n",
       "        text-align: right;\n",
       "    }\n",
       "</style>\n",
       "<table border=\"1\" class=\"dataframe\">\n",
       "  <thead>\n",
       "    <tr style=\"text-align: right;\">\n",
       "      <th></th>\n",
       "      <th>Material</th>\n",
       "      <th>Density g/cm^3</th>\n",
       "      <th>A_1</th>\n",
       "      <th>A_2</th>\n",
       "      <th>Molar mass g/mol</th>\n",
       "      <th>Chemical formula</th>\n",
       "      <th>sigma_1 b</th>\n",
       "      <th>sigma_2 b</th>\n",
       "      <th>x1</th>\n",
       "      <th>x2</th>\n",
       "      <th>Σ, 1/cm</th>\n",
       "      <th>ɑ_1</th>\n",
       "      <th>ɑ_2</th>\n",
       "    </tr>\n",
       "  </thead>\n",
       "  <tbody>\n",
       "    <tr>\n",
       "      <th>0</th>\n",
       "      <td>Water</td>\n",
       "      <td>1.0</td>\n",
       "      <td>1</td>\n",
       "      <td>16</td>\n",
       "      <td>18</td>\n",
       "      <td>H2O</td>\n",
       "      <td>30.0</td>\n",
       "      <td>4.0</td>\n",
       "      <td>2</td>\n",
       "      <td>1</td>\n",
       "      <td>2.141206</td>\n",
       "      <td>0.000000</td>\n",
       "      <td>0.778547</td>\n",
       "    </tr>\n",
       "    <tr>\n",
       "      <th>1</th>\n",
       "      <td>Heavy Plexiglass</td>\n",
       "      <td>1.6</td>\n",
       "      <td>12</td>\n",
       "      <td>2</td>\n",
       "      <td>28</td>\n",
       "      <td>C2D2</td>\n",
       "      <td>4.9</td>\n",
       "      <td>3.5</td>\n",
       "      <td>2</td>\n",
       "      <td>2</td>\n",
       "      <td>0.578126</td>\n",
       "      <td>0.715976</td>\n",
       "      <td>0.111111</td>\n",
       "    </tr>\n",
       "    <tr>\n",
       "      <th>2</th>\n",
       "      <td>Heavy Water</td>\n",
       "      <td>1.1</td>\n",
       "      <td>2</td>\n",
       "      <td>16</td>\n",
       "      <td>20</td>\n",
       "      <td>D2O</td>\n",
       "      <td>3.5</td>\n",
       "      <td>4.0</td>\n",
       "      <td>2</td>\n",
       "      <td>1</td>\n",
       "      <td>0.364340</td>\n",
       "      <td>0.111111</td>\n",
       "      <td>0.778547</td>\n",
       "    </tr>\n",
       "  </tbody>\n",
       "</table>\n",
       "</div>"
      ],
      "text/plain": [
       "           Material  Density g/cm^3  A_1  A_2  Molar mass g/mol  \\\n",
       "0             Water             1.0    1   16                18   \n",
       "1  Heavy Plexiglass             1.6   12    2                28   \n",
       "2       Heavy Water             1.1    2   16                20   \n",
       "\n",
       "  Chemical formula  sigma_1 b  sigma_2 b  x1  x2   Σ, 1/cm       ɑ_1       ɑ_2  \n",
       "0              H2O       30.0        4.0   2   1  2.141206  0.000000  0.778547  \n",
       "1             C2D2        4.9        3.5   2   2  0.578126  0.715976  0.111111  \n",
       "2              D2O        3.5        4.0   2   1  0.364340  0.111111  0.778547  "
      ]
     },
     "metadata": {},
     "output_type": "display_data"
    }
   ],
   "source": [
    "df['\\u0251_1'] = 0.0\n",
    "df['\\u0251_2'] = 0.0\n",
    "for k in df.index:\n",
    "    df['\\u0251_1'][k] = ((df['A_1'][k]-1)/(df['A_1'][k]+1))**2\n",
    "    df['\\u0251_2'][k] = ((df['A_2'][k]-1)/(df['A_2'][k]+1))**2\n",
    "display(df)"
   ]
  },
  {
   "cell_type": "markdown",
   "metadata": {},
   "source": [
    "### Создание DataFrame для записи данных ###"
   ]
  },
  {
   "cell_type": "code",
   "execution_count": 8,
   "metadata": {},
   "outputs": [
    {
     "data": {
      "text/html": [
       "<div>\n",
       "<style scoped>\n",
       "    .dataframe tbody tr th:only-of-type {\n",
       "        vertical-align: middle;\n",
       "    }\n",
       "\n",
       "    .dataframe tbody tr th {\n",
       "        vertical-align: top;\n",
       "    }\n",
       "\n",
       "    .dataframe thead th {\n",
       "        text-align: right;\n",
       "    }\n",
       "</style>\n",
       "<table border=\"1\" class=\"dataframe\">\n",
       "  <thead>\n",
       "    <tr style=\"text-align: right;\">\n",
       "      <th></th>\n",
       "      <th>time</th>\n",
       "      <th>colisions</th>\n",
       "      <th>Material</th>\n",
       "      <th>target</th>\n",
       "    </tr>\n",
       "  </thead>\n",
       "  <tbody>\n",
       "  </tbody>\n",
       "</table>\n",
       "</div>"
      ],
      "text/plain": [
       "Empty DataFrame\n",
       "Columns: [time, colisions, Material, target]\n",
       "Index: []"
      ]
     },
     "execution_count": 8,
     "metadata": {},
     "output_type": "execute_result"
    }
   ],
   "source": [
    "df1 = pd.DataFrame({'time': [],\n",
    "                   'colisions': [],\n",
    "                    'Material' : [],\n",
    "                    'target' : [] \n",
    "              })\n",
    "df1"
   ]
  },
  {
   "cell_type": "markdown",
   "metadata": {},
   "source": [
    "### Эксперимент методом Монте-Карло ###"
   ]
  },
  {
   "cell_type": "markdown",
   "metadata": {},
   "source": [
    "#### Один поток"
   ]
  },
  {
   "cell_type": "code",
   "execution_count": 10,
   "metadata": {},
   "outputs": [
    {
     "name": "stdout",
     "output_type": "stream",
     "text": [
      "Wall time: 1.26 s\n"
     ]
    }
   ],
   "source": [
    "%%time\n",
    "Estart = 1_000_000 #1Мэв\n",
    "Eend = 1 #1 Эв\n",
    "number_of_event = 300\n",
    "counter = 0 # Счетчик для записи в DataFrame\n",
    "\n",
    "for k in df.index: #Цикл по материалам\n",
    "    for i in range(0, number_of_event*(k+1)): #Колличество событий для каждого материала\n",
    "        colision, time = life_of_neutron(Estart, Eend, df['Density g/cm^3'][k],\n",
    "                                          df['A_1'][k], df['A_2'][k],\n",
    "                                          df['Molar mass g/mol'][k], df['Σ, 1/cm'][k],\n",
    "                                          df['ɑ_1'][k], df['ɑ_2'][k],\n",
    "                                          df['sigma_1 b'][k], df['sigma_2 b'][k],\n",
    "                                          df['x1'][k], df['x2'][k],)\n",
    "        df1.loc[counter] = {'Material': df['Material'][k], 'time, 10^(-5) c': time, 'colisions': colision, 'target': k}\n",
    "        counter+=1"
   ]
  },
  {
   "cell_type": "code",
   "execution_count": null,
   "metadata": {},
   "outputs": [],
   "source": [
    "df1.loc[df1['Material'] == 'Water']['time'].mean()"
   ]
  },
  {
   "cell_type": "code",
   "execution_count": null,
   "metadata": {},
   "outputs": [],
   "source": [
    "df1.loc[df1['Material'] == 'Heavy Plexiglass']['time'].mean()"
   ]
  },
  {
   "cell_type": "code",
   "execution_count": null,
   "metadata": {},
   "outputs": [],
   "source": [
    "df1.loc[df1['Material'] == 'Heavy Water']['time'].mean()"
   ]
  },
  {
   "cell_type": "code",
   "execution_count": null,
   "metadata": {},
   "outputs": [],
   "source": [
    "df1.loc[df1['Material'] == 'Water']['colisions'].mean()"
   ]
  },
  {
   "cell_type": "code",
   "execution_count": null,
   "metadata": {},
   "outputs": [],
   "source": [
    "df1.loc[df1['Material'] == 'Heavy Plexiglass']['colisions'].mean()"
   ]
  },
  {
   "cell_type": "code",
   "execution_count": null,
   "metadata": {},
   "outputs": [],
   "source": [
    "df1.loc[df1['Material'] == 'Heavy Water']['colisions'].mean()"
   ]
  },
  {
   "cell_type": "markdown",
   "metadata": {},
   "source": [
    "# 2. Первичный анализ данных с помощью Pandas #"
   ]
  },
  {
   "cell_type": "markdown",
   "metadata": {},
   "source": [
    "Посмотрим, что представляют собой полученные данные"
   ]
  },
  {
   "cell_type": "code",
   "execution_count": null,
   "metadata": {},
   "outputs": [],
   "source": [
    "df1.head()"
   ]
  },
  {
   "cell_type": "markdown",
   "metadata": {},
   "source": [
    "Сколько строк и столбцов"
   ]
  },
  {
   "cell_type": "code",
   "execution_count": null,
   "metadata": {},
   "outputs": [],
   "source": [
    "df1.shape"
   ]
  },
  {
   "cell_type": "markdown",
   "metadata": {},
   "source": [
    "Общая информация"
   ]
  },
  {
   "cell_type": "code",
   "execution_count": null,
   "metadata": {},
   "outputs": [],
   "source": [
    "df1.info()"
   ]
  },
  {
   "cell_type": "code",
   "execution_count": null,
   "metadata": {},
   "outputs": [],
   "source": [
    "df1['colisions'] = df1['colisions'].astype('int64')\n",
    "df1['target'] = df1['target'].astype('int64')\n",
    "df1['time, 10^(-5) c'] = df1['time, 10^(-5) c'].astype('float64')\n",
    "\n",
    "df1.info()"
   ]
  },
  {
   "cell_type": "markdown",
   "metadata": {},
   "source": [
    "Распределение числовых параметров"
   ]
  },
  {
   "cell_type": "code",
   "execution_count": null,
   "metadata": {},
   "outputs": [],
   "source": [
    "df1.describe()"
   ]
  },
  {
   "cell_type": "markdown",
   "metadata": {},
   "source": [
    "Изменение типа данных с учетом значений"
   ]
  },
  {
   "cell_type": "code",
   "execution_count": null,
   "metadata": {},
   "outputs": [],
   "source": [
    "df1['colisions'] = df1['colisions'].astype('int8')\n",
    "df1['target'] = df1['target'].astype('int8')\n",
    "df1['time, 10^(-5) c'] = df1['time, 10^(-5) c'].astype('float64')\n",
    "\n",
    "df1.info()"
   ]
  },
  {
   "cell_type": "markdown",
   "metadata": {},
   "source": [
    "Описание не числовых типов данных"
   ]
  },
  {
   "cell_type": "code",
   "execution_count": null,
   "metadata": {},
   "outputs": [],
   "source": [
    "df1.describe(include=['object'])"
   ]
  },
  {
   "cell_type": "markdown",
   "metadata": {},
   "source": [
    "Распределение данных по целевой переменной"
   ]
  },
  {
   "cell_type": "code",
   "execution_count": null,
   "metadata": {},
   "outputs": [],
   "source": [
    "df1['target'].value_counts()"
   ]
  },
  {
   "cell_type": "code",
   "execution_count": null,
   "metadata": {},
   "outputs": [],
   "source": [
    "df1['target'].value_counts(normalize=True)"
   ]
  },
  {
   "cell_type": "markdown",
   "metadata": {},
   "source": [
    "Сортировка по убыванию colisions"
   ]
  },
  {
   "cell_type": "code",
   "execution_count": null,
   "metadata": {
    "scrolled": true
   },
   "outputs": [],
   "source": [
    "df1 = df1.sort_values(by='colisions', ascending=False)\n",
    "df1.head()"
   ]
  },
  {
   "cell_type": "markdown",
   "metadata": {},
   "source": [
    "Сортировка по убыванию time, 10^(-5) c"
   ]
  },
  {
   "cell_type": "code",
   "execution_count": null,
   "metadata": {},
   "outputs": [],
   "source": [
    "df1 = df1.sort_values(by='time, 10^(-5) c', ascending=False)\n",
    "df1.head()"
   ]
  },
  {
   "cell_type": "markdown",
   "metadata": {},
   "source": [
    "Сортировка по возрастанию colisions"
   ]
  },
  {
   "cell_type": "code",
   "execution_count": null,
   "metadata": {},
   "outputs": [],
   "source": [
    "df1 = df1.sort_values(by='colisions', ascending=True)\n",
    "df1.head()"
   ]
  },
  {
   "cell_type": "code",
   "execution_count": null,
   "metadata": {},
   "outputs": [],
   "source": [
    "import numpy as np"
   ]
  },
  {
   "cell_type": "markdown",
   "metadata": {},
   "source": [
    "Максимум по каждому признаку"
   ]
  },
  {
   "cell_type": "code",
   "execution_count": null,
   "metadata": {},
   "outputs": [],
   "source": [
    "df1.apply(np.max)"
   ]
  },
  {
   "cell_type": "markdown",
   "metadata": {},
   "source": [
    "Группировка данных"
   ]
  },
  {
   "cell_type": "code",
   "execution_count": null,
   "metadata": {},
   "outputs": [],
   "source": [
    "columns_to_show = ['time, 10^(-5) c', 'colisions']\n",
    "df1.groupby(['target'])[columns_to_show].describe(percentiles=[0.25, 0.50, 0.99])"
   ]
  },
  {
   "cell_type": "code",
   "execution_count": null,
   "metadata": {},
   "outputs": [],
   "source": [
    "df1.groupby(['target'])[columns_to_show].agg([np.mean, np.std, np.min, np.max])"
   ]
  },
  {
   "cell_type": "markdown",
   "metadata": {},
   "source": [
    "Cредние значения по признакам в зависимости от target"
   ]
  },
  {
   "cell_type": "code",
   "execution_count": null,
   "metadata": {},
   "outputs": [],
   "source": [
    "df1.pivot_table(['colisions', 'time, 10^(-5) c'], ['target'], aggfunc='mean').head(10)"
   ]
  },
  {
   "cell_type": "markdown",
   "metadata": {},
   "source": [
    "# 3. Визуализация экспериментальных данных  #"
   ]
  },
  {
   "cell_type": "code",
   "execution_count": null,
   "metadata": {},
   "outputs": [],
   "source": [
    "import seaborn as sns\n",
    "import matplotlib.pyplot as plt\n",
    "#графики в svg выглядят более четкими\n",
    "%config InlineBackend.figure_format = 'svg'\n",
    "\n",
    "import matplotlib as mpl\n",
    "mpl.rcParams[\"xtick.bottom\"] = True\n",
    "\n",
    "flatui = [\"red\", \"green\", \"blue\"]\n",
    "sns.palplot(sns.color_palette(flatui))\n",
    "\n",
    "sns.set(font_scale = 1.5,\n",
    "       style='white',\n",
    "       palette=flatui,\n",
    "       )\n",
    "\n",
    "sns.set_style(\"ticks\", {\"xtick.bottom\": True})"
   ]
  },
  {
   "cell_type": "markdown",
   "metadata": {},
   "source": [
    "Распределение столкновений"
   ]
  },
  {
   "cell_type": "code",
   "execution_count": null,
   "metadata": {},
   "outputs": [],
   "source": [
    "sns.boxplot(y=\"colisions\", x=\"target\",\n",
    "            data=df1)"
   ]
  },
  {
   "cell_type": "markdown",
   "metadata": {},
   "source": [
    "Распределение времени"
   ]
  },
  {
   "cell_type": "code",
   "execution_count": null,
   "metadata": {},
   "outputs": [],
   "source": [
    "sns.boxplot(y=\"time, 10^(-5) c\", x=\"target\",\n",
    "            data=df1)"
   ]
  },
  {
   "cell_type": "markdown",
   "metadata": {},
   "source": [
    "Карта распрделений"
   ]
  },
  {
   "cell_type": "code",
   "execution_count": null,
   "metadata": {},
   "outputs": [],
   "source": [
    "df1['colisions'] = df1['colisions']/100\n",
    "df1.rename(columns={'colisions': 'colisions, 10^2'}, inplace=True)"
   ]
  },
  {
   "cell_type": "code",
   "execution_count": null,
   "metadata": {},
   "outputs": [],
   "source": [
    "sns.set(font_scale = 1.5,\n",
    "       style='white',\n",
    "       )\n",
    "\n",
    "g = sns.PairGrid(df1[['time, 10^(-5) c','colisions, 10^2', 'Material']],\n",
    "                 hue='Material',\n",
    "                 height=5.5,\n",
    "                 palette= flatui,\n",
    "                 despine = False,\n",
    "                 hue_kws={\n",
    "                     \"marker\": [\"o\", \"o\", \"o\"]\n",
    "                 })\n",
    "\n",
    "g.map_diag(sns.distplot, norm_hist = True, bins = np.linspace(0.0, 2.4, num=(6*4*10), endpoint=True))\n",
    "g.map_upper(sns.kdeplot, shade=False, shade_lowest=False)\n",
    "g.map_lower(plt.scatter, s = 35, alpha=0.3, linewidth=1.5, edgecolor=\"black\")\n",
    "g.fig.set_size_inches(8, 8)\n",
    "\n",
    "\n",
    "plt.legend(loc='upper center', bbox_to_anchor=(1, 1.25), ncol=3) #vertical legend\n",
    "\n",
    "# Подписи к осям\n",
    "g.axes[0,0].yaxis.set_label_text(r'$\\rho (t) $')\n",
    "g.axes[0,0].xaxis.set_label_text('$t, 10^{-5} c$')\n",
    "g.axes[1,1].yaxis.set_label_text(r'$\\rho (colisions) $')\n",
    "g.axes[1,1].xaxis.set_label_text('$colisions, 10^{2}$')\n",
    "g.axes[1,0].yaxis.set_label_text('$colisions, 10^{2}$')\n",
    "g.axes[1,0].xaxis.set_label_text('$t, 10^{-5} c$')\n",
    "g.axes[0,1].yaxis.set_label_text('$t, 10^{-5} c$')\n",
    "g.axes[0,1].xaxis.set_label_text('$colisions, 10^{2}$')\n",
    "\n",
    "# Тики видны на y\n",
    "g.axes[0,0].yaxis.set_tick_params(labelleft=False)\n",
    "g.axes[1,1].yaxis.set_tick_params(labelleft=False)\n",
    "g.axes[1,0].yaxis.set_tick_params(labelleft=True, bottom = True, direction = 'in')\n",
    "g.axes[0,1].yaxis.set_tick_params(labelleft=True, bottom = True, direction = 'in')\n",
    "\n",
    "# Тики видны на x\n",
    "g.axes[0,0].xaxis.set_tick_params(labelleft=True, bottom = True, direction = 'in')\n",
    "g.axes[1,1].xaxis.set_tick_params(labelleft=True, bottom = True, direction = 'in')\n",
    "g.axes[1,0].xaxis.set_tick_params(labelleft=True, bottom = True, direction = 'in')\n",
    "g.axes[0,1].xaxis.set_tick_params(labelleft=True, bottom = True, direction = 'in')\n",
    "\n",
    "#Лимиты тиков на x\n",
    "g.axes[1,0].set_xlim(0, 2.5)\n",
    "g.axes[0,1].set_xlim(0, 0.6)\n",
    "\n",
    "#Лимиты тиков на y\n",
    "g.axes[1,0].set_ylim(0.00001, 0.6)\n",
    "g.axes[0,0].set_ylim(0.00001, 2.5)\n",
    "\n",
    "plt.subplots_adjust(hspace=0.4, wspace=0.2)"
   ]
  },
  {
   "cell_type": "markdown",
   "metadata": {},
   "source": [
    "# 4. Классификация DL #"
   ]
  },
  {
   "cell_type": "markdown",
   "metadata": {},
   "source": [
    "<img src=\"DL.PNG\">"
   ]
  },
  {
   "cell_type": "markdown",
   "metadata": {},
   "source": [
    "## 4.1 Подготовка тренировочной и тестовой выборок ##"
   ]
  },
  {
   "cell_type": "code",
   "execution_count": null,
   "metadata": {},
   "outputs": [],
   "source": [
    "from sklearn import model_selection\n",
    "from sklearn import metrics\n",
    "from sklearn import linear_model"
   ]
  },
  {
   "cell_type": "code",
   "execution_count": null,
   "metadata": {},
   "outputs": [],
   "source": [
    "train_data, test_data, train_labels, test_labels = model_selection.train_test_split(\n",
    "    df1[['time, 10^(-5) c', 'colisions, 10^2']], df1[['target']],\n",
    "    test_size = 0.3, random_state = 0)"
   ]
  },
  {
   "cell_type": "markdown",
   "metadata": {},
   "source": [
    "Посмотрим что из себя представляет тестовая выборка"
   ]
  },
  {
   "cell_type": "code",
   "execution_count": null,
   "metadata": {},
   "outputs": [],
   "source": [
    "train_data"
   ]
  },
  {
   "cell_type": "markdown",
   "metadata": {},
   "source": [
    "Сравним тестовую и обучающую выборки с исходным набором данных"
   ]
  },
  {
   "cell_type": "code",
   "execution_count": null,
   "metadata": {},
   "outputs": [],
   "source": [
    "display(df1.describe())\n",
    "display(test_data.describe())\n",
    "display(train_data.describe())"
   ]
  },
  {
   "cell_type": "markdown",
   "metadata": {},
   "source": [
    "Сравним частоту попадания каждого класса в исходном наборе, тестовой и тренировочной выборках"
   ]
  },
  {
   "cell_type": "code",
   "execution_count": null,
   "metadata": {},
   "outputs": [],
   "source": [
    "display(df1['target'].value_counts(normalize=True))\n",
    "display(test_labels['target'].value_counts(normalize=True))\n",
    "display(train_labels['target'].value_counts(normalize=True))"
   ]
  },
  {
   "cell_type": "markdown",
   "metadata": {},
   "source": [
    "## 4.2 Метрики точности ##"
   ]
  },
  {
   "cell_type": "markdown",
   "metadata": {},
   "source": [
    "Precision (точность) можно интерпретировать как долю объектов, названных классификатором положительными и при этом действительно являющимися положительными (Реально Water из всех определенных Water):"
   ]
  },
  {
   "cell_type": "markdown",
   "metadata": {},
   "source": [
    "\\begin{align*} precision = {\\frac{TP}{TP+FP}} \\end{align*}"
   ]
  },
  {
   "cell_type": "markdown",
   "metadata": {},
   "source": [
    "Recall (полнота) показывает, какую долю объектов положительного класса из всех объектов положительного класса нашел алгоритм (Сколько Water определено как Water):"
   ]
  },
  {
   "cell_type": "markdown",
   "metadata": {},
   "source": [
    "\\begin{align*} recall = {\\frac{TP}{TP+FN}} \\end{align*}"
   ]
  },
  {
   "cell_type": "markdown",
   "metadata": {},
   "source": [
    "## 4.3 Метод обратного распространения ошибки ##"
   ]
  },
  {
   "cell_type": "markdown",
   "metadata": {},
   "source": [
    "### Один нейрон ###"
   ]
  },
  {
   "cell_type": "markdown",
   "metadata": {},
   "source": [
    "\\begin{align*} y = f(w \\cdot x + b) \\end{align*}"
   ]
  },
  {
   "cell_type": "markdown",
   "metadata": {},
   "source": [
    "\\begin{align*} w = (0, 1) \\end{align*}"
   ]
  },
  {
   "cell_type": "markdown",
   "metadata": {},
   "source": [
    "\\begin{align*} x = (2, 3) \\end{align*}"
   ]
  },
  {
   "cell_type": "markdown",
   "metadata": {},
   "source": [
    "\\begin{align*} b = 4 \\end{align*}"
   ]
  },
  {
   "cell_type": "markdown",
   "metadata": {},
   "source": [
    "\\begin{align*} (w \\cdot x)+b = ((w_{1} * x_{1})+(w_{2} * x_{2}))+b = 0*2+1*3+4=7 \\end{align*}"
   ]
  },
  {
   "cell_type": "markdown",
   "metadata": {},
   "source": [
    "###  Функция активации ###"
   ]
  },
  {
   "cell_type": "markdown",
   "metadata": {},
   "source": [
    "\\begin{align*} y=f(x)=\\frac{1}{1+e^{-x}} \\end{align*}"
   ]
  },
  {
   "cell_type": "markdown",
   "metadata": {},
   "source": [
    "### Объединим 2 нейрона в одну сеть ###"
   ]
  },
  {
   "cell_type": "markdown",
   "metadata": {},
   "source": [
    "\\begin{align*} h1=h2 = f(w \\cdot x + b) \\end{align*}"
   ]
  },
  {
   "cell_type": "markdown",
   "metadata": {},
   "source": [
    "\\begin{align*} o_{1} = f(w \\cdot(h1, h2) + b) \\end{align*}"
   ]
  },
  {
   "cell_type": "markdown",
   "metadata": {},
   "source": [
    "### Тренировка нейронной сети ###"
   ]
  },
  {
   "cell_type": "markdown",
   "metadata": {},
   "source": [
    "\\begin{align*} L = L(w1,w2,w3,w4,w5,w6,b1,b2,b3) \\end{align*}"
   ]
  },
  {
   "cell_type": "markdown",
   "metadata": {},
   "source": [
    "\\begin{align*} L = MSE = \\frac{1}{n} \\sum^{n}_{i=1} ({y_{true}-y_{pred}})^{2} \\end{align*}"
   ]
  },
  {
   "cell_type": "markdown",
   "metadata": {},
   "source": [
    "\\begin{align*} y_{pred} = o1 = f(w5h1+w6h2+b3) \\end{align*}"
   ]
  },
  {
   "cell_type": "markdown",
   "metadata": {},
   "source": [
    "\\begin{align*} h1 = f(w1 x1 + w2 x2 + b1) \\end{align*}"
   ]
  },
  {
   "cell_type": "markdown",
   "metadata": {},
   "source": [
    "\\begin{align*} h2 = f(w3 x1 + w4 x2 + b2) \\end{align*}"
   ]
  },
  {
   "cell_type": "markdown",
   "metadata": {},
   "source": [
    " "
   ]
  },
  {
   "cell_type": "markdown",
   "metadata": {},
   "source": [
    "\\begin{align*}\n",
    "\\frac{\\partial L}{\\partial w1} = \n",
    "\\frac{\\partial L}{\\partial y_{pred}} *\n",
    "\\frac{\\partial y_{pred}}{\\partial h1} *\n",
    "\\frac{\\partial h1}{\\partial w1}\n",
    "\\end{align*}"
   ]
  },
  {
   "cell_type": "markdown",
   "metadata": {},
   "source": [
    " "
   ]
  },
  {
   "cell_type": "markdown",
   "metadata": {},
   "source": [
    "\\begin{align*}\n",
    "1. \\frac{\\partial L}{y_{pred}}\n",
    "\\end{align*}"
   ]
  },
  {
   "cell_type": "markdown",
   "metadata": {},
   "source": [
    " "
   ]
  },
  {
   "cell_type": "markdown",
   "metadata": {},
   "source": [
    "\\begin{align*}\n",
    "2. \\frac{\\partial L}{\\partial h1} = \n",
    "\\frac{\\partial L}{\\partial y_{pred}} *\n",
    "\\frac{\\partial y_{pred}}{\\partial h1}\n",
    "\\end{align*}"
   ]
  },
  {
   "cell_type": "markdown",
   "metadata": {},
   "source": [
    "\\begin{align*} \\frac{\\partial y_{pred}}{\\partial h1} =\n",
    "w5*f^\\prime (w5h1+w6h2+b3)\n",
    "\\end{align*}"
   ]
  },
  {
   "cell_type": "markdown",
   "metadata": {},
   "source": [
    "\\begin{align*} f(x) = \\frac{1}{1+e^{-x}} \\end{align*}"
   ]
  },
  {
   "cell_type": "markdown",
   "metadata": {},
   "source": [
    "\\begin{align*} f^{\\prime}(x) = \\frac{e^{-x}}{(1+e^{-x})^{2}}\n",
    "= f(x) * (1-f(x)) \\end{align*}"
   ]
  },
  {
   "cell_type": "markdown",
   "metadata": {},
   "source": [
    " "
   ]
  },
  {
   "cell_type": "markdown",
   "metadata": {},
   "source": [
    "\\begin{align*} 3.\n",
    "\\frac{\\partial L}{\\partial w1} = \n",
    "\\frac{\\partial L}{\\partial y_{pred}} *\n",
    "\\frac{\\partial y_{pred}}{\\partial h1} *\n",
    "\\frac{\\partial h1}{\\partial w1}\n",
    "\\end{align*}"
   ]
  },
  {
   "cell_type": "markdown",
   "metadata": {},
   "source": [
    "\\begin{align*} \\frac{\\partial h1}{\\partial w1} =\n",
    "x1*f^\\prime (w1x1+w2x2+b1)\n",
    "\\end{align*}"
   ]
  },
  {
   "cell_type": "markdown",
   "metadata": {},
   "source": [
    "Эта система подсчета частных производных при работе в обратном порядке известна, как метод обратного распространения ошибки, или backprop"
   ]
  },
  {
   "cell_type": "markdown",
   "metadata": {},
   "source": [
    "\\begin{align*}\n",
    "w1 = w1 - \\eta\n",
    "\\frac{\\partial L}{\\partial w1}\n",
    "\\end{align*}"
   ]
  },
  {
   "cell_type": "markdown",
   "metadata": {},
   "source": [
    "Если $ \\frac{\\partial L}{\\partial w1} $ положительная, w1 уменьшается, что приведет к уменьшению L"
   ]
  },
  {
   "cell_type": "markdown",
   "metadata": {},
   "source": [
    "Если $ \\frac{\\partial L}{\\partial w1} $ отрицательна, w1 увеличится, что приведет к уменьшению L"
   ]
  },
  {
   "cell_type": "markdown",
   "metadata": {},
   "source": [
    "Если мы применим это на каждый вес и смещение в сети, потеря будет постепенно снижаться, а показатели сети сильно улучшатся"
   ]
  },
  {
   "cell_type": "markdown",
   "metadata": {},
   "source": [
    "## 4.4 Scikit learn Perceptron"
   ]
  },
  {
   "cell_type": "code",
   "execution_count": null,
   "metadata": {},
   "outputs": [],
   "source": [
    "from sklearn.linear_model import Perceptron as skPerceptron"
   ]
  },
  {
   "cell_type": "code",
   "execution_count": null,
   "metadata": {},
   "outputs": [],
   "source": [
    "sk_perceptron = skPerceptron(random_state=0)\n",
    "sk_perceptron.fit(train_data, train_labels)"
   ]
  },
  {
   "cell_type": "code",
   "execution_count": null,
   "metadata": {},
   "outputs": [],
   "source": [
    "from sklearn import metrics"
   ]
  },
  {
   "cell_type": "code",
   "execution_count": null,
   "metadata": {},
   "outputs": [],
   "source": [
    "model_predictions_sk_perceptron = sk_perceptron.predict(test_data)\n",
    "print(metrics.accuracy_score(test_labels, model_predictions_sk_perceptron))\n",
    "print(metrics.classification_report(test_labels, model_predictions_sk_perceptron))"
   ]
  },
  {
   "cell_type": "code",
   "execution_count": null,
   "metadata": {},
   "outputs": [],
   "source": [
    "new_df = test_data\n",
    "new_df['target'] = test_labels\n",
    "\n",
    "new_df_0 = new_df\n",
    "new_df_1 = new_df\n",
    "new_df_2 = new_df\n",
    "\n",
    "new_df_0 = new_df_0.drop(new_df_0[new_df_0.target != 0].index)\n",
    "new_df_1 = new_df_1.drop(new_df_1[new_df_1.target != 1].index)\n",
    "new_df_2 = new_df_2.drop(new_df_2[new_df_2.target != 2].index)"
   ]
  },
  {
   "cell_type": "code",
   "execution_count": null,
   "metadata": {},
   "outputs": [],
   "source": [
    "error = [] # 1, если ошибка, 0 если правильно\n",
    "time = []\n",
    "colisions = []\n",
    "\n",
    "np_test_labels = test_labels['target'].to_numpy()\n",
    "np_test_time = test_data['time, 10^(-5) c'].to_numpy()\n",
    "np_test_colisions = test_data['colisions, 10^2'].to_numpy()\n",
    "\n",
    "for i in range(len(np_test_labels)):\n",
    "    if np_test_labels[i] == model_predictions_sk_perceptron[i]:\n",
    "        error.append(0)\n",
    "    else:\n",
    "        error.append(1)\n",
    "        \n",
    "for i in range(len(error)):\n",
    "    if error[i] == 1:\n",
    "        time.append(np_test_time[i])\n",
    "        colisions.append(np_test_colisions[i]) "
   ]
  },
  {
   "cell_type": "code",
   "execution_count": null,
   "metadata": {},
   "outputs": [],
   "source": [
    "import matplotlib.pyplot as plt\n",
    "\n",
    "from matplotlib.colors import ListedColormap\n",
    "colors = ListedColormap(['red', 'green','blue'])\n",
    "\n",
    "fig = plt.figure(figsize=(12,16))\n",
    "\n",
    "#  Заголовок области Figure:\n",
    "fig.suptitle('Perceptron sklearn',\n",
    "             y= 0.93,\n",
    "             fontsize = 20)\n",
    "\n",
    "plt.subplots_adjust(wspace=0.15, hspace=0.2)\n",
    "\n",
    "ax_1 = fig.add_subplot(3, 2, 1)\n",
    "ax_2 = fig.add_subplot(3, 2, 4)\n",
    "ax_3 = fig.add_subplot(3, 2, 3)\n",
    "ax_4 = fig.add_subplot(3, 2, 2)\n",
    "\n",
    "ax_1.set_xlim(0, 3)\n",
    "ax_1.set_ylim(0, 0.7)\n",
    "ax_2.set_xlim(0, 3)\n",
    "ax_2.set_ylim(0, 0.7)\n",
    "ax_3.set_xlim(0, 3)\n",
    "ax_3.set_ylim(0, 0.7)\n",
    "ax_4.set_xlim(0, 3)\n",
    "ax_4.set_ylim(0, 0.7)\n",
    "\n",
    "ax_1.set(title = 'Разделяющая поверхность')\n",
    "def get_grid():\n",
    "    x_min, x_max = 0, 4\n",
    "    y_min, y_max = 0, 1\n",
    "    return np.meshgrid(np.arange(x_min, x_max, 0.02),\n",
    "                         np.arange(y_min, y_max, 0.02))\n",
    "xx, yy = get_grid()\n",
    "predicted = sk_perceptron.predict(np.c_[xx.ravel(), yy.ravel()]).reshape(xx.shape)\n",
    "ax_1.pcolormesh(xx, yy, predicted, cmap=colors, alpha = 0.7)\n",
    "ax_1.scatter(test_data['time, 10^(-5) c'], test_data['colisions, 10^2'], c=test_labels['target'], s=15,\n",
    "             cmap=colors, edgecolors='black', linewidth=1.5)\n",
    "ax_1.set_ylabel('colisions, 10^2')\n",
    "ax_1.set_xlabel('time, 10^(-5) c')\n",
    "\n",
    "\n",
    "ax_2.set(title = 'Тестовый набор')\n",
    "ax_2.scatter(new_df_0['time, 10^(-5) c'], new_df_0['colisions, 10^2'], c='red',\n",
    "               s = 15, edgecolors = 'black', linewidths = 1, alpha = 0.5, label = 'Water')\n",
    "ax_2.scatter(new_df_1['time, 10^(-5) c'], new_df_1['colisions, 10^2'], c='green',\n",
    "               s = 15, edgecolors = 'black', linewidths = 1, alpha = 0.5, label = 'Heavy Plexiglass')\n",
    "ax_2.scatter(new_df_2['time, 10^(-5) c'], new_df_2['colisions, 10^2'], c='blue',\n",
    "               s = 15, edgecolors = 'black', linewidths = 1, alpha = 0.5, label = 'Heavy Water')\n",
    "ax_2.set_ylabel('colisions, 10^2')\n",
    "ax_2.set_xlabel('time, 10^(-5) c')\n",
    "ax_2.set_title('Тестовый набор')\n",
    "ax_2.set_xlim(left = 0)\n",
    "ax_2.legend()\n",
    "\n",
    "ax_3.set(title = 'Модель')\n",
    "ax_3.scatter(test_data['time, 10^(-5) c'], test_data['colisions, 10^2'], c=model_predictions_sk_perceptron, cmap=colors, s = 15\n",
    "            , edgecolors = 'black', linewidths = 1, alpha = 0.5)\n",
    "ax_3.set_ylabel('colisions, 10^2')\n",
    "ax_3.set_xlabel('time, 10^(-5) c')\n",
    "ax_3.set_title('Модель')\n",
    "ax_3.set_xlim(left = 0)\n",
    "\n",
    "ax_4.set(title = 'Ошибки')\n",
    "ax_4.pcolormesh(xx, yy, predicted, cmap=colors, alpha = 0.7)\n",
    "ax_4.scatter(time, colisions, c='yellow',\n",
    "               s = 15, edgecolors = 'black', linewidths = 1, alpha = 0.5)\n",
    "ax_4.set_ylabel('colisions, 10^2')\n",
    "ax_4.set_xlabel('time, 10^(-5) c')\n",
    "ax_4.set_title('Ошибки')\n",
    "ax_4.set_xlim(left = 0)\n",
    "ax_4.set_xlim(right = 3)\n",
    "ax_4.set_ylim(bottom = 0)\n",
    "ax_4.set_ylim(top = 0.7)\n",
    "\n",
    "plt.subplots_adjust(wspace=0.3, hspace=0.3)\n",
    "plt.show()\n",
    "\n",
    "print(metrics.classification_report(test_labels, model_predictions_sk_perceptron))"
   ]
  },
  {
   "cell_type": "markdown",
   "metadata": {},
   "source": [
    "## 4.5 PyTorch Азы"
   ]
  },
  {
   "cell_type": "code",
   "execution_count": null,
   "metadata": {},
   "outputs": [],
   "source": [
    "import torch\n",
    "\n",
    "torch.HalfTensor      # 16 бит, с плавающей точкой\n",
    "torch.FloatTensor     # 32 бита,  с плавающей точкой\n",
    "torch.DoubleTensor    # 64 бита, с плавающей точкой\n",
    "\n",
    "torch.ShortTensor     # 16 бит, целочисленный, знаковый\n",
    "torch.IntTensor       # 32 бита, целочисленный, знаковый\n",
    "torch.LongTensor      # 64 бита, целочисленный, знаковый\n",
    "\n",
    "torch.CharTensor      # 8 бит, целочисленный, знаковый\n",
    "torch.ByteTensor      # 8 бит, целочисленный, беззнаковый"
   ]
  },
  {
   "cell_type": "markdown",
   "metadata": {},
   "source": [
    "Создание Тензора"
   ]
  },
  {
   "cell_type": "code",
   "execution_count": null,
   "metadata": {},
   "outputs": [],
   "source": [
    "a = torch.FloatTensor([1, 2])\n",
    "a"
   ]
  },
  {
   "cell_type": "code",
   "execution_count": null,
   "metadata": {},
   "outputs": [],
   "source": [
    "a.shape"
   ]
  },
  {
   "cell_type": "code",
   "execution_count": null,
   "metadata": {},
   "outputs": [],
   "source": [
    "b = torch.FloatTensor([[1,2,3], [4,5,6]])\n",
    "b"
   ]
  },
  {
   "cell_type": "code",
   "execution_count": null,
   "metadata": {},
   "outputs": [],
   "source": [
    "b.shape"
   ]
  },
  {
   "cell_type": "code",
   "execution_count": null,
   "metadata": {},
   "outputs": [],
   "source": [
    "x = torch.IntTensor(3, 2).zero_()\n",
    "x"
   ]
  },
  {
   "cell_type": "markdown",
   "metadata": {},
   "source": [
    "Операторы"
   ]
  },
  {
   "cell_type": "markdown",
   "metadata": {},
   "source": [
    "Сложение"
   ]
  },
  {
   "cell_type": "code",
   "execution_count": null,
   "metadata": {},
   "outputs": [],
   "source": [
    "a = torch.FloatTensor([[1, 2, 3], [10, 20, 30], [100, 200, 300]])\n",
    "b = torch.FloatTensor([[-1, -2, -3], [-10, -20, -30], [100, 200, 300]])"
   ]
  },
  {
   "cell_type": "code",
   "execution_count": null,
   "metadata": {},
   "outputs": [],
   "source": [
    "a.add(b)"
   ]
  },
  {
   "cell_type": "markdown",
   "metadata": {},
   "source": [
    "Вычитание"
   ]
  },
  {
   "cell_type": "code",
   "execution_count": null,
   "metadata": {},
   "outputs": [],
   "source": [
    "a.sub(b)"
   ]
  },
  {
   "cell_type": "markdown",
   "metadata": {},
   "source": [
    "Умножение поэлементное"
   ]
  },
  {
   "cell_type": "code",
   "execution_count": null,
   "metadata": {},
   "outputs": [],
   "source": [
    "a.mul(b)"
   ]
  },
  {
   "cell_type": "markdown",
   "metadata": {},
   "source": [
    "Деление поэлементное"
   ]
  },
  {
   "cell_type": "code",
   "execution_count": null,
   "metadata": {},
   "outputs": [],
   "source": [
    "a.div(b)"
   ]
  },
  {
   "cell_type": "markdown",
   "metadata": {},
   "source": [
    "Операторы сравнения"
   ]
  },
  {
   "cell_type": "code",
   "execution_count": null,
   "metadata": {},
   "outputs": [],
   "source": [
    "a == b"
   ]
  },
  {
   "cell_type": "code",
   "execution_count": null,
   "metadata": {},
   "outputs": [],
   "source": [
    "a != b"
   ]
  },
  {
   "cell_type": "code",
   "execution_count": null,
   "metadata": {},
   "outputs": [],
   "source": [
    "a < b"
   ]
  },
  {
   "cell_type": "code",
   "execution_count": null,
   "metadata": {},
   "outputs": [],
   "source": [
    "a > b"
   ]
  },
  {
   "cell_type": "markdown",
   "metadata": {},
   "source": [
    "Стандартные функции как в numpy"
   ]
  },
  {
   "cell_type": "code",
   "execution_count": null,
   "metadata": {},
   "outputs": [],
   "source": [
    "a.log()"
   ]
  },
  {
   "cell_type": "code",
   "execution_count": null,
   "metadata": {},
   "outputs": [],
   "source": [
    "a.sum()"
   ]
  },
  {
   "cell_type": "code",
   "execution_count": null,
   "metadata": {},
   "outputs": [],
   "source": [
    "a.mean()"
   ]
  },
  {
   "cell_type": "markdown",
   "metadata": {},
   "source": [
    "По осям:"
   ]
  },
  {
   "cell_type": "code",
   "execution_count": null,
   "metadata": {},
   "outputs": [],
   "source": [
    "a"
   ]
  },
  {
   "cell_type": "code",
   "execution_count": null,
   "metadata": {},
   "outputs": [],
   "source": [
    "a.sum(0)"
   ]
  },
  {
   "cell_type": "code",
   "execution_count": null,
   "metadata": {},
   "outputs": [],
   "source": [
    "a.sum(1)"
   ]
  },
  {
   "cell_type": "code",
   "execution_count": null,
   "metadata": {},
   "outputs": [],
   "source": [
    "a.max()"
   ]
  },
  {
   "cell_type": "code",
   "execution_count": null,
   "metadata": {},
   "outputs": [],
   "source": [
    "a.max(0)"
   ]
  },
  {
   "cell_type": "markdown",
   "metadata": {},
   "source": [
    "Матричные операции"
   ]
  },
  {
   "cell_type": "markdown",
   "metadata": {},
   "source": [
    "Транспонирование"
   ]
  },
  {
   "cell_type": "code",
   "execution_count": null,
   "metadata": {},
   "outputs": [],
   "source": [
    "a"
   ]
  },
  {
   "cell_type": "code",
   "execution_count": null,
   "metadata": {},
   "outputs": [],
   "source": [
    "a.t()"
   ]
  },
  {
   "cell_type": "markdown",
   "metadata": {},
   "source": [
    "Скалярное произведение векторов"
   ]
  },
  {
   "cell_type": "code",
   "execution_count": null,
   "metadata": {},
   "outputs": [],
   "source": [
    "a = torch.FloatTensor([1, 2, 3, 4, 5, 6])\n",
    "b = torch.FloatTensor([-1, -2, -4, -6, -8, -10])"
   ]
  },
  {
   "cell_type": "code",
   "execution_count": null,
   "metadata": {},
   "outputs": [],
   "source": [
    "a.dot(b)"
   ]
  },
  {
   "cell_type": "code",
   "execution_count": null,
   "metadata": {},
   "outputs": [],
   "source": [
    "a @ b"
   ]
  },
  {
   "cell_type": "markdown",
   "metadata": {},
   "source": [
    "Матричное умножение "
   ]
  },
  {
   "cell_type": "code",
   "execution_count": null,
   "metadata": {},
   "outputs": [],
   "source": [
    "a = torch.FloatTensor([[1, 2, 3], [10, 20, 30], [100, 200, 300]])\n",
    "b = torch.FloatTensor([[-1, -2, -3], [-10, -20, -30], [100, 200, 300]])"
   ]
  },
  {
   "cell_type": "code",
   "execution_count": null,
   "metadata": {},
   "outputs": [],
   "source": [
    "a"
   ]
  },
  {
   "cell_type": "code",
   "execution_count": null,
   "metadata": {},
   "outputs": [],
   "source": [
    "b"
   ]
  },
  {
   "cell_type": "code",
   "execution_count": null,
   "metadata": {},
   "outputs": [],
   "source": [
    "a.mm(b)"
   ]
  },
  {
   "cell_type": "code",
   "execution_count": null,
   "metadata": {},
   "outputs": [],
   "source": [
    "a @ b"
   ]
  },
  {
   "cell_type": "code",
   "execution_count": null,
   "metadata": {},
   "outputs": [],
   "source": [
    "a = torch.FloatTensor([[1, 2, 3], [10, 20, 30], [100, 200, 300]])\n",
    "b = torch.FloatTensor([[-1], [-10], [100]])"
   ]
  },
  {
   "cell_type": "code",
   "execution_count": null,
   "metadata": {},
   "outputs": [],
   "source": [
    "print(a.shape, b.shape)"
   ]
  },
  {
   "cell_type": "code",
   "execution_count": null,
   "metadata": {},
   "outputs": [],
   "source": [
    "a.mm(b)"
   ]
  },
  {
   "cell_type": "code",
   "execution_count": null,
   "metadata": {},
   "outputs": [],
   "source": [
    "b.view(-1)"
   ]
  },
  {
   "cell_type": "markdown",
   "metadata": {},
   "source": [
    "Перевод из numpy в pytorch"
   ]
  },
  {
   "cell_type": "code",
   "execution_count": null,
   "metadata": {},
   "outputs": [],
   "source": [
    "import numpy as np\n",
    "\n",
    "a = np.random.rand(3, 3)\n",
    "a"
   ]
  },
  {
   "cell_type": "code",
   "execution_count": null,
   "metadata": {},
   "outputs": [],
   "source": [
    "b = torch.from_numpy(a)\n",
    "b"
   ]
  },
  {
   "cell_type": "markdown",
   "metadata": {},
   "source": [
    "a и b в этом случае будут использовать одно и то же хранилище данных, то есть измение одного тензора будет менять и другой"
   ]
  },
  {
   "cell_type": "code",
   "execution_count": null,
   "metadata": {},
   "outputs": [],
   "source": [
    "b -= b\n",
    "b"
   ]
  },
  {
   "cell_type": "code",
   "execution_count": null,
   "metadata": {},
   "outputs": [],
   "source": [
    "a"
   ]
  },
  {
   "cell_type": "markdown",
   "metadata": {},
   "source": [
    "Перевод из pytorch в numpy"
   ]
  },
  {
   "cell_type": "code",
   "execution_count": null,
   "metadata": {},
   "outputs": [],
   "source": [
    "a = torch.FloatTensor(2, 3)"
   ]
  },
  {
   "cell_type": "code",
   "execution_count": null,
   "metadata": {},
   "outputs": [],
   "source": [
    "a"
   ]
  },
  {
   "cell_type": "code",
   "execution_count": null,
   "metadata": {
    "scrolled": true
   },
   "outputs": [],
   "source": [
    "x = a.numpy()\n",
    "x"
   ]
  },
  {
   "cell_type": "markdown",
   "metadata": {},
   "source": [
    "## 4.6 CUDA"
   ]
  },
  {
   "cell_type": "code",
   "execution_count": null,
   "metadata": {},
   "outputs": [],
   "source": [
    "x = torch.FloatTensor(1024, 1024).uniform_()\n",
    "x"
   ]
  },
  {
   "cell_type": "code",
   "execution_count": null,
   "metadata": {},
   "outputs": [],
   "source": [
    "x.is_cuda"
   ]
  },
  {
   "cell_type": "code",
   "execution_count": null,
   "metadata": {},
   "outputs": [],
   "source": [
    "x = x.cuda()"
   ]
  },
  {
   "cell_type": "code",
   "execution_count": null,
   "metadata": {},
   "outputs": [],
   "source": [
    "x.is_cuda"
   ]
  },
  {
   "cell_type": "code",
   "execution_count": null,
   "metadata": {},
   "outputs": [],
   "source": [
    "a = torch.FloatTensor(10000, 10000).uniform_()\n",
    "b = torch.FloatTensor(10000, 10000).uniform_()\n",
    "c = a.cuda().mul(b.cuda()).cpu()"
   ]
  },
  {
   "cell_type": "markdown",
   "metadata": {},
   "source": [
    "Сравнение времени перемножения"
   ]
  },
  {
   "cell_type": "code",
   "execution_count": null,
   "metadata": {},
   "outputs": [],
   "source": [
    "a.is_cuda"
   ]
  },
  {
   "cell_type": "code",
   "execution_count": null,
   "metadata": {},
   "outputs": [],
   "source": [
    "b.is_cuda"
   ]
  },
  {
   "cell_type": "code",
   "execution_count": null,
   "metadata": {},
   "outputs": [],
   "source": [
    "from datetime import datetime\n",
    "import time"
   ]
  },
  {
   "cell_type": "code",
   "execution_count": null,
   "metadata": {},
   "outputs": [],
   "source": [
    "start_time = datetime.now()\n",
    "c = a.mul(b)\n",
    "print(datetime.now() - start_time)"
   ]
  },
  {
   "cell_type": "code",
   "execution_count": null,
   "metadata": {},
   "outputs": [],
   "source": [
    "a = a.cuda()\n",
    "a.is_cuda"
   ]
  },
  {
   "cell_type": "code",
   "execution_count": null,
   "metadata": {},
   "outputs": [],
   "source": [
    "b = b.cuda()\n",
    "b.is_cuda"
   ]
  },
  {
   "cell_type": "code",
   "execution_count": null,
   "metadata": {
    "scrolled": true
   },
   "outputs": [],
   "source": [
    "start_time = datetime.now()\n",
    "c = a.mul(b)\n",
    "print(datetime.now() - start_time)"
   ]
  },
  {
   "cell_type": "markdown",
   "metadata": {},
   "source": [
    "## 4.7 Однослойная нейронная сеть на pytorch"
   ]
  },
  {
   "cell_type": "code",
   "execution_count": null,
   "metadata": {},
   "outputs": [],
   "source": [
    "N = 100\n",
    "D = 2\n",
    "K = 3\n",
    "X = np.zeros((N * K, D))\n",
    "y = np.zeros(N * K, dtype='uint8')"
   ]
  },
  {
   "cell_type": "code",
   "execution_count": null,
   "metadata": {},
   "outputs": [],
   "source": [
    "X.shape"
   ]
  },
  {
   "cell_type": "code",
   "execution_count": null,
   "metadata": {},
   "outputs": [],
   "source": [
    "y.shape"
   ]
  },
  {
   "cell_type": "code",
   "execution_count": null,
   "metadata": {},
   "outputs": [],
   "source": [
    "train_data.head(2)"
   ]
  },
  {
   "cell_type": "code",
   "execution_count": null,
   "metadata": {},
   "outputs": [],
   "source": [
    "train_data.shape"
   ]
  },
  {
   "cell_type": "code",
   "execution_count": null,
   "metadata": {},
   "outputs": [],
   "source": [
    "train_labels.head(2)"
   ]
  },
  {
   "cell_type": "code",
   "execution_count": null,
   "metadata": {},
   "outputs": [],
   "source": [
    "train_labels.shape"
   ]
  },
  {
   "cell_type": "code",
   "execution_count": null,
   "metadata": {},
   "outputs": [],
   "source": [
    "X = train_data.to_numpy()\n",
    "y = train_labels['target'].to_numpy()"
   ]
  },
  {
   "cell_type": "code",
   "execution_count": null,
   "metadata": {},
   "outputs": [],
   "source": [
    "y"
   ]
  },
  {
   "cell_type": "code",
   "execution_count": null,
   "metadata": {},
   "outputs": [],
   "source": [
    "X = torch.autograd.Variable(torch.FloatTensor(X))\n",
    "y = torch.autograd.Variable(torch.LongTensor(y.astype(np.int64)))"
   ]
  },
  {
   "cell_type": "code",
   "execution_count": null,
   "metadata": {},
   "outputs": [],
   "source": [
    "print(X.data.shape, y.data.shape)"
   ]
  },
  {
   "cell_type": "code",
   "execution_count": null,
   "metadata": {},
   "outputs": [],
   "source": [
    "# пример взят из официального туториала: \n",
    "# https://pytorch.org/tutorials/beginner/pytorch_with_examples.html\n",
    "\n",
    "# N - размер батча (batch_size, нужно для метода оптимизации); \n",
    "# D_in - размерность входа (количество признаков у объекта);\n",
    "# H - размерность скрытых слоёв; \n",
    "# D_out - размерность выходного слоя (суть - количество классов)\n",
    "N, D_in, H, D_out = 10, 2, 10, 3\n",
    "\n",
    "# Use the nn package to define our model and loss function.\n",
    "two_layer_net = torch.nn.Sequential(\n",
    "    torch.nn.Linear(D_in, H),\n",
    "    torch.nn.ReLU(),\n",
    "    torch.nn.Linear(H, D_out),\n",
    ")\n",
    "\n",
    "loss_fn = torch.nn.CrossEntropyLoss(size_average=False)\n",
    "\n",
    "learning_rate = 5e-4\n",
    "optimizer = torch.optim.SGD(two_layer_net.parameters(), lr=learning_rate)\n",
    "for t in range(500):\n",
    "    # forward\n",
    "    y_pred = two_layer_net(X)\n",
    "\n",
    "    # loss\n",
    "    loss = loss_fn(y_pred, y)\n",
    "    if t % 10 == 50:\n",
    "        print('{} {}'.format(t, loss.data))\n",
    "\n",
    "    # ЗАНУЛЯЕМ!\n",
    "    optimizer.zero_grad()\n",
    "\n",
    "    # backward\n",
    "    loss.backward()\n",
    "\n",
    "    # ОБНОВЛЯЕМ! \n",
    "    optimizer.step()"
   ]
  },
  {
   "cell_type": "code",
   "execution_count": null,
   "metadata": {},
   "outputs": [],
   "source": [
    "h = 0.01\n",
    "x_min, x_max = X[:, 0].min(), X[:, 0].max()\n",
    "y_min, y_max = X[:, 1].min(), X[:, 1].max()\n",
    "\n",
    "xx, yy = np.meshgrid(np.arange(x_min, x_max, h),\n",
    "                     np.arange(y_min, y_max, h))\n",
    "grid_tensor = torch.FloatTensor(np.c_[xx.ravel(), yy.ravel()])\n",
    "\n",
    "Z = two_layer_net(torch.autograd.Variable(grid_tensor))\n",
    "Z = Z.data.numpy()\n",
    "Z = np.argmax(Z, axis=1)\n",
    "Z = Z.reshape(xx.shape)\n",
    "\n",
    "plt.figure(figsize=(10, 8))\n",
    "\n",
    "plt.contourf(xx, yy, Z, cmap=colors, alpha=0.7)\n",
    "plt.scatter(X[:, 0], X[:, 1], c=y, s=20, cmap=colors, edgecolors='black', linewidth=1.0)\n",
    "\n",
    "plt.xlim(xx.min(), xx.max())\n",
    "plt.ylim(yy.min(), yy.max())\n",
    "\n",
    "plt.title('Нейронная сеть', fontsize=15)\n",
    "plt.xlabel('$colisions, 10^2$', fontsize=14)\n",
    "plt.ylabel('$time, 10^(-5) c$', fontsize=14)\n",
    "plt.show();"
   ]
  },
  {
   "cell_type": "markdown",
   "metadata": {},
   "source": [
    "## 4.8 Многослойная нейронная сеть на pytorch"
   ]
  },
  {
   "cell_type": "code",
   "execution_count": null,
   "metadata": {},
   "outputs": [],
   "source": [
    "# пример взят из официального туториала: \n",
    "# https://pytorch.org/tutorials/beginner/pytorch_with_examples.html\n",
    "\n",
    "# N - размер батча (batch_size, нужно для метода оптимизации); \n",
    "# D_in - размерность входа (количество признаков у объекта);\n",
    "# H - размерность скрытых слоёв; \n",
    "# D_out - размерность выходного слоя (суть - количество классов)\n",
    "N, D_in, H, D_out = 10, 2, 5, 3\n",
    "\n",
    "# Use the nn package to define our model and loss function.\n",
    "two_layer_net = torch.nn.Sequential(\n",
    "    torch.nn.Linear(D_in, H),\n",
    "    torch.nn.Tanh(),\n",
    "    torch.nn.Linear(H, H),\n",
    "    torch.nn.ReLU(),\n",
    "    torch.nn.Linear(H, D_out),\n",
    ")\n",
    "\n",
    "loss_fn = torch.nn.CrossEntropyLoss(size_average=False)\n",
    "\n",
    "learning_rate = 5e-4\n",
    "optimizer = torch.optim.SGD(two_layer_net.parameters(), lr=learning_rate)\n",
    "for t in range(500):\n",
    "    # forward\n",
    "    y_pred = two_layer_net(X)\n",
    "\n",
    "    # loss\n",
    "    loss = loss_fn(y_pred, y)\n",
    "    if t % 10 == 50:\n",
    "        print('{} {}'.format(t, loss.data))\n",
    "\n",
    "    # ЗАНУЛЯЕМ!\n",
    "    optimizer.zero_grad()\n",
    "\n",
    "    # backward\n",
    "    loss.backward()\n",
    "\n",
    "    # ОБНОВЛЯЕМ! \n",
    "    optimizer.step()"
   ]
  },
  {
   "cell_type": "code",
   "execution_count": null,
   "metadata": {},
   "outputs": [],
   "source": [
    "h = 0.01\n",
    "x_min, x_max = X[:, 0].min(), X[:, 0].max()\n",
    "y_min, y_max = X[:, 1].min(), X[:, 1].max()\n",
    "\n",
    "xx, yy = np.meshgrid(np.arange(x_min, x_max, h),\n",
    "                     np.arange(y_min, y_max, h))\n",
    "grid_tensor = torch.FloatTensor(np.c_[xx.ravel(), yy.ravel()])\n",
    "\n",
    "Z = two_layer_net(torch.autograd.Variable(grid_tensor))\n",
    "Z = Z.data.numpy()\n",
    "Z = np.argmax(Z, axis=1)\n",
    "Z = Z.reshape(xx.shape)\n",
    "\n",
    "plt.figure(figsize=(10, 8))\n",
    "\n",
    "plt.contourf(xx, yy, Z, cmap=colors, alpha=0.7)\n",
    "plt.scatter(X[:, 0], X[:, 1], c=y, s=20, cmap=colors, edgecolors='black', linewidth=1.0)\n",
    "\n",
    "plt.xlim(xx.min(), xx.max())\n",
    "plt.ylim(yy.min(), yy.max())\n",
    "\n",
    "plt.title('Нейронная сеть', fontsize=15)\n",
    "plt.xlabel('$colisions, 10^2$', fontsize=14)\n",
    "plt.ylabel('$time, 10^(-5) c$', fontsize=14)\n",
    "plt.show();"
   ]
  }
 ],
 "metadata": {
  "kernelspec": {
   "display_name": "Python 3",
   "language": "python",
   "name": "python3"
  },
  "language_info": {
   "codemirror_mode": {
    "name": "ipython",
    "version": 3
   },
   "file_extension": ".py",
   "mimetype": "text/x-python",
   "name": "python",
   "nbconvert_exporter": "python",
   "pygments_lexer": "ipython3",
   "version": "3.8.5"
  }
 },
 "nbformat": 4,
 "nbformat_minor": 4
}
