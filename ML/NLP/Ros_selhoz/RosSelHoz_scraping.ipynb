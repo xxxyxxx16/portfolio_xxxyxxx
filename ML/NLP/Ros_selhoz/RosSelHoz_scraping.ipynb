{
 "cells": [
  {
   "cell_type": "markdown",
   "metadata": {},
   "source": [
    "# Банки ру"
   ]
  },
  {
   "cell_type": "markdown",
   "metadata": {},
   "source": [
    "## Парсинг сайта"
   ]
  },
  {
   "cell_type": "markdown",
   "metadata": {},
   "source": [
    "Выберем 3 тематики отзывов физических лиц:\n",
    "\n",
    "– Кредитная карта;\n",
    "\n",
    "– Ипотека;\n",
    "\n",
    "– Вклад"
   ]
  },
  {
   "cell_type": "code",
   "execution_count": 1,
   "metadata": {},
   "outputs": [],
   "source": [
    "#неизменные части адресной строки\n",
    "s1 = 'https://www.banki.ru/services/responses/bank/rshb/product/'\n",
    "s2 = '/?page='\n",
    "s3 = '&isMobile=0'\n",
    "\n",
    "# Пример первой страницы отзывово для кредитной карты\n",
    "# https://www.banki.ru/services/responses/bank/rshb/product/creditcards/?page=1&isMobile=0\n",
    "# Пример первой страницы отзывово для ипотеки\n",
    "#https://www.banki.ru/services/responses/bank/rshb/product/hypothec/?isMobile=0\n",
    "#Пример первой страницы отзывово для депозита\n",
    "# https://www.banki.ru/services/responses/bank/rshb/product/deposits/?isMobile=0"
   ]
  },
  {
   "cell_type": "code",
   "execution_count": 2,
   "metadata": {},
   "outputs": [],
   "source": [
    "products = ['creditcards', 'hypothec', 'deposits']"
   ]
  },
  {
   "cell_type": "code",
   "execution_count": 3,
   "metadata": {},
   "outputs": [],
   "source": [
    "# функция построения адреса строки\n",
    "def URL_name(s1, s2, s3, product, page):\n",
    "    return s1+product+s2+str(page)+s3"
   ]
  },
  {
   "cell_type": "code",
   "execution_count": 4,
   "metadata": {},
   "outputs": [
    {
     "data": {
      "text/plain": [
       "'https://www.banki.ru/services/responses/bank/rshb/product/creditcards/?page=1&isMobile=0'"
      ]
     },
     "execution_count": 4,
     "metadata": {},
     "output_type": "execute_result"
    }
   ],
   "source": [
    "URL = URL_name(s1, s2, s3, products[0], 1)\n",
    "URL"
   ]
  },
  {
   "cell_type": "markdown",
   "metadata": {},
   "source": [
    "Проверка парсинга"
   ]
  },
  {
   "cell_type": "code",
   "execution_count": 5,
   "metadata": {},
   "outputs": [
    {
     "name": "stdout",
     "output_type": "stream",
     "text": [
      "<!DOCTYPE html>\n",
      "<html class=\"env-no-js env-desktop\" data-ui-version=\"2013\" prefix=\"ya: http://webmaster.yandex.ru/vocabularies/\n",
      "og: http://ogp.me/ns#\" xmlns=\"http://www.w3.org/1999/xhtml\" xmlns:fb=\"http://www.facebook.com/2008/fbml\" xmlns:og=\"http://opengraphprotocol.org/schema/\">\n",
      " <head>\n",
      "  <link hr\n"
     ]
    }
   ],
   "source": [
    "import requests\n",
    "from bs4 import BeautifulSoup\n",
    "\n",
    "URL = URL_name(s1, s2, s3, products[0], 1)\n",
    "response = requests.get(URL) # get-запрос\n",
    "soup = BeautifulSoup(response.content)\n",
    "print(soup.prettify()[0:300])"
   ]
  },
  {
   "cell_type": "code",
   "execution_count": 6,
   "metadata": {},
   "outputs": [
    {
     "data": {
      "text/plain": [
       "'https://www.banki.ru/services/responses/bank/rshb/product/creditcards/?page=1&isMobile=0'"
      ]
     },
     "execution_count": 6,
     "metadata": {},
     "output_type": "execute_result"
    }
   ],
   "source": [
    "URL"
   ]
  },
  {
   "cell_type": "code",
   "execution_count": 7,
   "metadata": {
    "scrolled": true
   },
   "outputs": [],
   "source": [
    "# Функция scraping отзывов\n",
    "\n",
    "import re\n",
    "\n",
    "def scraping(soup, attr_filter):\n",
    "    div = soup.find_all('div', attr_filter)\n",
    "    list_of_inner_text = [x.text for x in div]\n",
    "    \n",
    "    for i in range(len(list_of_inner_text)):\n",
    "        list_of_inner_text[i] = re.sub(r\"['\\n']\", \"\", list_of_inner_text[i])\n",
    "        list_of_inner_text[i] = re.sub(r\"['\\t']\", \"\", list_of_inner_text[i])\n",
    "        list_of_inner_text[i] = re.sub(r\"['\\xa0']\", \"\", list_of_inner_text[i])\n",
    "        \n",
    "    return list_of_inner_text"
   ]
  },
  {
   "cell_type": "markdown",
   "metadata": {},
   "source": [
    "Проверка scraping"
   ]
  },
  {
   "cell_type": "code",
   "execution_count": 8,
   "metadata": {},
   "outputs": [
    {
     "data": {
      "text/plain": [
       "['В который раз пришлось обратиться за консультацией в контактный центр банка Россельхозбанк, ввиду того, что личный кабинет заемщика не отображает полной информации о начисленных процентах и запланированной даты списания. И снова полное фиаско. Абсолютно безграмотный и не клиентоориентированный подход. Не могут грамотно ответить ни на один вопрос, всё отлучаются на 2 минуты, наверное шпаргалки читать-что ответить клиенту на заданный вопрос. На мой вопрос почему банк не предоставляет сведений о размере и дате списания начисленных % по кредитной карте, специалист контактного центра меня уверял, что мне нужно найти в ЛК вкладку \"график платежей\".... О чем говорить дальше... Был случай по этой же кредитной карте, когда я вернула всю сумму лимита в установленный банком и условиями договора льготный период, и даже на карте были собственные средства сверх лимита, всё равно, спустя 10-11 дней, банк мне выставил задолженность по карте и списал %. Обращалась в центральный офис банка в городе Орле к специалисту по кредитным картам, девушка ничего внятно объяснить не смогла, сказала. что будет писать запрос в Москву и со мной свяжется. НЕ связалась от слова совсем. Я самостоятельно писала обращения на сайте банка о некорректно работающем личном кабинете, даже с сайта банка мое обращение было ПРОИГНОРИРОВАНО. Я крайне не советую данную кредитную организацию.',\n",
       " 'Обратилась в банк с целью получения кредита(самые низкие ставки),получить сразу его не смогла, т.к оказалось что на счету был арест, который был ошибочно наложен приставами, на следующий же день его разблокировали,я смогла получить кредит и мне установили удобное приложение,разьяснили все понятно и грамотно!Хочу выразить благодарность за компетентность, четкость в работе Сангаджиеву Викторию Ю.(офис банка на ул. Ю. Клыкова 87 окно № 17 ), при любом обращении всегда получаю быструю и квалифицированную помощь! Спасибо огромное вам Виктория!я ваш постоянный клиент! Спасибо!',\n",
       " 'Работники дополнительного офиса Россельхозбанка в г. Чегем очень вежливые и обслуживают клиентов оперативно и профессионально. Обращаюсь в офис регулярно с периодичностью 1 раз в месяц и всегда ухожу оттуда довольная обслуживанием специалистов. Также хочется отметить, что в помещении офиса всегда чисто и опрятно.']"
      ]
     },
     "execution_count": 8,
     "metadata": {},
     "output_type": "execute_result"
    }
   ],
   "source": [
    "attr_filter = {'class': 'responses__item__message markup-inside-small markup-inside-small--bullet'}\n",
    "\n",
    "list_1 = scraping(soup, attr_filter)\n",
    "list_1[0:3]"
   ]
  },
  {
   "cell_type": "markdown",
   "metadata": {},
   "source": [
    "Непосредстевенный scraping"
   ]
  },
  {
   "cell_type": "code",
   "execution_count": 9,
   "metadata": {},
   "outputs": [],
   "source": [
    "pages = 30 # число страниц для парсинга для каждого продукта\n",
    "list_of_text_creditcards = [] # список отзывов по кредитным картам, класс 0 целевой\n",
    "list_of_text_hypothec = [] # список отзывов по ипотеке, класс 1 целевой\n",
    "list_of_text_deposits = [] # список отзывов по вкладам, класс 2 целевой"
   ]
  },
  {
   "cell_type": "code",
   "execution_count": 10,
   "metadata": {},
   "outputs": [
    {
     "name": "stdout",
     "output_type": "stream",
     "text": [
      "page =  1\n",
      "page =  2\n",
      "page =  3\n",
      "page =  4\n",
      "page =  5\n",
      "page =  6\n",
      "page =  7\n",
      "page =  8\n",
      "page =  9\n",
      "page =  10\n",
      "page =  11\n",
      "page =  12\n",
      "page =  13\n",
      "page =  14\n",
      "page =  15\n",
      "page =  16\n",
      "page =  17\n",
      "page =  18\n",
      "page =  19\n",
      "page =  20\n",
      "page =  21\n",
      "page =  22\n",
      "page =  23\n",
      "page =  24\n",
      "page =  25\n",
      "page =  26\n",
      "page =  27\n",
      "page =  28\n",
      "page =  29\n",
      "page =  30\n"
     ]
    }
   ],
   "source": [
    "import time as time\n",
    "\n",
    "attr_filter = {'class': 'responses__item__message markup-inside-small markup-inside-small--bullet'}\n",
    "\n",
    "# creditcards\n",
    "for j in range(1, pages+1):\n",
    "    print('page = ', j )\n",
    "    URL = URL_name(s1, s2, s3, products[0], j)\n",
    "    response = requests.get(URL) # get-запрос\n",
    "    time.sleep(5) # Задержка по времени, чтобы сервер не ругался\n",
    "    soup = BeautifulSoup(response.content)\n",
    "    list_1 = scraping(soup, attr_filter)\n",
    "    for i in range(len(list_1)):\n",
    "        list_of_text_creditcards.append(list_1[i])"
   ]
  },
  {
   "cell_type": "code",
   "execution_count": 11,
   "metadata": {},
   "outputs": [
    {
     "name": "stdout",
     "output_type": "stream",
     "text": [
      "page =  1\n",
      "page =  2\n",
      "page =  3\n",
      "page =  4\n",
      "page =  5\n",
      "page =  6\n",
      "page =  7\n",
      "page =  8\n",
      "page =  9\n",
      "page =  10\n",
      "page =  11\n",
      "page =  12\n",
      "page =  13\n",
      "page =  14\n",
      "page =  15\n",
      "page =  16\n",
      "page =  17\n",
      "page =  18\n",
      "page =  19\n",
      "page =  20\n",
      "page =  21\n",
      "page =  22\n",
      "page =  23\n",
      "page =  24\n",
      "page =  25\n",
      "page =  26\n",
      "page =  27\n",
      "page =  28\n",
      "page =  29\n",
      "page =  30\n"
     ]
    }
   ],
   "source": [
    "# hypothec\n",
    "for j in range(1, pages+1):\n",
    "    print('page = ', j )\n",
    "    URL = URL_name(s1, s2, s3, products[1], j)\n",
    "    response = requests.get(URL) # get-запрос\n",
    "    time.sleep(5) # Задержка по времени, чтобы сервер не ругался\n",
    "    soup = BeautifulSoup(response.content)\n",
    "    list_1 = scraping(soup, attr_filter)\n",
    "    for i in range(len(list_1)):\n",
    "        list_of_text_hypothec.append(list_1[i])"
   ]
  },
  {
   "cell_type": "code",
   "execution_count": 12,
   "metadata": {},
   "outputs": [
    {
     "name": "stdout",
     "output_type": "stream",
     "text": [
      "page =  1\n",
      "page =  2\n",
      "page =  3\n",
      "page =  4\n",
      "page =  5\n",
      "page =  6\n",
      "page =  7\n",
      "page =  8\n",
      "page =  9\n",
      "page =  10\n",
      "page =  11\n",
      "page =  12\n",
      "page =  13\n",
      "page =  14\n",
      "page =  15\n",
      "page =  16\n",
      "page =  17\n",
      "page =  18\n",
      "page =  19\n",
      "page =  20\n",
      "page =  21\n",
      "page =  22\n",
      "page =  23\n",
      "page =  24\n",
      "page =  25\n",
      "page =  26\n",
      "page =  27\n",
      "page =  28\n",
      "page =  29\n",
      "page =  30\n"
     ]
    }
   ],
   "source": [
    "# deposits\n",
    "for j in range(1, pages+1):\n",
    "    print('page = ', j )\n",
    "    URL = URL_name(s1, s2, s3, products[2], j)\n",
    "    response = requests.get(URL) # get-запрос\n",
    "    time.sleep(5) # Задержка по времени, чтобы сервер не ругался\n",
    "    soup = BeautifulSoup(response.content)\n",
    "    list_1 = scraping(soup, attr_filter)\n",
    "    for i in range(len(list_1)):\n",
    "        list_of_text_deposits.append(list_1[i])"
   ]
  },
  {
   "cell_type": "code",
   "execution_count": 13,
   "metadata": {},
   "outputs": [
    {
     "name": "stdout",
     "output_type": "stream",
     "text": [
      "750\n",
      "750\n",
      "750\n"
     ]
    }
   ],
   "source": [
    "# проверка колличества отзывов\n",
    "print(len(list_of_text_creditcards))\n",
    "print(len(list_of_text_hypothec))\n",
    "print(len(list_of_text_deposits))"
   ]
  },
  {
   "cell_type": "code",
   "execution_count": 14,
   "metadata": {},
   "outputs": [
    {
     "data": {
      "text/plain": [
       "'Выплатили только 1% кэшбэк в повышенной категории \"Телекоммуникации\" по \"Карте хозяина\" за май. При этом тарифы меняются только с 1.07.20. значит, как минимум должны были начислить по старым тарифам ещё 2 раза, за май и за июнь! Очень надеюсь, что это была просто техническая ошибка, связанная с переходом и все поправят.'"
      ]
     },
     "execution_count": 14,
     "metadata": {},
     "output_type": "execute_result"
    }
   ],
   "source": [
    "# проверка отзывов\n",
    "# 100ый отзыв по кредитным картам\n",
    "list_of_text_creditcards[99]"
   ]
  },
  {
   "cell_type": "code",
   "execution_count": 15,
   "metadata": {},
   "outputs": [
    {
     "data": {
      "text/plain": [
       "'Подали в банк заявку на сельхозипотеку. Попали на начало режима ограничений - апрель. Вопреки всем отзывам заявку одобрили быстро, примерно через неделю решение было на руках. Объект уже был выбран. На этом все хорошее закончилось.Заявку подавали на строящееся жилье. Однако менеджер банка заверил, что одобрение пришло уже на готовое и нужно переделать документы. В итоге нам вместе с застройщиком в короткие сроки пришлось достраивать дом и проводить необходимые коммуникации, чтобы зарегистрировать объект. Кроме того, банк потребовал переделать брачный договор, где указать, что объект приобретается именно с привлечением средств Россельхозбанка (позже другой менеджер заверил, что банк не вправе предъявлять такое требование, и это ошибка).Через месяц, когда все документы были готовы, закончились лимиты. Тут понятно, не в банке дело, ждем. Лимиты пришли, банк проверяет документы на объект. Все хорошо... НО закончилось одобрение. Об этом мне сообщили постфактум звонком из местного отделения почти в 10 вечера и затребовали свежие справки. Мы предоставили.После полутора недель ожидания и десятков звонков, когда никто не брал трубку, по личному номеру менеджера мне сообщили, что отказ пришел неделю назад. Не было ни сообщений из банка, ни звонков из Москвы.За все эти месяцы в местном отделении трубку не взяли ни разу. На горячей линии отвечают, что заявка не отображается.С таким стилем работы сталкиваюсь впервые!'"
      ]
     },
     "execution_count": 15,
     "metadata": {},
     "output_type": "execute_result"
    }
   ],
   "source": [
    "# 225ый отзыв по ипотеке\n",
    "list_of_text_hypothec[224]"
   ]
  },
  {
   "cell_type": "code",
   "execution_count": 29,
   "metadata": {},
   "outputs": [
    {
     "data": {
      "text/plain": [
       "'Являюсь постоянным клиентомуже на протяжение многих летдополнительного офиса \"Россельхозбанк\" №3349/5/20. За все время никаких проблем -удобное приложение, приветливые  внимательныесотрудники, какие бывают вопросы, без проблем можно решить по телефону или при посещения дополнительного офиса.'"
      ]
     },
     "execution_count": 29,
     "metadata": {},
     "output_type": "execute_result"
    }
   ],
   "source": [
    "# 2ой отзыв по вкладам\n",
    "list_of_text_deposits[2]"
   ]
  },
  {
   "cell_type": "markdown",
   "metadata": {},
   "source": [
    "## Создание базы данных"
   ]
  },
  {
   "cell_type": "markdown",
   "metadata": {},
   "source": [
    "Сохраним имеюшиеся отзывы для дальнейшего использования, минуя парсинг"
   ]
  },
  {
   "cell_type": "code",
   "execution_count": 17,
   "metadata": {},
   "outputs": [],
   "source": [
    "import pandas as pd"
   ]
  },
  {
   "cell_type": "code",
   "execution_count": 18,
   "metadata": {},
   "outputs": [],
   "source": [
    "df1 = pd.DataFrame()\n",
    "df1['review'] = list_of_text_creditcards\n",
    "df1['target'] = 0"
   ]
  },
  {
   "cell_type": "code",
   "execution_count": 19,
   "metadata": {},
   "outputs": [
    {
     "data": {
      "text/html": [
       "<div>\n",
       "<style scoped>\n",
       "    .dataframe tbody tr th:only-of-type {\n",
       "        vertical-align: middle;\n",
       "    }\n",
       "\n",
       "    .dataframe tbody tr th {\n",
       "        vertical-align: top;\n",
       "    }\n",
       "\n",
       "    .dataframe thead th {\n",
       "        text-align: right;\n",
       "    }\n",
       "</style>\n",
       "<table border=\"1\" class=\"dataframe\">\n",
       "  <thead>\n",
       "    <tr style=\"text-align: right;\">\n",
       "      <th></th>\n",
       "      <th>review</th>\n",
       "      <th>target</th>\n",
       "    </tr>\n",
       "  </thead>\n",
       "  <tbody>\n",
       "    <tr>\n",
       "      <th>0</th>\n",
       "      <td>В который раз пришлось обратиться за консульта...</td>\n",
       "      <td>0</td>\n",
       "    </tr>\n",
       "    <tr>\n",
       "      <th>1</th>\n",
       "      <td>Обратилась в банк с целью получения кредита(са...</td>\n",
       "      <td>0</td>\n",
       "    </tr>\n",
       "    <tr>\n",
       "      <th>2</th>\n",
       "      <td>Работники дополнительного офиса Россельхозбанк...</td>\n",
       "      <td>0</td>\n",
       "    </tr>\n",
       "  </tbody>\n",
       "</table>\n",
       "</div>"
      ],
      "text/plain": [
       "                                              review  target\n",
       "0  В который раз пришлось обратиться за консульта...       0\n",
       "1  Обратилась в банк с целью получения кредита(са...       0\n",
       "2  Работники дополнительного офиса Россельхозбанк...       0"
      ]
     },
     "execution_count": 19,
     "metadata": {},
     "output_type": "execute_result"
    }
   ],
   "source": [
    " df1.head(3)"
   ]
  },
  {
   "cell_type": "code",
   "execution_count": 20,
   "metadata": {},
   "outputs": [],
   "source": [
    "df2 = pd.DataFrame()\n",
    "df2['review'] = list_of_text_hypothec\n",
    "df2['target'] = 1"
   ]
  },
  {
   "cell_type": "code",
   "execution_count": 21,
   "metadata": {},
   "outputs": [
    {
     "data": {
      "text/html": [
       "<div>\n",
       "<style scoped>\n",
       "    .dataframe tbody tr th:only-of-type {\n",
       "        vertical-align: middle;\n",
       "    }\n",
       "\n",
       "    .dataframe tbody tr th {\n",
       "        vertical-align: top;\n",
       "    }\n",
       "\n",
       "    .dataframe thead th {\n",
       "        text-align: right;\n",
       "    }\n",
       "</style>\n",
       "<table border=\"1\" class=\"dataframe\">\n",
       "  <thead>\n",
       "    <tr style=\"text-align: right;\">\n",
       "      <th></th>\n",
       "      <th>review</th>\n",
       "      <th>target</th>\n",
       "    </tr>\n",
       "  </thead>\n",
       "  <tbody>\n",
       "    <tr>\n",
       "      <th>0</th>\n",
       "      <td>Добрый вечер! Я клиент с хорошей кредитной ист...</td>\n",
       "      <td>1</td>\n",
       "    </tr>\n",
       "    <tr>\n",
       "      <th>1</th>\n",
       "      <td>Ты приезжаешь в отделение , которое работает д...</td>\n",
       "      <td>1</td>\n",
       "    </tr>\n",
       "    <tr>\n",
       "      <th>2</th>\n",
       "      <td>Давно хотел написать слова благодарности всем ...</td>\n",
       "      <td>1</td>\n",
       "    </tr>\n",
       "  </tbody>\n",
       "</table>\n",
       "</div>"
      ],
      "text/plain": [
       "                                              review  target\n",
       "0  Добрый вечер! Я клиент с хорошей кредитной ист...       1\n",
       "1  Ты приезжаешь в отделение , которое работает д...       1\n",
       "2  Давно хотел написать слова благодарности всем ...       1"
      ]
     },
     "execution_count": 21,
     "metadata": {},
     "output_type": "execute_result"
    }
   ],
   "source": [
    " df2.head(3)"
   ]
  },
  {
   "cell_type": "code",
   "execution_count": 22,
   "metadata": {},
   "outputs": [],
   "source": [
    "df3 = pd.DataFrame()\n",
    "df3['review'] = list_of_text_deposits\n",
    "df3['target'] = 2"
   ]
  },
  {
   "cell_type": "code",
   "execution_count": 23,
   "metadata": {},
   "outputs": [
    {
     "data": {
      "text/html": [
       "<div>\n",
       "<style scoped>\n",
       "    .dataframe tbody tr th:only-of-type {\n",
       "        vertical-align: middle;\n",
       "    }\n",
       "\n",
       "    .dataframe tbody tr th {\n",
       "        vertical-align: top;\n",
       "    }\n",
       "\n",
       "    .dataframe thead th {\n",
       "        text-align: right;\n",
       "    }\n",
       "</style>\n",
       "<table border=\"1\" class=\"dataframe\">\n",
       "  <thead>\n",
       "    <tr style=\"text-align: right;\">\n",
       "      <th></th>\n",
       "      <th>review</th>\n",
       "      <th>target</th>\n",
       "    </tr>\n",
       "  </thead>\n",
       "  <tbody>\n",
       "    <tr>\n",
       "      <th>0</th>\n",
       "      <td>1 октября были попытки осуществить перевод ден...</td>\n",
       "      <td>2</td>\n",
       "    </tr>\n",
       "    <tr>\n",
       "      <th>1</th>\n",
       "      <td>Ответ от банка в личном сообщении Мобильного П...</td>\n",
       "      <td>2</td>\n",
       "    </tr>\n",
       "    <tr>\n",
       "      <th>2</th>\n",
       "      <td>Являюсь постоянным клиентомуже на протяжение м...</td>\n",
       "      <td>2</td>\n",
       "    </tr>\n",
       "  </tbody>\n",
       "</table>\n",
       "</div>"
      ],
      "text/plain": [
       "                                              review  target\n",
       "0  1 октября были попытки осуществить перевод ден...       2\n",
       "1  Ответ от банка в личном сообщении Мобильного П...       2\n",
       "2  Являюсь постоянным клиентомуже на протяжение м...       2"
      ]
     },
     "execution_count": 23,
     "metadata": {},
     "output_type": "execute_result"
    }
   ],
   "source": [
    " df3.head(3)"
   ]
  },
  {
   "cell_type": "code",
   "execution_count": 24,
   "metadata": {},
   "outputs": [],
   "source": [
    "df1 = df1.append(df2)\n",
    "df1 = df1.append(df3)"
   ]
  },
  {
   "cell_type": "code",
   "execution_count": 25,
   "metadata": {
    "scrolled": false
   },
   "outputs": [
    {
     "data": {
      "text/html": [
       "<div>\n",
       "<style scoped>\n",
       "    .dataframe tbody tr th:only-of-type {\n",
       "        vertical-align: middle;\n",
       "    }\n",
       "\n",
       "    .dataframe tbody tr th {\n",
       "        vertical-align: top;\n",
       "    }\n",
       "\n",
       "    .dataframe thead th {\n",
       "        text-align: right;\n",
       "    }\n",
       "</style>\n",
       "<table border=\"1\" class=\"dataframe\">\n",
       "  <thead>\n",
       "    <tr style=\"text-align: right;\">\n",
       "      <th></th>\n",
       "      <th>review</th>\n",
       "      <th>target</th>\n",
       "    </tr>\n",
       "  </thead>\n",
       "  <tbody>\n",
       "    <tr>\n",
       "      <th>0</th>\n",
       "      <td>В который раз пришлось обратиться за консульта...</td>\n",
       "      <td>0</td>\n",
       "    </tr>\n",
       "    <tr>\n",
       "      <th>1</th>\n",
       "      <td>Обратилась в банк с целью получения кредита(са...</td>\n",
       "      <td>0</td>\n",
       "    </tr>\n",
       "    <tr>\n",
       "      <th>2</th>\n",
       "      <td>Работники дополнительного офиса Россельхозбанк...</td>\n",
       "      <td>0</td>\n",
       "    </tr>\n",
       "    <tr>\n",
       "      <th>3</th>\n",
       "      <td>Около недели назад консультировался по кредитн...</td>\n",
       "      <td>0</td>\n",
       "    </tr>\n",
       "    <tr>\n",
       "      <th>4</th>\n",
       "      <td>27.07.2020 обратился в отделение РСХБ в г. Мыт...</td>\n",
       "      <td>0</td>\n",
       "    </tr>\n",
       "    <tr>\n",
       "      <th>...</th>\n",
       "      <td>...</td>\n",
       "      <td>...</td>\n",
       "    </tr>\n",
       "    <tr>\n",
       "      <th>745</th>\n",
       "      <td>Размещаю денежные средства в офисе банка в г. ...</td>\n",
       "      <td>2</td>\n",
       "    </tr>\n",
       "    <tr>\n",
       "      <th>746</th>\n",
       "      <td>Открываю Вклады на сайте Россельхозбанка, пото...</td>\n",
       "      <td>2</td>\n",
       "    </tr>\n",
       "    <tr>\n",
       "      <th>747</th>\n",
       "      <td>Стала клиентом банка, открыв там вклад. Надо с...</td>\n",
       "      <td>2</td>\n",
       "    </tr>\n",
       "    <tr>\n",
       "      <th>748</th>\n",
       "      <td>Приятно удивлена временем ожидания, минимум оч...</td>\n",
       "      <td>2</td>\n",
       "    </tr>\n",
       "    <tr>\n",
       "      <th>749</th>\n",
       "      <td>Открыла пенсионный вклад, предложили бесплатну...</td>\n",
       "      <td>2</td>\n",
       "    </tr>\n",
       "  </tbody>\n",
       "</table>\n",
       "<p>2250 rows × 2 columns</p>\n",
       "</div>"
      ],
      "text/plain": [
       "                                                review  target\n",
       "0    В который раз пришлось обратиться за консульта...       0\n",
       "1    Обратилась в банк с целью получения кредита(са...       0\n",
       "2    Работники дополнительного офиса Россельхозбанк...       0\n",
       "3    Около недели назад консультировался по кредитн...       0\n",
       "4    27.07.2020 обратился в отделение РСХБ в г. Мыт...       0\n",
       "..                                                 ...     ...\n",
       "745  Размещаю денежные средства в офисе банка в г. ...       2\n",
       "746  Открываю Вклады на сайте Россельхозбанка, пото...       2\n",
       "747  Стала клиентом банка, открыв там вклад. Надо с...       2\n",
       "748  Приятно удивлена временем ожидания, минимум оч...       2\n",
       "749  Открыла пенсионный вклад, предложили бесплатну...       2\n",
       "\n",
       "[2250 rows x 2 columns]"
      ]
     },
     "execution_count": 25,
     "metadata": {},
     "output_type": "execute_result"
    }
   ],
   "source": [
    "df1"
   ]
  },
  {
   "cell_type": "markdown",
   "metadata": {},
   "source": [
    "Сохраним в виде базы данных SQLite"
   ]
  },
  {
   "cell_type": "code",
   "execution_count": 26,
   "metadata": {},
   "outputs": [],
   "source": [
    "import sqlite3\n",
    "conn = sqlite3.connect('review.db')\n",
    "c = conn.cursor()\n",
    "df1.to_sql('Review', conn, if_exists='replace', index = False)"
   ]
  },
  {
   "cell_type": "code",
   "execution_count": 27,
   "metadata": {},
   "outputs": [],
   "source": [
    "from sklearn.utils import shuffle\n",
    "df1 = shuffle(df1)"
   ]
  },
  {
   "cell_type": "code",
   "execution_count": 28,
   "metadata": {},
   "outputs": [
    {
     "data": {
      "text/html": [
       "<div>\n",
       "<style scoped>\n",
       "    .dataframe tbody tr th:only-of-type {\n",
       "        vertical-align: middle;\n",
       "    }\n",
       "\n",
       "    .dataframe tbody tr th {\n",
       "        vertical-align: top;\n",
       "    }\n",
       "\n",
       "    .dataframe thead th {\n",
       "        text-align: right;\n",
       "    }\n",
       "</style>\n",
       "<table border=\"1\" class=\"dataframe\">\n",
       "  <thead>\n",
       "    <tr style=\"text-align: right;\">\n",
       "      <th></th>\n",
       "      <th>review</th>\n",
       "      <th>target</th>\n",
       "    </tr>\n",
       "  </thead>\n",
       "  <tbody>\n",
       "    <tr>\n",
       "      <th>614</th>\n",
       "      <td>Добрый день!Первый раз с таким сталкиваюсь, бы...</td>\n",
       "      <td>0</td>\n",
       "    </tr>\n",
       "    <tr>\n",
       "      <th>391</th>\n",
       "      <td>Обратились в отделение Россельхозбанка в город...</td>\n",
       "      <td>1</td>\n",
       "    </tr>\n",
       "    <tr>\n",
       "      <th>681</th>\n",
       "      <td>Обратились в отделение в феврале месяце, когда...</td>\n",
       "      <td>1</td>\n",
       "    </tr>\n",
       "    <tr>\n",
       "      <th>359</th>\n",
       "      <td>Здравствуйте, вот читаем отзывы о данном проду...</td>\n",
       "      <td>1</td>\n",
       "    </tr>\n",
       "    <tr>\n",
       "      <th>212</th>\n",
       "      <td>Хочу оставить свой отзыв о работе отделения \"Р...</td>\n",
       "      <td>0</td>\n",
       "    </tr>\n",
       "    <tr>\n",
       "      <th>...</th>\n",
       "      <td>...</td>\n",
       "      <td>...</td>\n",
       "    </tr>\n",
       "    <tr>\n",
       "      <th>502</th>\n",
       "      <td>В феврале в результате некорректной работы тех...</td>\n",
       "      <td>0</td>\n",
       "    </tr>\n",
       "    <tr>\n",
       "      <th>467</th>\n",
       "      <td>Очень хочется поблагодарить сотрудников Россел...</td>\n",
       "      <td>1</td>\n",
       "    </tr>\n",
       "    <tr>\n",
       "      <th>327</th>\n",
       "      <td>Хочу написать слова благодарностисотрудникам о...</td>\n",
       "      <td>1</td>\n",
       "    </tr>\n",
       "    <tr>\n",
       "      <th>531</th>\n",
       "      <td>Мной была досрочно погашена ипотека - еще 1 го...</td>\n",
       "      <td>1</td>\n",
       "    </tr>\n",
       "    <tr>\n",
       "      <th>456</th>\n",
       "      <td>В 2017 году ,в каком месяце- не могу вспомнить...</td>\n",
       "      <td>0</td>\n",
       "    </tr>\n",
       "  </tbody>\n",
       "</table>\n",
       "<p>2250 rows × 2 columns</p>\n",
       "</div>"
      ],
      "text/plain": [
       "                                                review  target\n",
       "614  Добрый день!Первый раз с таким сталкиваюсь, бы...       0\n",
       "391  Обратились в отделение Россельхозбанка в город...       1\n",
       "681  Обратились в отделение в феврале месяце, когда...       1\n",
       "359  Здравствуйте, вот читаем отзывы о данном проду...       1\n",
       "212  Хочу оставить свой отзыв о работе отделения \"Р...       0\n",
       "..                                                 ...     ...\n",
       "502  В феврале в результате некорректной работы тех...       0\n",
       "467  Очень хочется поблагодарить сотрудников Россел...       1\n",
       "327  Хочу написать слова благодарностисотрудникам о...       1\n",
       "531  Мной была досрочно погашена ипотека - еще 1 го...       1\n",
       "456  В 2017 году ,в каком месяце- не могу вспомнить...       0\n",
       "\n",
       "[2250 rows x 2 columns]"
      ]
     },
     "execution_count": 28,
     "metadata": {},
     "output_type": "execute_result"
    }
   ],
   "source": [
    "df1"
   ]
  }
 ],
 "metadata": {
  "kernelspec": {
   "display_name": "Python 3",
   "language": "python",
   "name": "python3"
  },
  "language_info": {
   "codemirror_mode": {
    "name": "ipython",
    "version": 3
   },
   "file_extension": ".py",
   "mimetype": "text/x-python",
   "name": "python",
   "nbconvert_exporter": "python",
   "pygments_lexer": "ipython3",
   "version": "3.7.9"
  }
 },
 "nbformat": 4,
 "nbformat_minor": 4
}
