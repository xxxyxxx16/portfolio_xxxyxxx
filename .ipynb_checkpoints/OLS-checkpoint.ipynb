{
 "cells": [
  {
   "cell_type": "markdown",
   "metadata": {},
   "source": [
    "# Linear regression #"
   ]
  },
  {
   "cell_type": "markdown",
   "metadata": {},
   "source": [
    "Lets restict set of hypothesis to the set of linear functions with $\\large \\left(m + 1\\right)$-dimensional argument, bias and one parameter for each feature ($\\large x_0 = 1$):\n",
    "$$\\large \\begin{array}{rcl} \\forall h \\in \\mathcal{H}, h\\left(\\vec{x}\\right) &=& w_0 x_0 + w_1 x_1 + w_2 x_2 + \\cdots + w_m x_m \\\\\n",
    "&=& \\sum_{i=0}^m w_i x_i \\\\\n",
    "&=& \\vec{x}^T \\vec{w}\n",
    "\\end{array}$$\n",
    "where:\n",
    "* $\\large \\vec{x} \\in \\mathbb{R}^{m + 1}$\n",
    "\n",
    "Optimization objective is to minimize Mean Square Error (MSE):\n",
    "$$\\large \\begin{array}{rcl}\\mathcal{L}\\left(X, \\vec{y}, \\vec{w} \\right) &=& \\frac{1}{2n} \\sum_{i=1}^n \\left(y_i - \\vec{x}_i^T \\vec{w}_i\\right)^2 \\\\\n",
    "&=& \\frac{1}{2n} \\left\\| \\vec{y} - X \\vec{w} \\right\\|_2^2 \\\\\n",
    "&=& \\frac{1}{2n} \\left(\\vec{y} - X \\vec{w}\\right)^T \\left(\\vec{y} - X \\vec{w}\\right) \\\\\n",
    "&=& \\frac{1}{2n} \\left(\\vec{y}^T - \\vec{w}^T X^T \\right) \\left(\\vec{y} - X \\vec{w}\\right) \\\\\n",
    "&=& \\frac{1}{2n} \\left(\\vec{y}^T \\vec{y} - \\vec{y}^T X \\vec{w} - \\vec{w}^T X^T \\vec{y} + \\vec{w}^T X^T X \\vec{w}\\right) \\\\\n",
    "&=& \\frac{1}{2n} \\left(\\vec{y}^T \\vec{y} - 2 \\vec{y}^T X \\vec{w} + \\vec{w}^T X^T X \\vec{w}\\right) \\\\\n",
    "&=& \\frac{1}{2n} \\left(\\vec{y}^T \\vec{y} - 2 \\vec{w}^T X^T \\vec{y} + \\vec{w}^T X^T X \\vec{w}\\right)\n",
    "\\end{array}$$\n",
    "where:\n",
    "* $\\large \\vec{w} \\in \\mathbb{R}^{m + 1}$\n",
    "* $\\large \\vec{y} \\in \\mathbb{R}^n$\n",
    "* $\\large X$ is $\\large n \\times m$ matrix, where each row is feature vector\n",
    "\n",
    "Matrix and vectors derivatives:\n",
    "$$\\large \\begin{array}{rcl} \\frac{\\partial}{\\partial x} x^T a &=& a \\\\ \\frac{\\partial}{\\partial x} x^T A x &=& \\left(A + A^T\\right)x  \\end{array} $$\n",
    "\n",
    "Lets infer learning algorithm, we will use the fact that square function is convex function:\n",
    "$$\\large \\begin{array}{rcl} \\frac{\\partial \\mathcal{L}}{\\partial \\vec{w}} &=& \\frac{\\partial}{\\partial \\vec{w}} \\frac{1}{2n} \\left( \\vec{y}^T \\vec{y} -2\\vec{w}^T X^T \\vec{y} + \\vec{w}^T X^T X \\vec{w}\\right) \\\\\n",
    "&=& \\frac{1}{2n} \\left(-2 X^T \\vec{y} + 2X^T X \\vec{w}\\right)\n",
    "\\end{array}$$\n",
    "\n",
    "Now we can find the solution (ordinary least squares, OLS):\n",
    "$$\\large \\begin{array}{rcl} \\frac{\\partial \\mathcal{L}}{\\partial \\vec{w}} = 0 &\\Leftrightarrow& \\frac{1}{2n} \\left(-2 X^T \\vec{y} + 2X^T X \\vec{w}\\right) = 0 \\\\\n",
    "&\\Leftrightarrow& -X^T \\vec{y} + X^T X \\vec{w} = 0 \\\\\n",
    "&\\Leftrightarrow& X^T X \\vec{w} = X^T \\vec{y} \\\\\n",
    "&\\Leftrightarrow& \\vec{w} = \\left(X^T X\\right)^{-1} X^T \\vec{y}\n",
    "\\end{array}$$\n"
   ]
  },
  {
   "cell_type": "code",
   "execution_count": 1,
   "metadata": {},
   "outputs": [],
   "source": [
    "from sympy import *"
   ]
  },
  {
   "cell_type": "code",
   "execution_count": 2,
   "metadata": {},
   "outputs": [],
   "source": [
    "# input X\n",
    "A = Matrix([[1,1],[1,2],[1,3],[1,4],[1,5],[1,6],[1,7],[1,8],[1,9],[1,10]])"
   ]
  },
  {
   "cell_type": "markdown",
   "metadata": {},
   "source": [
    "\\begin{align*}\n",
    "    X^{T}:\n",
    "\\end{align*}"
   ]
  },
  {
   "cell_type": "code",
   "execution_count": 3,
   "metadata": {},
   "outputs": [
    {
     "data": {
      "text/latex": [
       "$\\displaystyle \\left[\\begin{matrix}1 & 1 & 1 & 1 & 1 & 1 & 1 & 1 & 1 & 1\\\\1 & 2 & 3 & 4 & 5 & 6 & 7 & 8 & 9 & 10\\end{matrix}\\right]$"
      ],
      "text/plain": [
       "Matrix([\n",
       "[1, 1, 1, 1, 1, 1, 1, 1, 1,  1],\n",
       "[1, 2, 3, 4, 5, 6, 7, 8, 9, 10]])"
      ]
     },
     "metadata": {},
     "output_type": "display_data"
    }
   ],
   "source": [
    "display(A.transpose())"
   ]
  },
  {
   "cell_type": "code",
   "execution_count": 4,
   "metadata": {},
   "outputs": [],
   "source": [
    "# input y\n",
    "y = Matrix([[0.59],[0.72],[0.93],[1.27],[2.58],[1.74],[2.07],[2.42],[2.73],[2.95]])"
   ]
  },
  {
   "cell_type": "markdown",
   "metadata": {},
   "source": [
    "\\begin{align*}\n",
    "    y^{T}:\n",
    "\\end{align*}"
   ]
  },
  {
   "cell_type": "code",
   "execution_count": 5,
   "metadata": {},
   "outputs": [
    {
     "data": {
      "text/latex": [
       "$\\displaystyle \\left[\\begin{matrix}0.59 & 0.72 & 0.93 & 1.27 & 2.58 & 1.74 & 2.07 & 2.42 & 2.73 & 2.95\\end{matrix}\\right]$"
      ],
      "text/plain": [
       "Matrix([[0.59, 0.72, 0.93, 1.27, 2.58, 1.74, 2.07, 2.42, 2.73, 2.95]])"
      ]
     },
     "metadata": {},
     "output_type": "display_data"
    }
   ],
   "source": [
    "display(y.transpose())"
   ]
  },
  {
   "cell_type": "code",
   "execution_count": 6,
   "metadata": {},
   "outputs": [],
   "source": [
    "z = A.transpose()\n",
    "d = (z*A)"
   ]
  },
  {
   "cell_type": "markdown",
   "metadata": {},
   "source": [
    "\\begin{align*}\n",
    "(X^{T} \\cdot X)\n",
    "\\end{align*}"
   ]
  },
  {
   "cell_type": "code",
   "execution_count": 7,
   "metadata": {},
   "outputs": [
    {
     "data": {
      "text/latex": [
       "$\\displaystyle \\left[\\begin{matrix}10 & 55\\\\55 & 385\\end{matrix}\\right]$"
      ],
      "text/plain": [
       "Matrix([\n",
       "[10,  55],\n",
       "[55, 385]])"
      ]
     },
     "metadata": {},
     "output_type": "display_data"
    }
   ],
   "source": [
    "display(d)"
   ]
  },
  {
   "cell_type": "code",
   "execution_count": 8,
   "metadata": {},
   "outputs": [],
   "source": [
    "l = d.inv()"
   ]
  },
  {
   "cell_type": "markdown",
   "metadata": {},
   "source": [
    "\\begin{align*}\n",
    "(X^{T} \\cdot X)^{-1}\n",
    "\\end{align*}"
   ]
  },
  {
   "cell_type": "code",
   "execution_count": 9,
   "metadata": {},
   "outputs": [
    {
     "data": {
      "text/latex": [
       "$\\displaystyle \\left[\\begin{matrix}\\frac{7}{15} & - \\frac{1}{15}\\\\- \\frac{1}{15} & \\frac{2}{165}\\end{matrix}\\right]$"
      ],
      "text/plain": [
       "Matrix([\n",
       "[ 7/15, -1/15],\n",
       "[-1/15, 2/165]])"
      ]
     },
     "metadata": {},
     "output_type": "display_data"
    }
   ],
   "source": [
    "display(l)"
   ]
  },
  {
   "cell_type": "code",
   "execution_count": 10,
   "metadata": {},
   "outputs": [],
   "source": [
    "f = l*A.transpose()"
   ]
  },
  {
   "cell_type": "markdown",
   "metadata": {},
   "source": [
    "\\begin{align*}\n",
    "(X^{T} \\cdot X)^{-1} \\cdot X^{T}\n",
    "\\end{align*}"
   ]
  },
  {
   "cell_type": "code",
   "execution_count": 11,
   "metadata": {},
   "outputs": [
    {
     "data": {
      "text/latex": [
       "$\\displaystyle \\left[\\begin{matrix}\\frac{2}{5} & \\frac{1}{3} & \\frac{4}{15} & \\frac{1}{5} & \\frac{2}{15} & \\frac{1}{15} & 0 & - \\frac{1}{15} & - \\frac{2}{15} & - \\frac{1}{5}\\\\- \\frac{3}{55} & - \\frac{7}{165} & - \\frac{1}{33} & - \\frac{1}{55} & - \\frac{1}{165} & \\frac{1}{165} & \\frac{1}{55} & \\frac{1}{33} & \\frac{7}{165} & \\frac{3}{55}\\end{matrix}\\right]$"
      ],
      "text/plain": [
       "Matrix([\n",
       "[  2/5,    1/3,  4/15,   1/5,   2/15,  1/15,    0, -1/15, -2/15, -1/5],\n",
       "[-3/55, -7/165, -1/33, -1/55, -1/165, 1/165, 1/55,  1/33, 7/165, 3/55]])"
      ]
     },
     "metadata": {},
     "output_type": "display_data"
    }
   ],
   "source": [
    "display(f)"
   ]
  },
  {
   "cell_type": "code",
   "execution_count": 12,
   "metadata": {},
   "outputs": [],
   "source": [
    "u = f*y"
   ]
  },
  {
   "cell_type": "markdown",
   "metadata": {},
   "source": [
    "\\begin{align*}\n",
    "\\vec{w} = \\left(X^T X\\right)^{-1} X^T \\vec{y}\n",
    "\\end{align*}"
   ]
  },
  {
   "cell_type": "code",
   "execution_count": 13,
   "metadata": {},
   "outputs": [
    {
     "data": {
      "text/latex": [
       "$\\displaystyle \\left[\\begin{matrix}0.322666666666667\\\\0.268606060606061\\end{matrix}\\right]$"
      ],
      "text/plain": [
       "Matrix([\n",
       "[0.322666666666667],\n",
       "[0.268606060606061]])"
      ]
     },
     "metadata": {},
     "output_type": "display_data"
    }
   ],
   "source": [
    "display(u)"
   ]
  },
  {
   "cell_type": "markdown",
   "metadata": {},
   "source": [
    "## Мутки с прогнозами ##"
   ]
  },
  {
   "cell_type": "markdown",
   "metadata": {},
   "source": [
    "### Прогноз по тренду ###"
   ]
  },
  {
   "cell_type": "markdown",
   "metadata": {},
   "source": [
    "\\begin{align*}\n",
    "y_{11 tr} = \\hat{u}_1 + \\hat{u}_2 \\cdot 11\n",
    "\\end{align*}"
   ]
  },
  {
   "cell_type": "code",
   "execution_count": 14,
   "metadata": {},
   "outputs": [
    {
     "name": "stdout",
     "output_type": "stream",
     "text": [
      "y11tr =  3.27733333333333\n"
     ]
    }
   ],
   "source": [
    "y11tr = u[0]+u[1]*11\n",
    "print('y11tr = ', y11tr)"
   ]
  },
  {
   "cell_type": "markdown",
   "metadata": {},
   "source": [
    "\\begin{align*}\n",
    "{\\hat{\\sigma}_{tr}}^2 = \\frac{1}{8} \\cdot \\sum^{10}_{k=1}\n",
    "({y_k - \\hat{u}_{1} - \\hat{u}_2 \\cdot k})^2\n",
    "\\end{align*}"
   ]
  },
  {
   "cell_type": "code",
   "execution_count": 15,
   "metadata": {},
   "outputs": [],
   "source": [
    "def RSS(b0, b1, y):\n",
    "    RSS = 0\n",
    "    RSSi = 0\n",
    "    for i in range(1, len(y)+1):\n",
    "        RSSi = (y[i-1]-b0-b1*i)**2\n",
    "        RSS += RSSi\n",
    "        print(\"Квадрат ошибки на лаге \", i ,' = ', RSSi)\n",
    "    D = RSS/(len(y)-2)\n",
    "    return D"
   ]
  },
  {
   "cell_type": "code",
   "execution_count": 16,
   "metadata": {},
   "outputs": [
    {
     "name": "stdout",
     "output_type": "stream",
     "text": [
      "Квадрат ошибки на лаге  1  =  1.61983471074419e-6\n",
      "Квадрат ошибки на лаге  2  =  0.0195660752984390\n",
      "Квадрат ошибки на лаге  3  =  0.0393962350780533\n",
      "Квадрат ошибки на лаге  4  =  0.0161520991735538\n",
      "Квадрат ошибки на лаге  5  =  0.835950031221304\n",
      "Квадрат ошибки на лаге  6  =  0.0377536675849404\n",
      "Квадрат ошибки на лаге  7  =  0.0176648264462810\n",
      "Квадрат ошибки на лаге  8  =  0.00265381083562904\n",
      "Квадрат ошибки на лаге  9  =  0.000102438934802577\n",
      "Квадрат ошибки на лаге  10  =  0.00344889256198350\n",
      "D =  0.121586212121212\n"
     ]
    }
   ],
   "source": [
    "b0 = u[0]\n",
    "b1 = u[1]\n",
    "D = RSS(b0,b1,y)\n",
    "print('D = ', D)"
   ]
  },
  {
   "cell_type": "markdown",
   "metadata": {},
   "source": [
    "### Прогноз эксперта ###"
   ]
  },
  {
   "cell_type": "code",
   "execution_count": 17,
   "metadata": {},
   "outputs": [],
   "source": [
    "y11 = 3.42 # Оценка эксперта\n",
    "s11 = 0.07 # Среднеквадратичное отклонение\n"
   ]
  },
  {
   "cell_type": "markdown",
   "metadata": {},
   "source": [
    "### Объединенный прогноз ###"
   ]
  },
  {
   "cell_type": "markdown",
   "metadata": {},
   "source": [
    "\\begin{align*}\n",
    "y_{for 11} = \\frac{\n",
    "    \\frac{y_{11}}{s_{11}^2}+\\frac{y_{11tr}}{ \\hat{\\sigma}_{tr}^2}\n",
    "    }\n",
    "    {\n",
    "    \\frac{1}{s_{11}^2}+\\frac{1}{ \\hat{\\sigma}_{tr}^2}\n",
    "    }\n",
    "\\end{align*}"
   ]
  },
  {
   "cell_type": "code",
   "execution_count": 18,
   "metadata": {},
   "outputs": [
    {
     "name": "stdout",
     "output_type": "stream",
     "text": [
      "Объединенный прогноз:  3.41447317889481\n"
     ]
    }
   ],
   "source": [
    "yfor11 = ((y11)/(s11**2)+(y11tr)/(D))/((1)/(s11**2)+(1)/(D))\n",
    "print(\"Объединенный прогноз: \", yfor11)"
   ]
  },
  {
   "cell_type": "markdown",
   "metadata": {},
   "source": [
    "## Матричное решение квадратичный тренд##"
   ]
  },
  {
   "cell_type": "markdown",
   "metadata": {},
   "source": [
    "\\begin{align*}\n",
    "y_{i} = u_{1}+u{2} \\cdot x_{i} + {x_{i}}^2 + \\epsilon_{i}\n",
    "\\end{align*}"
   ]
  },
  {
   "cell_type": "markdown",
   "metadata": {},
   "source": [
    "\\begin{align*}\n",
    "    A =\n",
    "    \\begin{pmatrix}\n",
    "        1 & x_{1} & {x_{1}}^2\\\\\n",
    "        1 & x_{2} & {x_{2}}^2\\\\\n",
    "        ... & ... \\\\\n",
    "        1 & x_{i} & {x_{i}}^2\n",
    "\\end{pmatrix}\n",
    "\\end{align*}"
   ]
  },
  {
   "cell_type": "markdown",
   "metadata": {},
   "source": [
    "\\begin{align*}\n",
    "u = (A^{T} \\cdot A)^{-1} \\cdot A^{T} \\cdot y\n",
    "\\end{align*}"
   ]
  },
  {
   "cell_type": "code",
   "execution_count": 19,
   "metadata": {},
   "outputs": [],
   "source": [
    "A = Matrix([[1,1,1],[1,2,4],[1,3,9],[1,4,16],[1,5,25],[1,6,36],[1,7,49],[1,8,64],[1,9,81],[1,10,100]])\\"
   ]
  },
  {
   "cell_type": "markdown",
   "metadata": {},
   "source": [
    "\\begin{align*}\n",
    "    A^{T}:\n",
    "\\end{align*}"
   ]
  },
  {
   "cell_type": "code",
   "execution_count": 20,
   "metadata": {},
   "outputs": [
    {
     "data": {
      "text/latex": [
       "$\\displaystyle \\left[\\begin{matrix}1 & 1 & 1 & 1 & 1 & 1 & 1 & 1 & 1 & 1\\\\1 & 2 & 3 & 4 & 5 & 6 & 7 & 8 & 9 & 10\\\\1 & 4 & 9 & 16 & 25 & 36 & 49 & 64 & 81 & 100\\end{matrix}\\right]$"
      ],
      "text/plain": [
       "Matrix([\n",
       "[1, 1, 1,  1,  1,  1,  1,  1,  1,   1],\n",
       "[1, 2, 3,  4,  5,  6,  7,  8,  9,  10],\n",
       "[1, 4, 9, 16, 25, 36, 49, 64, 81, 100]])"
      ]
     },
     "metadata": {},
     "output_type": "display_data"
    }
   ],
   "source": [
    "display(A.transpose())"
   ]
  },
  {
   "cell_type": "code",
   "execution_count": 21,
   "metadata": {},
   "outputs": [],
   "source": [
    "y = Matrix([[0.59],[0.72],[0.93],[1.27],[2.58],[1.74],[2.07],[2.42],[2.73],[2.95]])"
   ]
  },
  {
   "cell_type": "markdown",
   "metadata": {},
   "source": [
    "\\begin{align*}\n",
    "    y^{T}:\n",
    "\\end{align*}"
   ]
  },
  {
   "cell_type": "code",
   "execution_count": 22,
   "metadata": {},
   "outputs": [
    {
     "data": {
      "text/latex": [
       "$\\displaystyle \\left[\\begin{matrix}0.59 & 0.72 & 0.93 & 1.27 & 2.58 & 1.74 & 2.07 & 2.42 & 2.73 & 2.95\\end{matrix}\\right]$"
      ],
      "text/plain": [
       "Matrix([[0.59, 0.72, 0.93, 1.27, 2.58, 1.74, 2.07, 2.42, 2.73, 2.95]])"
      ]
     },
     "metadata": {},
     "output_type": "display_data"
    }
   ],
   "source": [
    "display(y.transpose())"
   ]
  },
  {
   "cell_type": "code",
   "execution_count": 23,
   "metadata": {},
   "outputs": [],
   "source": [
    "z = A.transpose()\n",
    "d = (z*A)"
   ]
  },
  {
   "cell_type": "markdown",
   "metadata": {},
   "source": [
    "\\begin{align*}\n",
    "(A^{T} \\cdot A)\n",
    "\\end{align*}"
   ]
  },
  {
   "cell_type": "code",
   "execution_count": 24,
   "metadata": {},
   "outputs": [
    {
     "data": {
      "text/latex": [
       "$\\displaystyle \\left[\\begin{matrix}10 & 55 & 385\\\\55 & 385 & 3025\\\\385 & 3025 & 25333\\end{matrix}\\right]$"
      ],
      "text/plain": [
       "Matrix([\n",
       "[ 10,   55,   385],\n",
       "[ 55,  385,  3025],\n",
       "[385, 3025, 25333]])"
      ]
     },
     "metadata": {},
     "output_type": "display_data"
    }
   ],
   "source": [
    "display(d)"
   ]
  },
  {
   "cell_type": "code",
   "execution_count": 25,
   "metadata": {},
   "outputs": [],
   "source": [
    "l = d.inv()"
   ]
  },
  {
   "cell_type": "markdown",
   "metadata": {},
   "source": [
    "\\begin{align*}\n",
    "(A^{T} \\cdot A)^{-1}\n",
    "\\end{align*}"
   ]
  },
  {
   "cell_type": "code",
   "execution_count": 26,
   "metadata": {},
   "outputs": [
    {
     "data": {
      "text/latex": [
       "$\\displaystyle \\left[\\begin{matrix}\\frac{83}{60} & - \\frac{21}{40} & \\frac{1}{24}\\\\- \\frac{21}{40} & \\frac{637}{2640} & - \\frac{1}{48}\\\\\\frac{1}{24} & - \\frac{1}{48} & \\frac{1}{528}\\end{matrix}\\right]$"
      ],
      "text/plain": [
       "Matrix([\n",
       "[ 83/60,   -21/40,  1/24],\n",
       "[-21/40, 637/2640, -1/48],\n",
       "[  1/24,    -1/48, 1/528]])"
      ]
     },
     "metadata": {},
     "output_type": "display_data"
    }
   ],
   "source": [
    "display(l)"
   ]
  },
  {
   "cell_type": "code",
   "execution_count": 27,
   "metadata": {},
   "outputs": [],
   "source": [
    "f = l*A.transpose()"
   ]
  },
  {
   "cell_type": "markdown",
   "metadata": {},
   "source": [
    "\\begin{align*}\n",
    "(A^{T} \\cdot A)^{-1} \\cdot A^{T}\n",
    "\\end{align*}"
   ]
  },
  {
   "cell_type": "code",
   "execution_count": 28,
   "metadata": {},
   "outputs": [
    {
     "data": {
      "text/latex": [
       "$\\displaystyle \\left[\\begin{matrix}\\frac{9}{10} & \\frac{1}{2} & \\frac{11}{60} & - \\frac{1}{20} & - \\frac{1}{5} & - \\frac{4}{15} & - \\frac{1}{4} & - \\frac{3}{20} & \\frac{1}{30} & \\frac{3}{10}\\\\- \\frac{67}{220} & - \\frac{83}{660} & \\frac{1}{88} & \\frac{47}{440} & \\frac{53}{330} & \\frac{19}{110} & \\frac{63}{440} & \\frac{19}{264} & - \\frac{9}{220} & - \\frac{43}{220}\\\\\\frac{1}{44} & \\frac{1}{132} & - \\frac{1}{264} & - \\frac{1}{88} & - \\frac{1}{66} & - \\frac{1}{66} & - \\frac{1}{88} & - \\frac{1}{264} & \\frac{1}{132} & \\frac{1}{44}\\end{matrix}\\right]$"
      ],
      "text/plain": [
       "Matrix([\n",
       "[   9/10,     1/2,  11/60,  -1/20,   -1/5,  -4/15,   -1/4,  -3/20,   1/30,    3/10],\n",
       "[-67/220, -83/660,   1/88, 47/440, 53/330, 19/110, 63/440, 19/264, -9/220, -43/220],\n",
       "[   1/44,   1/132, -1/264,  -1/88,  -1/66,  -1/66,  -1/88, -1/264,  1/132,    1/44]])"
      ]
     },
     "metadata": {},
     "output_type": "display_data"
    }
   ],
   "source": [
    "display(f)"
   ]
  },
  {
   "cell_type": "code",
   "execution_count": 29,
   "metadata": {},
   "outputs": [],
   "source": [
    "u = f*y"
   ]
  },
  {
   "cell_type": "markdown",
   "metadata": {},
   "source": [
    "\\begin{align*}\n",
    "u = (A^{T} \\cdot A)^{-1} \\cdot A^{T} \\cdot y\n",
    "\\end{align*}"
   ]
  },
  {
   "cell_type": "code",
   "execution_count": 30,
   "metadata": {},
   "outputs": [
    {
     "data": {
      "text/latex": [
       "$\\displaystyle \\left[\\begin{matrix}0.1135\\\\0.373189393939394\\\\-0.00950757575757577\\end{matrix}\\right]$"
      ],
      "text/plain": [
       "Matrix([\n",
       "[              0.1135],\n",
       "[   0.373189393939394],\n",
       "[-0.00950757575757577]])"
      ]
     },
     "metadata": {},
     "output_type": "display_data"
    }
   ],
   "source": [
    "display(u)"
   ]
  },
  {
   "cell_type": "markdown",
   "metadata": {},
   "source": [
    "## Мутки с прогнозами ##"
   ]
  },
  {
   "cell_type": "markdown",
   "metadata": {},
   "source": [
    "### Прогноз по тренду ###"
   ]
  },
  {
   "cell_type": "markdown",
   "metadata": {},
   "source": [
    "\\begin{align*}\n",
    "y_{11 tr} = \\hat{u}_1 + \\hat{u}_2 \\cdot 11 + \\hat{u}_3 \\cdot 11\n",
    "\\end{align*}"
   ]
  },
  {
   "cell_type": "code",
   "execution_count": 31,
   "metadata": {},
   "outputs": [
    {
     "name": "stdout",
     "output_type": "stream",
     "text": [
      "y11tr =  3.06816666666666\n"
     ]
    }
   ],
   "source": [
    "y11tr = u[0]+u[1]*11+u[2]*11**2\n",
    "print('y11tr = ', y11tr)"
   ]
  },
  {
   "cell_type": "markdown",
   "metadata": {},
   "source": [
    "\\begin{align*}\n",
    "{\\hat{\\sigma}_{tr}}^2 = \\frac{1}{7} \\cdot \\sum^{10}_{k=1}\n",
    "({y_k - \\hat{u}_{1} - \\hat{u}_2 \\cdot k - \\hat{u}_3 \\cdot k^2})^2\n",
    "\\end{align*}"
   ]
  },
  {
   "cell_type": "code",
   "execution_count": 32,
   "metadata": {},
   "outputs": [],
   "source": [
    "def RSS(b0, b1, b2, y):\n",
    "    RSS = 0\n",
    "    RSSi = 0\n",
    "    for i in range(1, len(y)+1):\n",
    "        RSSi = (y[i-1]-b0-b1*i - b2*i*i)**2\n",
    "        RSS += RSSi\n",
    "        print(\"Квадрат ошибки на лаге \", i ,' = ', RSSi)\n",
    "    D = RSS/(len(y)-2)\n",
    "    return D"
   ]
  },
  {
   "cell_type": "code",
   "execution_count": 33,
   "metadata": {},
   "outputs": [
    {
     "name": "stdout",
     "output_type": "stream",
     "text": [
      "Квадрат ошибки на лаге  1  =  0.0127279421487603\n",
      "Квадрат ошибки на лаге  2  =  0.0103731138659320\n",
      "Квадрат ошибки на лаге  3  =  0.0473062499999998\n",
      "Квадрат ошибки на лаге  4  =  0.0339062004132229\n",
      "Квадрат ошибки на лаге  5  =  0.702650361799818\n",
      "Квадрат ошибки на лаге  6  =  0.0730964958677679\n",
      "Квадрат ошибки на лаге  7  =  0.0360827293388423\n",
      "Квадрат ошибки на лаге  8  =  0.00497452364554609\n",
      "Квадрат ошибки на лаге  9  =  0.000778917355372023\n",
      "Квадрат ошибки на лаге  10  =  0.00306513223140529\n",
      "D =  0.115620208333333\n"
     ]
    }
   ],
   "source": [
    "b0 = u[0]\n",
    "b1 = u[1]\n",
    "b2 = u[2]\n",
    "D = RSS(b0,b1,b2,y)\n",
    "print('D = ', D)"
   ]
  },
  {
   "cell_type": "markdown",
   "metadata": {},
   "source": [
    "### Прогноз эксперта ###"
   ]
  },
  {
   "cell_type": "code",
   "execution_count": 34,
   "metadata": {},
   "outputs": [],
   "source": [
    "y11 = 3.42 # Оценка эксперта\n",
    "s11 = 0.07 # Среднеквадратичное отклонение\n"
   ]
  },
  {
   "cell_type": "markdown",
   "metadata": {},
   "source": [
    "### Объединенный прогноз ###"
   ]
  },
  {
   "cell_type": "markdown",
   "metadata": {},
   "source": [
    "\\begin{align*}\n",
    "y_{for 11} = \\frac{\n",
    "    \\frac{y_{11}}{s_{11}^2}+\\frac{y_{11tr}}{ \\hat{\\sigma}_{tr}^2}\n",
    "    }\n",
    "    {\n",
    "    \\frac{1}{s_{11}^2}+\\frac{1}{ \\hat{\\sigma}_{tr}^2}\n",
    "    }\n",
    "\\end{align*}"
   ]
  },
  {
   "cell_type": "code",
   "execution_count": 35,
   "metadata": {},
   "outputs": [
    {
     "name": "stdout",
     "output_type": "stream",
     "text": [
      "Объединенный прогноз:  3.40569548329551\n"
     ]
    }
   ],
   "source": [
    "yfor11 = ((y11)/(s11**2)+(y11tr)/(D))/((1)/(s11**2)+(1)/(D))\n",
    "print(\"Объединенный прогноз: \", yfor11)"
   ]
  },
  {
   "cell_type": "code",
   "execution_count": null,
   "metadata": {},
   "outputs": [],
   "source": []
  }
 ],
 "metadata": {
  "kernelspec": {
   "display_name": "Python 3",
   "language": "python",
   "name": "python3"
  },
  "language_info": {
   "codemirror_mode": {
    "name": "ipython",
    "version": 3
   },
   "file_extension": ".py",
   "mimetype": "text/x-python",
   "name": "python",
   "nbconvert_exporter": "python",
   "pygments_lexer": "ipython3",
   "version": "3.7.6"
  }
 },
 "nbformat": 4,
 "nbformat_minor": 4
}
