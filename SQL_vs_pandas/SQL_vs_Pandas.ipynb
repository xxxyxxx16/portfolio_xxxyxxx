{
 "cells": [
  {
   "cell_type": "markdown",
   "metadata": {},
   "source": [
    "# 1. Эксперимент #"
   ]
  },
  {
   "cell_type": "markdown",
   "metadata": {},
   "source": [
    "Цель работы - освоение алгоритмов классификации на наборе данных, полученных методом Монте Карло. Набор данных представляет собой 3 класса. Каждый класс имеет два признака - время замедления нейтрона и число столкновений."
   ]
  },
  {
   "cell_type": "markdown",
   "metadata": {},
   "source": [
    "## Блок нейтронной физики ##"
   ]
  },
  {
   "cell_type": "code",
   "execution_count": 1,
   "metadata": {},
   "outputs": [],
   "source": [
    "import pandas as pd\n",
    "import random as rd\n",
    "import math as math\n",
    "import scipy.constants as const # Модуль физико-математических констант\n",
    "\n",
    "# отключим предупреждения Anaconda\n",
    "import warnings\n",
    "warnings.simplefilter('ignore')\n",
    "\n",
    "N_A = const.Avogadro"
   ]
  },
  {
   "cell_type": "markdown",
   "metadata": {},
   "source": [
    "### Функция жизни нейтрона: ###"
   ]
  },
  {
   "cell_type": "code",
   "execution_count": 2,
   "metadata": {},
   "outputs": [],
   "source": [
    "# Для одинаковой генерации данных\n",
    "rd.seed(42)\n",
    "\n",
    "def life_of_neutron(Ein, Eout, dens, A1, A2, Mol_m, Sigma, alpha_1, alpha_2, sigma_1, sigma_2, x1, x2):\n",
    "    \n",
    "    Energy = Ein\n",
    "    colision = 0 # Число столкновений\n",
    "    time = 0 # Время полета\n",
    "    a = 0 # Угол полета\n",
    "    b = 0 # Изменение угла полета\n",
    "    l = 0 # Длина пролета\n",
    "    V = 0 # Скорость\n",
    "    elder = 0 #Возраст\n",
    "    while Energy > Eout: #Пока энергия нейтрона лежит в области > ... ЭВ\n",
    "        l = -1*math.log(rd.random())/Sigma/100 # В метрах\n",
    "        V = (2*Energy*1.6*(10**(-19))/(1.6749*10**(-27)))**0.5 # В м/с\n",
    "        time += l/V\n",
    "        colision += 1\n",
    "        \n",
    "        #Разыгрывание на каком ядре произошло рассеяние\n",
    "        x = rd.random()\n",
    "        if x < (x1*sigma_1/(x1*sigma_1 + x2*sigma_2)):# Рассеяние на первом ядре\n",
    "            E1 = Energy\n",
    "            E2 = Energy*alpha_1\n",
    "            Energy = rd.uniform(E1, E2)\n",
    "            b = math.acos\n",
    "\n",
    "            \n",
    "        else:# Рассеяние на втором ядре\n",
    "            E1 = Energy\n",
    "            E2 = Energy*alpha_2\n",
    "            Energy = rd.uniform(E1, E2)\n",
    "\n",
    "    return colision, time"
   ]
  },
  {
   "cell_type": "markdown",
   "metadata": {},
   "source": [
    "### Входные данные по материалам: ###"
   ]
  },
  {
   "cell_type": "code",
   "execution_count": 3,
   "metadata": {},
   "outputs": [
    {
     "data": {
      "text/html": [
       "<div>\n",
       "<style scoped>\n",
       "    .dataframe tbody tr th:only-of-type {\n",
       "        vertical-align: middle;\n",
       "    }\n",
       "\n",
       "    .dataframe tbody tr th {\n",
       "        vertical-align: top;\n",
       "    }\n",
       "\n",
       "    .dataframe thead th {\n",
       "        text-align: right;\n",
       "    }\n",
       "</style>\n",
       "<table border=\"1\" class=\"dataframe\">\n",
       "  <thead>\n",
       "    <tr style=\"text-align: right;\">\n",
       "      <th></th>\n",
       "      <th>Material</th>\n",
       "      <th>Density g/cm^3</th>\n",
       "      <th>A_1</th>\n",
       "      <th>A_2</th>\n",
       "      <th>Molar mass g/mol</th>\n",
       "      <th>Chemical formula</th>\n",
       "      <th>sigma_1 b</th>\n",
       "      <th>sigma_2 b</th>\n",
       "      <th>x1</th>\n",
       "      <th>x2</th>\n",
       "    </tr>\n",
       "  </thead>\n",
       "  <tbody>\n",
       "    <tr>\n",
       "      <td>0</td>\n",
       "      <td>Water</td>\n",
       "      <td>1.0</td>\n",
       "      <td>1</td>\n",
       "      <td>16</td>\n",
       "      <td>18</td>\n",
       "      <td>H2O</td>\n",
       "      <td>30.0</td>\n",
       "      <td>4.0</td>\n",
       "      <td>2</td>\n",
       "      <td>1</td>\n",
       "    </tr>\n",
       "    <tr>\n",
       "      <td>1</td>\n",
       "      <td>Heavy Plexiglass</td>\n",
       "      <td>1.6</td>\n",
       "      <td>12</td>\n",
       "      <td>2</td>\n",
       "      <td>28</td>\n",
       "      <td>C2D2</td>\n",
       "      <td>4.9</td>\n",
       "      <td>3.5</td>\n",
       "      <td>2</td>\n",
       "      <td>2</td>\n",
       "    </tr>\n",
       "    <tr>\n",
       "      <td>2</td>\n",
       "      <td>Heavy Water</td>\n",
       "      <td>1.1</td>\n",
       "      <td>2</td>\n",
       "      <td>16</td>\n",
       "      <td>20</td>\n",
       "      <td>D2O</td>\n",
       "      <td>3.5</td>\n",
       "      <td>4.0</td>\n",
       "      <td>2</td>\n",
       "      <td>1</td>\n",
       "    </tr>\n",
       "  </tbody>\n",
       "</table>\n",
       "</div>"
      ],
      "text/plain": [
       "           Material  Density g/cm^3  A_1  A_2  Molar mass g/mol  \\\n",
       "0             Water             1.0    1   16                18   \n",
       "1  Heavy Plexiglass             1.6   12    2                28   \n",
       "2       Heavy Water             1.1    2   16                20   \n",
       "\n",
       "  Chemical formula  sigma_1 b  sigma_2 b  x1  x2  \n",
       "0              H2O       30.0        4.0   2   1  \n",
       "1             C2D2        4.9        3.5   2   2  \n",
       "2              D2O        3.5        4.0   2   1  "
      ]
     },
     "execution_count": 3,
     "metadata": {},
     "output_type": "execute_result"
    }
   ],
   "source": [
    "df = pd.DataFrame({'Material': ['Water', 'Heavy Plexiglass', 'Heavy Water'],\n",
    "                   'Density g/cm^3': [1.0, 1.6, 1.1],\n",
    "                    'A_1' : [1, 12, 2],\n",
    "                    'A_2' : [16, 2, 16],\n",
    "                    'Molar mass g/mol' : [18, 28, 20],\n",
    "                    'Chemical formula' : ['H2O', 'C2D2', 'D2O'],\n",
    "                    'sigma_1 b' : [30.0, 4.9, 3.5],\n",
    "                    'sigma_2 b' : [4.0, 3.5, 4.0],\n",
    "                    'x1' : [2, 2, 2],\n",
    "                    'x2' : [1, 2, 1],\n",
    "                    \n",
    "              })\n",
    "\n",
    "df"
   ]
  },
  {
   "cell_type": "markdown",
   "metadata": {},
   "source": [
    "### Расчет макросечения: ###"
   ]
  },
  {
   "cell_type": "code",
   "execution_count": 4,
   "metadata": {},
   "outputs": [
    {
     "data": {
      "text/html": [
       "<div>\n",
       "<style scoped>\n",
       "    .dataframe tbody tr th:only-of-type {\n",
       "        vertical-align: middle;\n",
       "    }\n",
       "\n",
       "    .dataframe tbody tr th {\n",
       "        vertical-align: top;\n",
       "    }\n",
       "\n",
       "    .dataframe thead th {\n",
       "        text-align: right;\n",
       "    }\n",
       "</style>\n",
       "<table border=\"1\" class=\"dataframe\">\n",
       "  <thead>\n",
       "    <tr style=\"text-align: right;\">\n",
       "      <th></th>\n",
       "      <th>Material</th>\n",
       "      <th>Density g/cm^3</th>\n",
       "      <th>A_1</th>\n",
       "      <th>A_2</th>\n",
       "      <th>Molar mass g/mol</th>\n",
       "      <th>Chemical formula</th>\n",
       "      <th>sigma_1 b</th>\n",
       "      <th>sigma_2 b</th>\n",
       "      <th>x1</th>\n",
       "      <th>x2</th>\n",
       "      <th>Σ, 1/cm</th>\n",
       "    </tr>\n",
       "  </thead>\n",
       "  <tbody>\n",
       "    <tr>\n",
       "      <td>0</td>\n",
       "      <td>Water</td>\n",
       "      <td>1.0</td>\n",
       "      <td>1</td>\n",
       "      <td>16</td>\n",
       "      <td>18</td>\n",
       "      <td>H2O</td>\n",
       "      <td>30.0</td>\n",
       "      <td>4.0</td>\n",
       "      <td>2</td>\n",
       "      <td>1</td>\n",
       "      <td>2.141206</td>\n",
       "    </tr>\n",
       "    <tr>\n",
       "      <td>1</td>\n",
       "      <td>Heavy Plexiglass</td>\n",
       "      <td>1.6</td>\n",
       "      <td>12</td>\n",
       "      <td>2</td>\n",
       "      <td>28</td>\n",
       "      <td>C2D2</td>\n",
       "      <td>4.9</td>\n",
       "      <td>3.5</td>\n",
       "      <td>2</td>\n",
       "      <td>2</td>\n",
       "      <td>0.578126</td>\n",
       "    </tr>\n",
       "    <tr>\n",
       "      <td>2</td>\n",
       "      <td>Heavy Water</td>\n",
       "      <td>1.1</td>\n",
       "      <td>2</td>\n",
       "      <td>16</td>\n",
       "      <td>20</td>\n",
       "      <td>D2O</td>\n",
       "      <td>3.5</td>\n",
       "      <td>4.0</td>\n",
       "      <td>2</td>\n",
       "      <td>1</td>\n",
       "      <td>0.364340</td>\n",
       "    </tr>\n",
       "  </tbody>\n",
       "</table>\n",
       "</div>"
      ],
      "text/plain": [
       "           Material  Density g/cm^3  A_1  A_2  Molar mass g/mol  \\\n",
       "0             Water             1.0    1   16                18   \n",
       "1  Heavy Plexiglass             1.6   12    2                28   \n",
       "2       Heavy Water             1.1    2   16                20   \n",
       "\n",
       "  Chemical formula  sigma_1 b  sigma_2 b  x1  x2   Σ, 1/cm  \n",
       "0              H2O       30.0        4.0   2   1  2.141206  \n",
       "1             C2D2        4.9        3.5   2   2  0.578126  \n",
       "2              D2O        3.5        4.0   2   1  0.364340  "
      ]
     },
     "metadata": {},
     "output_type": "display_data"
    }
   ],
   "source": [
    "df['\\u03A3, 1/cm'] = 0.0\n",
    "for k in df.index:\n",
    "    df['Σ, 1/cm'][k] = (df['x1'][k]*df['sigma_1 b'][k]+df['x2'][k]*df['sigma_2 b'][k]\n",
    "                       )*N_A*df['Density g/cm^3'][k]/df['Molar mass g/mol'][k]/10**(24)\n",
    "display(df)"
   ]
  },
  {
   "cell_type": "markdown",
   "metadata": {},
   "source": [
    "### Расчет ступеньки замедления: ###"
   ]
  },
  {
   "cell_type": "code",
   "execution_count": 5,
   "metadata": {},
   "outputs": [
    {
     "data": {
      "text/html": [
       "<div>\n",
       "<style scoped>\n",
       "    .dataframe tbody tr th:only-of-type {\n",
       "        vertical-align: middle;\n",
       "    }\n",
       "\n",
       "    .dataframe tbody tr th {\n",
       "        vertical-align: top;\n",
       "    }\n",
       "\n",
       "    .dataframe thead th {\n",
       "        text-align: right;\n",
       "    }\n",
       "</style>\n",
       "<table border=\"1\" class=\"dataframe\">\n",
       "  <thead>\n",
       "    <tr style=\"text-align: right;\">\n",
       "      <th></th>\n",
       "      <th>Material</th>\n",
       "      <th>Density g/cm^3</th>\n",
       "      <th>A_1</th>\n",
       "      <th>A_2</th>\n",
       "      <th>Molar mass g/mol</th>\n",
       "      <th>Chemical formula</th>\n",
       "      <th>sigma_1 b</th>\n",
       "      <th>sigma_2 b</th>\n",
       "      <th>x1</th>\n",
       "      <th>x2</th>\n",
       "      <th>Σ, 1/cm</th>\n",
       "      <th>ɑ_1</th>\n",
       "      <th>ɑ_2</th>\n",
       "    </tr>\n",
       "  </thead>\n",
       "  <tbody>\n",
       "    <tr>\n",
       "      <td>0</td>\n",
       "      <td>Water</td>\n",
       "      <td>1.0</td>\n",
       "      <td>1</td>\n",
       "      <td>16</td>\n",
       "      <td>18</td>\n",
       "      <td>H2O</td>\n",
       "      <td>30.0</td>\n",
       "      <td>4.0</td>\n",
       "      <td>2</td>\n",
       "      <td>1</td>\n",
       "      <td>2.141206</td>\n",
       "      <td>0.000000</td>\n",
       "      <td>0.778547</td>\n",
       "    </tr>\n",
       "    <tr>\n",
       "      <td>1</td>\n",
       "      <td>Heavy Plexiglass</td>\n",
       "      <td>1.6</td>\n",
       "      <td>12</td>\n",
       "      <td>2</td>\n",
       "      <td>28</td>\n",
       "      <td>C2D2</td>\n",
       "      <td>4.9</td>\n",
       "      <td>3.5</td>\n",
       "      <td>2</td>\n",
       "      <td>2</td>\n",
       "      <td>0.578126</td>\n",
       "      <td>0.715976</td>\n",
       "      <td>0.111111</td>\n",
       "    </tr>\n",
       "    <tr>\n",
       "      <td>2</td>\n",
       "      <td>Heavy Water</td>\n",
       "      <td>1.1</td>\n",
       "      <td>2</td>\n",
       "      <td>16</td>\n",
       "      <td>20</td>\n",
       "      <td>D2O</td>\n",
       "      <td>3.5</td>\n",
       "      <td>4.0</td>\n",
       "      <td>2</td>\n",
       "      <td>1</td>\n",
       "      <td>0.364340</td>\n",
       "      <td>0.111111</td>\n",
       "      <td>0.778547</td>\n",
       "    </tr>\n",
       "  </tbody>\n",
       "</table>\n",
       "</div>"
      ],
      "text/plain": [
       "           Material  Density g/cm^3  A_1  A_2  Molar mass g/mol  \\\n",
       "0             Water             1.0    1   16                18   \n",
       "1  Heavy Plexiglass             1.6   12    2                28   \n",
       "2       Heavy Water             1.1    2   16                20   \n",
       "\n",
       "  Chemical formula  sigma_1 b  sigma_2 b  x1  x2   Σ, 1/cm       ɑ_1       ɑ_2  \n",
       "0              H2O       30.0        4.0   2   1  2.141206  0.000000  0.778547  \n",
       "1             C2D2        4.9        3.5   2   2  0.578126  0.715976  0.111111  \n",
       "2              D2O        3.5        4.0   2   1  0.364340  0.111111  0.778547  "
      ]
     },
     "metadata": {},
     "output_type": "display_data"
    }
   ],
   "source": [
    "df['\\u0251_1'] = 0.0\n",
    "df['\\u0251_2'] = 0.0\n",
    "for k in df.index:\n",
    "    df['\\u0251_1'][k] = ((df['A_1'][k]-1)/(df['A_1'][k]+1))**2\n",
    "    df['\\u0251_2'][k] = ((df['A_2'][k]-1)/(df['A_2'][k]+1))**2\n",
    "display(df)"
   ]
  },
  {
   "cell_type": "markdown",
   "metadata": {},
   "source": [
    "### Создание DataFrame для записи данных ###"
   ]
  },
  {
   "cell_type": "code",
   "execution_count": 6,
   "metadata": {},
   "outputs": [
    {
     "data": {
      "text/html": [
       "<div>\n",
       "<style scoped>\n",
       "    .dataframe tbody tr th:only-of-type {\n",
       "        vertical-align: middle;\n",
       "    }\n",
       "\n",
       "    .dataframe tbody tr th {\n",
       "        vertical-align: top;\n",
       "    }\n",
       "\n",
       "    .dataframe thead th {\n",
       "        text-align: right;\n",
       "    }\n",
       "</style>\n",
       "<table border=\"1\" class=\"dataframe\">\n",
       "  <thead>\n",
       "    <tr style=\"text-align: right;\">\n",
       "      <th></th>\n",
       "      <th>time, 10^(-5) c</th>\n",
       "      <th>colisions</th>\n",
       "      <th>Material</th>\n",
       "      <th>target</th>\n",
       "    </tr>\n",
       "  </thead>\n",
       "  <tbody>\n",
       "  </tbody>\n",
       "</table>\n",
       "</div>"
      ],
      "text/plain": [
       "Empty DataFrame\n",
       "Columns: [time, 10^(-5) c, colisions, Material, target]\n",
       "Index: []"
      ]
     },
     "execution_count": 6,
     "metadata": {},
     "output_type": "execute_result"
    }
   ],
   "source": [
    "df1 = pd.DataFrame({'time, 10^(-5) c': [],\n",
    "                   'colisions': [],\n",
    "                    'Material' : [],\n",
    "                    'target' : [] \n",
    "              })\n",
    "df1"
   ]
  },
  {
   "cell_type": "markdown",
   "metadata": {},
   "source": [
    "### Эксперимент методом Монте-Карло ###"
   ]
  },
  {
   "cell_type": "code",
   "execution_count": 7,
   "metadata": {},
   "outputs": [
    {
     "name": "stdout",
     "output_type": "stream",
     "text": [
      "Water\n",
      "15.643333333333333\n",
      "6.787573166715254e-07\n",
      "Heavy Plexiglass\n",
      "35.90833333333333\n",
      "6.2682122914039705e-06\n",
      "Heavy Water\n",
      "28.513333333333335\n",
      "7.811704490837068e-06\n"
     ]
    }
   ],
   "source": [
    "Estart = 1_000_000 #1Мэв\n",
    "Eend = 1 #1 Эв\n",
    "Colision = [0, 0, 0, 0]\n",
    "Time = [0, 0, 0, 0]\n",
    "number_of_event = 300\n",
    "counter = 0 # Счетчик для записи в DataFrame\n",
    "for k in df.index: #Цикл по материалам\n",
    "    for i in range(0, number_of_event*(k+1)): #Колличество событий для каждого материала\n",
    "        colision, time = life_of_neutron(Estart, Eend, df['Density g/cm^3'][k],\n",
    "                                          df['A_1'][k], df['A_2'][k],\n",
    "                                          df['Molar mass g/mol'][k], df['Σ, 1/cm'][k],\n",
    "                                          df['ɑ_1'][k], df['ɑ_2'][k],\n",
    "                                          df['sigma_1 b'][k], df['sigma_2 b'][k],\n",
    "                                          df['x1'][k], df['x2'][k],)\n",
    "        df1.loc[counter] = {'Material': df['Material'][k], 'time, 10^(-5) c': time*100_000, 'colisions': colision, 'target': k}\n",
    "        Colision[k]+=colision\n",
    "        Time[k]+=time\n",
    "        counter+=1\n",
    "\n",
    "\n",
    "for k in df.index:\n",
    "    Colision[k] = Colision[k]/number_of_event/(k+1)\n",
    "    Time[k] = Time[k]/number_of_event/(k+1)\n",
    "    \n",
    "for k in df.index:\n",
    "    print(df['Material'][k])\n",
    "    print(Colision[k])\n",
    "    print(Time[k])"
   ]
  },
  {
   "cell_type": "markdown",
   "metadata": {},
   "source": [
    "# 2. SQL vs Pandas"
   ]
  },
  {
   "cell_type": "markdown",
   "metadata": {},
   "source": [
    "## 2.1 Create a Table"
   ]
  },
  {
   "cell_type": "markdown",
   "metadata": {},
   "source": [
    "Посмотрим, что представляют собой полученные данные"
   ]
  },
  {
   "cell_type": "code",
   "execution_count": 8,
   "metadata": {},
   "outputs": [
    {
     "data": {
      "text/html": [
       "<div>\n",
       "<style scoped>\n",
       "    .dataframe tbody tr th:only-of-type {\n",
       "        vertical-align: middle;\n",
       "    }\n",
       "\n",
       "    .dataframe tbody tr th {\n",
       "        vertical-align: top;\n",
       "    }\n",
       "\n",
       "    .dataframe thead th {\n",
       "        text-align: right;\n",
       "    }\n",
       "</style>\n",
       "<table border=\"1\" class=\"dataframe\">\n",
       "  <thead>\n",
       "    <tr style=\"text-align: right;\">\n",
       "      <th></th>\n",
       "      <th>time, 10^(-5) c</th>\n",
       "      <th>colisions</th>\n",
       "      <th>Material</th>\n",
       "      <th>target</th>\n",
       "    </tr>\n",
       "  </thead>\n",
       "  <tbody>\n",
       "    <tr>\n",
       "      <td>0</td>\n",
       "      <td>0.060134</td>\n",
       "      <td>18.0</td>\n",
       "      <td>Water</td>\n",
       "      <td>0.0</td>\n",
       "    </tr>\n",
       "    <tr>\n",
       "      <td>1</td>\n",
       "      <td>0.015265</td>\n",
       "      <td>11.0</td>\n",
       "      <td>Water</td>\n",
       "      <td>0.0</td>\n",
       "    </tr>\n",
       "    <tr>\n",
       "      <td>2</td>\n",
       "      <td>0.058799</td>\n",
       "      <td>17.0</td>\n",
       "      <td>Water</td>\n",
       "      <td>0.0</td>\n",
       "    </tr>\n",
       "    <tr>\n",
       "      <td>3</td>\n",
       "      <td>0.047027</td>\n",
       "      <td>14.0</td>\n",
       "      <td>Water</td>\n",
       "      <td>0.0</td>\n",
       "    </tr>\n",
       "    <tr>\n",
       "      <td>4</td>\n",
       "      <td>0.018141</td>\n",
       "      <td>10.0</td>\n",
       "      <td>Water</td>\n",
       "      <td>0.0</td>\n",
       "    </tr>\n",
       "  </tbody>\n",
       "</table>\n",
       "</div>"
      ],
      "text/plain": [
       "   time, 10^(-5) c  colisions Material  target\n",
       "0         0.060134       18.0    Water     0.0\n",
       "1         0.015265       11.0    Water     0.0\n",
       "2         0.058799       17.0    Water     0.0\n",
       "3         0.047027       14.0    Water     0.0\n",
       "4         0.018141       10.0    Water     0.0"
      ]
     },
     "execution_count": 8,
     "metadata": {},
     "output_type": "execute_result"
    }
   ],
   "source": [
    "df1.head()"
   ]
  },
  {
   "cell_type": "markdown",
   "metadata": {},
   "source": [
    "Еще раз взглянем на входные данные"
   ]
  },
  {
   "cell_type": "code",
   "execution_count": 9,
   "metadata": {},
   "outputs": [
    {
     "data": {
      "text/html": [
       "<div>\n",
       "<style scoped>\n",
       "    .dataframe tbody tr th:only-of-type {\n",
       "        vertical-align: middle;\n",
       "    }\n",
       "\n",
       "    .dataframe tbody tr th {\n",
       "        vertical-align: top;\n",
       "    }\n",
       "\n",
       "    .dataframe thead th {\n",
       "        text-align: right;\n",
       "    }\n",
       "</style>\n",
       "<table border=\"1\" class=\"dataframe\">\n",
       "  <thead>\n",
       "    <tr style=\"text-align: right;\">\n",
       "      <th></th>\n",
       "      <th>Material</th>\n",
       "      <th>Density g/cm^3</th>\n",
       "      <th>A_1</th>\n",
       "      <th>A_2</th>\n",
       "      <th>Molar mass g/mol</th>\n",
       "      <th>Chemical formula</th>\n",
       "      <th>sigma_1 b</th>\n",
       "      <th>sigma_2 b</th>\n",
       "      <th>x1</th>\n",
       "      <th>x2</th>\n",
       "      <th>Σ, 1/cm</th>\n",
       "      <th>ɑ_1</th>\n",
       "      <th>ɑ_2</th>\n",
       "    </tr>\n",
       "  </thead>\n",
       "  <tbody>\n",
       "    <tr>\n",
       "      <td>0</td>\n",
       "      <td>Water</td>\n",
       "      <td>1.0</td>\n",
       "      <td>1</td>\n",
       "      <td>16</td>\n",
       "      <td>18</td>\n",
       "      <td>H2O</td>\n",
       "      <td>30.0</td>\n",
       "      <td>4.0</td>\n",
       "      <td>2</td>\n",
       "      <td>1</td>\n",
       "      <td>2.141206</td>\n",
       "      <td>0.000000</td>\n",
       "      <td>0.778547</td>\n",
       "    </tr>\n",
       "    <tr>\n",
       "      <td>1</td>\n",
       "      <td>Heavy Plexiglass</td>\n",
       "      <td>1.6</td>\n",
       "      <td>12</td>\n",
       "      <td>2</td>\n",
       "      <td>28</td>\n",
       "      <td>C2D2</td>\n",
       "      <td>4.9</td>\n",
       "      <td>3.5</td>\n",
       "      <td>2</td>\n",
       "      <td>2</td>\n",
       "      <td>0.578126</td>\n",
       "      <td>0.715976</td>\n",
       "      <td>0.111111</td>\n",
       "    </tr>\n",
       "    <tr>\n",
       "      <td>2</td>\n",
       "      <td>Heavy Water</td>\n",
       "      <td>1.1</td>\n",
       "      <td>2</td>\n",
       "      <td>16</td>\n",
       "      <td>20</td>\n",
       "      <td>D2O</td>\n",
       "      <td>3.5</td>\n",
       "      <td>4.0</td>\n",
       "      <td>2</td>\n",
       "      <td>1</td>\n",
       "      <td>0.364340</td>\n",
       "      <td>0.111111</td>\n",
       "      <td>0.778547</td>\n",
       "    </tr>\n",
       "  </tbody>\n",
       "</table>\n",
       "</div>"
      ],
      "text/plain": [
       "           Material  Density g/cm^3  A_1  A_2  Molar mass g/mol  \\\n",
       "0             Water             1.0    1   16                18   \n",
       "1  Heavy Plexiglass             1.6   12    2                28   \n",
       "2       Heavy Water             1.1    2   16                20   \n",
       "\n",
       "  Chemical formula  sigma_1 b  sigma_2 b  x1  x2   Σ, 1/cm       ɑ_1       ɑ_2  \n",
       "0              H2O       30.0        4.0   2   1  2.141206  0.000000  0.778547  \n",
       "1             C2D2        4.9        3.5   2   2  0.578126  0.715976  0.111111  \n",
       "2              D2O        3.5        4.0   2   1  0.364340  0.111111  0.778547  "
      ]
     },
     "execution_count": 9,
     "metadata": {},
     "output_type": "execute_result"
    }
   ],
   "source": [
    "df.head()"
   ]
  },
  {
   "cell_type": "markdown",
   "metadata": {},
   "source": [
    "Создадим базу данных из этих двух data frames"
   ]
  },
  {
   "cell_type": "code",
   "execution_count": 10,
   "metadata": {},
   "outputs": [],
   "source": [
    "import sqlite3"
   ]
  },
  {
   "cell_type": "code",
   "execution_count": 11,
   "metadata": {},
   "outputs": [],
   "source": [
    "conn = sqlite3.connect('data/neutron_moderation.db')\n",
    "c = conn.cursor()"
   ]
  },
  {
   "cell_type": "code",
   "execution_count": 12,
   "metadata": {},
   "outputs": [],
   "source": [
    "df.to_sql('Input_data', conn, if_exists='replace', index = False)"
   ]
  },
  {
   "cell_type": "code",
   "execution_count": 13,
   "metadata": {},
   "outputs": [],
   "source": [
    "df1.to_sql('Output_data', conn, if_exists='replace', index = False)"
   ]
  },
  {
   "cell_type": "markdown",
   "metadata": {},
   "source": [
    "Создадим пустую таблицу для тренировки не из DF и затем её удалим"
   ]
  },
  {
   "cell_type": "code",
   "execution_count": 14,
   "metadata": {},
   "outputs": [],
   "source": [
    "c.execute('CREATE TABLE CARS (Brand text, Price number)')\n",
    "conn.commit()"
   ]
  },
  {
   "cell_type": "code",
   "execution_count": 15,
   "metadata": {},
   "outputs": [],
   "source": [
    "c.execute('DROP TABLE IF EXISTS CARS')\n",
    "conn.commit()"
   ]
  },
  {
   "cell_type": "markdown",
   "metadata": {},
   "source": [
    "Создадим df из полученной базы данных"
   ]
  },
  {
   "cell_type": "code",
   "execution_count": 16,
   "metadata": {},
   "outputs": [
    {
     "data": {
      "text/html": [
       "<div>\n",
       "<style scoped>\n",
       "    .dataframe tbody tr th:only-of-type {\n",
       "        vertical-align: middle;\n",
       "    }\n",
       "\n",
       "    .dataframe tbody tr th {\n",
       "        vertical-align: top;\n",
       "    }\n",
       "\n",
       "    .dataframe thead th {\n",
       "        text-align: right;\n",
       "    }\n",
       "</style>\n",
       "<table border=\"1\" class=\"dataframe\">\n",
       "  <thead>\n",
       "    <tr style=\"text-align: right;\">\n",
       "      <th></th>\n",
       "      <th>time, 10^(-5) c</th>\n",
       "      <th>colisions</th>\n",
       "      <th>Material</th>\n",
       "      <th>target</th>\n",
       "    </tr>\n",
       "  </thead>\n",
       "  <tbody>\n",
       "    <tr>\n",
       "      <td>0</td>\n",
       "      <td>0.060134</td>\n",
       "      <td>18.0</td>\n",
       "      <td>Water</td>\n",
       "      <td>0.0</td>\n",
       "    </tr>\n",
       "    <tr>\n",
       "      <td>1</td>\n",
       "      <td>0.015265</td>\n",
       "      <td>11.0</td>\n",
       "      <td>Water</td>\n",
       "      <td>0.0</td>\n",
       "    </tr>\n",
       "    <tr>\n",
       "      <td>2</td>\n",
       "      <td>0.058799</td>\n",
       "      <td>17.0</td>\n",
       "      <td>Water</td>\n",
       "      <td>0.0</td>\n",
       "    </tr>\n",
       "    <tr>\n",
       "      <td>3</td>\n",
       "      <td>0.047027</td>\n",
       "      <td>14.0</td>\n",
       "      <td>Water</td>\n",
       "      <td>0.0</td>\n",
       "    </tr>\n",
       "    <tr>\n",
       "      <td>4</td>\n",
       "      <td>0.018141</td>\n",
       "      <td>10.0</td>\n",
       "      <td>Water</td>\n",
       "      <td>0.0</td>\n",
       "    </tr>\n",
       "  </tbody>\n",
       "</table>\n",
       "</div>"
      ],
      "text/plain": [
       "   time, 10^(-5) c  colisions Material  target\n",
       "0         0.060134       18.0    Water     0.0\n",
       "1         0.015265       11.0    Water     0.0\n",
       "2         0.058799       17.0    Water     0.0\n",
       "3         0.047027       14.0    Water     0.0\n",
       "4         0.018141       10.0    Water     0.0"
      ]
     },
     "execution_count": 16,
     "metadata": {},
     "output_type": "execute_result"
    }
   ],
   "source": [
    "df1 = pd.read_sql(\"SELECT * from Output_data\", conn)\n",
    "df1.head()"
   ]
  },
  {
   "cell_type": "code",
   "execution_count": 17,
   "metadata": {},
   "outputs": [
    {
     "data": {
      "text/html": [
       "<div>\n",
       "<style scoped>\n",
       "    .dataframe tbody tr th:only-of-type {\n",
       "        vertical-align: middle;\n",
       "    }\n",
       "\n",
       "    .dataframe tbody tr th {\n",
       "        vertical-align: top;\n",
       "    }\n",
       "\n",
       "    .dataframe thead th {\n",
       "        text-align: right;\n",
       "    }\n",
       "</style>\n",
       "<table border=\"1\" class=\"dataframe\">\n",
       "  <thead>\n",
       "    <tr style=\"text-align: right;\">\n",
       "      <th></th>\n",
       "      <th>Material</th>\n",
       "      <th>Density g/cm^3</th>\n",
       "      <th>A_1</th>\n",
       "      <th>A_2</th>\n",
       "      <th>Molar mass g/mol</th>\n",
       "      <th>Chemical formula</th>\n",
       "      <th>sigma_1 b</th>\n",
       "      <th>sigma_2 b</th>\n",
       "      <th>x1</th>\n",
       "      <th>x2</th>\n",
       "      <th>Σ, 1/cm</th>\n",
       "      <th>ɑ_1</th>\n",
       "      <th>ɑ_2</th>\n",
       "    </tr>\n",
       "  </thead>\n",
       "  <tbody>\n",
       "    <tr>\n",
       "      <td>0</td>\n",
       "      <td>Water</td>\n",
       "      <td>1.0</td>\n",
       "      <td>1</td>\n",
       "      <td>16</td>\n",
       "      <td>18</td>\n",
       "      <td>H2O</td>\n",
       "      <td>30.0</td>\n",
       "      <td>4.0</td>\n",
       "      <td>2</td>\n",
       "      <td>1</td>\n",
       "      <td>2.141206</td>\n",
       "      <td>0.000000</td>\n",
       "      <td>0.778547</td>\n",
       "    </tr>\n",
       "    <tr>\n",
       "      <td>1</td>\n",
       "      <td>Heavy Plexiglass</td>\n",
       "      <td>1.6</td>\n",
       "      <td>12</td>\n",
       "      <td>2</td>\n",
       "      <td>28</td>\n",
       "      <td>C2D2</td>\n",
       "      <td>4.9</td>\n",
       "      <td>3.5</td>\n",
       "      <td>2</td>\n",
       "      <td>2</td>\n",
       "      <td>0.578126</td>\n",
       "      <td>0.715976</td>\n",
       "      <td>0.111111</td>\n",
       "    </tr>\n",
       "    <tr>\n",
       "      <td>2</td>\n",
       "      <td>Heavy Water</td>\n",
       "      <td>1.1</td>\n",
       "      <td>2</td>\n",
       "      <td>16</td>\n",
       "      <td>20</td>\n",
       "      <td>D2O</td>\n",
       "      <td>3.5</td>\n",
       "      <td>4.0</td>\n",
       "      <td>2</td>\n",
       "      <td>1</td>\n",
       "      <td>0.364340</td>\n",
       "      <td>0.111111</td>\n",
       "      <td>0.778547</td>\n",
       "    </tr>\n",
       "  </tbody>\n",
       "</table>\n",
       "</div>"
      ],
      "text/plain": [
       "           Material  Density g/cm^3  A_1  A_2  Molar mass g/mol  \\\n",
       "0             Water             1.0    1   16                18   \n",
       "1  Heavy Plexiglass             1.6   12    2                28   \n",
       "2       Heavy Water             1.1    2   16                20   \n",
       "\n",
       "  Chemical formula  sigma_1 b  sigma_2 b  x1  x2   Σ, 1/cm       ɑ_1       ɑ_2  \n",
       "0              H2O       30.0        4.0   2   1  2.141206  0.000000  0.778547  \n",
       "1             C2D2        4.9        3.5   2   2  0.578126  0.715976  0.111111  \n",
       "2              D2O        3.5        4.0   2   1  0.364340  0.111111  0.778547  "
      ]
     },
     "execution_count": 17,
     "metadata": {},
     "output_type": "execute_result"
    }
   ],
   "source": [
    "df = pd.read_sql(\"SELECT * from Input_data\", conn)\n",
    "df.head()"
   ]
  },
  {
   "cell_type": "markdown",
   "metadata": {},
   "source": [
    "## 2.2 INSERT Operation"
   ]
  },
  {
   "cell_type": "markdown",
   "metadata": {},
   "source": [
    "Добавление через pandas"
   ]
  },
  {
   "cell_type": "code",
   "execution_count": 18,
   "metadata": {},
   "outputs": [
    {
     "data": {
      "text/plain": [
       "[{'Material': 'Carbon', 'Chemical formula': 'C'}]"
      ]
     },
     "execution_count": 18,
     "metadata": {},
     "output_type": "execute_result"
    }
   ],
   "source": [
    "data = [{\"Material\": 'Carbon', \"Chemical formula\": 'C'}]\n",
    "data"
   ]
  },
  {
   "cell_type": "code",
   "execution_count": 19,
   "metadata": {},
   "outputs": [
    {
     "data": {
      "text/html": [
       "<div>\n",
       "<style scoped>\n",
       "    .dataframe tbody tr th:only-of-type {\n",
       "        vertical-align: middle;\n",
       "    }\n",
       "\n",
       "    .dataframe tbody tr th {\n",
       "        vertical-align: top;\n",
       "    }\n",
       "\n",
       "    .dataframe thead th {\n",
       "        text-align: right;\n",
       "    }\n",
       "</style>\n",
       "<table border=\"1\" class=\"dataframe\">\n",
       "  <thead>\n",
       "    <tr style=\"text-align: right;\">\n",
       "      <th></th>\n",
       "      <th>Material</th>\n",
       "      <th>Chemical formula</th>\n",
       "    </tr>\n",
       "  </thead>\n",
       "  <tbody>\n",
       "    <tr>\n",
       "      <td>0</td>\n",
       "      <td>Carbon</td>\n",
       "      <td>C</td>\n",
       "    </tr>\n",
       "  </tbody>\n",
       "</table>\n",
       "</div>"
      ],
      "text/plain": [
       "  Material Chemical formula\n",
       "0   Carbon                C"
      ]
     },
     "execution_count": 19,
     "metadata": {},
     "output_type": "execute_result"
    }
   ],
   "source": [
    "data = pd.DataFrame(data)\n",
    "data"
   ]
  },
  {
   "cell_type": "code",
   "execution_count": 20,
   "metadata": {},
   "outputs": [],
   "source": [
    "df = pd.concat([df, data], ignore_index=True)"
   ]
  },
  {
   "cell_type": "code",
   "execution_count": 21,
   "metadata": {
    "scrolled": false
   },
   "outputs": [
    {
     "data": {
      "text/html": [
       "<div>\n",
       "<style scoped>\n",
       "    .dataframe tbody tr th:only-of-type {\n",
       "        vertical-align: middle;\n",
       "    }\n",
       "\n",
       "    .dataframe tbody tr th {\n",
       "        vertical-align: top;\n",
       "    }\n",
       "\n",
       "    .dataframe thead th {\n",
       "        text-align: right;\n",
       "    }\n",
       "</style>\n",
       "<table border=\"1\" class=\"dataframe\">\n",
       "  <thead>\n",
       "    <tr style=\"text-align: right;\">\n",
       "      <th></th>\n",
       "      <th>A_1</th>\n",
       "      <th>A_2</th>\n",
       "      <th>Chemical formula</th>\n",
       "      <th>Density g/cm^3</th>\n",
       "      <th>Material</th>\n",
       "      <th>Molar mass g/mol</th>\n",
       "      <th>sigma_1 b</th>\n",
       "      <th>sigma_2 b</th>\n",
       "      <th>x1</th>\n",
       "      <th>x2</th>\n",
       "      <th>ɑ_1</th>\n",
       "      <th>ɑ_2</th>\n",
       "      <th>Σ, 1/cm</th>\n",
       "    </tr>\n",
       "  </thead>\n",
       "  <tbody>\n",
       "    <tr>\n",
       "      <td>0</td>\n",
       "      <td>1.0</td>\n",
       "      <td>16.0</td>\n",
       "      <td>H2O</td>\n",
       "      <td>1.0</td>\n",
       "      <td>Water</td>\n",
       "      <td>18.0</td>\n",
       "      <td>30.0</td>\n",
       "      <td>4.0</td>\n",
       "      <td>2.0</td>\n",
       "      <td>1.0</td>\n",
       "      <td>0.000000</td>\n",
       "      <td>0.778547</td>\n",
       "      <td>2.141206</td>\n",
       "    </tr>\n",
       "    <tr>\n",
       "      <td>1</td>\n",
       "      <td>12.0</td>\n",
       "      <td>2.0</td>\n",
       "      <td>C2D2</td>\n",
       "      <td>1.6</td>\n",
       "      <td>Heavy Plexiglass</td>\n",
       "      <td>28.0</td>\n",
       "      <td>4.9</td>\n",
       "      <td>3.5</td>\n",
       "      <td>2.0</td>\n",
       "      <td>2.0</td>\n",
       "      <td>0.715976</td>\n",
       "      <td>0.111111</td>\n",
       "      <td>0.578126</td>\n",
       "    </tr>\n",
       "    <tr>\n",
       "      <td>2</td>\n",
       "      <td>2.0</td>\n",
       "      <td>16.0</td>\n",
       "      <td>D2O</td>\n",
       "      <td>1.1</td>\n",
       "      <td>Heavy Water</td>\n",
       "      <td>20.0</td>\n",
       "      <td>3.5</td>\n",
       "      <td>4.0</td>\n",
       "      <td>2.0</td>\n",
       "      <td>1.0</td>\n",
       "      <td>0.111111</td>\n",
       "      <td>0.778547</td>\n",
       "      <td>0.364340</td>\n",
       "    </tr>\n",
       "    <tr>\n",
       "      <td>3</td>\n",
       "      <td>NaN</td>\n",
       "      <td>NaN</td>\n",
       "      <td>C</td>\n",
       "      <td>NaN</td>\n",
       "      <td>Carbon</td>\n",
       "      <td>NaN</td>\n",
       "      <td>NaN</td>\n",
       "      <td>NaN</td>\n",
       "      <td>NaN</td>\n",
       "      <td>NaN</td>\n",
       "      <td>NaN</td>\n",
       "      <td>NaN</td>\n",
       "      <td>NaN</td>\n",
       "    </tr>\n",
       "  </tbody>\n",
       "</table>\n",
       "</div>"
      ],
      "text/plain": [
       "    A_1   A_2 Chemical formula  Density g/cm^3          Material  \\\n",
       "0   1.0  16.0              H2O             1.0             Water   \n",
       "1  12.0   2.0             C2D2             1.6  Heavy Plexiglass   \n",
       "2   2.0  16.0              D2O             1.1       Heavy Water   \n",
       "3   NaN   NaN                C             NaN            Carbon   \n",
       "\n",
       "   Molar mass g/mol  sigma_1 b  sigma_2 b   x1   x2       ɑ_1       ɑ_2  \\\n",
       "0              18.0       30.0        4.0  2.0  1.0  0.000000  0.778547   \n",
       "1              28.0        4.9        3.5  2.0  2.0  0.715976  0.111111   \n",
       "2              20.0        3.5        4.0  2.0  1.0  0.111111  0.778547   \n",
       "3               NaN        NaN        NaN  NaN  NaN       NaN       NaN   \n",
       "\n",
       "    Σ, 1/cm  \n",
       "0  2.141206  \n",
       "1  0.578126  \n",
       "2  0.364340  \n",
       "3       NaN  "
      ]
     },
     "execution_count": 21,
     "metadata": {},
     "output_type": "execute_result"
    }
   ],
   "source": [
    "df"
   ]
  },
  {
   "cell_type": "markdown",
   "metadata": {},
   "source": [
    "## 2.3 DELETE Operatioin"
   ]
  },
  {
   "cell_type": "markdown",
   "metadata": {},
   "source": [
    "Удаление через pandas"
   ]
  },
  {
   "cell_type": "code",
   "execution_count": 22,
   "metadata": {},
   "outputs": [
    {
     "name": "stdout",
     "output_type": "stream",
     "text": [
      "<class 'pandas.core.frame.DataFrame'>\n",
      "RangeIndex: 4 entries, 0 to 3\n",
      "Data columns (total 13 columns):\n",
      "A_1                 3 non-null float64\n",
      "A_2                 3 non-null float64\n",
      "Chemical formula    4 non-null object\n",
      "Density g/cm^3      3 non-null float64\n",
      "Material            4 non-null object\n",
      "Molar mass g/mol    3 non-null float64\n",
      "sigma_1 b           3 non-null float64\n",
      "sigma_2 b           3 non-null float64\n",
      "x1                  3 non-null float64\n",
      "x2                  3 non-null float64\n",
      "ɑ_1                 3 non-null float64\n",
      "ɑ_2                 3 non-null float64\n",
      "Σ, 1/cm             3 non-null float64\n",
      "dtypes: float64(11), object(2)\n",
      "memory usage: 544.0+ bytes\n"
     ]
    }
   ],
   "source": [
    "df.info()"
   ]
  },
  {
   "cell_type": "code",
   "execution_count": 23,
   "metadata": {},
   "outputs": [
    {
     "data": {
      "text/plain": [
       "A_1                 1\n",
       "A_2                 1\n",
       "Chemical formula    0\n",
       "Density g/cm^3      1\n",
       "Material            0\n",
       "Molar mass g/mol    1\n",
       "sigma_1 b           1\n",
       "sigma_2 b           1\n",
       "x1                  1\n",
       "x2                  1\n",
       "ɑ_1                 1\n",
       "ɑ_2                 1\n",
       "Σ, 1/cm             1\n",
       "dtype: int64"
      ]
     },
     "execution_count": 23,
     "metadata": {},
     "output_type": "execute_result"
    }
   ],
   "source": [
    "df.isnull().sum()"
   ]
  },
  {
   "cell_type": "code",
   "execution_count": 24,
   "metadata": {},
   "outputs": [
    {
     "data": {
      "text/html": [
       "<div>\n",
       "<style scoped>\n",
       "    .dataframe tbody tr th:only-of-type {\n",
       "        vertical-align: middle;\n",
       "    }\n",
       "\n",
       "    .dataframe tbody tr th {\n",
       "        vertical-align: top;\n",
       "    }\n",
       "\n",
       "    .dataframe thead th {\n",
       "        text-align: right;\n",
       "    }\n",
       "</style>\n",
       "<table border=\"1\" class=\"dataframe\">\n",
       "  <thead>\n",
       "    <tr style=\"text-align: right;\">\n",
       "      <th></th>\n",
       "      <th>A_1</th>\n",
       "      <th>A_2</th>\n",
       "      <th>Chemical formula</th>\n",
       "      <th>Density g/cm^3</th>\n",
       "      <th>Material</th>\n",
       "      <th>Molar mass g/mol</th>\n",
       "      <th>sigma_1 b</th>\n",
       "      <th>sigma_2 b</th>\n",
       "      <th>x1</th>\n",
       "      <th>x2</th>\n",
       "      <th>ɑ_1</th>\n",
       "      <th>ɑ_2</th>\n",
       "      <th>Σ, 1/cm</th>\n",
       "    </tr>\n",
       "  </thead>\n",
       "  <tbody>\n",
       "    <tr>\n",
       "      <td>0</td>\n",
       "      <td>1.0</td>\n",
       "      <td>16.0</td>\n",
       "      <td>H2O</td>\n",
       "      <td>1.0</td>\n",
       "      <td>Water</td>\n",
       "      <td>18.0</td>\n",
       "      <td>30.0</td>\n",
       "      <td>4.0</td>\n",
       "      <td>2.0</td>\n",
       "      <td>1.0</td>\n",
       "      <td>0.000000</td>\n",
       "      <td>0.778547</td>\n",
       "      <td>2.141206</td>\n",
       "    </tr>\n",
       "    <tr>\n",
       "      <td>1</td>\n",
       "      <td>12.0</td>\n",
       "      <td>2.0</td>\n",
       "      <td>C2D2</td>\n",
       "      <td>1.6</td>\n",
       "      <td>Heavy Plexiglass</td>\n",
       "      <td>28.0</td>\n",
       "      <td>4.9</td>\n",
       "      <td>3.5</td>\n",
       "      <td>2.0</td>\n",
       "      <td>2.0</td>\n",
       "      <td>0.715976</td>\n",
       "      <td>0.111111</td>\n",
       "      <td>0.578126</td>\n",
       "    </tr>\n",
       "    <tr>\n",
       "      <td>2</td>\n",
       "      <td>2.0</td>\n",
       "      <td>16.0</td>\n",
       "      <td>D2O</td>\n",
       "      <td>1.1</td>\n",
       "      <td>Heavy Water</td>\n",
       "      <td>20.0</td>\n",
       "      <td>3.5</td>\n",
       "      <td>4.0</td>\n",
       "      <td>2.0</td>\n",
       "      <td>1.0</td>\n",
       "      <td>0.111111</td>\n",
       "      <td>0.778547</td>\n",
       "      <td>0.364340</td>\n",
       "    </tr>\n",
       "  </tbody>\n",
       "</table>\n",
       "</div>"
      ],
      "text/plain": [
       "    A_1   A_2 Chemical formula  Density g/cm^3          Material  \\\n",
       "0   1.0  16.0              H2O             1.0             Water   \n",
       "1  12.0   2.0             C2D2             1.6  Heavy Plexiglass   \n",
       "2   2.0  16.0              D2O             1.1       Heavy Water   \n",
       "\n",
       "   Molar mass g/mol  sigma_1 b  sigma_2 b   x1   x2       ɑ_1       ɑ_2  \\\n",
       "0              18.0       30.0        4.0  2.0  1.0  0.000000  0.778547   \n",
       "1              28.0        4.9        3.5  2.0  2.0  0.715976  0.111111   \n",
       "2              20.0        3.5        4.0  2.0  1.0  0.111111  0.778547   \n",
       "\n",
       "    Σ, 1/cm  \n",
       "0  2.141206  \n",
       "1  0.578126  \n",
       "2  0.364340  "
      ]
     },
     "execution_count": 24,
     "metadata": {},
     "output_type": "execute_result"
    }
   ],
   "source": [
    "df = df.dropna()\n",
    "df"
   ]
  },
  {
   "cell_type": "markdown",
   "metadata": {},
   "source": [
    "Добавление данных через SQL"
   ]
  },
  {
   "cell_type": "code",
   "execution_count": 25,
   "metadata": {},
   "outputs": [],
   "source": [
    "conn = sqlite3.connect('data/neutron_moderation.db')\n",
    "c = conn.cursor()"
   ]
  },
  {
   "cell_type": "code",
   "execution_count": 26,
   "metadata": {},
   "outputs": [],
   "source": [
    "def sql_insert(conn, entities):\n",
    "\n",
    "    cursorObj = conn.cursor()\n",
    "\n",
    "    cursorObj.execute('INSERT INTO Input_data (Material, x1) VALUES(?, ?)', entities)\n",
    "\n",
    "    conn.commit()"
   ]
  },
  {
   "cell_type": "code",
   "execution_count": 27,
   "metadata": {},
   "outputs": [],
   "source": [
    "entities = ('Carbon', 1)\n",
    "sql_insert(conn, entities)"
   ]
  },
  {
   "cell_type": "markdown",
   "metadata": {},
   "source": [
    "Удаление данных через SQL, где конкретный столбец равен нулю"
   ]
  },
  {
   "cell_type": "code",
   "execution_count": 28,
   "metadata": {},
   "outputs": [],
   "source": [
    "c.execute('DELETE FROM Input_data WHERE (x2 IS NULL)')\n",
    "conn.commit()"
   ]
  },
  {
   "cell_type": "markdown",
   "metadata": {},
   "source": [
    "## 2.4 SELECT Operation, WHERE, DISTINCT, LIMIT"
   ]
  },
  {
   "cell_type": "markdown",
   "metadata": {},
   "source": [
    "Получим список столбцов через Pandas"
   ]
  },
  {
   "cell_type": "code",
   "execution_count": 29,
   "metadata": {
    "scrolled": true
   },
   "outputs": [
    {
     "data": {
      "text/plain": [
       "['A_1',\n",
       " 'A_2',\n",
       " 'Chemical formula',\n",
       " 'Density g/cm^3',\n",
       " 'Material',\n",
       " 'Molar mass g/mol',\n",
       " 'sigma_1 b',\n",
       " 'sigma_2 b',\n",
       " 'x1',\n",
       " 'x2',\n",
       " 'ɑ_1',\n",
       " 'ɑ_2',\n",
       " 'Σ, 1/cm']"
      ]
     },
     "execution_count": 29,
     "metadata": {},
     "output_type": "execute_result"
    }
   ],
   "source": [
    "c = list(df)\n",
    "c"
   ]
  },
  {
   "cell_type": "markdown",
   "metadata": {},
   "source": [
    "Получим список столбцов через SQL"
   ]
  },
  {
   "cell_type": "code",
   "execution_count": 30,
   "metadata": {
    "scrolled": false
   },
   "outputs": [
    {
     "name": "stdout",
     "output_type": "stream",
     "text": [
      "['Material', 'Density g/cm^3', 'A_1', 'A_2', 'Molar mass g/mol', 'Chemical formula', 'sigma_1 b', 'sigma_2 b', 'x1', 'x2', 'Σ, 1/cm', 'ɑ_1', 'ɑ_2']\n"
     ]
    }
   ],
   "source": [
    "row_names = []\n",
    "\n",
    "def sql_fetch(conn):\n",
    "\n",
    "    cursorObj = conn.cursor()\n",
    "\n",
    "    cursorObj.execute('select * from Input_data')\n",
    "    \n",
    "    colnames = cursorObj.description\n",
    "    for row in colnames:\n",
    "        row_names.append(row[0])\n",
    "\n",
    "sql_fetch(conn)\n",
    "\n",
    "print(row_names)"
   ]
  },
  {
   "cell_type": "markdown",
   "metadata": {},
   "source": [
    "Вывод конкретных столбцов через Pandas"
   ]
  },
  {
   "cell_type": "code",
   "execution_count": 31,
   "metadata": {},
   "outputs": [
    {
     "data": {
      "text/html": [
       "<div>\n",
       "<style scoped>\n",
       "    .dataframe tbody tr th:only-of-type {\n",
       "        vertical-align: middle;\n",
       "    }\n",
       "\n",
       "    .dataframe tbody tr th {\n",
       "        vertical-align: top;\n",
       "    }\n",
       "\n",
       "    .dataframe thead th {\n",
       "        text-align: right;\n",
       "    }\n",
       "</style>\n",
       "<table border=\"1\" class=\"dataframe\">\n",
       "  <thead>\n",
       "    <tr style=\"text-align: right;\">\n",
       "      <th></th>\n",
       "      <th>Material</th>\n",
       "      <th>A_1</th>\n",
       "      <th>A_2</th>\n",
       "    </tr>\n",
       "  </thead>\n",
       "  <tbody>\n",
       "    <tr>\n",
       "      <td>0</td>\n",
       "      <td>Water</td>\n",
       "      <td>1.0</td>\n",
       "      <td>16.0</td>\n",
       "    </tr>\n",
       "    <tr>\n",
       "      <td>1</td>\n",
       "      <td>Heavy Plexiglass</td>\n",
       "      <td>12.0</td>\n",
       "      <td>2.0</td>\n",
       "    </tr>\n",
       "    <tr>\n",
       "      <td>2</td>\n",
       "      <td>Heavy Water</td>\n",
       "      <td>2.0</td>\n",
       "      <td>16.0</td>\n",
       "    </tr>\n",
       "  </tbody>\n",
       "</table>\n",
       "</div>"
      ],
      "text/plain": [
       "           Material   A_1   A_2\n",
       "0             Water   1.0  16.0\n",
       "1  Heavy Plexiglass  12.0   2.0\n",
       "2       Heavy Water   2.0  16.0"
      ]
     },
     "execution_count": 31,
     "metadata": {},
     "output_type": "execute_result"
    }
   ],
   "source": [
    "names = [\"Material\", \"A_1\", \"A_2\"]\n",
    "df[names]"
   ]
  },
  {
   "cell_type": "markdown",
   "metadata": {},
   "source": [
    "Вывод конкретных столбцов через SQL"
   ]
  },
  {
   "cell_type": "code",
   "execution_count": 32,
   "metadata": {},
   "outputs": [
    {
     "name": "stdout",
     "output_type": "stream",
     "text": [
      "Material =  Water\n",
      "A_1 =  1\n",
      "A_2 =  16 \n",
      "\n",
      "Material =  Heavy Plexiglass\n",
      "A_1 =  12\n",
      "A_2 =  2 \n",
      "\n",
      "Material =  Heavy Water\n",
      "A_1 =  2\n",
      "A_2 =  16 \n",
      "\n"
     ]
    }
   ],
   "source": [
    "conn = sqlite3.connect('data/neutron_moderation.db')\n",
    "\n",
    "cursor = conn.execute(\"SELECT Material, A_1, A_2 from Input_data\")\n",
    "for row in cursor:\n",
    "    print(\"Material = \", row[0])\n",
    "    print(\"A_1 = \", row[1])\n",
    "    print(\"A_2 = \", row[2], \"\\n\")\n",
    "\n",
    "conn.close()"
   ]
  },
  {
   "cell_type": "markdown",
   "metadata": {},
   "source": [
    "Вывод ограниченного числа строк через Pandas"
   ]
  },
  {
   "cell_type": "code",
   "execution_count": 33,
   "metadata": {},
   "outputs": [
    {
     "data": {
      "text/html": [
       "<div>\n",
       "<style scoped>\n",
       "    .dataframe tbody tr th:only-of-type {\n",
       "        vertical-align: middle;\n",
       "    }\n",
       "\n",
       "    .dataframe tbody tr th {\n",
       "        vertical-align: top;\n",
       "    }\n",
       "\n",
       "    .dataframe thead th {\n",
       "        text-align: right;\n",
       "    }\n",
       "</style>\n",
       "<table border=\"1\" class=\"dataframe\">\n",
       "  <thead>\n",
       "    <tr style=\"text-align: right;\">\n",
       "      <th></th>\n",
       "      <th>time, 10^(-5) c</th>\n",
       "      <th>colisions</th>\n",
       "      <th>Material</th>\n",
       "      <th>target</th>\n",
       "    </tr>\n",
       "  </thead>\n",
       "  <tbody>\n",
       "    <tr>\n",
       "      <td>0</td>\n",
       "      <td>0.060134</td>\n",
       "      <td>18.0</td>\n",
       "      <td>Water</td>\n",
       "      <td>0.0</td>\n",
       "    </tr>\n",
       "    <tr>\n",
       "      <td>1</td>\n",
       "      <td>0.015265</td>\n",
       "      <td>11.0</td>\n",
       "      <td>Water</td>\n",
       "      <td>0.0</td>\n",
       "    </tr>\n",
       "    <tr>\n",
       "      <td>2</td>\n",
       "      <td>0.058799</td>\n",
       "      <td>17.0</td>\n",
       "      <td>Water</td>\n",
       "      <td>0.0</td>\n",
       "    </tr>\n",
       "  </tbody>\n",
       "</table>\n",
       "</div>"
      ],
      "text/plain": [
       "   time, 10^(-5) c  colisions Material  target\n",
       "0         0.060134       18.0    Water     0.0\n",
       "1         0.015265       11.0    Water     0.0\n",
       "2         0.058799       17.0    Water     0.0"
      ]
     },
     "execution_count": 33,
     "metadata": {},
     "output_type": "execute_result"
    }
   ],
   "source": [
    "df1.head(3)"
   ]
  },
  {
   "cell_type": "markdown",
   "metadata": {},
   "source": [
    "Вывод ограниченного числа строк через SQL"
   ]
  },
  {
   "cell_type": "code",
   "execution_count": 34,
   "metadata": {},
   "outputs": [
    {
     "name": "stdout",
     "output_type": "stream",
     "text": [
      "('Water', 1.0, 1, 16, 18, 'H2O', 30.0, 4.0, 2, 1, 2.1412056380444446, 0.0, 0.7785467128027681)\n",
      "\n",
      "('Heavy Plexiglass', 1.6, 12, 2, 28, 'C2D2', 4.9, 3.5, 2, 2, 0.5781255222720001, 0.7159763313609467, 0.1111111111111111)\n",
      "\n"
     ]
    }
   ],
   "source": [
    "conn = sqlite3.connect('data/neutron_moderation.db')\n",
    "\n",
    "cursor = conn.execute(\"SELECT * FROM Input_data limit 2\")\n",
    "\n",
    "for row in cursor:\n",
    "    print(row)\n",
    "    print()\n",
    "\n",
    "conn.close()"
   ]
  },
  {
   "cell_type": "markdown",
   "metadata": {},
   "source": [
    "Select c сножественными условиями Pandas"
   ]
  },
  {
   "cell_type": "code",
   "execution_count": 35,
   "metadata": {},
   "outputs": [
    {
     "data": {
      "text/html": [
       "<div>\n",
       "<style scoped>\n",
       "    .dataframe tbody tr th:only-of-type {\n",
       "        vertical-align: middle;\n",
       "    }\n",
       "\n",
       "    .dataframe tbody tr th {\n",
       "        vertical-align: top;\n",
       "    }\n",
       "\n",
       "    .dataframe thead th {\n",
       "        text-align: right;\n",
       "    }\n",
       "</style>\n",
       "<table border=\"1\" class=\"dataframe\">\n",
       "  <thead>\n",
       "    <tr style=\"text-align: right;\">\n",
       "      <th></th>\n",
       "      <th>A_1</th>\n",
       "      <th>A_2</th>\n",
       "      <th>Chemical formula</th>\n",
       "      <th>Density g/cm^3</th>\n",
       "      <th>Material</th>\n",
       "      <th>Molar mass g/mol</th>\n",
       "      <th>sigma_1 b</th>\n",
       "      <th>sigma_2 b</th>\n",
       "      <th>x1</th>\n",
       "      <th>x2</th>\n",
       "      <th>ɑ_1</th>\n",
       "      <th>ɑ_2</th>\n",
       "      <th>Σ, 1/cm</th>\n",
       "    </tr>\n",
       "  </thead>\n",
       "  <tbody>\n",
       "    <tr>\n",
       "      <td>2</td>\n",
       "      <td>2.0</td>\n",
       "      <td>16.0</td>\n",
       "      <td>D2O</td>\n",
       "      <td>1.1</td>\n",
       "      <td>Heavy Water</td>\n",
       "      <td>20.0</td>\n",
       "      <td>3.5</td>\n",
       "      <td>4.0</td>\n",
       "      <td>2.0</td>\n",
       "      <td>1.0</td>\n",
       "      <td>0.111111</td>\n",
       "      <td>0.778547</td>\n",
       "      <td>0.36434</td>\n",
       "    </tr>\n",
       "  </tbody>\n",
       "</table>\n",
       "</div>"
      ],
      "text/plain": [
       "   A_1   A_2 Chemical formula  Density g/cm^3     Material  Molar mass g/mol  \\\n",
       "2  2.0  16.0              D2O             1.1  Heavy Water              20.0   \n",
       "\n",
       "   sigma_1 b  sigma_2 b   x1   x2       ɑ_1       ɑ_2  Σ, 1/cm  \n",
       "2        3.5        4.0  2.0  1.0  0.111111  0.778547  0.36434  "
      ]
     },
     "execution_count": 35,
     "metadata": {},
     "output_type": "execute_result"
    }
   ],
   "source": [
    "df[(df.Material != 'Water') & (df.A_1 == 2)]"
   ]
  },
  {
   "cell_type": "markdown",
   "metadata": {},
   "source": [
    "Select с множественными условиями SQL"
   ]
  },
  {
   "cell_type": "code",
   "execution_count": 36,
   "metadata": {},
   "outputs": [
    {
     "name": "stdout",
     "output_type": "stream",
     "text": [
      "('Heavy Water', 1.1, 2, 16, 20, 'D2O', 3.5, 4.0, 2, 1, 0.36433952184850005, 0.1111111111111111, 0.7785467128027681)\n",
      "\n"
     ]
    }
   ],
   "source": [
    "conn = sqlite3.connect('data/neutron_moderation.db')\n",
    "\n",
    "cursor = conn.execute(\"SELECT * FROM Input_data where Material = 'Heavy Water' and  A_1 = 2.0\")\n",
    "\n",
    "for row in cursor:\n",
    "    print(row)\n",
    "    print()\n",
    "\n",
    "conn.close()"
   ]
  },
  {
   "cell_type": "markdown",
   "metadata": {},
   "source": [
    "Вывод уникальных значений Pandas"
   ]
  },
  {
   "cell_type": "code",
   "execution_count": 37,
   "metadata": {},
   "outputs": [
    {
     "data": {
      "text/plain": [
       "Heavy Water         0.500000\n",
       "Heavy Plexiglass    0.333333\n",
       "Water               0.166667\n",
       "Name: Material, dtype: float64"
      ]
     },
     "execution_count": 37,
     "metadata": {},
     "output_type": "execute_result"
    }
   ],
   "source": [
    "df1['Material'].value_counts(normalize=True)"
   ]
  },
  {
   "cell_type": "markdown",
   "metadata": {},
   "source": [
    "Вывод уникальных значений SQL"
   ]
  },
  {
   "cell_type": "code",
   "execution_count": 38,
   "metadata": {},
   "outputs": [
    {
     "name": "stdout",
     "output_type": "stream",
     "text": [
      "('Water',)\n",
      "\n",
      "('Heavy Plexiglass',)\n",
      "\n",
      "('Heavy Water',)\n",
      "\n"
     ]
    }
   ],
   "source": [
    "conn = sqlite3.connect('data/neutron_moderation.db')\n",
    "\n",
    "cursor = conn.execute(\"SELECT DISTINCT Material FROM Output_data\")\n",
    "\n",
    "for row in cursor:\n",
    "    print(row)\n",
    "    print()\n",
    "\n",
    "conn.close()"
   ]
  },
  {
   "cell_type": "markdown",
   "metadata": {},
   "source": [
    "## 2.5 UPDATE Operation"
   ]
  },
  {
   "cell_type": "markdown",
   "metadata": {},
   "source": [
    "Изменение данных через Pandas"
   ]
  },
  {
   "cell_type": "code",
   "execution_count": 39,
   "metadata": {
    "scrolled": true
   },
   "outputs": [
    {
     "data": {
      "text/html": [
       "<div>\n",
       "<style scoped>\n",
       "    .dataframe tbody tr th:only-of-type {\n",
       "        vertical-align: middle;\n",
       "    }\n",
       "\n",
       "    .dataframe tbody tr th {\n",
       "        vertical-align: top;\n",
       "    }\n",
       "\n",
       "    .dataframe thead th {\n",
       "        text-align: right;\n",
       "    }\n",
       "</style>\n",
       "<table border=\"1\" class=\"dataframe\">\n",
       "  <thead>\n",
       "    <tr style=\"text-align: right;\">\n",
       "      <th></th>\n",
       "      <th>A_1</th>\n",
       "      <th>A_2</th>\n",
       "      <th>Chemical formula</th>\n",
       "      <th>Density g/cm^3</th>\n",
       "      <th>Material</th>\n",
       "      <th>Molar mass g/mol</th>\n",
       "      <th>sigma_1 b</th>\n",
       "      <th>sigma_2 b</th>\n",
       "      <th>x1</th>\n",
       "      <th>x2</th>\n",
       "      <th>ɑ_1</th>\n",
       "      <th>ɑ_2</th>\n",
       "      <th>Σ, 1/cm</th>\n",
       "    </tr>\n",
       "  </thead>\n",
       "  <tbody>\n",
       "    <tr>\n",
       "      <td>0</td>\n",
       "      <td>1.0</td>\n",
       "      <td>16.0</td>\n",
       "      <td>H2O</td>\n",
       "      <td>1.0</td>\n",
       "      <td>Water</td>\n",
       "      <td>18.0</td>\n",
       "      <td>30.0</td>\n",
       "      <td>4.0</td>\n",
       "      <td>2.0</td>\n",
       "      <td>1.0</td>\n",
       "      <td>0.000000</td>\n",
       "      <td>0.778547</td>\n",
       "      <td>2.141206</td>\n",
       "    </tr>\n",
       "    <tr>\n",
       "      <td>1</td>\n",
       "      <td>12.0</td>\n",
       "      <td>2.0</td>\n",
       "      <td>C2D2</td>\n",
       "      <td>1.6</td>\n",
       "      <td>Heavy Plexiglass</td>\n",
       "      <td>28.0</td>\n",
       "      <td>4.9</td>\n",
       "      <td>3.5</td>\n",
       "      <td>2.0</td>\n",
       "      <td>2.0</td>\n",
       "      <td>0.715976</td>\n",
       "      <td>0.111111</td>\n",
       "      <td>0.578126</td>\n",
       "    </tr>\n",
       "    <tr>\n",
       "      <td>2</td>\n",
       "      <td>2.0</td>\n",
       "      <td>16.0</td>\n",
       "      <td>D2O</td>\n",
       "      <td>1.1</td>\n",
       "      <td>Heavy Water</td>\n",
       "      <td>20.0</td>\n",
       "      <td>3.5</td>\n",
       "      <td>4.0</td>\n",
       "      <td>2.0</td>\n",
       "      <td>1.0</td>\n",
       "      <td>0.111111</td>\n",
       "      <td>0.778547</td>\n",
       "      <td>0.364340</td>\n",
       "    </tr>\n",
       "  </tbody>\n",
       "</table>\n",
       "</div>"
      ],
      "text/plain": [
       "    A_1   A_2 Chemical formula  Density g/cm^3          Material  \\\n",
       "0   1.0  16.0              H2O             1.0             Water   \n",
       "1  12.0   2.0             C2D2             1.6  Heavy Plexiglass   \n",
       "2   2.0  16.0              D2O             1.1       Heavy Water   \n",
       "\n",
       "   Molar mass g/mol  sigma_1 b  sigma_2 b   x1   x2       ɑ_1       ɑ_2  \\\n",
       "0              18.0       30.0        4.0  2.0  1.0  0.000000  0.778547   \n",
       "1              28.0        4.9        3.5  2.0  2.0  0.715976  0.111111   \n",
       "2              20.0        3.5        4.0  2.0  1.0  0.111111  0.778547   \n",
       "\n",
       "    Σ, 1/cm  \n",
       "0  2.141206  \n",
       "1  0.578126  \n",
       "2  0.364340  "
      ]
     },
     "execution_count": 39,
     "metadata": {},
     "output_type": "execute_result"
    }
   ],
   "source": [
    "df"
   ]
  },
  {
   "cell_type": "code",
   "execution_count": 40,
   "metadata": {},
   "outputs": [
    {
     "data": {
      "text/html": [
       "<div>\n",
       "<style scoped>\n",
       "    .dataframe tbody tr th:only-of-type {\n",
       "        vertical-align: middle;\n",
       "    }\n",
       "\n",
       "    .dataframe tbody tr th {\n",
       "        vertical-align: top;\n",
       "    }\n",
       "\n",
       "    .dataframe thead th {\n",
       "        text-align: right;\n",
       "    }\n",
       "</style>\n",
       "<table border=\"1\" class=\"dataframe\">\n",
       "  <thead>\n",
       "    <tr style=\"text-align: right;\">\n",
       "      <th></th>\n",
       "      <th>A_1</th>\n",
       "      <th>A_2</th>\n",
       "      <th>Chemical formula</th>\n",
       "      <th>Density g/cm^3</th>\n",
       "      <th>Material</th>\n",
       "      <th>Molar mass g/mol</th>\n",
       "      <th>sigma_1 b</th>\n",
       "      <th>sigma_2 b</th>\n",
       "      <th>x1</th>\n",
       "      <th>x2</th>\n",
       "      <th>ɑ_1</th>\n",
       "      <th>ɑ_2</th>\n",
       "      <th>Σ, 1/cm</th>\n",
       "    </tr>\n",
       "  </thead>\n",
       "  <tbody>\n",
       "    <tr>\n",
       "      <td>0</td>\n",
       "      <td>1.0</td>\n",
       "      <td>16.0</td>\n",
       "      <td>H2O</td>\n",
       "      <td>1.0</td>\n",
       "      <td>Water</td>\n",
       "      <td>18.0</td>\n",
       "      <td>30.0</td>\n",
       "      <td>4.0</td>\n",
       "      <td>2.0</td>\n",
       "      <td>1.0</td>\n",
       "      <td>0.000000</td>\n",
       "      <td>0.778547</td>\n",
       "      <td>2.141206</td>\n",
       "    </tr>\n",
       "    <tr>\n",
       "      <td>1</td>\n",
       "      <td>12.0</td>\n",
       "      <td>2.0</td>\n",
       "      <td>C2D2</td>\n",
       "      <td>1.6</td>\n",
       "      <td>Unknow</td>\n",
       "      <td>28.0</td>\n",
       "      <td>4.9</td>\n",
       "      <td>3.5</td>\n",
       "      <td>2.0</td>\n",
       "      <td>2.0</td>\n",
       "      <td>0.715976</td>\n",
       "      <td>0.111111</td>\n",
       "      <td>0.578126</td>\n",
       "    </tr>\n",
       "    <tr>\n",
       "      <td>2</td>\n",
       "      <td>2.0</td>\n",
       "      <td>16.0</td>\n",
       "      <td>D2O</td>\n",
       "      <td>1.1</td>\n",
       "      <td>Heavy Water</td>\n",
       "      <td>20.0</td>\n",
       "      <td>3.5</td>\n",
       "      <td>4.0</td>\n",
       "      <td>2.0</td>\n",
       "      <td>1.0</td>\n",
       "      <td>0.111111</td>\n",
       "      <td>0.778547</td>\n",
       "      <td>0.364340</td>\n",
       "    </tr>\n",
       "  </tbody>\n",
       "</table>\n",
       "</div>"
      ],
      "text/plain": [
       "    A_1   A_2 Chemical formula  Density g/cm^3     Material  Molar mass g/mol  \\\n",
       "0   1.0  16.0              H2O             1.0        Water              18.0   \n",
       "1  12.0   2.0             C2D2             1.6       Unknow              28.0   \n",
       "2   2.0  16.0              D2O             1.1  Heavy Water              20.0   \n",
       "\n",
       "   sigma_1 b  sigma_2 b   x1   x2       ɑ_1       ɑ_2   Σ, 1/cm  \n",
       "0       30.0        4.0  2.0  1.0  0.000000  0.778547  2.141206  \n",
       "1        4.9        3.5  2.0  2.0  0.715976  0.111111  0.578126  \n",
       "2        3.5        4.0  2.0  1.0  0.111111  0.778547  0.364340  "
      ]
     },
     "execution_count": 40,
     "metadata": {},
     "output_type": "execute_result"
    }
   ],
   "source": [
    "df.loc[df['Chemical formula'] == 'C2D2', 'Material'] = 'Unknow'\n",
    "df"
   ]
  },
  {
   "cell_type": "code",
   "execution_count": 41,
   "metadata": {},
   "outputs": [
    {
     "data": {
      "text/html": [
       "<div>\n",
       "<style scoped>\n",
       "    .dataframe tbody tr th:only-of-type {\n",
       "        vertical-align: middle;\n",
       "    }\n",
       "\n",
       "    .dataframe tbody tr th {\n",
       "        vertical-align: top;\n",
       "    }\n",
       "\n",
       "    .dataframe thead th {\n",
       "        text-align: right;\n",
       "    }\n",
       "</style>\n",
       "<table border=\"1\" class=\"dataframe\">\n",
       "  <thead>\n",
       "    <tr style=\"text-align: right;\">\n",
       "      <th></th>\n",
       "      <th>A_1</th>\n",
       "      <th>A_2</th>\n",
       "      <th>Chemical formula</th>\n",
       "      <th>Density g/cm^3</th>\n",
       "      <th>Material</th>\n",
       "      <th>Molar mass g/mol</th>\n",
       "      <th>sigma_1 b</th>\n",
       "      <th>sigma_2 b</th>\n",
       "      <th>x1</th>\n",
       "      <th>x2</th>\n",
       "      <th>ɑ_1</th>\n",
       "      <th>ɑ_2</th>\n",
       "      <th>Σ, 1/cm</th>\n",
       "    </tr>\n",
       "  </thead>\n",
       "  <tbody>\n",
       "    <tr>\n",
       "      <td>0</td>\n",
       "      <td>1.0</td>\n",
       "      <td>16.0</td>\n",
       "      <td>H2O</td>\n",
       "      <td>1.0</td>\n",
       "      <td>Water</td>\n",
       "      <td>18.0</td>\n",
       "      <td>30.0</td>\n",
       "      <td>4.0</td>\n",
       "      <td>2.0</td>\n",
       "      <td>1.0</td>\n",
       "      <td>0.000000</td>\n",
       "      <td>0.778547</td>\n",
       "      <td>2.141206</td>\n",
       "    </tr>\n",
       "    <tr>\n",
       "      <td>1</td>\n",
       "      <td>12.0</td>\n",
       "      <td>2.0</td>\n",
       "      <td>C2D2</td>\n",
       "      <td>1.6</td>\n",
       "      <td>Heavy Plexiglass</td>\n",
       "      <td>28.0</td>\n",
       "      <td>4.9</td>\n",
       "      <td>3.5</td>\n",
       "      <td>2.0</td>\n",
       "      <td>2.0</td>\n",
       "      <td>0.715976</td>\n",
       "      <td>0.111111</td>\n",
       "      <td>0.578126</td>\n",
       "    </tr>\n",
       "    <tr>\n",
       "      <td>2</td>\n",
       "      <td>2.0</td>\n",
       "      <td>16.0</td>\n",
       "      <td>D2O</td>\n",
       "      <td>1.1</td>\n",
       "      <td>Heavy Water</td>\n",
       "      <td>20.0</td>\n",
       "      <td>3.5</td>\n",
       "      <td>4.0</td>\n",
       "      <td>2.0</td>\n",
       "      <td>1.0</td>\n",
       "      <td>0.111111</td>\n",
       "      <td>0.778547</td>\n",
       "      <td>0.364340</td>\n",
       "    </tr>\n",
       "  </tbody>\n",
       "</table>\n",
       "</div>"
      ],
      "text/plain": [
       "    A_1   A_2 Chemical formula  Density g/cm^3          Material  \\\n",
       "0   1.0  16.0              H2O             1.0             Water   \n",
       "1  12.0   2.0             C2D2             1.6  Heavy Plexiglass   \n",
       "2   2.0  16.0              D2O             1.1       Heavy Water   \n",
       "\n",
       "   Molar mass g/mol  sigma_1 b  sigma_2 b   x1   x2       ɑ_1       ɑ_2  \\\n",
       "0              18.0       30.0        4.0  2.0  1.0  0.000000  0.778547   \n",
       "1              28.0        4.9        3.5  2.0  2.0  0.715976  0.111111   \n",
       "2              20.0        3.5        4.0  2.0  1.0  0.111111  0.778547   \n",
       "\n",
       "    Σ, 1/cm  \n",
       "0  2.141206  \n",
       "1  0.578126  \n",
       "2  0.364340  "
      ]
     },
     "execution_count": 41,
     "metadata": {},
     "output_type": "execute_result"
    }
   ],
   "source": [
    "df.loc[df['Chemical formula'] == 'C2D2', 'Material'] = 'Heavy Plexiglass'\n",
    "df"
   ]
  },
  {
   "cell_type": "markdown",
   "metadata": {},
   "source": [
    "Изменение данных через SQL"
   ]
  },
  {
   "cell_type": "code",
   "execution_count": 42,
   "metadata": {},
   "outputs": [
    {
     "name": "stdout",
     "output_type": "stream",
     "text": [
      "('Unknow', 1.0, 1, 16, 18, 'H2O', 30.0, 4.0, 2, 1, 2.1412056380444446, 0.0, 0.7785467128027681)\n",
      "\n",
      "('Heavy Plexiglass', 1.6, 12, 2, 28, 'C2D2', 4.9, 3.5, 2, 2, 0.5781255222720001, 0.7159763313609467, 0.1111111111111111)\n",
      "\n",
      "('Heavy Water', 1.1, 2, 16, 20, 'D2O', 3.5, 4.0, 2, 1, 0.36433952184850005, 0.1111111111111111, 0.7785467128027681)\n",
      "\n"
     ]
    }
   ],
   "source": [
    "conn = sqlite3.connect('data/neutron_moderation.db')\n",
    "\n",
    "cursor = conn.execute(\"UPDATE Input_data set Material = 'Unknow' where Material = 'Water'\")\n",
    "conn.commit()\n",
    "\n",
    "for row in cursor.execute('SELECT * FROM Input_data'):\n",
    "    print(row)\n",
    "    print()\n",
    "\n",
    "conn.close()"
   ]
  },
  {
   "cell_type": "code",
   "execution_count": 43,
   "metadata": {},
   "outputs": [
    {
     "name": "stdout",
     "output_type": "stream",
     "text": [
      "('Water', 1.0, 1, 16, 18, 'H2O', 30.0, 4.0, 2, 1, 2.1412056380444446, 0.0, 0.7785467128027681)\n",
      "\n",
      "('Heavy Plexiglass', 1.6, 12, 2, 28, 'C2D2', 4.9, 3.5, 2, 2, 0.5781255222720001, 0.7159763313609467, 0.1111111111111111)\n",
      "\n",
      "('Heavy Water', 1.1, 2, 16, 20, 'D2O', 3.5, 4.0, 2, 1, 0.36433952184850005, 0.1111111111111111, 0.7785467128027681)\n",
      "\n"
     ]
    }
   ],
   "source": [
    "conn = sqlite3.connect('data/neutron_moderation.db')\n",
    "\n",
    "cursor = conn.execute(\"UPDATE Input_data set Material = 'Water' where Material = 'Unknow'\")\n",
    "conn.commit()\n",
    "\n",
    "for row in cursor.execute('SELECT * FROM Input_data'):\n",
    "    print(row)\n",
    "    print()\n",
    "\n",
    "conn.close()"
   ]
  },
  {
   "cell_type": "markdown",
   "metadata": {},
   "source": [
    "## 2.6 ORDER BY"
   ]
  },
  {
   "cell_type": "markdown",
   "metadata": {},
   "source": [
    "Сортировка в Pandas по возрастанию с условием"
   ]
  },
  {
   "cell_type": "code",
   "execution_count": 44,
   "metadata": {},
   "outputs": [
    {
     "data": {
      "text/html": [
       "<div>\n",
       "<style scoped>\n",
       "    .dataframe tbody tr th:only-of-type {\n",
       "        vertical-align: middle;\n",
       "    }\n",
       "\n",
       "    .dataframe tbody tr th {\n",
       "        vertical-align: top;\n",
       "    }\n",
       "\n",
       "    .dataframe thead th {\n",
       "        text-align: right;\n",
       "    }\n",
       "</style>\n",
       "<table border=\"1\" class=\"dataframe\">\n",
       "  <thead>\n",
       "    <tr style=\"text-align: right;\">\n",
       "      <th></th>\n",
       "      <th>time, 10^(-5) c</th>\n",
       "      <th>colisions</th>\n",
       "      <th>Material</th>\n",
       "      <th>target</th>\n",
       "    </tr>\n",
       "  </thead>\n",
       "  <tbody>\n",
       "    <tr>\n",
       "      <td>129</td>\n",
       "      <td>0.039810</td>\n",
       "      <td>6.0</td>\n",
       "      <td>Water</td>\n",
       "      <td>0.0</td>\n",
       "    </tr>\n",
       "    <tr>\n",
       "      <td>280</td>\n",
       "      <td>0.013819</td>\n",
       "      <td>6.0</td>\n",
       "      <td>Water</td>\n",
       "      <td>0.0</td>\n",
       "    </tr>\n",
       "    <tr>\n",
       "      <td>61</td>\n",
       "      <td>0.017364</td>\n",
       "      <td>7.0</td>\n",
       "      <td>Water</td>\n",
       "      <td>0.0</td>\n",
       "    </tr>\n",
       "    <tr>\n",
       "      <td>44</td>\n",
       "      <td>0.017380</td>\n",
       "      <td>7.0</td>\n",
       "      <td>Water</td>\n",
       "      <td>0.0</td>\n",
       "    </tr>\n",
       "    <tr>\n",
       "      <td>38</td>\n",
       "      <td>0.008106</td>\n",
       "      <td>7.0</td>\n",
       "      <td>Water</td>\n",
       "      <td>0.0</td>\n",
       "    </tr>\n",
       "    <tr>\n",
       "      <td>...</td>\n",
       "      <td>...</td>\n",
       "      <td>...</td>\n",
       "      <td>...</td>\n",
       "      <td>...</td>\n",
       "    </tr>\n",
       "    <tr>\n",
       "      <td>90</td>\n",
       "      <td>0.248149</td>\n",
       "      <td>26.0</td>\n",
       "      <td>Water</td>\n",
       "      <td>0.0</td>\n",
       "    </tr>\n",
       "    <tr>\n",
       "      <td>60</td>\n",
       "      <td>0.041406</td>\n",
       "      <td>26.0</td>\n",
       "      <td>Water</td>\n",
       "      <td>0.0</td>\n",
       "    </tr>\n",
       "    <tr>\n",
       "      <td>130</td>\n",
       "      <td>0.113050</td>\n",
       "      <td>26.0</td>\n",
       "      <td>Water</td>\n",
       "      <td>0.0</td>\n",
       "    </tr>\n",
       "    <tr>\n",
       "      <td>71</td>\n",
       "      <td>0.135314</td>\n",
       "      <td>27.0</td>\n",
       "      <td>Water</td>\n",
       "      <td>0.0</td>\n",
       "    </tr>\n",
       "    <tr>\n",
       "      <td>202</td>\n",
       "      <td>0.096467</td>\n",
       "      <td>27.0</td>\n",
       "      <td>Water</td>\n",
       "      <td>0.0</td>\n",
       "    </tr>\n",
       "  </tbody>\n",
       "</table>\n",
       "<p>300 rows × 4 columns</p>\n",
       "</div>"
      ],
      "text/plain": [
       "     time, 10^(-5) c  colisions Material  target\n",
       "129         0.039810        6.0    Water     0.0\n",
       "280         0.013819        6.0    Water     0.0\n",
       "61          0.017364        7.0    Water     0.0\n",
       "44          0.017380        7.0    Water     0.0\n",
       "38          0.008106        7.0    Water     0.0\n",
       "..               ...        ...      ...     ...\n",
       "90          0.248149       26.0    Water     0.0\n",
       "60          0.041406       26.0    Water     0.0\n",
       "130         0.113050       26.0    Water     0.0\n",
       "71          0.135314       27.0    Water     0.0\n",
       "202         0.096467       27.0    Water     0.0\n",
       "\n",
       "[300 rows x 4 columns]"
      ]
     },
     "execution_count": 44,
     "metadata": {},
     "output_type": "execute_result"
    }
   ],
   "source": [
    "df1[df1.Material == 'Water'].sort_values('colisions')"
   ]
  },
  {
   "cell_type": "markdown",
   "metadata": {},
   "source": [
    "Сортировка в Pandas по убыванию с условием"
   ]
  },
  {
   "cell_type": "code",
   "execution_count": 45,
   "metadata": {},
   "outputs": [
    {
     "data": {
      "text/html": [
       "<div>\n",
       "<style scoped>\n",
       "    .dataframe tbody tr th:only-of-type {\n",
       "        vertical-align: middle;\n",
       "    }\n",
       "\n",
       "    .dataframe tbody tr th {\n",
       "        vertical-align: top;\n",
       "    }\n",
       "\n",
       "    .dataframe thead th {\n",
       "        text-align: right;\n",
       "    }\n",
       "</style>\n",
       "<table border=\"1\" class=\"dataframe\">\n",
       "  <thead>\n",
       "    <tr style=\"text-align: right;\">\n",
       "      <th></th>\n",
       "      <th>time, 10^(-5) c</th>\n",
       "      <th>colisions</th>\n",
       "      <th>Material</th>\n",
       "      <th>target</th>\n",
       "    </tr>\n",
       "  </thead>\n",
       "  <tbody>\n",
       "    <tr>\n",
       "      <td>71</td>\n",
       "      <td>0.135314</td>\n",
       "      <td>27.0</td>\n",
       "      <td>Water</td>\n",
       "      <td>0.0</td>\n",
       "    </tr>\n",
       "    <tr>\n",
       "      <td>202</td>\n",
       "      <td>0.096467</td>\n",
       "      <td>27.0</td>\n",
       "      <td>Water</td>\n",
       "      <td>0.0</td>\n",
       "    </tr>\n",
       "    <tr>\n",
       "      <td>90</td>\n",
       "      <td>0.248149</td>\n",
       "      <td>26.0</td>\n",
       "      <td>Water</td>\n",
       "      <td>0.0</td>\n",
       "    </tr>\n",
       "    <tr>\n",
       "      <td>23</td>\n",
       "      <td>0.157339</td>\n",
       "      <td>26.0</td>\n",
       "      <td>Water</td>\n",
       "      <td>0.0</td>\n",
       "    </tr>\n",
       "    <tr>\n",
       "      <td>60</td>\n",
       "      <td>0.041406</td>\n",
       "      <td>26.0</td>\n",
       "      <td>Water</td>\n",
       "      <td>0.0</td>\n",
       "    </tr>\n",
       "    <tr>\n",
       "      <td>...</td>\n",
       "      <td>...</td>\n",
       "      <td>...</td>\n",
       "      <td>...</td>\n",
       "      <td>...</td>\n",
       "    </tr>\n",
       "    <tr>\n",
       "      <td>61</td>\n",
       "      <td>0.017364</td>\n",
       "      <td>7.0</td>\n",
       "      <td>Water</td>\n",
       "      <td>0.0</td>\n",
       "    </tr>\n",
       "    <tr>\n",
       "      <td>178</td>\n",
       "      <td>0.019329</td>\n",
       "      <td>7.0</td>\n",
       "      <td>Water</td>\n",
       "      <td>0.0</td>\n",
       "    </tr>\n",
       "    <tr>\n",
       "      <td>38</td>\n",
       "      <td>0.008106</td>\n",
       "      <td>7.0</td>\n",
       "      <td>Water</td>\n",
       "      <td>0.0</td>\n",
       "    </tr>\n",
       "    <tr>\n",
       "      <td>280</td>\n",
       "      <td>0.013819</td>\n",
       "      <td>6.0</td>\n",
       "      <td>Water</td>\n",
       "      <td>0.0</td>\n",
       "    </tr>\n",
       "    <tr>\n",
       "      <td>129</td>\n",
       "      <td>0.039810</td>\n",
       "      <td>6.0</td>\n",
       "      <td>Water</td>\n",
       "      <td>0.0</td>\n",
       "    </tr>\n",
       "  </tbody>\n",
       "</table>\n",
       "<p>300 rows × 4 columns</p>\n",
       "</div>"
      ],
      "text/plain": [
       "     time, 10^(-5) c  colisions Material  target\n",
       "71          0.135314       27.0    Water     0.0\n",
       "202         0.096467       27.0    Water     0.0\n",
       "90          0.248149       26.0    Water     0.0\n",
       "23          0.157339       26.0    Water     0.0\n",
       "60          0.041406       26.0    Water     0.0\n",
       "..               ...        ...      ...     ...\n",
       "61          0.017364        7.0    Water     0.0\n",
       "178         0.019329        7.0    Water     0.0\n",
       "38          0.008106        7.0    Water     0.0\n",
       "280         0.013819        6.0    Water     0.0\n",
       "129         0.039810        6.0    Water     0.0\n",
       "\n",
       "[300 rows x 4 columns]"
      ]
     },
     "execution_count": 45,
     "metadata": {},
     "output_type": "execute_result"
    }
   ],
   "source": [
    "df1[df1.Material == 'Water'].sort_values('colisions', ascending = False)"
   ]
  },
  {
   "cell_type": "markdown",
   "metadata": {},
   "source": [
    "Сортировка SQL по возрастанию с условием"
   ]
  },
  {
   "cell_type": "code",
   "execution_count": 46,
   "metadata": {},
   "outputs": [
    {
     "name": "stdout",
     "output_type": "stream",
     "text": [
      "(0.0398100420654214, 6.0, 'Water', 0.0)\n",
      "\n",
      "(0.013818766417037338, 6.0, 'Water', 0.0)\n",
      "\n",
      "(0.00810579402678893, 7.0, 'Water', 0.0)\n",
      "\n",
      "(0.017379645485190075, 7.0, 'Water', 0.0)\n",
      "\n",
      "(0.017364007132239002, 7.0, 'Water', 0.0)\n",
      "\n",
      "(0.019328610671752178, 7.0, 'Water', 0.0)\n",
      "\n",
      "(0.02317945877157352, 8.0, 'Water', 0.0)\n",
      "\n",
      "(0.076826163402138, 8.0, 'Water', 0.0)\n",
      "\n",
      "(0.06314993313348637, 8.0, 'Water', 0.0)\n",
      "\n",
      "(0.037781692495087116, 8.0, 'Water', 0.0)\n",
      "\n"
     ]
    }
   ],
   "source": [
    "conn = sqlite3.connect('data/neutron_moderation.db')\n",
    "\n",
    "cursor = conn.execute(\n",
    "    \"SELECT * FROM Output_data where Material = 'Water' order by colisions limit 10\")\n",
    "\n",
    "for row in cursor:\n",
    "    print(row)\n",
    "    print()\n",
    "\n",
    "conn.close()"
   ]
  },
  {
   "cell_type": "code",
   "execution_count": 47,
   "metadata": {},
   "outputs": [
    {
     "name": "stdout",
     "output_type": "stream",
     "text": [
      "(0.13531443246003128, 27.0, 'Water', 0.0)\n",
      "\n",
      "(0.09646672229640897, 27.0, 'Water', 0.0)\n",
      "\n",
      "(0.15733943012752388, 26.0, 'Water', 0.0)\n",
      "\n",
      "(0.041405977385189696, 26.0, 'Water', 0.0)\n",
      "\n",
      "(0.24814923446253273, 26.0, 'Water', 0.0)\n",
      "\n"
     ]
    }
   ],
   "source": [
    "conn = sqlite3.connect('data/neutron_moderation.db')\n",
    "\n",
    "cursor = conn.execute(\n",
    "    \"SELECT * FROM Output_data where Material = 'Water' order by colisions desc limit 5\")\n",
    "\n",
    "for row in cursor:\n",
    "    print(row)\n",
    "    print()\n",
    "\n",
    "conn.close()"
   ]
  },
  {
   "cell_type": "markdown",
   "metadata": {},
   "source": [
    "## 2.7 IN и NOT IN"
   ]
  },
  {
   "cell_type": "code",
   "execution_count": 48,
   "metadata": {},
   "outputs": [
    {
     "name": "stdout",
     "output_type": "stream",
     "text": [
      "(0.06013426206526942, 18.0, 'Water', 0.0)\n",
      "\n",
      "(0.041405977385189696, 26.0, 'Water', 0.0)\n",
      "\n",
      "(0.05349438840235564, 16.0, 'Water', 0.0)\n",
      "\n",
      "(0.10108422250980054, 19.0, 'Water', 0.0)\n",
      "\n",
      "(0.034018857377174014, 18.0, 'Water', 0.0)\n",
      "\n"
     ]
    }
   ],
   "source": [
    "conn = sqlite3.connect('data/neutron_moderation.db')\n",
    "\n",
    "cursor = conn.execute(\n",
    "    \"SELECT * FROM Output_data where Material in ('Water')\")\n",
    "\n",
    "i = 0\n",
    "for row in cursor:\n",
    "    if i % 60 == 0:\n",
    "        print(row)\n",
    "        print()\n",
    "    i+=1\n",
    "    \n",
    "conn.close()"
   ]
  },
  {
   "cell_type": "code",
   "execution_count": 49,
   "metadata": {},
   "outputs": [
    {
     "name": "stdout",
     "output_type": "stream",
     "text": [
      "(0.2863104124663966, 28.0, 'Heavy Plexiglass', 1.0)\n",
      "\n",
      "(0.2639612950968262, 46.0, 'Heavy Plexiglass', 1.0)\n",
      "\n",
      "(0.6742370658658996, 37.0, 'Heavy Plexiglass', 1.0)\n",
      "\n",
      "(0.9129252778988183, 25.0, 'Heavy Water', 2.0)\n",
      "\n",
      "(1.344853691238288, 36.0, 'Heavy Water', 2.0)\n",
      "\n",
      "(0.7723659097049473, 33.0, 'Heavy Water', 2.0)\n",
      "\n",
      "(0.7696221698532869, 36.0, 'Heavy Water', 2.0)\n",
      "\n",
      "(0.568639896734739, 34.0, 'Heavy Water', 2.0)\n",
      "\n"
     ]
    }
   ],
   "source": [
    "conn = sqlite3.connect('data/neutron_moderation.db')\n",
    "\n",
    "cursor = conn.execute(\n",
    "    \"SELECT * FROM Output_data where Material not in ('Water')\")\n",
    "\n",
    "i = 0\n",
    "for row in cursor:\n",
    "    if i % 200 == 0:\n",
    "        print(row)\n",
    "        print()\n",
    "    i+=1\n",
    "    \n",
    "conn.close()"
   ]
  },
  {
   "cell_type": "code",
   "execution_count": 50,
   "metadata": {},
   "outputs": [
    {
     "data": {
      "text/html": [
       "<div>\n",
       "<style scoped>\n",
       "    .dataframe tbody tr th:only-of-type {\n",
       "        vertical-align: middle;\n",
       "    }\n",
       "\n",
       "    .dataframe tbody tr th {\n",
       "        vertical-align: top;\n",
       "    }\n",
       "\n",
       "    .dataframe thead th {\n",
       "        text-align: right;\n",
       "    }\n",
       "</style>\n",
       "<table border=\"1\" class=\"dataframe\">\n",
       "  <thead>\n",
       "    <tr style=\"text-align: right;\">\n",
       "      <th></th>\n",
       "      <th>time, 10^(-5) c</th>\n",
       "      <th>colisions</th>\n",
       "      <th>Material</th>\n",
       "      <th>target</th>\n",
       "    </tr>\n",
       "  </thead>\n",
       "  <tbody>\n",
       "    <tr>\n",
       "      <td>0</td>\n",
       "      <td>0.060134</td>\n",
       "      <td>18.0</td>\n",
       "      <td>Water</td>\n",
       "      <td>0.0</td>\n",
       "    </tr>\n",
       "    <tr>\n",
       "      <td>1</td>\n",
       "      <td>0.015265</td>\n",
       "      <td>11.0</td>\n",
       "      <td>Water</td>\n",
       "      <td>0.0</td>\n",
       "    </tr>\n",
       "    <tr>\n",
       "      <td>2</td>\n",
       "      <td>0.058799</td>\n",
       "      <td>17.0</td>\n",
       "      <td>Water</td>\n",
       "      <td>0.0</td>\n",
       "    </tr>\n",
       "    <tr>\n",
       "      <td>3</td>\n",
       "      <td>0.047027</td>\n",
       "      <td>14.0</td>\n",
       "      <td>Water</td>\n",
       "      <td>0.0</td>\n",
       "    </tr>\n",
       "    <tr>\n",
       "      <td>4</td>\n",
       "      <td>0.018141</td>\n",
       "      <td>10.0</td>\n",
       "      <td>Water</td>\n",
       "      <td>0.0</td>\n",
       "    </tr>\n",
       "    <tr>\n",
       "      <td>...</td>\n",
       "      <td>...</td>\n",
       "      <td>...</td>\n",
       "      <td>...</td>\n",
       "      <td>...</td>\n",
       "    </tr>\n",
       "    <tr>\n",
       "      <td>295</td>\n",
       "      <td>0.042797</td>\n",
       "      <td>11.0</td>\n",
       "      <td>Water</td>\n",
       "      <td>0.0</td>\n",
       "    </tr>\n",
       "    <tr>\n",
       "      <td>296</td>\n",
       "      <td>0.080399</td>\n",
       "      <td>19.0</td>\n",
       "      <td>Water</td>\n",
       "      <td>0.0</td>\n",
       "    </tr>\n",
       "    <tr>\n",
       "      <td>297</td>\n",
       "      <td>0.162084</td>\n",
       "      <td>17.0</td>\n",
       "      <td>Water</td>\n",
       "      <td>0.0</td>\n",
       "    </tr>\n",
       "    <tr>\n",
       "      <td>298</td>\n",
       "      <td>0.064406</td>\n",
       "      <td>14.0</td>\n",
       "      <td>Water</td>\n",
       "      <td>0.0</td>\n",
       "    </tr>\n",
       "    <tr>\n",
       "      <td>299</td>\n",
       "      <td>0.029259</td>\n",
       "      <td>17.0</td>\n",
       "      <td>Water</td>\n",
       "      <td>0.0</td>\n",
       "    </tr>\n",
       "  </tbody>\n",
       "</table>\n",
       "<p>300 rows × 4 columns</p>\n",
       "</div>"
      ],
      "text/plain": [
       "     time, 10^(-5) c  colisions Material  target\n",
       "0           0.060134       18.0    Water     0.0\n",
       "1           0.015265       11.0    Water     0.0\n",
       "2           0.058799       17.0    Water     0.0\n",
       "3           0.047027       14.0    Water     0.0\n",
       "4           0.018141       10.0    Water     0.0\n",
       "..               ...        ...      ...     ...\n",
       "295         0.042797       11.0    Water     0.0\n",
       "296         0.080399       19.0    Water     0.0\n",
       "297         0.162084       17.0    Water     0.0\n",
       "298         0.064406       14.0    Water     0.0\n",
       "299         0.029259       17.0    Water     0.0\n",
       "\n",
       "[300 rows x 4 columns]"
      ]
     },
     "execution_count": 50,
     "metadata": {},
     "output_type": "execute_result"
    }
   ],
   "source": [
    "df1[df1.Material.isin(['Water'])]"
   ]
  },
  {
   "cell_type": "code",
   "execution_count": 51,
   "metadata": {},
   "outputs": [
    {
     "data": {
      "text/html": [
       "<div>\n",
       "<style scoped>\n",
       "    .dataframe tbody tr th:only-of-type {\n",
       "        vertical-align: middle;\n",
       "    }\n",
       "\n",
       "    .dataframe tbody tr th {\n",
       "        vertical-align: top;\n",
       "    }\n",
       "\n",
       "    .dataframe thead th {\n",
       "        text-align: right;\n",
       "    }\n",
       "</style>\n",
       "<table border=\"1\" class=\"dataframe\">\n",
       "  <thead>\n",
       "    <tr style=\"text-align: right;\">\n",
       "      <th></th>\n",
       "      <th>time, 10^(-5) c</th>\n",
       "      <th>colisions</th>\n",
       "      <th>Material</th>\n",
       "      <th>target</th>\n",
       "    </tr>\n",
       "  </thead>\n",
       "  <tbody>\n",
       "    <tr>\n",
       "      <td>300</td>\n",
       "      <td>0.286310</td>\n",
       "      <td>28.0</td>\n",
       "      <td>Heavy Plexiglass</td>\n",
       "      <td>1.0</td>\n",
       "    </tr>\n",
       "    <tr>\n",
       "      <td>301</td>\n",
       "      <td>1.206060</td>\n",
       "      <td>47.0</td>\n",
       "      <td>Heavy Plexiglass</td>\n",
       "      <td>1.0</td>\n",
       "    </tr>\n",
       "    <tr>\n",
       "      <td>302</td>\n",
       "      <td>0.802068</td>\n",
       "      <td>28.0</td>\n",
       "      <td>Heavy Plexiglass</td>\n",
       "      <td>1.0</td>\n",
       "    </tr>\n",
       "    <tr>\n",
       "      <td>303</td>\n",
       "      <td>0.210631</td>\n",
       "      <td>27.0</td>\n",
       "      <td>Heavy Plexiglass</td>\n",
       "      <td>1.0</td>\n",
       "    </tr>\n",
       "    <tr>\n",
       "      <td>304</td>\n",
       "      <td>0.876342</td>\n",
       "      <td>37.0</td>\n",
       "      <td>Heavy Plexiglass</td>\n",
       "      <td>1.0</td>\n",
       "    </tr>\n",
       "    <tr>\n",
       "      <td>...</td>\n",
       "      <td>...</td>\n",
       "      <td>...</td>\n",
       "      <td>...</td>\n",
       "      <td>...</td>\n",
       "    </tr>\n",
       "    <tr>\n",
       "      <td>1795</td>\n",
       "      <td>1.073471</td>\n",
       "      <td>37.0</td>\n",
       "      <td>Heavy Water</td>\n",
       "      <td>2.0</td>\n",
       "    </tr>\n",
       "    <tr>\n",
       "      <td>1796</td>\n",
       "      <td>0.457777</td>\n",
       "      <td>28.0</td>\n",
       "      <td>Heavy Water</td>\n",
       "      <td>2.0</td>\n",
       "    </tr>\n",
       "    <tr>\n",
       "      <td>1797</td>\n",
       "      <td>1.017680</td>\n",
       "      <td>35.0</td>\n",
       "      <td>Heavy Water</td>\n",
       "      <td>2.0</td>\n",
       "    </tr>\n",
       "    <tr>\n",
       "      <td>1798</td>\n",
       "      <td>0.532127</td>\n",
       "      <td>29.0</td>\n",
       "      <td>Heavy Water</td>\n",
       "      <td>2.0</td>\n",
       "    </tr>\n",
       "    <tr>\n",
       "      <td>1799</td>\n",
       "      <td>0.393834</td>\n",
       "      <td>27.0</td>\n",
       "      <td>Heavy Water</td>\n",
       "      <td>2.0</td>\n",
       "    </tr>\n",
       "  </tbody>\n",
       "</table>\n",
       "<p>1500 rows × 4 columns</p>\n",
       "</div>"
      ],
      "text/plain": [
       "      time, 10^(-5) c  colisions          Material  target\n",
       "300          0.286310       28.0  Heavy Plexiglass     1.0\n",
       "301          1.206060       47.0  Heavy Plexiglass     1.0\n",
       "302          0.802068       28.0  Heavy Plexiglass     1.0\n",
       "303          0.210631       27.0  Heavy Plexiglass     1.0\n",
       "304          0.876342       37.0  Heavy Plexiglass     1.0\n",
       "...               ...        ...               ...     ...\n",
       "1795         1.073471       37.0       Heavy Water     2.0\n",
       "1796         0.457777       28.0       Heavy Water     2.0\n",
       "1797         1.017680       35.0       Heavy Water     2.0\n",
       "1798         0.532127       29.0       Heavy Water     2.0\n",
       "1799         0.393834       27.0       Heavy Water     2.0\n",
       "\n",
       "[1500 rows x 4 columns]"
      ]
     },
     "execution_count": 51,
     "metadata": {},
     "output_type": "execute_result"
    }
   ],
   "source": [
    "df1[~df1.Material.isin(['Water'])]"
   ]
  },
  {
   "cell_type": "markdown",
   "metadata": {},
   "source": [
    "## 2.8 GROUP BY, COUNT, ORDER BY"
   ]
  },
  {
   "cell_type": "code",
   "execution_count": 52,
   "metadata": {},
   "outputs": [
    {
     "data": {
      "text/html": [
       "<div>\n",
       "<style scoped>\n",
       "    .dataframe tbody tr th:only-of-type {\n",
       "        vertical-align: middle;\n",
       "    }\n",
       "\n",
       "    .dataframe tbody tr th {\n",
       "        vertical-align: top;\n",
       "    }\n",
       "\n",
       "    .dataframe thead th {\n",
       "        text-align: right;\n",
       "    }\n",
       "</style>\n",
       "<table border=\"1\" class=\"dataframe\">\n",
       "  <thead>\n",
       "    <tr style=\"text-align: right;\">\n",
       "      <th></th>\n",
       "      <th>time, 10^(-5) c</th>\n",
       "      <th>colisions</th>\n",
       "      <th>Material</th>\n",
       "      <th>target</th>\n",
       "    </tr>\n",
       "  </thead>\n",
       "  <tbody>\n",
       "    <tr>\n",
       "      <td>0</td>\n",
       "      <td>0.060134</td>\n",
       "      <td>18.0</td>\n",
       "      <td>Water</td>\n",
       "      <td>0.0</td>\n",
       "    </tr>\n",
       "    <tr>\n",
       "      <td>1</td>\n",
       "      <td>0.015265</td>\n",
       "      <td>11.0</td>\n",
       "      <td>Water</td>\n",
       "      <td>0.0</td>\n",
       "    </tr>\n",
       "    <tr>\n",
       "      <td>2</td>\n",
       "      <td>0.058799</td>\n",
       "      <td>17.0</td>\n",
       "      <td>Water</td>\n",
       "      <td>0.0</td>\n",
       "    </tr>\n",
       "    <tr>\n",
       "      <td>3</td>\n",
       "      <td>0.047027</td>\n",
       "      <td>14.0</td>\n",
       "      <td>Water</td>\n",
       "      <td>0.0</td>\n",
       "    </tr>\n",
       "    <tr>\n",
       "      <td>4</td>\n",
       "      <td>0.018141</td>\n",
       "      <td>10.0</td>\n",
       "      <td>Water</td>\n",
       "      <td>0.0</td>\n",
       "    </tr>\n",
       "    <tr>\n",
       "      <td>...</td>\n",
       "      <td>...</td>\n",
       "      <td>...</td>\n",
       "      <td>...</td>\n",
       "      <td>...</td>\n",
       "    </tr>\n",
       "    <tr>\n",
       "      <td>1795</td>\n",
       "      <td>1.073471</td>\n",
       "      <td>37.0</td>\n",
       "      <td>Heavy Water</td>\n",
       "      <td>2.0</td>\n",
       "    </tr>\n",
       "    <tr>\n",
       "      <td>1796</td>\n",
       "      <td>0.457777</td>\n",
       "      <td>28.0</td>\n",
       "      <td>Heavy Water</td>\n",
       "      <td>2.0</td>\n",
       "    </tr>\n",
       "    <tr>\n",
       "      <td>1797</td>\n",
       "      <td>1.017680</td>\n",
       "      <td>35.0</td>\n",
       "      <td>Heavy Water</td>\n",
       "      <td>2.0</td>\n",
       "    </tr>\n",
       "    <tr>\n",
       "      <td>1798</td>\n",
       "      <td>0.532127</td>\n",
       "      <td>29.0</td>\n",
       "      <td>Heavy Water</td>\n",
       "      <td>2.0</td>\n",
       "    </tr>\n",
       "    <tr>\n",
       "      <td>1799</td>\n",
       "      <td>0.393834</td>\n",
       "      <td>27.0</td>\n",
       "      <td>Heavy Water</td>\n",
       "      <td>2.0</td>\n",
       "    </tr>\n",
       "  </tbody>\n",
       "</table>\n",
       "<p>1800 rows × 4 columns</p>\n",
       "</div>"
      ],
      "text/plain": [
       "      time, 10^(-5) c  colisions     Material  target\n",
       "0            0.060134       18.0        Water     0.0\n",
       "1            0.015265       11.0        Water     0.0\n",
       "2            0.058799       17.0        Water     0.0\n",
       "3            0.047027       14.0        Water     0.0\n",
       "4            0.018141       10.0        Water     0.0\n",
       "...               ...        ...          ...     ...\n",
       "1795         1.073471       37.0  Heavy Water     2.0\n",
       "1796         0.457777       28.0  Heavy Water     2.0\n",
       "1797         1.017680       35.0  Heavy Water     2.0\n",
       "1798         0.532127       29.0  Heavy Water     2.0\n",
       "1799         0.393834       27.0  Heavy Water     2.0\n",
       "\n",
       "[1800 rows x 4 columns]"
      ]
     },
     "execution_count": 52,
     "metadata": {},
     "output_type": "execute_result"
    }
   ],
   "source": [
    "df1"
   ]
  },
  {
   "cell_type": "code",
   "execution_count": 53,
   "metadata": {},
   "outputs": [
    {
     "data": {
      "text/plain": [
       "colisions\n",
       "6.0      2\n",
       "7.0      4\n",
       "8.0      5\n",
       "9.0      6\n",
       "10.0    14\n",
       "11.0    15\n",
       "12.0    17\n",
       "13.0    22\n",
       "14.0    28\n",
       "15.0    37\n",
       "16.0    36\n",
       "17.0    43\n",
       "18.0    22\n",
       "19.0    41\n",
       "dtype: int64"
      ]
     },
     "execution_count": 53,
     "metadata": {},
     "output_type": "execute_result"
    }
   ],
   "source": [
    "df1.groupby(['colisions']).size().head(14)"
   ]
  },
  {
   "cell_type": "code",
   "execution_count": 54,
   "metadata": {},
   "outputs": [
    {
     "data": {
      "text/plain": [
       "colisions  Material        \n",
       "6.0        Water                2\n",
       "7.0        Water                4\n",
       "8.0        Water                5\n",
       "9.0        Water                6\n",
       "10.0       Water               14\n",
       "11.0       Water               15\n",
       "12.0       Water               17\n",
       "13.0       Water               22\n",
       "14.0       Water               28\n",
       "15.0       Heavy Water          5\n",
       "           Water               32\n",
       "16.0       Heavy Plexiglass     1\n",
       "           Heavy Water          2\n",
       "           Water               33\n",
       "dtype: int64"
      ]
     },
     "execution_count": 54,
     "metadata": {},
     "output_type": "execute_result"
    }
   ],
   "source": [
    "df1.groupby(['colisions', 'Material']).size().head(14)"
   ]
  },
  {
   "cell_type": "code",
   "execution_count": 55,
   "metadata": {},
   "outputs": [
    {
     "name": "stdout",
     "output_type": "stream",
     "text": [
      "(6.0, 'Water', 2)\n",
      "\n",
      "(7.0, 'Water', 4)\n",
      "\n",
      "(8.0, 'Water', 5)\n",
      "\n",
      "(9.0, 'Water', 6)\n",
      "\n",
      "(10.0, 'Water', 14)\n",
      "\n",
      "(11.0, 'Water', 15)\n",
      "\n",
      "(12.0, 'Water', 17)\n",
      "\n",
      "(13.0, 'Water', 22)\n",
      "\n",
      "(14.0, 'Water', 28)\n",
      "\n",
      "(15.0, 'Heavy Water', 5)\n",
      "\n",
      "(15.0, 'Water', 32)\n",
      "\n",
      "(16.0, 'Heavy Plexiglass', 1)\n",
      "\n",
      "(16.0, 'Heavy Water', 2)\n",
      "\n",
      "(16.0, 'Water', 33)\n",
      "\n"
     ]
    }
   ],
   "source": [
    "conn = sqlite3.connect('data/neutron_moderation.db')\n",
    "\n",
    "cursor = conn.execute(\n",
    "    \"select colisions, material, count(*) from Output_data group by colisions, material order by colisions, material\")\n",
    "\n",
    "i = 0\n",
    "for row in cursor:\n",
    "    if i <= 13:\n",
    "        print(row)\n",
    "        print()\n",
    "    i+=1\n",
    "    \n",
    "conn.close()"
   ]
  },
  {
   "cell_type": "code",
   "execution_count": 56,
   "metadata": {},
   "outputs": [
    {
     "data": {
      "text/html": [
       "<div>\n",
       "<style scoped>\n",
       "    .dataframe tbody tr th:only-of-type {\n",
       "        vertical-align: middle;\n",
       "    }\n",
       "\n",
       "    .dataframe tbody tr th {\n",
       "        vertical-align: top;\n",
       "    }\n",
       "\n",
       "    .dataframe thead th {\n",
       "        text-align: right;\n",
       "    }\n",
       "</style>\n",
       "<table border=\"1\" class=\"dataframe\">\n",
       "  <thead>\n",
       "    <tr style=\"text-align: right;\">\n",
       "      <th></th>\n",
       "      <th>colisions</th>\n",
       "      <th>Material</th>\n",
       "      <th>size</th>\n",
       "    </tr>\n",
       "  </thead>\n",
       "  <tbody>\n",
       "    <tr>\n",
       "      <td>95</td>\n",
       "      <td>59.0</td>\n",
       "      <td>Heavy Plexiglass</td>\n",
       "      <td>1</td>\n",
       "    </tr>\n",
       "    <tr>\n",
       "      <td>94</td>\n",
       "      <td>58.0</td>\n",
       "      <td>Heavy Plexiglass</td>\n",
       "      <td>1</td>\n",
       "    </tr>\n",
       "    <tr>\n",
       "      <td>93</td>\n",
       "      <td>57.0</td>\n",
       "      <td>Heavy Plexiglass</td>\n",
       "      <td>1</td>\n",
       "    </tr>\n",
       "  </tbody>\n",
       "</table>\n",
       "</div>"
      ],
      "text/plain": [
       "    colisions          Material  size\n",
       "95       59.0  Heavy Plexiglass     1\n",
       "94       58.0  Heavy Plexiglass     1\n",
       "93       57.0  Heavy Plexiglass     1"
      ]
     },
     "execution_count": 56,
     "metadata": {},
     "output_type": "execute_result"
    }
   ],
   "source": [
    "df1.groupby(['colisions', 'Material']).size().to_frame('size').reset_index().sort_values(['colisions', 'Material'], ascending=[False, False]).head(3)"
   ]
  },
  {
   "cell_type": "code",
   "execution_count": 57,
   "metadata": {},
   "outputs": [
    {
     "data": {
      "text/html": [
       "<div>\n",
       "<style scoped>\n",
       "    .dataframe tbody tr th:only-of-type {\n",
       "        vertical-align: middle;\n",
       "    }\n",
       "\n",
       "    .dataframe tbody tr th {\n",
       "        vertical-align: top;\n",
       "    }\n",
       "\n",
       "    .dataframe thead th {\n",
       "        text-align: right;\n",
       "    }\n",
       "</style>\n",
       "<table border=\"1\" class=\"dataframe\">\n",
       "  <thead>\n",
       "    <tr style=\"text-align: right;\">\n",
       "      <th></th>\n",
       "      <th>colisions</th>\n",
       "      <th>Material</th>\n",
       "      <th>size</th>\n",
       "    </tr>\n",
       "  </thead>\n",
       "  <tbody>\n",
       "    <tr>\n",
       "      <td>0</td>\n",
       "      <td>6.0</td>\n",
       "      <td>Water</td>\n",
       "      <td>2</td>\n",
       "    </tr>\n",
       "    <tr>\n",
       "      <td>1</td>\n",
       "      <td>7.0</td>\n",
       "      <td>Water</td>\n",
       "      <td>4</td>\n",
       "    </tr>\n",
       "    <tr>\n",
       "      <td>2</td>\n",
       "      <td>8.0</td>\n",
       "      <td>Water</td>\n",
       "      <td>5</td>\n",
       "    </tr>\n",
       "    <tr>\n",
       "      <td>3</td>\n",
       "      <td>9.0</td>\n",
       "      <td>Water</td>\n",
       "      <td>6</td>\n",
       "    </tr>\n",
       "    <tr>\n",
       "      <td>4</td>\n",
       "      <td>10.0</td>\n",
       "      <td>Water</td>\n",
       "      <td>14</td>\n",
       "    </tr>\n",
       "    <tr>\n",
       "      <td>5</td>\n",
       "      <td>11.0</td>\n",
       "      <td>Water</td>\n",
       "      <td>15</td>\n",
       "    </tr>\n",
       "    <tr>\n",
       "      <td>6</td>\n",
       "      <td>12.0</td>\n",
       "      <td>Water</td>\n",
       "      <td>17</td>\n",
       "    </tr>\n",
       "    <tr>\n",
       "      <td>7</td>\n",
       "      <td>13.0</td>\n",
       "      <td>Water</td>\n",
       "      <td>22</td>\n",
       "    </tr>\n",
       "    <tr>\n",
       "      <td>8</td>\n",
       "      <td>14.0</td>\n",
       "      <td>Water</td>\n",
       "      <td>28</td>\n",
       "    </tr>\n",
       "    <tr>\n",
       "      <td>10</td>\n",
       "      <td>15.0</td>\n",
       "      <td>Water</td>\n",
       "      <td>32</td>\n",
       "    </tr>\n",
       "    <tr>\n",
       "      <td>9</td>\n",
       "      <td>15.0</td>\n",
       "      <td>Heavy Water</td>\n",
       "      <td>5</td>\n",
       "    </tr>\n",
       "    <tr>\n",
       "      <td>13</td>\n",
       "      <td>16.0</td>\n",
       "      <td>Water</td>\n",
       "      <td>33</td>\n",
       "    </tr>\n",
       "    <tr>\n",
       "      <td>12</td>\n",
       "      <td>16.0</td>\n",
       "      <td>Heavy Water</td>\n",
       "      <td>2</td>\n",
       "    </tr>\n",
       "    <tr>\n",
       "      <td>11</td>\n",
       "      <td>16.0</td>\n",
       "      <td>Heavy Plexiglass</td>\n",
       "      <td>1</td>\n",
       "    </tr>\n",
       "  </tbody>\n",
       "</table>\n",
       "</div>"
      ],
      "text/plain": [
       "    colisions          Material  size\n",
       "0         6.0             Water     2\n",
       "1         7.0             Water     4\n",
       "2         8.0             Water     5\n",
       "3         9.0             Water     6\n",
       "4        10.0             Water    14\n",
       "5        11.0             Water    15\n",
       "6        12.0             Water    17\n",
       "7        13.0             Water    22\n",
       "8        14.0             Water    28\n",
       "10       15.0             Water    32\n",
       "9        15.0       Heavy Water     5\n",
       "13       16.0             Water    33\n",
       "12       16.0       Heavy Water     2\n",
       "11       16.0  Heavy Plexiglass     1"
      ]
     },
     "execution_count": 57,
     "metadata": {},
     "output_type": "execute_result"
    }
   ],
   "source": [
    "df1.groupby(['colisions', 'Material']).size().to_frame('size').reset_index().sort_values(['colisions', 'Material'], ascending=[True, False]).head(14)"
   ]
  },
  {
   "cell_type": "code",
   "execution_count": 58,
   "metadata": {},
   "outputs": [
    {
     "name": "stdout",
     "output_type": "stream",
     "text": [
      "(6.0, 'Water', 2)\n",
      "\n",
      "(7.0, 'Water', 4)\n",
      "\n",
      "(8.0, 'Water', 5)\n",
      "\n",
      "(9.0, 'Water', 6)\n",
      "\n",
      "(10.0, 'Water', 14)\n",
      "\n",
      "(11.0, 'Water', 15)\n",
      "\n",
      "(12.0, 'Water', 17)\n",
      "\n",
      "(13.0, 'Water', 22)\n",
      "\n",
      "(14.0, 'Water', 28)\n",
      "\n",
      "(15.0, 'Water', 32)\n",
      "\n",
      "(15.0, 'Heavy Water', 5)\n",
      "\n",
      "(16.0, 'Water', 33)\n",
      "\n",
      "(16.0, 'Heavy Water', 2)\n",
      "\n",
      "(16.0, 'Heavy Plexiglass', 1)\n",
      "\n"
     ]
    }
   ],
   "source": [
    "conn = sqlite3.connect('data/neutron_moderation.db')\n",
    "\n",
    "cursor = conn.execute(\n",
    "    \"select colisions, material, count(*) from Output_data group by colisions, material order by colisions, count(*) desc\")\n",
    "\n",
    "i = 0\n",
    "for row in cursor:\n",
    "    if i <= 13:\n",
    "        print(row)\n",
    "        print()\n",
    "    i+=1\n",
    "    \n",
    "conn.close()"
   ]
  },
  {
   "cell_type": "markdown",
   "metadata": {},
   "source": [
    "## 2.9 HAVING"
   ]
  },
  {
   "cell_type": "code",
   "execution_count": 59,
   "metadata": {},
   "outputs": [
    {
     "name": "stdout",
     "output_type": "stream",
     "text": [
      "(17.0, 36)\n",
      "\n",
      "(16.0, 33)\n",
      "\n",
      "(15.0, 32)\n",
      "\n",
      "(14.0, 28)\n",
      "\n",
      "(19.0, 25)\n",
      "\n",
      "(13.0, 22)\n",
      "\n",
      "(20.0, 17)\n",
      "\n",
      "(12.0, 17)\n",
      "\n",
      "(11.0, 15)\n",
      "\n",
      "(18.0, 14)\n",
      "\n",
      "(10.0, 14)\n",
      "\n",
      "(21.0, 11)\n",
      "\n"
     ]
    }
   ],
   "source": [
    "conn = sqlite3.connect('data/neutron_moderation.db')\n",
    "\n",
    "cursor = conn.execute(\n",
    "    \"select colisions, count(*) from Output_data where Material = 'Water' group by colisions having count(*) > 9 order by count(*) desc\")\n",
    "\n",
    "i = 0\n",
    "for row in cursor:\n",
    "    if i <= 13:\n",
    "        print(row)\n",
    "        print()\n",
    "    i+=1\n",
    "    \n",
    "conn.close()"
   ]
  },
  {
   "cell_type": "code",
   "execution_count": 60,
   "metadata": {},
   "outputs": [
    {
     "data": {
      "text/plain": [
       "colisions\n",
       "17.0    36\n",
       "16.0    33\n",
       "15.0    32\n",
       "14.0    28\n",
       "19.0    25\n",
       "13.0    22\n",
       "20.0    17\n",
       "12.0    17\n",
       "11.0    15\n",
       "18.0    14\n",
       "10.0    14\n",
       "21.0    11\n",
       "dtype: int64"
      ]
     },
     "execution_count": 60,
     "metadata": {},
     "output_type": "execute_result"
    }
   ],
   "source": [
    "df1[df1.Material == 'Water'].groupby('colisions').filter(lambda g: len(g) > 9).groupby('colisions').size().sort_values(ascending=False)"
   ]
  },
  {
   "cell_type": "markdown",
   "metadata": {},
   "source": [
    "## 2.9 Первые N записей"
   ]
  },
  {
   "cell_type": "code",
   "execution_count": 61,
   "metadata": {},
   "outputs": [
    {
     "data": {
      "text/html": [
       "<div>\n",
       "<style scoped>\n",
       "    .dataframe tbody tr th:only-of-type {\n",
       "        vertical-align: middle;\n",
       "    }\n",
       "\n",
       "    .dataframe tbody tr th {\n",
       "        vertical-align: top;\n",
       "    }\n",
       "\n",
       "    .dataframe thead th {\n",
       "        text-align: right;\n",
       "    }\n",
       "</style>\n",
       "<table border=\"1\" class=\"dataframe\">\n",
       "  <thead>\n",
       "    <tr style=\"text-align: right;\">\n",
       "      <th></th>\n",
       "      <th>time, 10^(-5) c</th>\n",
       "      <th>colisions</th>\n",
       "      <th>Material</th>\n",
       "      <th>target</th>\n",
       "    </tr>\n",
       "  </thead>\n",
       "  <tbody>\n",
       "    <tr>\n",
       "      <td>791</td>\n",
       "      <td>0.729316</td>\n",
       "      <td>59.0</td>\n",
       "      <td>Heavy Plexiglass</td>\n",
       "      <td>1.0</td>\n",
       "    </tr>\n",
       "    <tr>\n",
       "      <td>680</td>\n",
       "      <td>1.211173</td>\n",
       "      <td>58.0</td>\n",
       "      <td>Heavy Plexiglass</td>\n",
       "      <td>1.0</td>\n",
       "    </tr>\n",
       "    <tr>\n",
       "      <td>486</td>\n",
       "      <td>2.111941</td>\n",
       "      <td>57.0</td>\n",
       "      <td>Heavy Plexiglass</td>\n",
       "      <td>1.0</td>\n",
       "    </tr>\n",
       "    <tr>\n",
       "      <td>377</td>\n",
       "      <td>1.457662</td>\n",
       "      <td>56.0</td>\n",
       "      <td>Heavy Plexiglass</td>\n",
       "      <td>1.0</td>\n",
       "    </tr>\n",
       "    <tr>\n",
       "      <td>390</td>\n",
       "      <td>1.378546</td>\n",
       "      <td>55.0</td>\n",
       "      <td>Heavy Plexiglass</td>\n",
       "      <td>1.0</td>\n",
       "    </tr>\n",
       "    <tr>\n",
       "      <td>807</td>\n",
       "      <td>0.532553</td>\n",
       "      <td>55.0</td>\n",
       "      <td>Heavy Plexiglass</td>\n",
       "      <td>1.0</td>\n",
       "    </tr>\n",
       "    <tr>\n",
       "      <td>417</td>\n",
       "      <td>0.605150</td>\n",
       "      <td>54.0</td>\n",
       "      <td>Heavy Plexiglass</td>\n",
       "      <td>1.0</td>\n",
       "    </tr>\n",
       "    <tr>\n",
       "      <td>483</td>\n",
       "      <td>1.100379</td>\n",
       "      <td>54.0</td>\n",
       "      <td>Heavy Plexiglass</td>\n",
       "      <td>1.0</td>\n",
       "    </tr>\n",
       "    <tr>\n",
       "      <td>559</td>\n",
       "      <td>1.119283</td>\n",
       "      <td>54.0</td>\n",
       "      <td>Heavy Plexiglass</td>\n",
       "      <td>1.0</td>\n",
       "    </tr>\n",
       "    <tr>\n",
       "      <td>386</td>\n",
       "      <td>0.958775</td>\n",
       "      <td>53.0</td>\n",
       "      <td>Heavy Plexiglass</td>\n",
       "      <td>1.0</td>\n",
       "    </tr>\n",
       "  </tbody>\n",
       "</table>\n",
       "</div>"
      ],
      "text/plain": [
       "     time, 10^(-5) c  colisions          Material  target\n",
       "791         0.729316       59.0  Heavy Plexiglass     1.0\n",
       "680         1.211173       58.0  Heavy Plexiglass     1.0\n",
       "486         2.111941       57.0  Heavy Plexiglass     1.0\n",
       "377         1.457662       56.0  Heavy Plexiglass     1.0\n",
       "390         1.378546       55.0  Heavy Plexiglass     1.0\n",
       "807         0.532553       55.0  Heavy Plexiglass     1.0\n",
       "417         0.605150       54.0  Heavy Plexiglass     1.0\n",
       "483         1.100379       54.0  Heavy Plexiglass     1.0\n",
       "559         1.119283       54.0  Heavy Plexiglass     1.0\n",
       "386         0.958775       53.0  Heavy Plexiglass     1.0"
      ]
     },
     "execution_count": 61,
     "metadata": {},
     "output_type": "execute_result"
    }
   ],
   "source": [
    "df1.nlargest(10, columns='colisions')"
   ]
  },
  {
   "cell_type": "code",
   "execution_count": 62,
   "metadata": {},
   "outputs": [
    {
     "name": "stdout",
     "output_type": "stream",
     "text": [
      "(59.0,)\n",
      "\n",
      "(58.0,)\n",
      "\n",
      "(57.0,)\n",
      "\n",
      "(56.0,)\n",
      "\n",
      "(55.0,)\n",
      "\n",
      "(55.0,)\n",
      "\n",
      "(54.0,)\n",
      "\n",
      "(54.0,)\n",
      "\n",
      "(54.0,)\n",
      "\n",
      "(53.0,)\n",
      "\n"
     ]
    }
   ],
   "source": [
    "conn = sqlite3.connect('data/neutron_moderation.db')\n",
    "\n",
    "cursor = conn.execute(\"select colisions from Output_data order by colisions desc limit 10\")\n",
    "\n",
    "i = 0\n",
    "for row in cursor:\n",
    "    print(row)\n",
    "    print()\n",
    "   \n",
    "conn.close()"
   ]
  },
  {
   "cell_type": "code",
   "execution_count": 63,
   "metadata": {},
   "outputs": [
    {
     "data": {
      "text/html": [
       "<div>\n",
       "<style scoped>\n",
       "    .dataframe tbody tr th:only-of-type {\n",
       "        vertical-align: middle;\n",
       "    }\n",
       "\n",
       "    .dataframe tbody tr th {\n",
       "        vertical-align: top;\n",
       "    }\n",
       "\n",
       "    .dataframe thead th {\n",
       "        text-align: right;\n",
       "    }\n",
       "</style>\n",
       "<table border=\"1\" class=\"dataframe\">\n",
       "  <thead>\n",
       "    <tr style=\"text-align: right;\">\n",
       "      <th></th>\n",
       "      <th>time, 10^(-5) c</th>\n",
       "      <th>colisions</th>\n",
       "      <th>Material</th>\n",
       "      <th>target</th>\n",
       "    </tr>\n",
       "  </thead>\n",
       "  <tbody>\n",
       "    <tr>\n",
       "      <td>457</td>\n",
       "      <td>0.543366</td>\n",
       "      <td>53.0</td>\n",
       "      <td>Heavy Plexiglass</td>\n",
       "      <td>1.0</td>\n",
       "    </tr>\n",
       "    <tr>\n",
       "      <td>893</td>\n",
       "      <td>1.034808</td>\n",
       "      <td>53.0</td>\n",
       "      <td>Heavy Plexiglass</td>\n",
       "      <td>1.0</td>\n",
       "    </tr>\n",
       "    <tr>\n",
       "      <td>344</td>\n",
       "      <td>0.809267</td>\n",
       "      <td>52.0</td>\n",
       "      <td>Heavy Plexiglass</td>\n",
       "      <td>1.0</td>\n",
       "    </tr>\n",
       "    <tr>\n",
       "      <td>535</td>\n",
       "      <td>1.174369</td>\n",
       "      <td>52.0</td>\n",
       "      <td>Heavy Plexiglass</td>\n",
       "      <td>1.0</td>\n",
       "    </tr>\n",
       "    <tr>\n",
       "      <td>606</td>\n",
       "      <td>1.310669</td>\n",
       "      <td>51.0</td>\n",
       "      <td>Heavy Plexiglass</td>\n",
       "      <td>1.0</td>\n",
       "    </tr>\n",
       "    <tr>\n",
       "      <td>611</td>\n",
       "      <td>1.040243</td>\n",
       "      <td>51.0</td>\n",
       "      <td>Heavy Plexiglass</td>\n",
       "      <td>1.0</td>\n",
       "    </tr>\n",
       "    <tr>\n",
       "      <td>617</td>\n",
       "      <td>0.921589</td>\n",
       "      <td>51.0</td>\n",
       "      <td>Heavy Plexiglass</td>\n",
       "      <td>1.0</td>\n",
       "    </tr>\n",
       "    <tr>\n",
       "      <td>722</td>\n",
       "      <td>0.691992</td>\n",
       "      <td>51.0</td>\n",
       "      <td>Heavy Plexiglass</td>\n",
       "      <td>1.0</td>\n",
       "    </tr>\n",
       "    <tr>\n",
       "      <td>842</td>\n",
       "      <td>1.789559</td>\n",
       "      <td>51.0</td>\n",
       "      <td>Heavy Plexiglass</td>\n",
       "      <td>1.0</td>\n",
       "    </tr>\n",
       "    <tr>\n",
       "      <td>882</td>\n",
       "      <td>0.618651</td>\n",
       "      <td>51.0</td>\n",
       "      <td>Heavy Plexiglass</td>\n",
       "      <td>1.0</td>\n",
       "    </tr>\n",
       "  </tbody>\n",
       "</table>\n",
       "</div>"
      ],
      "text/plain": [
       "     time, 10^(-5) c  colisions          Material  target\n",
       "457         0.543366       53.0  Heavy Plexiglass     1.0\n",
       "893         1.034808       53.0  Heavy Plexiglass     1.0\n",
       "344         0.809267       52.0  Heavy Plexiglass     1.0\n",
       "535         1.174369       52.0  Heavy Plexiglass     1.0\n",
       "606         1.310669       51.0  Heavy Plexiglass     1.0\n",
       "611         1.040243       51.0  Heavy Plexiglass     1.0\n",
       "617         0.921589       51.0  Heavy Plexiglass     1.0\n",
       "722         0.691992       51.0  Heavy Plexiglass     1.0\n",
       "842         1.789559       51.0  Heavy Plexiglass     1.0\n",
       "882         0.618651       51.0  Heavy Plexiglass     1.0"
      ]
     },
     "execution_count": 63,
     "metadata": {},
     "output_type": "execute_result"
    }
   ],
   "source": [
    "df1.nlargest(20, columns='colisions').tail(10)"
   ]
  },
  {
   "cell_type": "code",
   "execution_count": 64,
   "metadata": {},
   "outputs": [
    {
     "name": "stdout",
     "output_type": "stream",
     "text": [
      "(53.0,)\n",
      "\n",
      "(53.0,)\n",
      "\n",
      "(52.0,)\n",
      "\n",
      "(52.0,)\n",
      "\n",
      "(51.0,)\n",
      "\n",
      "(51.0,)\n",
      "\n",
      "(51.0,)\n",
      "\n",
      "(51.0,)\n",
      "\n",
      "(51.0,)\n",
      "\n",
      "(51.0,)\n",
      "\n"
     ]
    }
   ],
   "source": [
    "conn = sqlite3.connect('data/neutron_moderation.db')\n",
    "\n",
    "cursor = conn.execute(\"select colisions from Output_data order by colisions desc limit 10 offset 10\")\n",
    "\n",
    "i = 0\n",
    "for row in cursor:\n",
    "    print(row)\n",
    "    print()\n",
    "   \n",
    "conn.close()"
   ]
  },
  {
   "cell_type": "markdown",
   "metadata": {},
   "source": [
    "## 3.0 MIN, MAX, MEAN"
   ]
  },
  {
   "cell_type": "code",
   "execution_count": 65,
   "metadata": {},
   "outputs": [
    {
     "data": {
      "text/html": [
       "<div>\n",
       "<style scoped>\n",
       "    .dataframe tbody tr th:only-of-type {\n",
       "        vertical-align: middle;\n",
       "    }\n",
       "\n",
       "    .dataframe tbody tr th {\n",
       "        vertical-align: top;\n",
       "    }\n",
       "\n",
       "    .dataframe thead th {\n",
       "        text-align: right;\n",
       "    }\n",
       "</style>\n",
       "<table border=\"1\" class=\"dataframe\">\n",
       "  <thead>\n",
       "    <tr style=\"text-align: right;\">\n",
       "      <th></th>\n",
       "      <th>colisions</th>\n",
       "    </tr>\n",
       "  </thead>\n",
       "  <tbody>\n",
       "    <tr>\n",
       "      <td>min</td>\n",
       "      <td>6.000000</td>\n",
       "    </tr>\n",
       "    <tr>\n",
       "      <td>max</td>\n",
       "      <td>59.000000</td>\n",
       "    </tr>\n",
       "    <tr>\n",
       "      <td>mean</td>\n",
       "      <td>28.833333</td>\n",
       "    </tr>\n",
       "    <tr>\n",
       "      <td>median</td>\n",
       "      <td>29.000000</td>\n",
       "    </tr>\n",
       "  </tbody>\n",
       "</table>\n",
       "</div>"
      ],
      "text/plain": [
       "        colisions\n",
       "min      6.000000\n",
       "max     59.000000\n",
       "mean    28.833333\n",
       "median  29.000000"
      ]
     },
     "execution_count": 65,
     "metadata": {},
     "output_type": "execute_result"
    }
   ],
   "source": [
    "df1.agg({'colisions': ['min', 'max', 'mean', 'median']})"
   ]
  },
  {
   "cell_type": "code",
   "execution_count": 66,
   "metadata": {},
   "outputs": [
    {
     "name": "stdout",
     "output_type": "stream",
     "text": [
      "(59.0, 6.0)\n",
      "\n"
     ]
    }
   ],
   "source": [
    "conn = sqlite3.connect('data/neutron_moderation.db')\n",
    "\n",
    "cursor = conn.execute(\"select max(colisions), min(colisions) from Output_data\")\n",
    "\n",
    "i = 0\n",
    "for row in cursor:\n",
    "    print(row)\n",
    "    print()\n",
    "   \n",
    "conn.close()"
   ]
  }
 ],
 "metadata": {
  "kernelspec": {
   "display_name": "Python 3",
   "language": "python",
   "name": "python3"
  },
  "language_info": {
   "codemirror_mode": {
    "name": "ipython",
    "version": 3
   },
   "file_extension": ".py",
   "mimetype": "text/x-python",
   "name": "python",
   "nbconvert_exporter": "python",
   "pygments_lexer": "ipython3",
   "version": "3.8.3"
  }
 },
 "nbformat": 4,
 "nbformat_minor": 4
}
