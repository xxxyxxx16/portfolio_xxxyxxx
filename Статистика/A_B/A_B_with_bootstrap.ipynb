{
 "cells": [
  {
   "cell_type": "code",
   "execution_count": 1,
   "metadata": {
    "id": "F-opDj1PpTcT"
   },
   "outputs": [],
   "source": [
    "#!/usr/local/bin/python3\n",
    "# -*- coding: utf-8 -*-"
   ]
  },
  {
   "cell_type": "markdown",
   "metadata": {
    "id": "oD7Gzbnxphxo"
   },
   "source": [
    "# 1.Загрузка данных"
   ]
  },
  {
   "cell_type": "code",
   "execution_count": 2,
   "metadata": {
    "colab": {
     "base_uri": "https://localhost:8080/",
     "height": 419
    },
    "id": "ai3EwyxotHm_",
    "outputId": "2c5a76aa-3802-4666-b912-39873f0f0b84"
   },
   "outputs": [
    {
     "data": {
      "text/html": [
       "<div>\n",
       "<style scoped>\n",
       "    .dataframe tbody tr th:only-of-type {\n",
       "        vertical-align: middle;\n",
       "    }\n",
       "\n",
       "    .dataframe tbody tr th {\n",
       "        vertical-align: top;\n",
       "    }\n",
       "\n",
       "    .dataframe thead th {\n",
       "        text-align: right;\n",
       "    }\n",
       "</style>\n",
       "<table border=\"1\" class=\"dataframe\">\n",
       "  <thead>\n",
       "    <tr style=\"text-align: right;\">\n",
       "      <th></th>\n",
       "      <th>group_id</th>\n",
       "      <th>metric_value</th>\n",
       "      <th>users</th>\n",
       "      <th>visits</th>\n",
       "      <th>churn_users</th>\n",
       "      <th>churn_visits</th>\n",
       "      <th>group</th>\n",
       "    </tr>\n",
       "  </thead>\n",
       "  <tbody>\n",
       "    <tr>\n",
       "      <th>0</th>\n",
       "      <td>8</td>\n",
       "      <td>6630.000</td>\n",
       "      <td>0</td>\n",
       "      <td>0</td>\n",
       "      <td>0</td>\n",
       "      <td>8</td>\n",
       "      <td>A</td>\n",
       "    </tr>\n",
       "    <tr>\n",
       "      <th>1</th>\n",
       "      <td>13</td>\n",
       "      <td>6933.976</td>\n",
       "      <td>0</td>\n",
       "      <td>0</td>\n",
       "      <td>1</td>\n",
       "      <td>6</td>\n",
       "      <td>B</td>\n",
       "    </tr>\n",
       "    <tr>\n",
       "      <th>2</th>\n",
       "      <td>10</td>\n",
       "      <td>8261.976</td>\n",
       "      <td>1</td>\n",
       "      <td>10</td>\n",
       "      <td>1</td>\n",
       "      <td>8</td>\n",
       "      <td>B</td>\n",
       "    </tr>\n",
       "    <tr>\n",
       "      <th>3</th>\n",
       "      <td>4</td>\n",
       "      <td>5522.000</td>\n",
       "      <td>1</td>\n",
       "      <td>9</td>\n",
       "      <td>1</td>\n",
       "      <td>7</td>\n",
       "      <td>A</td>\n",
       "    </tr>\n",
       "    <tr>\n",
       "      <th>4</th>\n",
       "      <td>16</td>\n",
       "      <td>5075.976</td>\n",
       "      <td>1</td>\n",
       "      <td>6</td>\n",
       "      <td>0</td>\n",
       "      <td>8</td>\n",
       "      <td>B</td>\n",
       "    </tr>\n",
       "    <tr>\n",
       "      <th>...</th>\n",
       "      <td>...</td>\n",
       "      <td>...</td>\n",
       "      <td>...</td>\n",
       "      <td>...</td>\n",
       "      <td>...</td>\n",
       "      <td>...</td>\n",
       "      <td>...</td>\n",
       "    </tr>\n",
       "    <tr>\n",
       "      <th>4995</th>\n",
       "      <td>6</td>\n",
       "      <td>3666.000</td>\n",
       "      <td>1</td>\n",
       "      <td>4</td>\n",
       "      <td>1</td>\n",
       "      <td>5</td>\n",
       "      <td>A</td>\n",
       "    </tr>\n",
       "    <tr>\n",
       "      <th>4996</th>\n",
       "      <td>12</td>\n",
       "      <td>6464.976</td>\n",
       "      <td>0</td>\n",
       "      <td>0</td>\n",
       "      <td>1</td>\n",
       "      <td>8</td>\n",
       "      <td>B</td>\n",
       "    </tr>\n",
       "    <tr>\n",
       "      <th>4997</th>\n",
       "      <td>1</td>\n",
       "      <td>4335.000</td>\n",
       "      <td>0</td>\n",
       "      <td>0</td>\n",
       "      <td>0</td>\n",
       "      <td>8</td>\n",
       "      <td>A</td>\n",
       "    </tr>\n",
       "    <tr>\n",
       "      <th>4998</th>\n",
       "      <td>13</td>\n",
       "      <td>6307.976</td>\n",
       "      <td>0</td>\n",
       "      <td>0</td>\n",
       "      <td>1</td>\n",
       "      <td>8</td>\n",
       "      <td>B</td>\n",
       "    </tr>\n",
       "    <tr>\n",
       "      <th>4999</th>\n",
       "      <td>2</td>\n",
       "      <td>5051.000</td>\n",
       "      <td>0</td>\n",
       "      <td>0</td>\n",
       "      <td>1</td>\n",
       "      <td>8</td>\n",
       "      <td>A</td>\n",
       "    </tr>\n",
       "  </tbody>\n",
       "</table>\n",
       "<p>5000 rows × 7 columns</p>\n",
       "</div>"
      ],
      "text/plain": [
       "      group_id  metric_value  users  visits  churn_users  churn_visits group\n",
       "0            8      6630.000      0       0            0             8     A\n",
       "1           13      6933.976      0       0            1             6     B\n",
       "2           10      8261.976      1      10            1             8     B\n",
       "3            4      5522.000      1       9            1             7     A\n",
       "4           16      5075.976      1       6            0             8     B\n",
       "...        ...           ...    ...     ...          ...           ...   ...\n",
       "4995         6      3666.000      1       4            1             5     A\n",
       "4996        12      6464.976      0       0            1             8     B\n",
       "4997         1      4335.000      0       0            0             8     A\n",
       "4998        13      6307.976      0       0            1             8     B\n",
       "4999         2      5051.000      0       0            1             8     A\n",
       "\n",
       "[5000 rows x 7 columns]"
      ]
     },
     "execution_count": 2,
     "metadata": {},
     "output_type": "execute_result"
    }
   ],
   "source": [
    "import pandas as pd\n",
    "df_by_users = pd.read_csv('hw_abt_2_byuser.csv', delimiter='\t', index_col= 0)\n",
    "df_by_users"
   ]
  },
  {
   "cell_type": "code",
   "execution_count": 3,
   "metadata": {
    "colab": {
     "base_uri": "https://localhost:8080/",
     "height": 576
    },
    "id": "PFdW3WlgtTCX",
    "outputId": "6c5c4214-1e88-43c1-eeb3-e4375ba895d4"
   },
   "outputs": [
    {
     "data": {
      "text/html": [
       "<div>\n",
       "<style scoped>\n",
       "    .dataframe tbody tr th:only-of-type {\n",
       "        vertical-align: middle;\n",
       "    }\n",
       "\n",
       "    .dataframe tbody tr th {\n",
       "        vertical-align: top;\n",
       "    }\n",
       "\n",
       "    .dataframe thead th {\n",
       "        text-align: right;\n",
       "    }\n",
       "</style>\n",
       "<table border=\"1\" class=\"dataframe\">\n",
       "  <thead>\n",
       "    <tr style=\"text-align: right;\">\n",
       "      <th></th>\n",
       "      <th>metric_value</th>\n",
       "      <th>users</th>\n",
       "      <th>visits</th>\n",
       "      <th>churn_users</th>\n",
       "      <th>churn_visits</th>\n",
       "    </tr>\n",
       "    <tr>\n",
       "      <th>group_id</th>\n",
       "      <th></th>\n",
       "      <th></th>\n",
       "      <th></th>\n",
       "      <th></th>\n",
       "      <th></th>\n",
       "    </tr>\n",
       "  </thead>\n",
       "  <tbody>\n",
       "    <tr>\n",
       "      <th>1</th>\n",
       "      <td>1875345.000</td>\n",
       "      <td>155</td>\n",
       "      <td>1419</td>\n",
       "      <td>151</td>\n",
       "      <td>2207</td>\n",
       "    </tr>\n",
       "    <tr>\n",
       "      <th>2</th>\n",
       "      <td>1662237.000</td>\n",
       "      <td>138</td>\n",
       "      <td>1320</td>\n",
       "      <td>127</td>\n",
       "      <td>1853</td>\n",
       "    </tr>\n",
       "    <tr>\n",
       "      <th>3</th>\n",
       "      <td>1784372.000</td>\n",
       "      <td>128</td>\n",
       "      <td>1281</td>\n",
       "      <td>159</td>\n",
       "      <td>2032</td>\n",
       "    </tr>\n",
       "    <tr>\n",
       "      <th>4</th>\n",
       "      <td>1876826.000</td>\n",
       "      <td>163</td>\n",
       "      <td>1644</td>\n",
       "      <td>168</td>\n",
       "      <td>2172</td>\n",
       "    </tr>\n",
       "    <tr>\n",
       "      <th>5</th>\n",
       "      <td>1913180.000</td>\n",
       "      <td>156</td>\n",
       "      <td>1675</td>\n",
       "      <td>174</td>\n",
       "      <td>2273</td>\n",
       "    </tr>\n",
       "    <tr>\n",
       "      <th>6</th>\n",
       "      <td>1733079.000</td>\n",
       "      <td>144</td>\n",
       "      <td>1509</td>\n",
       "      <td>141</td>\n",
       "      <td>2009</td>\n",
       "    </tr>\n",
       "    <tr>\n",
       "      <th>7</th>\n",
       "      <td>1864555.000</td>\n",
       "      <td>151</td>\n",
       "      <td>1481</td>\n",
       "      <td>161</td>\n",
       "      <td>2139</td>\n",
       "    </tr>\n",
       "    <tr>\n",
       "      <th>8</th>\n",
       "      <td>2029143.000</td>\n",
       "      <td>162</td>\n",
       "      <td>1533</td>\n",
       "      <td>153</td>\n",
       "      <td>2299</td>\n",
       "    </tr>\n",
       "    <tr>\n",
       "      <th>9</th>\n",
       "      <td>2047289.536</td>\n",
       "      <td>143</td>\n",
       "      <td>1424</td>\n",
       "      <td>242</td>\n",
       "      <td>2191</td>\n",
       "    </tr>\n",
       "    <tr>\n",
       "      <th>10</th>\n",
       "      <td>2228154.648</td>\n",
       "      <td>179</td>\n",
       "      <td>1803</td>\n",
       "      <td>265</td>\n",
       "      <td>2518</td>\n",
       "    </tr>\n",
       "    <tr>\n",
       "      <th>11</th>\n",
       "      <td>1876015.920</td>\n",
       "      <td>150</td>\n",
       "      <td>1448</td>\n",
       "      <td>226</td>\n",
       "      <td>2062</td>\n",
       "    </tr>\n",
       "    <tr>\n",
       "      <th>12</th>\n",
       "      <td>2102859.224</td>\n",
       "      <td>149</td>\n",
       "      <td>1339</td>\n",
       "      <td>261</td>\n",
       "      <td>2257</td>\n",
       "    </tr>\n",
       "    <tr>\n",
       "      <th>13</th>\n",
       "      <td>2079287.344</td>\n",
       "      <td>155</td>\n",
       "      <td>1240</td>\n",
       "      <td>257</td>\n",
       "      <td>2248</td>\n",
       "    </tr>\n",
       "    <tr>\n",
       "      <th>14</th>\n",
       "      <td>2127954.032</td>\n",
       "      <td>166</td>\n",
       "      <td>1397</td>\n",
       "      <td>256</td>\n",
       "      <td>2215</td>\n",
       "    </tr>\n",
       "    <tr>\n",
       "      <th>15</th>\n",
       "      <td>1887384.920</td>\n",
       "      <td>161</td>\n",
       "      <td>1488</td>\n",
       "      <td>224</td>\n",
       "      <td>2015</td>\n",
       "    </tr>\n",
       "    <tr>\n",
       "      <th>16</th>\n",
       "      <td>2082370.200</td>\n",
       "      <td>159</td>\n",
       "      <td>1469</td>\n",
       "      <td>273</td>\n",
       "      <td>2287</td>\n",
       "    </tr>\n",
       "  </tbody>\n",
       "</table>\n",
       "</div>"
      ],
      "text/plain": [
       "          metric_value  users  visits  churn_users  churn_visits\n",
       "group_id                                                        \n",
       "1          1875345.000    155    1419          151          2207\n",
       "2          1662237.000    138    1320          127          1853\n",
       "3          1784372.000    128    1281          159          2032\n",
       "4          1876826.000    163    1644          168          2172\n",
       "5          1913180.000    156    1675          174          2273\n",
       "6          1733079.000    144    1509          141          2009\n",
       "7          1864555.000    151    1481          161          2139\n",
       "8          2029143.000    162    1533          153          2299\n",
       "9          2047289.536    143    1424          242          2191\n",
       "10         2228154.648    179    1803          265          2518\n",
       "11         1876015.920    150    1448          226          2062\n",
       "12         2102859.224    149    1339          261          2257\n",
       "13         2079287.344    155    1240          257          2248\n",
       "14         2127954.032    166    1397          256          2215\n",
       "15         1887384.920    161    1488          224          2015\n",
       "16         2082370.200    159    1469          273          2287"
      ]
     },
     "execution_count": 3,
     "metadata": {},
     "output_type": "execute_result"
    }
   ],
   "source": [
    "df_by_bucket = pd.read_csv('hw_abt_2_bybucket.csv', delimiter='\t', index_col= 0)\n",
    "df_by_bucket"
   ]
  },
  {
   "cell_type": "markdown",
   "metadata": {
    "id": "90fw1fzPtaS_"
   },
   "source": [
    "Поиск неоднозначностей и удаление ошибочных данных"
   ]
  },
  {
   "cell_type": "code",
   "execution_count": 4,
   "metadata": {
    "colab": {
     "base_uri": "https://localhost:8080/",
     "height": 49
    },
    "id": "Fc1IxBxatbSY",
    "outputId": "19df9048-be48-4140-8589-5364dd4fc46d"
   },
   "outputs": [
    {
     "data": {
      "text/html": [
       "<div>\n",
       "<style scoped>\n",
       "    .dataframe tbody tr th:only-of-type {\n",
       "        vertical-align: middle;\n",
       "    }\n",
       "\n",
       "    .dataframe tbody tr th {\n",
       "        vertical-align: top;\n",
       "    }\n",
       "\n",
       "    .dataframe thead th {\n",
       "        text-align: right;\n",
       "    }\n",
       "</style>\n",
       "<table border=\"1\" class=\"dataframe\">\n",
       "  <thead>\n",
       "    <tr style=\"text-align: right;\">\n",
       "      <th></th>\n",
       "      <th>group_id</th>\n",
       "      <th>metric_value</th>\n",
       "      <th>users</th>\n",
       "      <th>visits</th>\n",
       "      <th>churn_users</th>\n",
       "      <th>churn_visits</th>\n",
       "      <th>group</th>\n",
       "    </tr>\n",
       "  </thead>\n",
       "  <tbody>\n",
       "  </tbody>\n",
       "</table>\n",
       "</div>"
      ],
      "text/plain": [
       "Empty DataFrame\n",
       "Columns: [group_id, metric_value, users, visits, churn_users, churn_visits, group]\n",
       "Index: []"
      ]
     },
     "execution_count": 4,
     "metadata": {},
     "output_type": "execute_result"
    }
   ],
   "source": [
    "df_by_users.loc[(df_by_users['users'] == 0) & (df_by_users['visits'] > 1)]"
   ]
  },
  {
   "cell_type": "code",
   "execution_count": 5,
   "metadata": {
    "colab": {
     "base_uri": "https://localhost:8080/",
     "height": 419
    },
    "id": "RAFAwV7ptd5_",
    "outputId": "afa8cf86-af89-4f51-9eee-05003f688625"
   },
   "outputs": [
    {
     "data": {
      "text/html": [
       "<div>\n",
       "<style scoped>\n",
       "    .dataframe tbody tr th:only-of-type {\n",
       "        vertical-align: middle;\n",
       "    }\n",
       "\n",
       "    .dataframe tbody tr th {\n",
       "        vertical-align: top;\n",
       "    }\n",
       "\n",
       "    .dataframe thead th {\n",
       "        text-align: right;\n",
       "    }\n",
       "</style>\n",
       "<table border=\"1\" class=\"dataframe\">\n",
       "  <thead>\n",
       "    <tr style=\"text-align: right;\">\n",
       "      <th></th>\n",
       "      <th>group_id</th>\n",
       "      <th>metric_value</th>\n",
       "      <th>users</th>\n",
       "      <th>visits</th>\n",
       "      <th>churn_users</th>\n",
       "      <th>churn_visits</th>\n",
       "      <th>group</th>\n",
       "    </tr>\n",
       "  </thead>\n",
       "  <tbody>\n",
       "    <tr>\n",
       "      <th>27</th>\n",
       "      <td>15</td>\n",
       "      <td>5181.976</td>\n",
       "      <td>1</td>\n",
       "      <td>0</td>\n",
       "      <td>0</td>\n",
       "      <td>9</td>\n",
       "      <td>B</td>\n",
       "    </tr>\n",
       "    <tr>\n",
       "      <th>53</th>\n",
       "      <td>2</td>\n",
       "      <td>5989.000</td>\n",
       "      <td>1</td>\n",
       "      <td>0</td>\n",
       "      <td>1</td>\n",
       "      <td>6</td>\n",
       "      <td>A</td>\n",
       "    </tr>\n",
       "    <tr>\n",
       "      <th>71</th>\n",
       "      <td>8</td>\n",
       "      <td>8102.000</td>\n",
       "      <td>1</td>\n",
       "      <td>0</td>\n",
       "      <td>0</td>\n",
       "      <td>5</td>\n",
       "      <td>A</td>\n",
       "    </tr>\n",
       "    <tr>\n",
       "      <th>89</th>\n",
       "      <td>16</td>\n",
       "      <td>7727.976</td>\n",
       "      <td>1</td>\n",
       "      <td>0</td>\n",
       "      <td>1</td>\n",
       "      <td>5</td>\n",
       "      <td>B</td>\n",
       "    </tr>\n",
       "    <tr>\n",
       "      <th>161</th>\n",
       "      <td>5</td>\n",
       "      <td>8057.000</td>\n",
       "      <td>1</td>\n",
       "      <td>0</td>\n",
       "      <td>0</td>\n",
       "      <td>6</td>\n",
       "      <td>A</td>\n",
       "    </tr>\n",
       "    <tr>\n",
       "      <th>...</th>\n",
       "      <td>...</td>\n",
       "      <td>...</td>\n",
       "      <td>...</td>\n",
       "      <td>...</td>\n",
       "      <td>...</td>\n",
       "      <td>...</td>\n",
       "      <td>...</td>\n",
       "    </tr>\n",
       "    <tr>\n",
       "      <th>4915</th>\n",
       "      <td>8</td>\n",
       "      <td>7650.000</td>\n",
       "      <td>1</td>\n",
       "      <td>0</td>\n",
       "      <td>1</td>\n",
       "      <td>7</td>\n",
       "      <td>A</td>\n",
       "    </tr>\n",
       "    <tr>\n",
       "      <th>4924</th>\n",
       "      <td>8</td>\n",
       "      <td>5538.000</td>\n",
       "      <td>1</td>\n",
       "      <td>0</td>\n",
       "      <td>0</td>\n",
       "      <td>9</td>\n",
       "      <td>A</td>\n",
       "    </tr>\n",
       "    <tr>\n",
       "      <th>4960</th>\n",
       "      <td>11</td>\n",
       "      <td>7034.976</td>\n",
       "      <td>1</td>\n",
       "      <td>0</td>\n",
       "      <td>1</td>\n",
       "      <td>7</td>\n",
       "      <td>B</td>\n",
       "    </tr>\n",
       "    <tr>\n",
       "      <th>4968</th>\n",
       "      <td>2</td>\n",
       "      <td>7295.000</td>\n",
       "      <td>1</td>\n",
       "      <td>0</td>\n",
       "      <td>0</td>\n",
       "      <td>9</td>\n",
       "      <td>A</td>\n",
       "    </tr>\n",
       "    <tr>\n",
       "      <th>4972</th>\n",
       "      <td>7</td>\n",
       "      <td>7320.000</td>\n",
       "      <td>1</td>\n",
       "      <td>0</td>\n",
       "      <td>1</td>\n",
       "      <td>2</td>\n",
       "      <td>A</td>\n",
       "    </tr>\n",
       "  </tbody>\n",
       "</table>\n",
       "<p>217 rows × 7 columns</p>\n",
       "</div>"
      ],
      "text/plain": [
       "      group_id  metric_value  users  visits  churn_users  churn_visits group\n",
       "27          15      5181.976      1       0            0             9     B\n",
       "53           2      5989.000      1       0            1             6     A\n",
       "71           8      8102.000      1       0            0             5     A\n",
       "89          16      7727.976      1       0            1             5     B\n",
       "161          5      8057.000      1       0            0             6     A\n",
       "...        ...           ...    ...     ...          ...           ...   ...\n",
       "4915         8      7650.000      1       0            1             7     A\n",
       "4924         8      5538.000      1       0            0             9     A\n",
       "4960        11      7034.976      1       0            1             7     B\n",
       "4968         2      7295.000      1       0            0             9     A\n",
       "4972         7      7320.000      1       0            1             2     A\n",
       "\n",
       "[217 rows x 7 columns]"
      ]
     },
     "execution_count": 5,
     "metadata": {},
     "output_type": "execute_result"
    }
   ],
   "source": [
    "df_by_users.loc[(df_by_users['users'] == 1) & (df_by_users['visits'] == 0)]"
   ]
  },
  {
   "cell_type": "code",
   "execution_count": 6,
   "metadata": {
    "colab": {
     "base_uri": "https://localhost:8080/",
     "height": 49
    },
    "id": "CKxp2ax8thQP",
    "outputId": "333851f2-e729-4086-b733-7850dea72023"
   },
   "outputs": [
    {
     "data": {
      "text/html": [
       "<div>\n",
       "<style scoped>\n",
       "    .dataframe tbody tr th:only-of-type {\n",
       "        vertical-align: middle;\n",
       "    }\n",
       "\n",
       "    .dataframe tbody tr th {\n",
       "        vertical-align: top;\n",
       "    }\n",
       "\n",
       "    .dataframe thead th {\n",
       "        text-align: right;\n",
       "    }\n",
       "</style>\n",
       "<table border=\"1\" class=\"dataframe\">\n",
       "  <thead>\n",
       "    <tr style=\"text-align: right;\">\n",
       "      <th></th>\n",
       "      <th>group_id</th>\n",
       "      <th>metric_value</th>\n",
       "      <th>users</th>\n",
       "      <th>visits</th>\n",
       "      <th>churn_users</th>\n",
       "      <th>churn_visits</th>\n",
       "      <th>group</th>\n",
       "    </tr>\n",
       "  </thead>\n",
       "  <tbody>\n",
       "  </tbody>\n",
       "</table>\n",
       "</div>"
      ],
      "text/plain": [
       "Empty DataFrame\n",
       "Columns: [group_id, metric_value, users, visits, churn_users, churn_visits, group]\n",
       "Index: []"
      ]
     },
     "execution_count": 6,
     "metadata": {},
     "output_type": "execute_result"
    }
   ],
   "source": [
    "#Удаление строк с ошибками в данных\n",
    "df_by_users_drop = df_by_users.drop(df_by_users[(df_by_users['users'] == 1) & (df_by_users['visits'] == 0.0)].index)\n",
    "df_by_users_drop.loc[(df_by_users_drop['users'] == 1) & (df_by_users_drop['visits'] == 0)]"
   ]
  },
  {
   "cell_type": "markdown",
   "metadata": {
    "id": "K3ti1fsPtliQ"
   },
   "source": [
    "# 2.Проведите оценку равенства дисперсий исследуемых метрик в группах и исследуйте распределение на нормальность. Какими критериями вы воспользовались и почему?"
   ]
  },
  {
   "cell_type": "code",
   "execution_count": 7,
   "metadata": {
    "colab": {
     "base_uri": "https://localhost:8080/",
     "height": 267
    },
    "id": "bpbr9jhFtprf",
    "outputId": "f936e429-85ef-4af1-d0c1-826702596c03"
   },
   "outputs": [
    {
     "data": {
      "text/html": [
       "<div>\n",
       "<style scoped>\n",
       "    .dataframe tbody tr th:only-of-type {\n",
       "        vertical-align: middle;\n",
       "    }\n",
       "\n",
       "    .dataframe tbody tr th {\n",
       "        vertical-align: top;\n",
       "    }\n",
       "\n",
       "    .dataframe thead th {\n",
       "        text-align: right;\n",
       "    }\n",
       "</style>\n",
       "<table border=\"1\" class=\"dataframe\">\n",
       "  <thead>\n",
       "    <tr style=\"text-align: right;\">\n",
       "      <th></th>\n",
       "      <th>group_id</th>\n",
       "      <th>metric_value</th>\n",
       "      <th>users</th>\n",
       "      <th>visits</th>\n",
       "      <th>churn_users</th>\n",
       "      <th>churn_visits</th>\n",
       "      <th>group</th>\n",
       "    </tr>\n",
       "  </thead>\n",
       "  <tbody>\n",
       "    <tr>\n",
       "      <th>0</th>\n",
       "      <td>8</td>\n",
       "      <td>6630.0</td>\n",
       "      <td>0</td>\n",
       "      <td>0</td>\n",
       "      <td>0</td>\n",
       "      <td>8</td>\n",
       "      <td>A</td>\n",
       "    </tr>\n",
       "    <tr>\n",
       "      <th>3</th>\n",
       "      <td>4</td>\n",
       "      <td>5522.0</td>\n",
       "      <td>1</td>\n",
       "      <td>9</td>\n",
       "      <td>1</td>\n",
       "      <td>7</td>\n",
       "      <td>A</td>\n",
       "    </tr>\n",
       "    <tr>\n",
       "      <th>5</th>\n",
       "      <td>2</td>\n",
       "      <td>8539.0</td>\n",
       "      <td>0</td>\n",
       "      <td>0</td>\n",
       "      <td>0</td>\n",
       "      <td>8</td>\n",
       "      <td>A</td>\n",
       "    </tr>\n",
       "  </tbody>\n",
       "</table>\n",
       "</div>"
      ],
      "text/plain": [
       "   group_id  metric_value  users  visits  churn_users  churn_visits group\n",
       "0         8        6630.0      0       0            0             8     A\n",
       "3         4        5522.0      1       9            1             7     A\n",
       "5         2        8539.0      0       0            0             8     A"
      ]
     },
     "metadata": {},
     "output_type": "display_data"
    },
    {
     "data": {
      "text/html": [
       "<div>\n",
       "<style scoped>\n",
       "    .dataframe tbody tr th:only-of-type {\n",
       "        vertical-align: middle;\n",
       "    }\n",
       "\n",
       "    .dataframe tbody tr th {\n",
       "        vertical-align: top;\n",
       "    }\n",
       "\n",
       "    .dataframe thead th {\n",
       "        text-align: right;\n",
       "    }\n",
       "</style>\n",
       "<table border=\"1\" class=\"dataframe\">\n",
       "  <thead>\n",
       "    <tr style=\"text-align: right;\">\n",
       "      <th></th>\n",
       "      <th>group_id</th>\n",
       "      <th>metric_value</th>\n",
       "      <th>users</th>\n",
       "      <th>visits</th>\n",
       "      <th>churn_users</th>\n",
       "      <th>churn_visits</th>\n",
       "      <th>group</th>\n",
       "    </tr>\n",
       "  </thead>\n",
       "  <tbody>\n",
       "    <tr>\n",
       "      <th>1</th>\n",
       "      <td>13</td>\n",
       "      <td>6933.976</td>\n",
       "      <td>0</td>\n",
       "      <td>0</td>\n",
       "      <td>1</td>\n",
       "      <td>6</td>\n",
       "      <td>B</td>\n",
       "    </tr>\n",
       "    <tr>\n",
       "      <th>2</th>\n",
       "      <td>10</td>\n",
       "      <td>8261.976</td>\n",
       "      <td>1</td>\n",
       "      <td>10</td>\n",
       "      <td>1</td>\n",
       "      <td>8</td>\n",
       "      <td>B</td>\n",
       "    </tr>\n",
       "    <tr>\n",
       "      <th>4</th>\n",
       "      <td>16</td>\n",
       "      <td>5075.976</td>\n",
       "      <td>1</td>\n",
       "      <td>6</td>\n",
       "      <td>0</td>\n",
       "      <td>8</td>\n",
       "      <td>B</td>\n",
       "    </tr>\n",
       "  </tbody>\n",
       "</table>\n",
       "</div>"
      ],
      "text/plain": [
       "   group_id  metric_value  users  visits  churn_users  churn_visits group\n",
       "1        13      6933.976      0       0            1             6     B\n",
       "2        10      8261.976      1      10            1             8     B\n",
       "4        16      5075.976      1       6            0             8     B"
      ]
     },
     "metadata": {},
     "output_type": "display_data"
    }
   ],
   "source": [
    "# Выборка группы А\n",
    "df_by_users_A = df_by_users_drop.loc[df_by_users_drop['group'] == 'A']\n",
    "display(df_by_users_A.head(3))\n",
    "# Выборка группы B\n",
    "df_by_users_B = df_by_users_drop.loc[df_by_users_drop['group'] == 'B']\n",
    "display(df_by_users_B.head(3))"
   ]
  },
  {
   "cell_type": "code",
   "execution_count": 8,
   "metadata": {
    "colab": {
     "base_uri": "https://localhost:8080/"
    },
    "id": "Vj2XXP1XtvVX",
    "outputId": "1cbd0eac-8657-4e2b-8203-54c475dc1809"
   },
   "outputs": [
    {
     "data": {
      "text/plain": [
       "ShapiroResult(statistic=0.9952249526977539, pvalue=7.64896753935318e-07)"
      ]
     },
     "execution_count": 8,
     "metadata": {},
     "output_type": "execute_result"
    }
   ],
   "source": [
    "# Исследование распределения на нормальность\n",
    "# The Shapiro-Wilk test tests the null hypothesis that the data was drawn from a normal distribution\n",
    "\n",
    "import numpy as np\n",
    "from scipy.stats import shapiro\n",
    "st = shapiro(df_by_users_A['metric_value'])\n",
    "st"
   ]
  },
  {
   "cell_type": "code",
   "execution_count": 9,
   "metadata": {
    "colab": {
     "base_uri": "https://localhost:8080/"
    },
    "id": "e262NcRetzMf",
    "outputId": "b43e8a0a-b541-4bff-fc6b-f1ab68dfd3bf"
   },
   "outputs": [
    {
     "data": {
      "text/plain": [
       "ShapiroResult(statistic=0.9923033118247986, pvalue=4.5258774505896326e-10)"
      ]
     },
     "execution_count": 9,
     "metadata": {},
     "output_type": "execute_result"
    }
   ],
   "source": [
    "st = shapiro(df_by_users_B['metric_value'])\n",
    "st"
   ]
  },
  {
   "cell_type": "markdown",
   "metadata": {
    "id": "M70l1mKct2fw"
   },
   "source": [
    "Для групп A и B распределение metric_value не является нормальным на всех стандартных уровнях значимости. Отсюда следует, что для тестирования равенства дисперсий необходимо применять непараметрические методы или критерий Левене, который менее чувствительный к требованию нормальности распределения."
   ]
  },
  {
   "cell_type": "code",
   "execution_count": 10,
   "metadata": {
    "colab": {
     "base_uri": "https://localhost:8080/"
    },
    "id": "aGsQjqDJt6cP",
    "outputId": "db8b028d-147b-4089-f87a-3c755f74656e"
   },
   "outputs": [
    {
     "data": {
      "text/plain": [
       "1707.6117235182492"
      ]
     },
     "execution_count": 10,
     "metadata": {},
     "output_type": "execute_result"
    }
   ],
   "source": [
    "#Дисперсия для группы A\n",
    "df_by_users_A['metric_value'].std()"
   ]
  },
  {
   "cell_type": "code",
   "execution_count": 11,
   "metadata": {
    "colab": {
     "base_uri": "https://localhost:8080/"
    },
    "id": "gLCgcIzjt9hQ",
    "outputId": "2a0c2f64-70bf-4850-d418-d8187684bb4e"
   },
   "outputs": [
    {
     "data": {
      "text/plain": [
       "1706.4557993207295"
      ]
     },
     "execution_count": 11,
     "metadata": {},
     "output_type": "execute_result"
    }
   ],
   "source": [
    "#Дисперсия для группы B\n",
    "df_by_users_B['metric_value'].std()"
   ]
  },
  {
   "cell_type": "code",
   "execution_count": 12,
   "metadata": {
    "colab": {
     "base_uri": "https://localhost:8080/"
    },
    "id": "pjaCsX3RuAY3",
    "outputId": "7e5dd994-27af-4ab9-c9dd-4f6c5058eb01"
   },
   "outputs": [
    {
     "data": {
      "text/plain": [
       "LeveneResult(statistic=0.4248644903143499, pvalue=0.5145510162858905)"
      ]
     },
     "execution_count": 12,
     "metadata": {},
     "output_type": "execute_result"
    }
   ],
   "source": [
    "# Из параметрических наименее чувствительный к отклонению от нормального - тест Левене\n",
    "# The Levene test tests the null hypothesis that all input samples are from populations with equal variances.\n",
    "from scipy.stats import levene\n",
    "st = levene(df_by_users_A['metric_value'], df_by_users_B['metric_value'])\n",
    "st"
   ]
  },
  {
   "cell_type": "markdown",
   "metadata": {
    "id": "2heQHqbhuEQP"
   },
   "source": [
    "Нулевая гипотеза о равенсте дисперсий двух выборок не отвергается на всех стандартных уровнях значимости."
   ]
  },
  {
   "cell_type": "markdown",
   "metadata": {
    "id": "VhMXHmG8uIeB"
   },
   "source": [
    "# 3.Оцените статистическую значимость различий исследуемых метрик в выборках при помощи библиотеки bootstrapped"
   ]
  },
  {
   "cell_type": "code",
   "execution_count": 13,
   "metadata": {
    "colab": {
     "base_uri": "https://localhost:8080/"
    },
    "id": "O9ZSpBgnuXJf",
    "outputId": "a5c78ef6-71bb-40ee-800b-68ce8d2eda9a"
   },
   "outputs": [
    {
     "name": "stdout",
     "output_type": "stream",
     "text": [
      "Collecting bootstrapped\n",
      "  Downloading bootstrapped-0.0.2.tar.gz (11 kB)\n",
      "Requirement already satisfied: matplotlib>=1.5.3 in c:\\programdata\\anaconda3\\lib\\site-packages (from bootstrapped) (3.3.2)\n",
      "Requirement already satisfied: numpy>=1.11.1 in c:\\programdata\\anaconda3\\lib\\site-packages (from bootstrapped) (1.19.2)\n",
      "Requirement already satisfied: pandas>=0.18.1 in c:\\programdata\\anaconda3\\lib\\site-packages (from bootstrapped) (1.1.3)\n",
      "Requirement already satisfied: cycler>=0.10 in c:\\programdata\\anaconda3\\lib\\site-packages (from matplotlib>=1.5.3->bootstrapped) (0.10.0)\n",
      "Requirement already satisfied: kiwisolver>=1.0.1 in c:\\programdata\\anaconda3\\lib\\site-packages (from matplotlib>=1.5.3->bootstrapped) (1.3.0)\n",
      "Requirement already satisfied: pyparsing!=2.0.4,!=2.1.2,!=2.1.6,>=2.0.3 in c:\\programdata\\anaconda3\\lib\\site-packages (from matplotlib>=1.5.3->bootstrapped) (2.4.7)\n",
      "Requirement already satisfied: pillow>=6.2.0 in c:\\programdata\\anaconda3\\lib\\site-packages (from matplotlib>=1.5.3->bootstrapped) (8.0.1)\n",
      "Requirement already satisfied: certifi>=2020.06.20 in c:\\programdata\\anaconda3\\lib\\site-packages (from matplotlib>=1.5.3->bootstrapped) (2020.6.20)\n",
      "Requirement already satisfied: python-dateutil>=2.1 in c:\\programdata\\anaconda3\\lib\\site-packages (from matplotlib>=1.5.3->bootstrapped) (2.8.1)\n",
      "Requirement already satisfied: pytz>=2017.2 in c:\\programdata\\anaconda3\\lib\\site-packages (from pandas>=0.18.1->bootstrapped) (2020.1)\n",
      "Requirement already satisfied: six in c:\\programdata\\anaconda3\\lib\\site-packages (from cycler>=0.10->matplotlib>=1.5.3->bootstrapped) (1.15.0)\n",
      "Building wheels for collected packages: bootstrapped\n",
      "  Building wheel for bootstrapped (setup.py): started\n",
      "  Building wheel for bootstrapped (setup.py): finished with status 'done'\n",
      "  Created wheel for bootstrapped: filename=bootstrapped-0.0.2-py2.py3-none-any.whl size=13960 sha256=0ebfe584eb54b9f6d5e886302ff0cd390d255ebe39e924358cbf2afac31f5678\n",
      "  Stored in directory: c:\\users\\vanes\\appdata\\local\\pip\\cache\\wheels\\f8\\7f\\03\\05e24ae9c42b7583b5b4c458f6b0d53d23c2481e31b30a2fef\n",
      "Successfully built bootstrapped\n",
      "Installing collected packages: bootstrapped\n",
      "Successfully installed bootstrapped-0.0.2\n"
     ]
    }
   ],
   "source": [
    "!pip install bootstrapped"
   ]
  },
  {
   "cell_type": "code",
   "execution_count": 14,
   "metadata": {
    "id": "Ps8TsswVvP6v"
   },
   "outputs": [],
   "source": [
    "import matplotlib.pyplot as plt\n",
    "\n",
    "from bootstrapped import bootstrap as bs\n",
    "from bootstrapped import compare_functions as bs_compare\n",
    "from bootstrapped import stats_functions as bs_stats"
   ]
  },
  {
   "cell_type": "code",
   "execution_count": 15,
   "metadata": {
    "colab": {
     "base_uri": "https://localhost:8080/",
     "height": 320
    },
    "id": "v7UGgG6twGQX",
    "outputId": "9b92f0ff-7d9e-4389-a2f1-480951aafc77"
   },
   "outputs": [
    {
     "data": {
      "image/png": "[encoded data removed]",
      "text/plain": [
       "<Figure size 720x360 with 1 Axes>"
      ]
     },
     "metadata": {
      "needs_background": "light"
     },
     "output_type": "display_data"
    }
   ],
   "source": [
    "bs_a = bs.bootstrap(df_by_users_A['metric_value'].values, stat_func=bs_stats.mean, \n",
    "             num_iterations=5000, iteration_batch_size=50, \n",
    "             return_distribution=True)\n",
    "\n",
    "bs_b = bs.bootstrap(df_by_users_B['metric_value'].values, stat_func=bs_stats.mean, \n",
    "             num_iterations=5000, iteration_batch_size=50, \n",
    "             return_distribution=True)\n",
    "\n",
    "plt.figure(figsize=(10,5))\n",
    "plt.hist([bs_a, bs_b], bins = 100, label=['Group a', 'Group b'])\n",
    "plt.legend(loc='upper left')\n",
    "plt.show()"
   ]
  },
  {
   "cell_type": "code",
   "execution_count": 16,
   "metadata": {
    "colab": {
     "base_uri": "https://localhost:8080/"
    },
    "id": "9Dcl8smKxZQv",
    "outputId": "1e3819f8-1abc-4f42-fae6-91beb2f2470c"
   },
   "outputs": [
    {
     "data": {
      "text/plain": [
       "ShapiroResult(statistic=0.9995309710502625, pvalue=0.26472270488739014)"
      ]
     },
     "execution_count": 16,
     "metadata": {},
     "output_type": "execute_result"
    }
   ],
   "source": [
    "st = shapiro(bs_a)\n",
    "st"
   ]
  },
  {
   "cell_type": "code",
   "execution_count": 17,
   "metadata": {
    "colab": {
     "base_uri": "https://localhost:8080/"
    },
    "id": "mFUoI9q5xr8n",
    "outputId": "84c031e5-28ce-4324-86a5-8ec100b07801"
   },
   "outputs": [
    {
     "data": {
      "text/plain": [
       "ShapiroResult(statistic=0.9995546340942383, pvalue=0.3109321594238281)"
      ]
     },
     "execution_count": 17,
     "metadata": {},
     "output_type": "execute_result"
    }
   ],
   "source": [
    "st = shapiro(bs_b)\n",
    "st"
   ]
  },
  {
   "cell_type": "markdown",
   "metadata": {
    "id": "NAwqgCs1x4UP"
   },
   "source": [
    "Для групп A и B распределение является нормальным на всех стандартных уровнях значимости. Отсюда следует, что для тестирования равенства средних можно применять параметрические методы."
   ]
  },
  {
   "cell_type": "code",
   "execution_count": 18,
   "metadata": {
    "colab": {
     "base_uri": "https://localhost:8080/"
    },
    "id": "v0KelDQZyBcf",
    "outputId": "64bbd7df-3c2c-4177-a8bf-118776083a39"
   },
   "outputs": [
    {
     "data": {
      "text/plain": [
       "Ttest_indResult(statistic=-616.5689870120217, pvalue=0.0)"
      ]
     },
     "execution_count": 18,
     "metadata": {},
     "output_type": "execute_result"
    }
   ],
   "source": [
    "from scipy.stats import ttest_ind\n",
    "\n",
    "# This is a two-sided test for the null hypothesis that 2 independent samples have identical average (expected) values.\n",
    "\n",
    "st = ttest_ind(bs_a, bs_b)\n",
    "st"
   ]
  },
  {
   "cell_type": "markdown",
   "metadata": {
    "id": "d4oNFvuS6I26"
   },
   "source": [
    "На всех стандартных уровнях значимости нулевая гипотеза отвергается, metric value для группы Б увеличилось по сравнению с группой А"
   ]
  },
  {
   "cell_type": "markdown",
   "metadata": {
    "id": "28OFaRbIugwP"
   },
   "source": [
    "# 4.Изобразите гистограммы и диаграммы размаха."
   ]
  },
  {
   "cell_type": "markdown",
   "metadata": {
    "id": "IifUs1WZyeDg"
   },
   "source": [
    "Без применения Bootstrapped"
   ]
  },
  {
   "cell_type": "code",
   "execution_count": 19,
   "metadata": {
    "colab": {
     "base_uri": "https://localhost:8080/",
     "height": 296
    },
    "id": "jkFssdpnulHX",
    "outputId": "74d52757-e319-4fb7-eb44-f181d67b35a3"
   },
   "outputs": [
    {
     "data": {
      "text/plain": [
       "<AxesSubplot:xlabel='group', ylabel='metric_value'>"
      ]
     },
     "execution_count": 19,
     "metadata": {},
     "output_type": "execute_result"
    },
    {
     "data": {
      "image/png": "[encoded data removed]",
      "text/plain": [
       "<Figure size 432x288 with 1 Axes>"
      ]
     },
     "metadata": {
      "needs_background": "light"
     },
     "output_type": "display_data"
    }
   ],
   "source": [
    "import seaborn as sns\n",
    "sns.boxplot(y='metric_value', x='group', data = df_by_users_drop)"
   ]
  },
  {
   "cell_type": "code",
   "execution_count": 20,
   "metadata": {
    "colab": {
     "base_uri": "https://localhost:8080/",
     "height": 297
    },
    "id": "0IjjOq0GunvH",
    "outputId": "f2008f55-ffba-471c-a84c-a26479e033b5"
   },
   "outputs": [
    {
     "data": {
      "text/plain": [
       "<AxesSubplot:xlabel='metric_value', ylabel='Density'>"
      ]
     },
     "execution_count": 20,
     "metadata": {},
     "output_type": "execute_result"
    },
    {
     "data": {
      "image/png": "[encoded data removed]",
      "text/plain": [
       "<Figure size 432x288 with 1 Axes>"
      ]
     },
     "metadata": {
      "needs_background": "light"
     },
     "output_type": "display_data"
    }
   ],
   "source": [
    "sns.kdeplot(data=df_by_users_drop, x=\"metric_value\", hue=\"group\")"
   ]
  },
  {
   "cell_type": "markdown",
   "metadata": {
    "id": "dP375EETyjQH"
   },
   "source": [
    "С применением Bootstrapped"
   ]
  },
  {
   "cell_type": "code",
   "execution_count": 21,
   "metadata": {
    "colab": {
     "base_uri": "https://localhost:8080/",
     "height": 323
    },
    "id": "gQF22xDvy1kh",
    "outputId": "df5c495e-9715-47a1-96d2-dc0740eb7a20"
   },
   "outputs": [
    {
     "data": {
      "image/png": "[encoded data removed]",
      "text/plain": [
       "<Figure size 720x360 with 1 Axes>"
      ]
     },
     "metadata": {
      "needs_background": "light"
     },
     "output_type": "display_data"
    }
   ],
   "source": [
    "plt.figure(figsize=(10,5))\n",
    "plt.boxplot([bs_a, bs_b])\n",
    "x = np.arange(1,3)\n",
    "plt.xticks(x, ('GROUP A', 'GROUP B'))\n",
    "plt.show()"
   ]
  },
  {
   "cell_type": "code",
   "execution_count": 22,
   "metadata": {
    "colab": {
     "base_uri": "https://localhost:8080/",
     "height": 320
    },
    "id": "lrCZZLJXypMP",
    "outputId": "0852cdca-3186-4bb1-de58-245b0b79aa35"
   },
   "outputs": [
    {
     "data": {
      "image/png": "[encoded data removed]",
      "text/plain": [
       "<Figure size 720x360 with 1 Axes>"
      ]
     },
     "metadata": {
      "needs_background": "light"
     },
     "output_type": "display_data"
    }
   ],
   "source": [
    "plt.figure(figsize=(10,5))\n",
    "plt.hist([bs_a, bs_b], bins = 100, label=['Group a', 'Group b'])\n",
    "plt.legend(loc='upper left')\n",
    "plt.show()"
   ]
  }
 ],
 "metadata": {
  "colab": {
   "collapsed_sections": [],
   "name": "ДЗ 8.ipynb",
   "provenance": []
  },
  "kernelspec": {
   "display_name": "Python 3",
   "language": "python",
   "name": "python3"
  },
  "language_info": {
   "codemirror_mode": {
    "name": "ipython",
    "version": 3
   },
   "file_extension": ".py",
   "mimetype": "text/x-python",
   "name": "python",
   "nbconvert_exporter": "python",
   "pygments_lexer": "ipython3",
   "version": "3.8.5"
  }
 },
 "nbformat": 4,
 "nbformat_minor": 1
}
