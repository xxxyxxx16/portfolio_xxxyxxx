{
 "cells": [
  {
   "cell_type": "markdown",
   "metadata": {},
   "source": [
    "# 1. Эксперимент #"
   ]
  },
  {
   "cell_type": "markdown",
   "metadata": {},
   "source": [
    "## Блок нейтронной физики ##"
   ]
  },
  {
   "cell_type": "code",
   "execution_count": 1,
   "metadata": {},
   "outputs": [],
   "source": [
    "import pandas as pd\n",
    "import random as rd\n",
    "import math as math\n",
    "import scipy.constants as const # Модуль физико-математических констант\n",
    "\n",
    "# отключим предупреждения Anaconda\n",
    "import warnings\n",
    "warnings.simplefilter('ignore')\n",
    "\n",
    "N_A = const.Avogadro"
   ]
  },
  {
   "cell_type": "markdown",
   "metadata": {},
   "source": [
    "### Функция жизни нейтрона: ###"
   ]
  },
  {
   "cell_type": "code",
   "execution_count": 2,
   "metadata": {},
   "outputs": [],
   "source": [
    "# Для одинаковой генерации данных\n",
    "rd.seed(42)\n",
    "\n",
    "def life_of_neutron(Ein, Eout, dens, A1, A2, Mol_m, Sigma, alpha_1, alpha_2, sigma_1, sigma_2, x1, x2):\n",
    "    \n",
    "    Energy = Ein\n",
    "    colision = 0 # Число столкновений\n",
    "    time = 0 # Время полета\n",
    "    a = 0 # Угол полета\n",
    "    b = 0 # Изменение угла полета\n",
    "    l = 0 # Длина пролета\n",
    "    V = 0 # Скорость\n",
    "    elder = 0 #Возраст\n",
    "    while Energy > Eout: #Пока энергия нейтрона лежит в области > ... ЭВ\n",
    "        l = -1*math.log(rd.random())/Sigma/100 # В метрах\n",
    "        V = (2*Energy*1.6*(10**(-19))/(1.6749*10**(-27)))**0.5 # В м/с\n",
    "        time += l/V\n",
    "        colision += 1\n",
    "        \n",
    "        #Разыгрывание на каком ядре произошло рассеяние\n",
    "        x = rd.random()\n",
    "        if x < (x1*sigma_1/(x1*sigma_1 + x2*sigma_2)):# Рассеяние на первом ядре\n",
    "            E1 = Energy\n",
    "            E2 = Energy*alpha_1\n",
    "            Energy = rd.uniform(E1, E2)\n",
    "            b = math.acos\n",
    "\n",
    "            \n",
    "        else:# Рассеяние на втором ядре\n",
    "            E1 = Energy\n",
    "            E2 = Energy*alpha_2\n",
    "            Energy = rd.uniform(E1, E2)\n",
    "\n",
    "    return colision, time"
   ]
  },
  {
   "cell_type": "markdown",
   "metadata": {},
   "source": [
    "### Входные данные по материалам: ###"
   ]
  },
  {
   "cell_type": "code",
   "execution_count": 3,
   "metadata": {},
   "outputs": [
    {
     "data": {
      "text/html": [
       "<div>\n",
       "<style scoped>\n",
       "    .dataframe tbody tr th:only-of-type {\n",
       "        vertical-align: middle;\n",
       "    }\n",
       "\n",
       "    .dataframe tbody tr th {\n",
       "        vertical-align: top;\n",
       "    }\n",
       "\n",
       "    .dataframe thead th {\n",
       "        text-align: right;\n",
       "    }\n",
       "</style>\n",
       "<table border=\"1\" class=\"dataframe\">\n",
       "  <thead>\n",
       "    <tr style=\"text-align: right;\">\n",
       "      <th></th>\n",
       "      <th>Material</th>\n",
       "      <th>Density_g/cm^3</th>\n",
       "      <th>A_1</th>\n",
       "      <th>A_2</th>\n",
       "      <th>Molar_mass_g/mol</th>\n",
       "      <th>Chemical_formula</th>\n",
       "      <th>sigma_1_b</th>\n",
       "      <th>sigma_2_b</th>\n",
       "      <th>x1</th>\n",
       "      <th>x2</th>\n",
       "    </tr>\n",
       "  </thead>\n",
       "  <tbody>\n",
       "    <tr>\n",
       "      <th>0</th>\n",
       "      <td>Water</td>\n",
       "      <td>1.0</td>\n",
       "      <td>1</td>\n",
       "      <td>16</td>\n",
       "      <td>18</td>\n",
       "      <td>H2O</td>\n",
       "      <td>30.0</td>\n",
       "      <td>4.0</td>\n",
       "      <td>2</td>\n",
       "      <td>1</td>\n",
       "    </tr>\n",
       "    <tr>\n",
       "      <th>1</th>\n",
       "      <td>Heavy Plexiglass</td>\n",
       "      <td>1.6</td>\n",
       "      <td>12</td>\n",
       "      <td>2</td>\n",
       "      <td>28</td>\n",
       "      <td>C2D2</td>\n",
       "      <td>4.9</td>\n",
       "      <td>3.5</td>\n",
       "      <td>2</td>\n",
       "      <td>2</td>\n",
       "    </tr>\n",
       "    <tr>\n",
       "      <th>2</th>\n",
       "      <td>Heavy Water</td>\n",
       "      <td>1.1</td>\n",
       "      <td>2</td>\n",
       "      <td>16</td>\n",
       "      <td>20</td>\n",
       "      <td>D2O</td>\n",
       "      <td>3.5</td>\n",
       "      <td>4.0</td>\n",
       "      <td>2</td>\n",
       "      <td>1</td>\n",
       "    </tr>\n",
       "  </tbody>\n",
       "</table>\n",
       "</div>"
      ],
      "text/plain": [
       "           Material  Density_g/cm^3  A_1  A_2  Molar_mass_g/mol  \\\n",
       "0             Water             1.0    1   16                18   \n",
       "1  Heavy Plexiglass             1.6   12    2                28   \n",
       "2       Heavy Water             1.1    2   16                20   \n",
       "\n",
       "  Chemical_formula  sigma_1_b  sigma_2_b  x1  x2  \n",
       "0              H2O       30.0        4.0   2   1  \n",
       "1             C2D2        4.9        3.5   2   2  \n",
       "2              D2O        3.5        4.0   2   1  "
      ]
     },
     "execution_count": 3,
     "metadata": {},
     "output_type": "execute_result"
    }
   ],
   "source": [
    "df = pd.DataFrame({'Material': ['Water', 'Heavy Plexiglass', 'Heavy Water'],\n",
    "                   'Density_g/cm^3': [1.0, 1.6, 1.1],\n",
    "                    'A_1' : [1, 12, 2],\n",
    "                    'A_2' : [16, 2, 16],\n",
    "                    'Molar_mass_g/mol' : [18, 28, 20],\n",
    "                    'Chemical_formula' : ['H2O', 'C2D2', 'D2O'],\n",
    "                    'sigma_1_b' : [30.0, 4.9, 3.5],\n",
    "                    'sigma_2_b' : [4.0, 3.5, 4.0],\n",
    "                    'x1' : [2, 2, 2],\n",
    "                    'x2' : [1, 2, 1],\n",
    "                    \n",
    "              })\n",
    "\n",
    "df"
   ]
  },
  {
   "cell_type": "markdown",
   "metadata": {},
   "source": [
    "### Расчет макросечения: ###"
   ]
  },
  {
   "cell_type": "code",
   "execution_count": 4,
   "metadata": {},
   "outputs": [
    {
     "data": {
      "text/html": [
       "<div>\n",
       "<style scoped>\n",
       "    .dataframe tbody tr th:only-of-type {\n",
       "        vertical-align: middle;\n",
       "    }\n",
       "\n",
       "    .dataframe tbody tr th {\n",
       "        vertical-align: top;\n",
       "    }\n",
       "\n",
       "    .dataframe thead th {\n",
       "        text-align: right;\n",
       "    }\n",
       "</style>\n",
       "<table border=\"1\" class=\"dataframe\">\n",
       "  <thead>\n",
       "    <tr style=\"text-align: right;\">\n",
       "      <th></th>\n",
       "      <th>Material</th>\n",
       "      <th>Density_g/cm^3</th>\n",
       "      <th>A_1</th>\n",
       "      <th>A_2</th>\n",
       "      <th>Molar_mass_g/mol</th>\n",
       "      <th>Chemical_formula</th>\n",
       "      <th>sigma_1_b</th>\n",
       "      <th>sigma_2_b</th>\n",
       "      <th>x1</th>\n",
       "      <th>x2</th>\n",
       "      <th>Σ,_1/cm</th>\n",
       "    </tr>\n",
       "  </thead>\n",
       "  <tbody>\n",
       "    <tr>\n",
       "      <th>0</th>\n",
       "      <td>Water</td>\n",
       "      <td>1.0</td>\n",
       "      <td>1</td>\n",
       "      <td>16</td>\n",
       "      <td>18</td>\n",
       "      <td>H2O</td>\n",
       "      <td>30.0</td>\n",
       "      <td>4.0</td>\n",
       "      <td>2</td>\n",
       "      <td>1</td>\n",
       "      <td>2.141206</td>\n",
       "    </tr>\n",
       "    <tr>\n",
       "      <th>1</th>\n",
       "      <td>Heavy Plexiglass</td>\n",
       "      <td>1.6</td>\n",
       "      <td>12</td>\n",
       "      <td>2</td>\n",
       "      <td>28</td>\n",
       "      <td>C2D2</td>\n",
       "      <td>4.9</td>\n",
       "      <td>3.5</td>\n",
       "      <td>2</td>\n",
       "      <td>2</td>\n",
       "      <td>0.578126</td>\n",
       "    </tr>\n",
       "    <tr>\n",
       "      <th>2</th>\n",
       "      <td>Heavy Water</td>\n",
       "      <td>1.1</td>\n",
       "      <td>2</td>\n",
       "      <td>16</td>\n",
       "      <td>20</td>\n",
       "      <td>D2O</td>\n",
       "      <td>3.5</td>\n",
       "      <td>4.0</td>\n",
       "      <td>2</td>\n",
       "      <td>1</td>\n",
       "      <td>0.364340</td>\n",
       "    </tr>\n",
       "  </tbody>\n",
       "</table>\n",
       "</div>"
      ],
      "text/plain": [
       "           Material  Density_g/cm^3  A_1  A_2  Molar_mass_g/mol  \\\n",
       "0             Water             1.0    1   16                18   \n",
       "1  Heavy Plexiglass             1.6   12    2                28   \n",
       "2       Heavy Water             1.1    2   16                20   \n",
       "\n",
       "  Chemical_formula  sigma_1_b  sigma_2_b  x1  x2   Σ,_1/cm  \n",
       "0              H2O       30.0        4.0   2   1  2.141206  \n",
       "1             C2D2        4.9        3.5   2   2  0.578126  \n",
       "2              D2O        3.5        4.0   2   1  0.364340  "
      ]
     },
     "metadata": {},
     "output_type": "display_data"
    }
   ],
   "source": [
    "df['\\u03A3,_1/cm'] = 0.0\n",
    "for k in df.index:\n",
    "    df['Σ,_1/cm'][k] = (df['x1'][k]*df['sigma_1_b'][k]+df['x2'][k]*df['sigma_2_b'][k]\n",
    "                       )*N_A*df['Density_g/cm^3'][k]/df['Molar_mass_g/mol'][k]/10**(24)\n",
    "display(df)"
   ]
  },
  {
   "cell_type": "markdown",
   "metadata": {},
   "source": [
    "### Расчет ступеньки замедления: ###"
   ]
  },
  {
   "cell_type": "code",
   "execution_count": 5,
   "metadata": {},
   "outputs": [
    {
     "data": {
      "text/html": [
       "<div>\n",
       "<style scoped>\n",
       "    .dataframe tbody tr th:only-of-type {\n",
       "        vertical-align: middle;\n",
       "    }\n",
       "\n",
       "    .dataframe tbody tr th {\n",
       "        vertical-align: top;\n",
       "    }\n",
       "\n",
       "    .dataframe thead th {\n",
       "        text-align: right;\n",
       "    }\n",
       "</style>\n",
       "<table border=\"1\" class=\"dataframe\">\n",
       "  <thead>\n",
       "    <tr style=\"text-align: right;\">\n",
       "      <th></th>\n",
       "      <th>Material</th>\n",
       "      <th>Density_g/cm^3</th>\n",
       "      <th>A_1</th>\n",
       "      <th>A_2</th>\n",
       "      <th>Molar_mass_g/mol</th>\n",
       "      <th>Chemical_formula</th>\n",
       "      <th>sigma_1_b</th>\n",
       "      <th>sigma_2_b</th>\n",
       "      <th>x1</th>\n",
       "      <th>x2</th>\n",
       "      <th>Σ,_1/cm</th>\n",
       "      <th>ɑ_1</th>\n",
       "      <th>ɑ_2</th>\n",
       "    </tr>\n",
       "  </thead>\n",
       "  <tbody>\n",
       "    <tr>\n",
       "      <th>0</th>\n",
       "      <td>Water</td>\n",
       "      <td>1.0</td>\n",
       "      <td>1</td>\n",
       "      <td>16</td>\n",
       "      <td>18</td>\n",
       "      <td>H2O</td>\n",
       "      <td>30.0</td>\n",
       "      <td>4.0</td>\n",
       "      <td>2</td>\n",
       "      <td>1</td>\n",
       "      <td>2.141206</td>\n",
       "      <td>0.000000</td>\n",
       "      <td>0.778547</td>\n",
       "    </tr>\n",
       "    <tr>\n",
       "      <th>1</th>\n",
       "      <td>Heavy Plexiglass</td>\n",
       "      <td>1.6</td>\n",
       "      <td>12</td>\n",
       "      <td>2</td>\n",
       "      <td>28</td>\n",
       "      <td>C2D2</td>\n",
       "      <td>4.9</td>\n",
       "      <td>3.5</td>\n",
       "      <td>2</td>\n",
       "      <td>2</td>\n",
       "      <td>0.578126</td>\n",
       "      <td>0.715976</td>\n",
       "      <td>0.111111</td>\n",
       "    </tr>\n",
       "    <tr>\n",
       "      <th>2</th>\n",
       "      <td>Heavy Water</td>\n",
       "      <td>1.1</td>\n",
       "      <td>2</td>\n",
       "      <td>16</td>\n",
       "      <td>20</td>\n",
       "      <td>D2O</td>\n",
       "      <td>3.5</td>\n",
       "      <td>4.0</td>\n",
       "      <td>2</td>\n",
       "      <td>1</td>\n",
       "      <td>0.364340</td>\n",
       "      <td>0.111111</td>\n",
       "      <td>0.778547</td>\n",
       "    </tr>\n",
       "  </tbody>\n",
       "</table>\n",
       "</div>"
      ],
      "text/plain": [
       "           Material  Density_g/cm^3  A_1  A_2  Molar_mass_g/mol  \\\n",
       "0             Water             1.0    1   16                18   \n",
       "1  Heavy Plexiglass             1.6   12    2                28   \n",
       "2       Heavy Water             1.1    2   16                20   \n",
       "\n",
       "  Chemical_formula  sigma_1_b  sigma_2_b  x1  x2   Σ,_1/cm       ɑ_1       ɑ_2  \n",
       "0              H2O       30.0        4.0   2   1  2.141206  0.000000  0.778547  \n",
       "1             C2D2        4.9        3.5   2   2  0.578126  0.715976  0.111111  \n",
       "2              D2O        3.5        4.0   2   1  0.364340  0.111111  0.778547  "
      ]
     },
     "metadata": {},
     "output_type": "display_data"
    }
   ],
   "source": [
    "df['\\u0251_1'] = 0.0\n",
    "df['\\u0251_2'] = 0.0\n",
    "for k in df.index:\n",
    "    df['\\u0251_1'][k] = ((df['A_1'][k]-1)/(df['A_1'][k]+1))**2\n",
    "    df['\\u0251_2'][k] = ((df['A_2'][k]-1)/(df['A_2'][k]+1))**2\n",
    "display(df)"
   ]
  },
  {
   "cell_type": "markdown",
   "metadata": {},
   "source": [
    "### Создание DataFrame для записи данных ###"
   ]
  },
  {
   "cell_type": "code",
   "execution_count": 6,
   "metadata": {},
   "outputs": [
    {
     "data": {
      "text/html": [
       "<div>\n",
       "<style scoped>\n",
       "    .dataframe tbody tr th:only-of-type {\n",
       "        vertical-align: middle;\n",
       "    }\n",
       "\n",
       "    .dataframe tbody tr th {\n",
       "        vertical-align: top;\n",
       "    }\n",
       "\n",
       "    .dataframe thead th {\n",
       "        text-align: right;\n",
       "    }\n",
       "</style>\n",
       "<table border=\"1\" class=\"dataframe\">\n",
       "  <thead>\n",
       "    <tr style=\"text-align: right;\">\n",
       "      <th></th>\n",
       "      <th>Time</th>\n",
       "      <th>Colisions</th>\n",
       "      <th>Material</th>\n",
       "      <th>Target</th>\n",
       "    </tr>\n",
       "  </thead>\n",
       "  <tbody>\n",
       "  </tbody>\n",
       "</table>\n",
       "</div>"
      ],
      "text/plain": [
       "Empty DataFrame\n",
       "Columns: [Time, Colisions, Material, Target]\n",
       "Index: []"
      ]
     },
     "execution_count": 6,
     "metadata": {},
     "output_type": "execute_result"
    }
   ],
   "source": [
    "df1 = pd.DataFrame({'Time': [],\n",
    "                   'Colisions': [],\n",
    "                    'Material' : [],\n",
    "                    'Target' : [] \n",
    "              })\n",
    "df1"
   ]
  },
  {
   "cell_type": "markdown",
   "metadata": {},
   "source": [
    "### Эксперимент методом Монте-Карло ###"
   ]
  },
  {
   "cell_type": "code",
   "execution_count": 7,
   "metadata": {},
   "outputs": [
    {
     "name": "stdout",
     "output_type": "stream",
     "text": [
      "Water\n",
      "15.643333333333333\n",
      "6.787573276044247e-07\n",
      "Heavy Plexiglass\n",
      "35.90833333333333\n",
      "6.268212392367504e-06\n",
      "Heavy Water\n",
      "28.513333333333335\n",
      "7.811704616661977e-06\n"
     ]
    }
   ],
   "source": [
    "Estart = 1_000_000 #1Мэв\n",
    "Eend = 1 #1 Эв\n",
    "Colision = [0, 0, 0, 0]\n",
    "Time = [0, 0, 0, 0]\n",
    "number_of_event = 300\n",
    "counter = 0 # Счетчик для записи в DataFrame\n",
    "for k in df.index: #Цикл по материалам\n",
    "    for i in range(0, number_of_event*(k+1)): #Колличество событий для каждого материала\n",
    "        colision, time = life_of_neutron(Estart, Eend, df['Density_g/cm^3'][k],\n",
    "                                          df['A_1'][k], df['A_2'][k],\n",
    "                                          df['Molar_mass_g/mol'][k], df['Σ,_1/cm'][k],\n",
    "                                          df['ɑ_1'][k], df['ɑ_2'][k],\n",
    "                                          df['sigma_1_b'][k], df['sigma_2_b'][k],\n",
    "                                          df['x1'][k], df['x2'][k],)\n",
    "        df1.loc[counter] = {'Material': df['Material'][k], 'Time': time, 'Colisions': colision, 'Target': k}\n",
    "        Colision[k]+=colision\n",
    "        Time[k]+=time\n",
    "        counter+=1\n",
    "\n",
    "\n",
    "for k in df.index:\n",
    "    Colision[k] = Colision[k]/number_of_event/(k+1)\n",
    "    Time[k] = Time[k]/number_of_event/(k+1)\n",
    "    \n",
    "for k in df.index:\n",
    "    print(df['Material'][k])\n",
    "    print(Colision[k])\n",
    "    print(Time[k])"
   ]
  },
  {
   "cell_type": "markdown",
   "metadata": {},
   "source": [
    "# 2. SQL vs Pandas"
   ]
  },
  {
   "cell_type": "markdown",
   "metadata": {},
   "source": [
    "## 2.1 Подключение к данным, CREATE TABLE, INSERT, выгрузка данных"
   ]
  },
  {
   "cell_type": "markdown",
   "metadata": {},
   "source": [
    "### 2.1.1 Подключение к данным Pandas"
   ]
  },
  {
   "cell_type": "code",
   "execution_count": 8,
   "metadata": {},
   "outputs": [
    {
     "data": {
      "text/html": [
       "<div>\n",
       "<style scoped>\n",
       "    .dataframe tbody tr th:only-of-type {\n",
       "        vertical-align: middle;\n",
       "    }\n",
       "\n",
       "    .dataframe tbody tr th {\n",
       "        vertical-align: top;\n",
       "    }\n",
       "\n",
       "    .dataframe thead th {\n",
       "        text-align: right;\n",
       "    }\n",
       "</style>\n",
       "<table border=\"1\" class=\"dataframe\">\n",
       "  <thead>\n",
       "    <tr style=\"text-align: right;\">\n",
       "      <th></th>\n",
       "      <th>Material</th>\n",
       "      <th>Density_g/cm^3</th>\n",
       "      <th>A_1</th>\n",
       "      <th>A_2</th>\n",
       "      <th>Molar_mass_g/mol</th>\n",
       "      <th>Chemical_formula</th>\n",
       "      <th>sigma_1_b</th>\n",
       "      <th>sigma_2_b</th>\n",
       "      <th>x1</th>\n",
       "      <th>x2</th>\n",
       "      <th>Σ,_1/cm</th>\n",
       "      <th>ɑ_1</th>\n",
       "      <th>ɑ_2</th>\n",
       "    </tr>\n",
       "  </thead>\n",
       "  <tbody>\n",
       "    <tr>\n",
       "      <th>0</th>\n",
       "      <td>Water</td>\n",
       "      <td>1.0</td>\n",
       "      <td>1</td>\n",
       "      <td>16</td>\n",
       "      <td>18</td>\n",
       "      <td>H2O</td>\n",
       "      <td>30.0</td>\n",
       "      <td>4.0</td>\n",
       "      <td>2</td>\n",
       "      <td>1</td>\n",
       "      <td>2.141206</td>\n",
       "      <td>0.000000</td>\n",
       "      <td>0.778547</td>\n",
       "    </tr>\n",
       "    <tr>\n",
       "      <th>1</th>\n",
       "      <td>Heavy Plexiglass</td>\n",
       "      <td>1.6</td>\n",
       "      <td>12</td>\n",
       "      <td>2</td>\n",
       "      <td>28</td>\n",
       "      <td>C2D2</td>\n",
       "      <td>4.9</td>\n",
       "      <td>3.5</td>\n",
       "      <td>2</td>\n",
       "      <td>2</td>\n",
       "      <td>0.578126</td>\n",
       "      <td>0.715976</td>\n",
       "      <td>0.111111</td>\n",
       "    </tr>\n",
       "    <tr>\n",
       "      <th>2</th>\n",
       "      <td>Heavy Water</td>\n",
       "      <td>1.1</td>\n",
       "      <td>2</td>\n",
       "      <td>16</td>\n",
       "      <td>20</td>\n",
       "      <td>D2O</td>\n",
       "      <td>3.5</td>\n",
       "      <td>4.0</td>\n",
       "      <td>2</td>\n",
       "      <td>1</td>\n",
       "      <td>0.364340</td>\n",
       "      <td>0.111111</td>\n",
       "      <td>0.778547</td>\n",
       "    </tr>\n",
       "  </tbody>\n",
       "</table>\n",
       "</div>"
      ],
      "text/plain": [
       "           Material  Density_g/cm^3  A_1  A_2  Molar_mass_g/mol  \\\n",
       "0             Water             1.0    1   16                18   \n",
       "1  Heavy Plexiglass             1.6   12    2                28   \n",
       "2       Heavy Water             1.1    2   16                20   \n",
       "\n",
       "  Chemical_formula  sigma_1_b  sigma_2_b  x1  x2   Σ,_1/cm       ɑ_1       ɑ_2  \n",
       "0              H2O       30.0        4.0   2   1  2.141206  0.000000  0.778547  \n",
       "1             C2D2        4.9        3.5   2   2  0.578126  0.715976  0.111111  \n",
       "2              D2O        3.5        4.0   2   1  0.364340  0.111111  0.778547  "
      ]
     },
     "execution_count": 8,
     "metadata": {},
     "output_type": "execute_result"
    }
   ],
   "source": [
    "df"
   ]
  },
  {
   "cell_type": "code",
   "execution_count": 9,
   "metadata": {},
   "outputs": [
    {
     "data": {
      "text/html": [
       "<div>\n",
       "<style scoped>\n",
       "    .dataframe tbody tr th:only-of-type {\n",
       "        vertical-align: middle;\n",
       "    }\n",
       "\n",
       "    .dataframe tbody tr th {\n",
       "        vertical-align: top;\n",
       "    }\n",
       "\n",
       "    .dataframe thead th {\n",
       "        text-align: right;\n",
       "    }\n",
       "</style>\n",
       "<table border=\"1\" class=\"dataframe\">\n",
       "  <thead>\n",
       "    <tr style=\"text-align: right;\">\n",
       "      <th></th>\n",
       "      <th>Time</th>\n",
       "      <th>Colisions</th>\n",
       "      <th>Material</th>\n",
       "      <th>Target</th>\n",
       "    </tr>\n",
       "  </thead>\n",
       "  <tbody>\n",
       "    <tr>\n",
       "      <th>0</th>\n",
       "      <td>6.013426e-07</td>\n",
       "      <td>18.0</td>\n",
       "      <td>Water</td>\n",
       "      <td>0.0</td>\n",
       "    </tr>\n",
       "    <tr>\n",
       "      <th>1</th>\n",
       "      <td>1.526499e-07</td>\n",
       "      <td>11.0</td>\n",
       "      <td>Water</td>\n",
       "      <td>0.0</td>\n",
       "    </tr>\n",
       "    <tr>\n",
       "      <th>2</th>\n",
       "      <td>5.879935e-07</td>\n",
       "      <td>17.0</td>\n",
       "      <td>Water</td>\n",
       "      <td>0.0</td>\n",
       "    </tr>\n",
       "    <tr>\n",
       "      <th>3</th>\n",
       "      <td>4.702673e-07</td>\n",
       "      <td>14.0</td>\n",
       "      <td>Water</td>\n",
       "      <td>0.0</td>\n",
       "    </tr>\n",
       "    <tr>\n",
       "      <th>4</th>\n",
       "      <td>1.814087e-07</td>\n",
       "      <td>10.0</td>\n",
       "      <td>Water</td>\n",
       "      <td>0.0</td>\n",
       "    </tr>\n",
       "    <tr>\n",
       "      <th>...</th>\n",
       "      <td>...</td>\n",
       "      <td>...</td>\n",
       "      <td>...</td>\n",
       "      <td>...</td>\n",
       "    </tr>\n",
       "    <tr>\n",
       "      <th>1795</th>\n",
       "      <td>1.073471e-05</td>\n",
       "      <td>37.0</td>\n",
       "      <td>Heavy Water</td>\n",
       "      <td>2.0</td>\n",
       "    </tr>\n",
       "    <tr>\n",
       "      <th>1796</th>\n",
       "      <td>4.577775e-06</td>\n",
       "      <td>28.0</td>\n",
       "      <td>Heavy Water</td>\n",
       "      <td>2.0</td>\n",
       "    </tr>\n",
       "    <tr>\n",
       "      <th>1797</th>\n",
       "      <td>1.017680e-05</td>\n",
       "      <td>35.0</td>\n",
       "      <td>Heavy Water</td>\n",
       "      <td>2.0</td>\n",
       "    </tr>\n",
       "    <tr>\n",
       "      <th>1798</th>\n",
       "      <td>5.321271e-06</td>\n",
       "      <td>29.0</td>\n",
       "      <td>Heavy Water</td>\n",
       "      <td>2.0</td>\n",
       "    </tr>\n",
       "    <tr>\n",
       "      <th>1799</th>\n",
       "      <td>3.938338e-06</td>\n",
       "      <td>27.0</td>\n",
       "      <td>Heavy Water</td>\n",
       "      <td>2.0</td>\n",
       "    </tr>\n",
       "  </tbody>\n",
       "</table>\n",
       "<p>1800 rows × 4 columns</p>\n",
       "</div>"
      ],
      "text/plain": [
       "              Time  Colisions     Material  Target\n",
       "0     6.013426e-07       18.0        Water     0.0\n",
       "1     1.526499e-07       11.0        Water     0.0\n",
       "2     5.879935e-07       17.0        Water     0.0\n",
       "3     4.702673e-07       14.0        Water     0.0\n",
       "4     1.814087e-07       10.0        Water     0.0\n",
       "...            ...        ...          ...     ...\n",
       "1795  1.073471e-05       37.0  Heavy Water     2.0\n",
       "1796  4.577775e-06       28.0  Heavy Water     2.0\n",
       "1797  1.017680e-05       35.0  Heavy Water     2.0\n",
       "1798  5.321271e-06       29.0  Heavy Water     2.0\n",
       "1799  3.938338e-06       27.0  Heavy Water     2.0\n",
       "\n",
       "[1800 rows x 4 columns]"
      ]
     },
     "execution_count": 9,
     "metadata": {},
     "output_type": "execute_result"
    }
   ],
   "source": [
    "df1"
   ]
  },
  {
   "cell_type": "markdown",
   "metadata": {},
   "source": [
    "### 2.1.2 Подключение к данным SQLite"
   ]
  },
  {
   "cell_type": "markdown",
   "metadata": {},
   "source": [
    "#### 2.1.2.1 DF to Data Base SQLite"
   ]
  },
  {
   "cell_type": "code",
   "execution_count": 10,
   "metadata": {},
   "outputs": [],
   "source": [
    "import sqlite3\n",
    "\n",
    "conn = sqlite3.connect('data/neutron_moderation_SQLite.db')\n",
    "c = conn.cursor()\n",
    "\n",
    "df.to_sql('Input_data', conn, if_exists='replace', index = False)\n",
    "df1.to_sql('Output_data', conn, if_exists='replace', index = False)"
   ]
  },
  {
   "cell_type": "markdown",
   "metadata": {},
   "source": [
    "#### 2.1.2.2 Data Base SQLite to DF"
   ]
  },
  {
   "cell_type": "code",
   "execution_count": 11,
   "metadata": {},
   "outputs": [
    {
     "data": {
      "text/html": [
       "<div>\n",
       "<style scoped>\n",
       "    .dataframe tbody tr th:only-of-type {\n",
       "        vertical-align: middle;\n",
       "    }\n",
       "\n",
       "    .dataframe tbody tr th {\n",
       "        vertical-align: top;\n",
       "    }\n",
       "\n",
       "    .dataframe thead th {\n",
       "        text-align: right;\n",
       "    }\n",
       "</style>\n",
       "<table border=\"1\" class=\"dataframe\">\n",
       "  <thead>\n",
       "    <tr style=\"text-align: right;\">\n",
       "      <th></th>\n",
       "      <th>Material</th>\n",
       "      <th>Density_g/cm^3</th>\n",
       "      <th>A_1</th>\n",
       "      <th>A_2</th>\n",
       "      <th>Molar_mass_g/mol</th>\n",
       "      <th>Chemical_formula</th>\n",
       "      <th>sigma_1_b</th>\n",
       "      <th>sigma_2_b</th>\n",
       "      <th>x1</th>\n",
       "      <th>x2</th>\n",
       "      <th>Σ,_1/cm</th>\n",
       "      <th>ɑ_1</th>\n",
       "      <th>ɑ_2</th>\n",
       "    </tr>\n",
       "  </thead>\n",
       "  <tbody>\n",
       "    <tr>\n",
       "      <th>0</th>\n",
       "      <td>Water</td>\n",
       "      <td>1.0</td>\n",
       "      <td>1</td>\n",
       "      <td>16</td>\n",
       "      <td>18</td>\n",
       "      <td>H2O</td>\n",
       "      <td>30.0</td>\n",
       "      <td>4.0</td>\n",
       "      <td>2</td>\n",
       "      <td>1</td>\n",
       "      <td>2.141206</td>\n",
       "      <td>0.000000</td>\n",
       "      <td>0.778547</td>\n",
       "    </tr>\n",
       "    <tr>\n",
       "      <th>1</th>\n",
       "      <td>Heavy Plexiglass</td>\n",
       "      <td>1.6</td>\n",
       "      <td>12</td>\n",
       "      <td>2</td>\n",
       "      <td>28</td>\n",
       "      <td>C2D2</td>\n",
       "      <td>4.9</td>\n",
       "      <td>3.5</td>\n",
       "      <td>2</td>\n",
       "      <td>2</td>\n",
       "      <td>0.578126</td>\n",
       "      <td>0.715976</td>\n",
       "      <td>0.111111</td>\n",
       "    </tr>\n",
       "    <tr>\n",
       "      <th>2</th>\n",
       "      <td>Heavy Water</td>\n",
       "      <td>1.1</td>\n",
       "      <td>2</td>\n",
       "      <td>16</td>\n",
       "      <td>20</td>\n",
       "      <td>D2O</td>\n",
       "      <td>3.5</td>\n",
       "      <td>4.0</td>\n",
       "      <td>2</td>\n",
       "      <td>1</td>\n",
       "      <td>0.364340</td>\n",
       "      <td>0.111111</td>\n",
       "      <td>0.778547</td>\n",
       "    </tr>\n",
       "  </tbody>\n",
       "</table>\n",
       "</div>"
      ],
      "text/plain": [
       "           Material  Density_g/cm^3  A_1  A_2  Molar_mass_g/mol  \\\n",
       "0             Water             1.0    1   16                18   \n",
       "1  Heavy Plexiglass             1.6   12    2                28   \n",
       "2       Heavy Water             1.1    2   16                20   \n",
       "\n",
       "  Chemical_formula  sigma_1_b  sigma_2_b  x1  x2   Σ,_1/cm       ɑ_1       ɑ_2  \n",
       "0              H2O       30.0        4.0   2   1  2.141206  0.000000  0.778547  \n",
       "1             C2D2        4.9        3.5   2   2  0.578126  0.715976  0.111111  \n",
       "2              D2O        3.5        4.0   2   1  0.364340  0.111111  0.778547  "
      ]
     },
     "execution_count": 11,
     "metadata": {},
     "output_type": "execute_result"
    }
   ],
   "source": [
    "df = pd.read_sql(\"SELECT * FROM Input_data\", conn)\n",
    "df"
   ]
  },
  {
   "cell_type": "code",
   "execution_count": 12,
   "metadata": {
    "scrolled": false
   },
   "outputs": [
    {
     "data": {
      "text/html": [
       "<div>\n",
       "<style scoped>\n",
       "    .dataframe tbody tr th:only-of-type {\n",
       "        vertical-align: middle;\n",
       "    }\n",
       "\n",
       "    .dataframe tbody tr th {\n",
       "        vertical-align: top;\n",
       "    }\n",
       "\n",
       "    .dataframe thead th {\n",
       "        text-align: right;\n",
       "    }\n",
       "</style>\n",
       "<table border=\"1\" class=\"dataframe\">\n",
       "  <thead>\n",
       "    <tr style=\"text-align: right;\">\n",
       "      <th></th>\n",
       "      <th>Time</th>\n",
       "      <th>Colisions</th>\n",
       "      <th>Material</th>\n",
       "      <th>Target</th>\n",
       "    </tr>\n",
       "  </thead>\n",
       "  <tbody>\n",
       "    <tr>\n",
       "      <th>0</th>\n",
       "      <td>6.013426e-07</td>\n",
       "      <td>18.0</td>\n",
       "      <td>Water</td>\n",
       "      <td>0.0</td>\n",
       "    </tr>\n",
       "    <tr>\n",
       "      <th>1</th>\n",
       "      <td>1.526499e-07</td>\n",
       "      <td>11.0</td>\n",
       "      <td>Water</td>\n",
       "      <td>0.0</td>\n",
       "    </tr>\n",
       "    <tr>\n",
       "      <th>2</th>\n",
       "      <td>5.879935e-07</td>\n",
       "      <td>17.0</td>\n",
       "      <td>Water</td>\n",
       "      <td>0.0</td>\n",
       "    </tr>\n",
       "    <tr>\n",
       "      <th>3</th>\n",
       "      <td>4.702673e-07</td>\n",
       "      <td>14.0</td>\n",
       "      <td>Water</td>\n",
       "      <td>0.0</td>\n",
       "    </tr>\n",
       "    <tr>\n",
       "      <th>4</th>\n",
       "      <td>1.814087e-07</td>\n",
       "      <td>10.0</td>\n",
       "      <td>Water</td>\n",
       "      <td>0.0</td>\n",
       "    </tr>\n",
       "    <tr>\n",
       "      <th>...</th>\n",
       "      <td>...</td>\n",
       "      <td>...</td>\n",
       "      <td>...</td>\n",
       "      <td>...</td>\n",
       "    </tr>\n",
       "    <tr>\n",
       "      <th>1795</th>\n",
       "      <td>1.073471e-05</td>\n",
       "      <td>37.0</td>\n",
       "      <td>Heavy Water</td>\n",
       "      <td>2.0</td>\n",
       "    </tr>\n",
       "    <tr>\n",
       "      <th>1796</th>\n",
       "      <td>4.577775e-06</td>\n",
       "      <td>28.0</td>\n",
       "      <td>Heavy Water</td>\n",
       "      <td>2.0</td>\n",
       "    </tr>\n",
       "    <tr>\n",
       "      <th>1797</th>\n",
       "      <td>1.017680e-05</td>\n",
       "      <td>35.0</td>\n",
       "      <td>Heavy Water</td>\n",
       "      <td>2.0</td>\n",
       "    </tr>\n",
       "    <tr>\n",
       "      <th>1798</th>\n",
       "      <td>5.321271e-06</td>\n",
       "      <td>29.0</td>\n",
       "      <td>Heavy Water</td>\n",
       "      <td>2.0</td>\n",
       "    </tr>\n",
       "    <tr>\n",
       "      <th>1799</th>\n",
       "      <td>3.938338e-06</td>\n",
       "      <td>27.0</td>\n",
       "      <td>Heavy Water</td>\n",
       "      <td>2.0</td>\n",
       "    </tr>\n",
       "  </tbody>\n",
       "</table>\n",
       "<p>1800 rows × 4 columns</p>\n",
       "</div>"
      ],
      "text/plain": [
       "              Time  Colisions     Material  Target\n",
       "0     6.013426e-07       18.0        Water     0.0\n",
       "1     1.526499e-07       11.0        Water     0.0\n",
       "2     5.879935e-07       17.0        Water     0.0\n",
       "3     4.702673e-07       14.0        Water     0.0\n",
       "4     1.814087e-07       10.0        Water     0.0\n",
       "...            ...        ...          ...     ...\n",
       "1795  1.073471e-05       37.0  Heavy Water     2.0\n",
       "1796  4.577775e-06       28.0  Heavy Water     2.0\n",
       "1797  1.017680e-05       35.0  Heavy Water     2.0\n",
       "1798  5.321271e-06       29.0  Heavy Water     2.0\n",
       "1799  3.938338e-06       27.0  Heavy Water     2.0\n",
       "\n",
       "[1800 rows x 4 columns]"
      ]
     },
     "execution_count": 12,
     "metadata": {},
     "output_type": "execute_result"
    }
   ],
   "source": [
    "df1 = pd.read_sql(\"SELECT * FROM Output_data\", conn)\n",
    "df1"
   ]
  },
  {
   "cell_type": "code",
   "execution_count": 13,
   "metadata": {},
   "outputs": [],
   "source": [
    "c.close()\n",
    "conn.close()"
   ]
  },
  {
   "cell_type": "markdown",
   "metadata": {},
   "source": [
    "### 2.1.3 Подключение к данным MySQL"
   ]
  },
  {
   "cell_type": "markdown",
   "metadata": {},
   "source": [
    "#### 2.1.3.1 DF to Data Base MySQL"
   ]
  },
  {
   "cell_type": "code",
   "execution_count": 14,
   "metadata": {},
   "outputs": [],
   "source": [
    "import pymysql"
   ]
  },
  {
   "cell_type": "markdown",
   "metadata": {},
   "source": [
    "#### 2.1.3.2 Data Base MySQL to DF"
   ]
  },
  {
   "cell_type": "code",
   "execution_count": null,
   "metadata": {},
   "outputs": [],
   "source": []
  },
  {
   "cell_type": "markdown",
   "metadata": {},
   "source": [
    "### 2.1.4 Подключение к данным MS SQL Server"
   ]
  },
  {
   "cell_type": "markdown",
   "metadata": {},
   "source": [
    "#### 2.1.4.1 DF to Data Base MS SQL Server"
   ]
  },
  {
   "cell_type": "code",
   "execution_count": 15,
   "metadata": {},
   "outputs": [],
   "source": [
    "#Для корректной работы необходимо создать базу данных через MS SQL Server Management Studio\n",
    "# имя базы [neutron_moderation_MS_SQL_Server]\n",
    "\n",
    "#Подключимся к созданной таблице и выведем данные\n",
    "\n",
    "import pyodbc\n",
    "import pandas as pd\n",
    "\n",
    "server = 'IVANPC' \n",
    "database = 'neutron_moderation_MS_SQL_Server' \n",
    "username = 'sa' \n",
    "password = 'sasa'"
   ]
  },
  {
   "cell_type": "markdown",
   "metadata": {},
   "source": [
    "Установка и настройка MS SQL Server и Management Studio\n",
    "\n",
    "https://www.youtube.com/watch?v=dP_ZmYhNFlg&ab_channel=%D0%92%D0%B8%D0%B4%D0%B5%D0%BE%D1%83%D1%80%D0%BE%D0%BA%D0%B8%D0%BF%D0%BE%D0%BF%D1%80%D0%BE%D0%B3%D1%80%D0%B0%D0%BC%D0%BC%D0%B8%D1%80%D0%BE%D0%B2%D0%B0%D0%BD%D0%B8%D1%8EALEKSEEV74"
   ]
  },
  {
   "cell_type": "code",
   "execution_count": 16,
   "metadata": {},
   "outputs": [],
   "source": [
    "cnxn = pyodbc.connect('DRIVER={SQL Server};SERVER='+server+';DATABASE='+database+';UID='+username+';PWD='+ password)\n",
    "cursor = cnxn.cursor()"
   ]
  },
  {
   "cell_type": "code",
   "execution_count": 17,
   "metadata": {},
   "outputs": [],
   "source": [
    "#Удалить таблицу если такая уже существует\n",
    "\n",
    "query = '''\n",
    "DROP TABLE IF EXISTS Output_data\n",
    "'''\n",
    "cursor.execute(query)\n",
    "cnxn.commit()"
   ]
  },
  {
   "cell_type": "code",
   "execution_count": 18,
   "metadata": {},
   "outputs": [],
   "source": [
    "#создание таблицы Output_data\n",
    "\n",
    "query = '''\n",
    "CREATE TABLE [dbo].[Output_data](\n",
    "\t[Time] [float] NOT NULL,\n",
    "\t[Colisions] [int] NOT NULL,\n",
    "\t[Material] [varchar](50) NOT NULL,\n",
    "\t[Target] [int] NOT NULL,\n",
    "\t[Ind] [int] NOT NULL\n",
    ")\n",
    "'''\n",
    "cursor.execute(query)\n",
    "cnxn.commit()"
   ]
  },
  {
   "cell_type": "code",
   "execution_count": 19,
   "metadata": {},
   "outputs": [],
   "source": [
    "#ограничение на уникальность ключа\n",
    "\n",
    "query = '''\n",
    "ALTER TABLE Output_data\n",
    "ADD CONSTRAINT DF_Output_data_Ind_Unique UNIQUE (Ind)\n",
    "'''\n",
    "cursor.execute(query)\n",
    "cnxn.commit()"
   ]
  },
  {
   "cell_type": "code",
   "execution_count": 20,
   "metadata": {},
   "outputs": [],
   "source": [
    "#установление Primary Key\n",
    "\n",
    "query = '''\n",
    "ALTER TABLE Output_data\n",
    "ADD CONSTRAINT PK_Output_data_index  PRIMARY KEY CLUSTERED (Ind)\n",
    "'''\n",
    "cursor.execute(query)\n",
    "cnxn.commit()"
   ]
  },
  {
   "cell_type": "code",
   "execution_count": 21,
   "metadata": {},
   "outputs": [
    {
     "data": {
      "text/html": [
       "<div>\n",
       "<style scoped>\n",
       "    .dataframe tbody tr th:only-of-type {\n",
       "        vertical-align: middle;\n",
       "    }\n",
       "\n",
       "    .dataframe tbody tr th {\n",
       "        vertical-align: top;\n",
       "    }\n",
       "\n",
       "    .dataframe thead th {\n",
       "        text-align: right;\n",
       "    }\n",
       "</style>\n",
       "<table border=\"1\" class=\"dataframe\">\n",
       "  <thead>\n",
       "    <tr style=\"text-align: right;\">\n",
       "      <th></th>\n",
       "      <th>Time</th>\n",
       "      <th>Colisions</th>\n",
       "      <th>Material</th>\n",
       "      <th>Target</th>\n",
       "      <th>Ind</th>\n",
       "    </tr>\n",
       "  </thead>\n",
       "  <tbody>\n",
       "  </tbody>\n",
       "</table>\n",
       "</div>"
      ],
      "text/plain": [
       "Empty DataFrame\n",
       "Columns: [Time, Colisions, Material, Target, Ind]\n",
       "Index: []"
      ]
     },
     "execution_count": 21,
     "metadata": {},
     "output_type": "execute_result"
    }
   ],
   "source": [
    "#Показать созданную таблицу\n",
    "\n",
    "query = \"SELECT * FROM Output_data;\"\n",
    "df1_from_MS_SQL_Server = pd.read_sql(query, cnxn)\n",
    "df1_from_MS_SQL_Server"
   ]
  },
  {
   "cell_type": "code",
   "execution_count": 22,
   "metadata": {},
   "outputs": [],
   "source": [
    "#Запись данных\n",
    "\n",
    "cursor = cnxn.cursor()\n",
    "\n",
    "for index,row in df1.iterrows():\n",
    "    cursor.execute('''\n",
    "        INSERT INTO Output_data(\n",
    "        [Time], [Colisions],[Material],[Target],[Ind]\n",
    "        ) \n",
    "        values (?, ?,?,?,?)''',\n",
    "                   row['Time'], \n",
    "                   row['Colisions'],\n",
    "                   row['Material'],\n",
    "                   row['Target'],\n",
    "                   index\n",
    "                  ) \n",
    "cnxn.commit()"
   ]
  },
  {
   "cell_type": "code",
   "execution_count": 23,
   "metadata": {},
   "outputs": [],
   "source": [
    "cnxn = pyodbc.connect('DRIVER={SQL Server};SERVER='+server+';DATABASE='+database+';UID='+username+';PWD='+ password)\n",
    "cursor = cnxn.cursor()"
   ]
  },
  {
   "cell_type": "code",
   "execution_count": 24,
   "metadata": {},
   "outputs": [],
   "source": [
    "#Удалить таблицу если такая уже существует\n",
    "\n",
    "query = '''\n",
    "DROP TABLE IF EXISTS Input_data\n",
    "'''\n",
    "cursor.execute(query)\n",
    "cnxn.commit()"
   ]
  },
  {
   "cell_type": "code",
   "execution_count": 25,
   "metadata": {},
   "outputs": [],
   "source": [
    "#создание таблицы Input_data\n",
    "\n",
    "query = '''\n",
    "CREATE TABLE [dbo].[Input_data](\n",
    "\t[Material] [varchar](50) NOT NULL,\n",
    "\t[Density_g/cm^3] [float] NOT NULL,\n",
    "\t[A_1] [int] NOT NULL,\n",
    "\t[A_2] [int] NOT NULL,\n",
    "\t[Molar_mass_g/mol] [varchar](50) NOT NULL,\n",
    "\t[Chemical_formula] [varchar](50) NOT NULL,\n",
    "\t[sigma_1_b] [float] NOT NULL,\n",
    "\t[sigma_2_b] [float] NOT NULL,\n",
    "\t[x1] [int] NOT NULL,\n",
    "\t[x2] [int] NOT NULL,\n",
    "\t[Σ,_1/cm] [float] NOT NULL,\n",
    "\t[ɑ_1] [float] NOT NULL,\n",
    "\t[ɑ_2] [float] NOT NULL\n",
    ")\n",
    "'''\n",
    "cursor.execute(query)\n",
    "cnxn.commit()"
   ]
  },
  {
   "cell_type": "code",
   "execution_count": 26,
   "metadata": {},
   "outputs": [],
   "source": [
    "#ограничение на уникальность ключа\n",
    "\n",
    "query = '''\n",
    "ALTER TABLE Input_data\n",
    "ADD CONSTRAINT DF_Input_data_data_Ind_Unique UNIQUE (Material)\n",
    "'''\n",
    "cursor.execute(query)\n",
    "cnxn.commit()"
   ]
  },
  {
   "cell_type": "code",
   "execution_count": 27,
   "metadata": {},
   "outputs": [],
   "source": [
    "#установление Primary Key\n",
    "\n",
    "query = '''\n",
    "ALTER TABLE Input_data\n",
    "ADD CONSTRAINT PK_Input_data_Material  PRIMARY KEY CLUSTERED (Material)\n",
    "'''\n",
    "cursor.execute(query)\n",
    "cnxn.commit()"
   ]
  },
  {
   "cell_type": "code",
   "execution_count": 28,
   "metadata": {},
   "outputs": [
    {
     "data": {
      "text/html": [
       "<div>\n",
       "<style scoped>\n",
       "    .dataframe tbody tr th:only-of-type {\n",
       "        vertical-align: middle;\n",
       "    }\n",
       "\n",
       "    .dataframe tbody tr th {\n",
       "        vertical-align: top;\n",
       "    }\n",
       "\n",
       "    .dataframe thead th {\n",
       "        text-align: right;\n",
       "    }\n",
       "</style>\n",
       "<table border=\"1\" class=\"dataframe\">\n",
       "  <thead>\n",
       "    <tr style=\"text-align: right;\">\n",
       "      <th></th>\n",
       "      <th>Material</th>\n",
       "      <th>Density_g/cm^3</th>\n",
       "      <th>A_1</th>\n",
       "      <th>A_2</th>\n",
       "      <th>Molar_mass_g/mol</th>\n",
       "      <th>Chemical_formula</th>\n",
       "      <th>sigma_1_b</th>\n",
       "      <th>sigma_2_b</th>\n",
       "      <th>x1</th>\n",
       "      <th>x2</th>\n",
       "      <th>Σ,_1/cm</th>\n",
       "      <th>ɑ_1</th>\n",
       "      <th>ɑ_2</th>\n",
       "    </tr>\n",
       "  </thead>\n",
       "  <tbody>\n",
       "  </tbody>\n",
       "</table>\n",
       "</div>"
      ],
      "text/plain": [
       "Empty DataFrame\n",
       "Columns: [Material, Density_g/cm^3, A_1, A_2, Molar_mass_g/mol, Chemical_formula, sigma_1_b, sigma_2_b, x1, x2, Σ,_1/cm, ɑ_1, ɑ_2]\n",
       "Index: []"
      ]
     },
     "execution_count": 28,
     "metadata": {},
     "output_type": "execute_result"
    }
   ],
   "source": [
    "#Показать созданную таблицу\n",
    "\n",
    "query = \"SELECT * FROM Input_data;\"\n",
    "df_from_MS_SQL_Server = pd.read_sql(query, cnxn)\n",
    "df_from_MS_SQL_Server"
   ]
  },
  {
   "cell_type": "code",
   "execution_count": 29,
   "metadata": {},
   "outputs": [],
   "source": [
    "#Запись данных\n",
    "\n",
    "cursor = cnxn.cursor()\n",
    "\n",
    "for index,row in df.iterrows():\n",
    "    cursor.execute('''\n",
    "        INSERT INTO Input_data(\n",
    "        [Material],\n",
    "        [Density_g/cm^3],\n",
    "        [A_1],\n",
    "        [A_2],\n",
    "        [Molar_mass_g/mol],\n",
    "        [Chemical_formula],\n",
    "        [sigma_1_b],\n",
    "        [sigma_2_b],\n",
    "        [x1],\n",
    "        [x2],\n",
    "        [Σ,_1/cm],\n",
    "        [ɑ_1],\n",
    "        [ɑ_2]\n",
    "        )\n",
    "        values (?,?,?,?,?,?,?,?,?,?,?,?,?)''',\n",
    "        row['Material'],\n",
    "        row['Density_g/cm^3'],\n",
    "        row['A_1'],\n",
    "        row['A_2'],\n",
    "        row['Molar_mass_g/mol'],\n",
    "        row['Chemical_formula'],\n",
    "        row['sigma_1_b'],\n",
    "        row['sigma_2_b'],\n",
    "        row['x1'],\n",
    "        row['x2'],\n",
    "        row['Σ,_1/cm'],\n",
    "        row['ɑ_1'],\n",
    "        row['ɑ_2']\n",
    ") \n",
    "cnxn.commit()"
   ]
  },
  {
   "cell_type": "markdown",
   "metadata": {},
   "source": [
    "#### 2.1.4.2 Data Base MS SQL Server to DF"
   ]
  },
  {
   "cell_type": "code",
   "execution_count": 30,
   "metadata": {
    "scrolled": true
   },
   "outputs": [
    {
     "data": {
      "text/html": [
       "<div>\n",
       "<style scoped>\n",
       "    .dataframe tbody tr th:only-of-type {\n",
       "        vertical-align: middle;\n",
       "    }\n",
       "\n",
       "    .dataframe tbody tr th {\n",
       "        vertical-align: top;\n",
       "    }\n",
       "\n",
       "    .dataframe thead th {\n",
       "        text-align: right;\n",
       "    }\n",
       "</style>\n",
       "<table border=\"1\" class=\"dataframe\">\n",
       "  <thead>\n",
       "    <tr style=\"text-align: right;\">\n",
       "      <th></th>\n",
       "      <th>Time</th>\n",
       "      <th>Colisions</th>\n",
       "      <th>Material</th>\n",
       "      <th>Target</th>\n",
       "      <th>Ind</th>\n",
       "    </tr>\n",
       "  </thead>\n",
       "  <tbody>\n",
       "    <tr>\n",
       "      <th>0</th>\n",
       "      <td>6.013426e-07</td>\n",
       "      <td>18</td>\n",
       "      <td>Water</td>\n",
       "      <td>0</td>\n",
       "      <td>0</td>\n",
       "    </tr>\n",
       "    <tr>\n",
       "      <th>1</th>\n",
       "      <td>1.526499e-07</td>\n",
       "      <td>11</td>\n",
       "      <td>Water</td>\n",
       "      <td>0</td>\n",
       "      <td>1</td>\n",
       "    </tr>\n",
       "    <tr>\n",
       "      <th>2</th>\n",
       "      <td>5.879935e-07</td>\n",
       "      <td>17</td>\n",
       "      <td>Water</td>\n",
       "      <td>0</td>\n",
       "      <td>2</td>\n",
       "    </tr>\n",
       "    <tr>\n",
       "      <th>3</th>\n",
       "      <td>4.702673e-07</td>\n",
       "      <td>14</td>\n",
       "      <td>Water</td>\n",
       "      <td>0</td>\n",
       "      <td>3</td>\n",
       "    </tr>\n",
       "    <tr>\n",
       "      <th>4</th>\n",
       "      <td>1.814087e-07</td>\n",
       "      <td>10</td>\n",
       "      <td>Water</td>\n",
       "      <td>0</td>\n",
       "      <td>4</td>\n",
       "    </tr>\n",
       "    <tr>\n",
       "      <th>...</th>\n",
       "      <td>...</td>\n",
       "      <td>...</td>\n",
       "      <td>...</td>\n",
       "      <td>...</td>\n",
       "      <td>...</td>\n",
       "    </tr>\n",
       "    <tr>\n",
       "      <th>1795</th>\n",
       "      <td>1.073471e-05</td>\n",
       "      <td>37</td>\n",
       "      <td>Heavy Water</td>\n",
       "      <td>2</td>\n",
       "      <td>1795</td>\n",
       "    </tr>\n",
       "    <tr>\n",
       "      <th>1796</th>\n",
       "      <td>4.577775e-06</td>\n",
       "      <td>28</td>\n",
       "      <td>Heavy Water</td>\n",
       "      <td>2</td>\n",
       "      <td>1796</td>\n",
       "    </tr>\n",
       "    <tr>\n",
       "      <th>1797</th>\n",
       "      <td>1.017680e-05</td>\n",
       "      <td>35</td>\n",
       "      <td>Heavy Water</td>\n",
       "      <td>2</td>\n",
       "      <td>1797</td>\n",
       "    </tr>\n",
       "    <tr>\n",
       "      <th>1798</th>\n",
       "      <td>5.321271e-06</td>\n",
       "      <td>29</td>\n",
       "      <td>Heavy Water</td>\n",
       "      <td>2</td>\n",
       "      <td>1798</td>\n",
       "    </tr>\n",
       "    <tr>\n",
       "      <th>1799</th>\n",
       "      <td>3.938338e-06</td>\n",
       "      <td>27</td>\n",
       "      <td>Heavy Water</td>\n",
       "      <td>2</td>\n",
       "      <td>1799</td>\n",
       "    </tr>\n",
       "  </tbody>\n",
       "</table>\n",
       "<p>1800 rows × 5 columns</p>\n",
       "</div>"
      ],
      "text/plain": [
       "              Time  Colisions     Material  Target   Ind\n",
       "0     6.013426e-07         18        Water       0     0\n",
       "1     1.526499e-07         11        Water       0     1\n",
       "2     5.879935e-07         17        Water       0     2\n",
       "3     4.702673e-07         14        Water       0     3\n",
       "4     1.814087e-07         10        Water       0     4\n",
       "...            ...        ...          ...     ...   ...\n",
       "1795  1.073471e-05         37  Heavy Water       2  1795\n",
       "1796  4.577775e-06         28  Heavy Water       2  1796\n",
       "1797  1.017680e-05         35  Heavy Water       2  1797\n",
       "1798  5.321271e-06         29  Heavy Water       2  1798\n",
       "1799  3.938338e-06         27  Heavy Water       2  1799\n",
       "\n",
       "[1800 rows x 5 columns]"
      ]
     },
     "execution_count": 30,
     "metadata": {},
     "output_type": "execute_result"
    }
   ],
   "source": [
    "# Выгрузка данных\n",
    "\n",
    "query = \"SELECT * FROM Output_data;\"\n",
    "df1_from_MS_SQL_Server = pd.read_sql(query, cnxn)\n",
    "df1_from_MS_SQL_Server"
   ]
  },
  {
   "cell_type": "code",
   "execution_count": 31,
   "metadata": {},
   "outputs": [
    {
     "data": {
      "text/html": [
       "<div>\n",
       "<style scoped>\n",
       "    .dataframe tbody tr th:only-of-type {\n",
       "        vertical-align: middle;\n",
       "    }\n",
       "\n",
       "    .dataframe tbody tr th {\n",
       "        vertical-align: top;\n",
       "    }\n",
       "\n",
       "    .dataframe thead th {\n",
       "        text-align: right;\n",
       "    }\n",
       "</style>\n",
       "<table border=\"1\" class=\"dataframe\">\n",
       "  <thead>\n",
       "    <tr style=\"text-align: right;\">\n",
       "      <th></th>\n",
       "      <th>Material</th>\n",
       "      <th>Density_g/cm^3</th>\n",
       "      <th>A_1</th>\n",
       "      <th>A_2</th>\n",
       "      <th>Molar_mass_g/mol</th>\n",
       "      <th>Chemical_formula</th>\n",
       "      <th>sigma_1_b</th>\n",
       "      <th>sigma_2_b</th>\n",
       "      <th>x1</th>\n",
       "      <th>x2</th>\n",
       "      <th>Σ,_1/cm</th>\n",
       "      <th>ɑ_1</th>\n",
       "      <th>ɑ_2</th>\n",
       "    </tr>\n",
       "  </thead>\n",
       "  <tbody>\n",
       "    <tr>\n",
       "      <th>0</th>\n",
       "      <td>Heavy Plexiglass</td>\n",
       "      <td>1.6</td>\n",
       "      <td>12</td>\n",
       "      <td>2</td>\n",
       "      <td>28</td>\n",
       "      <td>C2D2</td>\n",
       "      <td>4.9</td>\n",
       "      <td>3.5</td>\n",
       "      <td>2</td>\n",
       "      <td>2</td>\n",
       "      <td>0.578126</td>\n",
       "      <td>0.715976</td>\n",
       "      <td>0.111111</td>\n",
       "    </tr>\n",
       "    <tr>\n",
       "      <th>1</th>\n",
       "      <td>Heavy Water</td>\n",
       "      <td>1.1</td>\n",
       "      <td>2</td>\n",
       "      <td>16</td>\n",
       "      <td>20</td>\n",
       "      <td>D2O</td>\n",
       "      <td>3.5</td>\n",
       "      <td>4.0</td>\n",
       "      <td>2</td>\n",
       "      <td>1</td>\n",
       "      <td>0.364340</td>\n",
       "      <td>0.111111</td>\n",
       "      <td>0.778547</td>\n",
       "    </tr>\n",
       "    <tr>\n",
       "      <th>2</th>\n",
       "      <td>Water</td>\n",
       "      <td>1.0</td>\n",
       "      <td>1</td>\n",
       "      <td>16</td>\n",
       "      <td>18</td>\n",
       "      <td>H2O</td>\n",
       "      <td>30.0</td>\n",
       "      <td>4.0</td>\n",
       "      <td>2</td>\n",
       "      <td>1</td>\n",
       "      <td>2.141206</td>\n",
       "      <td>0.000000</td>\n",
       "      <td>0.778547</td>\n",
       "    </tr>\n",
       "  </tbody>\n",
       "</table>\n",
       "</div>"
      ],
      "text/plain": [
       "           Material  Density_g/cm^3  A_1  A_2 Molar_mass_g/mol  \\\n",
       "0  Heavy Plexiglass             1.6   12    2               28   \n",
       "1       Heavy Water             1.1    2   16               20   \n",
       "2             Water             1.0    1   16               18   \n",
       "\n",
       "  Chemical_formula  sigma_1_b  sigma_2_b  x1  x2   Σ,_1/cm       ɑ_1       ɑ_2  \n",
       "0             C2D2        4.9        3.5   2   2  0.578126  0.715976  0.111111  \n",
       "1              D2O        3.5        4.0   2   1  0.364340  0.111111  0.778547  \n",
       "2              H2O       30.0        4.0   2   1  2.141206  0.000000  0.778547  "
      ]
     },
     "execution_count": 31,
     "metadata": {},
     "output_type": "execute_result"
    }
   ],
   "source": [
    "# Выгрузка данных\n",
    "\n",
    "query = \"SELECT * FROM Input_data;\"\n",
    "df_from_MS_SQL_Server = pd.read_sql(query, cnxn)\n",
    "df_from_MS_SQL_Server"
   ]
  },
  {
   "cell_type": "code",
   "execution_count": 32,
   "metadata": {},
   "outputs": [],
   "source": [
    "cursor.close()\n",
    "cnxn.close()"
   ]
  },
  {
   "cell_type": "markdown",
   "metadata": {},
   "source": [
    "## 2.2 Query"
   ]
  },
  {
   "cell_type": "markdown",
   "metadata": {},
   "source": [
    "### 2.2.1 Query Pandas"
   ]
  },
  {
   "cell_type": "code",
   "execution_count": 33,
   "metadata": {
    "scrolled": true
   },
   "outputs": [
    {
     "data": {
      "text/html": [
       "<div>\n",
       "<style scoped>\n",
       "    .dataframe tbody tr th:only-of-type {\n",
       "        vertical-align: middle;\n",
       "    }\n",
       "\n",
       "    .dataframe tbody tr th {\n",
       "        vertical-align: top;\n",
       "    }\n",
       "\n",
       "    .dataframe thead th {\n",
       "        text-align: right;\n",
       "    }\n",
       "</style>\n",
       "<table border=\"1\" class=\"dataframe\">\n",
       "  <thead>\n",
       "    <tr style=\"text-align: right;\">\n",
       "      <th></th>\n",
       "      <th>Time</th>\n",
       "      <th>Colisions</th>\n",
       "    </tr>\n",
       "    <tr>\n",
       "      <th>Material</th>\n",
       "      <th></th>\n",
       "      <th></th>\n",
       "    </tr>\n",
       "  </thead>\n",
       "  <tbody>\n",
       "    <tr>\n",
       "      <th>Heavy Plexiglass</th>\n",
       "      <td>6.268212e-06</td>\n",
       "      <td>35.908333</td>\n",
       "    </tr>\n",
       "    <tr>\n",
       "      <th>Heavy Water</th>\n",
       "      <td>7.811705e-06</td>\n",
       "      <td>28.513333</td>\n",
       "    </tr>\n",
       "    <tr>\n",
       "      <th>Water</th>\n",
       "      <td>6.787573e-07</td>\n",
       "      <td>15.643333</td>\n",
       "    </tr>\n",
       "  </tbody>\n",
       "</table>\n",
       "</div>"
      ],
      "text/plain": [
       "                          Time  Colisions\n",
       "Material                                 \n",
       "Heavy Plexiglass  6.268212e-06  35.908333\n",
       "Heavy Water       7.811705e-06  28.513333\n",
       "Water             6.787573e-07  15.643333"
      ]
     },
     "execution_count": 33,
     "metadata": {},
     "output_type": "execute_result"
    }
   ],
   "source": [
    "df1.groupby(by=[\"Material\"]).mean()[['Time', 'Colisions']].sort_values(by='Colisions', ascending=False)"
   ]
  },
  {
   "cell_type": "code",
   "execution_count": 34,
   "metadata": {},
   "outputs": [
    {
     "data": {
      "text/html": [
       "<div>\n",
       "<style scoped>\n",
       "    .dataframe tbody tr th:only-of-type {\n",
       "        vertical-align: middle;\n",
       "    }\n",
       "\n",
       "    .dataframe tbody tr th {\n",
       "        vertical-align: top;\n",
       "    }\n",
       "\n",
       "    .dataframe thead th {\n",
       "        text-align: right;\n",
       "    }\n",
       "</style>\n",
       "<table border=\"1\" class=\"dataframe\">\n",
       "  <thead>\n",
       "    <tr style=\"text-align: right;\">\n",
       "      <th></th>\n",
       "      <th>Time</th>\n",
       "      <th>Colisions</th>\n",
       "    </tr>\n",
       "    <tr>\n",
       "      <th>Material</th>\n",
       "      <th></th>\n",
       "      <th></th>\n",
       "    </tr>\n",
       "  </thead>\n",
       "  <tbody>\n",
       "    <tr>\n",
       "      <th>Heavy Plexiglass</th>\n",
       "      <td>5.763001e-06</td>\n",
       "      <td>35.0</td>\n",
       "    </tr>\n",
       "    <tr>\n",
       "      <th>Heavy Water</th>\n",
       "      <td>6.893299e-06</td>\n",
       "      <td>28.0</td>\n",
       "    </tr>\n",
       "    <tr>\n",
       "      <th>Water</th>\n",
       "      <td>5.343644e-07</td>\n",
       "      <td>16.0</td>\n",
       "    </tr>\n",
       "  </tbody>\n",
       "</table>\n",
       "</div>"
      ],
      "text/plain": [
       "                          Time  Colisions\n",
       "Material                                 \n",
       "Heavy Plexiglass  5.763001e-06       35.0\n",
       "Heavy Water       6.893299e-06       28.0\n",
       "Water             5.343644e-07       16.0"
      ]
     },
     "execution_count": 34,
     "metadata": {},
     "output_type": "execute_result"
    }
   ],
   "source": [
    "# Проверим медиану\n",
    "df1.groupby(by=[\"Material\"]).median()[['Time', 'Colisions']].sort_values(by='Colisions', ascending=False)"
   ]
  },
  {
   "cell_type": "markdown",
   "metadata": {},
   "source": [
    "### 2.2.1 Query SQLite"
   ]
  },
  {
   "cell_type": "code",
   "execution_count": 35,
   "metadata": {},
   "outputs": [
    {
     "data": {
      "text/html": [
       "<div>\n",
       "<style scoped>\n",
       "    .dataframe tbody tr th:only-of-type {\n",
       "        vertical-align: middle;\n",
       "    }\n",
       "\n",
       "    .dataframe tbody tr th {\n",
       "        vertical-align: top;\n",
       "    }\n",
       "\n",
       "    .dataframe thead th {\n",
       "        text-align: right;\n",
       "    }\n",
       "</style>\n",
       "<table border=\"1\" class=\"dataframe\">\n",
       "  <thead>\n",
       "    <tr style=\"text-align: right;\">\n",
       "      <th></th>\n",
       "      <th>Material</th>\n",
       "      <th>AVG_Time</th>\n",
       "      <th>AVG_Colisions</th>\n",
       "    </tr>\n",
       "  </thead>\n",
       "  <tbody>\n",
       "    <tr>\n",
       "      <th>0</th>\n",
       "      <td>Heavy Plexiglass</td>\n",
       "      <td>6.268212e-06</td>\n",
       "      <td>35.908333</td>\n",
       "    </tr>\n",
       "    <tr>\n",
       "      <th>1</th>\n",
       "      <td>Heavy Water</td>\n",
       "      <td>7.811705e-06</td>\n",
       "      <td>28.513333</td>\n",
       "    </tr>\n",
       "    <tr>\n",
       "      <th>2</th>\n",
       "      <td>Water</td>\n",
       "      <td>6.787573e-07</td>\n",
       "      <td>15.643333</td>\n",
       "    </tr>\n",
       "  </tbody>\n",
       "</table>\n",
       "</div>"
      ],
      "text/plain": [
       "           Material      AVG_Time  AVG_Colisions\n",
       "0  Heavy Plexiglass  6.268212e-06      35.908333\n",
       "1       Heavy Water  7.811705e-06      28.513333\n",
       "2             Water  6.787573e-07      15.643333"
      ]
     },
     "execution_count": 35,
     "metadata": {},
     "output_type": "execute_result"
    }
   ],
   "source": [
    "conn = sqlite3.connect('data/neutron_moderation_SQLite.db')\n",
    "c = conn.cursor()\n",
    "\n",
    "query = '''\n",
    "SELECT [Material],\n",
    "\tAVG([Time]) as AVG_Time,\n",
    "\tAVG([Colisions]) as AVG_Colisions\n",
    "FROM Output_data\n",
    "GROUP BY [Material]\n",
    "ORDER BY AVG_Colisions DESC\n",
    "'''\n",
    "\n",
    "Query_from_SQLite = pd.read_sql(query, conn)\n",
    "Query_from_SQLite"
   ]
  },
  {
   "cell_type": "code",
   "execution_count": 36,
   "metadata": {},
   "outputs": [],
   "source": [
    "c.close()\n",
    "conn.close()"
   ]
  },
  {
   "cell_type": "markdown",
   "metadata": {},
   "source": [
    "### 2.2.3 Query MySQL"
   ]
  },
  {
   "cell_type": "code",
   "execution_count": null,
   "metadata": {},
   "outputs": [],
   "source": []
  },
  {
   "cell_type": "markdown",
   "metadata": {},
   "source": [
    "### 2.2.4 Query MS SQL Server"
   ]
  },
  {
   "cell_type": "code",
   "execution_count": 37,
   "metadata": {},
   "outputs": [
    {
     "data": {
      "text/html": [
       "<div>\n",
       "<style scoped>\n",
       "    .dataframe tbody tr th:only-of-type {\n",
       "        vertical-align: middle;\n",
       "    }\n",
       "\n",
       "    .dataframe tbody tr th {\n",
       "        vertical-align: top;\n",
       "    }\n",
       "\n",
       "    .dataframe thead th {\n",
       "        text-align: right;\n",
       "    }\n",
       "</style>\n",
       "<table border=\"1\" class=\"dataframe\">\n",
       "  <thead>\n",
       "    <tr style=\"text-align: right;\">\n",
       "      <th></th>\n",
       "      <th>Material</th>\n",
       "      <th>AVG_Time</th>\n",
       "      <th>AVG_Colisions</th>\n",
       "    </tr>\n",
       "  </thead>\n",
       "  <tbody>\n",
       "    <tr>\n",
       "      <th>0</th>\n",
       "      <td>Heavy Plexiglass</td>\n",
       "      <td>6.268212e-06</td>\n",
       "      <td>35</td>\n",
       "    </tr>\n",
       "    <tr>\n",
       "      <th>1</th>\n",
       "      <td>Heavy Water</td>\n",
       "      <td>7.811705e-06</td>\n",
       "      <td>28</td>\n",
       "    </tr>\n",
       "    <tr>\n",
       "      <th>2</th>\n",
       "      <td>Water</td>\n",
       "      <td>6.787573e-07</td>\n",
       "      <td>15</td>\n",
       "    </tr>\n",
       "  </tbody>\n",
       "</table>\n",
       "</div>"
      ],
      "text/plain": [
       "           Material      AVG_Time  AVG_Colisions\n",
       "0  Heavy Plexiglass  6.268212e-06             35\n",
       "1       Heavy Water  7.811705e-06             28\n",
       "2             Water  6.787573e-07             15"
      ]
     },
     "execution_count": 37,
     "metadata": {},
     "output_type": "execute_result"
    }
   ],
   "source": [
    "cnxn = pyodbc.connect('DRIVER={SQL Server};SERVER='+server+';DATABASE='+database+';UID='+username+';PWD='+ password)\n",
    "cursor = cnxn.cursor()\n",
    "\n",
    "query = '''\n",
    "SELECT [Material],\n",
    "\tAVG([Time]) as AVG_Time,\n",
    "\tAVG([Colisions]) as AVG_Colisions\n",
    "FROM Output_data\n",
    "GROUP BY [Material]\n",
    "ORDER BY AVG_Colisions DESC\n",
    "'''\n",
    "Query_from_MS_SQL_Server = pd.read_sql(query, cnxn)\n",
    "Query_from_MS_SQL_Server"
   ]
  },
  {
   "cell_type": "code",
   "execution_count": 38,
   "metadata": {},
   "outputs": [],
   "source": [
    "cursor.close()\n",
    "cnxn.close()"
   ]
  },
  {
   "cell_type": "markdown",
   "metadata": {},
   "source": [
    "Происходит округление, так как Colisions - это int в базе MS SQL Server, это мы задали сами. Отличается от Pandas и SQLite"
   ]
  },
  {
   "cell_type": "code",
   "execution_count": 39,
   "metadata": {},
   "outputs": [
    {
     "name": "stdout",
     "output_type": "stream",
     "text": [
      "<class 'pandas.core.frame.DataFrame'>\n",
      "RangeIndex: 1800 entries, 0 to 1799\n",
      "Data columns (total 4 columns):\n",
      " #   Column     Non-Null Count  Dtype  \n",
      "---  ------     --------------  -----  \n",
      " 0   Time       1800 non-null   float64\n",
      " 1   Colisions  1800 non-null   float64\n",
      " 2   Material   1800 non-null   object \n",
      " 3   Target     1800 non-null   float64\n",
      "dtypes: float64(3), object(1)\n",
      "memory usage: 56.4+ KB\n"
     ]
    }
   ],
   "source": [
    "df1.info()"
   ]
  },
  {
   "cell_type": "markdown",
   "metadata": {},
   "source": [
    "## 2.3 Subquery"
   ]
  },
  {
   "cell_type": "markdown",
   "metadata": {},
   "source": [
    "### 2.3.1 Subquery Pandas"
   ]
  },
  {
   "cell_type": "code",
   "execution_count": 40,
   "metadata": {},
   "outputs": [
    {
     "data": {
      "text/html": [
       "<div>\n",
       "<style scoped>\n",
       "    .dataframe tbody tr th:only-of-type {\n",
       "        vertical-align: middle;\n",
       "    }\n",
       "\n",
       "    .dataframe tbody tr th {\n",
       "        vertical-align: top;\n",
       "    }\n",
       "\n",
       "    .dataframe thead th {\n",
       "        text-align: right;\n",
       "    }\n",
       "</style>\n",
       "<table border=\"1\" class=\"dataframe\">\n",
       "  <thead>\n",
       "    <tr style=\"text-align: right;\">\n",
       "      <th></th>\n",
       "      <th>Time</th>\n",
       "      <th>Colisions</th>\n",
       "    </tr>\n",
       "    <tr>\n",
       "      <th>Material</th>\n",
       "      <th></th>\n",
       "      <th></th>\n",
       "    </tr>\n",
       "  </thead>\n",
       "  <tbody>\n",
       "    <tr>\n",
       "      <th>Heavy Plexiglass</th>\n",
       "      <td>0.000006</td>\n",
       "      <td>35.908333</td>\n",
       "    </tr>\n",
       "    <tr>\n",
       "      <th>Heavy Water</th>\n",
       "      <td>0.000008</td>\n",
       "      <td>28.513333</td>\n",
       "    </tr>\n",
       "  </tbody>\n",
       "</table>\n",
       "</div>"
      ],
      "text/plain": [
       "                      Time  Colisions\n",
       "Material                             \n",
       "Heavy Plexiglass  0.000006  35.908333\n",
       "Heavy Water       0.000008  28.513333"
      ]
     },
     "execution_count": 40,
     "metadata": {},
     "output_type": "execute_result"
    }
   ],
   "source": [
    "df_subquery = df1.groupby(by=[\"Material\"]).mean()[['Time', 'Colisions']]\n",
    "df_subquery = df_subquery.loc[df_subquery['Colisions'] > 20]\n",
    "df_subquery"
   ]
  },
  {
   "cell_type": "markdown",
   "metadata": {},
   "source": [
    "### 2.3.2 Subquery SQLite"
   ]
  },
  {
   "cell_type": "code",
   "execution_count": 41,
   "metadata": {},
   "outputs": [
    {
     "data": {
      "text/html": [
       "<div>\n",
       "<style scoped>\n",
       "    .dataframe tbody tr th:only-of-type {\n",
       "        vertical-align: middle;\n",
       "    }\n",
       "\n",
       "    .dataframe tbody tr th {\n",
       "        vertical-align: top;\n",
       "    }\n",
       "\n",
       "    .dataframe thead th {\n",
       "        text-align: right;\n",
       "    }\n",
       "</style>\n",
       "<table border=\"1\" class=\"dataframe\">\n",
       "  <thead>\n",
       "    <tr style=\"text-align: right;\">\n",
       "      <th></th>\n",
       "      <th>Material</th>\n",
       "      <th>AVG_Time</th>\n",
       "      <th>AVG_Colisions</th>\n",
       "    </tr>\n",
       "  </thead>\n",
       "  <tbody>\n",
       "    <tr>\n",
       "      <th>0</th>\n",
       "      <td>Heavy Plexiglass</td>\n",
       "      <td>0.000006</td>\n",
       "      <td>35.908333</td>\n",
       "    </tr>\n",
       "    <tr>\n",
       "      <th>1</th>\n",
       "      <td>Heavy Water</td>\n",
       "      <td>0.000008</td>\n",
       "      <td>28.513333</td>\n",
       "    </tr>\n",
       "  </tbody>\n",
       "</table>\n",
       "</div>"
      ],
      "text/plain": [
       "           Material  AVG_Time  AVG_Colisions\n",
       "0  Heavy Plexiglass  0.000006      35.908333\n",
       "1       Heavy Water  0.000008      28.513333"
      ]
     },
     "execution_count": 41,
     "metadata": {},
     "output_type": "execute_result"
    }
   ],
   "source": [
    "conn = sqlite3.connect('data/neutron_moderation_SQLite.db')\n",
    "c = conn.cursor()\n",
    "\n",
    "query = '''\n",
    "SELECT *\n",
    "FROM (\n",
    "    SELECT [Material],\n",
    "\tAVG([Time]) as [AVG_Time],\n",
    "\tAVG([Colisions]) as [AVG_Colisions]\n",
    "    FROM [Output_data]\n",
    "    GROUP BY [Material]) as q1\n",
    "WHERE [AVG_Colisions] > 20\n",
    "'''\n",
    "\n",
    "Query_from_SQLite = pd.read_sql(query, conn)\n",
    "Query_from_SQLite"
   ]
  },
  {
   "cell_type": "code",
   "execution_count": 42,
   "metadata": {},
   "outputs": [],
   "source": [
    "c.close()\n",
    "conn.close()"
   ]
  },
  {
   "cell_type": "markdown",
   "metadata": {},
   "source": [
    "### 2.3.3 Subquery MySQL"
   ]
  },
  {
   "cell_type": "code",
   "execution_count": null,
   "metadata": {},
   "outputs": [],
   "source": []
  },
  {
   "cell_type": "markdown",
   "metadata": {},
   "source": [
    "### 2.3.4 Subquery MS SQL Server"
   ]
  },
  {
   "cell_type": "code",
   "execution_count": 43,
   "metadata": {},
   "outputs": [
    {
     "data": {
      "text/html": [
       "<div>\n",
       "<style scoped>\n",
       "    .dataframe tbody tr th:only-of-type {\n",
       "        vertical-align: middle;\n",
       "    }\n",
       "\n",
       "    .dataframe tbody tr th {\n",
       "        vertical-align: top;\n",
       "    }\n",
       "\n",
       "    .dataframe thead th {\n",
       "        text-align: right;\n",
       "    }\n",
       "</style>\n",
       "<table border=\"1\" class=\"dataframe\">\n",
       "  <thead>\n",
       "    <tr style=\"text-align: right;\">\n",
       "      <th></th>\n",
       "      <th>Material</th>\n",
       "      <th>AVG_Time</th>\n",
       "      <th>AVG_Colisions</th>\n",
       "    </tr>\n",
       "  </thead>\n",
       "  <tbody>\n",
       "    <tr>\n",
       "      <th>0</th>\n",
       "      <td>Heavy Plexiglass</td>\n",
       "      <td>0.000006</td>\n",
       "      <td>35</td>\n",
       "    </tr>\n",
       "    <tr>\n",
       "      <th>1</th>\n",
       "      <td>Heavy Water</td>\n",
       "      <td>0.000008</td>\n",
       "      <td>28</td>\n",
       "    </tr>\n",
       "  </tbody>\n",
       "</table>\n",
       "</div>"
      ],
      "text/plain": [
       "           Material  AVG_Time  AVG_Colisions\n",
       "0  Heavy Plexiglass  0.000006             35\n",
       "1       Heavy Water  0.000008             28"
      ]
     },
     "execution_count": 43,
     "metadata": {},
     "output_type": "execute_result"
    }
   ],
   "source": [
    "cnxn = pyodbc.connect('DRIVER={SQL Server};SERVER='+server+';DATABASE='+database+';UID='+username+';PWD='+ password)\n",
    "cursor = cnxn.cursor()\n",
    "\n",
    "query = '''\n",
    "SELECT *\n",
    "FROM (\n",
    "    SELECT [Material],\n",
    "\tAVG([Time]) as [AVG_Time],\n",
    "\tAVG([Colisions]) as [AVG_Colisions]\n",
    "    FROM [Output_data]\n",
    "    GROUP BY [Material]) as q1\n",
    "WHERE [AVG_Colisions] > 20\n",
    "'''\n",
    "Query_from_MS_SQL_Server = pd.read_sql(query, cnxn)\n",
    "Query_from_MS_SQL_Server"
   ]
  },
  {
   "cell_type": "markdown",
   "metadata": {},
   "source": [
    "## 2.4 Join and CTE"
   ]
  },
  {
   "cell_type": "markdown",
   "metadata": {},
   "source": [
    "### 2.4.1 Join and CTE Pandas"
   ]
  },
  {
   "cell_type": "code",
   "execution_count": 44,
   "metadata": {},
   "outputs": [
    {
     "data": {
      "text/html": [
       "<div>\n",
       "<style scoped>\n",
       "    .dataframe tbody tr th:only-of-type {\n",
       "        vertical-align: middle;\n",
       "    }\n",
       "\n",
       "    .dataframe tbody tr th {\n",
       "        vertical-align: top;\n",
       "    }\n",
       "\n",
       "    .dataframe thead th {\n",
       "        text-align: right;\n",
       "    }\n",
       "</style>\n",
       "<table border=\"1\" class=\"dataframe\">\n",
       "  <thead>\n",
       "    <tr style=\"text-align: right;\">\n",
       "      <th></th>\n",
       "      <th>Material</th>\n",
       "      <th>Time</th>\n",
       "      <th>Colisions</th>\n",
       "    </tr>\n",
       "  </thead>\n",
       "  <tbody>\n",
       "    <tr>\n",
       "      <th>0</th>\n",
       "      <td>Water</td>\n",
       "      <td>6.013426e-07</td>\n",
       "      <td>18.0</td>\n",
       "    </tr>\n",
       "    <tr>\n",
       "      <th>1</th>\n",
       "      <td>Water</td>\n",
       "      <td>1.526499e-07</td>\n",
       "      <td>11.0</td>\n",
       "    </tr>\n",
       "    <tr>\n",
       "      <th>2</th>\n",
       "      <td>Water</td>\n",
       "      <td>5.879935e-07</td>\n",
       "      <td>17.0</td>\n",
       "    </tr>\n",
       "    <tr>\n",
       "      <th>3</th>\n",
       "      <td>Water</td>\n",
       "      <td>4.702673e-07</td>\n",
       "      <td>14.0</td>\n",
       "    </tr>\n",
       "    <tr>\n",
       "      <th>4</th>\n",
       "      <td>Water</td>\n",
       "      <td>1.814087e-07</td>\n",
       "      <td>10.0</td>\n",
       "    </tr>\n",
       "    <tr>\n",
       "      <th>...</th>\n",
       "      <td>...</td>\n",
       "      <td>...</td>\n",
       "      <td>...</td>\n",
       "    </tr>\n",
       "    <tr>\n",
       "      <th>1795</th>\n",
       "      <td>Heavy Water</td>\n",
       "      <td>1.073471e-05</td>\n",
       "      <td>37.0</td>\n",
       "    </tr>\n",
       "    <tr>\n",
       "      <th>1796</th>\n",
       "      <td>Heavy Water</td>\n",
       "      <td>4.577775e-06</td>\n",
       "      <td>28.0</td>\n",
       "    </tr>\n",
       "    <tr>\n",
       "      <th>1797</th>\n",
       "      <td>Heavy Water</td>\n",
       "      <td>1.017680e-05</td>\n",
       "      <td>35.0</td>\n",
       "    </tr>\n",
       "    <tr>\n",
       "      <th>1798</th>\n",
       "      <td>Heavy Water</td>\n",
       "      <td>5.321271e-06</td>\n",
       "      <td>29.0</td>\n",
       "    </tr>\n",
       "    <tr>\n",
       "      <th>1799</th>\n",
       "      <td>Heavy Water</td>\n",
       "      <td>3.938338e-06</td>\n",
       "      <td>27.0</td>\n",
       "    </tr>\n",
       "  </tbody>\n",
       "</table>\n",
       "<p>1200 rows × 3 columns</p>\n",
       "</div>"
      ],
      "text/plain": [
       "         Material          Time  Colisions\n",
       "0           Water  6.013426e-07       18.0\n",
       "1           Water  1.526499e-07       11.0\n",
       "2           Water  5.879935e-07       17.0\n",
       "3           Water  4.702673e-07       14.0\n",
       "4           Water  1.814087e-07       10.0\n",
       "...           ...           ...        ...\n",
       "1795  Heavy Water  1.073471e-05       37.0\n",
       "1796  Heavy Water  4.577775e-06       28.0\n",
       "1797  Heavy Water  1.017680e-05       35.0\n",
       "1798  Heavy Water  5.321271e-06       29.0\n",
       "1799  Heavy Water  3.938338e-06       27.0\n",
       "\n",
       "[1200 rows x 3 columns]"
      ]
     },
     "execution_count": 44,
     "metadata": {},
     "output_type": "execute_result"
    }
   ],
   "source": [
    "CTE = pd.merge(df, df1, how='left', on='Material')\n",
    "CTE = CTE[['Material', 'Time', 'Colisions']]\n",
    "CTE = CTE[CTE.Material.isin(['Water', 'Heavy Water'])]\n",
    "CTE"
   ]
  },
  {
   "cell_type": "markdown",
   "metadata": {},
   "source": [
    "### 2.4.2 Join and CTE SQLite"
   ]
  },
  {
   "cell_type": "code",
   "execution_count": null,
   "metadata": {},
   "outputs": [],
   "source": []
  },
  {
   "cell_type": "markdown",
   "metadata": {},
   "source": [
    "### 2.4.2 Join and CTE MySQL"
   ]
  },
  {
   "cell_type": "code",
   "execution_count": null,
   "metadata": {},
   "outputs": [],
   "source": []
  },
  {
   "cell_type": "markdown",
   "metadata": {},
   "source": [
    "### 2.4.3 Join and CTE MS SQLServer"
   ]
  },
  {
   "cell_type": "code",
   "execution_count": null,
   "metadata": {},
   "outputs": [],
   "source": []
  }
 ],
 "metadata": {
  "kernelspec": {
   "display_name": "Python 3",
   "language": "python",
   "name": "python3"
  },
  "language_info": {
   "codemirror_mode": {
    "name": "ipython",
    "version": 3
   },
   "file_extension": ".py",
   "mimetype": "text/x-python",
   "name": "python",
   "nbconvert_exporter": "python",
   "pygments_lexer": "ipython3",
   "version": "3.8.3"
  }
 },
 "nbformat": 4,
 "nbformat_minor": 4
}
