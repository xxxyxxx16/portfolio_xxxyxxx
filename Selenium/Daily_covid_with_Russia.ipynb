{
 "cells": [
  {
   "cell_type": "markdown",
   "metadata": {},
   "source": [
    "Для корректной работы необходимо ввести свой логин и пароль от аккаунта Яндекс"
   ]
  },
  {
   "cell_type": "code",
   "execution_count": 1,
   "metadata": {},
   "outputs": [],
   "source": [
    "import selenium"
   ]
  },
  {
   "cell_type": "code",
   "execution_count": 2,
   "metadata": {},
   "outputs": [],
   "source": [
    "#Проверка расположения драйвера\n",
    "#Подключаем модуль\n",
    "import os\n",
    "\n",
    "#Каталог из которого будем брать файлы\n",
    "directory = 'C:\\\\Users\\\\Ivan\\\\Chrome'\n",
    "\n",
    "#Получаем список файлов в переменную files\n",
    "files = os.listdir(directory)\n",
    "#files"
   ]
  },
  {
   "cell_type": "code",
   "execution_count": 3,
   "metadata": {
    "scrolled": true
   },
   "outputs": [],
   "source": [
    "# Using Chrome to access web\n",
    "\n",
    "from selenium import webdriver\n",
    "driver = webdriver.Chrome('C:\\\\Users\\\\Ivan\\\\Chrome\\\\chromedriver.exe')\n",
    "# Open the website\n",
    "driver.get('https://datalens.yandex.ru/')"
   ]
  },
  {
   "cell_type": "code",
   "execution_count": 4,
   "metadata": {},
   "outputs": [],
   "source": [
    "import time\n",
    "t=5\n",
    "time.sleep(t)\n",
    "# Select the id box\n",
    "id_box = driver.find_element_by_name('login')\n",
    "\n",
    "# Send id information\n",
    "id_box.send_keys('Введи свой логин')"
   ]
  },
  {
   "cell_type": "code",
   "execution_count": 5,
   "metadata": {},
   "outputs": [],
   "source": [
    "time.sleep(t)\n",
    "# Нажать кнопку войти\n",
    "\n",
    "class_select = driver.find_element_by_class_name('passp-route.passp-route-enter-done')\n",
    "class_select.click()"
   ]
  },
  {
   "cell_type": "code",
   "execution_count": 6,
   "metadata": {},
   "outputs": [],
   "source": [
    "time.sleep(t)\n",
    "# Select the id box\n",
    "id_box = driver.find_element_by_name('passwd')\n",
    "\n",
    "# Send id information\n",
    "id_box.send_keys('Введи свой пароль')"
   ]
  },
  {
   "cell_type": "code",
   "execution_count": 7,
   "metadata": {},
   "outputs": [],
   "source": [
    "time.sleep(t)\n",
    "# Нажать кнопку войти\n",
    "\n",
    "class_select = driver.find_element_by_class_name('Button2.Button2_size_l.Button2_view_action.Button2_width_max.Button2_type_submit')\n",
    "class_select.click()"
   ]
  },
  {
   "cell_type": "code",
   "execution_count": 8,
   "metadata": {},
   "outputs": [],
   "source": [
    "t=5\n",
    "time.sleep(t)\n",
    "# Стрелка вниз для выбора каталога или кнопка \"Выберите каталог\"\n",
    "\n",
    "class_select = driver.find_element_by_class_name('yc-arrow-toggle.yc-arrow-toggle_direction_bottom.cc-cloud-folder-select__arrow')\n",
    "class_select.click()"
   ]
  },
  {
   "cell_type": "code",
   "execution_count": 9,
   "metadata": {},
   "outputs": [],
   "source": [
    "t = 5\n",
    "time.sleep(t)\n",
    "class_select = driver.find_element_by_class_name('cc-cloud-folder-select__content-item.cc-cloud-folder-select__content-item_type_folder')\n",
    "class_select.click()"
   ]
  },
  {
   "cell_type": "code",
   "execution_count": 10,
   "metadata": {},
   "outputs": [],
   "source": [
    "time.sleep(t)\n",
    "# Щелчок по кнопке Дашборды\n",
    "class_select = driver.find_element_by_link_text('Дашборды')\n",
    "class_select.click()"
   ]
  },
  {
   "cell_type": "code",
   "execution_count": 11,
   "metadata": {},
   "outputs": [],
   "source": [
    "time.sleep(t)\n",
    "# Щелчок по кнопке \"Коронавирус: данные для экспорта\"\n",
    "class_select = driver.find_element_by_class_name('dl-core-navigation-table-view__name')\n",
    "class_select.click()"
   ]
  },
  {
   "cell_type": "code",
   "execution_count": 12,
   "metadata": {},
   "outputs": [],
   "source": [
    "time.sleep(t)\n",
    "# Щелчок по кнопке \"Россия\"\n",
    "class_select = driver.find_element_by_link_text('Россия')\n",
    "class_select.click()"
   ]
  },
  {
   "cell_type": "code",
   "execution_count": 13,
   "metadata": {},
   "outputs": [],
   "source": [
    "time.sleep(t)\n",
    "# Щелчок по трем точкам\n",
    "\n",
    "class_select = driver.find_element_by_class_name(\"control.button2.button2_view_default.button2_tone_default.button2_size_s.button2_theme_clear\")\n",
    "class_select.click()"
   ]
  },
  {
   "cell_type": "code",
   "execution_count": 14,
   "metadata": {},
   "outputs": [],
   "source": [
    "time.sleep(t)\n",
    "# Щелчок по кнопке \"Экспорт данных\"\n",
    "\n",
    "class_select = driver.find_element_by_class_name(\"chartkit-menu__item\")\n",
    "class_select.click()"
   ]
  },
  {
   "cell_type": "code",
   "execution_count": 15,
   "metadata": {},
   "outputs": [],
   "source": [
    "time.sleep(t)\n",
    "# Щелчок по кнопке \"XLSX\"\n",
    "\n",
    "class_select = driver.find_element_by_class_name(\"control.radiobox__radio.radio-button__radio\")\n",
    "class_select.click()"
   ]
  },
  {
   "cell_type": "code",
   "execution_count": 16,
   "metadata": {},
   "outputs": [],
   "source": [
    "time.sleep(t)\n",
    "# Щелчок по кнопке \"Скачать\"\n",
    "\n",
    "class_select = driver.find_element_by_class_name(\"control.button2.button2_view_default.button2_tone_default.button2_size_m.button2_theme_action.button2_width_max\")\n",
    "class_select.click()"
   ]
  },
  {
   "cell_type": "code",
   "execution_count": 18,
   "metadata": {},
   "outputs": [],
   "source": [
    "#Поиск последнего созданного файла в директории\n",
    "\n",
    "time.sleep(t)\n",
    "directory = 'C:\\\\Users\\\\Ivan\\\\Downloads'\n",
    "\n",
    "def newest(path):\n",
    "    files = os.listdir(path)\n",
    "    paths = [os.path.join(path, basename) for basename in files]\n",
    "    return max(paths, key=os.path.getctime)\n",
    "\n",
    "newest_file = newest(directory)\n",
    "#print(newest_file)"
   ]
  },
  {
   "cell_type": "code",
   "execution_count": 19,
   "metadata": {},
   "outputs": [],
   "source": [
    "import pandas as pd\n",
    "\n",
    "df = pd.read_excel(newest_file)"
   ]
  },
  {
   "cell_type": "code",
   "execution_count": 20,
   "metadata": {},
   "outputs": [],
   "source": [
    "import numpy as np\n",
    "table = pd.pivot_table(df, values=['Заражений',\n",
    "                                   'Выздоровлений',\n",
    "                                   'Смертей',\n",
    "                                   'Смертей за день',\n",
    "                                   'Заражений за день',\n",
    "                                   'Выздоровлений за день'],\n",
    "                       index=['Дата'],\n",
    "                       aggfunc=np.sum)\n",
    "\n",
    "table['Регион'] = 'Россия'"
   ]
  },
  {
   "cell_type": "code",
   "execution_count": 21,
   "metadata": {},
   "outputs": [],
   "source": [
    "table['Дата'] = table.index\n",
    "#table['Дата'] = pd.to_datetime(table['Дата'])"
   ]
  },
  {
   "cell_type": "code",
   "execution_count": 22,
   "metadata": {
    "scrolled": false
   },
   "outputs": [],
   "source": [
    "new_df = pd.concat([df, table])\n",
    "directory = 'C:\\\\Users\\\\Ivan\\\\Downloads'"
   ]
  },
  {
   "cell_type": "code",
   "execution_count": 23,
   "metadata": {},
   "outputs": [],
   "source": [
    "import datetime\n",
    "now = datetime.datetime.now()\n",
    "#file_name = directory + '\\\\with_Russia_stat_' + str(now.year) + '_' + str(now.month) + '_' + str(now.day) + '.xlsx'\n",
    "#new_df.to_excel(file_name, index = False)"
   ]
  },
  {
   "cell_type": "code",
   "execution_count": 24,
   "metadata": {},
   "outputs": [],
   "source": [
    "file_name = directory + '\\\\with_Russia_stat_' + str(now.year) + '_' + str(now.month) + '_' + str(now.day) + '.csv'\n",
    "new_df.to_csv(file_name, index = False, encoding='cp1251')"
   ]
  }
 ],
 "metadata": {
  "kernelspec": {
   "display_name": "Python 3",
   "language": "python",
   "name": "python3"
  },
  "language_info": {
   "codemirror_mode": {
    "name": "ipython",
    "version": 3
   },
   "file_extension": ".py",
   "mimetype": "text/x-python",
   "name": "python",
   "nbconvert_exporter": "python",
   "pygments_lexer": "ipython3",
   "version": "3.8.3"
  }
 },
 "nbformat": 4,
 "nbformat_minor": 4
}
